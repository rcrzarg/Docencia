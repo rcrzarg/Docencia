{
 "cells": [
  {
   "cell_type": "markdown",
   "id": "f0dc25a0",
   "metadata": {},
   "source": [
    "# Introducción a la Programación para Ciencia de Datos\n",
    "## Lenguaje de programación R\n",
    "_Rocío Romero Zaliz_ - rocio@decsai.ugr.es"
   ]
  },
  {
   "cell_type": "markdown",
   "id": "6032a119",
   "metadata": {},
   "source": [
    "# Tipos de datos básicos\n",
    "\n",
    "* numeric / integer\n",
    "* logical\n",
    "* complex\n",
    "* character"
   ]
  },
  {
   "cell_type": "code",
   "execution_count": null,
   "id": "cbcc8f7c",
   "metadata": {
    "vscode": {
     "languageId": "r"
    }
   },
   "outputs": [],
   "source": [
    "1"
   ]
  },
  {
   "cell_type": "code",
   "execution_count": null,
   "id": "b31424e2",
   "metadata": {
    "vscode": {
     "languageId": "r"
    }
   },
   "outputs": [],
   "source": [
    "print(1)"
   ]
  },
  {
   "cell_type": "code",
   "execution_count": null,
   "id": "06a4d86a",
   "metadata": {
    "vscode": {
     "languageId": "r"
    }
   },
   "outputs": [],
   "source": [
    "class(1)"
   ]
  },
  {
   "cell_type": "code",
   "execution_count": null,
   "id": "618e5724",
   "metadata": {
    "vscode": {
     "languageId": "r"
    }
   },
   "outputs": [],
   "source": [
    "class(1.5)"
   ]
  },
  {
   "cell_type": "code",
   "execution_count": null,
   "id": "3b638de8",
   "metadata": {
    "vscode": {
     "languageId": "r"
    }
   },
   "outputs": [],
   "source": [
    "class(-3.78)"
   ]
  },
  {
   "cell_type": "code",
   "execution_count": null,
   "id": "8e417ebe",
   "metadata": {
    "vscode": {
     "languageId": "r"
    }
   },
   "outputs": [],
   "source": [
    "TRUE"
   ]
  },
  {
   "cell_type": "code",
   "execution_count": null,
   "id": "3b2c4ecf",
   "metadata": {
    "vscode": {
     "languageId": "r"
    }
   },
   "outputs": [],
   "source": [
    "class(TRUE)"
   ]
  },
  {
   "cell_type": "code",
   "execution_count": null,
   "id": "e38d464e",
   "metadata": {
    "vscode": {
     "languageId": "r"
    }
   },
   "outputs": [],
   "source": [
    "class(FALSE)"
   ]
  },
  {
   "cell_type": "code",
   "execution_count": null,
   "id": "8e7970ba",
   "metadata": {
    "vscode": {
     "languageId": "r"
    }
   },
   "outputs": [],
   "source": [
    "class(TRUE)\n",
    "T <- 9\n",
    "class(T)"
   ]
  },
  {
   "cell_type": "code",
   "execution_count": null,
   "id": "2ab197dd",
   "metadata": {
    "vscode": {
     "languageId": "r"
    }
   },
   "outputs": [],
   "source": [
    "print(4 + 1.2i)"
   ]
  },
  {
   "cell_type": "code",
   "execution_count": null,
   "id": "24175b97",
   "metadata": {
    "vscode": {
     "languageId": "r"
    }
   },
   "outputs": [],
   "source": [
    "class(4 + 1.2i)"
   ]
  },
  {
   "cell_type": "code",
   "execution_count": null,
   "id": "8dc65644",
   "metadata": {
    "vscode": {
     "languageId": "r"
    }
   },
   "outputs": [],
   "source": [
    "print(\"a\")"
   ]
  },
  {
   "cell_type": "code",
   "execution_count": null,
   "id": "58c5e0dd",
   "metadata": {
    "vscode": {
     "languageId": "r"
    }
   },
   "outputs": [],
   "source": [
    "class(\"a\")"
   ]
  },
  {
   "cell_type": "code",
   "execution_count": null,
   "id": "87c4af80",
   "metadata": {
    "vscode": {
     "languageId": "r"
    }
   },
   "outputs": [],
   "source": [
    "class(\"hola\")"
   ]
  },
  {
   "cell_type": "code",
   "execution_count": null,
   "id": "098f154b",
   "metadata": {
    "vscode": {
     "languageId": "r"
    }
   },
   "outputs": [],
   "source": [
    "class(\"adios\") # Recomendado"
   ]
  },
  {
   "cell_type": "code",
   "execution_count": null,
   "id": "20d4a5dd",
   "metadata": {
    "vscode": {
     "languageId": "r"
    }
   },
   "outputs": [],
   "source": [
    "class('adios') # No recomendado"
   ]
  },
  {
   "cell_type": "code",
   "execution_count": null,
   "id": "ebfd39ce",
   "metadata": {
    "vscode": {
     "languageId": "r"
    }
   },
   "outputs": [],
   "source": [
    "\"hola\" y \"adios\" # Error"
   ]
  },
  {
   "cell_type": "code",
   "execution_count": null,
   "id": "f6e5cc9b",
   "metadata": {
    "vscode": {
     "languageId": "r"
    }
   },
   "outputs": [],
   "source": [
    "\"\"hola\" y \"adios\"\" # Error"
   ]
  },
  {
   "cell_type": "code",
   "execution_count": null,
   "id": "0c41610d",
   "metadata": {
    "vscode": {
     "languageId": "r"
    }
   },
   "outputs": [],
   "source": [
    "'\"hola\" y \"adios\"' # Para este tipo de cosas se usan las comillas simples"
   ]
  },
  {
   "cell_type": "code",
   "execution_count": null,
   "id": "ab0ff21a",
   "metadata": {
    "vscode": {
     "languageId": "r"
    }
   },
   "outputs": [],
   "source": [
    "1 / 0"
   ]
  },
  {
   "cell_type": "code",
   "execution_count": null,
   "id": "bba407d1",
   "metadata": {
    "vscode": {
     "languageId": "r"
    }
   },
   "outputs": [],
   "source": [
    "1 / Inf"
   ]
  },
  {
   "cell_type": "code",
   "execution_count": null,
   "id": "1fe292f0",
   "metadata": {
    "vscode": {
     "languageId": "r"
    }
   },
   "outputs": [],
   "source": [
    "0 / 0"
   ]
  },
  {
   "cell_type": "code",
   "execution_count": null,
   "id": "1d01dbf2",
   "metadata": {
    "vscode": {
     "languageId": "r"
    }
   },
   "outputs": [],
   "source": [
    "print(NULL)"
   ]
  },
  {
   "cell_type": "code",
   "execution_count": null,
   "id": "4c9e1755",
   "metadata": {
    "vscode": {
     "languageId": "r"
    }
   },
   "outputs": [],
   "source": [
    "?NULL"
   ]
  },
  {
   "cell_type": "code",
   "execution_count": null,
   "id": "90aee75e",
   "metadata": {
    "vscode": {
     "languageId": "r"
    }
   },
   "outputs": [],
   "source": [
    "print(NA)"
   ]
  },
  {
   "cell_type": "code",
   "execution_count": null,
   "id": "897da433",
   "metadata": {
    "vscode": {
     "languageId": "r"
    }
   },
   "outputs": [],
   "source": [
    "?NA"
   ]
  },
  {
   "cell_type": "code",
   "execution_count": null,
   "id": "e6479e5a",
   "metadata": {
    "vscode": {
     "languageId": "r"
    }
   },
   "outputs": [],
   "source": [
    "NaN"
   ]
  },
  {
   "cell_type": "code",
   "execution_count": null,
   "id": "8df9f141",
   "metadata": {
    "vscode": {
     "languageId": "r"
    }
   },
   "outputs": [],
   "source": [
    "class(NaN)"
   ]
  },
  {
   "cell_type": "code",
   "execution_count": null,
   "id": "a7ef18ac",
   "metadata": {
    "vscode": {
     "languageId": "r"
    }
   },
   "outputs": [],
   "source": [
    "?NaN"
   ]
  },
  {
   "cell_type": "markdown",
   "id": "4cb1cd9b",
   "metadata": {},
   "source": [
    "# Operadores aritméticos"
   ]
  },
  {
   "cell_type": "code",
   "execution_count": null,
   "id": "61e32174",
   "metadata": {
    "vscode": {
     "languageId": "r"
    }
   },
   "outputs": [],
   "source": [
    "1 + 5"
   ]
  },
  {
   "cell_type": "code",
   "execution_count": null,
   "id": "63b1ff97",
   "metadata": {
    "vscode": {
     "languageId": "r"
    }
   },
   "outputs": [],
   "source": [
    "5 - 4"
   ]
  },
  {
   "cell_type": "code",
   "execution_count": null,
   "id": "6d94bdfe",
   "metadata": {
    "vscode": {
     "languageId": "r"
    }
   },
   "outputs": [],
   "source": [
    "3 * 2.1"
   ]
  },
  {
   "cell_type": "code",
   "execution_count": null,
   "id": "e770d4f1",
   "metadata": {
    "vscode": {
     "languageId": "r"
    }
   },
   "outputs": [],
   "source": [
    "7 / -4.3"
   ]
  },
  {
   "cell_type": "code",
   "execution_count": null,
   "id": "10d2b1b9",
   "metadata": {
    "vscode": {
     "languageId": "r"
    }
   },
   "outputs": [],
   "source": [
    "2 ^ 3"
   ]
  },
  {
   "cell_type": "code",
   "execution_count": null,
   "id": "ac401a64",
   "metadata": {
    "vscode": {
     "languageId": "r"
    }
   },
   "outputs": [],
   "source": [
    "2 ** -1/2 # Igual que ^"
   ]
  },
  {
   "cell_type": "code",
   "execution_count": null,
   "id": "70aebe0c",
   "metadata": {
    "vscode": {
     "languageId": "r"
    }
   },
   "outputs": [],
   "source": [
    "4 %% 3"
   ]
  },
  {
   "cell_type": "code",
   "execution_count": null,
   "id": "0e87589f",
   "metadata": {
    "vscode": {
     "languageId": "r"
    }
   },
   "outputs": [],
   "source": [
    "3 %/% 2"
   ]
  },
  {
   "cell_type": "markdown",
   "id": "b0885c79",
   "metadata": {},
   "source": [
    "# Operadores lógicos"
   ]
  },
  {
   "cell_type": "code",
   "execution_count": null,
   "id": "8010407b",
   "metadata": {
    "vscode": {
     "languageId": "r"
    }
   },
   "outputs": [],
   "source": [
    "print(1 < 9.5)"
   ]
  },
  {
   "cell_type": "code",
   "execution_count": null,
   "id": "a531158a",
   "metadata": {
    "vscode": {
     "languageId": "r"
    }
   },
   "outputs": [],
   "source": [
    "2.7 <= -5.3"
   ]
  },
  {
   "cell_type": "code",
   "execution_count": null,
   "id": "8e323913",
   "metadata": {
    "vscode": {
     "languageId": "r"
    }
   },
   "outputs": [],
   "source": [
    "4.9 > 2"
   ]
  },
  {
   "cell_type": "code",
   "execution_count": null,
   "id": "838f208e",
   "metadata": {
    "vscode": {
     "languageId": "r"
    }
   },
   "outputs": [],
   "source": [
    "4.9 >= 3"
   ]
  },
  {
   "cell_type": "code",
   "execution_count": null,
   "id": "55e7360c",
   "metadata": {
    "vscode": {
     "languageId": "r"
    }
   },
   "outputs": [],
   "source": [
    "5 == 5"
   ]
  },
  {
   "cell_type": "code",
   "execution_count": null,
   "id": "97409b4e",
   "metadata": {
    "vscode": {
     "languageId": "r"
    }
   },
   "outputs": [],
   "source": [
    "5 != 5"
   ]
  },
  {
   "cell_type": "code",
   "execution_count": null,
   "id": "d27ad470",
   "metadata": {
    "vscode": {
     "languageId": "r"
    }
   },
   "outputs": [],
   "source": [
    "!(5 == 5)"
   ]
  },
  {
   "cell_type": "code",
   "execution_count": null,
   "id": "a5675cc3",
   "metadata": {
    "vscode": {
     "languageId": "r"
    }
   },
   "outputs": [],
   "source": [
    "(5 == 5) | (5 != 5)"
   ]
  },
  {
   "cell_type": "code",
   "execution_count": null,
   "id": "ace5a61e",
   "metadata": {
    "vscode": {
     "languageId": "r"
    }
   },
   "outputs": [],
   "source": [
    "(5 == 5) & (5 != 5)"
   ]
  },
  {
   "cell_type": "code",
   "execution_count": null,
   "id": "57c56917",
   "metadata": {
    "vscode": {
     "languageId": "r"
    }
   },
   "outputs": [],
   "source": [
    "1 == TRUE"
   ]
  },
  {
   "cell_type": "code",
   "execution_count": null,
   "id": "3cf91701",
   "metadata": {
    "vscode": {
     "languageId": "r"
    }
   },
   "outputs": [],
   "source": [
    "0 == FALSE"
   ]
  },
  {
   "cell_type": "code",
   "execution_count": null,
   "id": "6ad1a6c4",
   "metadata": {
    "vscode": {
     "languageId": "r"
    }
   },
   "outputs": [],
   "source": [
    "7 == TRUE"
   ]
  },
  {
   "cell_type": "code",
   "execution_count": null,
   "id": "336f7998-e40c-4cb2-a120-50ea5120f3fe",
   "metadata": {
    "vscode": {
     "languageId": "r"
    }
   },
   "outputs": [],
   "source": [
    "as.logical(7) # WTF?"
   ]
  },
  {
   "cell_type": "markdown",
   "id": "f9084901",
   "metadata": {},
   "source": [
    "# Vectores\n",
    "La funcion `c()` se usa para crear vectores"
   ]
  },
  {
   "cell_type": "code",
   "execution_count": null,
   "id": "0f80cf17-e7bc-4943-947c-eb02f436ff2e",
   "metadata": {
    "vscode": {
     "languageId": "r"
    }
   },
   "outputs": [],
   "source": [
    "c(1,5,8)"
   ]
  },
  {
   "cell_type": "code",
   "execution_count": null,
   "id": "6f4b0c64",
   "metadata": {
    "vscode": {
     "languageId": "r"
    }
   },
   "outputs": [],
   "source": [
    "print(c(1,5,8))"
   ]
  },
  {
   "cell_type": "code",
   "execution_count": null,
   "id": "c92d3d69",
   "metadata": {
    "vscode": {
     "languageId": "r"
    }
   },
   "outputs": [],
   "source": [
    "print(c(1,2,3,4,3,5,4,5,2,3,9,-2,5.9,28,44,3,5,6,7,8,9,0,1,2,3,4,5,6,7,8,9,0))"
   ]
  },
  {
   "cell_type": "code",
   "execution_count": null,
   "id": "875a09c5",
   "metadata": {
    "vscode": {
     "languageId": "r"
    }
   },
   "outputs": [],
   "source": [
    "class(c(1,5,8))"
   ]
  },
  {
   "cell_type": "code",
   "execution_count": null,
   "id": "9c52dec8",
   "metadata": {
    "vscode": {
     "languageId": "r"
    }
   },
   "outputs": [],
   "source": [
    "print(c(1.5,5,-8.5,5i))"
   ]
  },
  {
   "cell_type": "code",
   "execution_count": null,
   "id": "19affa15",
   "metadata": {
    "vscode": {
     "languageId": "r"
    }
   },
   "outputs": [],
   "source": [
    "class(c(1.5,5,-8.5,5i))"
   ]
  },
  {
   "cell_type": "code",
   "execution_count": null,
   "id": "5586a251",
   "metadata": {
    "vscode": {
     "languageId": "r"
    }
   },
   "outputs": [],
   "source": [
    "print(c(\"hola\", \"adios\"))"
   ]
  },
  {
   "cell_type": "code",
   "execution_count": null,
   "id": "887c0b1f",
   "metadata": {
    "vscode": {
     "languageId": "r"
    }
   },
   "outputs": [],
   "source": [
    "print(c(\"hola\", 7))"
   ]
  },
  {
   "cell_type": "code",
   "execution_count": null,
   "id": "a515c5bf",
   "metadata": {
    "vscode": {
     "languageId": "r"
    }
   },
   "outputs": [],
   "source": [
    "print(c(TRUE, FALSE, TRUE))"
   ]
  },
  {
   "cell_type": "code",
   "execution_count": null,
   "id": "3dae2575",
   "metadata": {
    "vscode": {
     "languageId": "r"
    }
   },
   "outputs": [],
   "source": [
    "print(c(T, F, T)) # Ojo cuidado!"
   ]
  },
  {
   "cell_type": "code",
   "execution_count": null,
   "id": "03ab24eb",
   "metadata": {
    "vscode": {
     "languageId": "r"
    }
   },
   "outputs": [],
   "source": [
    "print(c(TRUE, 0, TRUE))"
   ]
  },
  {
   "cell_type": "code",
   "execution_count": null,
   "id": "67f9d077",
   "metadata": {
    "vscode": {
     "languageId": "r"
    }
   },
   "outputs": [],
   "source": [
    "print(as.logical(c(TRUE, 0, TRUE)))"
   ]
  },
  {
   "cell_type": "code",
   "execution_count": null,
   "id": "d11f88d2",
   "metadata": {
    "vscode": {
     "languageId": "r"
    }
   },
   "outputs": [],
   "source": [
    "print(as.character(c(3,4,5)))"
   ]
  },
  {
   "cell_type": "code",
   "execution_count": null,
   "id": "874c69c8",
   "metadata": {
    "vscode": {
     "languageId": "r"
    }
   },
   "outputs": [],
   "source": [
    "is.character(as.character(c(3,4,5)))"
   ]
  },
  {
   "cell_type": "code",
   "execution_count": null,
   "id": "c7e70a7c",
   "metadata": {
    "vscode": {
     "languageId": "r"
    }
   },
   "outputs": [],
   "source": [
    "is.character(c(3,4,5))"
   ]
  },
  {
   "cell_type": "markdown",
   "id": "a21eff8f",
   "metadata": {},
   "source": [
    "Se pueden crear vectores dando un rango de valores usando `:`"
   ]
  },
  {
   "cell_type": "code",
   "execution_count": null,
   "id": "3e79e793",
   "metadata": {
    "vscode": {
     "languageId": "r"
    }
   },
   "outputs": [],
   "source": [
    "print(1:4)"
   ]
  },
  {
   "cell_type": "code",
   "execution_count": null,
   "id": "71423047",
   "metadata": {
    "vscode": {
     "languageId": "r"
    }
   },
   "outputs": [],
   "source": [
    "print(4:1)"
   ]
  },
  {
   "cell_type": "code",
   "execution_count": null,
   "id": "ffb4ec8d",
   "metadata": {
    "vscode": {
     "languageId": "r"
    }
   },
   "outputs": [],
   "source": [
    "print(1.1:6.9)"
   ]
  },
  {
   "cell_type": "code",
   "execution_count": null,
   "id": "7c2daaef",
   "metadata": {
    "vscode": {
     "languageId": "r"
    }
   },
   "outputs": [],
   "source": [
    "print(-1:5)"
   ]
  },
  {
   "cell_type": "code",
   "execution_count": null,
   "id": "7fe81cd5",
   "metadata": {
    "vscode": {
     "languageId": "r"
    }
   },
   "outputs": [],
   "source": [
    "vector(\"numeric\", length = 10)"
   ]
  },
  {
   "cell_type": "code",
   "execution_count": null,
   "id": "79e3a2e9",
   "metadata": {
    "vscode": {
     "languageId": "r"
    }
   },
   "outputs": [],
   "source": [
    "print(vector(\"numeric\", length = 10))"
   ]
  },
  {
   "cell_type": "code",
   "execution_count": null,
   "id": "76a208c8",
   "metadata": {
    "vscode": {
     "languageId": "r"
    }
   },
   "outputs": [],
   "source": [
    "print(vector(\"logical\", length = 10))"
   ]
  },
  {
   "cell_type": "markdown",
   "id": "18702cae",
   "metadata": {},
   "source": [
    "<i>Atención que se vienen curvas...</i>"
   ]
  },
  {
   "cell_type": "code",
   "execution_count": null,
   "id": "5df4661a",
   "metadata": {
    "vscode": {
     "languageId": "r"
    }
   },
   "outputs": [],
   "source": [
    "print(1:3 + 4:6)"
   ]
  },
  {
   "cell_type": "code",
   "execution_count": null,
   "id": "7f0adc76",
   "metadata": {
    "vscode": {
     "languageId": "r"
    }
   },
   "outputs": [],
   "source": [
    "print(1:3 + 4:7) # Warning! Recycling Rule"
   ]
  },
  {
   "cell_type": "code",
   "execution_count": null,
   "id": "edd5c9b6",
   "metadata": {
    "vscode": {
     "languageId": "r"
    }
   },
   "outputs": [],
   "source": [
    "print(1:3 * 4:6)"
   ]
  },
  {
   "cell_type": "code",
   "execution_count": null,
   "id": "03da9c2d",
   "metadata": {
    "vscode": {
     "languageId": "r"
    }
   },
   "outputs": [],
   "source": [
    "print(1:3 - 4:6)"
   ]
  },
  {
   "cell_type": "code",
   "execution_count": null,
   "id": "08b2786c",
   "metadata": {
    "vscode": {
     "languageId": "r"
    }
   },
   "outputs": [],
   "source": [
    "print(1:3 / 4:6)"
   ]
  },
  {
   "cell_type": "code",
   "execution_count": null,
   "id": "e9d946b5",
   "metadata": {
    "vscode": {
     "languageId": "r"
    }
   },
   "outputs": [],
   "source": [
    "1:3 == 4:6"
   ]
  },
  {
   "cell_type": "code",
   "execution_count": null,
   "id": "89595d74",
   "metadata": {
    "vscode": {
     "languageId": "r"
    }
   },
   "outputs": [],
   "source": [
    "1:3 != 4:6"
   ]
  },
  {
   "cell_type": "code",
   "execution_count": null,
   "id": "897ee3db",
   "metadata": {
    "vscode": {
     "languageId": "r"
    }
   },
   "outputs": [],
   "source": [
    "1:3 < 4:6"
   ]
  },
  {
   "cell_type": "code",
   "execution_count": null,
   "id": "004f1c81",
   "metadata": {
    "vscode": {
     "languageId": "r"
    }
   },
   "outputs": [],
   "source": [
    "1:3 >= 4:6"
   ]
  },
  {
   "cell_type": "code",
   "execution_count": null,
   "id": "ea21945c",
   "metadata": {
    "vscode": {
     "languageId": "r"
    }
   },
   "outputs": [],
   "source": [
    "!(0:3)"
   ]
  },
  {
   "cell_type": "markdown",
   "id": "cd539a42",
   "metadata": {},
   "source": [
    "### WTF? (Falling into the Floating Point Trap)\n",
    "The R Inferno. Patrick Burns. https://www.burns-stat.com/pages/Tutor/R_inferno.pdf"
   ]
  },
  {
   "cell_type": "code",
   "execution_count": null,
   "id": "dd6c3ff1",
   "metadata": {
    "vscode": {
     "languageId": "r"
    }
   },
   "outputs": [],
   "source": [
    ".1 == (.3 / 3)"
   ]
  },
  {
   "cell_type": "code",
   "execution_count": null,
   "id": "7ba754f7",
   "metadata": {
    "vscode": {
     "languageId": "r"
    }
   },
   "outputs": [],
   "source": [
    "c(.3, .4 - .1, .5 - .2, .6 - .3, .7 - .4)"
   ]
  },
  {
   "cell_type": "code",
   "execution_count": null,
   "id": "a4cbb316",
   "metadata": {
    "vscode": {
     "languageId": "r"
    }
   },
   "outputs": [],
   "source": [
    "unique(c(.3, .4 - .1, .5 - .2, .6 - .3, .7 - .4))"
   ]
  },
  {
   "cell_type": "markdown",
   "id": "a90f70c2",
   "metadata": {},
   "source": [
    "<i>R is good enough at hiding numerical error that it is easy to forget that it is there. Don’t forget...</i>"
   ]
  },
  {
   "cell_type": "code",
   "execution_count": null,
   "id": "1aec0949",
   "metadata": {
    "vscode": {
     "languageId": "r"
    }
   },
   "outputs": [],
   "source": [
    "1:5-1"
   ]
  },
  {
   "cell_type": "code",
   "execution_count": null,
   "id": "9c781242",
   "metadata": {
    "vscode": {
     "languageId": "r"
    }
   },
   "outputs": [],
   "source": [
    "1:(5-1)"
   ]
  },
  {
   "cell_type": "code",
   "execution_count": null,
   "id": "143e711c",
   "metadata": {
    "vscode": {
     "languageId": "r"
    }
   },
   "outputs": [],
   "source": [
    "10^2:6"
   ]
  },
  {
   "cell_type": "code",
   "execution_count": null,
   "id": "e7489149",
   "metadata": {
    "vscode": {
     "languageId": "r"
    }
   },
   "outputs": [],
   "source": [
    "?Syntax"
   ]
  },
  {
   "cell_type": "markdown",
   "id": "fc4304f4",
   "metadata": {},
   "source": [
    "<i>Paréntesis... usad paréntesis...</i>"
   ]
  },
  {
   "cell_type": "markdown",
   "id": "5abb0a4c",
   "metadata": {},
   "source": [
    "# Variables"
   ]
  },
  {
   "cell_type": "code",
   "execution_count": null,
   "id": "f750b64f",
   "metadata": {
    "vscode": {
     "languageId": "r"
    }
   },
   "outputs": [],
   "source": [
    "x <- 1 # A la variable x le asigno 1"
   ]
  },
  {
   "cell_type": "code",
   "execution_count": null,
   "id": "5ffc0c84",
   "metadata": {
    "vscode": {
     "languageId": "r"
    }
   },
   "outputs": [],
   "source": [
    "print(x)"
   ]
  },
  {
   "cell_type": "code",
   "execution_count": null,
   "id": "9d934e47",
   "metadata": {
    "vscode": {
     "languageId": "r"
    }
   },
   "outputs": [],
   "source": [
    "x = 5 # A la variable x le asigno 1 "
   ]
  },
  {
   "cell_type": "code",
   "execution_count": null,
   "id": "3d67f7ce",
   "metadata": {
    "vscode": {
     "languageId": "r"
    }
   },
   "outputs": [],
   "source": [
    "print(x)"
   ]
  },
  {
   "cell_type": "markdown",
   "id": "f7841930",
   "metadata": {},
   "source": [
    "<b>Atención:</b> `<-` no es lo mismo que `=`"
   ]
  },
  {
   "cell_type": "code",
   "execution_count": null,
   "id": "82be438f",
   "metadata": {
    "vscode": {
     "languageId": "r"
    }
   },
   "outputs": [],
   "source": [
    "# Do not run!\n",
    "foo(93, a = 47)\n",
    "foo(93, a <- 47)"
   ]
  },
  {
   "cell_type": "code",
   "execution_count": null,
   "id": "789506dd",
   "metadata": {
    "vscode": {
     "languageId": "r"
    }
   },
   "outputs": [],
   "source": [
    "# Do not run!\n",
    "system.time(result <- Sys.sleep(5))\n",
    "result <- system.time(Sys.sleep(5))"
   ]
  },
  {
   "cell_type": "markdown",
   "id": "a705de01",
   "metadata": {},
   "source": [
    "Seguimos..."
   ]
  },
  {
   "cell_type": "code",
   "execution_count": null,
   "id": "3f7a0b2b",
   "metadata": {
    "vscode": {
     "languageId": "r"
    }
   },
   "outputs": [],
   "source": [
    "v <- c(2,6,8,10,-2,4.3)\n",
    "print(v)"
   ]
  },
  {
   "cell_type": "code",
   "execution_count": null,
   "id": "7db58c57",
   "metadata": {
    "vscode": {
     "languageId": "r"
    }
   },
   "outputs": [],
   "source": [
    "print(v + 1) # Recycling Rule"
   ]
  },
  {
   "cell_type": "code",
   "execution_count": null,
   "id": "785bc4d3",
   "metadata": {
    "vscode": {
     "languageId": "r"
    }
   },
   "outputs": [],
   "source": [
    "print(v * v)"
   ]
  },
  {
   "cell_type": "code",
   "execution_count": null,
   "id": "94bf4dba",
   "metadata": {
    "vscode": {
     "languageId": "r"
    }
   },
   "outputs": [],
   "source": [
    "print(v == v)"
   ]
  },
  {
   "cell_type": "code",
   "execution_count": null,
   "id": "6070ec05",
   "metadata": {
    "vscode": {
     "languageId": "r"
    }
   },
   "outputs": [],
   "source": [
    "all(v == v) # Evalúa si todas las condiciones de un vector lógico son TRUE"
   ]
  },
  {
   "cell_type": "code",
   "execution_count": null,
   "id": "c83fd475",
   "metadata": {
    "vscode": {
     "languageId": "r"
    }
   },
   "outputs": [],
   "source": [
    "identical(v,v) # Comprueba si dos objetos son exactamente iguales en tipo, longitud, atributos y valores"
   ]
  },
  {
   "cell_type": "code",
   "execution_count": null,
   "id": "45bf8959",
   "metadata": {
    "vscode": {
     "languageId": "r"
    }
   },
   "outputs": [],
   "source": [
    "x <- c(1,1)\n",
    "y <- c(1,1,1)\n",
    "all(x == y)\n",
    "identical(x, y)"
   ]
  },
  {
   "cell_type": "code",
   "execution_count": null,
   "id": "c3556d84",
   "metadata": {
    "vscode": {
     "languageId": "r"
    }
   },
   "outputs": [],
   "source": [
    "?`%in%`"
   ]
  },
  {
   "cell_type": "code",
   "execution_count": null,
   "id": "2381f8a0",
   "metadata": {
    "vscode": {
     "languageId": "r"
    }
   },
   "outputs": [],
   "source": [
    "1:2 %in% 1"
   ]
  },
  {
   "cell_type": "code",
   "execution_count": null,
   "id": "06c48d09",
   "metadata": {
    "vscode": {
     "languageId": "r"
    }
   },
   "outputs": [],
   "source": [
    "print(v)\n",
    "print(c(3,2) %in% v)\n",
    "print(v %in% c(3,2))"
   ]
  },
  {
   "cell_type": "code",
   "execution_count": null,
   "id": "05b86aef",
   "metadata": {
    "vscode": {
     "languageId": "r"
    }
   },
   "outputs": [],
   "source": [
    "intersect(c(3,2), v)"
   ]
  },
  {
   "cell_type": "code",
   "execution_count": null,
   "id": "45eb528c",
   "metadata": {
    "vscode": {
     "languageId": "r"
    }
   },
   "outputs": [],
   "source": [
    "print(union(c(3,2), v))"
   ]
  },
  {
   "cell_type": "code",
   "execution_count": null,
   "id": "50154f32",
   "metadata": {
    "vscode": {
     "languageId": "r"
    }
   },
   "outputs": [],
   "source": [
    "print(union(v, c(3,2)))"
   ]
  },
  {
   "cell_type": "code",
   "execution_count": null,
   "id": "49bb16b9",
   "metadata": {
    "vscode": {
     "languageId": "r"
    }
   },
   "outputs": [],
   "source": [
    "print(setdiff(c(3,2), v))"
   ]
  },
  {
   "cell_type": "code",
   "execution_count": null,
   "id": "77432478",
   "metadata": {
    "vscode": {
     "languageId": "r"
    }
   },
   "outputs": [],
   "source": [
    "print(setdiff(v, c(3,2)))"
   ]
  },
  {
   "cell_type": "code",
   "execution_count": null,
   "id": "c6018c8b",
   "metadata": {
    "vscode": {
     "languageId": "r"
    }
   },
   "outputs": [],
   "source": [
    "print(setdiff(abs(v), c(3,2)))"
   ]
  },
  {
   "cell_type": "code",
   "execution_count": null,
   "id": "23196f97",
   "metadata": {
    "vscode": {
     "languageId": "r"
    }
   },
   "outputs": [],
   "source": [
    "print(v)\n",
    "any(v > 2)"
   ]
  },
  {
   "cell_type": "code",
   "execution_count": null,
   "id": "64e7eb06",
   "metadata": {
    "vscode": {
     "languageId": "r"
    }
   },
   "outputs": [],
   "source": [
    "all(v > 2)"
   ]
  },
  {
   "cell_type": "markdown",
   "id": "fdd142fe",
   "metadata": {},
   "source": [
    "# Más sobre vectores"
   ]
  },
  {
   "cell_type": "code",
   "execution_count": null,
   "id": "207d7925",
   "metadata": {
    "vscode": {
     "languageId": "r"
    }
   },
   "outputs": [],
   "source": [
    "print(v)\n",
    "print(v[1])"
   ]
  },
  {
   "cell_type": "code",
   "execution_count": null,
   "id": "0bed30cb",
   "metadata": {
    "vscode": {
     "languageId": "r"
    }
   },
   "outputs": [],
   "source": [
    "print(v[0]) # Nada"
   ]
  },
  {
   "cell_type": "code",
   "execution_count": null,
   "id": "c7a32d32",
   "metadata": {
    "vscode": {
     "languageId": "r"
    }
   },
   "outputs": [],
   "source": [
    "print(v[-1])"
   ]
  },
  {
   "cell_type": "code",
   "execution_count": null,
   "id": "9aa20de4",
   "metadata": {
    "vscode": {
     "languageId": "r"
    }
   },
   "outputs": [],
   "source": [
    "print(v)\n",
    "print(v[-1:-2])"
   ]
  },
  {
   "cell_type": "code",
   "execution_count": null,
   "id": "44d98dee",
   "metadata": {
    "vscode": {
     "languageId": "r"
    }
   },
   "outputs": [],
   "source": [
    "print(v[c(1,4)])"
   ]
  },
  {
   "cell_type": "code",
   "execution_count": null,
   "id": "a4d8d81d",
   "metadata": {
    "vscode": {
     "languageId": "r"
    }
   },
   "outputs": [],
   "source": [
    "length(v)"
   ]
  },
  {
   "cell_type": "code",
   "execution_count": null,
   "id": "136ed9e1",
   "metadata": {
    "vscode": {
     "languageId": "r"
    }
   },
   "outputs": [],
   "source": [
    "length(4)"
   ]
  },
  {
   "cell_type": "code",
   "execution_count": null,
   "id": "4fabc741",
   "metadata": {
    "vscode": {
     "languageId": "r"
    }
   },
   "outputs": [],
   "source": [
    "length(\"hola\")"
   ]
  },
  {
   "cell_type": "code",
   "execution_count": null,
   "id": "40e5b6e7",
   "metadata": {
    "vscode": {
     "languageId": "r"
    }
   },
   "outputs": [],
   "source": [
    "nchar(\"hola\") # Más sobre cadenas de caracteres más adelante..."
   ]
  },
  {
   "cell_type": "code",
   "execution_count": null,
   "id": "7cf04d40",
   "metadata": {
    "vscode": {
     "languageId": "r"
    }
   },
   "outputs": [],
   "source": [
    "print(v)\n",
    "v >= 0"
   ]
  },
  {
   "cell_type": "code",
   "execution_count": null,
   "id": "0e1975a0",
   "metadata": {
    "vscode": {
     "languageId": "r"
    }
   },
   "outputs": [],
   "source": [
    "print(v[v >= 0])"
   ]
  },
  {
   "cell_type": "code",
   "execution_count": null,
   "id": "8627bdb9",
   "metadata": {
    "vscode": {
     "languageId": "r"
    }
   },
   "outputs": [],
   "source": [
    "print(v[v < 0])"
   ]
  },
  {
   "cell_type": "code",
   "execution_count": null,
   "id": "1471686b",
   "metadata": {
    "vscode": {
     "languageId": "r"
    }
   },
   "outputs": [],
   "source": [
    "print(v[(v >= 0) & (v <= 5)])"
   ]
  },
  {
   "cell_type": "code",
   "execution_count": null,
   "id": "b0f351ac",
   "metadata": {
    "vscode": {
     "languageId": "r"
    }
   },
   "outputs": [],
   "source": [
    "print(v)\n",
    "v[c(TRUE,FALSE)]"
   ]
  },
  {
   "cell_type": "code",
   "execution_count": null,
   "id": "31515503",
   "metadata": {
    "vscode": {
     "languageId": "r"
    }
   },
   "outputs": [],
   "source": [
    "v[c(-1,-4)]"
   ]
  },
  {
   "cell_type": "code",
   "execution_count": null,
   "id": "31ccb289",
   "metadata": {
    "vscode": {
     "languageId": "r"
    }
   },
   "outputs": [],
   "source": [
    "sum(v)"
   ]
  },
  {
   "cell_type": "code",
   "execution_count": null,
   "id": "52d6e250",
   "metadata": {
    "vscode": {
     "languageId": "r"
    }
   },
   "outputs": [],
   "source": [
    "prod(v)"
   ]
  },
  {
   "cell_type": "code",
   "execution_count": null,
   "id": "61bed042",
   "metadata": {
    "vscode": {
     "languageId": "r"
    }
   },
   "outputs": [],
   "source": [
    "min(v)"
   ]
  },
  {
   "cell_type": "code",
   "execution_count": null,
   "id": "165aaa80",
   "metadata": {
    "vscode": {
     "languageId": "r"
    }
   },
   "outputs": [],
   "source": [
    "max(v)"
   ]
  },
  {
   "cell_type": "code",
   "execution_count": null,
   "id": "650b8106",
   "metadata": {
    "vscode": {
     "languageId": "r"
    }
   },
   "outputs": [],
   "source": [
    "w <- c(NULL, 3, NA, 7, NaN)\n",
    "print(w)\n",
    "print(class(NaN))\n",
    "print(class(as.numeric(NA)))"
   ]
  },
  {
   "cell_type": "code",
   "execution_count": null,
   "id": "7afbf94d",
   "metadata": {
    "vscode": {
     "languageId": "r"
    }
   },
   "outputs": [],
   "source": [
    "length(w)"
   ]
  },
  {
   "cell_type": "code",
   "execution_count": null,
   "id": "f2d7aa54",
   "metadata": {
    "vscode": {
     "languageId": "r"
    }
   },
   "outputs": [],
   "source": [
    "class(w)"
   ]
  },
  {
   "cell_type": "code",
   "execution_count": null,
   "id": "a85c0aa1",
   "metadata": {
    "vscode": {
     "languageId": "r"
    }
   },
   "outputs": [],
   "source": [
    "print(w)\n",
    "print(sum(w))"
   ]
  },
  {
   "cell_type": "code",
   "execution_count": null,
   "id": "bedfd67c",
   "metadata": {
    "vscode": {
     "languageId": "r"
    }
   },
   "outputs": [],
   "source": [
    "sum(w, na.rm = TRUE)"
   ]
  },
  {
   "cell_type": "code",
   "execution_count": null,
   "id": "a164401f",
   "metadata": {
    "vscode": {
     "languageId": "r"
    }
   },
   "outputs": [],
   "source": [
    "prod(w)"
   ]
  },
  {
   "cell_type": "code",
   "execution_count": null,
   "id": "04e993ab",
   "metadata": {
    "vscode": {
     "languageId": "r"
    }
   },
   "outputs": [],
   "source": [
    "prod(w, na.rm = TRUE)"
   ]
  },
  {
   "cell_type": "code",
   "execution_count": null,
   "id": "ac4aca7d",
   "metadata": {
    "vscode": {
     "languageId": "r"
    }
   },
   "outputs": [],
   "source": [
    "min(w)"
   ]
  },
  {
   "cell_type": "code",
   "execution_count": null,
   "id": "6f5c2174",
   "metadata": {
    "vscode": {
     "languageId": "r"
    }
   },
   "outputs": [],
   "source": [
    "min(w, na.rm = TRUE)"
   ]
  },
  {
   "cell_type": "code",
   "execution_count": null,
   "id": "ee3a20dd",
   "metadata": {
    "vscode": {
     "languageId": "r"
    }
   },
   "outputs": [],
   "source": [
    "max(w)"
   ]
  },
  {
   "cell_type": "code",
   "execution_count": null,
   "id": "a3a26e93",
   "metadata": {
    "vscode": {
     "languageId": "r"
    }
   },
   "outputs": [],
   "source": [
    "max(w, na.rm = TRUE)"
   ]
  },
  {
   "cell_type": "code",
   "execution_count": null,
   "id": "61781d81",
   "metadata": {
    "vscode": {
     "languageId": "r"
    }
   },
   "outputs": [],
   "source": [
    "print(w)\n",
    "is.na(w)"
   ]
  },
  {
   "cell_type": "code",
   "execution_count": null,
   "id": "c7abd8c9",
   "metadata": {
    "vscode": {
     "languageId": "r"
    }
   },
   "outputs": [],
   "source": [
    "any(is.na(c(1,NA,3)))"
   ]
  },
  {
   "cell_type": "code",
   "execution_count": null,
   "id": "f200398e",
   "metadata": {
    "vscode": {
     "languageId": "r"
    }
   },
   "outputs": [],
   "source": [
    "print(w)\n",
    "is.nan(w)"
   ]
  },
  {
   "cell_type": "markdown",
   "id": "f40f19a9",
   "metadata": {},
   "source": [
    "Se pueden crear vectores tambien con `seq` o con `rep`"
   ]
  },
  {
   "cell_type": "code",
   "execution_count": null,
   "id": "0b5e4474",
   "metadata": {
    "vscode": {
     "languageId": "r"
    }
   },
   "outputs": [],
   "source": [
    "print(1:6)"
   ]
  },
  {
   "cell_type": "code",
   "execution_count": null,
   "id": "049491f5",
   "metadata": {
    "vscode": {
     "languageId": "r"
    }
   },
   "outputs": [],
   "source": [
    "?seq"
   ]
  },
  {
   "cell_type": "code",
   "execution_count": null,
   "id": "dabd5a6f",
   "metadata": {
    "vscode": {
     "languageId": "r"
    }
   },
   "outputs": [],
   "source": [
    "seq(from=12, to=30, by=3)"
   ]
  },
  {
   "cell_type": "code",
   "execution_count": null,
   "id": "e3930ae1",
   "metadata": {
    "vscode": {
     "languageId": "r"
    }
   },
   "outputs": [],
   "source": [
    "seq(12, 30, 3) # seq(from=12, to=30, by=3)"
   ]
  },
  {
   "cell_type": "code",
   "execution_count": null,
   "id": "e02f36b5",
   "metadata": {
    "vscode": {
     "languageId": "r"
    }
   },
   "outputs": [],
   "source": [
    "seq(-12, 30, 3.4)"
   ]
  },
  {
   "cell_type": "code",
   "execution_count": null,
   "id": "b59c4829",
   "metadata": {
    "vscode": {
     "languageId": "r"
    }
   },
   "outputs": [],
   "source": [
    "seq(1.1, 7, 10)"
   ]
  },
  {
   "cell_type": "code",
   "execution_count": null,
   "id": "86f914ed",
   "metadata": {
    "vscode": {
     "languageId": "r"
    }
   },
   "outputs": [],
   "source": [
    "print(seq(1.1, 7, length=10))"
   ]
  },
  {
   "cell_type": "code",
   "execution_count": null,
   "id": "ed187051",
   "metadata": {
    "vscode": {
     "languageId": "r"
    }
   },
   "outputs": [],
   "source": [
    "seq()"
   ]
  },
  {
   "cell_type": "code",
   "execution_count": null,
   "id": "9dab4e17",
   "metadata": {
    "vscode": {
     "languageId": "r"
    }
   },
   "outputs": [],
   "source": [
    "?rep"
   ]
  },
  {
   "cell_type": "code",
   "execution_count": null,
   "id": "378289dc",
   "metadata": {
    "vscode": {
     "languageId": "r"
    }
   },
   "outputs": [],
   "source": [
    "rep(8,4)"
   ]
  },
  {
   "cell_type": "code",
   "execution_count": null,
   "id": "241e128a",
   "metadata": {
    "vscode": {
     "languageId": "r"
    }
   },
   "outputs": [],
   "source": [
    "rep(8,4.1) # El entero"
   ]
  },
  {
   "cell_type": "code",
   "execution_count": null,
   "id": "a7e5bbae",
   "metadata": {
    "vscode": {
     "languageId": "r"
    }
   },
   "outputs": [],
   "source": [
    "print(rep(\"a\",4))"
   ]
  },
  {
   "cell_type": "code",
   "execution_count": null,
   "id": "f04fc8a1",
   "metadata": {
    "vscode": {
     "languageId": "r"
    }
   },
   "outputs": [],
   "source": [
    "rep(1:3, 5)"
   ]
  },
  {
   "cell_type": "code",
   "execution_count": null,
   "id": "ec1b83f8",
   "metadata": {
    "vscode": {
     "languageId": "r"
    }
   },
   "outputs": [],
   "source": [
    "length(rep(1:3, 5))"
   ]
  },
  {
   "cell_type": "code",
   "execution_count": null,
   "id": "afee8725",
   "metadata": {
    "vscode": {
     "languageId": "r"
    }
   },
   "outputs": [],
   "source": [
    "?rep"
   ]
  },
  {
   "cell_type": "code",
   "execution_count": null,
   "id": "4c3d1777",
   "metadata": {
    "vscode": {
     "languageId": "r"
    }
   },
   "outputs": [],
   "source": [
    "rep(c(5,12,13), 2)"
   ]
  },
  {
   "cell_type": "code",
   "execution_count": null,
   "id": "16a09b32",
   "metadata": {
    "vscode": {
     "languageId": "r"
    }
   },
   "outputs": [],
   "source": [
    "rep(c(5,12,13), each=2)"
   ]
  },
  {
   "cell_type": "code",
   "execution_count": null,
   "id": "9f366b0b",
   "metadata": {
    "vscode": {
     "languageId": "r"
    }
   },
   "outputs": [],
   "source": [
    "letters"
   ]
  },
  {
   "cell_type": "code",
   "execution_count": null,
   "id": "8a95fadf",
   "metadata": {
    "vscode": {
     "languageId": "r"
    }
   },
   "outputs": [],
   "source": [
    "LETTERS"
   ]
  },
  {
   "cell_type": "code",
   "execution_count": null,
   "id": "943982f1",
   "metadata": {
    "vscode": {
     "languageId": "r"
    }
   },
   "outputs": [],
   "source": [
    "month.abb"
   ]
  },
  {
   "cell_type": "code",
   "execution_count": null,
   "id": "8ae47605",
   "metadata": {
    "vscode": {
     "languageId": "r"
    }
   },
   "outputs": [],
   "source": [
    "month.name"
   ]
  },
  {
   "cell_type": "markdown",
   "id": "6ef10760",
   "metadata": {},
   "source": [
    "### WTF?"
   ]
  },
  {
   "cell_type": "code",
   "execution_count": null,
   "id": "82311dd1",
   "metadata": {
    "vscode": {
     "languageId": "r"
    }
   },
   "outputs": [],
   "source": [
    "print(x)\n",
    "print(x == NA)"
   ]
  },
  {
   "cell_type": "code",
   "execution_count": null,
   "id": "5b1b5911",
   "metadata": {
    "vscode": {
     "languageId": "r"
    }
   },
   "outputs": [],
   "source": [
    "class(x == NA)"
   ]
  },
  {
   "cell_type": "code",
   "execution_count": null,
   "id": "50dcfbb6",
   "metadata": {
    "vscode": {
     "languageId": "r"
    }
   },
   "outputs": [],
   "source": [
    "NA == NA"
   ]
  },
  {
   "cell_type": "code",
   "execution_count": null,
   "id": "cc0016c6",
   "metadata": {
    "vscode": {
     "languageId": "r"
    }
   },
   "outputs": [],
   "source": [
    "3 == c(3, 1, 3, NA)"
   ]
  },
  {
   "cell_type": "code",
   "execution_count": null,
   "id": "1ed527a8-d49a-4ab8-995f-dd9e79d7d428",
   "metadata": {
    "vscode": {
     "languageId": "r"
    }
   },
   "outputs": [],
   "source": [
    "is.na(c(3, 1, 3, NA))"
   ]
  },
  {
   "cell_type": "code",
   "execution_count": null,
   "id": "a25754fa",
   "metadata": {
    "vscode": {
     "languageId": "r"
    }
   },
   "outputs": [],
   "source": [
    "xnotnull <- 42\n",
    "print(xnotnull == NULL)"
   ]
  },
  {
   "cell_type": "code",
   "execution_count": null,
   "id": "3e4db4b9",
   "metadata": {
    "vscode": {
     "languageId": "r"
    }
   },
   "outputs": [],
   "source": [
    "xnull <- NULL\n",
    "print(xnull == NULL)"
   ]
  },
  {
   "cell_type": "code",
   "execution_count": null,
   "id": "22d906d9",
   "metadata": {
    "vscode": {
     "languageId": "r"
    }
   },
   "outputs": [],
   "source": [
    "is.null(xnull)"
   ]
  },
  {
   "cell_type": "code",
   "execution_count": null,
   "id": "4fbcfbb2",
   "metadata": {
    "vscode": {
     "languageId": "r"
    }
   },
   "outputs": [],
   "source": [
    "x1 <- 10:1\n",
    "print(x1)\n",
    "x1 == c(4, 6)"
   ]
  },
  {
   "cell_type": "code",
   "execution_count": null,
   "id": "061eb6b0-d353-4853-a9f5-e44ca56debaf",
   "metadata": {
    "vscode": {
     "languageId": "r"
    }
   },
   "outputs": [],
   "source": [
    "print(x1)\n",
    "print(x1 == 4)\n",
    "print(x1 == 6)\n",
    "print(x1 == 4 | x1 == 6)\n",
    "print(x1 == 4 & x1 == 6)\n"
   ]
  },
  {
   "cell_type": "code",
   "execution_count": null,
   "id": "e3f9e95e-df9e-4a7f-8ef2-cfe47944fe6d",
   "metadata": {
    "vscode": {
     "languageId": "r"
    }
   },
   "outputs": [],
   "source": [
    "print(x1 == 4 | 6)\n",
    "as.logical(6)"
   ]
  },
  {
   "cell_type": "code",
   "execution_count": null,
   "id": "3beb5eb1",
   "metadata": {
    "vscode": {
     "languageId": "r"
    }
   },
   "outputs": [],
   "source": [
    "print(x1)\n",
    "x1 == (4 | 6)"
   ]
  },
  {
   "cell_type": "code",
   "execution_count": null,
   "id": "69dec6d4",
   "metadata": {
    "vscode": {
     "languageId": "r"
    }
   },
   "outputs": [],
   "source": [
    "4 | 6"
   ]
  },
  {
   "cell_type": "markdown",
   "id": "b5a99236",
   "metadata": {},
   "source": [
    "<i>Esos paréntesis... ¡que no falten!</i>"
   ]
  },
  {
   "cell_type": "code",
   "execution_count": null,
   "id": "7353e868",
   "metadata": {
    "vscode": {
     "languageId": "r"
    }
   },
   "outputs": [],
   "source": [
    "50 < \"7\""
   ]
  },
  {
   "cell_type": "code",
   "execution_count": null,
   "id": "de9a5c0b",
   "metadata": {
    "vscode": {
     "languageId": "r"
    }
   },
   "outputs": [],
   "source": [
    "50 < as.numeric(\"7\")"
   ]
  },
  {
   "cell_type": "code",
   "execution_count": null,
   "id": "2caae8f8",
   "metadata": {
    "vscode": {
     "languageId": "r"
    }
   },
   "outputs": [],
   "source": [
    "\"50\" < \"7\""
   ]
  },
  {
   "cell_type": "code",
   "execution_count": null,
   "id": "7cff43d3",
   "metadata": {
    "vscode": {
     "languageId": "r"
    }
   },
   "outputs": [],
   "source": [
    "print(x != 1)\n",
    "length(x != 1)"
   ]
  },
  {
   "cell_type": "code",
   "execution_count": null,
   "id": "567225c2",
   "metadata": {
    "vscode": {
     "languageId": "r"
    }
   },
   "outputs": [],
   "source": [
    "length(x) != 1"
   ]
  },
  {
   "cell_type": "markdown",
   "id": "a7c6db01",
   "metadata": {},
   "source": [
    "<i>No dejéis que R decida por vosotr@s...</i>"
   ]
  },
  {
   "cell_type": "code",
   "execution_count": null,
   "id": "836e52bd",
   "metadata": {
    "vscode": {
     "languageId": "r"
    }
   },
   "outputs": [],
   "source": [
    "xna <- c(1, NA, 3, 2, 4, 2)\n",
    "xna"
   ]
  },
  {
   "cell_type": "code",
   "execution_count": null,
   "id": "7b04cadc",
   "metadata": {
    "vscode": {
     "languageId": "r"
    }
   },
   "outputs": [],
   "source": [
    "print(xna == 2)\n",
    "xna[xna == 2]"
   ]
  },
  {
   "cell_type": "code",
   "execution_count": null,
   "id": "febbbfb8",
   "metadata": {
    "vscode": {
     "languageId": "r"
    }
   },
   "outputs": [],
   "source": [
    "!is.na(xna)"
   ]
  },
  {
   "cell_type": "code",
   "execution_count": null,
   "id": "b4d2bdc3",
   "metadata": {
    "vscode": {
     "languageId": "r"
    }
   },
   "outputs": [],
   "source": [
    "xna == 2"
   ]
  },
  {
   "cell_type": "code",
   "execution_count": null,
   "id": "24a76e24",
   "metadata": {
    "vscode": {
     "languageId": "r"
    }
   },
   "outputs": [],
   "source": [
    "xna[!is.na(xna) & xna == 2] # Analizar!"
   ]
  },
  {
   "cell_type": "code",
   "execution_count": null,
   "id": "fa45fcb5",
   "metadata": {
    "vscode": {
     "languageId": "r"
    }
   },
   "outputs": [],
   "source": [
    "print(xna)\n",
    "print(!is.na(xna))\n",
    "print(xna == 2)"
   ]
  },
  {
   "cell_type": "code",
   "execution_count": null,
   "id": "a186ea87",
   "metadata": {
    "vscode": {
     "languageId": "r"
    }
   },
   "outputs": [],
   "source": [
    "print(xna)\n",
    "which(xna == 2)"
   ]
  },
  {
   "cell_type": "code",
   "execution_count": null,
   "id": "9e674bb6",
   "metadata": {
    "vscode": {
     "languageId": "r"
    }
   },
   "outputs": [],
   "source": [
    "xna[which(xna == 2)]"
   ]
  },
  {
   "cell_type": "code",
   "execution_count": null,
   "id": "b9659a00",
   "metadata": {
    "vscode": {
     "languageId": "r"
    }
   },
   "outputs": [],
   "source": [
    "x4 <- c(a=1, b=2, a=3)\n",
    "print(x4)"
   ]
  },
  {
   "cell_type": "code",
   "execution_count": null,
   "id": "36035c6a",
   "metadata": {
    "vscode": {
     "languageId": "r"
    }
   },
   "outputs": [],
   "source": [
    "x4[\"a\"]"
   ]
  },
  {
   "cell_type": "code",
   "execution_count": null,
   "id": "e2bb46ef",
   "metadata": {
    "vscode": {
     "languageId": "r"
    }
   },
   "outputs": [],
   "source": [
    "names(x4)"
   ]
  },
  {
   "cell_type": "code",
   "execution_count": null,
   "id": "74e68052",
   "metadata": {
    "vscode": {
     "languageId": "r"
    }
   },
   "outputs": [],
   "source": [
    "print(x4[names(x4) %in% \"a\"])"
   ]
  },
  {
   "cell_type": "code",
   "execution_count": null,
   "id": "54d64c44",
   "metadata": {
    "vscode": {
     "languageId": "r"
    }
   },
   "outputs": [],
   "source": [
    "print(c(\"missing value\"=NA, \"real string\"=\"NA\"))"
   ]
  },
  {
   "cell_type": "markdown",
   "id": "ce1d9e78",
   "metadata": {},
   "source": [
    "### Ejercicios vectores\n",
    "1) Crea un vector de números impares entre el 1 y el 30 (ambos inclusive)\n",
    "2) Crea los siguientes vectores:\n",
    "    * un vector del 1 al 20\n",
    "    * un vector del 20 al 1\n",
    "    * un vector que tenga el siguiente patrón 1,2,3,...,19,20,19,18,...,2,1\n",
    "3) Crea una secuencia de números del 1 al 30 con un incremento de 0.5\n",
    "4) Crea una secuencia que contenga las cuatro primeras letras del abecedario en minúscula 3 veces cada una (a a a b b b c c c d d d)\n",
    "5) Crea el vector numérico `x` con los valores 2.3, 3.3, 4.3 y accede al segundo elemento del vector\n",
    "6) Crea un vector numérico `z` que contenga los números del 1 al 10. Cambia la clase del vector forzando que sea de tipo carácter. Después cambia el vector `z` a numerico otra vez\n",
    "7) Crea un vector numérico con valores no ordenados usando la función `sample()`. Una vez creado ordena el vector de forma ascendente usando la función `sort()`. ¿Si quisieras invertir el orden de los elementos del vector que función utilizarías?\n",
    "8) Crea un vector `x` que contenga los elementos -5,-1,0,1,2,3,4,5,6. Escribe un código del tipo `x[algo]`, para extraer:\n",
    "    * elementos de x menores que 0,\n",
    "    * elementos de x menores o igual que 0,\n",
    "    * elementos of x mayor o igual que 3,\n",
    "    * elementos de x menor que 0 o mayor que 4,\n",
    "    * elementos de x mayor que 0 y menor que 4,\n",
    "    * elementos de x distintos de 0\n",
    "9) Crea los siguientes vectores `x<-month.name[1:6]` y `z<-month.name[4:10]` a partir del vector original `month.name`. Recupera los valores idénticos entre los vectores x y z usando `%in%`\n",
    "10) R permite extraer elementos de un vector que satisfacen determinadas condiciones usando la función `subset()`. Para el vector x <- c(6,1:3,NA,12) calcula los elementos mayores que 5 en x usando:\n",
    "     * el filtrado normal, es decir, con el operador `>`\n",
    "     * la función `subset()`"
   ]
  },
  {
   "cell_type": "markdown",
   "id": "d648076b",
   "metadata": {},
   "source": [
    "# Listas"
   ]
  },
  {
   "cell_type": "markdown",
   "id": "bdc67c2a",
   "metadata": {},
   "source": [
    "Son estructuras de datos que permiten combinar elementos de diferente tipo y/o tamaño."
   ]
  },
  {
   "cell_type": "code",
   "execution_count": null,
   "id": "fc8c0b6b",
   "metadata": {
    "vscode": {
     "languageId": "r"
    }
   },
   "outputs": [],
   "source": [
    "list_data <- list(\"Red\", \"Green\", c(21,32,11), TRUE, 51.23, 119.1i)\n",
    "print(list_data)"
   ]
  },
  {
   "cell_type": "code",
   "execution_count": null,
   "id": "463b7e2d",
   "metadata": {
    "vscode": {
     "languageId": "r"
    }
   },
   "outputs": [],
   "source": [
    "class(list_data)"
   ]
  },
  {
   "cell_type": "code",
   "execution_count": null,
   "id": "d135bc4d",
   "metadata": {
    "vscode": {
     "languageId": "r"
    }
   },
   "outputs": [],
   "source": [
    "print(list_data[5:6])"
   ]
  },
  {
   "cell_type": "code",
   "execution_count": null,
   "id": "332d02dd-6af2-4f95-b4b0-59053fef11f9",
   "metadata": {
    "vscode": {
     "languageId": "r"
    }
   },
   "outputs": [],
   "source": [
    "print(list_data[6])"
   ]
  },
  {
   "cell_type": "code",
   "execution_count": null,
   "id": "e328fec5",
   "metadata": {
    "vscode": {
     "languageId": "r"
    }
   },
   "outputs": [],
   "source": [
    "class(list_data[6])"
   ]
  },
  {
   "cell_type": "code",
   "execution_count": null,
   "id": "c413df2a-5b9e-42f4-924a-7d72ef7524c4",
   "metadata": {
    "vscode": {
     "languageId": "r"
    }
   },
   "outputs": [],
   "source": [
    "print(list_data[[6]])"
   ]
  },
  {
   "cell_type": "code",
   "execution_count": null,
   "id": "3e1aa342-390a-46fb-995e-62aeedcb012e",
   "metadata": {
    "vscode": {
     "languageId": "r"
    }
   },
   "outputs": [],
   "source": [
    "class(list_data[[6]])"
   ]
  },
  {
   "cell_type": "code",
   "execution_count": null,
   "id": "98348b8e",
   "metadata": {
    "vscode": {
     "languageId": "r"
    }
   },
   "outputs": [],
   "source": [
    "names(list_data) <- c(\"Colors\", \"Age\", \"Time\")\n",
    "print(list_data)"
   ]
  },
  {
   "cell_type": "code",
   "execution_count": null,
   "id": "3511bfc7",
   "metadata": {
    "vscode": {
     "languageId": "r"
    }
   },
   "outputs": [],
   "source": [
    "names(list_data) <- c(\"A\", \"B\", \"C\", \"E\", \"F\", \"G\")\n",
    "print(list_data)"
   ]
  },
  {
   "cell_type": "code",
   "execution_count": null,
   "id": "ff2ebd20",
   "metadata": {
    "vscode": {
     "languageId": "r"
    }
   },
   "outputs": [],
   "source": [
    "names(list_data)\n",
    "attributes(list_data)"
   ]
  },
  {
   "cell_type": "code",
   "execution_count": null,
   "id": "5313cbc7",
   "metadata": {
    "vscode": {
     "languageId": "r"
    }
   },
   "outputs": [],
   "source": [
    "print(list_data[1])\n",
    "print(list_data[\"A\"])"
   ]
  },
  {
   "cell_type": "code",
   "execution_count": null,
   "id": "5776426c",
   "metadata": {
    "vscode": {
     "languageId": "r"
    }
   },
   "outputs": [],
   "source": [
    "class(list_data[\"B\"])"
   ]
  },
  {
   "cell_type": "code",
   "execution_count": null,
   "id": "33910fe6",
   "metadata": {
    "vscode": {
     "languageId": "r"
    }
   },
   "outputs": [],
   "source": [
    "list_data[[1]] <- 5"
   ]
  },
  {
   "cell_type": "code",
   "execution_count": null,
   "id": "057e88a8",
   "metadata": {
    "vscode": {
     "languageId": "r"
    }
   },
   "outputs": [],
   "source": [
    "list_data[[1]]"
   ]
  },
  {
   "cell_type": "code",
   "execution_count": null,
   "id": "9cfc5445",
   "metadata": {
    "vscode": {
     "languageId": "r"
    }
   },
   "outputs": [],
   "source": [
    "print(list_data)"
   ]
  },
  {
   "cell_type": "code",
   "execution_count": null,
   "id": "1242024e",
   "metadata": {
    "vscode": {
     "languageId": "r"
    }
   },
   "outputs": [],
   "source": [
    "list_data[[\"C\"]][2] <- \"p\""
   ]
  },
  {
   "cell_type": "code",
   "execution_count": null,
   "id": "f9ab5343",
   "metadata": {
    "vscode": {
     "languageId": "r"
    }
   },
   "outputs": [],
   "source": [
    "print(list_data)"
   ]
  },
  {
   "cell_type": "code",
   "execution_count": null,
   "id": "a27bc1e9",
   "metadata": {
    "vscode": {
     "languageId": "r"
    }
   },
   "outputs": [],
   "source": [
    "print(list_data[1:3])"
   ]
  },
  {
   "cell_type": "code",
   "execution_count": null,
   "id": "64ea9264",
   "metadata": {
    "vscode": {
     "languageId": "r"
    }
   },
   "outputs": [],
   "source": [
    "print(list_data[c(\"A\",\"B\")])"
   ]
  },
  {
   "cell_type": "code",
   "execution_count": null,
   "id": "550bc037",
   "metadata": {
    "vscode": {
     "languageId": "r"
    }
   },
   "outputs": [],
   "source": [
    "print(list_data)"
   ]
  },
  {
   "cell_type": "code",
   "execution_count": null,
   "id": "fc0175a3",
   "metadata": {
    "vscode": {
     "languageId": "r"
    }
   },
   "outputs": [],
   "source": [
    "print(unlist(list_data))"
   ]
  },
  {
   "cell_type": "code",
   "execution_count": null,
   "id": "88cc888b",
   "metadata": {
    "vscode": {
     "languageId": "r"
    }
   },
   "outputs": [],
   "source": [
    "class(unlist(list_data))"
   ]
  },
  {
   "cell_type": "code",
   "execution_count": null,
   "id": "e144dbd0",
   "metadata": {
    "vscode": {
     "languageId": "r"
    }
   },
   "outputs": [],
   "source": [
    "num_list <- list(1,2,3,4,5)\n",
    "day_list <- list(\"Mon\",\"Tue\",\"Wed\", \"Thurs\", \"Fri\")\n",
    "new_list <- c(num_list, day_list)\n",
    "print(new_list)"
   ]
  },
  {
   "cell_type": "code",
   "execution_count": null,
   "id": "d4c48d74",
   "metadata": {
    "vscode": {
     "languageId": "r"
    }
   },
   "outputs": [],
   "source": [
    "new_list[[5]] <- NULL # Borrar opcion 1\n",
    "print(new_list)"
   ]
  },
  {
   "cell_type": "code",
   "execution_count": null,
   "id": "8282eeca",
   "metadata": {
    "vscode": {
     "languageId": "r"
    }
   },
   "outputs": [],
   "source": [
    "print(new_list[-5]) # Borrar opcion 2"
   ]
  },
  {
   "cell_type": "code",
   "execution_count": null,
   "id": "dd2cbc67",
   "metadata": {
    "vscode": {
     "languageId": "r"
    }
   },
   "outputs": [],
   "source": [
    "print(new_list)"
   ]
  },
  {
   "cell_type": "code",
   "execution_count": null,
   "id": "726c1ae6",
   "metadata": {
    "vscode": {
     "languageId": "r"
    }
   },
   "outputs": [],
   "source": [
    "print(list(hola=\"Hola\", 1, 3, adios = 5.6))"
   ]
  },
  {
   "cell_type": "code",
   "execution_count": null,
   "id": "74759ef6",
   "metadata": {
    "vscode": {
     "languageId": "r"
    }
   },
   "outputs": [],
   "source": [
    "a <- list(hola=\"Hola\", 1, 3, adios = 5.6)\n",
    "print(a)\n",
    "print(a[1])\n",
    "print(a[\"hola\"])\n",
    "print(a$hola)"
   ]
  },
  {
   "cell_type": "code",
   "execution_count": null,
   "id": "729ca2df",
   "metadata": {
    "vscode": {
     "languageId": "r"
    }
   },
   "outputs": [],
   "source": [
    "a <- list(hola=\"Hola\", 1, 3, adios = 5.6)\n",
    "a[[1]] <- NULL\n",
    "print(a)"
   ]
  },
  {
   "cell_type": "code",
   "execution_count": null,
   "id": "3a3ca196",
   "metadata": {
    "vscode": {
     "languageId": "r"
    }
   },
   "outputs": [],
   "source": [
    "a[1] <- NULL\n",
    "print(a)"
   ]
  },
  {
   "cell_type": "code",
   "execution_count": null,
   "id": "feee1caf",
   "metadata": {
    "vscode": {
     "languageId": "r"
    }
   },
   "outputs": [],
   "source": [
    "a[[8]] <- 0\n",
    "print(a)"
   ]
  },
  {
   "cell_type": "code",
   "execution_count": null,
   "id": "158af359",
   "metadata": {
    "vscode": {
     "languageId": "r"
    }
   },
   "outputs": [],
   "source": [
    "a[7] <- list(9)\n",
    "length(a)\n",
    "print(a)"
   ]
  },
  {
   "cell_type": "code",
   "execution_count": null,
   "id": "3a26183d",
   "metadata": {
    "vscode": {
     "languageId": "r"
    }
   },
   "outputs": [],
   "source": [
    "a[[6]] <- NULL # WTF?\n",
    "print(a)"
   ]
  },
  {
   "cell_type": "markdown",
   "id": "cc38e8be",
   "metadata": {},
   "source": [
    "### Ejercicios listas\n",
    "1) Crea una lista llamada `mi_lista` que contenga los siguientes elementos: un vector numérico de 15 elementos, un vector de caracteres de 5 elementos y un vector de valores lógicos de 10 elementos todos TRUE\n",
    "2) Dada la siguiente lista `my_list <- list(name=\"Fred\", wife=\"Mary\", no.children=3, child.ages=c(4,7,9))`:\n",
    "    * Imprime los nombres de todos los componentes de la lista\n",
    "    * Devuelve el segundo componente de la lista\n",
    "    * Recupera el segundo elemento del cuarto componente de la lista \n",
    "    * Imprime la longitud del cuarto componente de la lista\n",
    "    * Reemplaza el cuarto componente de la lista por un vector de 12 numeros del 1 al 12\n",
    "    * Elimina el componente `wife`\n",
    "    * Añade un componente más a la lista llamado `pepe`\n",
    "3) Convertir un vector de 30 números postivos y negativos en una lista con [1ra componente: los 2 primeros elementos, 2da componente: los 5 siguientes pero como caracteres, 3ra componente: los elementos restantes que sean valores positivos, 4ta componente: una lista de caracteres con tu nombre y apellidos (ej: \"Rocío\" \"Romero\" \"Zaliz\")]\n",
    "    * Una vez creado ponles nombre (ej: \"1ro\", \"2do\", etc)\n",
    "    * Accede al tercer elemento por su nombre\n",
    "    * Fusiona el primer y cuarto componente en un quinto componente y borra los originales\n",
    "4) Crea una nueva lista cuyos componentes sean las listas de los ejericios anteriores (OJO: Su longitude debería ser 3)\n",
    "5) Crea una nueva lista que concatene las listas de los tres primeros ejericios. ¿Qué longitud tiene?"
   ]
  },
  {
   "cell_type": "markdown",
   "id": "e8d6ff32",
   "metadata": {},
   "source": [
    "# Matrices"
   ]
  },
  {
   "cell_type": "markdown",
   "id": "b4cba868",
   "metadata": {},
   "source": [
    "* Las matrices son vectores con un atributo de dimensión. El atributo de dimensión es en sí mismo un vector entero de longitud 2 (nrow, ncol).\n",
    "* Todas las columnas de una matriz deben tener el mismo tipo (numérico, carácter, etc.) y la misma longitud."
   ]
  },
  {
   "cell_type": "code",
   "execution_count": null,
   "id": "19fc51e6",
   "metadata": {
    "vscode": {
     "languageId": "r"
    }
   },
   "outputs": [],
   "source": [
    "x <- 1:20\n",
    "print(x)\n",
    "dim(x) <- c(5,4)\n",
    "print(x)\n",
    "attributes(x)"
   ]
  },
  {
   "cell_type": "code",
   "execution_count": null,
   "id": "194e4cb4-0771-450e-9f7a-2191b2cacccc",
   "metadata": {
    "vscode": {
     "languageId": "r"
    }
   },
   "outputs": [],
   "source": [
    "x"
   ]
  },
  {
   "cell_type": "code",
   "execution_count": null,
   "id": "0928e61b-7b14-4108-b286-f47d914e2a62",
   "metadata": {
    "vscode": {
     "languageId": "r"
    }
   },
   "outputs": [],
   "source": [
    "class(x)"
   ]
  },
  {
   "cell_type": "code",
   "execution_count": null,
   "id": "5e64caff",
   "metadata": {
    "vscode": {
     "languageId": "r"
    }
   },
   "outputs": [],
   "source": [
    "matrix(nrow = 2, ncol = 3)"
   ]
  },
  {
   "cell_type": "code",
   "execution_count": null,
   "id": "5963d4c1",
   "metadata": {
    "vscode": {
     "languageId": "r"
    }
   },
   "outputs": [],
   "source": [
    "matrix(0, nrow = 2, ncol = 3)"
   ]
  },
  {
   "cell_type": "code",
   "execution_count": null,
   "id": "129faa33",
   "metadata": {
    "vscode": {
     "languageId": "r"
    }
   },
   "outputs": [],
   "source": [
    "matrix(\"a\", nrow = 2, ncol = 3)"
   ]
  },
  {
   "cell_type": "code",
   "execution_count": null,
   "id": "ea12c294",
   "metadata": {
    "vscode": {
     "languageId": "r"
    }
   },
   "outputs": [],
   "source": [
    "matrix(1:10, nrow = 3, ncol = 4)"
   ]
  },
  {
   "cell_type": "code",
   "execution_count": null,
   "id": "f9efdfb1",
   "metadata": {
    "vscode": {
     "languageId": "r"
    }
   },
   "outputs": [],
   "source": [
    "matrix(1:10, nrow=3, ncol = 4, byrow=TRUE)"
   ]
  },
  {
   "cell_type": "code",
   "execution_count": null,
   "id": "e4fb8ee8",
   "metadata": {
    "vscode": {
     "languageId": "r"
    }
   },
   "outputs": [],
   "source": [
    "?matrix"
   ]
  },
  {
   "cell_type": "code",
   "execution_count": null,
   "id": "83350b24",
   "metadata": {
    "vscode": {
     "languageId": "r"
    }
   },
   "outputs": [],
   "source": [
    "matrix(1:12, nrow = 3)"
   ]
  },
  {
   "cell_type": "code",
   "execution_count": null,
   "id": "2b71b0f9",
   "metadata": {
    "vscode": {
     "languageId": "r"
    }
   },
   "outputs": [],
   "source": [
    "matrix(1:12, ncol=3)"
   ]
  },
  {
   "cell_type": "code",
   "execution_count": null,
   "id": "526e7dbe",
   "metadata": {
    "vscode": {
     "languageId": "r"
    }
   },
   "outputs": [],
   "source": [
    "m <- matrix(1.1:12.1, nrow=3, byrow=FALSE)\n",
    "rownames(m) <- c(\"A\",\"B\",\"C\")\n",
    "colnames(m) <- c(\"1\",\"2\",\"x\",\"y\")\n",
    "m"
   ]
  },
  {
   "cell_type": "code",
   "execution_count": null,
   "id": "988e7003",
   "metadata": {
    "vscode": {
     "languageId": "r"
    }
   },
   "outputs": [],
   "source": [
    "print(dim(m))"
   ]
  },
  {
   "cell_type": "code",
   "execution_count": null,
   "id": "802eb0ba",
   "metadata": {
    "vscode": {
     "languageId": "r"
    }
   },
   "outputs": [],
   "source": [
    "length(m)"
   ]
  },
  {
   "cell_type": "code",
   "execution_count": null,
   "id": "9c0e4988",
   "metadata": {
    "vscode": {
     "languageId": "r"
    }
   },
   "outputs": [],
   "source": [
    "rbind(1:5,11:15)"
   ]
  },
  {
   "cell_type": "code",
   "execution_count": null,
   "id": "da754588",
   "metadata": {
    "vscode": {
     "languageId": "r"
    }
   },
   "outputs": [],
   "source": [
    "cbind(1:5,11:15)"
   ]
  },
  {
   "cell_type": "code",
   "execution_count": null,
   "id": "c7397f15",
   "metadata": {
    "vscode": {
     "languageId": "r"
    }
   },
   "outputs": [],
   "source": [
    "m"
   ]
  },
  {
   "cell_type": "code",
   "execution_count": null,
   "id": "c5c994a3",
   "metadata": {
    "vscode": {
     "languageId": "r"
    }
   },
   "outputs": [],
   "source": [
    "m[1,1]"
   ]
  },
  {
   "cell_type": "code",
   "execution_count": null,
   "id": "71f8fe12",
   "metadata": {
    "vscode": {
     "languageId": "r"
    }
   },
   "outputs": [],
   "source": [
    "print(m[1,])"
   ]
  },
  {
   "cell_type": "code",
   "execution_count": null,
   "id": "ffbb6241",
   "metadata": {
    "vscode": {
     "languageId": "r"
    }
   },
   "outputs": [],
   "source": [
    "print(m[,1])\n",
    "print(class(m[,1]))"
   ]
  },
  {
   "cell_type": "code",
   "execution_count": null,
   "id": "2049d868",
   "metadata": {
    "vscode": {
     "languageId": "r"
    }
   },
   "outputs": [],
   "source": [
    "print(m[,])"
   ]
  },
  {
   "cell_type": "code",
   "execution_count": null,
   "id": "28a42ac3",
   "metadata": {
    "vscode": {
     "languageId": "r"
    }
   },
   "outputs": [],
   "source": [
    "print(m[6])"
   ]
  },
  {
   "cell_type": "code",
   "execution_count": null,
   "id": "10187084",
   "metadata": {
    "vscode": {
     "languageId": "r"
    }
   },
   "outputs": [],
   "source": [
    "print(m)\n",
    "m[1:2,1:3]"
   ]
  },
  {
   "cell_type": "code",
   "execution_count": null,
   "id": "f18c3d75",
   "metadata": {
    "scrolled": true,
    "vscode": {
     "languageId": "r"
    }
   },
   "outputs": [],
   "source": [
    "m[,c(\"1\", \"x\")]"
   ]
  },
  {
   "cell_type": "code",
   "execution_count": null,
   "id": "9a645285",
   "metadata": {
    "vscode": {
     "languageId": "r"
    }
   },
   "outputs": [],
   "source": [
    "m[,c(-1,-4)]"
   ]
  },
  {
   "cell_type": "code",
   "execution_count": null,
   "id": "92031058",
   "metadata": {
    "vscode": {
     "languageId": "r"
    }
   },
   "outputs": [],
   "source": [
    "m[,-\"x\"] # Error!"
   ]
  },
  {
   "cell_type": "code",
   "execution_count": null,
   "id": "acb78728",
   "metadata": {
    "vscode": {
     "languageId": "r"
    }
   },
   "outputs": [],
   "source": [
    "print(colnames(m))\n",
    "c(\"x\") %in% colnames(m) "
   ]
  },
  {
   "cell_type": "code",
   "execution_count": null,
   "id": "20bbd7f2",
   "metadata": {
    "vscode": {
     "languageId": "r"
    }
   },
   "outputs": [],
   "source": [
    "colnames(m) %in% c(\"x\")"
   ]
  },
  {
   "cell_type": "code",
   "execution_count": null,
   "id": "18c7a0e0",
   "metadata": {
    "vscode": {
     "languageId": "r"
    }
   },
   "outputs": [],
   "source": [
    "colnames(m)[4] <- \"1\"\n",
    "print(colnames(m))"
   ]
  },
  {
   "cell_type": "code",
   "execution_count": null,
   "id": "fe2507bf",
   "metadata": {
    "vscode": {
     "languageId": "r"
    }
   },
   "outputs": [],
   "source": [
    "m <- m[,!(colnames(m) %in% c(\"x\"))]\n",
    "m"
   ]
  },
  {
   "cell_type": "code",
   "execution_count": null,
   "id": "0932b1fa",
   "metadata": {
    "vscode": {
     "languageId": "r"
    }
   },
   "outputs": [],
   "source": [
    "print(m[1,])\n",
    "class(m[1,])"
   ]
  },
  {
   "cell_type": "code",
   "execution_count": null,
   "id": "aad71cbd",
   "metadata": {
    "vscode": {
     "languageId": "r"
    }
   },
   "outputs": [],
   "source": [
    "m[1,,drop=FALSE]"
   ]
  },
  {
   "cell_type": "code",
   "execution_count": null,
   "id": "c5059656",
   "metadata": {
    "vscode": {
     "languageId": "r"
    }
   },
   "outputs": [],
   "source": [
    "print(m[1,,drop=TRUE])"
   ]
  },
  {
   "cell_type": "code",
   "execution_count": null,
   "id": "d11c4acf",
   "metadata": {
    "vscode": {
     "languageId": "r"
    }
   },
   "outputs": [],
   "source": [
    "mx <- matrix(1:12, nrow=3, byrow=TRUE)\n",
    "mx"
   ]
  },
  {
   "cell_type": "code",
   "execution_count": null,
   "id": "ee966935",
   "metadata": {
    "vscode": {
     "languageId": "r"
    }
   },
   "outputs": [],
   "source": [
    "mx[3, 2] <- 4\n",
    "mx"
   ]
  },
  {
   "cell_type": "code",
   "execution_count": null,
   "id": "83ec3648",
   "metadata": {
    "vscode": {
     "languageId": "r"
    }
   },
   "outputs": [],
   "source": [
    "mx[2, ] <- c(1,3) # Recycle!\n",
    "mx"
   ]
  },
  {
   "cell_type": "code",
   "execution_count": null,
   "id": "a9de04c4",
   "metadata": {
    "vscode": {
     "languageId": "r"
    }
   },
   "outputs": [],
   "source": [
    "print(mx[1:2, 3:4])\n",
    "mx[1:2, 3:4] <- c(8,4,2,1)\n",
    "mx"
   ]
  },
  {
   "cell_type": "code",
   "execution_count": null,
   "id": "1987b56c-fdc9-4df9-98a1-c5badaa557db",
   "metadata": {
    "vscode": {
     "languageId": "r"
    }
   },
   "outputs": [],
   "source": [
    "print(dim(mx))"
   ]
  },
  {
   "cell_type": "code",
   "execution_count": null,
   "id": "4eaef839-4f4d-4167-83a2-053221226b0e",
   "metadata": {
    "vscode": {
     "languageId": "r"
    }
   },
   "outputs": [],
   "source": [
    "dim(mx)[1]"
   ]
  },
  {
   "cell_type": "code",
   "execution_count": null,
   "id": "2b46b114-dc1e-438a-8ca9-65eb08b7ab5f",
   "metadata": {
    "vscode": {
     "languageId": "r"
    }
   },
   "outputs": [],
   "source": [
    "dim(mx)[2]"
   ]
  },
  {
   "cell_type": "code",
   "execution_count": null,
   "id": "0e8eb019",
   "metadata": {
    "vscode": {
     "languageId": "r"
    }
   },
   "outputs": [],
   "source": [
    "ncol(mx)"
   ]
  },
  {
   "cell_type": "code",
   "execution_count": null,
   "id": "e420014b",
   "metadata": {
    "vscode": {
     "languageId": "r"
    }
   },
   "outputs": [],
   "source": [
    "nrow(mx)"
   ]
  },
  {
   "cell_type": "code",
   "execution_count": null,
   "id": "19d9dab0",
   "metadata": {
    "vscode": {
     "languageId": "r"
    }
   },
   "outputs": [],
   "source": [
    "t(mx)"
   ]
  },
  {
   "cell_type": "code",
   "execution_count": null,
   "id": "1a7e4f3b",
   "metadata": {
    "vscode": {
     "languageId": "r"
    }
   },
   "outputs": [],
   "source": [
    "diag(mx)"
   ]
  },
  {
   "cell_type": "code",
   "execution_count": null,
   "id": "dabc899e",
   "metadata": {
    "vscode": {
     "languageId": "r"
    }
   },
   "outputs": [],
   "source": [
    "m * m"
   ]
  },
  {
   "cell_type": "code",
   "execution_count": null,
   "id": "922420c4",
   "metadata": {
    "vscode": {
     "languageId": "r"
    }
   },
   "outputs": [],
   "source": [
    "m %*% m # Multiplicación de matrices"
   ]
  },
  {
   "cell_type": "code",
   "execution_count": null,
   "id": "c3d98b38",
   "metadata": {
    "scrolled": true,
    "vscode": {
     "languageId": "r"
    }
   },
   "outputs": [],
   "source": [
    "a <- attributes(m)\n",
    "print(a)"
   ]
  },
  {
   "cell_type": "code",
   "execution_count": null,
   "id": "6923a76f",
   "metadata": {
    "vscode": {
     "languageId": "r"
    }
   },
   "outputs": [],
   "source": [
    "class(attributes(m))"
   ]
  },
  {
   "cell_type": "code",
   "execution_count": null,
   "id": "dc544347",
   "metadata": {
    "vscode": {
     "languageId": "r"
    }
   },
   "outputs": [],
   "source": [
    "a$dimnames[[1]]"
   ]
  },
  {
   "cell_type": "code",
   "execution_count": null,
   "id": "4d0bdc3e",
   "metadata": {
    "vscode": {
     "languageId": "r"
    }
   },
   "outputs": [],
   "source": [
    "print(list_data[[1]][1])"
   ]
  },
  {
   "cell_type": "markdown",
   "id": "6ff19056",
   "metadata": {},
   "source": [
    "# Arrays"
   ]
  },
  {
   "cell_type": "markdown",
   "id": "9c20677c",
   "metadata": {},
   "source": [
    "Las matrices con más de dos dimensiones se llaman `array`"
   ]
  },
  {
   "cell_type": "code",
   "execution_count": null,
   "id": "53d8c776",
   "metadata": {
    "vscode": {
     "languageId": "r"
    }
   },
   "outputs": [],
   "source": [
    "x <- 1:20\n",
    "dim(x) <- c(2,5,2)\n",
    "print(x)"
   ]
  },
  {
   "cell_type": "code",
   "execution_count": null,
   "id": "9acb70e7",
   "metadata": {
    "vscode": {
     "languageId": "r"
    }
   },
   "outputs": [],
   "source": [
    "a <- array(1:24, dim=c(3,4,2))\n",
    "print(a) # Una matriz de 3 dimensiones"
   ]
  },
  {
   "cell_type": "code",
   "execution_count": null,
   "id": "62233f6c",
   "metadata": {
    "vscode": {
     "languageId": "r"
    }
   },
   "outputs": [],
   "source": [
    "a <- array(1:24, dim=c(3,4,2), \n",
    "           dimnames = list(c(\"ROW1\",\"ROW2\",\"ROW3\"), \n",
    "                           c(\"COL1\",\"COL2\",\"COL3\",\"COL4\"), \n",
    "                           c(\"Matrix1\",\"Matrix2\")))\n",
    "print(a)"
   ]
  },
  {
   "cell_type": "code",
   "execution_count": null,
   "id": "4585d265-8162-465a-846c-67ed33957d40",
   "metadata": {
    "vscode": {
     "languageId": "r"
    }
   },
   "outputs": [],
   "source": [
    "print(a[1,3,,drop=FALSE])"
   ]
  },
  {
   "cell_type": "code",
   "execution_count": null,
   "id": "9c918673",
   "metadata": {
    "vscode": {
     "languageId": "r"
    }
   },
   "outputs": [],
   "source": [
    "a[1,3,1]"
   ]
  },
  {
   "cell_type": "code",
   "execution_count": null,
   "id": "b6f858c8",
   "metadata": {
    "vscode": {
     "languageId": "r"
    }
   },
   "outputs": [],
   "source": [
    "print(a[3,,2])"
   ]
  },
  {
   "cell_type": "code",
   "execution_count": null,
   "id": "648af0d8",
   "metadata": {
    "vscode": {
     "languageId": "r"
    }
   },
   "outputs": [],
   "source": [
    "print(a[,,2])"
   ]
  },
  {
   "cell_type": "markdown",
   "id": "804c4b3f-a008-4230-9e71-f50cfaa23c3a",
   "metadata": {},
   "source": [
    "### Ejercicios matrices y arrays\n",
    "1) Dada la siguiente matriz:\n",
    "<pre>laberinto <- matrix(c(\n",
    "   \"O\", \"X\", \"O\", \"O\", \"O\",\n",
    "   \"O\", \"X\", \"X\", \"X\", \"O\",\n",
    "   \"O\", \"O\", \"O\", \"O\", \"X\",\n",
    "   \"X\", \"X\", \"X\", \"O\", \"X\",\n",
    "   \"O\", \"O\", \"O\", \"O\", \"O\"\n",
    " ), nrow = 5, byrow = TRUE)</pre>\n",
    "    * Indique donde están las \"X\" usando la función `which`\n",
    "    * Indique donde están las \"X\" usando la función `which` pero usando el parámetro `arr.ind`\n",
    "    * Indique cuantos valores \"X\" hay en la matriz\n",
    "    * Reemplace las \"X\" por 1 y los \"O\" por 0 y convierta la matrix en una matrix numérica\n",
    "    * Indique si la matrix es simétrica\n",
    "    * Cree una nueva matrix con los valores en las filas y columnas pares \n",
    "2) Crea una matriz que represente un Sudoku. Debe estar inicializada en NA. Luego rellenar solo un 10% de las casillas con un valor entre 1 y 9 (HINT: usa la función `sample`). No se preocupe de que sea un esquema válido (se pueden repetir valores en una fila por ejemplo... eso ya lo haremos más adelante... si acaso...)\n",
    "3) Teniendo estas dos matrices:\n",
    "<pre>matriz <- matrix(sample(1:9, 30,replace=TRUE), nrow=5)</pre>\n",
    "<pre>mascara <- matrix(sample(c(TRUE,FALSE), 30, replace=TRUE), nrow=5)</pre>\n",
    "    * Aplique la máscara a la matrix, en donde si la posicion en la máscara es FALSE entonces el resultado es 0 y sino se mantiene su valor\n",
    "    * Calcule el producto de la matriz original por la matriz modificada traspuesta (NOTA: la matriz final será de 5x5)\n",
    "4) Crea un array 5D llamado \"mi_array5D\" con las siguientes características, rellénalo con números enteros consecutivos comenzando desde 1:\n",
    "    - Tamaño de la primera dimensión: 2 elementos\n",
    "    - Tamaño de la segunda dimensión: 3 elementos\n",
    "    - Tamaño de la tercera dimensión: 4 elementos\n",
    "    - Tamaño de la cuarta dimensión: 5 elementos\n",
    "    - Tamaño de la quinta dimensión: 6 elementos\n",
    "    \n",
    "    4.1) Accede a los siguientes elementos del array:\n",
    "    * los elementos pares (analice la posición de esos valores en las 5 dimensiones)\n",
    "    * estudiando el caso anterior muestre los elementos impares sin usar ningun tipo de condicional, igualdad o desigualdad\n",
    "    \n",
    "    4.2) Redimensiona el array para que tenga:\n",
    "    - Tamaño de la primera dimensión: 6 elementos.\n",
    "    - Tamaño de la segunda dimensión: 5 elementos.\n",
    "    - Tamaño de la tercera dimensión: 4 elementos.\n",
    "    - Tamaño de la cuarta dimensión: 3 elementos.\n",
    "    - Tamaño de la quinta dimensión: 2 elementos.\n",
    "5) Supongamos que tenemos un grafo no dirigido con 6 nodos etiquetados del 1 al 6, y las siguientes aristas:\n",
    "    * Arista 1: (1, 2)\n",
    "    * Arista 2: (1, 3)\n",
    "    * Arista 3: (2, 4)\n",
    "    * Arista 4: (2, 5)\n",
    "    * Arista 5: (3, 6)\n",
    "    * Arista 6: (4, 5)\n",
    "    \n",
    "    Crea una matriz de adyacencia \"matriz_adyacencia\" en R para representar este grafo. En una matriz de adyacencia, las filas y columnas representan los nodos, y un valor 1 indica que existe una arista entre los nodos correspondientes, mientras que un valor 0 indica la ausencia de una arista.\n",
    "    * Calcula el grado del nodo 4 en el grafo. El grado de un nodo es la cantidad de aristas que inciden en él\n",
    "    * Encuentra todos los nodos adyacentes del nodo 2\n",
    "    * Cuenta la cantidad de nodos que tiene una arista hacia si mismos (self-loop)"
   ]
  },
  {
   "cell_type": "markdown",
   "id": "bfa1c74f",
   "metadata": {},
   "source": [
    "# Factores (variables nominales)\n",
    "Los factores son vectores para valores categóricos\n",
    "* Levels: refers to the input values\n",
    "* Labels: refers to the output values of the new factor"
   ]
  },
  {
   "cell_type": "code",
   "execution_count": null,
   "id": "407b307f",
   "metadata": {
    "scrolled": true,
    "vscode": {
     "languageId": "r"
    }
   },
   "outputs": [],
   "source": [
    "Pain <- c(0,3,2,2,1)\n",
    "Pain"
   ]
  },
  {
   "cell_type": "code",
   "execution_count": null,
   "id": "3d123fe7",
   "metadata": {
    "scrolled": true,
    "vscode": {
     "languageId": "r"
    }
   },
   "outputs": [],
   "source": [
    "SevPain <- factor(c(0,3,2,2,1), levels=c(0,1,2,3), labels=c(\"none\",\"mild\",\"medium\",\"severe\"))\n",
    "class(SevPain)"
   ]
  },
  {
   "cell_type": "code",
   "execution_count": null,
   "id": "2a5d7770-38a3-4aa4-9aff-487bbe191a6c",
   "metadata": {
    "vscode": {
     "languageId": "r"
    }
   },
   "outputs": [],
   "source": [
    "SevPain"
   ]
  },
  {
   "cell_type": "code",
   "execution_count": null,
   "id": "ab2bd774",
   "metadata": {
    "vscode": {
     "languageId": "r"
    }
   },
   "outputs": [],
   "source": [
    "directions <- c(\"North\", \"East\", \"South\", \"South\")\n",
    "factor(directions)"
   ]
  },
  {
   "cell_type": "code",
   "execution_count": null,
   "id": "bcc289be",
   "metadata": {
    "vscode": {
     "languageId": "r"
    }
   },
   "outputs": [],
   "source": [
    "factor(directions, levels=c(\"North\", \"East\", \"South\", \"West\"), labels=c(\"N\",\"E\",\"S\",\"W\"))"
   ]
  },
  {
   "cell_type": "code",
   "execution_count": null,
   "id": "909a6021",
   "metadata": {
    "vscode": {
     "languageId": "r"
    }
   },
   "outputs": [],
   "source": [
    "fdir <- factor(directions, levels=c(\"North\", \"East\", \"South\", \"West\"), labels=c(\"N\",\"E\",\"S\",\"W\"))\n",
    "table(fdir)"
   ]
  },
  {
   "cell_type": "code",
   "execution_count": null,
   "id": "e3d24d78",
   "metadata": {
    "vscode": {
     "languageId": "r"
    }
   },
   "outputs": [],
   "source": [
    "table(factor(directions))"
   ]
  },
  {
   "cell_type": "code",
   "execution_count": null,
   "id": "24f168a8",
   "metadata": {
    "vscode": {
     "languageId": "r"
    }
   },
   "outputs": [],
   "source": [
    "print(fdir)\n",
    "fdir[1] <- \"E\"\n",
    "print(fdir)\n",
    "fdir[1] <- \"pepe\"\n",
    "print(fdir)"
   ]
  },
  {
   "cell_type": "code",
   "execution_count": null,
   "id": "93eab3ec",
   "metadata": {
    "vscode": {
     "languageId": "r"
    }
   },
   "outputs": [],
   "source": [
    "levels(fdir) <- c(levels(fdir), \"pepe\")\n",
    "fdir[1] <- \"pepe\"\n",
    "print(fdir)"
   ]
  },
  {
   "cell_type": "markdown",
   "id": "08380dc3",
   "metadata": {},
   "source": [
    "# Factores ordenados (variables ordinales)"
   ]
  },
  {
   "cell_type": "code",
   "execution_count": null,
   "id": "15401aa2",
   "metadata": {
    "vscode": {
     "languageId": "r"
    }
   },
   "outputs": [],
   "source": [
    "status <- c(\"Lo\", \"Hi\", \"Med\", \"Med\", \"Hi\")\n",
    "ordered.status <- factor(status, levels=c(\"Lo\", \"Med\", \"Hi\"), ordered=TRUE)\n",
    "print(ordered.status)"
   ]
  },
  {
   "cell_type": "code",
   "execution_count": null,
   "id": "df8aa7bb",
   "metadata": {
    "vscode": {
     "languageId": "r"
    }
   },
   "outputs": [],
   "source": [
    "table(status)"
   ]
  },
  {
   "cell_type": "code",
   "execution_count": null,
   "id": "236dbc01",
   "metadata": {
    "vscode": {
     "languageId": "r"
    }
   },
   "outputs": [],
   "source": [
    "table(ordered.status)"
   ]
  },
  {
   "cell_type": "markdown",
   "id": "7fca595b",
   "metadata": {},
   "source": [
    " ### WTF?"
   ]
  },
  {
   "cell_type": "code",
   "execution_count": null,
   "id": "b3c4264c",
   "metadata": {
    "vscode": {
     "languageId": "r"
    }
   },
   "outputs": [],
   "source": [
    "f <- factor(c(101,6,8,9,6,103))\n",
    "print(f)\n",
    "is.numeric(f)"
   ]
  },
  {
   "cell_type": "code",
   "execution_count": null,
   "id": "b86f9cbb",
   "metadata": {
    "vscode": {
     "languageId": "r"
    }
   },
   "outputs": [],
   "source": [
    "as.numeric(f)"
   ]
  },
  {
   "cell_type": "code",
   "execution_count": null,
   "id": "66dcce0f",
   "metadata": {
    "vscode": {
     "languageId": "r"
    }
   },
   "outputs": [],
   "source": [
    "as.numeric(levels(f))"
   ]
  },
  {
   "cell_type": "code",
   "execution_count": null,
   "id": "1c891773",
   "metadata": {
    "vscode": {
     "languageId": "r"
    }
   },
   "outputs": [],
   "source": [
    "as.numeric(levels(f))[as.numeric(f)]"
   ]
  },
  {
   "cell_type": "code",
   "execution_count": null,
   "id": "cccfbbc8",
   "metadata": {
    "vscode": {
     "languageId": "r"
    }
   },
   "outputs": [],
   "source": [
    "print(as.character(f))\n",
    "as.numeric(as.character(f))"
   ]
  },
  {
   "cell_type": "code",
   "execution_count": null,
   "id": "51c458af",
   "metadata": {
    "vscode": {
     "languageId": "r"
    }
   },
   "outputs": [],
   "source": [
    "ff <- factor(c(\"AA\", \"BA\", \"CA\"))\n",
    "print(ff)\n",
    "ff[1:2]"
   ]
  },
  {
   "cell_type": "code",
   "execution_count": null,
   "id": "10b674f8",
   "metadata": {
    "vscode": {
     "languageId": "r"
    }
   },
   "outputs": [],
   "source": [
    "ff[1:2, drop=TRUE] # Borrar opcion 1"
   ]
  },
  {
   "cell_type": "code",
   "execution_count": null,
   "id": "20b43a0a",
   "metadata": {
    "vscode": {
     "languageId": "r"
    }
   },
   "outputs": [],
   "source": [
    "factor(ff[1:2]) # \"Borrar\" opcion 2"
   ]
  },
  {
   "cell_type": "code",
   "execution_count": null,
   "id": "82f80baf",
   "metadata": {
    "vscode": {
     "languageId": "r"
    }
   },
   "outputs": [],
   "source": [
    "f1 <- factor(c(\"AA\", \"BA\", NA, \"NA\"))\n",
    "f1"
   ]
  },
  {
   "cell_type": "code",
   "execution_count": null,
   "id": "dd691181",
   "metadata": {
    "vscode": {
     "languageId": "r"
    }
   },
   "outputs": [],
   "source": [
    "f1 <- factor(c(\"AA\", \"BA\", NA, \"NA\"), exclude=NULL)\n",
    "f1"
   ]
  },
  {
   "cell_type": "markdown",
   "id": "e325be1d",
   "metadata": {},
   "source": [
    "### Ejercicios factores\n",
    "1) Crea un factor llamado \"fact_puntuacion\" que contenga puntuaciones de 1 al 5 para 1000 productos. Utiliza la función `summary()` para obtener un resumen de la distribución de puntuaciones. ¿Qué puedes deducir del tipo de aleatoriedad usada en `sample`? ¿Es normal, uniforme, ...?\n",
    "2) Crea un factor ordenado para edades entre 0 y 100 de 100 personas. Utiliza la función `cut` para generar 3 nieveles separados. Ahora reetiqueta el factor como \"joven\", \"adulto\" o \"anciano\". Muestra la frecuencia de cada nivel.\n",
    "3) Crea un factor para el siguiente vector teniendo en cuenta que los niveles posibles son todas las letras de la \"A\" a la \"Z\":\n",
    "<pre>v <- c(\"A\",\"I\", \"I\", \"J\", \"A\", \"Z\", \"X\")</pre>\n",
    "    * Modifica una de las \"I\" por una \"F\"\n",
    "    * Agrega una nueva \"A\" en última posición\n",
    "    * Indica las letras que aparecen en el factor ordenadas por su frecuencia, empezando con la menos frecuente"
   ]
  },
  {
   "cell_type": "markdown",
   "id": "681b13b8",
   "metadata": {},
   "source": [
    "# Data Frames\n",
    "\n",
    "Un marco de datos o data frame es una matriz generalizada, donde las diferentes columnas pueden tener diferentes tipos de datos (numérico, carácter, factor, etc.).\n",
    "\n",
    "Por ejemplo, vectores y/o factores de la misma longitud que están relacionados \"transversalmente\", de forma que los datos en la misma posición proceden de la misma unidad experimental (sujeto, animal, etc.)."
   ]
  },
  {
   "cell_type": "code",
   "execution_count": null,
   "id": "9c37f911",
   "metadata": {
    "vscode": {
     "languageId": "r"
    }
   },
   "outputs": [],
   "source": [
    "S <- as.factor(c(\"F\",\"M\",\"M\",\"F\"))\n",
    "Patients <- data.frame(age=c(31,32,40,50), sex=S)\n",
    "Patients"
   ]
  },
  {
   "cell_type": "code",
   "execution_count": null,
   "id": "225eeb70",
   "metadata": {
    "vscode": {
     "languageId": "r"
    }
   },
   "outputs": [],
   "source": [
    "employee <- c(\"John Doe\",\"Peter Gynn\",\"Jolie Hope\")\n",
    "salary <- c(21000, 23400, 26800)\n",
    "startdate <- as.Date(c(\"2010-11-1\",\"2008-3-25\",\"2007-3-14\"))\n",
    "\n",
    "employ.data <- data.frame(employee, salary, startdate)\n",
    "employ.data"
   ]
  },
  {
   "cell_type": "code",
   "execution_count": null,
   "id": "42326b93",
   "metadata": {
    "vscode": {
     "languageId": "r"
    }
   },
   "outputs": [],
   "source": [
    "str(employ.data)"
   ]
  },
  {
   "cell_type": "code",
   "execution_count": null,
   "id": "710ecca3",
   "metadata": {
    "vscode": {
     "languageId": "r"
    }
   },
   "outputs": [],
   "source": [
    "employ.data <- data.frame(employee, salary, startdate, stringsAsFactors=TRUE)\n",
    "employ.data"
   ]
  },
  {
   "cell_type": "code",
   "execution_count": null,
   "id": "e4295518",
   "metadata": {
    "vscode": {
     "languageId": "r"
    }
   },
   "outputs": [],
   "source": [
    "ncol(employ.data)"
   ]
  },
  {
   "cell_type": "code",
   "execution_count": null,
   "id": "22efd69f",
   "metadata": {
    "vscode": {
     "languageId": "r"
    }
   },
   "outputs": [],
   "source": [
    "nrow(employ.data)"
   ]
  },
  {
   "cell_type": "code",
   "execution_count": null,
   "id": "cdef6ff9",
   "metadata": {
    "vscode": {
     "languageId": "r"
    }
   },
   "outputs": [],
   "source": [
    "length(employ.data) # ¡Cuidado! -> Nunmero de filas"
   ]
  },
  {
   "cell_type": "code",
   "execution_count": null,
   "id": "22a9f113",
   "metadata": {
    "vscode": {
     "languageId": "r"
    }
   },
   "outputs": [],
   "source": [
    "summary(employ.data)"
   ]
  },
  {
   "cell_type": "code",
   "execution_count": null,
   "id": "db23df3b",
   "metadata": {
    "vscode": {
     "languageId": "r"
    }
   },
   "outputs": [],
   "source": [
    "print(employ.data[,1])\n",
    "employ.data[1,1]"
   ]
  },
  {
   "cell_type": "code",
   "execution_count": null,
   "id": "1b489437",
   "metadata": {
    "vscode": {
     "languageId": "r"
    }
   },
   "outputs": [],
   "source": [
    "employ.data[1,]"
   ]
  },
  {
   "cell_type": "code",
   "execution_count": null,
   "id": "f44820e7",
   "metadata": {
    "vscode": {
     "languageId": "r"
    }
   },
   "outputs": [],
   "source": [
    "employ.data[,1]"
   ]
  },
  {
   "cell_type": "code",
   "execution_count": null,
   "id": "80c9bffc",
   "metadata": {
    "vscode": {
     "languageId": "r"
    }
   },
   "outputs": [],
   "source": [
    "employ.data$employee"
   ]
  },
  {
   "cell_type": "code",
   "execution_count": null,
   "id": "20740e85",
   "metadata": {
    "vscode": {
     "languageId": "r"
    }
   },
   "outputs": [],
   "source": [
    "class(c(\"John Doe\", 50000, \"1990-11-1\"))"
   ]
  },
  {
   "cell_type": "code",
   "execution_count": null,
   "id": "54f0474a",
   "metadata": {
    "vscode": {
     "languageId": "r"
    }
   },
   "outputs": [],
   "source": [
    "rbind(employ.data, c(\"John Doe\", 50000, \"1990-11-1\"))"
   ]
  },
  {
   "cell_type": "code",
   "execution_count": null,
   "id": "fae8c5fa",
   "metadata": {
    "vscode": {
     "languageId": "r"
    }
   },
   "outputs": [],
   "source": [
    "rbind(employ.data, c(\"Rocio Romero\", 50000, \"1990-11-1\")) # Error"
   ]
  },
  {
   "cell_type": "code",
   "execution_count": null,
   "id": "4a075bb0",
   "metadata": {
    "vscode": {
     "languageId": "r"
    }
   },
   "outputs": [],
   "source": [
    "rbind(employ.data, c(\"John Doe\", 50000)) # Error"
   ]
  },
  {
   "cell_type": "code",
   "execution_count": null,
   "id": "9d222db5",
   "metadata": {
    "vscode": {
     "languageId": "r"
    }
   },
   "outputs": [],
   "source": [
    "# Crear los datos para el dataframe\n",
    "year <- c(2000, 2020, 2021, 2021, 2022, 2022, 2023, 2023, 2024, 2024)\n",
    "country <- c(\"Argentina\", \"Brasil\", \"Chile\", \"Colombia\", \"Ecuador\", \"Perú\", \"México\", \"Uruguay\", \"Paraguay\", \"Bolivia\")\n",
    "valor1 <- c(100, 120, 90, 110, 80, 105, 115, 95, 125, 75)\n",
    "\n",
    "# Crear el dataframe\n",
    "data1 <- data.frame(year, country, valor1)\n",
    "data1"
   ]
  },
  {
   "cell_type": "code",
   "execution_count": null,
   "id": "2ea011c7",
   "metadata": {
    "vscode": {
     "languageId": "r"
    }
   },
   "outputs": [],
   "source": [
    "# Crear los datos para el dataframe\n",
    "country <- rep(c(\"Argentina\", \"Brasil\", \"Chile\"), each = 1, times = 5)\n",
    "year <- c(rep(seq(2000, 2006, by = 1), each = 2), 2020)\n",
    "valor2 <- runif(15, min = 1, max = 100) # Valores aleatorios entre 1 y 100\n",
    "\n",
    "# Crear el dataframe\n",
    "data2 <- data.frame(country, year, valor2)\n",
    "data2"
   ]
  },
  {
   "cell_type": "code",
   "execution_count": null,
   "id": "bb4933a7",
   "metadata": {
    "vscode": {
     "languageId": "r"
    }
   },
   "outputs": [],
   "source": [
    "data1$country <- as.factor(data1$country)\n",
    "data1"
   ]
  },
  {
   "cell_type": "code",
   "execution_count": null,
   "id": "714c9e8a",
   "metadata": {
    "vscode": {
     "languageId": "r"
    }
   },
   "outputs": [],
   "source": [
    "length(data1)"
   ]
  },
  {
   "cell_type": "code",
   "execution_count": null,
   "id": "f4998beb",
   "metadata": {
    "vscode": {
     "languageId": "r"
    }
   },
   "outputs": [],
   "source": [
    "levels(data[,2]) <- c(levels(data[,2]), \"Corea del Sur\")\n",
    "data[1,2] <- \"Corea del Sur\""
   ]
  },
  {
   "cell_type": "code",
   "execution_count": null,
   "id": "82599612",
   "metadata": {
    "vscode": {
     "languageId": "r"
    }
   },
   "outputs": [],
   "source": [
    "levels(data[,2])[length(levels(data[,2])) + 1] <- \"Corea del Sur\"\n",
    "data[1,2] <- \"Corea del Sur\""
   ]
  },
  {
   "cell_type": "code",
   "execution_count": null,
   "id": "185dac6a",
   "metadata": {
    "vscode": {
     "languageId": "r"
    }
   },
   "outputs": [],
   "source": [
    "data1[,2] <- list(1:10)\n",
    "data1"
   ]
  },
  {
   "cell_type": "code",
   "execution_count": null,
   "id": "ede8c554",
   "metadata": {
    "vscode": {
     "languageId": "r"
    }
   },
   "outputs": [],
   "source": [
    "as.data.frame(as.list(data1))"
   ]
  },
  {
   "cell_type": "code",
   "execution_count": null,
   "id": "cc4631f1",
   "metadata": {
    "vscode": {
     "languageId": "r"
    }
   },
   "outputs": [],
   "source": [
    "?merge"
   ]
  },
  {
   "cell_type": "code",
   "execution_count": null,
   "id": "222b6ba9",
   "metadata": {
    "vscode": {
     "languageId": "r"
    }
   },
   "outputs": [],
   "source": [
    "data1"
   ]
  },
  {
   "cell_type": "code",
   "execution_count": null,
   "id": "6dd0ddf4",
   "metadata": {
    "vscode": {
     "languageId": "r"
    }
   },
   "outputs": [],
   "source": [
    "data2"
   ]
  },
  {
   "cell_type": "code",
   "execution_count": null,
   "id": "7eb8e815",
   "metadata": {
    "vscode": {
     "languageId": "r"
    }
   },
   "outputs": [],
   "source": [
    "merge(data1, data2, by = c(\"country\", \"year\")) # conserva sólo las observaciones coincidentes"
   ]
  },
  {
   "cell_type": "code",
   "execution_count": null,
   "id": "c883aac5",
   "metadata": {
    "vscode": {
     "languageId": "r"
    }
   },
   "outputs": [],
   "source": [
    "merge(data1, data2, by = c(\"country\", \"year\"), all.x = TRUE)"
   ]
  },
  {
   "cell_type": "code",
   "execution_count": null,
   "id": "b3a4278e",
   "metadata": {
    "vscode": {
     "languageId": "r"
    }
   },
   "outputs": [],
   "source": [
    "merge(data1, data2, by = c(\"country\", \"year\"), all.y = TRUE)"
   ]
  },
  {
   "cell_type": "code",
   "execution_count": null,
   "id": "bc84eaf8",
   "metadata": {
    "vscode": {
     "languageId": "r"
    }
   },
   "outputs": [],
   "source": [
    "merge(data1, data2, by = c(\"country\", \"year\"), all = TRUE)"
   ]
  },
  {
   "cell_type": "markdown",
   "id": "57f67e5c",
   "metadata": {},
   "source": [
    "### Ejercicios data frames\n",
    "1) Usando el dataset `mtcars`:\n",
    "    * Muestra las 5 primeras filas\n",
    "    * Presenta un resumen del datasest\n",
    "    * Haz una copia del dataset y:\n",
    "        * Convierte la variables \"cyl\", \"gear\" y \"carb\" en factores\n",
    "        * Convierte las variables \"vs\" y \"am\" en lógicas\n",
    "        * Muestra solo los coches con una potencia (\"hp\") mayor a 100\n",
    "        * Crea un nuevo data frame llamado coches_seleccionados que incluya solo las columnas \"mpg\", \"cyl\", \"hp\" y \"qsec\" del dataset\n",
    "        * Calcula el resumen estadístico (media, mediana, desviación estándar, etc.) de la columna \"mpg\" (millas por galón) para todos los coches en el dataset\n",
    "        * Idem para \"cyl\" (número de cilindros)\n",
    "        * Calcula la cantidad total de coches para cada valor único en la columna \"cyl\" (número de cilindros)\n",
    "        * Encuentra el modelo de coche con la mayor potencia (\"hp\") y muestra su información completa\n",
    "        * Calcula el promedio de potencia de los coches con 8 cilindros\n",
    "2) Usando el dataset `Cars93` del paquete `MASS` y el dataset `mtcars`:\n",
    "    * Agrega una columna al dataset de `mtcars` que contenga la marca y modelo de cada coche\n",
    "    * Combina los dos dataset por modelo y marca del coche solo para aquellos modelos presentes en ambos datasets. ¿Coinciden los demás valores?\n",
    "3) Supongamos que tienes dos dataframes con información sobre estudiantes de dos cursos diferentes. Cada data frame contiene tres columnas: \"Nombre\", \"Edad\" y \"Promedio\".\n",
    "<pre>\n",
    "curso_a <- data.frame(\n",
    "    Nombre = c(\"Juan\", \"María\", \"Carlos\"),\n",
    "    Edad = c(20, 22, 21),\n",
    "    Promedio = c(85, 92, 78))\n",
    "</pre><pre>\n",
    "curso_b <- data.frame(\n",
    "       Nombre = c(\"Ana\", \"Luis\", \"Sofía\", \"Lourdes\"),\n",
    "       Edad = c(19, 23, 20, 21),\n",
    "       Promedio = c(88, 90, 85, 80))\n",
    "</pre>\n",
    "* Combina los dos dataframes en uno solo llamado todos_los_estudiantes\n",
    "* Agrega una nueva columna llamada \"Curso\" al dataframe todos_los_estudiantes que indicar a qué curso pertenece cada estudiante (\"A\" o \"B\")"
   ]
  },
  {
   "cell_type": "code",
   "execution_count": null,
   "id": "b3be1633",
   "metadata": {
    "vscode": {
     "languageId": "r"
    }
   },
   "outputs": [],
   "source": [
    "?mtcars"
   ]
  },
  {
   "cell_type": "code",
   "execution_count": null,
   "id": "42aaf83d",
   "metadata": {
    "vscode": {
     "languageId": "r"
    }
   },
   "outputs": [],
   "source": [
    "?Cars93"
   ]
  },
  {
   "cell_type": "code",
   "execution_count": null,
   "id": "c4bb9a84",
   "metadata": {
    "vscode": {
     "languageId": "r"
    }
   },
   "outputs": [],
   "source": [
    "mtcars"
   ]
  },
  {
   "cell_type": "code",
   "execution_count": null,
   "id": "98df2aff",
   "metadata": {
    "vscode": {
     "languageId": "r"
    }
   },
   "outputs": [],
   "source": [
    "library(MASS)\n",
    "Cars93"
   ]
  }
 ],
 "metadata": {
  "kernelspec": {
   "display_name": "R",
   "language": "R",
   "name": "ir"
  },
  "language_info": {
   "codemirror_mode": "r",
   "file_extension": ".r",
   "mimetype": "text/x-r-source",
   "name": "R",
   "pygments_lexer": "r",
   "version": "4.5.1"
  }
 },
 "nbformat": 4,
 "nbformat_minor": 5
}
