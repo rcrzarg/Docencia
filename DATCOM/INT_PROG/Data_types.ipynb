{
 "cells": [
  {
   "cell_type": "markdown",
   "id": "f0dc25a0",
   "metadata": {},
   "source": [
    "# Introducción a la Programación para Ciencia de Datos\n",
    "## Lenguaje de programación R\n",
    "_Rocío Romero Zaliz_ - rocio@decsai.ugr.es"
   ]
  },
  {
   "cell_type": "markdown",
   "id": "6032a119",
   "metadata": {},
   "source": [
    "# Tipos de datos básicos\n",
    "\n",
    "* numeric / integer\n",
    "* logical\n",
    "* complex\n",
    "* character"
   ]
  },
  {
   "cell_type": "code",
   "execution_count": 21,
   "id": "cbcc8f7c",
   "metadata": {
    "vscode": {
     "languageId": "r"
    }
   },
   "outputs": [
    {
     "data": {
      "text/html": [
       "1"
      ],
      "text/latex": [
       "1"
      ],
      "text/markdown": [
       "1"
      ],
      "text/plain": [
       "[1] 1"
      ]
     },
     "metadata": {},
     "output_type": "display_data"
    }
   ],
   "source": [
    "1"
   ]
  },
  {
   "cell_type": "code",
   "execution_count": 22,
   "id": "b31424e2",
   "metadata": {
    "vscode": {
     "languageId": "r"
    }
   },
   "outputs": [
    {
     "name": "stdout",
     "output_type": "stream",
     "text": [
      "[1] 1\n"
     ]
    }
   ],
   "source": [
    "print(1)"
   ]
  },
  {
   "cell_type": "code",
   "execution_count": 23,
   "id": "06a4d86a",
   "metadata": {
    "vscode": {
     "languageId": "r"
    }
   },
   "outputs": [
    {
     "data": {
      "text/html": [
       "'numeric'"
      ],
      "text/latex": [
       "'numeric'"
      ],
      "text/markdown": [
       "'numeric'"
      ],
      "text/plain": [
       "[1] \"numeric\""
      ]
     },
     "metadata": {},
     "output_type": "display_data"
    }
   ],
   "source": [
    "class(1)"
   ]
  },
  {
   "cell_type": "code",
   "execution_count": 24,
   "id": "618e5724",
   "metadata": {
    "vscode": {
     "languageId": "r"
    }
   },
   "outputs": [
    {
     "data": {
      "text/html": [
       "'numeric'"
      ],
      "text/latex": [
       "'numeric'"
      ],
      "text/markdown": [
       "'numeric'"
      ],
      "text/plain": [
       "[1] \"numeric\""
      ]
     },
     "metadata": {},
     "output_type": "display_data"
    }
   ],
   "source": [
    "class(1.5)"
   ]
  },
  {
   "cell_type": "code",
   "execution_count": 25,
   "id": "3b638de8",
   "metadata": {
    "vscode": {
     "languageId": "r"
    }
   },
   "outputs": [
    {
     "data": {
      "text/html": [
       "'numeric'"
      ],
      "text/latex": [
       "'numeric'"
      ],
      "text/markdown": [
       "'numeric'"
      ],
      "text/plain": [
       "[1] \"numeric\""
      ]
     },
     "metadata": {},
     "output_type": "display_data"
    }
   ],
   "source": [
    "class(-3.78)"
   ]
  },
  {
   "cell_type": "code",
   "execution_count": 26,
   "id": "8e417ebe",
   "metadata": {
    "vscode": {
     "languageId": "r"
    }
   },
   "outputs": [
    {
     "data": {
      "text/html": [
       "TRUE"
      ],
      "text/latex": [
       "TRUE"
      ],
      "text/markdown": [
       "TRUE"
      ],
      "text/plain": [
       "[1] TRUE"
      ]
     },
     "metadata": {},
     "output_type": "display_data"
    }
   ],
   "source": [
    "TRUE"
   ]
  },
  {
   "cell_type": "code",
   "execution_count": 27,
   "id": "3b2c4ecf",
   "metadata": {
    "vscode": {
     "languageId": "r"
    }
   },
   "outputs": [
    {
     "data": {
      "text/html": [
       "'logical'"
      ],
      "text/latex": [
       "'logical'"
      ],
      "text/markdown": [
       "'logical'"
      ],
      "text/plain": [
       "[1] \"logical\""
      ]
     },
     "metadata": {},
     "output_type": "display_data"
    }
   ],
   "source": [
    "class(TRUE)"
   ]
  },
  {
   "cell_type": "code",
   "execution_count": 28,
   "id": "e38d464e",
   "metadata": {
    "vscode": {
     "languageId": "r"
    }
   },
   "outputs": [
    {
     "data": {
      "text/html": [
       "'logical'"
      ],
      "text/latex": [
       "'logical'"
      ],
      "text/markdown": [
       "'logical'"
      ],
      "text/plain": [
       "[1] \"logical\""
      ]
     },
     "metadata": {},
     "output_type": "display_data"
    }
   ],
   "source": [
    "class(FALSE)"
   ]
  },
  {
   "cell_type": "code",
   "execution_count": 29,
   "id": "8e7970ba",
   "metadata": {
    "vscode": {
     "languageId": "r"
    }
   },
   "outputs": [
    {
     "data": {
      "text/html": [
       "'logical'"
      ],
      "text/latex": [
       "'logical'"
      ],
      "text/markdown": [
       "'logical'"
      ],
      "text/plain": [
       "[1] \"logical\""
      ]
     },
     "metadata": {},
     "output_type": "display_data"
    },
    {
     "data": {
      "text/html": [
       "'numeric'"
      ],
      "text/latex": [
       "'numeric'"
      ],
      "text/markdown": [
       "'numeric'"
      ],
      "text/plain": [
       "[1] \"numeric\""
      ]
     },
     "metadata": {},
     "output_type": "display_data"
    }
   ],
   "source": [
    "class(TRUE)\n",
    "T <- 9\n",
    "class(T)"
   ]
  },
  {
   "cell_type": "code",
   "execution_count": 30,
   "id": "2ab197dd",
   "metadata": {
    "vscode": {
     "languageId": "r"
    }
   },
   "outputs": [
    {
     "name": "stdout",
     "output_type": "stream",
     "text": [
      "[1] 4+1.2i\n"
     ]
    }
   ],
   "source": [
    "print(4 + 1.2i)"
   ]
  },
  {
   "cell_type": "code",
   "execution_count": 31,
   "id": "24175b97",
   "metadata": {
    "vscode": {
     "languageId": "r"
    }
   },
   "outputs": [
    {
     "data": {
      "text/html": [
       "'complex'"
      ],
      "text/latex": [
       "'complex'"
      ],
      "text/markdown": [
       "'complex'"
      ],
      "text/plain": [
       "[1] \"complex\""
      ]
     },
     "metadata": {},
     "output_type": "display_data"
    }
   ],
   "source": [
    "class(4 + 1.2i)"
   ]
  },
  {
   "cell_type": "code",
   "execution_count": 32,
   "id": "8dc65644",
   "metadata": {
    "vscode": {
     "languageId": "r"
    }
   },
   "outputs": [
    {
     "name": "stdout",
     "output_type": "stream",
     "text": [
      "[1] \"a\"\n"
     ]
    }
   ],
   "source": [
    "print(\"a\")"
   ]
  },
  {
   "cell_type": "code",
   "execution_count": 33,
   "id": "58c5e0dd",
   "metadata": {
    "vscode": {
     "languageId": "r"
    }
   },
   "outputs": [
    {
     "data": {
      "text/html": [
       "'character'"
      ],
      "text/latex": [
       "'character'"
      ],
      "text/markdown": [
       "'character'"
      ],
      "text/plain": [
       "[1] \"character\""
      ]
     },
     "metadata": {},
     "output_type": "display_data"
    }
   ],
   "source": [
    "class(\"a\")"
   ]
  },
  {
   "cell_type": "code",
   "execution_count": 34,
   "id": "87c4af80",
   "metadata": {
    "vscode": {
     "languageId": "r"
    }
   },
   "outputs": [
    {
     "data": {
      "text/html": [
       "'character'"
      ],
      "text/latex": [
       "'character'"
      ],
      "text/markdown": [
       "'character'"
      ],
      "text/plain": [
       "[1] \"character\""
      ]
     },
     "metadata": {},
     "output_type": "display_data"
    }
   ],
   "source": [
    "class(\"hola\")"
   ]
  },
  {
   "cell_type": "code",
   "execution_count": 35,
   "id": "098f154b",
   "metadata": {
    "vscode": {
     "languageId": "r"
    }
   },
   "outputs": [
    {
     "data": {
      "text/html": [
       "'character'"
      ],
      "text/latex": [
       "'character'"
      ],
      "text/markdown": [
       "'character'"
      ],
      "text/plain": [
       "[1] \"character\""
      ]
     },
     "metadata": {},
     "output_type": "display_data"
    }
   ],
   "source": [
    "class(\"adios\") # Recomendado"
   ]
  },
  {
   "cell_type": "code",
   "execution_count": 36,
   "id": "20d4a5dd",
   "metadata": {
    "vscode": {
     "languageId": "r"
    }
   },
   "outputs": [
    {
     "data": {
      "text/html": [
       "'character'"
      ],
      "text/latex": [
       "'character'"
      ],
      "text/markdown": [
       "'character'"
      ],
      "text/plain": [
       "[1] \"character\""
      ]
     },
     "metadata": {},
     "output_type": "display_data"
    }
   ],
   "source": [
    "class('adios') # No recomendado"
   ]
  },
  {
   "cell_type": "code",
   "execution_count": 37,
   "id": "ebfd39ce",
   "metadata": {
    "vscode": {
     "languageId": "r"
    }
   },
   "outputs": [
    {
     "ename": "ERROR",
     "evalue": "Error in parse(text = input): <text>:1:8: unexpected symbol\n1: \"hola\" y\n           ^\n",
     "output_type": "error",
     "traceback": [
      "Error in parse(text = input): <text>:1:8: unexpected symbol\n1: \"hola\" y\n           ^\nTraceback:\n"
     ]
    }
   ],
   "source": [
    "\"hola\" y \"adios\" # Error"
   ]
  },
  {
   "cell_type": "code",
   "execution_count": 39,
   "id": "f6e5cc9b",
   "metadata": {
    "vscode": {
     "languageId": "r"
    }
   },
   "outputs": [
    {
     "ename": "ERROR",
     "evalue": "Error in parse(text = input): <text>:1:3: unexpected symbol\n1: \"\"hola\n      ^\n",
     "output_type": "error",
     "traceback": [
      "Error in parse(text = input): <text>:1:3: unexpected symbol\n1: \"\"hola\n      ^\nTraceback:\n"
     ]
    }
   ],
   "source": [
    "\"\"hola\" y \"adios\"\" # Error"
   ]
  },
  {
   "cell_type": "code",
   "execution_count": 40,
   "id": "0c41610d",
   "metadata": {
    "vscode": {
     "languageId": "r"
    }
   },
   "outputs": [
    {
     "data": {
      "text/html": [
       "'\"hola\" y \"adios\"'"
      ],
      "text/latex": [
       "'\"hola\" y \"adios\"'"
      ],
      "text/markdown": [
       "'\"hola\" y \"adios\"'"
      ],
      "text/plain": [
       "[1] \"\\\"hola\\\" y \\\"adios\\\"\""
      ]
     },
     "metadata": {},
     "output_type": "display_data"
    }
   ],
   "source": [
    "'\"hola\" y \"adios\"' # Para este tipo de cosas se usan las comillas simples"
   ]
  },
  {
   "cell_type": "code",
   "execution_count": 41,
   "id": "ab0ff21a",
   "metadata": {
    "vscode": {
     "languageId": "r"
    }
   },
   "outputs": [
    {
     "data": {
      "text/html": [
       "Inf"
      ],
      "text/latex": [
       "Inf"
      ],
      "text/markdown": [
       "Inf"
      ],
      "text/plain": [
       "[1] Inf"
      ]
     },
     "metadata": {},
     "output_type": "display_data"
    }
   ],
   "source": [
    "1 / 0"
   ]
  },
  {
   "cell_type": "code",
   "execution_count": 42,
   "id": "bba407d1",
   "metadata": {
    "vscode": {
     "languageId": "r"
    }
   },
   "outputs": [
    {
     "data": {
      "text/html": [
       "0"
      ],
      "text/latex": [
       "0"
      ],
      "text/markdown": [
       "0"
      ],
      "text/plain": [
       "[1] 0"
      ]
     },
     "metadata": {},
     "output_type": "display_data"
    }
   ],
   "source": [
    "1 / Inf"
   ]
  },
  {
   "cell_type": "code",
   "execution_count": 43,
   "id": "1fe292f0",
   "metadata": {
    "vscode": {
     "languageId": "r"
    }
   },
   "outputs": [
    {
     "data": {
      "text/html": [
       "NaN"
      ],
      "text/latex": [
       "NaN"
      ],
      "text/markdown": [
       "NaN"
      ],
      "text/plain": [
       "[1] NaN"
      ]
     },
     "metadata": {},
     "output_type": "display_data"
    }
   ],
   "source": [
    "0 / 0"
   ]
  },
  {
   "cell_type": "code",
   "execution_count": 44,
   "id": "1d01dbf2",
   "metadata": {
    "vscode": {
     "languageId": "r"
    }
   },
   "outputs": [
    {
     "name": "stdout",
     "output_type": "stream",
     "text": [
      "NULL\n"
     ]
    }
   ],
   "source": [
    "print(NULL)"
   ]
  },
  {
   "cell_type": "code",
   "execution_count": 45,
   "id": "4c9e1755",
   "metadata": {
    "vscode": {
     "languageId": "r"
    }
   },
   "outputs": [
    {
     "name": "stdout",
     "output_type": "stream",
     "text": [
      "NULL                   package:base                    R Documentation\n",
      "\n",
      "_\bT_\bh_\be _\bN_\bu_\bl_\bl _\bO_\bb_\bj_\be_\bc_\bt\n",
      "\n",
      "_\bD_\be_\bs_\bc_\br_\bi_\bp_\bt_\bi_\bo_\bn:\n",
      "\n",
      "     ‘NULL’ represents the null object in R: it is a reserved word.\n",
      "     ‘NULL’ is often returned by expressions and functions whose value\n",
      "     is undefined.\n",
      "\n",
      "_\bU_\bs_\ba_\bg_\be:\n",
      "\n",
      "     NULL\n",
      "     as.null(x, ...)\n",
      "     is.null(x)\n",
      "     \n",
      "_\bA_\br_\bg_\bu_\bm_\be_\bn_\bt_\bs:\n",
      "\n",
      "       x: an object to be tested or coerced.\n",
      "\n",
      "     ...: ignored.\n",
      "\n",
      "_\bD_\be_\bt_\ba_\bi_\bl_\bs:\n",
      "\n",
      "     ‘NULL’ can be indexed (see Extract) in just about any\n",
      "     syntactically legal way: apart from ‘NULL[[]]’ which is an error,\n",
      "     the result is always ‘NULL’.  Objects with value ‘NULL’ can be\n",
      "     changed by replacement operators and will be coerced to the type\n",
      "     of the right-hand side.\n",
      "\n",
      "     ‘NULL’ is also used as the empty pairlist: see the examples.\n",
      "     Because pairlists are often promoted to lists, you may encounter\n",
      "     ‘NULL’ being promoted to an empty list.\n",
      "\n",
      "     Objects with value ‘NULL’ cannot have attributes as there is only\n",
      "     one null object: attempts to assign them are either an error\n",
      "     (‘attr’) or promote the object to an empty list with attribute(s)\n",
      "     (‘attributes’ and ‘structure’).\n",
      "\n",
      "_\bV_\ba_\bl_\bu_\be:\n",
      "\n",
      "     ‘as.null’ ignores its argument and returns ‘NULL’.\n",
      "\n",
      "     ‘is.null’ returns ‘TRUE’ if its argument's value is ‘NULL’ and\n",
      "     ‘FALSE’ otherwise.\n",
      "\n",
      "_\bN_\bo_\bt_\be:\n",
      "\n",
      "     ‘is.null’ is a primitive function.\n",
      "\n",
      "_\bR_\be_\bf_\be_\br_\be_\bn_\bc_\be_\bs:\n",
      "\n",
      "     Becker, R. A., Chambers, J. M. and Wilks, A. R. (1988) _The New S\n",
      "     Language_.  Wadsworth & Brooks/Cole.\n",
      "\n",
      "_\bS_\be_\be _\bA_\bl_\bs_\bo:\n",
      "\n",
      "     ‘%||%’: ‘L %||% R’ is equivalent to ‘ if(!is.null(L)) L else R ’\n",
      "\n",
      "_\bE_\bx_\ba_\bm_\bp_\bl_\be_\bs:\n",
      "\n",
      "     is.null(list())     # FALSE (on purpose!)\n",
      "     is.null(pairlist()) # TRUE\n",
      "     is.null(integer(0)) # FALSE\n",
      "     is.null(logical(0)) # FALSE\n",
      "     as.null(list(a = 1, b = \"c\"))\n",
      "     "
     ]
    }
   ],
   "source": [
    "?NULL"
   ]
  },
  {
   "cell_type": "code",
   "execution_count": 46,
   "id": "90aee75e",
   "metadata": {
    "vscode": {
     "languageId": "r"
    }
   },
   "outputs": [
    {
     "name": "stdout",
     "output_type": "stream",
     "text": [
      "[1] NA\n"
     ]
    }
   ],
   "source": [
    "print(NA)"
   ]
  },
  {
   "cell_type": "code",
   "execution_count": 47,
   "id": "897da433",
   "metadata": {
    "vscode": {
     "languageId": "r"
    }
   },
   "outputs": [
    {
     "name": "stdout",
     "output_type": "stream",
     "text": [
      "NA                    package:base                     R Documentation\n",
      "\n",
      "'_\bN_\bo_\bt _\bA_\bv_\ba_\bi_\bl_\ba_\bb_\bl_\be' / _\bM_\bi_\bs_\bs_\bi_\bn_\bg _\bV_\ba_\bl_\bu_\be_\bs\n",
      "\n",
      "_\bD_\be_\bs_\bc_\br_\bi_\bp_\bt_\bi_\bo_\bn:\n",
      "\n",
      "     ‘NA’ is a logical constant of length 1 which contains a missing\n",
      "     value indicator.  ‘NA’ can be coerced to any other vector type\n",
      "     except raw.  There are also constants ‘NA_integer_’, ‘NA_real_’,\n",
      "     ‘NA_complex_’ and ‘NA_character_’ of the other atomic vector types\n",
      "     which support missing values: all of these are reserved words in\n",
      "     the R language.\n",
      "\n",
      "     The generic function ‘is.na’ indicates which elements are missing.\n",
      "\n",
      "     The generic function ‘is.na<-’ sets elements to ‘NA’.\n",
      "\n",
      "     The generic function ‘anyNA’ implements ‘any(is.na(x))’ in a\n",
      "     possibly faster way (especially for atomic vectors).\n",
      "\n",
      "_\bU_\bs_\ba_\bg_\be:\n",
      "\n",
      "     NA\n",
      "     is.na(x)\n",
      "     anyNA(x, recursive = FALSE)\n",
      "     \n",
      "     ## S3 method for class 'data.frame'\n",
      "     is.na(x)\n",
      "     \n",
      "     is.na(x) <- value\n",
      "     \n",
      "_\bA_\br_\bg_\bu_\bm_\be_\bn_\bt_\bs:\n",
      "\n",
      "       x: an R object to be tested: the default method for ‘is.na’ and\n",
      "          ‘anyNA’ handle atomic vectors, lists, pairlists, and ‘NULL’.\n",
      "\n",
      "recursive: logical: should ‘anyNA’ be applied recursively to lists and\n",
      "          pairlists?\n",
      "\n",
      "   value: a suitable index vector for use with ‘x’.\n",
      "\n",
      "_\bD_\be_\bt_\ba_\bi_\bl_\bs:\n",
      "\n",
      "     The ‘NA’ of character type is distinct from the string ‘\"NA\"’.\n",
      "     Programmers who need to specify an explicit missing string should\n",
      "     use ‘NA_character_’ (rather than ‘\"NA\"’) or set elements to ‘NA’\n",
      "     using ‘is.na<-’.\n",
      "\n",
      "     ‘is.na’ and ‘anyNA’ are generic: you can write methods to handle\n",
      "     specific classes of objects, see InternalMethods.\n",
      "\n",
      "     Function ‘is.na<-’ may provide a safer way to set missingness.  It\n",
      "     behaves differently for factors, for example.\n",
      "\n",
      "     Numerical computations using ‘NA’ will normally result in ‘NA’: a\n",
      "     possible exception is where ‘NaN’ is also involved, in which case\n",
      "     either might result (which may depend on the R platform).\n",
      "     However, this is not guaranteed and future CPUs and/or compilers\n",
      "     may behave differently. Dynamic binary translation may also impact\n",
      "     this behavior (with valgrind, computations using ‘NA’ may result\n",
      "     in ‘NaN’ even when no ‘NaN’ is involved).\n",
      "\n",
      "     Logical computations treat ‘NA’ as a missing ‘TRUE/FALSE’ value,\n",
      "     and so may return ‘TRUE’ or ‘FALSE’ if the expression does not\n",
      "     depend on the ‘NA’ operand.\n",
      "\n",
      "     The default method for ‘anyNA’ handles atomic vectors without a\n",
      "     class and ‘NULL’.  It calls ‘any(is.na(x))’ on objects with\n",
      "     classes and for ‘recursive = FALSE’, on lists and pairlists.\n",
      "\n",
      "_\bV_\ba_\bl_\bu_\be:\n",
      "\n",
      "     The default method for ‘is.na’ applied to an atomic vector returns\n",
      "     a logical vector of the same length as its argument ‘x’,\n",
      "     containing ‘TRUE’ for those elements marked ‘NA’ or, for numeric\n",
      "     or complex vectors, ‘NaN’, and ‘FALSE’ otherwise. (A complex value\n",
      "     is regarded as ‘NA’ if either its real or imaginary part is ‘NA’\n",
      "     or ‘NaN’.)  ‘dim’, ‘dimnames’ and ‘names’ attributes are copied to\n",
      "     the result.\n",
      "\n",
      "     The default methods also work for lists and pairlists:\n",
      "     For ‘is.na’, elementwise the result is false unless that element\n",
      "     is a length-one atomic vector and the single element of that\n",
      "     vector is regarded as ‘NA’ or ‘NaN’ (note that any ‘is.na’ method\n",
      "     for the class of the element is ignored).\n",
      "     ‘anyNA(recursive = FALSE)’ works the same way as ‘is.na’;\n",
      "     ‘anyNA(recursive = TRUE)’ applies ‘anyNA’ (with method dispatch)\n",
      "     to each element.\n",
      "\n",
      "     The data frame method for ‘is.na’ returns a logical matrix with\n",
      "     the same dimensions as the data frame, and with dimnames taken\n",
      "     from the row and column names of the data frame.\n",
      "\n",
      "     ‘anyNA(NULL)’ is false; ‘is.na(NULL)’ is ‘logical(0)’ (no longer\n",
      "     warning since R version 3.5.0).\n",
      "\n",
      "_\bR_\be_\bf_\be_\br_\be_\bn_\bc_\be_\bs:\n",
      "\n",
      "     Becker, R. A., Chambers, J. M. and Wilks, A. R. (1988) _The New S\n",
      "     Language_.  Wadsworth & Brooks/Cole.\n",
      "\n",
      "     Chambers, J. M. (1998) _Programming with Data.  A Guide to the S\n",
      "     Language_.  Springer.\n",
      "\n",
      "_\bS_\be_\be _\bA_\bl_\bs_\bo:\n",
      "\n",
      "     ‘NaN’, ‘is.nan’, etc., and the utility function ‘complete.cases’.\n",
      "\n",
      "     ‘na.action’, ‘na.omit’, ‘na.fail’ on how methods can be tuned to\n",
      "     deal with missing values.\n",
      "\n",
      "_\bE_\bx_\ba_\bm_\bp_\bl_\be_\bs:\n",
      "\n",
      "     is.na(c(1, NA))        #> FALSE  TRUE\n",
      "     is.na(paste(c(1, NA))) #> FALSE FALSE\n",
      "     \n",
      "     (xx <- c(0:4))\n",
      "     is.na(xx) <- c(2, 4)\n",
      "     xx                     #> 0 NA  2 NA  4\n",
      "     anyNA(xx) # TRUE\n",
      "     \n",
      "     # Some logical operations do not return NA\n",
      "     c(TRUE, FALSE) & NA\n",
      "     c(TRUE, FALSE) | NA\n",
      "     \n",
      "     \n",
      "     ## Measure speed difference in a favourable case:\n",
      "     ## the difference depends on the platform, on most ca 3x.\n",
      "     x <- 1:10000; x[5000] <- NaN  # coerces x to be double\n",
      "     if(require(\"microbenchmark\")) { # does not work reliably on all platforms\n",
      "       print(microbenchmark(any(is.na(x)), anyNA(x)))\n",
      "     } else {\n",
      "       nSim <- 2^13\n",
      "       print(rbind(is.na = system.time(replicate(nSim, any(is.na(x)))),\n",
      "                   anyNA = system.time(replicate(nSim, anyNA(x)))))\n",
      "     }\n",
      "     \n",
      "     \n",
      "     ## anyNA() can work recursively with list()s:\n",
      "     LL <- list(1:5, c(NA, 5:8), c(\"A\",\"NA\"), c(\"a\", NA_character_))\n",
      "     L2 <- LL[c(1,3)]\n",
      "     sapply(LL, anyNA); c(anyNA(LL), anyNA(LL, TRUE))\n",
      "     sapply(L2, anyNA); c(anyNA(L2), anyNA(L2, TRUE))\n",
      "     \n",
      "     ## ... lists, and hence data frames, too:\n",
      "     dN <- dd <- USJudgeRatings; dN[3,6] <- NA\n",
      "     anyNA(dd) # FALSE\n",
      "     anyNA(dN) # TRUE\n",
      "     "
     ]
    }
   ],
   "source": [
    "?NA"
   ]
  },
  {
   "cell_type": "code",
   "execution_count": 48,
   "id": "e6479e5a",
   "metadata": {
    "vscode": {
     "languageId": "r"
    }
   },
   "outputs": [
    {
     "data": {
      "text/html": [
       "NaN"
      ],
      "text/latex": [
       "NaN"
      ],
      "text/markdown": [
       "NaN"
      ],
      "text/plain": [
       "[1] NaN"
      ]
     },
     "metadata": {},
     "output_type": "display_data"
    }
   ],
   "source": [
    "NaN"
   ]
  },
  {
   "cell_type": "code",
   "execution_count": 49,
   "id": "8df9f141",
   "metadata": {
    "vscode": {
     "languageId": "r"
    }
   },
   "outputs": [
    {
     "data": {
      "text/html": [
       "'numeric'"
      ],
      "text/latex": [
       "'numeric'"
      ],
      "text/markdown": [
       "'numeric'"
      ],
      "text/plain": [
       "[1] \"numeric\""
      ]
     },
     "metadata": {},
     "output_type": "display_data"
    }
   ],
   "source": [
    "class(NaN)"
   ]
  },
  {
   "cell_type": "code",
   "execution_count": 50,
   "id": "a7ef18ac",
   "metadata": {
    "vscode": {
     "languageId": "r"
    }
   },
   "outputs": [
    {
     "name": "stdout",
     "output_type": "stream",
     "text": [
      "is.finite                 package:base                 R Documentation\n",
      "\n",
      "_\bF_\bi_\bn_\bi_\bt_\be, _\bI_\bn_\bf_\bi_\bn_\bi_\bt_\be _\ba_\bn_\bd _\bN_\ba_\bN _\bN_\bu_\bm_\bb_\be_\br_\bs\n",
      "\n",
      "_\bD_\be_\bs_\bc_\br_\bi_\bp_\bt_\bi_\bo_\bn:\n",
      "\n",
      "     ‘is.finite’ and ‘is.infinite’ return a vector of the same length\n",
      "     as ‘x’, indicating which elements are finite (not infinite and not\n",
      "     missing) or infinite.\n",
      "\n",
      "     ‘Inf’ and ‘-Inf’ are positive and negative infinity whereas ‘NaN’\n",
      "     means ‘Not a Number’.  (These apply to numeric values and real and\n",
      "     imaginary parts of complex values but not to values of integer\n",
      "     vectors.)  ‘Inf’ and ‘NaN’ (as well as ‘NA’) are reserved words in\n",
      "     the R language.\n",
      "\n",
      "_\bU_\bs_\ba_\bg_\be:\n",
      "\n",
      "     is.finite(x)\n",
      "     is.infinite(x)\n",
      "     is.nan(x)\n",
      "     \n",
      "     Inf\n",
      "     NaN\n",
      "     \n",
      "_\bA_\br_\bg_\bu_\bm_\be_\bn_\bt_\bs:\n",
      "\n",
      "       x: R object to be tested: the default methods handle atomic\n",
      "          vectors.\n",
      "\n",
      "_\bD_\be_\bt_\ba_\bi_\bl_\bs:\n",
      "\n",
      "     ‘is.finite’ returns a vector of the same length as ‘x’ the j-th\n",
      "     element of which is ‘TRUE’ if ‘x[j]’ is finite (i.e., it is not\n",
      "     one of the values ‘NA’, ‘NaN’, ‘Inf’ or ‘-Inf’) and ‘FALSE’\n",
      "     otherwise.  Complex numbers are finite if both the real and\n",
      "     imaginary parts are.\n",
      "\n",
      "     ‘is.infinite’ returns a vector of the same length as ‘x’ the j-th\n",
      "     element of which is ‘TRUE’ if ‘x[j]’ is infinite (i.e., equal to\n",
      "     one of ‘Inf’ or ‘-Inf’) and ‘FALSE’ otherwise.  This will be false\n",
      "     unless ‘x’ is numeric or complex.  Complex numbers are infinite if\n",
      "     either the real or the imaginary part is.\n",
      "\n",
      "     ‘is.nan’ tests if a numeric value is ‘NaN’.  Do not test equality\n",
      "     to ‘NaN’, or even use ‘identical’, since systems typically have\n",
      "     many different NaN values.  One of these is used for the numeric\n",
      "     missing value ‘NA’, and ‘is.nan’ is false for that value.  A\n",
      "     complex number is regarded as ‘NaN’ if either the real or\n",
      "     imaginary part is ‘NaN’ but not ‘NA’.  All elements of logical,\n",
      "     integer and raw vectors are considered not to be NaN.\n",
      "\n",
      "     All three functions accept ‘NULL’ as input and return a length\n",
      "     zero result. The default methods accept character and raw vectors,\n",
      "     and return ‘FALSE’ for all entries. Prior to R version 2.14.0 they\n",
      "     accepted all input, returning ‘FALSE’ for most non-numeric values;\n",
      "     cases which are not atomic vectors are now signalled as errors.\n",
      "\n",
      "     All three functions are generic: you can write methods to handle\n",
      "     specific classes of objects, see InternalMethods.\n",
      "\n",
      "_\bV_\ba_\bl_\bu_\be:\n",
      "\n",
      "     A logical vector of the same length as ‘x’: ‘dim’, ‘dimnames’ and\n",
      "     ‘names’ attributes are preserved.\n",
      "\n",
      "_\bN_\bo_\bt_\be:\n",
      "\n",
      "     In R, basically all mathematical functions (including basic\n",
      "     ‘Arithmetic’), are supposed to work properly with ‘+/- Inf’ and\n",
      "     ‘NaN’ as input or output.\n",
      "\n",
      "     The basic rule should be that calls and relations with ‘Inf’s\n",
      "     really are statements with a proper mathematical _limit_.\n",
      "\n",
      "     Computations involving ‘NaN’ will return ‘NaN’ or perhaps ‘NA’:\n",
      "     which of those two is not guaranteed and may depend on the R\n",
      "     platform (since compilers may re-order computations).\n",
      "\n",
      "_\bR_\be_\bf_\be_\br_\be_\bn_\bc_\be_\bs:\n",
      "\n",
      "     The IEC 60559 standard, also known as the ANSI/IEEE 754\n",
      "     Floating-Point Standard.\n",
      "\n",
      "     <https://en.wikipedia.org/wiki/NaN>.\n",
      "\n",
      "     D. Goldberg (1991).  What Every Computer Scientist Should Know\n",
      "     about Floating-Point Arithmetic.  _ACM Computing Surveys_,\n",
      "     *23*(1), 5-48.  doi:10.1145/103162.103163\n",
      "     <https://doi.org/10.1145/103162.103163>.\n",
      "\n",
      "     Also available at\n",
      "     <https://docs.oracle.com/cd/E19957-01/806-3568/ncg_goldberg.html>.\n",
      "\n",
      "     The C99 function ‘isfinite’ is used for ‘is.finite’.\n",
      "\n",
      "_\bS_\be_\be _\bA_\bl_\bs_\bo:\n",
      "\n",
      "     ‘NA’, ‘_Not Available_’ which is not a number as well, however\n",
      "     usually used for missing values and applies to many modes, not\n",
      "     just numeric and complex.\n",
      "\n",
      "     ‘Arithmetic’, ‘double’.\n",
      "\n",
      "_\bE_\bx_\ba_\bm_\bp_\bl_\be_\bs:\n",
      "\n",
      "     pi / 0 ## = Inf a non-zero number divided by zero creates infinity\n",
      "     0 / 0  ## =  NaN\n",
      "     \n",
      "     1/0 + 1/0 # Inf\n",
      "     1/0 - 1/0 # NaN\n",
      "     \n",
      "     stopifnot(\n",
      "         1/0 == Inf,\n",
      "         1/Inf == 0\n",
      "     )\n",
      "     sin(Inf)\n",
      "     cos(Inf)\n",
      "     tan(Inf)\n",
      "     "
     ]
    }
   ],
   "source": [
    "?NaN"
   ]
  },
  {
   "cell_type": "markdown",
   "id": "4cb1cd9b",
   "metadata": {},
   "source": [
    "# Operadores aritméticos"
   ]
  },
  {
   "cell_type": "code",
   "execution_count": 51,
   "id": "61e32174",
   "metadata": {
    "vscode": {
     "languageId": "r"
    }
   },
   "outputs": [
    {
     "data": {
      "text/html": [
       "6"
      ],
      "text/latex": [
       "6"
      ],
      "text/markdown": [
       "6"
      ],
      "text/plain": [
       "[1] 6"
      ]
     },
     "metadata": {},
     "output_type": "display_data"
    }
   ],
   "source": [
    "1 + 5"
   ]
  },
  {
   "cell_type": "code",
   "execution_count": 52,
   "id": "63b1ff97",
   "metadata": {
    "vscode": {
     "languageId": "r"
    }
   },
   "outputs": [
    {
     "data": {
      "text/html": [
       "1"
      ],
      "text/latex": [
       "1"
      ],
      "text/markdown": [
       "1"
      ],
      "text/plain": [
       "[1] 1"
      ]
     },
     "metadata": {},
     "output_type": "display_data"
    }
   ],
   "source": [
    "5 - 4"
   ]
  },
  {
   "cell_type": "code",
   "execution_count": 53,
   "id": "6d94bdfe",
   "metadata": {
    "vscode": {
     "languageId": "r"
    }
   },
   "outputs": [
    {
     "data": {
      "text/html": [
       "6.3"
      ],
      "text/latex": [
       "6.3"
      ],
      "text/markdown": [
       "6.3"
      ],
      "text/plain": [
       "[1] 6.3"
      ]
     },
     "metadata": {},
     "output_type": "display_data"
    }
   ],
   "source": [
    "3 * 2.1"
   ]
  },
  {
   "cell_type": "code",
   "execution_count": 54,
   "id": "e770d4f1",
   "metadata": {
    "vscode": {
     "languageId": "r"
    }
   },
   "outputs": [
    {
     "data": {
      "text/html": [
       "-1.62790697674419"
      ],
      "text/latex": [
       "-1.62790697674419"
      ],
      "text/markdown": [
       "-1.62790697674419"
      ],
      "text/plain": [
       "[1] -1.627907"
      ]
     },
     "metadata": {},
     "output_type": "display_data"
    }
   ],
   "source": [
    "7 / -4.3"
   ]
  },
  {
   "cell_type": "code",
   "execution_count": 55,
   "id": "10d2b1b9",
   "metadata": {
    "vscode": {
     "languageId": "r"
    }
   },
   "outputs": [
    {
     "data": {
      "text/html": [
       "8"
      ],
      "text/latex": [
       "8"
      ],
      "text/markdown": [
       "8"
      ],
      "text/plain": [
       "[1] 8"
      ]
     },
     "metadata": {},
     "output_type": "display_data"
    }
   ],
   "source": [
    "2 ^ 3"
   ]
  },
  {
   "cell_type": "code",
   "execution_count": 56,
   "id": "ac401a64",
   "metadata": {
    "vscode": {
     "languageId": "r"
    }
   },
   "outputs": [
    {
     "data": {
      "text/html": [
       "0.25"
      ],
      "text/latex": [
       "0.25"
      ],
      "text/markdown": [
       "0.25"
      ],
      "text/plain": [
       "[1] 0.25"
      ]
     },
     "metadata": {},
     "output_type": "display_data"
    }
   ],
   "source": [
    "2 ** -1/2 # Igual que ^"
   ]
  },
  {
   "cell_type": "code",
   "execution_count": 57,
   "id": "70aebe0c",
   "metadata": {
    "vscode": {
     "languageId": "r"
    }
   },
   "outputs": [
    {
     "data": {
      "text/html": [
       "1"
      ],
      "text/latex": [
       "1"
      ],
      "text/markdown": [
       "1"
      ],
      "text/plain": [
       "[1] 1"
      ]
     },
     "metadata": {},
     "output_type": "display_data"
    }
   ],
   "source": [
    "4 %% 3"
   ]
  },
  {
   "cell_type": "code",
   "execution_count": 58,
   "id": "0e87589f",
   "metadata": {
    "vscode": {
     "languageId": "r"
    }
   },
   "outputs": [
    {
     "data": {
      "text/html": [
       "1"
      ],
      "text/latex": [
       "1"
      ],
      "text/markdown": [
       "1"
      ],
      "text/plain": [
       "[1] 1"
      ]
     },
     "metadata": {},
     "output_type": "display_data"
    }
   ],
   "source": [
    "3 %/% 2"
   ]
  },
  {
   "cell_type": "markdown",
   "id": "b0885c79",
   "metadata": {},
   "source": [
    "# Operadores lógicos"
   ]
  },
  {
   "cell_type": "code",
   "execution_count": 59,
   "id": "8010407b",
   "metadata": {
    "vscode": {
     "languageId": "r"
    }
   },
   "outputs": [
    {
     "name": "stdout",
     "output_type": "stream",
     "text": [
      "[1] TRUE\n"
     ]
    }
   ],
   "source": [
    "print(1 < 9.5)"
   ]
  },
  {
   "cell_type": "code",
   "execution_count": 60,
   "id": "a531158a",
   "metadata": {
    "vscode": {
     "languageId": "r"
    }
   },
   "outputs": [
    {
     "data": {
      "text/html": [
       "FALSE"
      ],
      "text/latex": [
       "FALSE"
      ],
      "text/markdown": [
       "FALSE"
      ],
      "text/plain": [
       "[1] FALSE"
      ]
     },
     "metadata": {},
     "output_type": "display_data"
    }
   ],
   "source": [
    "2.7 <= -5.3"
   ]
  },
  {
   "cell_type": "code",
   "execution_count": 61,
   "id": "8e323913",
   "metadata": {
    "vscode": {
     "languageId": "r"
    }
   },
   "outputs": [
    {
     "data": {
      "text/html": [
       "TRUE"
      ],
      "text/latex": [
       "TRUE"
      ],
      "text/markdown": [
       "TRUE"
      ],
      "text/plain": [
       "[1] TRUE"
      ]
     },
     "metadata": {},
     "output_type": "display_data"
    }
   ],
   "source": [
    "4.9 > 2"
   ]
  },
  {
   "cell_type": "code",
   "execution_count": 62,
   "id": "838f208e",
   "metadata": {
    "vscode": {
     "languageId": "r"
    }
   },
   "outputs": [
    {
     "data": {
      "text/html": [
       "TRUE"
      ],
      "text/latex": [
       "TRUE"
      ],
      "text/markdown": [
       "TRUE"
      ],
      "text/plain": [
       "[1] TRUE"
      ]
     },
     "metadata": {},
     "output_type": "display_data"
    }
   ],
   "source": [
    "4.9 >= 3"
   ]
  },
  {
   "cell_type": "code",
   "execution_count": 63,
   "id": "55e7360c",
   "metadata": {
    "vscode": {
     "languageId": "r"
    }
   },
   "outputs": [
    {
     "data": {
      "text/html": [
       "TRUE"
      ],
      "text/latex": [
       "TRUE"
      ],
      "text/markdown": [
       "TRUE"
      ],
      "text/plain": [
       "[1] TRUE"
      ]
     },
     "metadata": {},
     "output_type": "display_data"
    }
   ],
   "source": [
    "5 == 5"
   ]
  },
  {
   "cell_type": "code",
   "execution_count": 64,
   "id": "97409b4e",
   "metadata": {
    "vscode": {
     "languageId": "r"
    }
   },
   "outputs": [
    {
     "data": {
      "text/html": [
       "FALSE"
      ],
      "text/latex": [
       "FALSE"
      ],
      "text/markdown": [
       "FALSE"
      ],
      "text/plain": [
       "[1] FALSE"
      ]
     },
     "metadata": {},
     "output_type": "display_data"
    }
   ],
   "source": [
    "5 != 5"
   ]
  },
  {
   "cell_type": "code",
   "execution_count": 65,
   "id": "d27ad470",
   "metadata": {
    "vscode": {
     "languageId": "r"
    }
   },
   "outputs": [
    {
     "data": {
      "text/html": [
       "FALSE"
      ],
      "text/latex": [
       "FALSE"
      ],
      "text/markdown": [
       "FALSE"
      ],
      "text/plain": [
       "[1] FALSE"
      ]
     },
     "metadata": {},
     "output_type": "display_data"
    }
   ],
   "source": [
    "!(5 == 5)"
   ]
  },
  {
   "cell_type": "code",
   "execution_count": 66,
   "id": "a5675cc3",
   "metadata": {
    "vscode": {
     "languageId": "r"
    }
   },
   "outputs": [
    {
     "data": {
      "text/html": [
       "TRUE"
      ],
      "text/latex": [
       "TRUE"
      ],
      "text/markdown": [
       "TRUE"
      ],
      "text/plain": [
       "[1] TRUE"
      ]
     },
     "metadata": {},
     "output_type": "display_data"
    }
   ],
   "source": [
    "(5 == 5) | (5 != 5)"
   ]
  },
  {
   "cell_type": "code",
   "execution_count": 67,
   "id": "ace5a61e",
   "metadata": {
    "vscode": {
     "languageId": "r"
    }
   },
   "outputs": [
    {
     "data": {
      "text/html": [
       "FALSE"
      ],
      "text/latex": [
       "FALSE"
      ],
      "text/markdown": [
       "FALSE"
      ],
      "text/plain": [
       "[1] FALSE"
      ]
     },
     "metadata": {},
     "output_type": "display_data"
    }
   ],
   "source": [
    "(5 == 5) & (5 != 5)"
   ]
  },
  {
   "cell_type": "code",
   "execution_count": 68,
   "id": "57c56917",
   "metadata": {
    "vscode": {
     "languageId": "r"
    }
   },
   "outputs": [
    {
     "data": {
      "text/html": [
       "TRUE"
      ],
      "text/latex": [
       "TRUE"
      ],
      "text/markdown": [
       "TRUE"
      ],
      "text/plain": [
       "[1] TRUE"
      ]
     },
     "metadata": {},
     "output_type": "display_data"
    }
   ],
   "source": [
    "1 == TRUE"
   ]
  },
  {
   "cell_type": "code",
   "execution_count": 69,
   "id": "3cf91701",
   "metadata": {
    "vscode": {
     "languageId": "r"
    }
   },
   "outputs": [
    {
     "data": {
      "text/html": [
       "TRUE"
      ],
      "text/latex": [
       "TRUE"
      ],
      "text/markdown": [
       "TRUE"
      ],
      "text/plain": [
       "[1] TRUE"
      ]
     },
     "metadata": {},
     "output_type": "display_data"
    }
   ],
   "source": [
    "0 == FALSE"
   ]
  },
  {
   "cell_type": "code",
   "execution_count": 70,
   "id": "6ad1a6c4",
   "metadata": {
    "vscode": {
     "languageId": "r"
    }
   },
   "outputs": [
    {
     "data": {
      "text/html": [
       "FALSE"
      ],
      "text/latex": [
       "FALSE"
      ],
      "text/markdown": [
       "FALSE"
      ],
      "text/plain": [
       "[1] FALSE"
      ]
     },
     "metadata": {},
     "output_type": "display_data"
    }
   ],
   "source": [
    "7 == TRUE"
   ]
  },
  {
   "cell_type": "code",
   "execution_count": 71,
   "id": "336f7998-e40c-4cb2-a120-50ea5120f3fe",
   "metadata": {
    "vscode": {
     "languageId": "r"
    }
   },
   "outputs": [
    {
     "data": {
      "text/html": [
       "TRUE"
      ],
      "text/latex": [
       "TRUE"
      ],
      "text/markdown": [
       "TRUE"
      ],
      "text/plain": [
       "[1] TRUE"
      ]
     },
     "metadata": {},
     "output_type": "display_data"
    }
   ],
   "source": [
    "as.logical(7) # WTF?"
   ]
  },
  {
   "cell_type": "markdown",
   "id": "f9084901",
   "metadata": {},
   "source": [
    "# Vectores\n",
    "La funcion `c()` se usa para crear vectores"
   ]
  },
  {
   "cell_type": "code",
   "execution_count": 72,
   "id": "0f80cf17-e7bc-4943-947c-eb02f436ff2e",
   "metadata": {
    "vscode": {
     "languageId": "r"
    }
   },
   "outputs": [
    {
     "data": {
      "text/html": [
       "<style>\n",
       ".list-inline {list-style: none; margin:0; padding: 0}\n",
       ".list-inline>li {display: inline-block}\n",
       ".list-inline>li:not(:last-child)::after {content: \"\\00b7\"; padding: 0 .5ex}\n",
       "</style>\n",
       "<ol class=list-inline><li>1</li><li>5</li><li>8</li></ol>\n"
      ],
      "text/latex": [
       "\\begin{enumerate*}\n",
       "\\item 1\n",
       "\\item 5\n",
       "\\item 8\n",
       "\\end{enumerate*}\n"
      ],
      "text/markdown": [
       "1. 1\n",
       "2. 5\n",
       "3. 8\n",
       "\n",
       "\n"
      ],
      "text/plain": [
       "[1] 1 5 8"
      ]
     },
     "metadata": {},
     "output_type": "display_data"
    }
   ],
   "source": [
    "c(1,5,8)"
   ]
  },
  {
   "cell_type": "code",
   "execution_count": 73,
   "id": "6f4b0c64",
   "metadata": {
    "vscode": {
     "languageId": "r"
    }
   },
   "outputs": [
    {
     "name": "stdout",
     "output_type": "stream",
     "text": [
      "[1] 1 5 8\n"
     ]
    }
   ],
   "source": [
    "print(c(1,5,8))"
   ]
  },
  {
   "cell_type": "code",
   "execution_count": 74,
   "id": "c92d3d69",
   "metadata": {
    "vscode": {
     "languageId": "r"
    }
   },
   "outputs": [
    {
     "name": "stdout",
     "output_type": "stream",
     "text": [
      " [1]  1.0  2.0  3.0  4.0  3.0  5.0  4.0  5.0  2.0  3.0  9.0 -2.0  5.9 28.0 44.0\n",
      "[16]  3.0  5.0  6.0  7.0  8.0  9.0  0.0  1.0  2.0  3.0  4.0  5.0  6.0  7.0  8.0\n",
      "[31]  9.0  0.0\n"
     ]
    }
   ],
   "source": [
    "print(c(1,2,3,4,3,5,4,5,2,3,9,-2,5.9,28,44,3,5,6,7,8,9,0,1,2,3,4,5,6,7,8,9,0))"
   ]
  },
  {
   "cell_type": "code",
   "execution_count": 75,
   "id": "875a09c5",
   "metadata": {
    "vscode": {
     "languageId": "r"
    }
   },
   "outputs": [
    {
     "data": {
      "text/html": [
       "'numeric'"
      ],
      "text/latex": [
       "'numeric'"
      ],
      "text/markdown": [
       "'numeric'"
      ],
      "text/plain": [
       "[1] \"numeric\""
      ]
     },
     "metadata": {},
     "output_type": "display_data"
    }
   ],
   "source": [
    "class(c(1,5,8))"
   ]
  },
  {
   "cell_type": "code",
   "execution_count": 76,
   "id": "9c52dec8",
   "metadata": {
    "vscode": {
     "languageId": "r"
    }
   },
   "outputs": [
    {
     "name": "stdout",
     "output_type": "stream",
     "text": [
      "[1]  1.5+0i  5.0+0i -8.5+0i  0.0+5i\n"
     ]
    }
   ],
   "source": [
    "print(c(1.5,5,-8.5,5i))"
   ]
  },
  {
   "cell_type": "code",
   "execution_count": 77,
   "id": "19affa15",
   "metadata": {
    "vscode": {
     "languageId": "r"
    }
   },
   "outputs": [
    {
     "data": {
      "text/html": [
       "'complex'"
      ],
      "text/latex": [
       "'complex'"
      ],
      "text/markdown": [
       "'complex'"
      ],
      "text/plain": [
       "[1] \"complex\""
      ]
     },
     "metadata": {},
     "output_type": "display_data"
    }
   ],
   "source": [
    "class(c(1.5,5,-8.5,5i))"
   ]
  },
  {
   "cell_type": "code",
   "execution_count": 78,
   "id": "5586a251",
   "metadata": {
    "vscode": {
     "languageId": "r"
    }
   },
   "outputs": [
    {
     "name": "stdout",
     "output_type": "stream",
     "text": [
      "[1] \"hola\"  \"adios\"\n"
     ]
    }
   ],
   "source": [
    "print(c(\"hola\", \"adios\"))"
   ]
  },
  {
   "cell_type": "code",
   "execution_count": 79,
   "id": "887c0b1f",
   "metadata": {
    "vscode": {
     "languageId": "r"
    }
   },
   "outputs": [
    {
     "name": "stdout",
     "output_type": "stream",
     "text": [
      "[1] \"hola\" \"7\"   \n"
     ]
    }
   ],
   "source": [
    "print(c(\"hola\", 7))"
   ]
  },
  {
   "cell_type": "code",
   "execution_count": 80,
   "id": "a515c5bf",
   "metadata": {
    "vscode": {
     "languageId": "r"
    }
   },
   "outputs": [
    {
     "name": "stdout",
     "output_type": "stream",
     "text": [
      "[1]  TRUE FALSE  TRUE\n"
     ]
    }
   ],
   "source": [
    "print(c(TRUE, FALSE, TRUE))"
   ]
  },
  {
   "cell_type": "code",
   "execution_count": 81,
   "id": "3dae2575",
   "metadata": {
    "vscode": {
     "languageId": "r"
    }
   },
   "outputs": [
    {
     "name": "stdout",
     "output_type": "stream",
     "text": [
      "[1] 9 0 9\n"
     ]
    }
   ],
   "source": [
    "print(c(T, F, T)) # Ojo cuidado!"
   ]
  },
  {
   "cell_type": "code",
   "execution_count": 82,
   "id": "03ab24eb",
   "metadata": {
    "vscode": {
     "languageId": "r"
    }
   },
   "outputs": [
    {
     "name": "stdout",
     "output_type": "stream",
     "text": [
      "[1] 1 0 1\n"
     ]
    }
   ],
   "source": [
    "print(c(TRUE, 0, TRUE))"
   ]
  },
  {
   "cell_type": "code",
   "execution_count": 83,
   "id": "67f9d077",
   "metadata": {
    "vscode": {
     "languageId": "r"
    }
   },
   "outputs": [
    {
     "name": "stdout",
     "output_type": "stream",
     "text": [
      "[1]  TRUE FALSE  TRUE\n"
     ]
    }
   ],
   "source": [
    "print(as.logical(c(TRUE, 0, TRUE)))"
   ]
  },
  {
   "cell_type": "code",
   "execution_count": 84,
   "id": "d11f88d2",
   "metadata": {
    "vscode": {
     "languageId": "r"
    }
   },
   "outputs": [
    {
     "name": "stdout",
     "output_type": "stream",
     "text": [
      "[1] \"3\" \"4\" \"5\"\n"
     ]
    }
   ],
   "source": [
    "print(as.character(c(3,4,5)))"
   ]
  },
  {
   "cell_type": "code",
   "execution_count": 85,
   "id": "874c69c8",
   "metadata": {
    "vscode": {
     "languageId": "r"
    }
   },
   "outputs": [
    {
     "data": {
      "text/html": [
       "TRUE"
      ],
      "text/latex": [
       "TRUE"
      ],
      "text/markdown": [
       "TRUE"
      ],
      "text/plain": [
       "[1] TRUE"
      ]
     },
     "metadata": {},
     "output_type": "display_data"
    }
   ],
   "source": [
    "is.character(as.character(c(3,4,5)))"
   ]
  },
  {
   "cell_type": "code",
   "execution_count": 86,
   "id": "c7e70a7c",
   "metadata": {
    "vscode": {
     "languageId": "r"
    }
   },
   "outputs": [
    {
     "data": {
      "text/html": [
       "FALSE"
      ],
      "text/latex": [
       "FALSE"
      ],
      "text/markdown": [
       "FALSE"
      ],
      "text/plain": [
       "[1] FALSE"
      ]
     },
     "metadata": {},
     "output_type": "display_data"
    }
   ],
   "source": [
    "is.character(c(3,4,5))"
   ]
  },
  {
   "cell_type": "markdown",
   "id": "a21eff8f",
   "metadata": {},
   "source": [
    "Se pueden crear vectores dando un rango de valores usando `:`"
   ]
  },
  {
   "cell_type": "code",
   "execution_count": 87,
   "id": "3e79e793",
   "metadata": {
    "vscode": {
     "languageId": "r"
    }
   },
   "outputs": [
    {
     "name": "stdout",
     "output_type": "stream",
     "text": [
      "[1] 1 2 3 4\n"
     ]
    }
   ],
   "source": [
    "print(1:4)"
   ]
  },
  {
   "cell_type": "code",
   "execution_count": 88,
   "id": "71423047",
   "metadata": {
    "vscode": {
     "languageId": "r"
    }
   },
   "outputs": [
    {
     "name": "stdout",
     "output_type": "stream",
     "text": [
      "[1] 4 3 2 1\n"
     ]
    }
   ],
   "source": [
    "print(4:1)"
   ]
  },
  {
   "cell_type": "code",
   "execution_count": 89,
   "id": "ffb4ec8d",
   "metadata": {
    "vscode": {
     "languageId": "r"
    }
   },
   "outputs": [
    {
     "name": "stdout",
     "output_type": "stream",
     "text": [
      "[1] 1.1 2.1 3.1 4.1 5.1 6.1\n"
     ]
    }
   ],
   "source": [
    "print(1.1:6.9)"
   ]
  },
  {
   "cell_type": "code",
   "execution_count": 90,
   "id": "7c2daaef",
   "metadata": {
    "vscode": {
     "languageId": "r"
    }
   },
   "outputs": [
    {
     "name": "stdout",
     "output_type": "stream",
     "text": [
      "[1] -1  0  1  2  3  4  5\n"
     ]
    }
   ],
   "source": [
    "print(-1:5)"
   ]
  },
  {
   "cell_type": "code",
   "execution_count": 91,
   "id": "7fe81cd5",
   "metadata": {
    "vscode": {
     "languageId": "r"
    }
   },
   "outputs": [
    {
     "data": {
      "text/html": [
       "<style>\n",
       ".list-inline {list-style: none; margin:0; padding: 0}\n",
       ".list-inline>li {display: inline-block}\n",
       ".list-inline>li:not(:last-child)::after {content: \"\\00b7\"; padding: 0 .5ex}\n",
       "</style>\n",
       "<ol class=list-inline><li>0</li><li>0</li><li>0</li><li>0</li><li>0</li><li>0</li><li>0</li><li>0</li><li>0</li><li>0</li></ol>\n"
      ],
      "text/latex": [
       "\\begin{enumerate*}\n",
       "\\item 0\n",
       "\\item 0\n",
       "\\item 0\n",
       "\\item 0\n",
       "\\item 0\n",
       "\\item 0\n",
       "\\item 0\n",
       "\\item 0\n",
       "\\item 0\n",
       "\\item 0\n",
       "\\end{enumerate*}\n"
      ],
      "text/markdown": [
       "1. 0\n",
       "2. 0\n",
       "3. 0\n",
       "4. 0\n",
       "5. 0\n",
       "6. 0\n",
       "7. 0\n",
       "8. 0\n",
       "9. 0\n",
       "10. 0\n",
       "\n",
       "\n"
      ],
      "text/plain": [
       " [1] 0 0 0 0 0 0 0 0 0 0"
      ]
     },
     "metadata": {},
     "output_type": "display_data"
    }
   ],
   "source": [
    "vector(\"numeric\", length = 10)"
   ]
  },
  {
   "cell_type": "code",
   "execution_count": 92,
   "id": "79e3a2e9",
   "metadata": {
    "vscode": {
     "languageId": "r"
    }
   },
   "outputs": [
    {
     "name": "stdout",
     "output_type": "stream",
     "text": [
      " [1] 0 0 0 0 0 0 0 0 0 0\n"
     ]
    }
   ],
   "source": [
    "print(vector(\"numeric\", length = 10))"
   ]
  },
  {
   "cell_type": "code",
   "execution_count": 93,
   "id": "76a208c8",
   "metadata": {
    "vscode": {
     "languageId": "r"
    }
   },
   "outputs": [
    {
     "name": "stdout",
     "output_type": "stream",
     "text": [
      " [1] FALSE FALSE FALSE FALSE FALSE FALSE FALSE FALSE FALSE FALSE\n"
     ]
    }
   ],
   "source": [
    "print(vector(\"logical\", length = 10))"
   ]
  },
  {
   "cell_type": "markdown",
   "id": "18702cae",
   "metadata": {},
   "source": [
    "<i>Atención que se vienen curvas...</i>"
   ]
  },
  {
   "cell_type": "code",
   "execution_count": 94,
   "id": "5df4661a",
   "metadata": {
    "vscode": {
     "languageId": "r"
    }
   },
   "outputs": [
    {
     "name": "stdout",
     "output_type": "stream",
     "text": [
      "[1] 5 7 9\n"
     ]
    }
   ],
   "source": [
    "print(1:3 + 4:6)"
   ]
  },
  {
   "cell_type": "code",
   "execution_count": 95,
   "id": "7f0adc76",
   "metadata": {
    "vscode": {
     "languageId": "r"
    }
   },
   "outputs": [
    {
     "name": "stderr",
     "output_type": "stream",
     "text": [
      "Warning message in 1:3 + 4:7:\n",
      "“longitud de objeto mayor no es múltiplo de la longitud de uno menor”\n"
     ]
    },
    {
     "name": "stdout",
     "output_type": "stream",
     "text": [
      "[1] 5 7 9 8\n"
     ]
    }
   ],
   "source": [
    "print(1:3 + 4:7) # Warning! Recycling Rule"
   ]
  },
  {
   "cell_type": "code",
   "execution_count": 96,
   "id": "edd5c9b6",
   "metadata": {
    "vscode": {
     "languageId": "r"
    }
   },
   "outputs": [
    {
     "name": "stdout",
     "output_type": "stream",
     "text": [
      "[1]  4 10 18\n"
     ]
    }
   ],
   "source": [
    "print(1:3 * 4:6)"
   ]
  },
  {
   "cell_type": "code",
   "execution_count": 97,
   "id": "03da9c2d",
   "metadata": {
    "vscode": {
     "languageId": "r"
    }
   },
   "outputs": [
    {
     "name": "stdout",
     "output_type": "stream",
     "text": [
      "[1] -3 -3 -3\n"
     ]
    }
   ],
   "source": [
    "print(1:3 - 4:6)"
   ]
  },
  {
   "cell_type": "code",
   "execution_count": 98,
   "id": "08b2786c",
   "metadata": {
    "vscode": {
     "languageId": "r"
    }
   },
   "outputs": [
    {
     "name": "stdout",
     "output_type": "stream",
     "text": [
      "[1] 0.25 0.40 0.50\n"
     ]
    }
   ],
   "source": [
    "print(1:3 / 4:6)"
   ]
  },
  {
   "cell_type": "code",
   "execution_count": 99,
   "id": "e9d946b5",
   "metadata": {
    "vscode": {
     "languageId": "r"
    }
   },
   "outputs": [
    {
     "data": {
      "text/html": [
       "<style>\n",
       ".list-inline {list-style: none; margin:0; padding: 0}\n",
       ".list-inline>li {display: inline-block}\n",
       ".list-inline>li:not(:last-child)::after {content: \"\\00b7\"; padding: 0 .5ex}\n",
       "</style>\n",
       "<ol class=list-inline><li>FALSE</li><li>FALSE</li><li>FALSE</li></ol>\n"
      ],
      "text/latex": [
       "\\begin{enumerate*}\n",
       "\\item FALSE\n",
       "\\item FALSE\n",
       "\\item FALSE\n",
       "\\end{enumerate*}\n"
      ],
      "text/markdown": [
       "1. FALSE\n",
       "2. FALSE\n",
       "3. FALSE\n",
       "\n",
       "\n"
      ],
      "text/plain": [
       "[1] FALSE FALSE FALSE"
      ]
     },
     "metadata": {},
     "output_type": "display_data"
    }
   ],
   "source": [
    "1:3 == 4:6"
   ]
  },
  {
   "cell_type": "code",
   "execution_count": 100,
   "id": "89595d74",
   "metadata": {
    "vscode": {
     "languageId": "r"
    }
   },
   "outputs": [
    {
     "data": {
      "text/html": [
       "<style>\n",
       ".list-inline {list-style: none; margin:0; padding: 0}\n",
       ".list-inline>li {display: inline-block}\n",
       ".list-inline>li:not(:last-child)::after {content: \"\\00b7\"; padding: 0 .5ex}\n",
       "</style>\n",
       "<ol class=list-inline><li>TRUE</li><li>TRUE</li><li>TRUE</li></ol>\n"
      ],
      "text/latex": [
       "\\begin{enumerate*}\n",
       "\\item TRUE\n",
       "\\item TRUE\n",
       "\\item TRUE\n",
       "\\end{enumerate*}\n"
      ],
      "text/markdown": [
       "1. TRUE\n",
       "2. TRUE\n",
       "3. TRUE\n",
       "\n",
       "\n"
      ],
      "text/plain": [
       "[1] TRUE TRUE TRUE"
      ]
     },
     "metadata": {},
     "output_type": "display_data"
    }
   ],
   "source": [
    "1:3 != 4:6"
   ]
  },
  {
   "cell_type": "code",
   "execution_count": 101,
   "id": "897ee3db",
   "metadata": {
    "vscode": {
     "languageId": "r"
    }
   },
   "outputs": [
    {
     "data": {
      "text/html": [
       "<style>\n",
       ".list-inline {list-style: none; margin:0; padding: 0}\n",
       ".list-inline>li {display: inline-block}\n",
       ".list-inline>li:not(:last-child)::after {content: \"\\00b7\"; padding: 0 .5ex}\n",
       "</style>\n",
       "<ol class=list-inline><li>TRUE</li><li>TRUE</li><li>TRUE</li></ol>\n"
      ],
      "text/latex": [
       "\\begin{enumerate*}\n",
       "\\item TRUE\n",
       "\\item TRUE\n",
       "\\item TRUE\n",
       "\\end{enumerate*}\n"
      ],
      "text/markdown": [
       "1. TRUE\n",
       "2. TRUE\n",
       "3. TRUE\n",
       "\n",
       "\n"
      ],
      "text/plain": [
       "[1] TRUE TRUE TRUE"
      ]
     },
     "metadata": {},
     "output_type": "display_data"
    }
   ],
   "source": [
    "1:3 < 4:6"
   ]
  },
  {
   "cell_type": "code",
   "execution_count": 102,
   "id": "004f1c81",
   "metadata": {
    "vscode": {
     "languageId": "r"
    }
   },
   "outputs": [
    {
     "data": {
      "text/html": [
       "<style>\n",
       ".list-inline {list-style: none; margin:0; padding: 0}\n",
       ".list-inline>li {display: inline-block}\n",
       ".list-inline>li:not(:last-child)::after {content: \"\\00b7\"; padding: 0 .5ex}\n",
       "</style>\n",
       "<ol class=list-inline><li>FALSE</li><li>FALSE</li><li>FALSE</li></ol>\n"
      ],
      "text/latex": [
       "\\begin{enumerate*}\n",
       "\\item FALSE\n",
       "\\item FALSE\n",
       "\\item FALSE\n",
       "\\end{enumerate*}\n"
      ],
      "text/markdown": [
       "1. FALSE\n",
       "2. FALSE\n",
       "3. FALSE\n",
       "\n",
       "\n"
      ],
      "text/plain": [
       "[1] FALSE FALSE FALSE"
      ]
     },
     "metadata": {},
     "output_type": "display_data"
    }
   ],
   "source": [
    "1:3 >= 4:6"
   ]
  },
  {
   "cell_type": "code",
   "execution_count": 103,
   "id": "ea21945c",
   "metadata": {
    "vscode": {
     "languageId": "r"
    }
   },
   "outputs": [
    {
     "data": {
      "text/html": [
       "<style>\n",
       ".list-inline {list-style: none; margin:0; padding: 0}\n",
       ".list-inline>li {display: inline-block}\n",
       ".list-inline>li:not(:last-child)::after {content: \"\\00b7\"; padding: 0 .5ex}\n",
       "</style>\n",
       "<ol class=list-inline><li>TRUE</li><li>FALSE</li><li>FALSE</li><li>FALSE</li></ol>\n"
      ],
      "text/latex": [
       "\\begin{enumerate*}\n",
       "\\item TRUE\n",
       "\\item FALSE\n",
       "\\item FALSE\n",
       "\\item FALSE\n",
       "\\end{enumerate*}\n"
      ],
      "text/markdown": [
       "1. TRUE\n",
       "2. FALSE\n",
       "3. FALSE\n",
       "4. FALSE\n",
       "\n",
       "\n"
      ],
      "text/plain": [
       "[1]  TRUE FALSE FALSE FALSE"
      ]
     },
     "metadata": {},
     "output_type": "display_data"
    }
   ],
   "source": [
    "!(0:3)"
   ]
  },
  {
   "cell_type": "markdown",
   "id": "cd539a42",
   "metadata": {},
   "source": [
    "### WTF? (Falling into the Floating Point Trap)\n",
    "The R Inferno. Patrick Burns. https://www.burns-stat.com/pages/Tutor/R_inferno.pdf"
   ]
  },
  {
   "cell_type": "code",
   "execution_count": 104,
   "id": "dd6c3ff1",
   "metadata": {
    "vscode": {
     "languageId": "r"
    }
   },
   "outputs": [
    {
     "data": {
      "text/html": [
       "FALSE"
      ],
      "text/latex": [
       "FALSE"
      ],
      "text/markdown": [
       "FALSE"
      ],
      "text/plain": [
       "[1] FALSE"
      ]
     },
     "metadata": {},
     "output_type": "display_data"
    }
   ],
   "source": [
    ".1 == (.3 / 3)"
   ]
  },
  {
   "cell_type": "code",
   "execution_count": 105,
   "id": "7ba754f7",
   "metadata": {
    "vscode": {
     "languageId": "r"
    }
   },
   "outputs": [
    {
     "data": {
      "text/html": [
       "<style>\n",
       ".list-inline {list-style: none; margin:0; padding: 0}\n",
       ".list-inline>li {display: inline-block}\n",
       ".list-inline>li:not(:last-child)::after {content: \"\\00b7\"; padding: 0 .5ex}\n",
       "</style>\n",
       "<ol class=list-inline><li>0.3</li><li>0.3</li><li>0.3</li><li>0.3</li><li>0.3</li></ol>\n"
      ],
      "text/latex": [
       "\\begin{enumerate*}\n",
       "\\item 0.3\n",
       "\\item 0.3\n",
       "\\item 0.3\n",
       "\\item 0.3\n",
       "\\item 0.3\n",
       "\\end{enumerate*}\n"
      ],
      "text/markdown": [
       "1. 0.3\n",
       "2. 0.3\n",
       "3. 0.3\n",
       "4. 0.3\n",
       "5. 0.3\n",
       "\n",
       "\n"
      ],
      "text/plain": [
       "[1] 0.3 0.3 0.3 0.3 0.3"
      ]
     },
     "metadata": {},
     "output_type": "display_data"
    }
   ],
   "source": [
    "c(.3, .4 - .1, .5 - .2, .6 - .3, .7 - .4)"
   ]
  },
  {
   "cell_type": "code",
   "execution_count": 106,
   "id": "a4cbb316",
   "metadata": {
    "vscode": {
     "languageId": "r"
    }
   },
   "outputs": [
    {
     "data": {
      "text/html": [
       "<style>\n",
       ".list-inline {list-style: none; margin:0; padding: 0}\n",
       ".list-inline>li {display: inline-block}\n",
       ".list-inline>li:not(:last-child)::after {content: \"\\00b7\"; padding: 0 .5ex}\n",
       "</style>\n",
       "<ol class=list-inline><li>0.3</li><li>0.3</li><li>0.3</li></ol>\n"
      ],
      "text/latex": [
       "\\begin{enumerate*}\n",
       "\\item 0.3\n",
       "\\item 0.3\n",
       "\\item 0.3\n",
       "\\end{enumerate*}\n"
      ],
      "text/markdown": [
       "1. 0.3\n",
       "2. 0.3\n",
       "3. 0.3\n",
       "\n",
       "\n"
      ],
      "text/plain": [
       "[1] 0.3 0.3 0.3"
      ]
     },
     "metadata": {},
     "output_type": "display_data"
    }
   ],
   "source": [
    "unique(c(.3, .4 - .1, .5 - .2, .6 - .3, .7 - .4))"
   ]
  },
  {
   "cell_type": "markdown",
   "id": "a90f70c2",
   "metadata": {},
   "source": [
    "<i>R is good enough at hiding numerical error that it is easy to forget that it is there. Don’t forget...</i>"
   ]
  },
  {
   "cell_type": "code",
   "execution_count": 107,
   "id": "1aec0949",
   "metadata": {
    "vscode": {
     "languageId": "r"
    }
   },
   "outputs": [
    {
     "data": {
      "text/html": [
       "<style>\n",
       ".list-inline {list-style: none; margin:0; padding: 0}\n",
       ".list-inline>li {display: inline-block}\n",
       ".list-inline>li:not(:last-child)::after {content: \"\\00b7\"; padding: 0 .5ex}\n",
       "</style>\n",
       "<ol class=list-inline><li>0</li><li>1</li><li>2</li><li>3</li><li>4</li></ol>\n"
      ],
      "text/latex": [
       "\\begin{enumerate*}\n",
       "\\item 0\n",
       "\\item 1\n",
       "\\item 2\n",
       "\\item 3\n",
       "\\item 4\n",
       "\\end{enumerate*}\n"
      ],
      "text/markdown": [
       "1. 0\n",
       "2. 1\n",
       "3. 2\n",
       "4. 3\n",
       "5. 4\n",
       "\n",
       "\n"
      ],
      "text/plain": [
       "[1] 0 1 2 3 4"
      ]
     },
     "metadata": {},
     "output_type": "display_data"
    }
   ],
   "source": [
    "1:5-1"
   ]
  },
  {
   "cell_type": "code",
   "execution_count": 108,
   "id": "9c781242",
   "metadata": {
    "vscode": {
     "languageId": "r"
    }
   },
   "outputs": [
    {
     "data": {
      "text/html": [
       "<style>\n",
       ".list-inline {list-style: none; margin:0; padding: 0}\n",
       ".list-inline>li {display: inline-block}\n",
       ".list-inline>li:not(:last-child)::after {content: \"\\00b7\"; padding: 0 .5ex}\n",
       "</style>\n",
       "<ol class=list-inline><li>1</li><li>2</li><li>3</li><li>4</li></ol>\n"
      ],
      "text/latex": [
       "\\begin{enumerate*}\n",
       "\\item 1\n",
       "\\item 2\n",
       "\\item 3\n",
       "\\item 4\n",
       "\\end{enumerate*}\n"
      ],
      "text/markdown": [
       "1. 1\n",
       "2. 2\n",
       "3. 3\n",
       "4. 4\n",
       "\n",
       "\n"
      ],
      "text/plain": [
       "[1] 1 2 3 4"
      ]
     },
     "metadata": {},
     "output_type": "display_data"
    }
   ],
   "source": [
    "1:(5-1)"
   ]
  },
  {
   "cell_type": "code",
   "execution_count": 109,
   "id": "143e711c",
   "metadata": {
    "vscode": {
     "languageId": "r"
    }
   },
   "outputs": [
    {
     "data": {
      "text/html": [
       "<style>\n",
       ".list-inline {list-style: none; margin:0; padding: 0}\n",
       ".list-inline>li {display: inline-block}\n",
       ".list-inline>li:not(:last-child)::after {content: \"\\00b7\"; padding: 0 .5ex}\n",
       "</style>\n",
       "<ol class=list-inline><li>100</li><li>99</li><li>98</li><li>97</li><li>96</li><li>95</li><li>94</li><li>93</li><li>92</li><li>91</li><li>90</li><li>89</li><li>88</li><li>87</li><li>86</li><li>85</li><li>84</li><li>83</li><li>82</li><li>81</li><li>80</li><li>79</li><li>78</li><li>77</li><li>76</li><li>75</li><li>74</li><li>73</li><li>72</li><li>71</li><li>70</li><li>69</li><li>68</li><li>67</li><li>66</li><li>65</li><li>64</li><li>63</li><li>62</li><li>61</li><li>60</li><li>59</li><li>58</li><li>57</li><li>56</li><li>55</li><li>54</li><li>53</li><li>52</li><li>51</li><li>50</li><li>49</li><li>48</li><li>47</li><li>46</li><li>45</li><li>44</li><li>43</li><li>42</li><li>41</li><li>40</li><li>39</li><li>38</li><li>37</li><li>36</li><li>35</li><li>34</li><li>33</li><li>32</li><li>31</li><li>30</li><li>29</li><li>28</li><li>27</li><li>26</li><li>25</li><li>24</li><li>23</li><li>22</li><li>21</li><li>20</li><li>19</li><li>18</li><li>17</li><li>16</li><li>15</li><li>14</li><li>13</li><li>12</li><li>11</li><li>10</li><li>9</li><li>8</li><li>7</li><li>6</li></ol>\n"
      ],
      "text/latex": [
       "\\begin{enumerate*}\n",
       "\\item 100\n",
       "\\item 99\n",
       "\\item 98\n",
       "\\item 97\n",
       "\\item 96\n",
       "\\item 95\n",
       "\\item 94\n",
       "\\item 93\n",
       "\\item 92\n",
       "\\item 91\n",
       "\\item 90\n",
       "\\item 89\n",
       "\\item 88\n",
       "\\item 87\n",
       "\\item 86\n",
       "\\item 85\n",
       "\\item 84\n",
       "\\item 83\n",
       "\\item 82\n",
       "\\item 81\n",
       "\\item 80\n",
       "\\item 79\n",
       "\\item 78\n",
       "\\item 77\n",
       "\\item 76\n",
       "\\item 75\n",
       "\\item 74\n",
       "\\item 73\n",
       "\\item 72\n",
       "\\item 71\n",
       "\\item 70\n",
       "\\item 69\n",
       "\\item 68\n",
       "\\item 67\n",
       "\\item 66\n",
       "\\item 65\n",
       "\\item 64\n",
       "\\item 63\n",
       "\\item 62\n",
       "\\item 61\n",
       "\\item 60\n",
       "\\item 59\n",
       "\\item 58\n",
       "\\item 57\n",
       "\\item 56\n",
       "\\item 55\n",
       "\\item 54\n",
       "\\item 53\n",
       "\\item 52\n",
       "\\item 51\n",
       "\\item 50\n",
       "\\item 49\n",
       "\\item 48\n",
       "\\item 47\n",
       "\\item 46\n",
       "\\item 45\n",
       "\\item 44\n",
       "\\item 43\n",
       "\\item 42\n",
       "\\item 41\n",
       "\\item 40\n",
       "\\item 39\n",
       "\\item 38\n",
       "\\item 37\n",
       "\\item 36\n",
       "\\item 35\n",
       "\\item 34\n",
       "\\item 33\n",
       "\\item 32\n",
       "\\item 31\n",
       "\\item 30\n",
       "\\item 29\n",
       "\\item 28\n",
       "\\item 27\n",
       "\\item 26\n",
       "\\item 25\n",
       "\\item 24\n",
       "\\item 23\n",
       "\\item 22\n",
       "\\item 21\n",
       "\\item 20\n",
       "\\item 19\n",
       "\\item 18\n",
       "\\item 17\n",
       "\\item 16\n",
       "\\item 15\n",
       "\\item 14\n",
       "\\item 13\n",
       "\\item 12\n",
       "\\item 11\n",
       "\\item 10\n",
       "\\item 9\n",
       "\\item 8\n",
       "\\item 7\n",
       "\\item 6\n",
       "\\end{enumerate*}\n"
      ],
      "text/markdown": [
       "1. 100\n",
       "2. 99\n",
       "3. 98\n",
       "4. 97\n",
       "5. 96\n",
       "6. 95\n",
       "7. 94\n",
       "8. 93\n",
       "9. 92\n",
       "10. 91\n",
       "11. 90\n",
       "12. 89\n",
       "13. 88\n",
       "14. 87\n",
       "15. 86\n",
       "16. 85\n",
       "17. 84\n",
       "18. 83\n",
       "19. 82\n",
       "20. 81\n",
       "21. 80\n",
       "22. 79\n",
       "23. 78\n",
       "24. 77\n",
       "25. 76\n",
       "26. 75\n",
       "27. 74\n",
       "28. 73\n",
       "29. 72\n",
       "30. 71\n",
       "31. 70\n",
       "32. 69\n",
       "33. 68\n",
       "34. 67\n",
       "35. 66\n",
       "36. 65\n",
       "37. 64\n",
       "38. 63\n",
       "39. 62\n",
       "40. 61\n",
       "41. 60\n",
       "42. 59\n",
       "43. 58\n",
       "44. 57\n",
       "45. 56\n",
       "46. 55\n",
       "47. 54\n",
       "48. 53\n",
       "49. 52\n",
       "50. 51\n",
       "51. 50\n",
       "52. 49\n",
       "53. 48\n",
       "54. 47\n",
       "55. 46\n",
       "56. 45\n",
       "57. 44\n",
       "58. 43\n",
       "59. 42\n",
       "60. 41\n",
       "61. 40\n",
       "62. 39\n",
       "63. 38\n",
       "64. 37\n",
       "65. 36\n",
       "66. 35\n",
       "67. 34\n",
       "68. 33\n",
       "69. 32\n",
       "70. 31\n",
       "71. 30\n",
       "72. 29\n",
       "73. 28\n",
       "74. 27\n",
       "75. 26\n",
       "76. 25\n",
       "77. 24\n",
       "78. 23\n",
       "79. 22\n",
       "80. 21\n",
       "81. 20\n",
       "82. 19\n",
       "83. 18\n",
       "84. 17\n",
       "85. 16\n",
       "86. 15\n",
       "87. 14\n",
       "88. 13\n",
       "89. 12\n",
       "90. 11\n",
       "91. 10\n",
       "92. 9\n",
       "93. 8\n",
       "94. 7\n",
       "95. 6\n",
       "\n",
       "\n"
      ],
      "text/plain": [
       " [1] 100  99  98  97  96  95  94  93  92  91  90  89  88  87  86  85  84  83  82\n",
       "[20]  81  80  79  78  77  76  75  74  73  72  71  70  69  68  67  66  65  64  63\n",
       "[39]  62  61  60  59  58  57  56  55  54  53  52  51  50  49  48  47  46  45  44\n",
       "[58]  43  42  41  40  39  38  37  36  35  34  33  32  31  30  29  28  27  26  25\n",
       "[77]  24  23  22  21  20  19  18  17  16  15  14  13  12  11  10   9   8   7   6"
      ]
     },
     "metadata": {},
     "output_type": "display_data"
    }
   ],
   "source": [
    "10^2:6"
   ]
  },
  {
   "cell_type": "code",
   "execution_count": 110,
   "id": "e7489149",
   "metadata": {
    "vscode": {
     "languageId": "r"
    }
   },
   "outputs": [
    {
     "name": "stdout",
     "output_type": "stream",
     "text": [
      "Syntax                  package:base                   R Documentation\n",
      "\n",
      "_\bO_\bp_\be_\br_\ba_\bt_\bo_\br _\bS_\by_\bn_\bt_\ba_\bx _\ba_\bn_\bd _\bP_\br_\be_\bc_\be_\bd_\be_\bn_\bc_\be\n",
      "\n",
      "_\bD_\be_\bs_\bc_\br_\bi_\bp_\bt_\bi_\bo_\bn:\n",
      "\n",
      "     Outlines R syntax and gives the precedence of operators.\n",
      "\n",
      "_\bD_\be_\bt_\ba_\bi_\bl_\bs:\n",
      "\n",
      "     The following unary and binary operators are defined.  They are\n",
      "     listed in precedence groups, from highest to lowest.\n",
      "\n",
      "       ‘:: :::’           access variables in a namespace              \n",
      "       ‘$ @’              component / slot extraction                  \n",
      "       ‘[ [[’             indexing                                     \n",
      "       ‘^’                exponentiation (right to left)               \n",
      "       ‘- +’              unary minus and plus                         \n",
      "       ‘:’                sequence operator                            \n",
      "       ‘%any% |>’         special operators (including ‘%%’ and ‘%/%’) \n",
      "       ‘* /’              multiply, divide                             \n",
      "       ‘+ -’              (binary) add, subtract                       \n",
      "       ‘< > <= >= == !=’  ordering and comparison                      \n",
      "       ‘!’                negation                                     \n",
      "       ‘&  &&’            and                                          \n",
      "       ‘| ||’             or                                           \n",
      "       ‘~’                as in formulae                               \n",
      "       ‘-> ->>’           rightwards assignment                        \n",
      "       ‘<- <<-’           assignment (right to left)                   \n",
      "       ‘=’                assignment (right to left)                   \n",
      "       ‘?’                help (unary and binary)                      \n",
      "      \n",
      "     Within an expression operators of equal precedence are evaluated\n",
      "     from left to right except where indicated.  (Note that ‘=’ is not\n",
      "     necessarily an operator.)\n",
      "\n",
      "     The binary operators ‘::’, ‘:::’, ‘$’ and ‘@’ require names or\n",
      "     string constants on the right hand side, and the first two also\n",
      "     require them on the left.\n",
      "\n",
      "     The links in the *See Also* section cover most other aspects of\n",
      "     the basic syntax.\n",
      "\n",
      "_\bN_\bo_\bt_\be:\n",
      "\n",
      "     There are substantial precedence differences between R and S.  In\n",
      "     particular, in S ‘?’ has the same precedence as (binary) ‘+ -’ and\n",
      "     ‘& && | ||’ have equal precedence.\n",
      "\n",
      "_\bR_\be_\bf_\be_\br_\be_\bn_\bc_\be_\bs:\n",
      "\n",
      "     Becker, R. A., Chambers, J. M. and Wilks, A. R. (1988) _The New S\n",
      "     Language_.  Wadsworth & Brooks/Cole.\n",
      "\n",
      "_\bS_\be_\be _\bA_\bl_\bs_\bo:\n",
      "\n",
      "     ‘Arithmetic’, ‘Comparison’, ‘Control’, ‘Extract’, ‘Logic’,\n",
      "     ‘NumericConstants’, ‘Paren’, ‘Quotes’, ‘Reserved’.\n",
      "\n",
      "     The ‘R Language Definition’ manual.\n",
      "\n",
      "_\bE_\bx_\ba_\bm_\bp_\bl_\be_\bs:\n",
      "\n",
      "     ## Logical AND (\"&&\") has higher precedence than OR (\"||\"):\n",
      "     TRUE || TRUE && FALSE   # is the same as\n",
      "     TRUE || (TRUE && FALSE) # and different from\n",
      "     (TRUE || TRUE) && FALSE\n",
      "     \n",
      "     ## Special operators have higher precedence than \"!\" (logical NOT).\n",
      "     ## You can use this for %in% :\n",
      "     ! 1:10 %in% c(2, 3, 5, 7) # same as !(1:10 %in% c(2, 3, 5, 7))\n",
      "     ## but we strongly advise to use the \"!( ... )\" form in this case!\n",
      "     \n",
      "     \n",
      "     ## '=' has lower precedence than '<-' ... so you should not mix them\n",
      "     ##     (and '<-' is considered better style anyway):\n",
      "     ## Not run:\n",
      "     ## Consequently, this gives a (\"non-catchable\") error\n",
      "      x <- y = 5  #->  Error in (x <- y) = 5 : ....\n",
      "     ## End(Not run)\n",
      "     "
     ]
    }
   ],
   "source": [
    "?Syntax"
   ]
  },
  {
   "cell_type": "markdown",
   "id": "fc4304f4",
   "metadata": {},
   "source": [
    "<i>Paréntesis... usad paréntesis...</i>"
   ]
  },
  {
   "cell_type": "markdown",
   "id": "5abb0a4c",
   "metadata": {},
   "source": [
    "# Variables"
   ]
  },
  {
   "cell_type": "code",
   "execution_count": 111,
   "id": "f750b64f",
   "metadata": {
    "vscode": {
     "languageId": "r"
    }
   },
   "outputs": [],
   "source": [
    "x <- 1 # A la variable x le asigno 1"
   ]
  },
  {
   "cell_type": "code",
   "execution_count": 112,
   "id": "5ffc0c84",
   "metadata": {
    "vscode": {
     "languageId": "r"
    }
   },
   "outputs": [
    {
     "name": "stdout",
     "output_type": "stream",
     "text": [
      "[1] 1\n"
     ]
    }
   ],
   "source": [
    "print(x)"
   ]
  },
  {
   "cell_type": "code",
   "execution_count": 113,
   "id": "9d934e47",
   "metadata": {
    "vscode": {
     "languageId": "r"
    }
   },
   "outputs": [],
   "source": [
    "x = 5 # A la variable x le asigno 1 "
   ]
  },
  {
   "cell_type": "code",
   "execution_count": 114,
   "id": "3d67f7ce",
   "metadata": {
    "vscode": {
     "languageId": "r"
    }
   },
   "outputs": [
    {
     "name": "stdout",
     "output_type": "stream",
     "text": [
      "[1] 5\n"
     ]
    }
   ],
   "source": [
    "print(x)"
   ]
  },
  {
   "cell_type": "markdown",
   "id": "f7841930",
   "metadata": {},
   "source": [
    "<b>Atención:</b> `<-` no es lo mismo que `=`"
   ]
  },
  {
   "cell_type": "code",
   "execution_count": 115,
   "id": "82be438f",
   "metadata": {
    "vscode": {
     "languageId": "r"
    }
   },
   "outputs": [
    {
     "ename": "ERROR",
     "evalue": "Error in foo(93, a = 47): no se pudo encontrar la función \"foo\"\n",
     "output_type": "error",
     "traceback": [
      "Error in foo(93, a = 47): no se pudo encontrar la función \"foo\"\nTraceback:\n"
     ]
    }
   ],
   "source": [
    "# Do not run!\n",
    "foo(93, a = 47)\n",
    "foo(93, a <- 47)"
   ]
  },
  {
   "cell_type": "code",
   "execution_count": 116,
   "id": "789506dd",
   "metadata": {
    "vscode": {
     "languageId": "r"
    }
   },
   "outputs": [
    {
     "data": {
      "text/plain": [
       "   user  system elapsed \n",
       "  0.000   0.000   5.002 "
      ]
     },
     "metadata": {},
     "output_type": "display_data"
    }
   ],
   "source": [
    "# Do not run!\n",
    "system.time(result <- Sys.sleep(5))\n",
    "result <- system.time(Sys.sleep(5))"
   ]
  },
  {
   "cell_type": "markdown",
   "id": "a705de01",
   "metadata": {},
   "source": [
    "Seguimos..."
   ]
  },
  {
   "cell_type": "code",
   "execution_count": 117,
   "id": "3f7a0b2b",
   "metadata": {
    "vscode": {
     "languageId": "r"
    }
   },
   "outputs": [
    {
     "name": "stdout",
     "output_type": "stream",
     "text": [
      "[1]  2.0  6.0  8.0 10.0 -2.0  4.3\n"
     ]
    }
   ],
   "source": [
    "v <- c(2,6,8,10,-2,4.3)\n",
    "print(v)"
   ]
  },
  {
   "cell_type": "code",
   "execution_count": 118,
   "id": "7db58c57",
   "metadata": {
    "vscode": {
     "languageId": "r"
    }
   },
   "outputs": [
    {
     "name": "stdout",
     "output_type": "stream",
     "text": [
      "[1]  3.0  7.0  9.0 11.0 -1.0  5.3\n"
     ]
    }
   ],
   "source": [
    "print(v + 1) # Recycling Rule"
   ]
  },
  {
   "cell_type": "code",
   "execution_count": 119,
   "id": "785bc4d3",
   "metadata": {
    "vscode": {
     "languageId": "r"
    }
   },
   "outputs": [
    {
     "name": "stdout",
     "output_type": "stream",
     "text": [
      "[1]   4.00  36.00  64.00 100.00   4.00  18.49\n"
     ]
    }
   ],
   "source": [
    "print(v * v)"
   ]
  },
  {
   "cell_type": "code",
   "execution_count": 120,
   "id": "94bf4dba",
   "metadata": {
    "vscode": {
     "languageId": "r"
    }
   },
   "outputs": [
    {
     "name": "stdout",
     "output_type": "stream",
     "text": [
      "[1] TRUE TRUE TRUE TRUE TRUE TRUE\n"
     ]
    }
   ],
   "source": [
    "print(v == v)"
   ]
  },
  {
   "cell_type": "code",
   "execution_count": 121,
   "id": "6070ec05",
   "metadata": {
    "vscode": {
     "languageId": "r"
    }
   },
   "outputs": [
    {
     "data": {
      "text/html": [
       "TRUE"
      ],
      "text/latex": [
       "TRUE"
      ],
      "text/markdown": [
       "TRUE"
      ],
      "text/plain": [
       "[1] TRUE"
      ]
     },
     "metadata": {},
     "output_type": "display_data"
    }
   ],
   "source": [
    "all(v == v) # Evalúa si todas las condiciones de un vector lógico son TRUE"
   ]
  },
  {
   "cell_type": "code",
   "execution_count": 122,
   "id": "c83fd475",
   "metadata": {
    "vscode": {
     "languageId": "r"
    }
   },
   "outputs": [
    {
     "data": {
      "text/html": [
       "TRUE"
      ],
      "text/latex": [
       "TRUE"
      ],
      "text/markdown": [
       "TRUE"
      ],
      "text/plain": [
       "[1] TRUE"
      ]
     },
     "metadata": {},
     "output_type": "display_data"
    }
   ],
   "source": [
    "identical(v,v) # Comprueba si dos objetos son exactamente iguales en tipo, longitud, atributos y valores"
   ]
  },
  {
   "cell_type": "code",
   "execution_count": 123,
   "id": "45bf8959",
   "metadata": {
    "vscode": {
     "languageId": "r"
    }
   },
   "outputs": [
    {
     "name": "stderr",
     "output_type": "stream",
     "text": [
      "Warning message in x == y:\n",
      "“longitud de objeto mayor no es múltiplo de la longitud de uno menor”\n"
     ]
    },
    {
     "data": {
      "text/html": [
       "TRUE"
      ],
      "text/latex": [
       "TRUE"
      ],
      "text/markdown": [
       "TRUE"
      ],
      "text/plain": [
       "[1] TRUE"
      ]
     },
     "metadata": {},
     "output_type": "display_data"
    },
    {
     "data": {
      "text/html": [
       "FALSE"
      ],
      "text/latex": [
       "FALSE"
      ],
      "text/markdown": [
       "FALSE"
      ],
      "text/plain": [
       "[1] FALSE"
      ]
     },
     "metadata": {},
     "output_type": "display_data"
    }
   ],
   "source": [
    "x <- c(1,1)\n",
    "y <- c(1,1,1)\n",
    "all(x == y)\n",
    "identical(x, y)"
   ]
  },
  {
   "cell_type": "code",
   "execution_count": 124,
   "id": "c3556d84",
   "metadata": {
    "vscode": {
     "languageId": "r"
    }
   },
   "outputs": [
    {
     "name": "stdout",
     "output_type": "stream",
     "text": [
      "match                   package:base                   R Documentation\n",
      "\n",
      "_\bV_\ba_\bl_\bu_\be _\bM_\ba_\bt_\bc_\bh_\bi_\bn_\bg\n",
      "\n",
      "_\bD_\be_\bs_\bc_\br_\bi_\bp_\bt_\bi_\bo_\bn:\n",
      "\n",
      "     ‘match’ returns a vector of the positions of (first) matches of\n",
      "     its first argument in its second.\n",
      "\n",
      "     ‘%in%’ is a more intuitive interface as a binary operator, which\n",
      "     returns a logical vector indicating if there is a match or not for\n",
      "     its left operand.\n",
      "\n",
      "_\bU_\bs_\ba_\bg_\be:\n",
      "\n",
      "     match(x, table, nomatch = NA_integer_, incomparables = NULL)\n",
      "     \n",
      "     x %in% table\n",
      "     \n",
      "_\bA_\br_\bg_\bu_\bm_\be_\bn_\bt_\bs:\n",
      "\n",
      "       x: vector or ‘NULL’: the values to be matched.  Long vectors are\n",
      "          supported.\n",
      "\n",
      "   table: vector or ‘NULL’: the values to be matched against.  Long\n",
      "          vectors are not supported.\n",
      "\n",
      " nomatch: the value to be returned in the case when no match is found.\n",
      "          Note that it is coerced to ‘integer’.\n",
      "\n",
      "incomparables: a vector of values that cannot be matched.  Any value in\n",
      "          ‘x’ matching a value in this vector is assigned the ‘nomatch’\n",
      "          value.  For historical reasons, ‘FALSE’ is equivalent to\n",
      "          ‘NULL’.\n",
      "\n",
      "_\bD_\be_\bt_\ba_\bi_\bl_\bs:\n",
      "\n",
      "     ‘%in%’ is currently defined as\n",
      "     ‘\"%in%\" <- function(x, table) match(x, table, nomatch = 0) > 0’\n",
      "\n",
      "     Factors, raw vectors and lists are converted to character vectors,\n",
      "     internally classed objects are transformed via ‘mtfrm’, and then\n",
      "     ‘x’ and ‘table’ are coerced to a common type (the later of the two\n",
      "     types in R's ordering, logical < integer < numeric < complex <\n",
      "     character) before matching.  If ‘incomparables’ has positive\n",
      "     length it is coerced to the common type.\n",
      "\n",
      "     Matching for lists is potentially very slow and best avoided\n",
      "     except in simple cases.\n",
      "\n",
      "     Exactly what matches what is to some extent a matter of\n",
      "     definition.  For all types, ‘NA’ matches ‘NA’ and no other value.\n",
      "     For real and complex values, ‘NaN’ values are regarded as matching\n",
      "     any other ‘NaN’ value, but not matching ‘NA’, where for complex\n",
      "     ‘x’, real and imaginary parts must match both (unless containing\n",
      "     at least one ‘NA’).\n",
      "\n",
      "     Character strings will be compared as byte sequences if any input\n",
      "     is marked as ‘\"bytes\"’, and otherwise are regarded as equal if\n",
      "     they are in different encodings but would agree when translated to\n",
      "     UTF-8 (see ‘Encoding’).\n",
      "\n",
      "     That ‘%in%’ never returns ‘NA’ makes it particularly useful in\n",
      "     ‘if’ conditions.\n",
      "\n",
      "_\bV_\ba_\bl_\bu_\be:\n",
      "\n",
      "     A vector of the same length as ‘x’.\n",
      "\n",
      "     ‘match’: An integer vector giving the position in ‘table’ of the\n",
      "     first match if there is a match, otherwise ‘nomatch’.\n",
      "\n",
      "     If ‘x[i]’ is found to equal ‘table[j]’ then the value returned in\n",
      "     the ‘i’-th position of the return value is ‘j’, for the smallest\n",
      "     possible ‘j’.  If no match is found, the value is ‘nomatch’.\n",
      "\n",
      "     ‘%in%’: A logical vector, indicating if a match was located for\n",
      "     each element of ‘x’: thus the values are ‘TRUE’ or ‘FALSE’ and\n",
      "     never ‘NA’.\n",
      "\n",
      "_\bR_\be_\bf_\be_\br_\be_\bn_\bc_\be_\bs:\n",
      "\n",
      "     Becker, R. A., Chambers, J. M. and Wilks, A. R. (1988) _The New S\n",
      "     Language_.  Wadsworth & Brooks/Cole.\n",
      "\n",
      "_\bS_\be_\be _\bA_\bl_\bs_\bo:\n",
      "\n",
      "     ‘pmatch’ and ‘charmatch’ for (_partial_) string matching,\n",
      "     ‘match.arg’, etc for function argument matching.  ‘findInterval’\n",
      "     similarly returns a vector of positions, but finds numbers within\n",
      "     intervals, rather than exact matches.\n",
      "\n",
      "     ‘is.element’ for an S-compatible equivalent of ‘%in%’.\n",
      "\n",
      "     ‘unique’ (and ‘duplicated’) are using the same definitions of\n",
      "     “match” or “equality” as ‘match()’, and these are less strict than\n",
      "     ‘==’, e.g., for ‘NA’ and ‘NaN’ in numeric or complex vectors, or\n",
      "     for strings with different encodings, see also above.\n",
      "\n",
      "_\bE_\bx_\ba_\bm_\bp_\bl_\be_\bs:\n",
      "\n",
      "     ## The intersection of two sets can be defined via match():\n",
      "     ## Simple version:\n",
      "     ## intersect <- function(x, y) y[match(x, y, nomatch = 0)]\n",
      "     intersect # the R function in base is slightly more careful\n",
      "     intersect(1:10, 7:20)\n",
      "     \n",
      "     1:10 %in% c(1,3,5,9)\n",
      "     sstr <- c(\"c\",\"ab\",\"B\",\"bba\",\"c\",NA,\"@\",\"bla\",\"a\",\"Ba\",\"%\")\n",
      "     sstr[sstr %in% c(letters, LETTERS)]\n",
      "     \n",
      "     \"%w/o%\" <- function(x, y) x[!x %in% y] #--  x without y\n",
      "     (1:10) %w/o% c(3,7,12)\n",
      "     ## Note that setdiff() is very similar and typically makes more sense:\n",
      "             c(1:6,7:2) %w/o% c(3,7,12)  # -> keeps duplicates\n",
      "     setdiff(c(1:6,7:2),      c(3,7,12)) # -> unique values\n",
      "     \n",
      "     ## Illuminating example about NA matching\n",
      "     r <- c(1, NA, NaN)\n",
      "     zN <- c(complex(real = NA , imaginary =  r ), complex(real =  r , imaginary = NA ),\n",
      "             complex(real =  r , imaginary = NaN), complex(real = NaN, imaginary =  r ))\n",
      "     zM <- cbind(Re=Re(zN), Im=Im(zN), match = match(zN, zN))\n",
      "     rownames(zM) <- format(zN)\n",
      "     zM ##--> many \"NA's\" (= 1) and the four non-NA's (3 different ones, at 7,9,10)\n",
      "     \n",
      "     length(zN) # 12\n",
      "     unique(zN) # the \"NA\" and the 3 different non-NA NaN's\n",
      "     stopifnot(identical(unique(zN), zN[c(1, 7,9,10)]))\n",
      "     \n",
      "     ## very strict equality would have 4 duplicates (of 12):\n",
      "     symnum(outer(zN, zN, Vectorize(identical,c(\"x\",\"y\")),\n",
      "                          FALSE,FALSE,FALSE,FALSE))\n",
      "     ## removing \"(very strictly) duplicates\",\n",
      "     i <- c(5,8,11,12)  # we get 8 pairwise non-identicals :\n",
      "     Ixy <- outer(zN[-i], zN[-i], Vectorize(identical,c(\"x\",\"y\")),\n",
      "                          FALSE,FALSE,FALSE,FALSE)\n",
      "     stopifnot(identical(Ixy, diag(8) == 1))\n",
      "     "
     ]
    }
   ],
   "source": [
    "?`%in%`"
   ]
  },
  {
   "cell_type": "code",
   "execution_count": 125,
   "id": "2381f8a0",
   "metadata": {
    "vscode": {
     "languageId": "r"
    }
   },
   "outputs": [
    {
     "data": {
      "text/html": [
       "<style>\n",
       ".list-inline {list-style: none; margin:0; padding: 0}\n",
       ".list-inline>li {display: inline-block}\n",
       ".list-inline>li:not(:last-child)::after {content: \"\\00b7\"; padding: 0 .5ex}\n",
       "</style>\n",
       "<ol class=list-inline><li>TRUE</li><li>FALSE</li></ol>\n"
      ],
      "text/latex": [
       "\\begin{enumerate*}\n",
       "\\item TRUE\n",
       "\\item FALSE\n",
       "\\end{enumerate*}\n"
      ],
      "text/markdown": [
       "1. TRUE\n",
       "2. FALSE\n",
       "\n",
       "\n"
      ],
      "text/plain": [
       "[1]  TRUE FALSE"
      ]
     },
     "metadata": {},
     "output_type": "display_data"
    }
   ],
   "source": [
    "1:2 %in% 1"
   ]
  },
  {
   "cell_type": "code",
   "execution_count": 126,
   "id": "06c48d09",
   "metadata": {
    "vscode": {
     "languageId": "r"
    }
   },
   "outputs": [
    {
     "name": "stdout",
     "output_type": "stream",
     "text": [
      "[1]  2.0  6.0  8.0 10.0 -2.0  4.3\n",
      "[1] FALSE  TRUE\n",
      "[1]  TRUE FALSE FALSE FALSE FALSE FALSE\n"
     ]
    }
   ],
   "source": [
    "print(v)\n",
    "print(c(3,2) %in% v)\n",
    "print(v %in% c(3,2))"
   ]
  },
  {
   "cell_type": "code",
   "execution_count": 127,
   "id": "05b86aef",
   "metadata": {
    "vscode": {
     "languageId": "r"
    }
   },
   "outputs": [
    {
     "data": {
      "text/html": [
       "2"
      ],
      "text/latex": [
       "2"
      ],
      "text/markdown": [
       "2"
      ],
      "text/plain": [
       "[1] 2"
      ]
     },
     "metadata": {},
     "output_type": "display_data"
    }
   ],
   "source": [
    "intersect(c(3,2), v)"
   ]
  },
  {
   "cell_type": "code",
   "execution_count": 128,
   "id": "45eb528c",
   "metadata": {
    "vscode": {
     "languageId": "r"
    }
   },
   "outputs": [
    {
     "name": "stdout",
     "output_type": "stream",
     "text": [
      "[1]  3.0  2.0  6.0  8.0 10.0 -2.0  4.3\n"
     ]
    }
   ],
   "source": [
    "print(union(c(3,2), v))"
   ]
  },
  {
   "cell_type": "code",
   "execution_count": 129,
   "id": "50154f32",
   "metadata": {
    "vscode": {
     "languageId": "r"
    }
   },
   "outputs": [
    {
     "name": "stdout",
     "output_type": "stream",
     "text": [
      "[1]  2.0  6.0  8.0 10.0 -2.0  4.3  3.0\n"
     ]
    }
   ],
   "source": [
    "print(union(v, c(3,2)))"
   ]
  },
  {
   "cell_type": "code",
   "execution_count": 130,
   "id": "49bb16b9",
   "metadata": {
    "vscode": {
     "languageId": "r"
    }
   },
   "outputs": [
    {
     "name": "stdout",
     "output_type": "stream",
     "text": [
      "[1] 3\n"
     ]
    }
   ],
   "source": [
    "print(setdiff(c(3,2), v))"
   ]
  },
  {
   "cell_type": "code",
   "execution_count": 131,
   "id": "77432478",
   "metadata": {
    "vscode": {
     "languageId": "r"
    }
   },
   "outputs": [
    {
     "name": "stdout",
     "output_type": "stream",
     "text": [
      "[1]  6.0  8.0 10.0 -2.0  4.3\n"
     ]
    }
   ],
   "source": [
    "print(setdiff(v, c(3,2)))"
   ]
  },
  {
   "cell_type": "code",
   "execution_count": 132,
   "id": "c6018c8b",
   "metadata": {
    "vscode": {
     "languageId": "r"
    }
   },
   "outputs": [
    {
     "name": "stdout",
     "output_type": "stream",
     "text": [
      "[1]  6.0  8.0 10.0  4.3\n"
     ]
    }
   ],
   "source": [
    "print(setdiff(abs(v), c(3,2)))"
   ]
  },
  {
   "cell_type": "code",
   "execution_count": 133,
   "id": "23196f97",
   "metadata": {
    "vscode": {
     "languageId": "r"
    }
   },
   "outputs": [
    {
     "name": "stdout",
     "output_type": "stream",
     "text": [
      "[1]  2.0  6.0  8.0 10.0 -2.0  4.3\n"
     ]
    },
    {
     "data": {
      "text/html": [
       "TRUE"
      ],
      "text/latex": [
       "TRUE"
      ],
      "text/markdown": [
       "TRUE"
      ],
      "text/plain": [
       "[1] TRUE"
      ]
     },
     "metadata": {},
     "output_type": "display_data"
    }
   ],
   "source": [
    "print(v)\n",
    "any(v > 2)"
   ]
  },
  {
   "cell_type": "code",
   "execution_count": 134,
   "id": "64e7eb06",
   "metadata": {
    "vscode": {
     "languageId": "r"
    }
   },
   "outputs": [
    {
     "data": {
      "text/html": [
       "FALSE"
      ],
      "text/latex": [
       "FALSE"
      ],
      "text/markdown": [
       "FALSE"
      ],
      "text/plain": [
       "[1] FALSE"
      ]
     },
     "metadata": {},
     "output_type": "display_data"
    }
   ],
   "source": [
    "all(v > 2)"
   ]
  },
  {
   "cell_type": "markdown",
   "id": "fdd142fe",
   "metadata": {},
   "source": [
    "# Más sobre vectores"
   ]
  },
  {
   "cell_type": "code",
   "execution_count": 135,
   "id": "207d7925",
   "metadata": {
    "vscode": {
     "languageId": "r"
    }
   },
   "outputs": [
    {
     "name": "stdout",
     "output_type": "stream",
     "text": [
      "[1]  2.0  6.0  8.0 10.0 -2.0  4.3\n",
      "[1] 2\n"
     ]
    }
   ],
   "source": [
    "print(v)\n",
    "print(v[1])"
   ]
  },
  {
   "cell_type": "code",
   "execution_count": 136,
   "id": "0bed30cb",
   "metadata": {
    "vscode": {
     "languageId": "r"
    }
   },
   "outputs": [
    {
     "name": "stdout",
     "output_type": "stream",
     "text": [
      "numeric(0)\n"
     ]
    }
   ],
   "source": [
    "print(v[0]) # Nada"
   ]
  },
  {
   "cell_type": "code",
   "execution_count": 137,
   "id": "c7a32d32",
   "metadata": {
    "vscode": {
     "languageId": "r"
    }
   },
   "outputs": [
    {
     "name": "stdout",
     "output_type": "stream",
     "text": [
      "[1]  6.0  8.0 10.0 -2.0  4.3\n"
     ]
    }
   ],
   "source": [
    "print(v[-1])"
   ]
  },
  {
   "cell_type": "code",
   "execution_count": 138,
   "id": "9aa20de4",
   "metadata": {
    "vscode": {
     "languageId": "r"
    }
   },
   "outputs": [
    {
     "name": "stdout",
     "output_type": "stream",
     "text": [
      "[1]  2.0  6.0  8.0 10.0 -2.0  4.3\n",
      "[1]  8.0 10.0 -2.0  4.3\n"
     ]
    }
   ],
   "source": [
    "print(v)\n",
    "print(v[-1:-2])"
   ]
  },
  {
   "cell_type": "code",
   "execution_count": 139,
   "id": "44d98dee",
   "metadata": {
    "vscode": {
     "languageId": "r"
    }
   },
   "outputs": [
    {
     "name": "stdout",
     "output_type": "stream",
     "text": [
      "[1]  2 10\n"
     ]
    }
   ],
   "source": [
    "print(v[c(1,4)])"
   ]
  },
  {
   "cell_type": "code",
   "execution_count": 140,
   "id": "a4d8d81d",
   "metadata": {
    "vscode": {
     "languageId": "r"
    }
   },
   "outputs": [
    {
     "data": {
      "text/html": [
       "6"
      ],
      "text/latex": [
       "6"
      ],
      "text/markdown": [
       "6"
      ],
      "text/plain": [
       "[1] 6"
      ]
     },
     "metadata": {},
     "output_type": "display_data"
    }
   ],
   "source": [
    "length(v)"
   ]
  },
  {
   "cell_type": "code",
   "execution_count": 141,
   "id": "136ed9e1",
   "metadata": {
    "vscode": {
     "languageId": "r"
    }
   },
   "outputs": [
    {
     "data": {
      "text/html": [
       "1"
      ],
      "text/latex": [
       "1"
      ],
      "text/markdown": [
       "1"
      ],
      "text/plain": [
       "[1] 1"
      ]
     },
     "metadata": {},
     "output_type": "display_data"
    }
   ],
   "source": [
    "length(4)"
   ]
  },
  {
   "cell_type": "code",
   "execution_count": 142,
   "id": "4fabc741",
   "metadata": {
    "vscode": {
     "languageId": "r"
    }
   },
   "outputs": [
    {
     "data": {
      "text/html": [
       "1"
      ],
      "text/latex": [
       "1"
      ],
      "text/markdown": [
       "1"
      ],
      "text/plain": [
       "[1] 1"
      ]
     },
     "metadata": {},
     "output_type": "display_data"
    }
   ],
   "source": [
    "length(\"hola\")"
   ]
  },
  {
   "cell_type": "code",
   "execution_count": 143,
   "id": "40e5b6e7",
   "metadata": {
    "vscode": {
     "languageId": "r"
    }
   },
   "outputs": [
    {
     "data": {
      "text/html": [
       "4"
      ],
      "text/latex": [
       "4"
      ],
      "text/markdown": [
       "4"
      ],
      "text/plain": [
       "[1] 4"
      ]
     },
     "metadata": {},
     "output_type": "display_data"
    }
   ],
   "source": [
    "nchar(\"hola\") # Más sobre cadenas de caracteres más adelante..."
   ]
  },
  {
   "cell_type": "code",
   "execution_count": 144,
   "id": "7cf04d40",
   "metadata": {
    "vscode": {
     "languageId": "r"
    }
   },
   "outputs": [
    {
     "name": "stdout",
     "output_type": "stream",
     "text": [
      "[1]  2.0  6.0  8.0 10.0 -2.0  4.3\n"
     ]
    },
    {
     "data": {
      "text/html": [
       "<style>\n",
       ".list-inline {list-style: none; margin:0; padding: 0}\n",
       ".list-inline>li {display: inline-block}\n",
       ".list-inline>li:not(:last-child)::after {content: \"\\00b7\"; padding: 0 .5ex}\n",
       "</style>\n",
       "<ol class=list-inline><li>TRUE</li><li>TRUE</li><li>TRUE</li><li>TRUE</li><li>FALSE</li><li>TRUE</li></ol>\n"
      ],
      "text/latex": [
       "\\begin{enumerate*}\n",
       "\\item TRUE\n",
       "\\item TRUE\n",
       "\\item TRUE\n",
       "\\item TRUE\n",
       "\\item FALSE\n",
       "\\item TRUE\n",
       "\\end{enumerate*}\n"
      ],
      "text/markdown": [
       "1. TRUE\n",
       "2. TRUE\n",
       "3. TRUE\n",
       "4. TRUE\n",
       "5. FALSE\n",
       "6. TRUE\n",
       "\n",
       "\n"
      ],
      "text/plain": [
       "[1]  TRUE  TRUE  TRUE  TRUE FALSE  TRUE"
      ]
     },
     "metadata": {},
     "output_type": "display_data"
    }
   ],
   "source": [
    "print(v)\n",
    "v >= 0"
   ]
  },
  {
   "cell_type": "code",
   "execution_count": 145,
   "id": "0e1975a0",
   "metadata": {
    "vscode": {
     "languageId": "r"
    }
   },
   "outputs": [
    {
     "name": "stdout",
     "output_type": "stream",
     "text": [
      "[1]  2.0  6.0  8.0 10.0  4.3\n"
     ]
    }
   ],
   "source": [
    "print(v[v >= 0])"
   ]
  },
  {
   "cell_type": "code",
   "execution_count": 146,
   "id": "8627bdb9",
   "metadata": {
    "vscode": {
     "languageId": "r"
    }
   },
   "outputs": [
    {
     "name": "stdout",
     "output_type": "stream",
     "text": [
      "[1] -2\n"
     ]
    }
   ],
   "source": [
    "print(v[v < 0])"
   ]
  },
  {
   "cell_type": "code",
   "execution_count": 147,
   "id": "1471686b",
   "metadata": {
    "vscode": {
     "languageId": "r"
    }
   },
   "outputs": [
    {
     "name": "stdout",
     "output_type": "stream",
     "text": [
      "[1] 2.0 4.3\n"
     ]
    }
   ],
   "source": [
    "print(v[(v >= 0) & (v <= 5)])"
   ]
  },
  {
   "cell_type": "code",
   "execution_count": 148,
   "id": "b0f351ac",
   "metadata": {
    "vscode": {
     "languageId": "r"
    }
   },
   "outputs": [
    {
     "name": "stdout",
     "output_type": "stream",
     "text": [
      "[1]  2.0  6.0  8.0 10.0 -2.0  4.3\n"
     ]
    },
    {
     "data": {
      "text/html": [
       "<style>\n",
       ".list-inline {list-style: none; margin:0; padding: 0}\n",
       ".list-inline>li {display: inline-block}\n",
       ".list-inline>li:not(:last-child)::after {content: \"\\00b7\"; padding: 0 .5ex}\n",
       "</style>\n",
       "<ol class=list-inline><li>2</li><li>8</li><li>-2</li></ol>\n"
      ],
      "text/latex": [
       "\\begin{enumerate*}\n",
       "\\item 2\n",
       "\\item 8\n",
       "\\item -2\n",
       "\\end{enumerate*}\n"
      ],
      "text/markdown": [
       "1. 2\n",
       "2. 8\n",
       "3. -2\n",
       "\n",
       "\n"
      ],
      "text/plain": [
       "[1]  2  8 -2"
      ]
     },
     "metadata": {},
     "output_type": "display_data"
    }
   ],
   "source": [
    "print(v)\n",
    "v[c(TRUE,FALSE)]"
   ]
  },
  {
   "cell_type": "code",
   "execution_count": 149,
   "id": "31515503",
   "metadata": {
    "vscode": {
     "languageId": "r"
    }
   },
   "outputs": [
    {
     "data": {
      "text/html": [
       "<style>\n",
       ".list-inline {list-style: none; margin:0; padding: 0}\n",
       ".list-inline>li {display: inline-block}\n",
       ".list-inline>li:not(:last-child)::after {content: \"\\00b7\"; padding: 0 .5ex}\n",
       "</style>\n",
       "<ol class=list-inline><li>6</li><li>8</li><li>-2</li><li>4.3</li></ol>\n"
      ],
      "text/latex": [
       "\\begin{enumerate*}\n",
       "\\item 6\n",
       "\\item 8\n",
       "\\item -2\n",
       "\\item 4.3\n",
       "\\end{enumerate*}\n"
      ],
      "text/markdown": [
       "1. 6\n",
       "2. 8\n",
       "3. -2\n",
       "4. 4.3\n",
       "\n",
       "\n"
      ],
      "text/plain": [
       "[1]  6.0  8.0 -2.0  4.3"
      ]
     },
     "metadata": {},
     "output_type": "display_data"
    }
   ],
   "source": [
    "v[c(-1,-4)]"
   ]
  },
  {
   "cell_type": "code",
   "execution_count": 150,
   "id": "31ccb289",
   "metadata": {
    "vscode": {
     "languageId": "r"
    }
   },
   "outputs": [
    {
     "data": {
      "text/html": [
       "28.3"
      ],
      "text/latex": [
       "28.3"
      ],
      "text/markdown": [
       "28.3"
      ],
      "text/plain": [
       "[1] 28.3"
      ]
     },
     "metadata": {},
     "output_type": "display_data"
    }
   ],
   "source": [
    "sum(v)"
   ]
  },
  {
   "cell_type": "code",
   "execution_count": 151,
   "id": "52d6e250",
   "metadata": {
    "vscode": {
     "languageId": "r"
    }
   },
   "outputs": [
    {
     "data": {
      "text/html": [
       "-8256"
      ],
      "text/latex": [
       "-8256"
      ],
      "text/markdown": [
       "-8256"
      ],
      "text/plain": [
       "[1] -8256"
      ]
     },
     "metadata": {},
     "output_type": "display_data"
    }
   ],
   "source": [
    "prod(v)"
   ]
  },
  {
   "cell_type": "code",
   "execution_count": 152,
   "id": "61bed042",
   "metadata": {
    "vscode": {
     "languageId": "r"
    }
   },
   "outputs": [
    {
     "data": {
      "text/html": [
       "-2"
      ],
      "text/latex": [
       "-2"
      ],
      "text/markdown": [
       "-2"
      ],
      "text/plain": [
       "[1] -2"
      ]
     },
     "metadata": {},
     "output_type": "display_data"
    }
   ],
   "source": [
    "min(v)"
   ]
  },
  {
   "cell_type": "code",
   "execution_count": 153,
   "id": "165aaa80",
   "metadata": {
    "vscode": {
     "languageId": "r"
    }
   },
   "outputs": [
    {
     "data": {
      "text/html": [
       "10"
      ],
      "text/latex": [
       "10"
      ],
      "text/markdown": [
       "10"
      ],
      "text/plain": [
       "[1] 10"
      ]
     },
     "metadata": {},
     "output_type": "display_data"
    }
   ],
   "source": [
    "max(v)"
   ]
  },
  {
   "cell_type": "code",
   "execution_count": 154,
   "id": "650b8106",
   "metadata": {
    "vscode": {
     "languageId": "r"
    }
   },
   "outputs": [
    {
     "name": "stdout",
     "output_type": "stream",
     "text": [
      "[1]   3  NA   7 NaN\n",
      "[1] \"numeric\"\n",
      "[1] \"numeric\"\n"
     ]
    }
   ],
   "source": [
    "w <- c(NULL, 3, NA, 7, NaN)\n",
    "print(w)\n",
    "print(class(NaN))\n",
    "print(class(as.numeric(NA)))"
   ]
  },
  {
   "cell_type": "code",
   "execution_count": 155,
   "id": "7afbf94d",
   "metadata": {
    "vscode": {
     "languageId": "r"
    }
   },
   "outputs": [
    {
     "data": {
      "text/html": [
       "4"
      ],
      "text/latex": [
       "4"
      ],
      "text/markdown": [
       "4"
      ],
      "text/plain": [
       "[1] 4"
      ]
     },
     "metadata": {},
     "output_type": "display_data"
    }
   ],
   "source": [
    "length(w)"
   ]
  },
  {
   "cell_type": "code",
   "execution_count": 156,
   "id": "f2d7aa54",
   "metadata": {
    "vscode": {
     "languageId": "r"
    }
   },
   "outputs": [
    {
     "data": {
      "text/html": [
       "'numeric'"
      ],
      "text/latex": [
       "'numeric'"
      ],
      "text/markdown": [
       "'numeric'"
      ],
      "text/plain": [
       "[1] \"numeric\""
      ]
     },
     "metadata": {},
     "output_type": "display_data"
    }
   ],
   "source": [
    "class(w)"
   ]
  },
  {
   "cell_type": "code",
   "execution_count": 157,
   "id": "a85c0aa1",
   "metadata": {
    "vscode": {
     "languageId": "r"
    }
   },
   "outputs": [
    {
     "name": "stdout",
     "output_type": "stream",
     "text": [
      "[1]   3  NA   7 NaN\n",
      "[1] NA\n"
     ]
    }
   ],
   "source": [
    "print(w)\n",
    "print(sum(w))"
   ]
  },
  {
   "cell_type": "code",
   "execution_count": 158,
   "id": "bedfd67c",
   "metadata": {
    "vscode": {
     "languageId": "r"
    }
   },
   "outputs": [
    {
     "data": {
      "text/html": [
       "10"
      ],
      "text/latex": [
       "10"
      ],
      "text/markdown": [
       "10"
      ],
      "text/plain": [
       "[1] 10"
      ]
     },
     "metadata": {},
     "output_type": "display_data"
    }
   ],
   "source": [
    "sum(w, na.rm = TRUE)"
   ]
  },
  {
   "cell_type": "code",
   "execution_count": 159,
   "id": "a164401f",
   "metadata": {
    "vscode": {
     "languageId": "r"
    }
   },
   "outputs": [
    {
     "data": {
      "text/html": [
       "&lt;NA&gt;"
      ],
      "text/latex": [
       "<NA>"
      ],
      "text/markdown": [
       "&lt;NA&gt;"
      ],
      "text/plain": [
       "[1] NA"
      ]
     },
     "metadata": {},
     "output_type": "display_data"
    }
   ],
   "source": [
    "prod(w)"
   ]
  },
  {
   "cell_type": "code",
   "execution_count": 160,
   "id": "04e993ab",
   "metadata": {
    "vscode": {
     "languageId": "r"
    }
   },
   "outputs": [
    {
     "data": {
      "text/html": [
       "21"
      ],
      "text/latex": [
       "21"
      ],
      "text/markdown": [
       "21"
      ],
      "text/plain": [
       "[1] 21"
      ]
     },
     "metadata": {},
     "output_type": "display_data"
    }
   ],
   "source": [
    "prod(w, na.rm = TRUE)"
   ]
  },
  {
   "cell_type": "code",
   "execution_count": 161,
   "id": "ac4aca7d",
   "metadata": {
    "vscode": {
     "languageId": "r"
    }
   },
   "outputs": [
    {
     "data": {
      "text/html": [
       "&lt;NA&gt;"
      ],
      "text/latex": [
       "<NA>"
      ],
      "text/markdown": [
       "&lt;NA&gt;"
      ],
      "text/plain": [
       "[1] NA"
      ]
     },
     "metadata": {},
     "output_type": "display_data"
    }
   ],
   "source": [
    "min(w)"
   ]
  },
  {
   "cell_type": "code",
   "execution_count": 162,
   "id": "6f5c2174",
   "metadata": {
    "vscode": {
     "languageId": "r"
    }
   },
   "outputs": [
    {
     "data": {
      "text/html": [
       "3"
      ],
      "text/latex": [
       "3"
      ],
      "text/markdown": [
       "3"
      ],
      "text/plain": [
       "[1] 3"
      ]
     },
     "metadata": {},
     "output_type": "display_data"
    }
   ],
   "source": [
    "min(w, na.rm = TRUE)"
   ]
  },
  {
   "cell_type": "code",
   "execution_count": 163,
   "id": "ee3a20dd",
   "metadata": {
    "vscode": {
     "languageId": "r"
    }
   },
   "outputs": [
    {
     "data": {
      "text/html": [
       "&lt;NA&gt;"
      ],
      "text/latex": [
       "<NA>"
      ],
      "text/markdown": [
       "&lt;NA&gt;"
      ],
      "text/plain": [
       "[1] NA"
      ]
     },
     "metadata": {},
     "output_type": "display_data"
    }
   ],
   "source": [
    "max(w)"
   ]
  },
  {
   "cell_type": "code",
   "execution_count": 164,
   "id": "a3a26e93",
   "metadata": {
    "vscode": {
     "languageId": "r"
    }
   },
   "outputs": [
    {
     "data": {
      "text/html": [
       "7"
      ],
      "text/latex": [
       "7"
      ],
      "text/markdown": [
       "7"
      ],
      "text/plain": [
       "[1] 7"
      ]
     },
     "metadata": {},
     "output_type": "display_data"
    }
   ],
   "source": [
    "max(w, na.rm = TRUE)"
   ]
  },
  {
   "cell_type": "code",
   "execution_count": 165,
   "id": "61781d81",
   "metadata": {
    "vscode": {
     "languageId": "r"
    }
   },
   "outputs": [
    {
     "name": "stdout",
     "output_type": "stream",
     "text": [
      "[1]   3  NA   7 NaN\n"
     ]
    },
    {
     "data": {
      "text/html": [
       "<style>\n",
       ".list-inline {list-style: none; margin:0; padding: 0}\n",
       ".list-inline>li {display: inline-block}\n",
       ".list-inline>li:not(:last-child)::after {content: \"\\00b7\"; padding: 0 .5ex}\n",
       "</style>\n",
       "<ol class=list-inline><li>FALSE</li><li>TRUE</li><li>FALSE</li><li>TRUE</li></ol>\n"
      ],
      "text/latex": [
       "\\begin{enumerate*}\n",
       "\\item FALSE\n",
       "\\item TRUE\n",
       "\\item FALSE\n",
       "\\item TRUE\n",
       "\\end{enumerate*}\n"
      ],
      "text/markdown": [
       "1. FALSE\n",
       "2. TRUE\n",
       "3. FALSE\n",
       "4. TRUE\n",
       "\n",
       "\n"
      ],
      "text/plain": [
       "[1] FALSE  TRUE FALSE  TRUE"
      ]
     },
     "metadata": {},
     "output_type": "display_data"
    }
   ],
   "source": [
    "print(w)\n",
    "is.na(w)"
   ]
  },
  {
   "cell_type": "code",
   "execution_count": 166,
   "id": "c7abd8c9",
   "metadata": {
    "vscode": {
     "languageId": "r"
    }
   },
   "outputs": [
    {
     "data": {
      "text/html": [
       "TRUE"
      ],
      "text/latex": [
       "TRUE"
      ],
      "text/markdown": [
       "TRUE"
      ],
      "text/plain": [
       "[1] TRUE"
      ]
     },
     "metadata": {},
     "output_type": "display_data"
    }
   ],
   "source": [
    "any(is.na(c(1,NA,3)))"
   ]
  },
  {
   "cell_type": "code",
   "execution_count": 167,
   "id": "f200398e",
   "metadata": {
    "vscode": {
     "languageId": "r"
    }
   },
   "outputs": [
    {
     "name": "stdout",
     "output_type": "stream",
     "text": [
      "[1]   3  NA   7 NaN\n"
     ]
    },
    {
     "data": {
      "text/html": [
       "<style>\n",
       ".list-inline {list-style: none; margin:0; padding: 0}\n",
       ".list-inline>li {display: inline-block}\n",
       ".list-inline>li:not(:last-child)::after {content: \"\\00b7\"; padding: 0 .5ex}\n",
       "</style>\n",
       "<ol class=list-inline><li>FALSE</li><li>FALSE</li><li>FALSE</li><li>TRUE</li></ol>\n"
      ],
      "text/latex": [
       "\\begin{enumerate*}\n",
       "\\item FALSE\n",
       "\\item FALSE\n",
       "\\item FALSE\n",
       "\\item TRUE\n",
       "\\end{enumerate*}\n"
      ],
      "text/markdown": [
       "1. FALSE\n",
       "2. FALSE\n",
       "3. FALSE\n",
       "4. TRUE\n",
       "\n",
       "\n"
      ],
      "text/plain": [
       "[1] FALSE FALSE FALSE  TRUE"
      ]
     },
     "metadata": {},
     "output_type": "display_data"
    }
   ],
   "source": [
    "print(w)\n",
    "is.nan(w)"
   ]
  },
  {
   "cell_type": "markdown",
   "id": "f40f19a9",
   "metadata": {},
   "source": [
    "Se pueden crear vectores tambien con `seq` o con `rep`"
   ]
  },
  {
   "cell_type": "code",
   "execution_count": 168,
   "id": "0b5e4474",
   "metadata": {
    "vscode": {
     "languageId": "r"
    }
   },
   "outputs": [
    {
     "name": "stdout",
     "output_type": "stream",
     "text": [
      "[1] 1 2 3 4 5 6\n"
     ]
    }
   ],
   "source": [
    "print(1:6)"
   ]
  },
  {
   "cell_type": "code",
   "execution_count": 169,
   "id": "049491f5",
   "metadata": {
    "vscode": {
     "languageId": "r"
    }
   },
   "outputs": [
    {
     "name": "stdout",
     "output_type": "stream",
     "text": [
      "seq                    package:base                    R Documentation\n",
      "\n",
      "_\bS_\be_\bq_\bu_\be_\bn_\bc_\be _\bG_\be_\bn_\be_\br_\ba_\bt_\bi_\bo_\bn\n",
      "\n",
      "_\bD_\be_\bs_\bc_\br_\bi_\bp_\bt_\bi_\bo_\bn:\n",
      "\n",
      "     Generate regular sequences.  ‘seq’ is a standard generic with a\n",
      "     default method.  ‘seq.int’ is a primitive which can be much faster\n",
      "     but has a few restrictions.  ‘seq_along’ and ‘seq_len’ are very\n",
      "     fast primitives for two common cases.\n",
      "\n",
      "_\bU_\bs_\ba_\bg_\be:\n",
      "\n",
      "     seq(...)\n",
      "     \n",
      "     ## Default S3 method:\n",
      "     seq(from = 1, to = 1, by = ((to - from)/(length.out - 1)),\n",
      "         length.out = NULL, along.with = NULL, ...)\n",
      "     \n",
      "     seq.int(from, to, by, length.out, along.with, ...)\n",
      "     \n",
      "     seq_along(along.with)\n",
      "     seq_len(length.out)\n",
      "     \n",
      "_\bA_\br_\bg_\bu_\bm_\be_\bn_\bt_\bs:\n",
      "\n",
      "     ...: arguments passed to or from methods.\n",
      "\n",
      "from, to: the starting and (maximal) end values of the sequence.  Of\n",
      "          length ‘1’ unless just ‘from’ is supplied as an unnamed\n",
      "          argument.\n",
      "\n",
      "      by: number: increment of the sequence.\n",
      "\n",
      "length.out: desired length of the sequence.  A non-negative number,\n",
      "          which for ‘seq’ and ‘seq.int’ will be rounded up if\n",
      "          fractional.\n",
      "\n",
      "along.with: take the length from the length of this argument.\n",
      "\n",
      "_\bD_\be_\bt_\ba_\bi_\bl_\bs:\n",
      "\n",
      "     Numerical inputs should all be finite (that is, not infinite,\n",
      "     ‘NaN’ or ‘NA’).\n",
      "\n",
      "     The interpretation of the unnamed arguments of ‘seq’ and ‘seq.int’\n",
      "     is _not_ standard, and it is recommended always to name the\n",
      "     arguments when programming.\n",
      "\n",
      "     ‘seq’ is generic, and only the default method is described here.\n",
      "     Note that it dispatches on the class of the *first* argument\n",
      "     irrespective of argument names.  This can have unintended\n",
      "     consequences if it is called with just one argument intending this\n",
      "     to be taken as ‘along.with’: it is much better to use ‘seq_along’\n",
      "     in that case.\n",
      "\n",
      "     ‘seq.int’ is an internal generic which dispatches on methods for\n",
      "     ‘\"seq\"’ based on the class of the first supplied argument (before\n",
      "     argument matching).\n",
      "\n",
      "     Typical usages are\n",
      "\n",
      "     seq(from, to)\n",
      "     seq(from, to, by= )\n",
      "     seq(from, to, length.out= )\n",
      "     seq(along.with= )\n",
      "     seq(from)\n",
      "     seq(length.out= )\n",
      "     \n",
      "     The first form generates the sequence ‘from, from+/-1, ..., to’\n",
      "     (identical to ‘from:to’).\n",
      "\n",
      "     The second form generates ‘from, from+by’, ..., up to the sequence\n",
      "     value less than or equal to ‘to’.  Specifying ‘to - from’ and ‘by’\n",
      "     of opposite signs is an error.  Note that the computed final value\n",
      "     can go just beyond ‘to’ to allow for rounding error, but is\n",
      "     truncated to ‘to’.  (‘Just beyond’ is by up to 1e-10 times\n",
      "     ‘abs(from - to)’.)\n",
      "\n",
      "     The third generates a sequence of ‘length.out’ equally spaced\n",
      "     values from ‘from’ to ‘to’.  (‘length.out’ is usually abbreviated\n",
      "     to ‘length’ or ‘len’, and ‘seq_len’ is much faster.)\n",
      "\n",
      "     The fourth form generates the integer sequence ‘1, 2, ...,\n",
      "     length(along.with)’.  (‘along.with’ is usually abbreviated to\n",
      "     ‘along’, and ‘seq_along’ is much faster.)\n",
      "\n",
      "     The fifth form generates the sequence ‘1, 2, ..., length(from)’\n",
      "     (as if argument ‘along.with’ had been specified), _unless_ the\n",
      "     argument is numeric of length 1 when it is interpreted as ‘1:from’\n",
      "     (even for ‘seq(0)’ for compatibility with S).  Using either\n",
      "     ‘seq_along’ or ‘seq_len’ is much preferred (unless strict S\n",
      "     compatibility is essential).\n",
      "\n",
      "     The final form generates the integer sequence ‘1, 2, ...,\n",
      "     length.out’ unless ‘length.out = 0’, when it generates\n",
      "     ‘integer(0)’.\n",
      "\n",
      "     Very small sequences (with ‘from - to’ of the order of 10^{-14}\n",
      "     times the larger of the ends) will return ‘from’.\n",
      "\n",
      "     For ‘seq’ (only), up to two of ‘from’, ‘to’ and ‘by’ can be\n",
      "     supplied as complex values provided ‘length.out’ or ‘along.with’\n",
      "     is specified.  More generally, the default method of ‘seq’ will\n",
      "     handle classed objects with methods for the ‘Math’, ‘Ops’ and\n",
      "     ‘Summary’ group generics.\n",
      "\n",
      "     ‘seq.int’, ‘seq_along’ and ‘seq_len’ are primitive.\n",
      "\n",
      "_\bV_\ba_\bl_\bu_\be:\n",
      "\n",
      "     ‘seq.int’ and the default method of ‘seq’ for numeric arguments\n",
      "     return a vector of type ‘\"integer\"’ or ‘\"double\"’: programmers\n",
      "     should not rely on which.\n",
      "\n",
      "     ‘seq_along’ and ‘seq_len’ return an integer vector, unless it is a\n",
      "     _long vector_ when it will be double.\n",
      "\n",
      "_\bR_\be_\bf_\be_\br_\be_\bn_\bc_\be_\bs:\n",
      "\n",
      "     Becker, R. A., Chambers, J. M. and Wilks, A. R. (1988) _The New S\n",
      "     Language_.  Wadsworth & Brooks/Cole.\n",
      "\n",
      "_\bS_\be_\be _\bA_\bl_\bs_\bo:\n",
      "\n",
      "     The methods ‘seq.Date’ and ‘seq.POSIXt’.\n",
      "\n",
      "     ‘:’, ‘rep’, ‘sequence’, ‘row’, ‘col’.\n",
      "\n",
      "_\bE_\bx_\ba_\bm_\bp_\bl_\be_\bs:\n",
      "\n",
      "     seq(0, 1, length.out = 11)\n",
      "     seq(stats::rnorm(20)) # effectively 'along'\n",
      "     seq(1, 9, by = 2)     # matches 'end'\n",
      "     seq(1, 9, by = pi)    # stays below 'end'\n",
      "     seq(1, 6, by = 3)\n",
      "     seq(1.575, 5.125, by = 0.05)\n",
      "     seq(17) # same as 1:17, or even better seq_len(17)\n",
      "     "
     ]
    }
   ],
   "source": [
    "?seq"
   ]
  },
  {
   "cell_type": "code",
   "execution_count": 170,
   "id": "dabd5a6f",
   "metadata": {
    "vscode": {
     "languageId": "r"
    }
   },
   "outputs": [
    {
     "data": {
      "text/html": [
       "<style>\n",
       ".list-inline {list-style: none; margin:0; padding: 0}\n",
       ".list-inline>li {display: inline-block}\n",
       ".list-inline>li:not(:last-child)::after {content: \"\\00b7\"; padding: 0 .5ex}\n",
       "</style>\n",
       "<ol class=list-inline><li>12</li><li>15</li><li>18</li><li>21</li><li>24</li><li>27</li><li>30</li></ol>\n"
      ],
      "text/latex": [
       "\\begin{enumerate*}\n",
       "\\item 12\n",
       "\\item 15\n",
       "\\item 18\n",
       "\\item 21\n",
       "\\item 24\n",
       "\\item 27\n",
       "\\item 30\n",
       "\\end{enumerate*}\n"
      ],
      "text/markdown": [
       "1. 12\n",
       "2. 15\n",
       "3. 18\n",
       "4. 21\n",
       "5. 24\n",
       "6. 27\n",
       "7. 30\n",
       "\n",
       "\n"
      ],
      "text/plain": [
       "[1] 12 15 18 21 24 27 30"
      ]
     },
     "metadata": {},
     "output_type": "display_data"
    }
   ],
   "source": [
    "seq(from=12, to=30, by=3)"
   ]
  },
  {
   "cell_type": "code",
   "execution_count": 171,
   "id": "e3930ae1",
   "metadata": {
    "vscode": {
     "languageId": "r"
    }
   },
   "outputs": [
    {
     "data": {
      "text/html": [
       "<style>\n",
       ".list-inline {list-style: none; margin:0; padding: 0}\n",
       ".list-inline>li {display: inline-block}\n",
       ".list-inline>li:not(:last-child)::after {content: \"\\00b7\"; padding: 0 .5ex}\n",
       "</style>\n",
       "<ol class=list-inline><li>12</li><li>15</li><li>18</li><li>21</li><li>24</li><li>27</li><li>30</li></ol>\n"
      ],
      "text/latex": [
       "\\begin{enumerate*}\n",
       "\\item 12\n",
       "\\item 15\n",
       "\\item 18\n",
       "\\item 21\n",
       "\\item 24\n",
       "\\item 27\n",
       "\\item 30\n",
       "\\end{enumerate*}\n"
      ],
      "text/markdown": [
       "1. 12\n",
       "2. 15\n",
       "3. 18\n",
       "4. 21\n",
       "5. 24\n",
       "6. 27\n",
       "7. 30\n",
       "\n",
       "\n"
      ],
      "text/plain": [
       "[1] 12 15 18 21 24 27 30"
      ]
     },
     "metadata": {},
     "output_type": "display_data"
    }
   ],
   "source": [
    "seq(12, 30, 3) # seq(from=12, to=30, by=3)"
   ]
  },
  {
   "cell_type": "code",
   "execution_count": 172,
   "id": "e02f36b5",
   "metadata": {
    "vscode": {
     "languageId": "r"
    }
   },
   "outputs": [
    {
     "data": {
      "text/html": [
       "<style>\n",
       ".list-inline {list-style: none; margin:0; padding: 0}\n",
       ".list-inline>li {display: inline-block}\n",
       ".list-inline>li:not(:last-child)::after {content: \"\\00b7\"; padding: 0 .5ex}\n",
       "</style>\n",
       "<ol class=list-inline><li>-12</li><li>-8.6</li><li>-5.2</li><li>-1.8</li><li>1.6</li><li>5</li><li>8.4</li><li>11.8</li><li>15.2</li><li>18.6</li><li>22</li><li>25.4</li><li>28.8</li></ol>\n"
      ],
      "text/latex": [
       "\\begin{enumerate*}\n",
       "\\item -12\n",
       "\\item -8.6\n",
       "\\item -5.2\n",
       "\\item -1.8\n",
       "\\item 1.6\n",
       "\\item 5\n",
       "\\item 8.4\n",
       "\\item 11.8\n",
       "\\item 15.2\n",
       "\\item 18.6\n",
       "\\item 22\n",
       "\\item 25.4\n",
       "\\item 28.8\n",
       "\\end{enumerate*}\n"
      ],
      "text/markdown": [
       "1. -12\n",
       "2. -8.6\n",
       "3. -5.2\n",
       "4. -1.8\n",
       "5. 1.6\n",
       "6. 5\n",
       "7. 8.4\n",
       "8. 11.8\n",
       "9. 15.2\n",
       "10. 18.6\n",
       "11. 22\n",
       "12. 25.4\n",
       "13. 28.8\n",
       "\n",
       "\n"
      ],
      "text/plain": [
       " [1] -12.0  -8.6  -5.2  -1.8   1.6   5.0   8.4  11.8  15.2  18.6  22.0  25.4\n",
       "[13]  28.8"
      ]
     },
     "metadata": {},
     "output_type": "display_data"
    }
   ],
   "source": [
    "seq(-12, 30, 3.4)"
   ]
  },
  {
   "cell_type": "code",
   "execution_count": 173,
   "id": "b59c4829",
   "metadata": {
    "vscode": {
     "languageId": "r"
    }
   },
   "outputs": [
    {
     "data": {
      "text/html": [
       "1.1"
      ],
      "text/latex": [
       "1.1"
      ],
      "text/markdown": [
       "1.1"
      ],
      "text/plain": [
       "[1] 1.1"
      ]
     },
     "metadata": {},
     "output_type": "display_data"
    }
   ],
   "source": [
    "seq(1.1, 7, 10)"
   ]
  },
  {
   "cell_type": "code",
   "execution_count": 174,
   "id": "86f914ed",
   "metadata": {
    "vscode": {
     "languageId": "r"
    }
   },
   "outputs": [
    {
     "name": "stdout",
     "output_type": "stream",
     "text": [
      " [1] 1.100000 1.755556 2.411111 3.066667 3.722222 4.377778 5.033333 5.688889\n",
      " [9] 6.344444 7.000000\n"
     ]
    }
   ],
   "source": [
    "print(seq(1.1, 7, length=10))"
   ]
  },
  {
   "cell_type": "code",
   "execution_count": 175,
   "id": "ed187051",
   "metadata": {
    "vscode": {
     "languageId": "r"
    }
   },
   "outputs": [
    {
     "data": {
      "text/html": [
       "1"
      ],
      "text/latex": [
       "1"
      ],
      "text/markdown": [
       "1"
      ],
      "text/plain": [
       "[1] 1"
      ]
     },
     "metadata": {},
     "output_type": "display_data"
    }
   ],
   "source": [
    "seq()"
   ]
  },
  {
   "cell_type": "code",
   "execution_count": 176,
   "id": "9dab4e17",
   "metadata": {
    "vscode": {
     "languageId": "r"
    }
   },
   "outputs": [
    {
     "name": "stdout",
     "output_type": "stream",
     "text": [
      "rep                    package:base                    R Documentation\n",
      "\n",
      "_\bR_\be_\bp_\bl_\bi_\bc_\ba_\bt_\be _\bE_\bl_\be_\bm_\be_\bn_\bt_\bs _\bo_\bf _\bV_\be_\bc_\bt_\bo_\br_\bs _\ba_\bn_\bd _\bL_\bi_\bs_\bt_\bs\n",
      "\n",
      "_\bD_\be_\bs_\bc_\br_\bi_\bp_\bt_\bi_\bo_\bn:\n",
      "\n",
      "     ‘rep’ replicates the values in ‘x’.  It is a generic function, and\n",
      "     the (internal) default method is described here.\n",
      "\n",
      "     ‘rep.int’ and ‘rep_len’ are faster simplified versions for two\n",
      "     common cases.  Internally, they are generic, so methods can be\n",
      "     defined for them (see InternalMethods).\n",
      "\n",
      "_\bU_\bs_\ba_\bg_\be:\n",
      "\n",
      "     rep(x, ...)\n",
      "     \n",
      "     rep.int(x, times)\n",
      "     \n",
      "     rep_len(x, length.out)\n",
      "     \n",
      "_\bA_\br_\bg_\bu_\bm_\be_\bn_\bt_\bs:\n",
      "\n",
      "       x: a vector (of any mode including a ‘list’) or a factor or (for\n",
      "          ‘rep’ only) a ‘POSIXct’ or ‘POSIXlt’ or ‘Date’ object; or an\n",
      "          S4 object containing such an object.\n",
      "\n",
      "     ...: further arguments to be passed to or from other methods.  For\n",
      "          the internal default method these can include:\n",
      "\n",
      "          ‘times’ an integer-valued vector giving the (non-negative)\n",
      "              number of times to repeat each element if of length\n",
      "              ‘length(x)’, or to repeat the whole vector if of length\n",
      "              1.  Negative or ‘NA’ values are an error.  A ‘double’\n",
      "              vector is accepted, other inputs being coerced to an\n",
      "              integer or double vector.\n",
      "\n",
      "          ‘length.out’ non-negative integer.  The desired length of the\n",
      "              output vector.  Other inputs will be coerced to a double\n",
      "              vector and the first element taken.  Ignored if ‘NA’ or\n",
      "              invalid.\n",
      "\n",
      "          ‘each’ non-negative integer.  Each element of ‘x’ is repeated\n",
      "              ‘each’ times.  Other inputs will be coerced to an integer\n",
      "              or double vector and the first element taken.  Treated as\n",
      "              ‘1’ if ‘NA’ or invalid.\n",
      "\n",
      "times, length.out: see ‘...’ above.\n",
      "\n",
      "_\bD_\be_\bt_\ba_\bi_\bl_\bs:\n",
      "\n",
      "     The default behaviour is as if the call was\n",
      "\n",
      "       rep(x, times = 1, length.out = NA, each = 1)\n",
      "     \n",
      "     .  Normally just one of the additional arguments is specified, but\n",
      "     if ‘each’ is specified with either of the other two, its\n",
      "     replication is performed first, and then that implied by ‘times’\n",
      "     or ‘length.out’.\n",
      "\n",
      "     If ‘times’ consists of a single integer, the result consists of\n",
      "     the whole input repeated this many times.  If ‘times’ is a vector\n",
      "     of the same length as ‘x’ (after replication by ‘each’), the\n",
      "     result consists of ‘x[1]’ repeated ‘times[1]’ times, ‘x[2]’\n",
      "     repeated ‘times[2]’ times and so on.\n",
      "\n",
      "     ‘length.out’ may be given in place of ‘times’, in which case ‘x’\n",
      "     is repeated as many times as is necessary to create a vector of\n",
      "     this length.  If both are given, ‘length.out’ takes priority and\n",
      "     ‘times’ is ignored.\n",
      "\n",
      "     Non-integer values of ‘times’ will be truncated towards zero.  If\n",
      "     ‘times’ is a computed quantity it is prudent to add a small fuzz\n",
      "     or use ‘round’.  And analogously for ‘each’.\n",
      "\n",
      "     If ‘x’ has length zero and ‘length.out’ is supplied and is\n",
      "     positive, the values are filled in using the extraction rules,\n",
      "     that is by an ‘NA’ of the appropriate class for an atomic vector\n",
      "     (‘0’ for raw vectors) and ‘NULL’ for a list.\n",
      "\n",
      "_\bV_\ba_\bl_\bu_\be:\n",
      "\n",
      "     An object of the same type as ‘x’.\n",
      "\n",
      "     ‘rep.int’ and ‘rep_len’ return no attributes (except the class if\n",
      "     returning a factor).\n",
      "\n",
      "     The default method of ‘rep’ gives the result names (which will\n",
      "     almost always contain duplicates) if ‘x’ had names, but retains no\n",
      "     other attributes.\n",
      "\n",
      "_\bN_\bo_\bt_\be:\n",
      "\n",
      "     Function ‘rep.int’ is a simple case which was provided as a\n",
      "     separate function partly for S compatibility and partly for speed\n",
      "     (especially when names can be dropped).  The performance of ‘rep’\n",
      "     has been improved since, but ‘rep.int’ is still at least twice as\n",
      "     fast when ‘x’ has names.\n",
      "\n",
      "     The name ‘rep.int’ long precedes making ‘rep’ generic.\n",
      "\n",
      "     Function ‘rep’ is a primitive, but (partial) matching of argument\n",
      "     names is performed as for normal functions.\n",
      "\n",
      "     For historical reasons ‘rep’ (only) works on ‘NULL’: the result is\n",
      "     always ‘NULL’ even when ‘length.out’ is positive.\n",
      "\n",
      "     Although it has never been documented, these functions have always\n",
      "     worked on expression vectors.\n",
      "\n",
      "_\bR_\be_\bf_\be_\br_\be_\bn_\bc_\be_\bs:\n",
      "\n",
      "     Becker, R. A., Chambers, J. M. and Wilks, A. R. (1988) _The New S\n",
      "     Language_.  Wadsworth & Brooks/Cole.\n",
      "\n",
      "_\bS_\be_\be _\bA_\bl_\bs_\bo:\n",
      "\n",
      "     ‘seq’, ‘sequence’, ‘replicate’.\n",
      "\n",
      "_\bE_\bx_\ba_\bm_\bp_\bl_\be_\bs:\n",
      "\n",
      "     rep(1:4, 2)\n",
      "     rep(1:4, each = 2)       # not the same.\n",
      "     rep(1:4, c(2,2,2,2))     # same as second.\n",
      "     rep(1:4, c(2,1,2,1))\n",
      "     rep(1:4, each = 2, length.out = 4)    # first 4 only.\n",
      "     rep(1:4, each = 2, length.out = 10)   # 8 integers plus two recycled 1's.\n",
      "     rep(1:4, each = 2, times = 3)         # length 24, 3 complete replications\n",
      "     \n",
      "     rep(1, 40*(1-.8)) # length 7 on most platforms\n",
      "     rep(1, 40*(1-.8)+1e-7) # better\n",
      "     \n",
      "     ## replicate a list\n",
      "     fred <- list(happy = 1:10, name = \"squash\")\n",
      "     rep(fred, 5)\n",
      "     \n",
      "     # date-time objects\n",
      "     x <- .leap.seconds[1:3]\n",
      "     rep(x, 2)\n",
      "     rep(as.POSIXlt(x), rep(2, 3))\n",
      "     \n",
      "     ## named factor\n",
      "     x <- factor(LETTERS[1:4]); names(x) <- letters[1:4]\n",
      "     x\n",
      "     rep(x, 2)\n",
      "     rep(x, each = 2)\n",
      "     rep.int(x, 2)  # no names\n",
      "     rep_len(x, 10)\n",
      "     "
     ]
    }
   ],
   "source": [
    "?rep"
   ]
  },
  {
   "cell_type": "code",
   "execution_count": 177,
   "id": "378289dc",
   "metadata": {
    "vscode": {
     "languageId": "r"
    }
   },
   "outputs": [
    {
     "data": {
      "text/html": [
       "<style>\n",
       ".list-inline {list-style: none; margin:0; padding: 0}\n",
       ".list-inline>li {display: inline-block}\n",
       ".list-inline>li:not(:last-child)::after {content: \"\\00b7\"; padding: 0 .5ex}\n",
       "</style>\n",
       "<ol class=list-inline><li>8</li><li>8</li><li>8</li><li>8</li></ol>\n"
      ],
      "text/latex": [
       "\\begin{enumerate*}\n",
       "\\item 8\n",
       "\\item 8\n",
       "\\item 8\n",
       "\\item 8\n",
       "\\end{enumerate*}\n"
      ],
      "text/markdown": [
       "1. 8\n",
       "2. 8\n",
       "3. 8\n",
       "4. 8\n",
       "\n",
       "\n"
      ],
      "text/plain": [
       "[1] 8 8 8 8"
      ]
     },
     "metadata": {},
     "output_type": "display_data"
    }
   ],
   "source": [
    "rep(8,4)"
   ]
  },
  {
   "cell_type": "code",
   "execution_count": 178,
   "id": "241e128a",
   "metadata": {
    "vscode": {
     "languageId": "r"
    }
   },
   "outputs": [
    {
     "data": {
      "text/html": [
       "<style>\n",
       ".list-inline {list-style: none; margin:0; padding: 0}\n",
       ".list-inline>li {display: inline-block}\n",
       ".list-inline>li:not(:last-child)::after {content: \"\\00b7\"; padding: 0 .5ex}\n",
       "</style>\n",
       "<ol class=list-inline><li>8</li><li>8</li><li>8</li><li>8</li></ol>\n"
      ],
      "text/latex": [
       "\\begin{enumerate*}\n",
       "\\item 8\n",
       "\\item 8\n",
       "\\item 8\n",
       "\\item 8\n",
       "\\end{enumerate*}\n"
      ],
      "text/markdown": [
       "1. 8\n",
       "2. 8\n",
       "3. 8\n",
       "4. 8\n",
       "\n",
       "\n"
      ],
      "text/plain": [
       "[1] 8 8 8 8"
      ]
     },
     "metadata": {},
     "output_type": "display_data"
    }
   ],
   "source": [
    "rep(8,4.1) # El entero"
   ]
  },
  {
   "cell_type": "code",
   "execution_count": 179,
   "id": "a7e5bbae",
   "metadata": {
    "vscode": {
     "languageId": "r"
    }
   },
   "outputs": [
    {
     "name": "stdout",
     "output_type": "stream",
     "text": [
      "[1] \"a\" \"a\" \"a\" \"a\"\n"
     ]
    }
   ],
   "source": [
    "print(rep(\"a\",4))"
   ]
  },
  {
   "cell_type": "code",
   "execution_count": 180,
   "id": "f04fc8a1",
   "metadata": {
    "vscode": {
     "languageId": "r"
    }
   },
   "outputs": [
    {
     "data": {
      "text/html": [
       "<style>\n",
       ".list-inline {list-style: none; margin:0; padding: 0}\n",
       ".list-inline>li {display: inline-block}\n",
       ".list-inline>li:not(:last-child)::after {content: \"\\00b7\"; padding: 0 .5ex}\n",
       "</style>\n",
       "<ol class=list-inline><li>1</li><li>2</li><li>3</li><li>1</li><li>2</li><li>3</li><li>1</li><li>2</li><li>3</li><li>1</li><li>2</li><li>3</li><li>1</li><li>2</li><li>3</li></ol>\n"
      ],
      "text/latex": [
       "\\begin{enumerate*}\n",
       "\\item 1\n",
       "\\item 2\n",
       "\\item 3\n",
       "\\item 1\n",
       "\\item 2\n",
       "\\item 3\n",
       "\\item 1\n",
       "\\item 2\n",
       "\\item 3\n",
       "\\item 1\n",
       "\\item 2\n",
       "\\item 3\n",
       "\\item 1\n",
       "\\item 2\n",
       "\\item 3\n",
       "\\end{enumerate*}\n"
      ],
      "text/markdown": [
       "1. 1\n",
       "2. 2\n",
       "3. 3\n",
       "4. 1\n",
       "5. 2\n",
       "6. 3\n",
       "7. 1\n",
       "8. 2\n",
       "9. 3\n",
       "10. 1\n",
       "11. 2\n",
       "12. 3\n",
       "13. 1\n",
       "14. 2\n",
       "15. 3\n",
       "\n",
       "\n"
      ],
      "text/plain": [
       " [1] 1 2 3 1 2 3 1 2 3 1 2 3 1 2 3"
      ]
     },
     "metadata": {},
     "output_type": "display_data"
    }
   ],
   "source": [
    "rep(1:3, 5)"
   ]
  },
  {
   "cell_type": "code",
   "execution_count": 181,
   "id": "ec1b83f8",
   "metadata": {
    "vscode": {
     "languageId": "r"
    }
   },
   "outputs": [
    {
     "data": {
      "text/html": [
       "15"
      ],
      "text/latex": [
       "15"
      ],
      "text/markdown": [
       "15"
      ],
      "text/plain": [
       "[1] 15"
      ]
     },
     "metadata": {},
     "output_type": "display_data"
    }
   ],
   "source": [
    "length(rep(1:3, 5))"
   ]
  },
  {
   "cell_type": "code",
   "execution_count": 182,
   "id": "afee8725",
   "metadata": {
    "vscode": {
     "languageId": "r"
    }
   },
   "outputs": [
    {
     "name": "stdout",
     "output_type": "stream",
     "text": [
      "rep                    package:base                    R Documentation\n",
      "\n",
      "_\bR_\be_\bp_\bl_\bi_\bc_\ba_\bt_\be _\bE_\bl_\be_\bm_\be_\bn_\bt_\bs _\bo_\bf _\bV_\be_\bc_\bt_\bo_\br_\bs _\ba_\bn_\bd _\bL_\bi_\bs_\bt_\bs\n",
      "\n",
      "_\bD_\be_\bs_\bc_\br_\bi_\bp_\bt_\bi_\bo_\bn:\n",
      "\n",
      "     ‘rep’ replicates the values in ‘x’.  It is a generic function, and\n",
      "     the (internal) default method is described here.\n",
      "\n",
      "     ‘rep.int’ and ‘rep_len’ are faster simplified versions for two\n",
      "     common cases.  Internally, they are generic, so methods can be\n",
      "     defined for them (see InternalMethods).\n",
      "\n",
      "_\bU_\bs_\ba_\bg_\be:\n",
      "\n",
      "     rep(x, ...)\n",
      "     \n",
      "     rep.int(x, times)\n",
      "     \n",
      "     rep_len(x, length.out)\n",
      "     \n",
      "_\bA_\br_\bg_\bu_\bm_\be_\bn_\bt_\bs:\n",
      "\n",
      "       x: a vector (of any mode including a ‘list’) or a factor or (for\n",
      "          ‘rep’ only) a ‘POSIXct’ or ‘POSIXlt’ or ‘Date’ object; or an\n",
      "          S4 object containing such an object.\n",
      "\n",
      "     ...: further arguments to be passed to or from other methods.  For\n",
      "          the internal default method these can include:\n",
      "\n",
      "          ‘times’ an integer-valued vector giving the (non-negative)\n",
      "              number of times to repeat each element if of length\n",
      "              ‘length(x)’, or to repeat the whole vector if of length\n",
      "              1.  Negative or ‘NA’ values are an error.  A ‘double’\n",
      "              vector is accepted, other inputs being coerced to an\n",
      "              integer or double vector.\n",
      "\n",
      "          ‘length.out’ non-negative integer.  The desired length of the\n",
      "              output vector.  Other inputs will be coerced to a double\n",
      "              vector and the first element taken.  Ignored if ‘NA’ or\n",
      "              invalid.\n",
      "\n",
      "          ‘each’ non-negative integer.  Each element of ‘x’ is repeated\n",
      "              ‘each’ times.  Other inputs will be coerced to an integer\n",
      "              or double vector and the first element taken.  Treated as\n",
      "              ‘1’ if ‘NA’ or invalid.\n",
      "\n",
      "times, length.out: see ‘...’ above.\n",
      "\n",
      "_\bD_\be_\bt_\ba_\bi_\bl_\bs:\n",
      "\n",
      "     The default behaviour is as if the call was\n",
      "\n",
      "       rep(x, times = 1, length.out = NA, each = 1)\n",
      "     \n",
      "     .  Normally just one of the additional arguments is specified, but\n",
      "     if ‘each’ is specified with either of the other two, its\n",
      "     replication is performed first, and then that implied by ‘times’\n",
      "     or ‘length.out’.\n",
      "\n",
      "     If ‘times’ consists of a single integer, the result consists of\n",
      "     the whole input repeated this many times.  If ‘times’ is a vector\n",
      "     of the same length as ‘x’ (after replication by ‘each’), the\n",
      "     result consists of ‘x[1]’ repeated ‘times[1]’ times, ‘x[2]’\n",
      "     repeated ‘times[2]’ times and so on.\n",
      "\n",
      "     ‘length.out’ may be given in place of ‘times’, in which case ‘x’\n",
      "     is repeated as many times as is necessary to create a vector of\n",
      "     this length.  If both are given, ‘length.out’ takes priority and\n",
      "     ‘times’ is ignored.\n",
      "\n",
      "     Non-integer values of ‘times’ will be truncated towards zero.  If\n",
      "     ‘times’ is a computed quantity it is prudent to add a small fuzz\n",
      "     or use ‘round’.  And analogously for ‘each’.\n",
      "\n",
      "     If ‘x’ has length zero and ‘length.out’ is supplied and is\n",
      "     positive, the values are filled in using the extraction rules,\n",
      "     that is by an ‘NA’ of the appropriate class for an atomic vector\n",
      "     (‘0’ for raw vectors) and ‘NULL’ for a list.\n",
      "\n",
      "_\bV_\ba_\bl_\bu_\be:\n",
      "\n",
      "     An object of the same type as ‘x’.\n",
      "\n",
      "     ‘rep.int’ and ‘rep_len’ return no attributes (except the class if\n",
      "     returning a factor).\n",
      "\n",
      "     The default method of ‘rep’ gives the result names (which will\n",
      "     almost always contain duplicates) if ‘x’ had names, but retains no\n",
      "     other attributes.\n",
      "\n",
      "_\bN_\bo_\bt_\be:\n",
      "\n",
      "     Function ‘rep.int’ is a simple case which was provided as a\n",
      "     separate function partly for S compatibility and partly for speed\n",
      "     (especially when names can be dropped).  The performance of ‘rep’\n",
      "     has been improved since, but ‘rep.int’ is still at least twice as\n",
      "     fast when ‘x’ has names.\n",
      "\n",
      "     The name ‘rep.int’ long precedes making ‘rep’ generic.\n",
      "\n",
      "     Function ‘rep’ is a primitive, but (partial) matching of argument\n",
      "     names is performed as for normal functions.\n",
      "\n",
      "     For historical reasons ‘rep’ (only) works on ‘NULL’: the result is\n",
      "     always ‘NULL’ even when ‘length.out’ is positive.\n",
      "\n",
      "     Although it has never been documented, these functions have always\n",
      "     worked on expression vectors.\n",
      "\n",
      "_\bR_\be_\bf_\be_\br_\be_\bn_\bc_\be_\bs:\n",
      "\n",
      "     Becker, R. A., Chambers, J. M. and Wilks, A. R. (1988) _The New S\n",
      "     Language_.  Wadsworth & Brooks/Cole.\n",
      "\n",
      "_\bS_\be_\be _\bA_\bl_\bs_\bo:\n",
      "\n",
      "     ‘seq’, ‘sequence’, ‘replicate’.\n",
      "\n",
      "_\bE_\bx_\ba_\bm_\bp_\bl_\be_\bs:\n",
      "\n",
      "     rep(1:4, 2)\n",
      "     rep(1:4, each = 2)       # not the same.\n",
      "     rep(1:4, c(2,2,2,2))     # same as second.\n",
      "     rep(1:4, c(2,1,2,1))\n",
      "     rep(1:4, each = 2, length.out = 4)    # first 4 only.\n",
      "     rep(1:4, each = 2, length.out = 10)   # 8 integers plus two recycled 1's.\n",
      "     rep(1:4, each = 2, times = 3)         # length 24, 3 complete replications\n",
      "     \n",
      "     rep(1, 40*(1-.8)) # length 7 on most platforms\n",
      "     rep(1, 40*(1-.8)+1e-7) # better\n",
      "     \n",
      "     ## replicate a list\n",
      "     fred <- list(happy = 1:10, name = \"squash\")\n",
      "     rep(fred, 5)\n",
      "     \n",
      "     # date-time objects\n",
      "     x <- .leap.seconds[1:3]\n",
      "     rep(x, 2)\n",
      "     rep(as.POSIXlt(x), rep(2, 3))\n",
      "     \n",
      "     ## named factor\n",
      "     x <- factor(LETTERS[1:4]); names(x) <- letters[1:4]\n",
      "     x\n",
      "     rep(x, 2)\n",
      "     rep(x, each = 2)\n",
      "     rep.int(x, 2)  # no names\n",
      "     rep_len(x, 10)\n",
      "     "
     ]
    }
   ],
   "source": [
    "?rep"
   ]
  },
  {
   "cell_type": "code",
   "execution_count": 183,
   "id": "4c3d1777",
   "metadata": {
    "vscode": {
     "languageId": "r"
    }
   },
   "outputs": [
    {
     "data": {
      "text/html": [
       "<style>\n",
       ".list-inline {list-style: none; margin:0; padding: 0}\n",
       ".list-inline>li {display: inline-block}\n",
       ".list-inline>li:not(:last-child)::after {content: \"\\00b7\"; padding: 0 .5ex}\n",
       "</style>\n",
       "<ol class=list-inline><li>5</li><li>12</li><li>13</li><li>5</li><li>12</li><li>13</li></ol>\n"
      ],
      "text/latex": [
       "\\begin{enumerate*}\n",
       "\\item 5\n",
       "\\item 12\n",
       "\\item 13\n",
       "\\item 5\n",
       "\\item 12\n",
       "\\item 13\n",
       "\\end{enumerate*}\n"
      ],
      "text/markdown": [
       "1. 5\n",
       "2. 12\n",
       "3. 13\n",
       "4. 5\n",
       "5. 12\n",
       "6. 13\n",
       "\n",
       "\n"
      ],
      "text/plain": [
       "[1]  5 12 13  5 12 13"
      ]
     },
     "metadata": {},
     "output_type": "display_data"
    }
   ],
   "source": [
    "rep(c(5,12,13), 2)"
   ]
  },
  {
   "cell_type": "code",
   "execution_count": 184,
   "id": "16a09b32",
   "metadata": {
    "vscode": {
     "languageId": "r"
    }
   },
   "outputs": [
    {
     "data": {
      "text/html": [
       "<style>\n",
       ".list-inline {list-style: none; margin:0; padding: 0}\n",
       ".list-inline>li {display: inline-block}\n",
       ".list-inline>li:not(:last-child)::after {content: \"\\00b7\"; padding: 0 .5ex}\n",
       "</style>\n",
       "<ol class=list-inline><li>5</li><li>5</li><li>12</li><li>12</li><li>13</li><li>13</li></ol>\n"
      ],
      "text/latex": [
       "\\begin{enumerate*}\n",
       "\\item 5\n",
       "\\item 5\n",
       "\\item 12\n",
       "\\item 12\n",
       "\\item 13\n",
       "\\item 13\n",
       "\\end{enumerate*}\n"
      ],
      "text/markdown": [
       "1. 5\n",
       "2. 5\n",
       "3. 12\n",
       "4. 12\n",
       "5. 13\n",
       "6. 13\n",
       "\n",
       "\n"
      ],
      "text/plain": [
       "[1]  5  5 12 12 13 13"
      ]
     },
     "metadata": {},
     "output_type": "display_data"
    }
   ],
   "source": [
    "rep(c(5,12,13), each=2)"
   ]
  },
  {
   "cell_type": "code",
   "execution_count": 185,
   "id": "9f366b0b",
   "metadata": {
    "vscode": {
     "languageId": "r"
    }
   },
   "outputs": [
    {
     "data": {
      "text/html": [
       "<style>\n",
       ".list-inline {list-style: none; margin:0; padding: 0}\n",
       ".list-inline>li {display: inline-block}\n",
       ".list-inline>li:not(:last-child)::after {content: \"\\00b7\"; padding: 0 .5ex}\n",
       "</style>\n",
       "<ol class=list-inline><li>'a'</li><li>'b'</li><li>'c'</li><li>'d'</li><li>'e'</li><li>'f'</li><li>'g'</li><li>'h'</li><li>'i'</li><li>'j'</li><li>'k'</li><li>'l'</li><li>'m'</li><li>'n'</li><li>'o'</li><li>'p'</li><li>'q'</li><li>'r'</li><li>'s'</li><li>'t'</li><li>'u'</li><li>'v'</li><li>'w'</li><li>'x'</li><li>'y'</li><li>'z'</li></ol>\n"
      ],
      "text/latex": [
       "\\begin{enumerate*}\n",
       "\\item 'a'\n",
       "\\item 'b'\n",
       "\\item 'c'\n",
       "\\item 'd'\n",
       "\\item 'e'\n",
       "\\item 'f'\n",
       "\\item 'g'\n",
       "\\item 'h'\n",
       "\\item 'i'\n",
       "\\item 'j'\n",
       "\\item 'k'\n",
       "\\item 'l'\n",
       "\\item 'm'\n",
       "\\item 'n'\n",
       "\\item 'o'\n",
       "\\item 'p'\n",
       "\\item 'q'\n",
       "\\item 'r'\n",
       "\\item 's'\n",
       "\\item 't'\n",
       "\\item 'u'\n",
       "\\item 'v'\n",
       "\\item 'w'\n",
       "\\item 'x'\n",
       "\\item 'y'\n",
       "\\item 'z'\n",
       "\\end{enumerate*}\n"
      ],
      "text/markdown": [
       "1. 'a'\n",
       "2. 'b'\n",
       "3. 'c'\n",
       "4. 'd'\n",
       "5. 'e'\n",
       "6. 'f'\n",
       "7. 'g'\n",
       "8. 'h'\n",
       "9. 'i'\n",
       "10. 'j'\n",
       "11. 'k'\n",
       "12. 'l'\n",
       "13. 'm'\n",
       "14. 'n'\n",
       "15. 'o'\n",
       "16. 'p'\n",
       "17. 'q'\n",
       "18. 'r'\n",
       "19. 's'\n",
       "20. 't'\n",
       "21. 'u'\n",
       "22. 'v'\n",
       "23. 'w'\n",
       "24. 'x'\n",
       "25. 'y'\n",
       "26. 'z'\n",
       "\n",
       "\n"
      ],
      "text/plain": [
       " [1] \"a\" \"b\" \"c\" \"d\" \"e\" \"f\" \"g\" \"h\" \"i\" \"j\" \"k\" \"l\" \"m\" \"n\" \"o\" \"p\" \"q\" \"r\" \"s\"\n",
       "[20] \"t\" \"u\" \"v\" \"w\" \"x\" \"y\" \"z\""
      ]
     },
     "metadata": {},
     "output_type": "display_data"
    }
   ],
   "source": [
    "letters"
   ]
  },
  {
   "cell_type": "code",
   "execution_count": 186,
   "id": "8a95fadf",
   "metadata": {
    "vscode": {
     "languageId": "r"
    }
   },
   "outputs": [
    {
     "data": {
      "text/html": [
       "<style>\n",
       ".list-inline {list-style: none; margin:0; padding: 0}\n",
       ".list-inline>li {display: inline-block}\n",
       ".list-inline>li:not(:last-child)::after {content: \"\\00b7\"; padding: 0 .5ex}\n",
       "</style>\n",
       "<ol class=list-inline><li>'A'</li><li>'B'</li><li>'C'</li><li>'D'</li><li>'E'</li><li>'F'</li><li>'G'</li><li>'H'</li><li>'I'</li><li>'J'</li><li>'K'</li><li>'L'</li><li>'M'</li><li>'N'</li><li>'O'</li><li>'P'</li><li>'Q'</li><li>'R'</li><li>'S'</li><li>'T'</li><li>'U'</li><li>'V'</li><li>'W'</li><li>'X'</li><li>'Y'</li><li>'Z'</li></ol>\n"
      ],
      "text/latex": [
       "\\begin{enumerate*}\n",
       "\\item 'A'\n",
       "\\item 'B'\n",
       "\\item 'C'\n",
       "\\item 'D'\n",
       "\\item 'E'\n",
       "\\item 'F'\n",
       "\\item 'G'\n",
       "\\item 'H'\n",
       "\\item 'I'\n",
       "\\item 'J'\n",
       "\\item 'K'\n",
       "\\item 'L'\n",
       "\\item 'M'\n",
       "\\item 'N'\n",
       "\\item 'O'\n",
       "\\item 'P'\n",
       "\\item 'Q'\n",
       "\\item 'R'\n",
       "\\item 'S'\n",
       "\\item 'T'\n",
       "\\item 'U'\n",
       "\\item 'V'\n",
       "\\item 'W'\n",
       "\\item 'X'\n",
       "\\item 'Y'\n",
       "\\item 'Z'\n",
       "\\end{enumerate*}\n"
      ],
      "text/markdown": [
       "1. 'A'\n",
       "2. 'B'\n",
       "3. 'C'\n",
       "4. 'D'\n",
       "5. 'E'\n",
       "6. 'F'\n",
       "7. 'G'\n",
       "8. 'H'\n",
       "9. 'I'\n",
       "10. 'J'\n",
       "11. 'K'\n",
       "12. 'L'\n",
       "13. 'M'\n",
       "14. 'N'\n",
       "15. 'O'\n",
       "16. 'P'\n",
       "17. 'Q'\n",
       "18. 'R'\n",
       "19. 'S'\n",
       "20. 'T'\n",
       "21. 'U'\n",
       "22. 'V'\n",
       "23. 'W'\n",
       "24. 'X'\n",
       "25. 'Y'\n",
       "26. 'Z'\n",
       "\n",
       "\n"
      ],
      "text/plain": [
       " [1] \"A\" \"B\" \"C\" \"D\" \"E\" \"F\" \"G\" \"H\" \"I\" \"J\" \"K\" \"L\" \"M\" \"N\" \"O\" \"P\" \"Q\" \"R\" \"S\"\n",
       "[20] \"T\" \"U\" \"V\" \"W\" \"X\" \"Y\" \"Z\""
      ]
     },
     "metadata": {},
     "output_type": "display_data"
    }
   ],
   "source": [
    "LETTERS"
   ]
  },
  {
   "cell_type": "code",
   "execution_count": 187,
   "id": "943982f1",
   "metadata": {
    "vscode": {
     "languageId": "r"
    }
   },
   "outputs": [
    {
     "data": {
      "text/html": [
       "<style>\n",
       ".list-inline {list-style: none; margin:0; padding: 0}\n",
       ".list-inline>li {display: inline-block}\n",
       ".list-inline>li:not(:last-child)::after {content: \"\\00b7\"; padding: 0 .5ex}\n",
       "</style>\n",
       "<ol class=list-inline><li>'Jan'</li><li>'Feb'</li><li>'Mar'</li><li>'Apr'</li><li>'May'</li><li>'Jun'</li><li>'Jul'</li><li>'Aug'</li><li>'Sep'</li><li>'Oct'</li><li>'Nov'</li><li>'Dec'</li></ol>\n"
      ],
      "text/latex": [
       "\\begin{enumerate*}\n",
       "\\item 'Jan'\n",
       "\\item 'Feb'\n",
       "\\item 'Mar'\n",
       "\\item 'Apr'\n",
       "\\item 'May'\n",
       "\\item 'Jun'\n",
       "\\item 'Jul'\n",
       "\\item 'Aug'\n",
       "\\item 'Sep'\n",
       "\\item 'Oct'\n",
       "\\item 'Nov'\n",
       "\\item 'Dec'\n",
       "\\end{enumerate*}\n"
      ],
      "text/markdown": [
       "1. 'Jan'\n",
       "2. 'Feb'\n",
       "3. 'Mar'\n",
       "4. 'Apr'\n",
       "5. 'May'\n",
       "6. 'Jun'\n",
       "7. 'Jul'\n",
       "8. 'Aug'\n",
       "9. 'Sep'\n",
       "10. 'Oct'\n",
       "11. 'Nov'\n",
       "12. 'Dec'\n",
       "\n",
       "\n"
      ],
      "text/plain": [
       " [1] \"Jan\" \"Feb\" \"Mar\" \"Apr\" \"May\" \"Jun\" \"Jul\" \"Aug\" \"Sep\" \"Oct\" \"Nov\" \"Dec\""
      ]
     },
     "metadata": {},
     "output_type": "display_data"
    }
   ],
   "source": [
    "month.abb"
   ]
  },
  {
   "cell_type": "code",
   "execution_count": 188,
   "id": "8ae47605",
   "metadata": {
    "vscode": {
     "languageId": "r"
    }
   },
   "outputs": [
    {
     "data": {
      "text/html": [
       "<style>\n",
       ".list-inline {list-style: none; margin:0; padding: 0}\n",
       ".list-inline>li {display: inline-block}\n",
       ".list-inline>li:not(:last-child)::after {content: \"\\00b7\"; padding: 0 .5ex}\n",
       "</style>\n",
       "<ol class=list-inline><li>'January'</li><li>'February'</li><li>'March'</li><li>'April'</li><li>'May'</li><li>'June'</li><li>'July'</li><li>'August'</li><li>'September'</li><li>'October'</li><li>'November'</li><li>'December'</li></ol>\n"
      ],
      "text/latex": [
       "\\begin{enumerate*}\n",
       "\\item 'January'\n",
       "\\item 'February'\n",
       "\\item 'March'\n",
       "\\item 'April'\n",
       "\\item 'May'\n",
       "\\item 'June'\n",
       "\\item 'July'\n",
       "\\item 'August'\n",
       "\\item 'September'\n",
       "\\item 'October'\n",
       "\\item 'November'\n",
       "\\item 'December'\n",
       "\\end{enumerate*}\n"
      ],
      "text/markdown": [
       "1. 'January'\n",
       "2. 'February'\n",
       "3. 'March'\n",
       "4. 'April'\n",
       "5. 'May'\n",
       "6. 'June'\n",
       "7. 'July'\n",
       "8. 'August'\n",
       "9. 'September'\n",
       "10. 'October'\n",
       "11. 'November'\n",
       "12. 'December'\n",
       "\n",
       "\n"
      ],
      "text/plain": [
       " [1] \"January\"   \"February\"  \"March\"     \"April\"     \"May\"       \"June\"     \n",
       " [7] \"July\"      \"August\"    \"September\" \"October\"   \"November\"  \"December\" "
      ]
     },
     "metadata": {},
     "output_type": "display_data"
    }
   ],
   "source": [
    "month.name"
   ]
  },
  {
   "cell_type": "markdown",
   "id": "6ef10760",
   "metadata": {},
   "source": [
    "### WTF?"
   ]
  },
  {
   "cell_type": "code",
   "execution_count": 189,
   "id": "82311dd1",
   "metadata": {
    "vscode": {
     "languageId": "r"
    }
   },
   "outputs": [
    {
     "name": "stdout",
     "output_type": "stream",
     "text": [
      "[1] 1 1\n",
      "[1] NA NA\n"
     ]
    }
   ],
   "source": [
    "print(x)\n",
    "print(x == NA)"
   ]
  },
  {
   "cell_type": "code",
   "execution_count": 190,
   "id": "5b1b5911",
   "metadata": {
    "vscode": {
     "languageId": "r"
    }
   },
   "outputs": [
    {
     "data": {
      "text/html": [
       "'logical'"
      ],
      "text/latex": [
       "'logical'"
      ],
      "text/markdown": [
       "'logical'"
      ],
      "text/plain": [
       "[1] \"logical\""
      ]
     },
     "metadata": {},
     "output_type": "display_data"
    }
   ],
   "source": [
    "class(x == NA)"
   ]
  },
  {
   "cell_type": "code",
   "execution_count": 191,
   "id": "50dcfbb6",
   "metadata": {
    "vscode": {
     "languageId": "r"
    }
   },
   "outputs": [
    {
     "data": {
      "text/html": [
       "&lt;NA&gt;"
      ],
      "text/latex": [
       "<NA>"
      ],
      "text/markdown": [
       "&lt;NA&gt;"
      ],
      "text/plain": [
       "[1] NA"
      ]
     },
     "metadata": {},
     "output_type": "display_data"
    }
   ],
   "source": [
    "NA == NA"
   ]
  },
  {
   "cell_type": "code",
   "execution_count": 192,
   "id": "cc0016c6",
   "metadata": {
    "vscode": {
     "languageId": "r"
    }
   },
   "outputs": [
    {
     "data": {
      "text/html": [
       "<style>\n",
       ".list-inline {list-style: none; margin:0; padding: 0}\n",
       ".list-inline>li {display: inline-block}\n",
       ".list-inline>li:not(:last-child)::after {content: \"\\00b7\"; padding: 0 .5ex}\n",
       "</style>\n",
       "<ol class=list-inline><li>TRUE</li><li>FALSE</li><li>TRUE</li><li>&lt;NA&gt;</li></ol>\n"
      ],
      "text/latex": [
       "\\begin{enumerate*}\n",
       "\\item TRUE\n",
       "\\item FALSE\n",
       "\\item TRUE\n",
       "\\item <NA>\n",
       "\\end{enumerate*}\n"
      ],
      "text/markdown": [
       "1. TRUE\n",
       "2. FALSE\n",
       "3. TRUE\n",
       "4. &lt;NA&gt;\n",
       "\n",
       "\n"
      ],
      "text/plain": [
       "[1]  TRUE FALSE  TRUE    NA"
      ]
     },
     "metadata": {},
     "output_type": "display_data"
    }
   ],
   "source": [
    "3 == c(3, 1, 3, NA)"
   ]
  },
  {
   "cell_type": "code",
   "execution_count": 193,
   "id": "1ed527a8-d49a-4ab8-995f-dd9e79d7d428",
   "metadata": {
    "vscode": {
     "languageId": "r"
    }
   },
   "outputs": [
    {
     "data": {
      "text/html": [
       "<style>\n",
       ".list-inline {list-style: none; margin:0; padding: 0}\n",
       ".list-inline>li {display: inline-block}\n",
       ".list-inline>li:not(:last-child)::after {content: \"\\00b7\"; padding: 0 .5ex}\n",
       "</style>\n",
       "<ol class=list-inline><li>FALSE</li><li>FALSE</li><li>FALSE</li><li>TRUE</li></ol>\n"
      ],
      "text/latex": [
       "\\begin{enumerate*}\n",
       "\\item FALSE\n",
       "\\item FALSE\n",
       "\\item FALSE\n",
       "\\item TRUE\n",
       "\\end{enumerate*}\n"
      ],
      "text/markdown": [
       "1. FALSE\n",
       "2. FALSE\n",
       "3. FALSE\n",
       "4. TRUE\n",
       "\n",
       "\n"
      ],
      "text/plain": [
       "[1] FALSE FALSE FALSE  TRUE"
      ]
     },
     "metadata": {},
     "output_type": "display_data"
    }
   ],
   "source": [
    "is.na(c(3, 1, 3, NA))"
   ]
  },
  {
   "cell_type": "code",
   "execution_count": 194,
   "id": "a25754fa",
   "metadata": {
    "vscode": {
     "languageId": "r"
    }
   },
   "outputs": [
    {
     "name": "stdout",
     "output_type": "stream",
     "text": [
      "logical(0)\n"
     ]
    }
   ],
   "source": [
    "xnotnull <- 42\n",
    "print(xnotnull == NULL)"
   ]
  },
  {
   "cell_type": "code",
   "execution_count": 195,
   "id": "3e4db4b9",
   "metadata": {
    "vscode": {
     "languageId": "r"
    }
   },
   "outputs": [
    {
     "name": "stdout",
     "output_type": "stream",
     "text": [
      "logical(0)\n"
     ]
    }
   ],
   "source": [
    "xnull <- NULL\n",
    "print(xnull == NULL)"
   ]
  },
  {
   "cell_type": "code",
   "execution_count": 196,
   "id": "22d906d9",
   "metadata": {
    "vscode": {
     "languageId": "r"
    }
   },
   "outputs": [
    {
     "data": {
      "text/html": [
       "TRUE"
      ],
      "text/latex": [
       "TRUE"
      ],
      "text/markdown": [
       "TRUE"
      ],
      "text/plain": [
       "[1] TRUE"
      ]
     },
     "metadata": {},
     "output_type": "display_data"
    }
   ],
   "source": [
    "is.null(xnull)"
   ]
  },
  {
   "cell_type": "code",
   "execution_count": 197,
   "id": "4fbcfbb2",
   "metadata": {
    "vscode": {
     "languageId": "r"
    }
   },
   "outputs": [
    {
     "name": "stdout",
     "output_type": "stream",
     "text": [
      " [1] 10  9  8  7  6  5  4  3  2  1\n"
     ]
    },
    {
     "data": {
      "text/html": [
       "<style>\n",
       ".list-inline {list-style: none; margin:0; padding: 0}\n",
       ".list-inline>li {display: inline-block}\n",
       ".list-inline>li:not(:last-child)::after {content: \"\\00b7\"; padding: 0 .5ex}\n",
       "</style>\n",
       "<ol class=list-inline><li>FALSE</li><li>FALSE</li><li>FALSE</li><li>FALSE</li><li>FALSE</li><li>FALSE</li><li>TRUE</li><li>FALSE</li><li>FALSE</li><li>FALSE</li></ol>\n"
      ],
      "text/latex": [
       "\\begin{enumerate*}\n",
       "\\item FALSE\n",
       "\\item FALSE\n",
       "\\item FALSE\n",
       "\\item FALSE\n",
       "\\item FALSE\n",
       "\\item FALSE\n",
       "\\item TRUE\n",
       "\\item FALSE\n",
       "\\item FALSE\n",
       "\\item FALSE\n",
       "\\end{enumerate*}\n"
      ],
      "text/markdown": [
       "1. FALSE\n",
       "2. FALSE\n",
       "3. FALSE\n",
       "4. FALSE\n",
       "5. FALSE\n",
       "6. FALSE\n",
       "7. TRUE\n",
       "8. FALSE\n",
       "9. FALSE\n",
       "10. FALSE\n",
       "\n",
       "\n"
      ],
      "text/plain": [
       " [1] FALSE FALSE FALSE FALSE FALSE FALSE  TRUE FALSE FALSE FALSE"
      ]
     },
     "metadata": {},
     "output_type": "display_data"
    }
   ],
   "source": [
    "x1 <- 10:1\n",
    "print(x1)\n",
    "x1 == c(4, 6)"
   ]
  },
  {
   "cell_type": "code",
   "execution_count": 198,
   "id": "061eb6b0-d353-4853-a9f5-e44ca56debaf",
   "metadata": {
    "vscode": {
     "languageId": "r"
    }
   },
   "outputs": [
    {
     "name": "stdout",
     "output_type": "stream",
     "text": [
      " [1] 10  9  8  7  6  5  4  3  2  1\n",
      " [1] FALSE FALSE FALSE FALSE FALSE FALSE  TRUE FALSE FALSE FALSE\n",
      " [1] FALSE FALSE FALSE FALSE  TRUE FALSE FALSE FALSE FALSE FALSE\n",
      " [1] FALSE FALSE FALSE FALSE  TRUE FALSE  TRUE FALSE FALSE FALSE\n",
      " [1] FALSE FALSE FALSE FALSE FALSE FALSE FALSE FALSE FALSE FALSE\n"
     ]
    }
   ],
   "source": [
    "print(x1)\n",
    "print(x1 == 4)\n",
    "print(x1 == 6)\n",
    "print(x1 == 4 | x1 == 6)\n",
    "print(x1 == 4 & x1 == 6)\n"
   ]
  },
  {
   "cell_type": "code",
   "execution_count": 199,
   "id": "e3f9e95e-df9e-4a7f-8ef2-cfe47944fe6d",
   "metadata": {
    "vscode": {
     "languageId": "r"
    }
   },
   "outputs": [
    {
     "name": "stdout",
     "output_type": "stream",
     "text": [
      " [1] TRUE TRUE TRUE TRUE TRUE TRUE TRUE TRUE TRUE TRUE\n"
     ]
    },
    {
     "data": {
      "text/html": [
       "TRUE"
      ],
      "text/latex": [
       "TRUE"
      ],
      "text/markdown": [
       "TRUE"
      ],
      "text/plain": [
       "[1] TRUE"
      ]
     },
     "metadata": {},
     "output_type": "display_data"
    }
   ],
   "source": [
    "print(x1 == 4 | 6)\n",
    "as.logical(6)"
   ]
  },
  {
   "cell_type": "code",
   "execution_count": 200,
   "id": "3beb5eb1",
   "metadata": {
    "vscode": {
     "languageId": "r"
    }
   },
   "outputs": [
    {
     "name": "stdout",
     "output_type": "stream",
     "text": [
      " [1] 10  9  8  7  6  5  4  3  2  1\n"
     ]
    },
    {
     "data": {
      "text/html": [
       "<style>\n",
       ".list-inline {list-style: none; margin:0; padding: 0}\n",
       ".list-inline>li {display: inline-block}\n",
       ".list-inline>li:not(:last-child)::after {content: \"\\00b7\"; padding: 0 .5ex}\n",
       "</style>\n",
       "<ol class=list-inline><li>FALSE</li><li>FALSE</li><li>FALSE</li><li>FALSE</li><li>FALSE</li><li>FALSE</li><li>FALSE</li><li>FALSE</li><li>FALSE</li><li>TRUE</li></ol>\n"
      ],
      "text/latex": [
       "\\begin{enumerate*}\n",
       "\\item FALSE\n",
       "\\item FALSE\n",
       "\\item FALSE\n",
       "\\item FALSE\n",
       "\\item FALSE\n",
       "\\item FALSE\n",
       "\\item FALSE\n",
       "\\item FALSE\n",
       "\\item FALSE\n",
       "\\item TRUE\n",
       "\\end{enumerate*}\n"
      ],
      "text/markdown": [
       "1. FALSE\n",
       "2. FALSE\n",
       "3. FALSE\n",
       "4. FALSE\n",
       "5. FALSE\n",
       "6. FALSE\n",
       "7. FALSE\n",
       "8. FALSE\n",
       "9. FALSE\n",
       "10. TRUE\n",
       "\n",
       "\n"
      ],
      "text/plain": [
       " [1] FALSE FALSE FALSE FALSE FALSE FALSE FALSE FALSE FALSE  TRUE"
      ]
     },
     "metadata": {},
     "output_type": "display_data"
    }
   ],
   "source": [
    "print(x1)\n",
    "x1 == (4 | 6)"
   ]
  },
  {
   "cell_type": "code",
   "execution_count": 201,
   "id": "69dec6d4",
   "metadata": {
    "vscode": {
     "languageId": "r"
    }
   },
   "outputs": [
    {
     "data": {
      "text/html": [
       "TRUE"
      ],
      "text/latex": [
       "TRUE"
      ],
      "text/markdown": [
       "TRUE"
      ],
      "text/plain": [
       "[1] TRUE"
      ]
     },
     "metadata": {},
     "output_type": "display_data"
    }
   ],
   "source": [
    "4 | 6"
   ]
  },
  {
   "cell_type": "markdown",
   "id": "b5a99236",
   "metadata": {},
   "source": [
    "<i>Esos paréntesis... ¡que no falten!</i>"
   ]
  },
  {
   "cell_type": "code",
   "execution_count": 202,
   "id": "7353e868",
   "metadata": {
    "vscode": {
     "languageId": "r"
    }
   },
   "outputs": [
    {
     "data": {
      "text/html": [
       "TRUE"
      ],
      "text/latex": [
       "TRUE"
      ],
      "text/markdown": [
       "TRUE"
      ],
      "text/plain": [
       "[1] TRUE"
      ]
     },
     "metadata": {},
     "output_type": "display_data"
    }
   ],
   "source": [
    "50 < \"7\""
   ]
  },
  {
   "cell_type": "code",
   "execution_count": 203,
   "id": "de9a5c0b",
   "metadata": {
    "vscode": {
     "languageId": "r"
    }
   },
   "outputs": [
    {
     "data": {
      "text/html": [
       "FALSE"
      ],
      "text/latex": [
       "FALSE"
      ],
      "text/markdown": [
       "FALSE"
      ],
      "text/plain": [
       "[1] FALSE"
      ]
     },
     "metadata": {},
     "output_type": "display_data"
    }
   ],
   "source": [
    "50 < as.numeric(\"7\")"
   ]
  },
  {
   "cell_type": "code",
   "execution_count": 204,
   "id": "2caae8f8",
   "metadata": {
    "vscode": {
     "languageId": "r"
    }
   },
   "outputs": [
    {
     "data": {
      "text/html": [
       "TRUE"
      ],
      "text/latex": [
       "TRUE"
      ],
      "text/markdown": [
       "TRUE"
      ],
      "text/plain": [
       "[1] TRUE"
      ]
     },
     "metadata": {},
     "output_type": "display_data"
    }
   ],
   "source": [
    "\"50\" < \"7\""
   ]
  },
  {
   "cell_type": "code",
   "execution_count": 205,
   "id": "7cff43d3",
   "metadata": {
    "vscode": {
     "languageId": "r"
    }
   },
   "outputs": [
    {
     "name": "stdout",
     "output_type": "stream",
     "text": [
      "[1] FALSE FALSE\n"
     ]
    },
    {
     "data": {
      "text/html": [
       "2"
      ],
      "text/latex": [
       "2"
      ],
      "text/markdown": [
       "2"
      ],
      "text/plain": [
       "[1] 2"
      ]
     },
     "metadata": {},
     "output_type": "display_data"
    }
   ],
   "source": [
    "print(x != 1)\n",
    "length(x != 1)"
   ]
  },
  {
   "cell_type": "code",
   "execution_count": 206,
   "id": "567225c2",
   "metadata": {
    "vscode": {
     "languageId": "r"
    }
   },
   "outputs": [
    {
     "data": {
      "text/html": [
       "TRUE"
      ],
      "text/latex": [
       "TRUE"
      ],
      "text/markdown": [
       "TRUE"
      ],
      "text/plain": [
       "[1] TRUE"
      ]
     },
     "metadata": {},
     "output_type": "display_data"
    }
   ],
   "source": [
    "length(x) != 1"
   ]
  },
  {
   "cell_type": "markdown",
   "id": "a7c6db01",
   "metadata": {},
   "source": [
    "<i>No dejéis que R decida por vosotr@s...</i>"
   ]
  },
  {
   "cell_type": "code",
   "execution_count": 207,
   "id": "836e52bd",
   "metadata": {
    "vscode": {
     "languageId": "r"
    }
   },
   "outputs": [
    {
     "data": {
      "text/html": [
       "<style>\n",
       ".list-inline {list-style: none; margin:0; padding: 0}\n",
       ".list-inline>li {display: inline-block}\n",
       ".list-inline>li:not(:last-child)::after {content: \"\\00b7\"; padding: 0 .5ex}\n",
       "</style>\n",
       "<ol class=list-inline><li>1</li><li>&lt;NA&gt;</li><li>3</li><li>2</li><li>4</li><li>2</li></ol>\n"
      ],
      "text/latex": [
       "\\begin{enumerate*}\n",
       "\\item 1\n",
       "\\item <NA>\n",
       "\\item 3\n",
       "\\item 2\n",
       "\\item 4\n",
       "\\item 2\n",
       "\\end{enumerate*}\n"
      ],
      "text/markdown": [
       "1. 1\n",
       "2. &lt;NA&gt;\n",
       "3. 3\n",
       "4. 2\n",
       "5. 4\n",
       "6. 2\n",
       "\n",
       "\n"
      ],
      "text/plain": [
       "[1]  1 NA  3  2  4  2"
      ]
     },
     "metadata": {},
     "output_type": "display_data"
    }
   ],
   "source": [
    "xna <- c(1, NA, 3, 2, 4, 2)\n",
    "xna"
   ]
  },
  {
   "cell_type": "code",
   "execution_count": 208,
   "id": "7b04cadc",
   "metadata": {
    "vscode": {
     "languageId": "r"
    }
   },
   "outputs": [
    {
     "name": "stdout",
     "output_type": "stream",
     "text": [
      "[1] FALSE    NA FALSE  TRUE FALSE  TRUE\n"
     ]
    },
    {
     "data": {
      "text/html": [
       "<style>\n",
       ".list-inline {list-style: none; margin:0; padding: 0}\n",
       ".list-inline>li {display: inline-block}\n",
       ".list-inline>li:not(:last-child)::after {content: \"\\00b7\"; padding: 0 .5ex}\n",
       "</style>\n",
       "<ol class=list-inline><li>&lt;NA&gt;</li><li>2</li><li>2</li></ol>\n"
      ],
      "text/latex": [
       "\\begin{enumerate*}\n",
       "\\item <NA>\n",
       "\\item 2\n",
       "\\item 2\n",
       "\\end{enumerate*}\n"
      ],
      "text/markdown": [
       "1. &lt;NA&gt;\n",
       "2. 2\n",
       "3. 2\n",
       "\n",
       "\n"
      ],
      "text/plain": [
       "[1] NA  2  2"
      ]
     },
     "metadata": {},
     "output_type": "display_data"
    }
   ],
   "source": [
    "print(xna == 2)\n",
    "xna[xna == 2]"
   ]
  },
  {
   "cell_type": "code",
   "execution_count": 209,
   "id": "febbbfb8",
   "metadata": {
    "vscode": {
     "languageId": "r"
    }
   },
   "outputs": [
    {
     "data": {
      "text/html": [
       "<style>\n",
       ".list-inline {list-style: none; margin:0; padding: 0}\n",
       ".list-inline>li {display: inline-block}\n",
       ".list-inline>li:not(:last-child)::after {content: \"\\00b7\"; padding: 0 .5ex}\n",
       "</style>\n",
       "<ol class=list-inline><li>TRUE</li><li>FALSE</li><li>TRUE</li><li>TRUE</li><li>TRUE</li><li>TRUE</li></ol>\n"
      ],
      "text/latex": [
       "\\begin{enumerate*}\n",
       "\\item TRUE\n",
       "\\item FALSE\n",
       "\\item TRUE\n",
       "\\item TRUE\n",
       "\\item TRUE\n",
       "\\item TRUE\n",
       "\\end{enumerate*}\n"
      ],
      "text/markdown": [
       "1. TRUE\n",
       "2. FALSE\n",
       "3. TRUE\n",
       "4. TRUE\n",
       "5. TRUE\n",
       "6. TRUE\n",
       "\n",
       "\n"
      ],
      "text/plain": [
       "[1]  TRUE FALSE  TRUE  TRUE  TRUE  TRUE"
      ]
     },
     "metadata": {},
     "output_type": "display_data"
    }
   ],
   "source": [
    "!is.na(xna)"
   ]
  },
  {
   "cell_type": "code",
   "execution_count": 210,
   "id": "b4d2bdc3",
   "metadata": {
    "vscode": {
     "languageId": "r"
    }
   },
   "outputs": [
    {
     "data": {
      "text/html": [
       "<style>\n",
       ".list-inline {list-style: none; margin:0; padding: 0}\n",
       ".list-inline>li {display: inline-block}\n",
       ".list-inline>li:not(:last-child)::after {content: \"\\00b7\"; padding: 0 .5ex}\n",
       "</style>\n",
       "<ol class=list-inline><li>FALSE</li><li>&lt;NA&gt;</li><li>FALSE</li><li>TRUE</li><li>FALSE</li><li>TRUE</li></ol>\n"
      ],
      "text/latex": [
       "\\begin{enumerate*}\n",
       "\\item FALSE\n",
       "\\item <NA>\n",
       "\\item FALSE\n",
       "\\item TRUE\n",
       "\\item FALSE\n",
       "\\item TRUE\n",
       "\\end{enumerate*}\n"
      ],
      "text/markdown": [
       "1. FALSE\n",
       "2. &lt;NA&gt;\n",
       "3. FALSE\n",
       "4. TRUE\n",
       "5. FALSE\n",
       "6. TRUE\n",
       "\n",
       "\n"
      ],
      "text/plain": [
       "[1] FALSE    NA FALSE  TRUE FALSE  TRUE"
      ]
     },
     "metadata": {},
     "output_type": "display_data"
    }
   ],
   "source": [
    "xna == 2"
   ]
  },
  {
   "cell_type": "code",
   "execution_count": 211,
   "id": "24a76e24",
   "metadata": {
    "vscode": {
     "languageId": "r"
    }
   },
   "outputs": [
    {
     "data": {
      "text/html": [
       "<style>\n",
       ".list-inline {list-style: none; margin:0; padding: 0}\n",
       ".list-inline>li {display: inline-block}\n",
       ".list-inline>li:not(:last-child)::after {content: \"\\00b7\"; padding: 0 .5ex}\n",
       "</style>\n",
       "<ol class=list-inline><li>2</li><li>2</li></ol>\n"
      ],
      "text/latex": [
       "\\begin{enumerate*}\n",
       "\\item 2\n",
       "\\item 2\n",
       "\\end{enumerate*}\n"
      ],
      "text/markdown": [
       "1. 2\n",
       "2. 2\n",
       "\n",
       "\n"
      ],
      "text/plain": [
       "[1] 2 2"
      ]
     },
     "metadata": {},
     "output_type": "display_data"
    }
   ],
   "source": [
    "xna[!is.na(xna) & xna == 2] # Analizar!"
   ]
  },
  {
   "cell_type": "code",
   "execution_count": 212,
   "id": "fa45fcb5",
   "metadata": {
    "vscode": {
     "languageId": "r"
    }
   },
   "outputs": [
    {
     "name": "stdout",
     "output_type": "stream",
     "text": [
      "[1]  1 NA  3  2  4  2\n",
      "[1]  TRUE FALSE  TRUE  TRUE  TRUE  TRUE\n",
      "[1] FALSE    NA FALSE  TRUE FALSE  TRUE\n"
     ]
    }
   ],
   "source": [
    "print(xna)\n",
    "print(!is.na(xna))\n",
    "print(xna == 2)"
   ]
  },
  {
   "cell_type": "code",
   "execution_count": 213,
   "id": "a186ea87",
   "metadata": {
    "vscode": {
     "languageId": "r"
    }
   },
   "outputs": [
    {
     "name": "stdout",
     "output_type": "stream",
     "text": [
      "[1]  1 NA  3  2  4  2\n"
     ]
    },
    {
     "data": {
      "text/html": [
       "<style>\n",
       ".list-inline {list-style: none; margin:0; padding: 0}\n",
       ".list-inline>li {display: inline-block}\n",
       ".list-inline>li:not(:last-child)::after {content: \"\\00b7\"; padding: 0 .5ex}\n",
       "</style>\n",
       "<ol class=list-inline><li>4</li><li>6</li></ol>\n"
      ],
      "text/latex": [
       "\\begin{enumerate*}\n",
       "\\item 4\n",
       "\\item 6\n",
       "\\end{enumerate*}\n"
      ],
      "text/markdown": [
       "1. 4\n",
       "2. 6\n",
       "\n",
       "\n"
      ],
      "text/plain": [
       "[1] 4 6"
      ]
     },
     "metadata": {},
     "output_type": "display_data"
    }
   ],
   "source": [
    "print(xna)\n",
    "which(xna == 2)"
   ]
  },
  {
   "cell_type": "code",
   "execution_count": 214,
   "id": "9e674bb6",
   "metadata": {
    "vscode": {
     "languageId": "r"
    }
   },
   "outputs": [
    {
     "data": {
      "text/html": [
       "<style>\n",
       ".list-inline {list-style: none; margin:0; padding: 0}\n",
       ".list-inline>li {display: inline-block}\n",
       ".list-inline>li:not(:last-child)::after {content: \"\\00b7\"; padding: 0 .5ex}\n",
       "</style>\n",
       "<ol class=list-inline><li>2</li><li>2</li></ol>\n"
      ],
      "text/latex": [
       "\\begin{enumerate*}\n",
       "\\item 2\n",
       "\\item 2\n",
       "\\end{enumerate*}\n"
      ],
      "text/markdown": [
       "1. 2\n",
       "2. 2\n",
       "\n",
       "\n"
      ],
      "text/plain": [
       "[1] 2 2"
      ]
     },
     "metadata": {},
     "output_type": "display_data"
    }
   ],
   "source": [
    "xna[which(xna == 2)]"
   ]
  },
  {
   "cell_type": "code",
   "execution_count": 215,
   "id": "b9659a00",
   "metadata": {
    "vscode": {
     "languageId": "r"
    }
   },
   "outputs": [
    {
     "name": "stdout",
     "output_type": "stream",
     "text": [
      "a b a \n",
      "1 2 3 \n"
     ]
    }
   ],
   "source": [
    "x4 <- c(a=1, b=2, a=3)\n",
    "print(x4)"
   ]
  },
  {
   "cell_type": "code",
   "execution_count": 216,
   "id": "36035c6a",
   "metadata": {
    "vscode": {
     "languageId": "r"
    }
   },
   "outputs": [
    {
     "data": {
      "text/html": [
       "<strong>a:</strong> 1"
      ],
      "text/latex": [
       "\\textbf{a:} 1"
      ],
      "text/markdown": [
       "**a:** 1"
      ],
      "text/plain": [
       "a \n",
       "1 "
      ]
     },
     "metadata": {},
     "output_type": "display_data"
    }
   ],
   "source": [
    "x4[\"a\"]"
   ]
  },
  {
   "cell_type": "code",
   "execution_count": 217,
   "id": "e2bb46ef",
   "metadata": {
    "vscode": {
     "languageId": "r"
    }
   },
   "outputs": [
    {
     "data": {
      "text/html": [
       "<style>\n",
       ".list-inline {list-style: none; margin:0; padding: 0}\n",
       ".list-inline>li {display: inline-block}\n",
       ".list-inline>li:not(:last-child)::after {content: \"\\00b7\"; padding: 0 .5ex}\n",
       "</style>\n",
       "<ol class=list-inline><li>'a'</li><li>'b'</li><li>'a'</li></ol>\n"
      ],
      "text/latex": [
       "\\begin{enumerate*}\n",
       "\\item 'a'\n",
       "\\item 'b'\n",
       "\\item 'a'\n",
       "\\end{enumerate*}\n"
      ],
      "text/markdown": [
       "1. 'a'\n",
       "2. 'b'\n",
       "3. 'a'\n",
       "\n",
       "\n"
      ],
      "text/plain": [
       "[1] \"a\" \"b\" \"a\""
      ]
     },
     "metadata": {},
     "output_type": "display_data"
    }
   ],
   "source": [
    "names(x4)"
   ]
  },
  {
   "cell_type": "code",
   "execution_count": 218,
   "id": "74e68052",
   "metadata": {
    "vscode": {
     "languageId": "r"
    }
   },
   "outputs": [
    {
     "name": "stdout",
     "output_type": "stream",
     "text": [
      "a a \n",
      "1 3 \n"
     ]
    }
   ],
   "source": [
    "print(x4[names(x4) %in% \"a\"])"
   ]
  },
  {
   "cell_type": "code",
   "execution_count": 219,
   "id": "54d64c44",
   "metadata": {
    "vscode": {
     "languageId": "r"
    }
   },
   "outputs": [
    {
     "name": "stdout",
     "output_type": "stream",
     "text": [
      "missing value   real string \n",
      "           NA          \"NA\" \n"
     ]
    }
   ],
   "source": [
    "print(c(\"missing value\"=NA, \"real string\"=\"NA\"))"
   ]
  },
  {
   "cell_type": "markdown",
   "id": "ce1d9e78",
   "metadata": {},
   "source": [
    "### Ejercicios vectores\n",
    "1) Crea un vector de números impares entre el 1 y el 30 (ambos inclusive)\n",
    "2) Crea los siguientes vectores:\n",
    "    * un vector del 1 al 20\n",
    "    * un vector del 20 al 1\n",
    "    * un vector que tenga el siguiente patrón 1,2,3,...,19,20,19,18,...,2,1\n",
    "3) Crea una secuencia de números del 1 al 30 con un incremento de 0.5\n",
    "4) Crea una secuencia que contenga las cuatro primeras letras del abecedario en minúscula 3 veces cada una (a a a b b b c c c d d d)\n",
    "5) Crea el vector numérico `x` con los valores 2.3, 3.3, 4.3 y accede al segundo elemento del vector\n",
    "6) Crea un vector numérico `z` que contenga los números del 1 al 10. Cambia la clase del vector forzando que sea de tipo carácter. Después cambia el vector `z` a numerico otra vez\n",
    "7) Crea un vector numérico con valores no ordenados usando la función `sample()`. Una vez creado ordena el vector de forma ascendente usando la función `sort()`. ¿Si quisieras invertir el orden de los elementos del vector que función utilizarías?\n",
    "8) Crea un vector `x` que contenga los elementos -5,-1,0,1,2,3,4,5,6. Escribe un código del tipo `x[algo]`, para extraer:\n",
    "    * elementos de x menores que 0,\n",
    "    * elementos de x menores o igual que 0,\n",
    "    * elementos of x mayor o igual que 3,\n",
    "    * elementos de x menor que 0 o mayor que 4,\n",
    "    * elementos de x mayor que 0 y menor que 4,\n",
    "    * elementos de x distintos de 0\n",
    "9) Crea los siguientes vectores `x<-month.name[1:6]` y `z<-month.name[4:10]` a partir del vector original `month.name`. Recupera los valores idénticos entre los vectores x y z usando `%in%`\n",
    "10) R permite extraer elementos de un vector que satisfacen determinadas condiciones usando la función `subset()`. Para el vector x <- c(6,1:3,NA,12) calcula los elementos mayores que 5 en x usando:\n",
    "     * el filtrado normal, es decir, con el operador `>`\n",
    "     * la función `subset()`"
   ]
  },
  {
   "cell_type": "markdown",
   "id": "d648076b",
   "metadata": {},
   "source": [
    "# Listas"
   ]
  },
  {
   "cell_type": "markdown",
   "id": "bdc67c2a",
   "metadata": {},
   "source": [
    "Son estructuras de datos que permiten combinar elementos de diferente tipo y/o tamaño."
   ]
  },
  {
   "cell_type": "code",
   "execution_count": 220,
   "id": "fc8c0b6b",
   "metadata": {
    "vscode": {
     "languageId": "r"
    }
   },
   "outputs": [
    {
     "name": "stdout",
     "output_type": "stream",
     "text": [
      "[[1]]\n",
      "[1] \"Red\"\n",
      "\n",
      "[[2]]\n",
      "[1] \"Green\"\n",
      "\n",
      "[[3]]\n",
      "[1] 21 32 11\n",
      "\n",
      "[[4]]\n",
      "[1] TRUE\n",
      "\n",
      "[[5]]\n",
      "[1] 51.23\n",
      "\n",
      "[[6]]\n",
      "[1] 0+119.1i\n",
      "\n"
     ]
    }
   ],
   "source": [
    "list_data <- list(\"Red\", \"Green\", c(21,32,11), TRUE, 51.23, 119.1i)\n",
    "print(list_data)"
   ]
  },
  {
   "cell_type": "code",
   "execution_count": 221,
   "id": "463b7e2d",
   "metadata": {
    "vscode": {
     "languageId": "r"
    }
   },
   "outputs": [
    {
     "data": {
      "text/html": [
       "'list'"
      ],
      "text/latex": [
       "'list'"
      ],
      "text/markdown": [
       "'list'"
      ],
      "text/plain": [
       "[1] \"list\""
      ]
     },
     "metadata": {},
     "output_type": "display_data"
    }
   ],
   "source": [
    "class(list_data)"
   ]
  },
  {
   "cell_type": "code",
   "execution_count": 222,
   "id": "d135bc4d",
   "metadata": {
    "vscode": {
     "languageId": "r"
    }
   },
   "outputs": [
    {
     "name": "stdout",
     "output_type": "stream",
     "text": [
      "[[1]]\n",
      "[1] 51.23\n",
      "\n",
      "[[2]]\n",
      "[1] 0+119.1i\n",
      "\n"
     ]
    }
   ],
   "source": [
    "print(list_data[5:6])"
   ]
  },
  {
   "cell_type": "code",
   "execution_count": 223,
   "id": "332d02dd-6af2-4f95-b4b0-59053fef11f9",
   "metadata": {
    "vscode": {
     "languageId": "r"
    }
   },
   "outputs": [
    {
     "name": "stdout",
     "output_type": "stream",
     "text": [
      "[[1]]\n",
      "[1] 0+119.1i\n",
      "\n"
     ]
    }
   ],
   "source": [
    "print(list_data[6])"
   ]
  },
  {
   "cell_type": "code",
   "execution_count": 224,
   "id": "e328fec5",
   "metadata": {
    "vscode": {
     "languageId": "r"
    }
   },
   "outputs": [
    {
     "data": {
      "text/html": [
       "'list'"
      ],
      "text/latex": [
       "'list'"
      ],
      "text/markdown": [
       "'list'"
      ],
      "text/plain": [
       "[1] \"list\""
      ]
     },
     "metadata": {},
     "output_type": "display_data"
    }
   ],
   "source": [
    "class(list_data[6])"
   ]
  },
  {
   "cell_type": "code",
   "execution_count": 225,
   "id": "c413df2a-5b9e-42f4-924a-7d72ef7524c4",
   "metadata": {
    "vscode": {
     "languageId": "r"
    }
   },
   "outputs": [
    {
     "name": "stdout",
     "output_type": "stream",
     "text": [
      "[1] 0+119.1i\n"
     ]
    }
   ],
   "source": [
    "print(list_data[[6]])"
   ]
  },
  {
   "cell_type": "code",
   "execution_count": 226,
   "id": "3e1aa342-390a-46fb-995e-62aeedcb012e",
   "metadata": {
    "vscode": {
     "languageId": "r"
    }
   },
   "outputs": [
    {
     "data": {
      "text/html": [
       "'complex'"
      ],
      "text/latex": [
       "'complex'"
      ],
      "text/markdown": [
       "'complex'"
      ],
      "text/plain": [
       "[1] \"complex\""
      ]
     },
     "metadata": {},
     "output_type": "display_data"
    }
   ],
   "source": [
    "class(list_data[[6]])"
   ]
  },
  {
   "cell_type": "code",
   "execution_count": 227,
   "id": "98348b8e",
   "metadata": {
    "vscode": {
     "languageId": "r"
    }
   },
   "outputs": [
    {
     "name": "stdout",
     "output_type": "stream",
     "text": [
      "$Colors\n",
      "[1] \"Red\"\n",
      "\n",
      "$Age\n",
      "[1] \"Green\"\n",
      "\n",
      "$Time\n",
      "[1] 21 32 11\n",
      "\n",
      "$<NA>\n",
      "[1] TRUE\n",
      "\n",
      "$<NA>\n",
      "[1] 51.23\n",
      "\n",
      "$<NA>\n",
      "[1] 0+119.1i\n",
      "\n"
     ]
    }
   ],
   "source": [
    "names(list_data) <- c(\"Colors\", \"Age\", \"Time\")\n",
    "print(list_data)"
   ]
  },
  {
   "cell_type": "code",
   "execution_count": 228,
   "id": "3511bfc7",
   "metadata": {
    "vscode": {
     "languageId": "r"
    }
   },
   "outputs": [
    {
     "name": "stdout",
     "output_type": "stream",
     "text": [
      "$A\n",
      "[1] \"Red\"\n",
      "\n",
      "$B\n",
      "[1] \"Green\"\n",
      "\n",
      "$C\n",
      "[1] 21 32 11\n",
      "\n",
      "$E\n",
      "[1] TRUE\n",
      "\n",
      "$F\n",
      "[1] 51.23\n",
      "\n",
      "$G\n",
      "[1] 0+119.1i\n",
      "\n"
     ]
    }
   ],
   "source": [
    "names(list_data) <- c(\"A\", \"B\", \"C\", \"E\", \"F\", \"G\")\n",
    "print(list_data)"
   ]
  },
  {
   "cell_type": "code",
   "execution_count": 229,
   "id": "ff2ebd20",
   "metadata": {
    "vscode": {
     "languageId": "r"
    }
   },
   "outputs": [
    {
     "data": {
      "text/html": [
       "<style>\n",
       ".list-inline {list-style: none; margin:0; padding: 0}\n",
       ".list-inline>li {display: inline-block}\n",
       ".list-inline>li:not(:last-child)::after {content: \"\\00b7\"; padding: 0 .5ex}\n",
       "</style>\n",
       "<ol class=list-inline><li>'A'</li><li>'B'</li><li>'C'</li><li>'E'</li><li>'F'</li><li>'G'</li></ol>\n"
      ],
      "text/latex": [
       "\\begin{enumerate*}\n",
       "\\item 'A'\n",
       "\\item 'B'\n",
       "\\item 'C'\n",
       "\\item 'E'\n",
       "\\item 'F'\n",
       "\\item 'G'\n",
       "\\end{enumerate*}\n"
      ],
      "text/markdown": [
       "1. 'A'\n",
       "2. 'B'\n",
       "3. 'C'\n",
       "4. 'E'\n",
       "5. 'F'\n",
       "6. 'G'\n",
       "\n",
       "\n"
      ],
      "text/plain": [
       "[1] \"A\" \"B\" \"C\" \"E\" \"F\" \"G\""
      ]
     },
     "metadata": {},
     "output_type": "display_data"
    },
    {
     "data": {
      "text/html": [
       "<strong>$names</strong> = <style>\n",
       ".list-inline {list-style: none; margin:0; padding: 0}\n",
       ".list-inline>li {display: inline-block}\n",
       ".list-inline>li:not(:last-child)::after {content: \"\\00b7\"; padding: 0 .5ex}\n",
       "</style>\n",
       "<ol class=list-inline><li>'A'</li><li>'B'</li><li>'C'</li><li>'E'</li><li>'F'</li><li>'G'</li></ol>\n"
      ],
      "text/latex": [
       "\\textbf{\\$names} = \\begin{enumerate*}\n",
       "\\item 'A'\n",
       "\\item 'B'\n",
       "\\item 'C'\n",
       "\\item 'E'\n",
       "\\item 'F'\n",
       "\\item 'G'\n",
       "\\end{enumerate*}\n"
      ],
      "text/markdown": [
       "**$names** = 1. 'A'\n",
       "2. 'B'\n",
       "3. 'C'\n",
       "4. 'E'\n",
       "5. 'F'\n",
       "6. 'G'\n",
       "\n",
       "\n"
      ],
      "text/plain": [
       "$names\n",
       "[1] \"A\" \"B\" \"C\" \"E\" \"F\" \"G\"\n"
      ]
     },
     "metadata": {},
     "output_type": "display_data"
    }
   ],
   "source": [
    "names(list_data)\n",
    "attributes(list_data)"
   ]
  },
  {
   "cell_type": "code",
   "execution_count": 230,
   "id": "5313cbc7",
   "metadata": {
    "vscode": {
     "languageId": "r"
    }
   },
   "outputs": [
    {
     "name": "stdout",
     "output_type": "stream",
     "text": [
      "$A\n",
      "[1] \"Red\"\n",
      "\n",
      "$A\n",
      "[1] \"Red\"\n",
      "\n"
     ]
    }
   ],
   "source": [
    "print(list_data[1])\n",
    "print(list_data[\"A\"])"
   ]
  },
  {
   "cell_type": "code",
   "execution_count": 231,
   "id": "5776426c",
   "metadata": {
    "vscode": {
     "languageId": "r"
    }
   },
   "outputs": [
    {
     "data": {
      "text/html": [
       "'list'"
      ],
      "text/latex": [
       "'list'"
      ],
      "text/markdown": [
       "'list'"
      ],
      "text/plain": [
       "[1] \"list\""
      ]
     },
     "metadata": {},
     "output_type": "display_data"
    }
   ],
   "source": [
    "class(list_data[\"B\"])"
   ]
  },
  {
   "cell_type": "code",
   "execution_count": 232,
   "id": "33910fe6",
   "metadata": {
    "vscode": {
     "languageId": "r"
    }
   },
   "outputs": [],
   "source": [
    "list_data[[1]] <- 5"
   ]
  },
  {
   "cell_type": "code",
   "execution_count": 233,
   "id": "057e88a8",
   "metadata": {
    "vscode": {
     "languageId": "r"
    }
   },
   "outputs": [
    {
     "data": {
      "text/html": [
       "5"
      ],
      "text/latex": [
       "5"
      ],
      "text/markdown": [
       "5"
      ],
      "text/plain": [
       "[1] 5"
      ]
     },
     "metadata": {},
     "output_type": "display_data"
    }
   ],
   "source": [
    "list_data[[1]]"
   ]
  },
  {
   "cell_type": "code",
   "execution_count": 234,
   "id": "9cfc5445",
   "metadata": {
    "vscode": {
     "languageId": "r"
    }
   },
   "outputs": [
    {
     "name": "stdout",
     "output_type": "stream",
     "text": [
      "$A\n",
      "[1] 5\n",
      "\n",
      "$B\n",
      "[1] \"Green\"\n",
      "\n",
      "$C\n",
      "[1] 21 32 11\n",
      "\n",
      "$E\n",
      "[1] TRUE\n",
      "\n",
      "$F\n",
      "[1] 51.23\n",
      "\n",
      "$G\n",
      "[1] 0+119.1i\n",
      "\n"
     ]
    }
   ],
   "source": [
    "print(list_data)"
   ]
  },
  {
   "cell_type": "code",
   "execution_count": 235,
   "id": "1242024e",
   "metadata": {
    "vscode": {
     "languageId": "r"
    }
   },
   "outputs": [],
   "source": [
    "list_data[[\"C\"]][2] <- \"p\""
   ]
  },
  {
   "cell_type": "code",
   "execution_count": 236,
   "id": "f9ab5343",
   "metadata": {
    "vscode": {
     "languageId": "r"
    }
   },
   "outputs": [
    {
     "name": "stdout",
     "output_type": "stream",
     "text": [
      "$A\n",
      "[1] 5\n",
      "\n",
      "$B\n",
      "[1] \"Green\"\n",
      "\n",
      "$C\n",
      "[1] \"21\" \"p\"  \"11\"\n",
      "\n",
      "$E\n",
      "[1] TRUE\n",
      "\n",
      "$F\n",
      "[1] 51.23\n",
      "\n",
      "$G\n",
      "[1] 0+119.1i\n",
      "\n"
     ]
    }
   ],
   "source": [
    "print(list_data)"
   ]
  },
  {
   "cell_type": "code",
   "execution_count": 237,
   "id": "a27bc1e9",
   "metadata": {
    "vscode": {
     "languageId": "r"
    }
   },
   "outputs": [
    {
     "name": "stdout",
     "output_type": "stream",
     "text": [
      "$A\n",
      "[1] 5\n",
      "\n",
      "$B\n",
      "[1] \"Green\"\n",
      "\n",
      "$C\n",
      "[1] \"21\" \"p\"  \"11\"\n",
      "\n"
     ]
    }
   ],
   "source": [
    "print(list_data[1:3])"
   ]
  },
  {
   "cell_type": "code",
   "execution_count": 238,
   "id": "64ea9264",
   "metadata": {
    "vscode": {
     "languageId": "r"
    }
   },
   "outputs": [
    {
     "name": "stdout",
     "output_type": "stream",
     "text": [
      "$A\n",
      "[1] 5\n",
      "\n",
      "$B\n",
      "[1] \"Green\"\n",
      "\n"
     ]
    }
   ],
   "source": [
    "print(list_data[c(\"A\",\"B\")])"
   ]
  },
  {
   "cell_type": "code",
   "execution_count": 239,
   "id": "550bc037",
   "metadata": {
    "vscode": {
     "languageId": "r"
    }
   },
   "outputs": [
    {
     "name": "stdout",
     "output_type": "stream",
     "text": [
      "$A\n",
      "[1] 5\n",
      "\n",
      "$B\n",
      "[1] \"Green\"\n",
      "\n",
      "$C\n",
      "[1] \"21\" \"p\"  \"11\"\n",
      "\n",
      "$E\n",
      "[1] TRUE\n",
      "\n",
      "$F\n",
      "[1] 51.23\n",
      "\n",
      "$G\n",
      "[1] 0+119.1i\n",
      "\n"
     ]
    }
   ],
   "source": [
    "print(list_data)"
   ]
  },
  {
   "cell_type": "code",
   "execution_count": 240,
   "id": "fc0175a3",
   "metadata": {
    "vscode": {
     "languageId": "r"
    }
   },
   "outputs": [
    {
     "name": "stdout",
     "output_type": "stream",
     "text": [
      "         A          B         C1         C2         C3          E          F \n",
      "       \"5\"    \"Green\"       \"21\"        \"p\"       \"11\"     \"TRUE\"    \"51.23\" \n",
      "         G \n",
      "\"0+119.1i\" \n"
     ]
    }
   ],
   "source": [
    "print(unlist(list_data))"
   ]
  },
  {
   "cell_type": "code",
   "execution_count": 241,
   "id": "88cc888b",
   "metadata": {
    "vscode": {
     "languageId": "r"
    }
   },
   "outputs": [
    {
     "data": {
      "text/html": [
       "'character'"
      ],
      "text/latex": [
       "'character'"
      ],
      "text/markdown": [
       "'character'"
      ],
      "text/plain": [
       "[1] \"character\""
      ]
     },
     "metadata": {},
     "output_type": "display_data"
    }
   ],
   "source": [
    "class(unlist(list_data))"
   ]
  },
  {
   "cell_type": "code",
   "execution_count": 242,
   "id": "e144dbd0",
   "metadata": {
    "vscode": {
     "languageId": "r"
    }
   },
   "outputs": [
    {
     "name": "stdout",
     "output_type": "stream",
     "text": [
      "[[1]]\n",
      "[1] 1\n",
      "\n",
      "[[2]]\n",
      "[1] 2\n",
      "\n",
      "[[3]]\n",
      "[1] 3\n",
      "\n",
      "[[4]]\n",
      "[1] 4\n",
      "\n",
      "[[5]]\n",
      "[1] 5\n",
      "\n",
      "[[6]]\n",
      "[1] \"Mon\"\n",
      "\n",
      "[[7]]\n",
      "[1] \"Tue\"\n",
      "\n",
      "[[8]]\n",
      "[1] \"Wed\"\n",
      "\n",
      "[[9]]\n",
      "[1] \"Thurs\"\n",
      "\n",
      "[[10]]\n",
      "[1] \"Fri\"\n",
      "\n"
     ]
    }
   ],
   "source": [
    "num_list <- list(1,2,3,4,5)\n",
    "day_list <- list(\"Mon\",\"Tue\",\"Wed\", \"Thurs\", \"Fri\")\n",
    "new_list <- c(num_list, day_list)\n",
    "print(new_list)"
   ]
  },
  {
   "cell_type": "code",
   "execution_count": 243,
   "id": "d4c48d74",
   "metadata": {
    "vscode": {
     "languageId": "r"
    }
   },
   "outputs": [
    {
     "name": "stdout",
     "output_type": "stream",
     "text": [
      "[[1]]\n",
      "[1] 1\n",
      "\n",
      "[[2]]\n",
      "[1] 2\n",
      "\n",
      "[[3]]\n",
      "[1] 3\n",
      "\n",
      "[[4]]\n",
      "[1] 4\n",
      "\n",
      "[[5]]\n",
      "[1] \"Mon\"\n",
      "\n",
      "[[6]]\n",
      "[1] \"Tue\"\n",
      "\n",
      "[[7]]\n",
      "[1] \"Wed\"\n",
      "\n",
      "[[8]]\n",
      "[1] \"Thurs\"\n",
      "\n",
      "[[9]]\n",
      "[1] \"Fri\"\n",
      "\n"
     ]
    }
   ],
   "source": [
    "new_list[[5]] <- NULL # Borrar opcion 1\n",
    "print(new_list)"
   ]
  },
  {
   "cell_type": "code",
   "execution_count": 244,
   "id": "8282eeca",
   "metadata": {
    "vscode": {
     "languageId": "r"
    }
   },
   "outputs": [
    {
     "name": "stdout",
     "output_type": "stream",
     "text": [
      "[[1]]\n",
      "[1] 1\n",
      "\n",
      "[[2]]\n",
      "[1] 2\n",
      "\n",
      "[[3]]\n",
      "[1] 3\n",
      "\n",
      "[[4]]\n",
      "[1] 4\n",
      "\n",
      "[[5]]\n",
      "[1] \"Tue\"\n",
      "\n",
      "[[6]]\n",
      "[1] \"Wed\"\n",
      "\n",
      "[[7]]\n",
      "[1] \"Thurs\"\n",
      "\n",
      "[[8]]\n",
      "[1] \"Fri\"\n",
      "\n"
     ]
    }
   ],
   "source": [
    "print(new_list[-5]) # Borrar opcion 2"
   ]
  },
  {
   "cell_type": "code",
   "execution_count": 245,
   "id": "dd2cbc67",
   "metadata": {
    "vscode": {
     "languageId": "r"
    }
   },
   "outputs": [
    {
     "name": "stdout",
     "output_type": "stream",
     "text": [
      "[[1]]\n",
      "[1] 1\n",
      "\n",
      "[[2]]\n",
      "[1] 2\n",
      "\n",
      "[[3]]\n",
      "[1] 3\n",
      "\n",
      "[[4]]\n",
      "[1] 4\n",
      "\n",
      "[[5]]\n",
      "[1] \"Mon\"\n",
      "\n",
      "[[6]]\n",
      "[1] \"Tue\"\n",
      "\n",
      "[[7]]\n",
      "[1] \"Wed\"\n",
      "\n",
      "[[8]]\n",
      "[1] \"Thurs\"\n",
      "\n",
      "[[9]]\n",
      "[1] \"Fri\"\n",
      "\n"
     ]
    }
   ],
   "source": [
    "print(new_list)"
   ]
  },
  {
   "cell_type": "code",
   "execution_count": 246,
   "id": "726c1ae6",
   "metadata": {
    "vscode": {
     "languageId": "r"
    }
   },
   "outputs": [
    {
     "name": "stdout",
     "output_type": "stream",
     "text": [
      "$hola\n",
      "[1] \"Hola\"\n",
      "\n",
      "[[2]]\n",
      "[1] 1\n",
      "\n",
      "[[3]]\n",
      "[1] 3\n",
      "\n",
      "$adios\n",
      "[1] 5.6\n",
      "\n"
     ]
    }
   ],
   "source": [
    "print(list(hola=\"Hola\", 1, 3, adios = 5.6))"
   ]
  },
  {
   "cell_type": "code",
   "execution_count": 247,
   "id": "74759ef6",
   "metadata": {
    "vscode": {
     "languageId": "r"
    }
   },
   "outputs": [
    {
     "name": "stdout",
     "output_type": "stream",
     "text": [
      "$hola\n",
      "[1] \"Hola\"\n",
      "\n",
      "[[2]]\n",
      "[1] 1\n",
      "\n",
      "[[3]]\n",
      "[1] 3\n",
      "\n",
      "$adios\n",
      "[1] 5.6\n",
      "\n",
      "$hola\n",
      "[1] \"Hola\"\n",
      "\n",
      "$hola\n",
      "[1] \"Hola\"\n",
      "\n",
      "[1] \"Hola\"\n"
     ]
    }
   ],
   "source": [
    "a <- list(hola=\"Hola\", 1, 3, adios = 5.6)\n",
    "print(a)\n",
    "print(a[1])\n",
    "print(a[\"hola\"])\n",
    "print(a$hola)"
   ]
  },
  {
   "cell_type": "code",
   "execution_count": 248,
   "id": "729ca2df",
   "metadata": {
    "vscode": {
     "languageId": "r"
    }
   },
   "outputs": [
    {
     "name": "stdout",
     "output_type": "stream",
     "text": [
      "[[1]]\n",
      "[1] 1\n",
      "\n",
      "[[2]]\n",
      "[1] 3\n",
      "\n",
      "$adios\n",
      "[1] 5.6\n",
      "\n"
     ]
    }
   ],
   "source": [
    "a <- list(hola=\"Hola\", 1, 3, adios = 5.6)\n",
    "a[[1]] <- NULL\n",
    "print(a)"
   ]
  },
  {
   "cell_type": "code",
   "execution_count": 249,
   "id": "3a3ca196",
   "metadata": {
    "vscode": {
     "languageId": "r"
    }
   },
   "outputs": [
    {
     "name": "stdout",
     "output_type": "stream",
     "text": [
      "[[1]]\n",
      "[1] 3\n",
      "\n",
      "$adios\n",
      "[1] 5.6\n",
      "\n"
     ]
    }
   ],
   "source": [
    "a[1] <- NULL\n",
    "print(a)"
   ]
  },
  {
   "cell_type": "code",
   "execution_count": 250,
   "id": "feee1caf",
   "metadata": {
    "vscode": {
     "languageId": "r"
    }
   },
   "outputs": [
    {
     "name": "stdout",
     "output_type": "stream",
     "text": [
      "[[1]]\n",
      "[1] 3\n",
      "\n",
      "$adios\n",
      "[1] 5.6\n",
      "\n",
      "[[3]]\n",
      "NULL\n",
      "\n",
      "[[4]]\n",
      "NULL\n",
      "\n",
      "[[5]]\n",
      "NULL\n",
      "\n",
      "[[6]]\n",
      "NULL\n",
      "\n",
      "[[7]]\n",
      "NULL\n",
      "\n",
      "[[8]]\n",
      "[1] 0\n",
      "\n"
     ]
    }
   ],
   "source": [
    "a[[8]] <- 0\n",
    "print(a)"
   ]
  },
  {
   "cell_type": "code",
   "execution_count": 251,
   "id": "158af359",
   "metadata": {
    "vscode": {
     "languageId": "r"
    }
   },
   "outputs": [
    {
     "data": {
      "text/html": [
       "8"
      ],
      "text/latex": [
       "8"
      ],
      "text/markdown": [
       "8"
      ],
      "text/plain": [
       "[1] 8"
      ]
     },
     "metadata": {},
     "output_type": "display_data"
    },
    {
     "name": "stdout",
     "output_type": "stream",
     "text": [
      "[[1]]\n",
      "[1] 3\n",
      "\n",
      "$adios\n",
      "[1] 5.6\n",
      "\n",
      "[[3]]\n",
      "NULL\n",
      "\n",
      "[[4]]\n",
      "NULL\n",
      "\n",
      "[[5]]\n",
      "NULL\n",
      "\n",
      "[[6]]\n",
      "NULL\n",
      "\n",
      "[[7]]\n",
      "[1] 9\n",
      "\n",
      "[[8]]\n",
      "[1] 0\n",
      "\n"
     ]
    }
   ],
   "source": [
    "a[7] <- list(9)\n",
    "length(a)\n",
    "print(a)"
   ]
  },
  {
   "cell_type": "code",
   "execution_count": 252,
   "id": "3a26183d",
   "metadata": {
    "vscode": {
     "languageId": "r"
    }
   },
   "outputs": [
    {
     "name": "stdout",
     "output_type": "stream",
     "text": [
      "[[1]]\n",
      "[1] 3\n",
      "\n",
      "$adios\n",
      "[1] 5.6\n",
      "\n",
      "[[3]]\n",
      "NULL\n",
      "\n",
      "[[4]]\n",
      "NULL\n",
      "\n",
      "[[5]]\n",
      "NULL\n",
      "\n",
      "[[6]]\n",
      "[1] 9\n",
      "\n",
      "[[7]]\n",
      "[1] 0\n",
      "\n"
     ]
    }
   ],
   "source": [
    "a[[6]] <- NULL # WTF?\n",
    "print(a)"
   ]
  },
  {
   "cell_type": "markdown",
   "id": "cc38e8be",
   "metadata": {},
   "source": [
    "### Ejercicios listas\n",
    "1) Crea una lista llamada `mi_lista` que contenga los siguientes elementos: un vector numérico de 15 elementos, un vector de caracteres de 5 elementos y un vector de valores lógicos de 10 elementos todos TRUE\n",
    "2) Dada la siguiente lista `my_list <- list(name=\"Fred\", wife=\"Mary\", no.children=3, child.ages=c(4,7,9))`:\n",
    "    * Imprime los nombres de todos los componentes de la lista\n",
    "    * Devuelve el segundo componente de la lista\n",
    "    * Recupera el segundo elemento del cuarto componente de la lista \n",
    "    * Imprime la longitud del cuarto componente de la lista\n",
    "    * Reemplaza el cuarto componente de la lista por un vector de 12 numeros del 1 al 12\n",
    "    * Elimina el componente `wife`\n",
    "    * Añade un componente más a la lista llamado `pepe`\n",
    "3) Convertir un vector de 30 números postivos y negativos en una lista con [1ra componente: los 2 primeros elementos, 2da componente: los 5 siguientes pero como caracteres, 3ra componente: los elementos restantes que sean valores positivos, 4ta componente: una lista de caracteres con tu nombre y apellidos (ej: \"Rocío\" \"Romero\" \"Zaliz\")]\n",
    "    * Una vez creado ponles nombre (ej: \"1ro\", \"2do\", etc)\n",
    "    * Accede al tercer elemento por su nombre\n",
    "    * Fusiona el primer y cuarto componente en un quinto componente y borra los originales\n",
    "4) Crea una nueva lista cuyos componentes sean las listas de los ejericios anteriores (OJO: Su longitude debería ser 3)\n",
    "5) Crea una nueva lista que concatene las listas de los tres primeros ejericios. ¿Qué longitud tiene?"
   ]
  },
  {
   "cell_type": "markdown",
   "id": "e8d6ff32",
   "metadata": {},
   "source": [
    "# Matrices"
   ]
  },
  {
   "cell_type": "markdown",
   "id": "b4cba868",
   "metadata": {},
   "source": [
    "* Las matrices son vectores con un atributo de dimensión. El atributo de dimensión es en sí mismo un vector entero de longitud 2 (nrow, ncol).\n",
    "* Todas las columnas de una matriz deben tener el mismo tipo (numérico, carácter, etc.) y la misma longitud."
   ]
  },
  {
   "cell_type": "code",
   "execution_count": 253,
   "id": "19fc51e6",
   "metadata": {
    "vscode": {
     "languageId": "r"
    }
   },
   "outputs": [
    {
     "name": "stdout",
     "output_type": "stream",
     "text": [
      " [1]  1  2  3  4  5  6  7  8  9 10 11 12 13 14 15 16 17 18 19 20\n",
      "     [,1] [,2] [,3] [,4]\n",
      "[1,]    1    6   11   16\n",
      "[2,]    2    7   12   17\n",
      "[3,]    3    8   13   18\n",
      "[4,]    4    9   14   19\n",
      "[5,]    5   10   15   20\n"
     ]
    },
    {
     "data": {
      "text/html": [
       "<strong>$dim</strong> = <style>\n",
       ".list-inline {list-style: none; margin:0; padding: 0}\n",
       ".list-inline>li {display: inline-block}\n",
       ".list-inline>li:not(:last-child)::after {content: \"\\00b7\"; padding: 0 .5ex}\n",
       "</style>\n",
       "<ol class=list-inline><li>5</li><li>4</li></ol>\n"
      ],
      "text/latex": [
       "\\textbf{\\$dim} = \\begin{enumerate*}\n",
       "\\item 5\n",
       "\\item 4\n",
       "\\end{enumerate*}\n"
      ],
      "text/markdown": [
       "**$dim** = 1. 5\n",
       "2. 4\n",
       "\n",
       "\n"
      ],
      "text/plain": [
       "$dim\n",
       "[1] 5 4\n"
      ]
     },
     "metadata": {},
     "output_type": "display_data"
    }
   ],
   "source": [
    "x <- 1:20\n",
    "print(x)\n",
    "dim(x) <- c(5,4)\n",
    "print(x)\n",
    "attributes(x)"
   ]
  },
  {
   "cell_type": "code",
   "execution_count": 254,
   "id": "194e4cb4-0771-450e-9f7a-2191b2cacccc",
   "metadata": {
    "vscode": {
     "languageId": "r"
    }
   },
   "outputs": [
    {
     "data": {
      "text/html": [
       "<table class=\"dataframe\">\n",
       "<caption>A matrix: 5 × 4 of type int</caption>\n",
       "<tbody>\n",
       "\t<tr><td>1</td><td> 6</td><td>11</td><td>16</td></tr>\n",
       "\t<tr><td>2</td><td> 7</td><td>12</td><td>17</td></tr>\n",
       "\t<tr><td>3</td><td> 8</td><td>13</td><td>18</td></tr>\n",
       "\t<tr><td>4</td><td> 9</td><td>14</td><td>19</td></tr>\n",
       "\t<tr><td>5</td><td>10</td><td>15</td><td>20</td></tr>\n",
       "</tbody>\n",
       "</table>\n"
      ],
      "text/latex": [
       "A matrix: 5 × 4 of type int\n",
       "\\begin{tabular}{llll}\n",
       "\t 1 &  6 & 11 & 16\\\\\n",
       "\t 2 &  7 & 12 & 17\\\\\n",
       "\t 3 &  8 & 13 & 18\\\\\n",
       "\t 4 &  9 & 14 & 19\\\\\n",
       "\t 5 & 10 & 15 & 20\\\\\n",
       "\\end{tabular}\n"
      ],
      "text/markdown": [
       "\n",
       "A matrix: 5 × 4 of type int\n",
       "\n",
       "| 1 |  6 | 11 | 16 |\n",
       "| 2 |  7 | 12 | 17 |\n",
       "| 3 |  8 | 13 | 18 |\n",
       "| 4 |  9 | 14 | 19 |\n",
       "| 5 | 10 | 15 | 20 |\n",
       "\n"
      ],
      "text/plain": [
       "     [,1] [,2] [,3] [,4]\n",
       "[1,] 1     6   11   16  \n",
       "[2,] 2     7   12   17  \n",
       "[3,] 3     8   13   18  \n",
       "[4,] 4     9   14   19  \n",
       "[5,] 5    10   15   20  "
      ]
     },
     "metadata": {},
     "output_type": "display_data"
    }
   ],
   "source": [
    "x"
   ]
  },
  {
   "cell_type": "code",
   "execution_count": 255,
   "id": "0928e61b-7b14-4108-b286-f47d914e2a62",
   "metadata": {
    "vscode": {
     "languageId": "r"
    }
   },
   "outputs": [
    {
     "data": {
      "text/html": [
       "<style>\n",
       ".list-inline {list-style: none; margin:0; padding: 0}\n",
       ".list-inline>li {display: inline-block}\n",
       ".list-inline>li:not(:last-child)::after {content: \"\\00b7\"; padding: 0 .5ex}\n",
       "</style>\n",
       "<ol class=list-inline><li>'matrix'</li><li>'array'</li></ol>\n"
      ],
      "text/latex": [
       "\\begin{enumerate*}\n",
       "\\item 'matrix'\n",
       "\\item 'array'\n",
       "\\end{enumerate*}\n"
      ],
      "text/markdown": [
       "1. 'matrix'\n",
       "2. 'array'\n",
       "\n",
       "\n"
      ],
      "text/plain": [
       "[1] \"matrix\" \"array\" "
      ]
     },
     "metadata": {},
     "output_type": "display_data"
    }
   ],
   "source": [
    "class(x)"
   ]
  },
  {
   "cell_type": "code",
   "execution_count": 256,
   "id": "5e64caff",
   "metadata": {
    "vscode": {
     "languageId": "r"
    }
   },
   "outputs": [
    {
     "data": {
      "text/html": [
       "<table class=\"dataframe\">\n",
       "<caption>A matrix: 2 × 3 of type lgl</caption>\n",
       "<tbody>\n",
       "\t<tr><td>NA</td><td>NA</td><td>NA</td></tr>\n",
       "\t<tr><td>NA</td><td>NA</td><td>NA</td></tr>\n",
       "</tbody>\n",
       "</table>\n"
      ],
      "text/latex": [
       "A matrix: 2 × 3 of type lgl\n",
       "\\begin{tabular}{lll}\n",
       "\t NA & NA & NA\\\\\n",
       "\t NA & NA & NA\\\\\n",
       "\\end{tabular}\n"
      ],
      "text/markdown": [
       "\n",
       "A matrix: 2 × 3 of type lgl\n",
       "\n",
       "| NA | NA | NA |\n",
       "| NA | NA | NA |\n",
       "\n"
      ],
      "text/plain": [
       "     [,1] [,2] [,3]\n",
       "[1,] NA   NA   NA  \n",
       "[2,] NA   NA   NA  "
      ]
     },
     "metadata": {},
     "output_type": "display_data"
    }
   ],
   "source": [
    "matrix(nrow = 2, ncol = 3)"
   ]
  },
  {
   "cell_type": "code",
   "execution_count": 257,
   "id": "5963d4c1",
   "metadata": {
    "vscode": {
     "languageId": "r"
    }
   },
   "outputs": [
    {
     "data": {
      "text/html": [
       "<table class=\"dataframe\">\n",
       "<caption>A matrix: 2 × 3 of type dbl</caption>\n",
       "<tbody>\n",
       "\t<tr><td>0</td><td>0</td><td>0</td></tr>\n",
       "\t<tr><td>0</td><td>0</td><td>0</td></tr>\n",
       "</tbody>\n",
       "</table>\n"
      ],
      "text/latex": [
       "A matrix: 2 × 3 of type dbl\n",
       "\\begin{tabular}{lll}\n",
       "\t 0 & 0 & 0\\\\\n",
       "\t 0 & 0 & 0\\\\\n",
       "\\end{tabular}\n"
      ],
      "text/markdown": [
       "\n",
       "A matrix: 2 × 3 of type dbl\n",
       "\n",
       "| 0 | 0 | 0 |\n",
       "| 0 | 0 | 0 |\n",
       "\n"
      ],
      "text/plain": [
       "     [,1] [,2] [,3]\n",
       "[1,] 0    0    0   \n",
       "[2,] 0    0    0   "
      ]
     },
     "metadata": {},
     "output_type": "display_data"
    }
   ],
   "source": [
    "matrix(0, nrow = 2, ncol = 3)"
   ]
  },
  {
   "cell_type": "code",
   "execution_count": 258,
   "id": "129faa33",
   "metadata": {
    "vscode": {
     "languageId": "r"
    }
   },
   "outputs": [
    {
     "data": {
      "text/html": [
       "<table class=\"dataframe\">\n",
       "<caption>A matrix: 2 × 3 of type chr</caption>\n",
       "<tbody>\n",
       "\t<tr><td>a</td><td>a</td><td>a</td></tr>\n",
       "\t<tr><td>a</td><td>a</td><td>a</td></tr>\n",
       "</tbody>\n",
       "</table>\n"
      ],
      "text/latex": [
       "A matrix: 2 × 3 of type chr\n",
       "\\begin{tabular}{lll}\n",
       "\t a & a & a\\\\\n",
       "\t a & a & a\\\\\n",
       "\\end{tabular}\n"
      ],
      "text/markdown": [
       "\n",
       "A matrix: 2 × 3 of type chr\n",
       "\n",
       "| a | a | a |\n",
       "| a | a | a |\n",
       "\n"
      ],
      "text/plain": [
       "     [,1] [,2] [,3]\n",
       "[1,] a    a    a   \n",
       "[2,] a    a    a   "
      ]
     },
     "metadata": {},
     "output_type": "display_data"
    }
   ],
   "source": [
    "matrix(\"a\", nrow = 2, ncol = 3)"
   ]
  },
  {
   "cell_type": "code",
   "execution_count": 259,
   "id": "ea12c294",
   "metadata": {
    "vscode": {
     "languageId": "r"
    }
   },
   "outputs": [
    {
     "name": "stderr",
     "output_type": "stream",
     "text": [
      "Warning message in matrix(1:10, nrow = 3, ncol = 4):\n",
      "“data length [10] is not a sub-multiple or multiple of the number of rows [3]”\n"
     ]
    },
    {
     "data": {
      "text/html": [
       "<table class=\"dataframe\">\n",
       "<caption>A matrix: 3 × 4 of type int</caption>\n",
       "<tbody>\n",
       "\t<tr><td>1</td><td>4</td><td>7</td><td>10</td></tr>\n",
       "\t<tr><td>2</td><td>5</td><td>8</td><td> 1</td></tr>\n",
       "\t<tr><td>3</td><td>6</td><td>9</td><td> 2</td></tr>\n",
       "</tbody>\n",
       "</table>\n"
      ],
      "text/latex": [
       "A matrix: 3 × 4 of type int\n",
       "\\begin{tabular}{llll}\n",
       "\t 1 & 4 & 7 & 10\\\\\n",
       "\t 2 & 5 & 8 &  1\\\\\n",
       "\t 3 & 6 & 9 &  2\\\\\n",
       "\\end{tabular}\n"
      ],
      "text/markdown": [
       "\n",
       "A matrix: 3 × 4 of type int\n",
       "\n",
       "| 1 | 4 | 7 | 10 |\n",
       "| 2 | 5 | 8 |  1 |\n",
       "| 3 | 6 | 9 |  2 |\n",
       "\n"
      ],
      "text/plain": [
       "     [,1] [,2] [,3] [,4]\n",
       "[1,] 1    4    7    10  \n",
       "[2,] 2    5    8     1  \n",
       "[3,] 3    6    9     2  "
      ]
     },
     "metadata": {},
     "output_type": "display_data"
    }
   ],
   "source": [
    "matrix(1:10, nrow = 3, ncol = 4)"
   ]
  },
  {
   "cell_type": "code",
   "execution_count": 260,
   "id": "f9efdfb1",
   "metadata": {
    "vscode": {
     "languageId": "r"
    }
   },
   "outputs": [
    {
     "name": "stderr",
     "output_type": "stream",
     "text": [
      "Warning message in matrix(1:10, nrow = 3, ncol = 4, byrow = TRUE):\n",
      "“data length [10] is not a sub-multiple or multiple of the number of rows [3]”\n"
     ]
    },
    {
     "data": {
      "text/html": [
       "<table class=\"dataframe\">\n",
       "<caption>A matrix: 3 × 4 of type int</caption>\n",
       "<tbody>\n",
       "\t<tr><td>1</td><td> 2</td><td>3</td><td>4</td></tr>\n",
       "\t<tr><td>5</td><td> 6</td><td>7</td><td>8</td></tr>\n",
       "\t<tr><td>9</td><td>10</td><td>1</td><td>2</td></tr>\n",
       "</tbody>\n",
       "</table>\n"
      ],
      "text/latex": [
       "A matrix: 3 × 4 of type int\n",
       "\\begin{tabular}{llll}\n",
       "\t 1 &  2 & 3 & 4\\\\\n",
       "\t 5 &  6 & 7 & 8\\\\\n",
       "\t 9 & 10 & 1 & 2\\\\\n",
       "\\end{tabular}\n"
      ],
      "text/markdown": [
       "\n",
       "A matrix: 3 × 4 of type int\n",
       "\n",
       "| 1 |  2 | 3 | 4 |\n",
       "| 5 |  6 | 7 | 8 |\n",
       "| 9 | 10 | 1 | 2 |\n",
       "\n"
      ],
      "text/plain": [
       "     [,1] [,2] [,3] [,4]\n",
       "[1,] 1     2   3    4   \n",
       "[2,] 5     6   7    8   \n",
       "[3,] 9    10   1    2   "
      ]
     },
     "metadata": {},
     "output_type": "display_data"
    }
   ],
   "source": [
    "matrix(1:10, nrow=3, ncol = 4, byrow=TRUE)"
   ]
  },
  {
   "cell_type": "code",
   "execution_count": 261,
   "id": "e4fb8ee8",
   "metadata": {
    "vscode": {
     "languageId": "r"
    }
   },
   "outputs": [
    {
     "name": "stdout",
     "output_type": "stream",
     "text": [
      "matrix                  package:base                   R Documentation\n",
      "\n",
      "_\bM_\ba_\bt_\br_\bi_\bc_\be_\bs\n",
      "\n",
      "_\bD_\be_\bs_\bc_\br_\bi_\bp_\bt_\bi_\bo_\bn:\n",
      "\n",
      "     ‘matrix’ creates a matrix from the given set of values.\n",
      "\n",
      "     ‘as.matrix’ attempts to turn its argument into a matrix.\n",
      "\n",
      "     ‘is.matrix’ tests if its argument is a (strict) matrix.\n",
      "\n",
      "_\bU_\bs_\ba_\bg_\be:\n",
      "\n",
      "     matrix(data = NA, nrow = 1, ncol = 1, byrow = FALSE,\n",
      "            dimnames = NULL)\n",
      "     \n",
      "     as.matrix(x, ...)\n",
      "     ## S3 method for class 'data.frame'\n",
      "     as.matrix(x, rownames.force = NA, ...)\n",
      "     \n",
      "     is.matrix(x)\n",
      "     \n",
      "_\bA_\br_\bg_\bu_\bm_\be_\bn_\bt_\bs:\n",
      "\n",
      "    data: an optional data vector (including a list or ‘expression’\n",
      "          vector).  Non-atomic classed R objects are coerced by\n",
      "          ‘as.vector’ and all attributes discarded.\n",
      "\n",
      "    nrow: the desired number of rows.\n",
      "\n",
      "    ncol: the desired number of columns.\n",
      "\n",
      "   byrow: logical. If ‘FALSE’ (the default) the matrix is filled by\n",
      "          columns, otherwise the matrix is filled by rows.\n",
      "\n",
      "dimnames: a ‘dimnames’ attribute for the matrix: ‘NULL’ or a ‘list’ of\n",
      "          length 2 giving the row and column names respectively.  An\n",
      "          empty list is treated as ‘NULL’, and a list of length one as\n",
      "          row names.  The list can be named, and the list names will be\n",
      "          used as names for the dimensions.\n",
      "\n",
      "       x: an R object.\n",
      "\n",
      "     ...: additional arguments to be passed to or from methods.\n",
      "\n",
      "rownames.force: logical indicating if the resulting matrix should have\n",
      "          character (rather than ‘NULL’) ‘rownames’.  The default,\n",
      "          ‘NA’, uses ‘NULL’ rownames if the data frame has ‘automatic’\n",
      "          row.names or for a zero-row data frame.\n",
      "\n",
      "_\bD_\be_\bt_\ba_\bi_\bl_\bs:\n",
      "\n",
      "     If one of ‘nrow’ or ‘ncol’ is not given, an attempt is made to\n",
      "     infer it from the length of ‘data’ and the other parameter.  If\n",
      "     neither is given, a one-column matrix is returned.\n",
      "\n",
      "     If there are too few elements in ‘data’ to fill the matrix, then\n",
      "     the elements in ‘data’ are recycled.  If ‘data’ has length zero,\n",
      "     ‘NA’ of an appropriate type is used for atomic vectors (‘0’ for\n",
      "     raw vectors) and ‘NULL’ for lists.\n",
      "\n",
      "     ‘is.matrix’ returns ‘TRUE’ if ‘x’ is a vector and has a ‘\"dim\"’\n",
      "     attribute of length 2 and ‘FALSE’ otherwise.  Note that a\n",
      "     ‘data.frame’ is *not* a matrix by this test.  The function is\n",
      "     generic: you can write methods to handle specific classes of\n",
      "     objects, see InternalMethods.\n",
      "\n",
      "     ‘as.matrix’ is a generic function.  The method for data frames\n",
      "     will return a character matrix if there is only atomic columns and\n",
      "     any non-(numeric/logical/complex) column, applying ‘as.vector’ to\n",
      "     factors and ‘format’ to other non-character columns.  Otherwise,\n",
      "     the usual coercion hierarchy (logical < integer < double <\n",
      "     complex) will be used, e.g., all-logical data frames will be\n",
      "     coerced to a logical matrix, mixed logical-integer will give a\n",
      "     integer matrix, etc.\n",
      "\n",
      "     The default method for ‘as.matrix’ calls ‘as.vector(x)’, and hence\n",
      "     e.g. coerces factors to character vectors.\n",
      "\n",
      "     When coercing a vector, it produces a one-column matrix, and\n",
      "     promotes the names (if any) of the vector to the rownames of the\n",
      "     matrix.\n",
      "\n",
      "     ‘is.matrix’ is a primitive function.\n",
      "\n",
      "     The ‘print’ method for a matrix gives a rectangular layout with\n",
      "     dimnames or indices.  For a list matrix, the entries of length not\n",
      "     one are printed in the form ‘integer,7’ indicating the type and\n",
      "     length.\n",
      "\n",
      "_\bN_\bo_\bt_\be:\n",
      "\n",
      "     If you just want to convert a vector to a matrix, something like\n",
      "\n",
      "       dim(x) <- c(nx, ny)\n",
      "       dimnames(x) <- list(row_names, col_names)\n",
      "     \n",
      "     will avoid duplicating ‘x’ _and_ preserve ‘class(x)’ which may be\n",
      "     useful, e.g., for ‘Date’ objects.\n",
      "\n",
      "_\bR_\be_\bf_\be_\br_\be_\bn_\bc_\be_\bs:\n",
      "\n",
      "     Becker, R. A., Chambers, J. M. and Wilks, A. R. (1988) _The New S\n",
      "     Language_.  Wadsworth & Brooks/Cole.\n",
      "\n",
      "_\bS_\be_\be _\bA_\bl_\bs_\bo:\n",
      "\n",
      "     ‘data.matrix’, which attempts to convert to a numeric matrix.\n",
      "\n",
      "     A matrix is the special case of a two-dimensional ‘array’.\n",
      "     ‘inherits(m, \"array\")’ is true for a ‘matrix’ ‘m’.\n",
      "\n",
      "_\bE_\bx_\ba_\bm_\bp_\bl_\be_\bs:\n",
      "\n",
      "     is.matrix(as.matrix(1:10))\n",
      "     !is.matrix(warpbreaks)  # data.frame, NOT matrix!\n",
      "     warpbreaks[1:10,]\n",
      "     as.matrix(warpbreaks[1:10,])  # using as.matrix.data.frame(.) method\n",
      "     \n",
      "     ## Example of setting row and column names\n",
      "     mdat <- matrix(c(1,2,3, 11,12,13), nrow = 2, ncol = 3, byrow = TRUE,\n",
      "                    dimnames = list(c(\"row1\", \"row2\"),\n",
      "                                    c(\"C.1\", \"C.2\", \"C.3\")))\n",
      "     mdat\n",
      "     "
     ]
    }
   ],
   "source": [
    "?matrix"
   ]
  },
  {
   "cell_type": "code",
   "execution_count": 262,
   "id": "83350b24",
   "metadata": {
    "vscode": {
     "languageId": "r"
    }
   },
   "outputs": [
    {
     "data": {
      "text/html": [
       "<table class=\"dataframe\">\n",
       "<caption>A matrix: 3 × 4 of type int</caption>\n",
       "<tbody>\n",
       "\t<tr><td>1</td><td>4</td><td>7</td><td>10</td></tr>\n",
       "\t<tr><td>2</td><td>5</td><td>8</td><td>11</td></tr>\n",
       "\t<tr><td>3</td><td>6</td><td>9</td><td>12</td></tr>\n",
       "</tbody>\n",
       "</table>\n"
      ],
      "text/latex": [
       "A matrix: 3 × 4 of type int\n",
       "\\begin{tabular}{llll}\n",
       "\t 1 & 4 & 7 & 10\\\\\n",
       "\t 2 & 5 & 8 & 11\\\\\n",
       "\t 3 & 6 & 9 & 12\\\\\n",
       "\\end{tabular}\n"
      ],
      "text/markdown": [
       "\n",
       "A matrix: 3 × 4 of type int\n",
       "\n",
       "| 1 | 4 | 7 | 10 |\n",
       "| 2 | 5 | 8 | 11 |\n",
       "| 3 | 6 | 9 | 12 |\n",
       "\n"
      ],
      "text/plain": [
       "     [,1] [,2] [,3] [,4]\n",
       "[1,] 1    4    7    10  \n",
       "[2,] 2    5    8    11  \n",
       "[3,] 3    6    9    12  "
      ]
     },
     "metadata": {},
     "output_type": "display_data"
    }
   ],
   "source": [
    "matrix(1:12, nrow = 3)"
   ]
  },
  {
   "cell_type": "code",
   "execution_count": 263,
   "id": "2b71b0f9",
   "metadata": {
    "vscode": {
     "languageId": "r"
    }
   },
   "outputs": [
    {
     "data": {
      "text/html": [
       "<table class=\"dataframe\">\n",
       "<caption>A matrix: 4 × 3 of type int</caption>\n",
       "<tbody>\n",
       "\t<tr><td>1</td><td>5</td><td> 9</td></tr>\n",
       "\t<tr><td>2</td><td>6</td><td>10</td></tr>\n",
       "\t<tr><td>3</td><td>7</td><td>11</td></tr>\n",
       "\t<tr><td>4</td><td>8</td><td>12</td></tr>\n",
       "</tbody>\n",
       "</table>\n"
      ],
      "text/latex": [
       "A matrix: 4 × 3 of type int\n",
       "\\begin{tabular}{lll}\n",
       "\t 1 & 5 &  9\\\\\n",
       "\t 2 & 6 & 10\\\\\n",
       "\t 3 & 7 & 11\\\\\n",
       "\t 4 & 8 & 12\\\\\n",
       "\\end{tabular}\n"
      ],
      "text/markdown": [
       "\n",
       "A matrix: 4 × 3 of type int\n",
       "\n",
       "| 1 | 5 |  9 |\n",
       "| 2 | 6 | 10 |\n",
       "| 3 | 7 | 11 |\n",
       "| 4 | 8 | 12 |\n",
       "\n"
      ],
      "text/plain": [
       "     [,1] [,2] [,3]\n",
       "[1,] 1    5     9  \n",
       "[2,] 2    6    10  \n",
       "[3,] 3    7    11  \n",
       "[4,] 4    8    12  "
      ]
     },
     "metadata": {},
     "output_type": "display_data"
    }
   ],
   "source": [
    "matrix(1:12, ncol=3)"
   ]
  },
  {
   "cell_type": "code",
   "execution_count": 264,
   "id": "526e7dbe",
   "metadata": {
    "vscode": {
     "languageId": "r"
    }
   },
   "outputs": [
    {
     "data": {
      "text/html": [
       "<table class=\"dataframe\">\n",
       "<caption>A matrix: 3 × 4 of type dbl</caption>\n",
       "<thead>\n",
       "\t<tr><th></th><th scope=col>1</th><th scope=col>2</th><th scope=col>x</th><th scope=col>y</th></tr>\n",
       "</thead>\n",
       "<tbody>\n",
       "\t<tr><th scope=row>A</th><td>1.1</td><td>4.1</td><td>7.1</td><td>10.1</td></tr>\n",
       "\t<tr><th scope=row>B</th><td>2.1</td><td>5.1</td><td>8.1</td><td>11.1</td></tr>\n",
       "\t<tr><th scope=row>C</th><td>3.1</td><td>6.1</td><td>9.1</td><td>12.1</td></tr>\n",
       "</tbody>\n",
       "</table>\n"
      ],
      "text/latex": [
       "A matrix: 3 × 4 of type dbl\n",
       "\\begin{tabular}{r|llll}\n",
       "  & 1 & 2 & x & y\\\\\n",
       "\\hline\n",
       "\tA & 1.1 & 4.1 & 7.1 & 10.1\\\\\n",
       "\tB & 2.1 & 5.1 & 8.1 & 11.1\\\\\n",
       "\tC & 3.1 & 6.1 & 9.1 & 12.1\\\\\n",
       "\\end{tabular}\n"
      ],
      "text/markdown": [
       "\n",
       "A matrix: 3 × 4 of type dbl\n",
       "\n",
       "| <!--/--> | 1 | 2 | x | y |\n",
       "|---|---|---|---|---|\n",
       "| A | 1.1 | 4.1 | 7.1 | 10.1 |\n",
       "| B | 2.1 | 5.1 | 8.1 | 11.1 |\n",
       "| C | 3.1 | 6.1 | 9.1 | 12.1 |\n",
       "\n"
      ],
      "text/plain": [
       "  1   2   x   y   \n",
       "A 1.1 4.1 7.1 10.1\n",
       "B 2.1 5.1 8.1 11.1\n",
       "C 3.1 6.1 9.1 12.1"
      ]
     },
     "metadata": {},
     "output_type": "display_data"
    }
   ],
   "source": [
    "m <- matrix(1.1:12.1, nrow=3, byrow=FALSE)\n",
    "rownames(m) <- c(\"A\",\"B\",\"C\")\n",
    "colnames(m) <- c(\"1\",\"2\",\"x\",\"y\")\n",
    "m"
   ]
  },
  {
   "cell_type": "code",
   "execution_count": 265,
   "id": "988e7003",
   "metadata": {
    "vscode": {
     "languageId": "r"
    }
   },
   "outputs": [
    {
     "name": "stdout",
     "output_type": "stream",
     "text": [
      "[1] 3 4\n"
     ]
    }
   ],
   "source": [
    "print(dim(m))"
   ]
  },
  {
   "cell_type": "code",
   "execution_count": 266,
   "id": "802eb0ba",
   "metadata": {
    "vscode": {
     "languageId": "r"
    }
   },
   "outputs": [
    {
     "data": {
      "text/html": [
       "12"
      ],
      "text/latex": [
       "12"
      ],
      "text/markdown": [
       "12"
      ],
      "text/plain": [
       "[1] 12"
      ]
     },
     "metadata": {},
     "output_type": "display_data"
    }
   ],
   "source": [
    "length(m)"
   ]
  },
  {
   "cell_type": "code",
   "execution_count": 267,
   "id": "9c0e4988",
   "metadata": {
    "vscode": {
     "languageId": "r"
    }
   },
   "outputs": [
    {
     "data": {
      "text/html": [
       "<table class=\"dataframe\">\n",
       "<caption>A matrix: 2 × 5 of type int</caption>\n",
       "<tbody>\n",
       "\t<tr><td> 1</td><td> 2</td><td> 3</td><td> 4</td><td> 5</td></tr>\n",
       "\t<tr><td>11</td><td>12</td><td>13</td><td>14</td><td>15</td></tr>\n",
       "</tbody>\n",
       "</table>\n"
      ],
      "text/latex": [
       "A matrix: 2 × 5 of type int\n",
       "\\begin{tabular}{lllll}\n",
       "\t  1 &  2 &  3 &  4 &  5\\\\\n",
       "\t 11 & 12 & 13 & 14 & 15\\\\\n",
       "\\end{tabular}\n"
      ],
      "text/markdown": [
       "\n",
       "A matrix: 2 × 5 of type int\n",
       "\n",
       "|  1 |  2 |  3 |  4 |  5 |\n",
       "| 11 | 12 | 13 | 14 | 15 |\n",
       "\n"
      ],
      "text/plain": [
       "     [,1] [,2] [,3] [,4] [,5]\n",
       "[1,]  1    2    3    4    5  \n",
       "[2,] 11   12   13   14   15  "
      ]
     },
     "metadata": {},
     "output_type": "display_data"
    }
   ],
   "source": [
    "rbind(1:5,11:15)"
   ]
  },
  {
   "cell_type": "code",
   "execution_count": 268,
   "id": "da754588",
   "metadata": {
    "vscode": {
     "languageId": "r"
    }
   },
   "outputs": [
    {
     "data": {
      "text/html": [
       "<table class=\"dataframe\">\n",
       "<caption>A matrix: 5 × 2 of type int</caption>\n",
       "<tbody>\n",
       "\t<tr><td>1</td><td>11</td></tr>\n",
       "\t<tr><td>2</td><td>12</td></tr>\n",
       "\t<tr><td>3</td><td>13</td></tr>\n",
       "\t<tr><td>4</td><td>14</td></tr>\n",
       "\t<tr><td>5</td><td>15</td></tr>\n",
       "</tbody>\n",
       "</table>\n"
      ],
      "text/latex": [
       "A matrix: 5 × 2 of type int\n",
       "\\begin{tabular}{ll}\n",
       "\t 1 & 11\\\\\n",
       "\t 2 & 12\\\\\n",
       "\t 3 & 13\\\\\n",
       "\t 4 & 14\\\\\n",
       "\t 5 & 15\\\\\n",
       "\\end{tabular}\n"
      ],
      "text/markdown": [
       "\n",
       "A matrix: 5 × 2 of type int\n",
       "\n",
       "| 1 | 11 |\n",
       "| 2 | 12 |\n",
       "| 3 | 13 |\n",
       "| 4 | 14 |\n",
       "| 5 | 15 |\n",
       "\n"
      ],
      "text/plain": [
       "     [,1] [,2]\n",
       "[1,] 1    11  \n",
       "[2,] 2    12  \n",
       "[3,] 3    13  \n",
       "[4,] 4    14  \n",
       "[5,] 5    15  "
      ]
     },
     "metadata": {},
     "output_type": "display_data"
    }
   ],
   "source": [
    "cbind(1:5,11:15)"
   ]
  },
  {
   "cell_type": "code",
   "execution_count": 269,
   "id": "c7397f15",
   "metadata": {
    "vscode": {
     "languageId": "r"
    }
   },
   "outputs": [
    {
     "data": {
      "text/html": [
       "<table class=\"dataframe\">\n",
       "<caption>A matrix: 3 × 4 of type dbl</caption>\n",
       "<thead>\n",
       "\t<tr><th></th><th scope=col>1</th><th scope=col>2</th><th scope=col>x</th><th scope=col>y</th></tr>\n",
       "</thead>\n",
       "<tbody>\n",
       "\t<tr><th scope=row>A</th><td>1.1</td><td>4.1</td><td>7.1</td><td>10.1</td></tr>\n",
       "\t<tr><th scope=row>B</th><td>2.1</td><td>5.1</td><td>8.1</td><td>11.1</td></tr>\n",
       "\t<tr><th scope=row>C</th><td>3.1</td><td>6.1</td><td>9.1</td><td>12.1</td></tr>\n",
       "</tbody>\n",
       "</table>\n"
      ],
      "text/latex": [
       "A matrix: 3 × 4 of type dbl\n",
       "\\begin{tabular}{r|llll}\n",
       "  & 1 & 2 & x & y\\\\\n",
       "\\hline\n",
       "\tA & 1.1 & 4.1 & 7.1 & 10.1\\\\\n",
       "\tB & 2.1 & 5.1 & 8.1 & 11.1\\\\\n",
       "\tC & 3.1 & 6.1 & 9.1 & 12.1\\\\\n",
       "\\end{tabular}\n"
      ],
      "text/markdown": [
       "\n",
       "A matrix: 3 × 4 of type dbl\n",
       "\n",
       "| <!--/--> | 1 | 2 | x | y |\n",
       "|---|---|---|---|---|\n",
       "| A | 1.1 | 4.1 | 7.1 | 10.1 |\n",
       "| B | 2.1 | 5.1 | 8.1 | 11.1 |\n",
       "| C | 3.1 | 6.1 | 9.1 | 12.1 |\n",
       "\n"
      ],
      "text/plain": [
       "  1   2   x   y   \n",
       "A 1.1 4.1 7.1 10.1\n",
       "B 2.1 5.1 8.1 11.1\n",
       "C 3.1 6.1 9.1 12.1"
      ]
     },
     "metadata": {},
     "output_type": "display_data"
    }
   ],
   "source": [
    "m"
   ]
  },
  {
   "cell_type": "code",
   "execution_count": 270,
   "id": "c5c994a3",
   "metadata": {
    "vscode": {
     "languageId": "r"
    }
   },
   "outputs": [
    {
     "data": {
      "text/html": [
       "1.1"
      ],
      "text/latex": [
       "1.1"
      ],
      "text/markdown": [
       "1.1"
      ],
      "text/plain": [
       "[1] 1.1"
      ]
     },
     "metadata": {},
     "output_type": "display_data"
    }
   ],
   "source": [
    "m[1,1]"
   ]
  },
  {
   "cell_type": "code",
   "execution_count": 271,
   "id": "71f8fe12",
   "metadata": {
    "vscode": {
     "languageId": "r"
    }
   },
   "outputs": [
    {
     "name": "stdout",
     "output_type": "stream",
     "text": [
      "   1    2    x    y \n",
      " 1.1  4.1  7.1 10.1 \n"
     ]
    }
   ],
   "source": [
    "print(m[1,])"
   ]
  },
  {
   "cell_type": "code",
   "execution_count": 272,
   "id": "ffbb6241",
   "metadata": {
    "vscode": {
     "languageId": "r"
    }
   },
   "outputs": [
    {
     "name": "stdout",
     "output_type": "stream",
     "text": [
      "  A   B   C \n",
      "1.1 2.1 3.1 \n",
      "[1] \"numeric\"\n"
     ]
    }
   ],
   "source": [
    "print(m[,1])\n",
    "print(class(m[,1]))"
   ]
  },
  {
   "cell_type": "code",
   "execution_count": 273,
   "id": "2049d868",
   "metadata": {
    "vscode": {
     "languageId": "r"
    }
   },
   "outputs": [
    {
     "name": "stdout",
     "output_type": "stream",
     "text": [
      "    1   2   x    y\n",
      "A 1.1 4.1 7.1 10.1\n",
      "B 2.1 5.1 8.1 11.1\n",
      "C 3.1 6.1 9.1 12.1\n"
     ]
    }
   ],
   "source": [
    "print(m[,])"
   ]
  },
  {
   "cell_type": "code",
   "execution_count": 274,
   "id": "28a42ac3",
   "metadata": {
    "vscode": {
     "languageId": "r"
    }
   },
   "outputs": [
    {
     "name": "stdout",
     "output_type": "stream",
     "text": [
      "[1] 6.1\n"
     ]
    }
   ],
   "source": [
    "print(m[6])"
   ]
  },
  {
   "cell_type": "code",
   "execution_count": 275,
   "id": "10187084",
   "metadata": {
    "vscode": {
     "languageId": "r"
    }
   },
   "outputs": [
    {
     "name": "stdout",
     "output_type": "stream",
     "text": [
      "    1   2   x    y\n",
      "A 1.1 4.1 7.1 10.1\n",
      "B 2.1 5.1 8.1 11.1\n",
      "C 3.1 6.1 9.1 12.1\n"
     ]
    },
    {
     "data": {
      "text/html": [
       "<table class=\"dataframe\">\n",
       "<caption>A matrix: 2 × 3 of type dbl</caption>\n",
       "<thead>\n",
       "\t<tr><th></th><th scope=col>1</th><th scope=col>2</th><th scope=col>x</th></tr>\n",
       "</thead>\n",
       "<tbody>\n",
       "\t<tr><th scope=row>A</th><td>1.1</td><td>4.1</td><td>7.1</td></tr>\n",
       "\t<tr><th scope=row>B</th><td>2.1</td><td>5.1</td><td>8.1</td></tr>\n",
       "</tbody>\n",
       "</table>\n"
      ],
      "text/latex": [
       "A matrix: 2 × 3 of type dbl\n",
       "\\begin{tabular}{r|lll}\n",
       "  & 1 & 2 & x\\\\\n",
       "\\hline\n",
       "\tA & 1.1 & 4.1 & 7.1\\\\\n",
       "\tB & 2.1 & 5.1 & 8.1\\\\\n",
       "\\end{tabular}\n"
      ],
      "text/markdown": [
       "\n",
       "A matrix: 2 × 3 of type dbl\n",
       "\n",
       "| <!--/--> | 1 | 2 | x |\n",
       "|---|---|---|---|\n",
       "| A | 1.1 | 4.1 | 7.1 |\n",
       "| B | 2.1 | 5.1 | 8.1 |\n",
       "\n"
      ],
      "text/plain": [
       "  1   2   x  \n",
       "A 1.1 4.1 7.1\n",
       "B 2.1 5.1 8.1"
      ]
     },
     "metadata": {},
     "output_type": "display_data"
    }
   ],
   "source": [
    "print(m)\n",
    "m[1:2,1:3]"
   ]
  },
  {
   "cell_type": "code",
   "execution_count": 276,
   "id": "f18c3d75",
   "metadata": {
    "scrolled": true,
    "vscode": {
     "languageId": "r"
    }
   },
   "outputs": [
    {
     "data": {
      "text/html": [
       "<table class=\"dataframe\">\n",
       "<caption>A matrix: 3 × 2 of type dbl</caption>\n",
       "<thead>\n",
       "\t<tr><th></th><th scope=col>1</th><th scope=col>x</th></tr>\n",
       "</thead>\n",
       "<tbody>\n",
       "\t<tr><th scope=row>A</th><td>1.1</td><td>7.1</td></tr>\n",
       "\t<tr><th scope=row>B</th><td>2.1</td><td>8.1</td></tr>\n",
       "\t<tr><th scope=row>C</th><td>3.1</td><td>9.1</td></tr>\n",
       "</tbody>\n",
       "</table>\n"
      ],
      "text/latex": [
       "A matrix: 3 × 2 of type dbl\n",
       "\\begin{tabular}{r|ll}\n",
       "  & 1 & x\\\\\n",
       "\\hline\n",
       "\tA & 1.1 & 7.1\\\\\n",
       "\tB & 2.1 & 8.1\\\\\n",
       "\tC & 3.1 & 9.1\\\\\n",
       "\\end{tabular}\n"
      ],
      "text/markdown": [
       "\n",
       "A matrix: 3 × 2 of type dbl\n",
       "\n",
       "| <!--/--> | 1 | x |\n",
       "|---|---|---|\n",
       "| A | 1.1 | 7.1 |\n",
       "| B | 2.1 | 8.1 |\n",
       "| C | 3.1 | 9.1 |\n",
       "\n"
      ],
      "text/plain": [
       "  1   x  \n",
       "A 1.1 7.1\n",
       "B 2.1 8.1\n",
       "C 3.1 9.1"
      ]
     },
     "metadata": {},
     "output_type": "display_data"
    }
   ],
   "source": [
    "m[,c(\"1\", \"x\")]"
   ]
  },
  {
   "cell_type": "code",
   "execution_count": 277,
   "id": "9a645285",
   "metadata": {
    "vscode": {
     "languageId": "r"
    }
   },
   "outputs": [
    {
     "data": {
      "text/html": [
       "<table class=\"dataframe\">\n",
       "<caption>A matrix: 3 × 2 of type dbl</caption>\n",
       "<thead>\n",
       "\t<tr><th></th><th scope=col>2</th><th scope=col>x</th></tr>\n",
       "</thead>\n",
       "<tbody>\n",
       "\t<tr><th scope=row>A</th><td>4.1</td><td>7.1</td></tr>\n",
       "\t<tr><th scope=row>B</th><td>5.1</td><td>8.1</td></tr>\n",
       "\t<tr><th scope=row>C</th><td>6.1</td><td>9.1</td></tr>\n",
       "</tbody>\n",
       "</table>\n"
      ],
      "text/latex": [
       "A matrix: 3 × 2 of type dbl\n",
       "\\begin{tabular}{r|ll}\n",
       "  & 2 & x\\\\\n",
       "\\hline\n",
       "\tA & 4.1 & 7.1\\\\\n",
       "\tB & 5.1 & 8.1\\\\\n",
       "\tC & 6.1 & 9.1\\\\\n",
       "\\end{tabular}\n"
      ],
      "text/markdown": [
       "\n",
       "A matrix: 3 × 2 of type dbl\n",
       "\n",
       "| <!--/--> | 2 | x |\n",
       "|---|---|---|\n",
       "| A | 4.1 | 7.1 |\n",
       "| B | 5.1 | 8.1 |\n",
       "| C | 6.1 | 9.1 |\n",
       "\n"
      ],
      "text/plain": [
       "  2   x  \n",
       "A 4.1 7.1\n",
       "B 5.1 8.1\n",
       "C 6.1 9.1"
      ]
     },
     "metadata": {},
     "output_type": "display_data"
    }
   ],
   "source": [
    "m[,c(-1,-4)]"
   ]
  },
  {
   "cell_type": "code",
   "execution_count": 278,
   "id": "92031058",
   "metadata": {
    "vscode": {
     "languageId": "r"
    }
   },
   "outputs": [
    {
     "ename": "ERROR",
     "evalue": "Error in -\"x\": argumento no válido para un operador unitario\n",
     "output_type": "error",
     "traceback": [
      "Error in -\"x\": argumento no válido para un operador unitario\nTraceback:\n"
     ]
    }
   ],
   "source": [
    "m[,-\"x\"] # Error!"
   ]
  },
  {
   "cell_type": "code",
   "execution_count": null,
   "id": "acb78728",
   "metadata": {
    "vscode": {
     "languageId": "r"
    }
   },
   "outputs": [
    {
     "name": "stdout",
     "output_type": "stream",
     "text": [
      "[1] \"1\" \"2\" \"x\" \"y\"\n"
     ]
    },
    {
     "data": {
      "text/html": [
       "TRUE"
      ],
      "text/latex": [
       "TRUE"
      ],
      "text/markdown": [
       "TRUE"
      ],
      "text/plain": [
       "[1] TRUE"
      ]
     },
     "metadata": {},
     "output_type": "display_data"
    }
   ],
   "source": [
    "print(colnames(m))\n",
    "c(\"x\") %in% colnames(m) "
   ]
  },
  {
   "cell_type": "code",
   "execution_count": null,
   "id": "20bbd7f2",
   "metadata": {
    "vscode": {
     "languageId": "r"
    }
   },
   "outputs": [
    {
     "data": {
      "text/html": [
       "<style>\n",
       ".list-inline {list-style: none; margin:0; padding: 0}\n",
       ".list-inline>li {display: inline-block}\n",
       ".list-inline>li:not(:last-child)::after {content: \"\\00b7\"; padding: 0 .5ex}\n",
       "</style>\n",
       "<ol class=list-inline><li>FALSE</li><li>FALSE</li><li>TRUE</li><li>FALSE</li></ol>\n"
      ],
      "text/latex": [
       "\\begin{enumerate*}\n",
       "\\item FALSE\n",
       "\\item FALSE\n",
       "\\item TRUE\n",
       "\\item FALSE\n",
       "\\end{enumerate*}\n"
      ],
      "text/markdown": [
       "1. FALSE\n",
       "2. FALSE\n",
       "3. TRUE\n",
       "4. FALSE\n",
       "\n",
       "\n"
      ],
      "text/plain": [
       "[1] FALSE FALSE  TRUE FALSE"
      ]
     },
     "metadata": {},
     "output_type": "display_data"
    }
   ],
   "source": [
    "colnames(m) %in% c(\"x\")"
   ]
  },
  {
   "cell_type": "code",
   "execution_count": null,
   "id": "18c7a0e0",
   "metadata": {
    "vscode": {
     "languageId": "r"
    }
   },
   "outputs": [
    {
     "name": "stdout",
     "output_type": "stream",
     "text": [
      "[1] \"1\" \"2\" \"x\" \"1\"\n"
     ]
    }
   ],
   "source": [
    "colnames(m)[4] <- \"1\"\n",
    "print(colnames(m))"
   ]
  },
  {
   "cell_type": "code",
   "execution_count": null,
   "id": "fe2507bf",
   "metadata": {
    "vscode": {
     "languageId": "r"
    }
   },
   "outputs": [
    {
     "data": {
      "text/html": [
       "<table class=\"dataframe\">\n",
       "<caption>A matrix: 3 × 3 of type dbl</caption>\n",
       "<thead>\n",
       "\t<tr><th></th><th scope=col>1</th><th scope=col>2</th><th scope=col>1</th></tr>\n",
       "</thead>\n",
       "<tbody>\n",
       "\t<tr><th scope=row>A</th><td>1.1</td><td>4.1</td><td>10.1</td></tr>\n",
       "\t<tr><th scope=row>B</th><td>2.1</td><td>5.1</td><td>11.1</td></tr>\n",
       "\t<tr><th scope=row>C</th><td>3.1</td><td>6.1</td><td>12.1</td></tr>\n",
       "</tbody>\n",
       "</table>\n"
      ],
      "text/latex": [
       "A matrix: 3 × 3 of type dbl\n",
       "\\begin{tabular}{r|lll}\n",
       "  & 1 & 2 & 1\\\\\n",
       "\\hline\n",
       "\tA & 1.1 & 4.1 & 10.1\\\\\n",
       "\tB & 2.1 & 5.1 & 11.1\\\\\n",
       "\tC & 3.1 & 6.1 & 12.1\\\\\n",
       "\\end{tabular}\n"
      ],
      "text/markdown": [
       "\n",
       "A matrix: 3 × 3 of type dbl\n",
       "\n",
       "| <!--/--> | 1 | 2 | 1 |\n",
       "|---|---|---|---|\n",
       "| A | 1.1 | 4.1 | 10.1 |\n",
       "| B | 2.1 | 5.1 | 11.1 |\n",
       "| C | 3.1 | 6.1 | 12.1 |\n",
       "\n"
      ],
      "text/plain": [
       "  1   2   1   \n",
       "A 1.1 4.1 10.1\n",
       "B 2.1 5.1 11.1\n",
       "C 3.1 6.1 12.1"
      ]
     },
     "metadata": {},
     "output_type": "display_data"
    }
   ],
   "source": [
    "m <- m[,!(colnames(m) %in% c(\"x\"))]\n",
    "m"
   ]
  },
  {
   "cell_type": "code",
   "execution_count": null,
   "id": "0932b1fa",
   "metadata": {
    "vscode": {
     "languageId": "r"
    }
   },
   "outputs": [
    {
     "name": "stdout",
     "output_type": "stream",
     "text": [
      "   1    2    1 \n",
      " 1.1  4.1 10.1 \n"
     ]
    },
    {
     "data": {
      "text/html": [
       "'numeric'"
      ],
      "text/latex": [
       "'numeric'"
      ],
      "text/markdown": [
       "'numeric'"
      ],
      "text/plain": [
       "[1] \"numeric\""
      ]
     },
     "metadata": {},
     "output_type": "display_data"
    }
   ],
   "source": [
    "print(m[1,])\n",
    "class(m[1,])"
   ]
  },
  {
   "cell_type": "code",
   "execution_count": null,
   "id": "aad71cbd",
   "metadata": {
    "vscode": {
     "languageId": "r"
    }
   },
   "outputs": [
    {
     "data": {
      "text/html": [
       "<table class=\"dataframe\">\n",
       "<caption>A matrix: 1 × 3 of type dbl</caption>\n",
       "<thead>\n",
       "\t<tr><th></th><th scope=col>1</th><th scope=col>2</th><th scope=col>1</th></tr>\n",
       "</thead>\n",
       "<tbody>\n",
       "\t<tr><th scope=row>A</th><td>1.1</td><td>4.1</td><td>10.1</td></tr>\n",
       "</tbody>\n",
       "</table>\n"
      ],
      "text/latex": [
       "A matrix: 1 × 3 of type dbl\n",
       "\\begin{tabular}{r|lll}\n",
       "  & 1 & 2 & 1\\\\\n",
       "\\hline\n",
       "\tA & 1.1 & 4.1 & 10.1\\\\\n",
       "\\end{tabular}\n"
      ],
      "text/markdown": [
       "\n",
       "A matrix: 1 × 3 of type dbl\n",
       "\n",
       "| <!--/--> | 1 | 2 | 1 |\n",
       "|---|---|---|---|\n",
       "| A | 1.1 | 4.1 | 10.1 |\n",
       "\n"
      ],
      "text/plain": [
       "  1   2   1   \n",
       "A 1.1 4.1 10.1"
      ]
     },
     "metadata": {},
     "output_type": "display_data"
    }
   ],
   "source": [
    "m[1,,drop=FALSE]"
   ]
  },
  {
   "cell_type": "code",
   "execution_count": null,
   "id": "c5059656",
   "metadata": {
    "vscode": {
     "languageId": "r"
    }
   },
   "outputs": [
    {
     "name": "stdout",
     "output_type": "stream",
     "text": [
      "   1    2    1 \n",
      " 1.1  4.1 10.1 \n"
     ]
    }
   ],
   "source": [
    "print(m[1,,drop=TRUE])"
   ]
  },
  {
   "cell_type": "code",
   "execution_count": null,
   "id": "d11c4acf",
   "metadata": {
    "vscode": {
     "languageId": "r"
    }
   },
   "outputs": [
    {
     "data": {
      "text/html": [
       "<table class=\"dataframe\">\n",
       "<caption>A matrix: 3 × 4 of type int</caption>\n",
       "<tbody>\n",
       "\t<tr><td>1</td><td> 2</td><td> 3</td><td> 4</td></tr>\n",
       "\t<tr><td>5</td><td> 6</td><td> 7</td><td> 8</td></tr>\n",
       "\t<tr><td>9</td><td>10</td><td>11</td><td>12</td></tr>\n",
       "</tbody>\n",
       "</table>\n"
      ],
      "text/latex": [
       "A matrix: 3 × 4 of type int\n",
       "\\begin{tabular}{llll}\n",
       "\t 1 &  2 &  3 &  4\\\\\n",
       "\t 5 &  6 &  7 &  8\\\\\n",
       "\t 9 & 10 & 11 & 12\\\\\n",
       "\\end{tabular}\n"
      ],
      "text/markdown": [
       "\n",
       "A matrix: 3 × 4 of type int\n",
       "\n",
       "| 1 |  2 |  3 |  4 |\n",
       "| 5 |  6 |  7 |  8 |\n",
       "| 9 | 10 | 11 | 12 |\n",
       "\n"
      ],
      "text/plain": [
       "     [,1] [,2] [,3] [,4]\n",
       "[1,] 1     2    3    4  \n",
       "[2,] 5     6    7    8  \n",
       "[3,] 9    10   11   12  "
      ]
     },
     "metadata": {},
     "output_type": "display_data"
    }
   ],
   "source": [
    "mx <- matrix(1:12, nrow=3, byrow=TRUE)\n",
    "mx"
   ]
  },
  {
   "cell_type": "code",
   "execution_count": null,
   "id": "ee966935",
   "metadata": {
    "vscode": {
     "languageId": "r"
    }
   },
   "outputs": [
    {
     "data": {
      "text/html": [
       "<table class=\"dataframe\">\n",
       "<caption>A matrix: 3 × 4 of type dbl</caption>\n",
       "<tbody>\n",
       "\t<tr><td>1</td><td>2</td><td> 3</td><td> 4</td></tr>\n",
       "\t<tr><td>5</td><td>6</td><td> 7</td><td> 8</td></tr>\n",
       "\t<tr><td>9</td><td>4</td><td>11</td><td>12</td></tr>\n",
       "</tbody>\n",
       "</table>\n"
      ],
      "text/latex": [
       "A matrix: 3 × 4 of type dbl\n",
       "\\begin{tabular}{llll}\n",
       "\t 1 & 2 &  3 &  4\\\\\n",
       "\t 5 & 6 &  7 &  8\\\\\n",
       "\t 9 & 4 & 11 & 12\\\\\n",
       "\\end{tabular}\n"
      ],
      "text/markdown": [
       "\n",
       "A matrix: 3 × 4 of type dbl\n",
       "\n",
       "| 1 | 2 |  3 |  4 |\n",
       "| 5 | 6 |  7 |  8 |\n",
       "| 9 | 4 | 11 | 12 |\n",
       "\n"
      ],
      "text/plain": [
       "     [,1] [,2] [,3] [,4]\n",
       "[1,] 1    2     3    4  \n",
       "[2,] 5    6     7    8  \n",
       "[3,] 9    4    11   12  "
      ]
     },
     "metadata": {},
     "output_type": "display_data"
    }
   ],
   "source": [
    "mx[3, 2] <- 4\n",
    "mx"
   ]
  },
  {
   "cell_type": "code",
   "execution_count": null,
   "id": "83ec3648",
   "metadata": {
    "vscode": {
     "languageId": "r"
    }
   },
   "outputs": [
    {
     "data": {
      "text/html": [
       "<table class=\"dataframe\">\n",
       "<caption>A matrix: 3 × 4 of type dbl</caption>\n",
       "<tbody>\n",
       "\t<tr><td>1</td><td>2</td><td> 3</td><td> 4</td></tr>\n",
       "\t<tr><td>1</td><td>3</td><td> 1</td><td> 3</td></tr>\n",
       "\t<tr><td>9</td><td>4</td><td>11</td><td>12</td></tr>\n",
       "</tbody>\n",
       "</table>\n"
      ],
      "text/latex": [
       "A matrix: 3 × 4 of type dbl\n",
       "\\begin{tabular}{llll}\n",
       "\t 1 & 2 &  3 &  4\\\\\n",
       "\t 1 & 3 &  1 &  3\\\\\n",
       "\t 9 & 4 & 11 & 12\\\\\n",
       "\\end{tabular}\n"
      ],
      "text/markdown": [
       "\n",
       "A matrix: 3 × 4 of type dbl\n",
       "\n",
       "| 1 | 2 |  3 |  4 |\n",
       "| 1 | 3 |  1 |  3 |\n",
       "| 9 | 4 | 11 | 12 |\n",
       "\n"
      ],
      "text/plain": [
       "     [,1] [,2] [,3] [,4]\n",
       "[1,] 1    2     3    4  \n",
       "[2,] 1    3     1    3  \n",
       "[3,] 9    4    11   12  "
      ]
     },
     "metadata": {},
     "output_type": "display_data"
    }
   ],
   "source": [
    "mx[2, ] <- c(1,3) # Recycle!\n",
    "mx"
   ]
  },
  {
   "cell_type": "code",
   "execution_count": null,
   "id": "a9de04c4",
   "metadata": {
    "vscode": {
     "languageId": "r"
    }
   },
   "outputs": [
    {
     "name": "stdout",
     "output_type": "stream",
     "text": [
      "     [,1] [,2]\n",
      "[1,]    3    4\n",
      "[2,]    1    3\n"
     ]
    },
    {
     "data": {
      "text/html": [
       "<table class=\"dataframe\">\n",
       "<caption>A matrix: 3 × 4 of type dbl</caption>\n",
       "<tbody>\n",
       "\t<tr><td>1</td><td>2</td><td> 8</td><td> 2</td></tr>\n",
       "\t<tr><td>1</td><td>3</td><td> 4</td><td> 1</td></tr>\n",
       "\t<tr><td>9</td><td>4</td><td>11</td><td>12</td></tr>\n",
       "</tbody>\n",
       "</table>\n"
      ],
      "text/latex": [
       "A matrix: 3 × 4 of type dbl\n",
       "\\begin{tabular}{llll}\n",
       "\t 1 & 2 &  8 &  2\\\\\n",
       "\t 1 & 3 &  4 &  1\\\\\n",
       "\t 9 & 4 & 11 & 12\\\\\n",
       "\\end{tabular}\n"
      ],
      "text/markdown": [
       "\n",
       "A matrix: 3 × 4 of type dbl\n",
       "\n",
       "| 1 | 2 |  8 |  2 |\n",
       "| 1 | 3 |  4 |  1 |\n",
       "| 9 | 4 | 11 | 12 |\n",
       "\n"
      ],
      "text/plain": [
       "     [,1] [,2] [,3] [,4]\n",
       "[1,] 1    2     8    2  \n",
       "[2,] 1    3     4    1  \n",
       "[3,] 9    4    11   12  "
      ]
     },
     "metadata": {},
     "output_type": "display_data"
    }
   ],
   "source": [
    "print(mx[1:2, 3:4])\n",
    "mx[1:2, 3:4] <- c(8,4,2,1)\n",
    "mx"
   ]
  },
  {
   "cell_type": "code",
   "execution_count": null,
   "id": "1987b56c-fdc9-4df9-98a1-c5badaa557db",
   "metadata": {
    "vscode": {
     "languageId": "r"
    }
   },
   "outputs": [
    {
     "name": "stdout",
     "output_type": "stream",
     "text": [
      "[1] 3 4\n"
     ]
    }
   ],
   "source": [
    "print(dim(mx))"
   ]
  },
  {
   "cell_type": "code",
   "execution_count": null,
   "id": "4eaef839-4f4d-4167-83a2-053221226b0e",
   "metadata": {
    "vscode": {
     "languageId": "r"
    }
   },
   "outputs": [
    {
     "data": {
      "text/html": [
       "3"
      ],
      "text/latex": [
       "3"
      ],
      "text/markdown": [
       "3"
      ],
      "text/plain": [
       "[1] 3"
      ]
     },
     "metadata": {},
     "output_type": "display_data"
    }
   ],
   "source": [
    "dim(mx)[1]"
   ]
  },
  {
   "cell_type": "code",
   "execution_count": null,
   "id": "2b46b114-dc1e-438a-8ca9-65eb08b7ab5f",
   "metadata": {
    "vscode": {
     "languageId": "r"
    }
   },
   "outputs": [
    {
     "data": {
      "text/html": [
       "4"
      ],
      "text/latex": [
       "4"
      ],
      "text/markdown": [
       "4"
      ],
      "text/plain": [
       "[1] 4"
      ]
     },
     "metadata": {},
     "output_type": "display_data"
    }
   ],
   "source": [
    "dim(mx)[2]"
   ]
  },
  {
   "cell_type": "code",
   "execution_count": null,
   "id": "0e8eb019",
   "metadata": {
    "vscode": {
     "languageId": "r"
    }
   },
   "outputs": [
    {
     "data": {
      "text/html": [
       "4"
      ],
      "text/latex": [
       "4"
      ],
      "text/markdown": [
       "4"
      ],
      "text/plain": [
       "[1] 4"
      ]
     },
     "metadata": {},
     "output_type": "display_data"
    }
   ],
   "source": [
    "ncol(mx)"
   ]
  },
  {
   "cell_type": "code",
   "execution_count": null,
   "id": "e420014b",
   "metadata": {
    "vscode": {
     "languageId": "r"
    }
   },
   "outputs": [
    {
     "data": {
      "text/html": [
       "3"
      ],
      "text/latex": [
       "3"
      ],
      "text/markdown": [
       "3"
      ],
      "text/plain": [
       "[1] 3"
      ]
     },
     "metadata": {},
     "output_type": "display_data"
    }
   ],
   "source": [
    "nrow(mx)"
   ]
  },
  {
   "cell_type": "code",
   "execution_count": null,
   "id": "19d9dab0",
   "metadata": {
    "vscode": {
     "languageId": "r"
    }
   },
   "outputs": [
    {
     "data": {
      "text/html": [
       "<table class=\"dataframe\">\n",
       "<caption>A matrix: 4 × 3 of type dbl</caption>\n",
       "<tbody>\n",
       "\t<tr><td>1</td><td>1</td><td> 9</td></tr>\n",
       "\t<tr><td>2</td><td>3</td><td> 4</td></tr>\n",
       "\t<tr><td>8</td><td>4</td><td>11</td></tr>\n",
       "\t<tr><td>2</td><td>1</td><td>12</td></tr>\n",
       "</tbody>\n",
       "</table>\n"
      ],
      "text/latex": [
       "A matrix: 4 × 3 of type dbl\n",
       "\\begin{tabular}{lll}\n",
       "\t 1 & 1 &  9\\\\\n",
       "\t 2 & 3 &  4\\\\\n",
       "\t 8 & 4 & 11\\\\\n",
       "\t 2 & 1 & 12\\\\\n",
       "\\end{tabular}\n"
      ],
      "text/markdown": [
       "\n",
       "A matrix: 4 × 3 of type dbl\n",
       "\n",
       "| 1 | 1 |  9 |\n",
       "| 2 | 3 |  4 |\n",
       "| 8 | 4 | 11 |\n",
       "| 2 | 1 | 12 |\n",
       "\n"
      ],
      "text/plain": [
       "     [,1] [,2] [,3]\n",
       "[1,] 1    1     9  \n",
       "[2,] 2    3     4  \n",
       "[3,] 8    4    11  \n",
       "[4,] 2    1    12  "
      ]
     },
     "metadata": {},
     "output_type": "display_data"
    }
   ],
   "source": [
    "t(mx)"
   ]
  },
  {
   "cell_type": "code",
   "execution_count": null,
   "id": "1a7e4f3b",
   "metadata": {
    "vscode": {
     "languageId": "r"
    }
   },
   "outputs": [
    {
     "data": {
      "text/html": [
       "<style>\n",
       ".list-inline {list-style: none; margin:0; padding: 0}\n",
       ".list-inline>li {display: inline-block}\n",
       ".list-inline>li:not(:last-child)::after {content: \"\\00b7\"; padding: 0 .5ex}\n",
       "</style>\n",
       "<ol class=list-inline><li>1</li><li>3</li><li>11</li></ol>\n"
      ],
      "text/latex": [
       "\\begin{enumerate*}\n",
       "\\item 1\n",
       "\\item 3\n",
       "\\item 11\n",
       "\\end{enumerate*}\n"
      ],
      "text/markdown": [
       "1. 1\n",
       "2. 3\n",
       "3. 11\n",
       "\n",
       "\n"
      ],
      "text/plain": [
       "[1]  1  3 11"
      ]
     },
     "metadata": {},
     "output_type": "display_data"
    }
   ],
   "source": [
    "diag(mx)"
   ]
  },
  {
   "cell_type": "code",
   "execution_count": null,
   "id": "dabc899e",
   "metadata": {
    "vscode": {
     "languageId": "r"
    }
   },
   "outputs": [
    {
     "data": {
      "text/html": [
       "<table class=\"dataframe\">\n",
       "<caption>A matrix: 3 × 3 of type dbl</caption>\n",
       "<thead>\n",
       "\t<tr><th></th><th scope=col>1</th><th scope=col>2</th><th scope=col>1</th></tr>\n",
       "</thead>\n",
       "<tbody>\n",
       "\t<tr><th scope=row>A</th><td>1.21</td><td>16.81</td><td>102.01</td></tr>\n",
       "\t<tr><th scope=row>B</th><td>4.41</td><td>26.01</td><td>123.21</td></tr>\n",
       "\t<tr><th scope=row>C</th><td>9.61</td><td>37.21</td><td>146.41</td></tr>\n",
       "</tbody>\n",
       "</table>\n"
      ],
      "text/latex": [
       "A matrix: 3 × 3 of type dbl\n",
       "\\begin{tabular}{r|lll}\n",
       "  & 1 & 2 & 1\\\\\n",
       "\\hline\n",
       "\tA & 1.21 & 16.81 & 102.01\\\\\n",
       "\tB & 4.41 & 26.01 & 123.21\\\\\n",
       "\tC & 9.61 & 37.21 & 146.41\\\\\n",
       "\\end{tabular}\n"
      ],
      "text/markdown": [
       "\n",
       "A matrix: 3 × 3 of type dbl\n",
       "\n",
       "| <!--/--> | 1 | 2 | 1 |\n",
       "|---|---|---|---|\n",
       "| A | 1.21 | 16.81 | 102.01 |\n",
       "| B | 4.41 | 26.01 | 123.21 |\n",
       "| C | 9.61 | 37.21 | 146.41 |\n",
       "\n"
      ],
      "text/plain": [
       "  1    2     1     \n",
       "A 1.21 16.81 102.01\n",
       "B 4.41 26.01 123.21\n",
       "C 9.61 37.21 146.41"
      ]
     },
     "metadata": {},
     "output_type": "display_data"
    }
   ],
   "source": [
    "m * m"
   ]
  },
  {
   "cell_type": "code",
   "execution_count": null,
   "id": "922420c4",
   "metadata": {
    "vscode": {
     "languageId": "r"
    }
   },
   "outputs": [
    {
     "data": {
      "text/html": [
       "<table class=\"dataframe\">\n",
       "<caption>A matrix: 3 × 3 of type dbl</caption>\n",
       "<thead>\n",
       "\t<tr><th></th><th scope=col>1</th><th scope=col>2</th><th scope=col>1</th></tr>\n",
       "</thead>\n",
       "<tbody>\n",
       "\t<tr><th scope=row>A</th><td>41.13</td><td> 87.03</td><td>178.83</td></tr>\n",
       "\t<tr><th scope=row>B</th><td>47.43</td><td>102.33</td><td>212.13</td></tr>\n",
       "\t<tr><th scope=row>C</th><td>53.73</td><td>117.63</td><td>245.43</td></tr>\n",
       "</tbody>\n",
       "</table>\n"
      ],
      "text/latex": [
       "A matrix: 3 × 3 of type dbl\n",
       "\\begin{tabular}{r|lll}\n",
       "  & 1 & 2 & 1\\\\\n",
       "\\hline\n",
       "\tA & 41.13 &  87.03 & 178.83\\\\\n",
       "\tB & 47.43 & 102.33 & 212.13\\\\\n",
       "\tC & 53.73 & 117.63 & 245.43\\\\\n",
       "\\end{tabular}\n"
      ],
      "text/markdown": [
       "\n",
       "A matrix: 3 × 3 of type dbl\n",
       "\n",
       "| <!--/--> | 1 | 2 | 1 |\n",
       "|---|---|---|---|\n",
       "| A | 41.13 |  87.03 | 178.83 |\n",
       "| B | 47.43 | 102.33 | 212.13 |\n",
       "| C | 53.73 | 117.63 | 245.43 |\n",
       "\n"
      ],
      "text/plain": [
       "  1     2      1     \n",
       "A 41.13  87.03 178.83\n",
       "B 47.43 102.33 212.13\n",
       "C 53.73 117.63 245.43"
      ]
     },
     "metadata": {},
     "output_type": "display_data"
    }
   ],
   "source": [
    "m %*% m # Multiplicación de matrices"
   ]
  },
  {
   "cell_type": "code",
   "execution_count": null,
   "id": "c3d98b38",
   "metadata": {
    "scrolled": true,
    "vscode": {
     "languageId": "r"
    }
   },
   "outputs": [
    {
     "name": "stdout",
     "output_type": "stream",
     "text": [
      "$dim\n",
      "[1] 3 3\n",
      "\n",
      "$dimnames\n",
      "$dimnames[[1]]\n",
      "[1] \"A\" \"B\" \"C\"\n",
      "\n",
      "$dimnames[[2]]\n",
      "[1] \"1\" \"2\" \"1\"\n",
      "\n",
      "\n"
     ]
    }
   ],
   "source": [
    "a <- attributes(m)\n",
    "print(a)"
   ]
  },
  {
   "cell_type": "code",
   "execution_count": null,
   "id": "6923a76f",
   "metadata": {
    "vscode": {
     "languageId": "r"
    }
   },
   "outputs": [
    {
     "data": {
      "text/html": [
       "'list'"
      ],
      "text/latex": [
       "'list'"
      ],
      "text/markdown": [
       "'list'"
      ],
      "text/plain": [
       "[1] \"list\""
      ]
     },
     "metadata": {},
     "output_type": "display_data"
    }
   ],
   "source": [
    "class(attributes(m))"
   ]
  },
  {
   "cell_type": "code",
   "execution_count": null,
   "id": "dc544347",
   "metadata": {
    "vscode": {
     "languageId": "r"
    }
   },
   "outputs": [
    {
     "data": {
      "text/html": [
       "<style>\n",
       ".list-inline {list-style: none; margin:0; padding: 0}\n",
       ".list-inline>li {display: inline-block}\n",
       ".list-inline>li:not(:last-child)::after {content: \"\\00b7\"; padding: 0 .5ex}\n",
       "</style>\n",
       "<ol class=list-inline><li>'A'</li><li>'B'</li><li>'C'</li></ol>\n"
      ],
      "text/latex": [
       "\\begin{enumerate*}\n",
       "\\item 'A'\n",
       "\\item 'B'\n",
       "\\item 'C'\n",
       "\\end{enumerate*}\n"
      ],
      "text/markdown": [
       "1. 'A'\n",
       "2. 'B'\n",
       "3. 'C'\n",
       "\n",
       "\n"
      ],
      "text/plain": [
       "[1] \"A\" \"B\" \"C\""
      ]
     },
     "metadata": {},
     "output_type": "display_data"
    }
   ],
   "source": [
    "a$dimnames[[1]]"
   ]
  },
  {
   "cell_type": "code",
   "execution_count": null,
   "id": "4d0bdc3e",
   "metadata": {
    "vscode": {
     "languageId": "r"
    }
   },
   "outputs": [
    {
     "name": "stdout",
     "output_type": "stream",
     "text": [
      "[1] 5\n"
     ]
    }
   ],
   "source": [
    "print(list_data[[1]][1])"
   ]
  },
  {
   "cell_type": "markdown",
   "id": "6ff19056",
   "metadata": {},
   "source": [
    "# Arrays"
   ]
  },
  {
   "cell_type": "markdown",
   "id": "9c20677c",
   "metadata": {},
   "source": [
    "Las matrices con más de dos dimensiones se llaman `array`"
   ]
  },
  {
   "cell_type": "code",
   "execution_count": null,
   "id": "53d8c776",
   "metadata": {
    "vscode": {
     "languageId": "r"
    }
   },
   "outputs": [
    {
     "name": "stdout",
     "output_type": "stream",
     "text": [
      ", , 1\n",
      "\n",
      "     [,1] [,2] [,3] [,4] [,5]\n",
      "[1,]    1    3    5    7    9\n",
      "[2,]    2    4    6    8   10\n",
      "\n",
      ", , 2\n",
      "\n",
      "     [,1] [,2] [,3] [,4] [,5]\n",
      "[1,]   11   13   15   17   19\n",
      "[2,]   12   14   16   18   20\n",
      "\n"
     ]
    }
   ],
   "source": [
    "x <- 1:20\n",
    "dim(x) <- c(2,5,2)\n",
    "print(x)"
   ]
  },
  {
   "cell_type": "code",
   "execution_count": null,
   "id": "9acb70e7",
   "metadata": {
    "vscode": {
     "languageId": "r"
    }
   },
   "outputs": [
    {
     "name": "stdout",
     "output_type": "stream",
     "text": [
      ", , 1\n",
      "\n",
      "     [,1] [,2] [,3] [,4]\n",
      "[1,]    1    4    7   10\n",
      "[2,]    2    5    8   11\n",
      "[3,]    3    6    9   12\n",
      "\n",
      ", , 2\n",
      "\n",
      "     [,1] [,2] [,3] [,4]\n",
      "[1,]   13   16   19   22\n",
      "[2,]   14   17   20   23\n",
      "[3,]   15   18   21   24\n",
      "\n"
     ]
    }
   ],
   "source": [
    "a <- array(1:24, dim=c(3,4,2))\n",
    "print(a) # Una matriz de 3 dimensiones"
   ]
  },
  {
   "cell_type": "code",
   "execution_count": null,
   "id": "62233f6c",
   "metadata": {
    "vscode": {
     "languageId": "r"
    }
   },
   "outputs": [
    {
     "name": "stdout",
     "output_type": "stream",
     "text": [
      ", , Matrix1\n",
      "\n",
      "     COL1 COL2 COL3 COL4\n",
      "ROW1    1    4    7   10\n",
      "ROW2    2    5    8   11\n",
      "ROW3    3    6    9   12\n",
      "\n",
      ", , Matrix2\n",
      "\n",
      "     COL1 COL2 COL3 COL4\n",
      "ROW1   13   16   19   22\n",
      "ROW2   14   17   20   23\n",
      "ROW3   15   18   21   24\n",
      "\n"
     ]
    }
   ],
   "source": [
    "a <- array(1:24, dim=c(3,4,2), \n",
    "           dimnames = list(c(\"ROW1\",\"ROW2\",\"ROW3\"), \n",
    "                           c(\"COL1\",\"COL2\",\"COL3\",\"COL4\"), \n",
    "                           c(\"Matrix1\",\"Matrix2\")))\n",
    "print(a)"
   ]
  },
  {
   "cell_type": "code",
   "execution_count": null,
   "id": "4585d265-8162-465a-846c-67ed33957d40",
   "metadata": {
    "vscode": {
     "languageId": "r"
    }
   },
   "outputs": [
    {
     "name": "stdout",
     "output_type": "stream",
     "text": [
      ", , Matrix1\n",
      "\n",
      "     COL3\n",
      "ROW1    7\n",
      "\n",
      ", , Matrix2\n",
      "\n",
      "     COL3\n",
      "ROW1   19\n",
      "\n"
     ]
    }
   ],
   "source": [
    "print(a[1,3,,drop=FALSE])"
   ]
  },
  {
   "cell_type": "code",
   "execution_count": null,
   "id": "9c918673",
   "metadata": {
    "vscode": {
     "languageId": "r"
    }
   },
   "outputs": [
    {
     "data": {
      "text/html": [
       "7"
      ],
      "text/latex": [
       "7"
      ],
      "text/markdown": [
       "7"
      ],
      "text/plain": [
       "[1] 7"
      ]
     },
     "metadata": {},
     "output_type": "display_data"
    }
   ],
   "source": [
    "a[1,3,1]"
   ]
  },
  {
   "cell_type": "code",
   "execution_count": null,
   "id": "b6f858c8",
   "metadata": {
    "vscode": {
     "languageId": "r"
    }
   },
   "outputs": [
    {
     "name": "stdout",
     "output_type": "stream",
     "text": [
      "COL1 COL2 COL3 COL4 \n",
      "  15   18   21   24 \n"
     ]
    }
   ],
   "source": [
    "print(a[3,,2])"
   ]
  },
  {
   "cell_type": "code",
   "execution_count": null,
   "id": "648af0d8",
   "metadata": {
    "vscode": {
     "languageId": "r"
    }
   },
   "outputs": [
    {
     "name": "stdout",
     "output_type": "stream",
     "text": [
      "     COL1 COL2 COL3 COL4\n",
      "ROW1   13   16   19   22\n",
      "ROW2   14   17   20   23\n",
      "ROW3   15   18   21   24\n"
     ]
    }
   ],
   "source": [
    "print(a[,,2])"
   ]
  },
  {
   "cell_type": "markdown",
   "id": "804c4b3f-a008-4230-9e71-f50cfaa23c3a",
   "metadata": {},
   "source": [
    "### Ejercicios matrices y arrays\n",
    "1) Dada la siguiente matriz:\n",
    "<pre>laberinto <- matrix(c(\n",
    "   \"O\", \"X\", \"O\", \"O\", \"O\",\n",
    "   \"O\", \"X\", \"X\", \"X\", \"O\",\n",
    "   \"O\", \"O\", \"O\", \"O\", \"X\",\n",
    "   \"X\", \"X\", \"X\", \"O\", \"X\",\n",
    "   \"O\", \"O\", \"O\", \"O\", \"O\"\n",
    " ), nrow = 5, byrow = TRUE)</pre>\n",
    "    * Indique donde están las \"X\" usando la función `which`\n",
    "    * Indique donde están las \"X\" usando la función `which` pero usando el parámetro `arr.ind`\n",
    "    * Indique cuantos valores \"X\" hay en la matriz\n",
    "    * Reemplace las \"X\" por 1 y los \"O\" por 0 y convierta la matrix en una matrix numérica\n",
    "    * Indique si la matrix es simétrica\n",
    "    * Cree una nueva matrix con los valores en las filas y columnas pares \n",
    "2) Crea una matriz que represente un Sudoku. Debe estar inicializada en NA. Luego rellenar solo un 10% de las casillas con un valor entre 1 y 9 (HINT: usa la función `sample`). No se preocupe de que sea un esquema válido (se pueden repetir valores en una fila por ejemplo... eso ya lo haremos más adelante... si acaso...)\n",
    "3) Teniendo estas dos matrices:\n",
    "<pre>matriz <- matrix(sample(1:9, 30,replace=TRUE), nrow=5)</pre>\n",
    "<pre>mascara <- matrix(sample(c(TRUE,FALSE), 30, replace=TRUE), nrow=5)</pre>\n",
    "    * Aplique la máscara a la matrix, en donde si la posicion en la máscara es FALSE entonces el resultado es 0 y sino se mantiene su valor\n",
    "    * Calcule el producto de la matriz original por la matriz modificada traspuesta (NOTA: la matriz final será de 5x5)\n",
    "4) Crea un array 5D llamado \"mi_array5D\" con las siguientes características, rellénalo con números enteros consecutivos comenzando desde 1:\n",
    "    - Tamaño de la primera dimensión: 2 elementos\n",
    "    - Tamaño de la segunda dimensión: 3 elementos\n",
    "    - Tamaño de la tercera dimensión: 4 elementos\n",
    "    - Tamaño de la cuarta dimensión: 5 elementos\n",
    "    - Tamaño de la quinta dimensión: 6 elementos\n",
    "    \n",
    "    4.1) Accede a los siguientes elementos del array:\n",
    "    * los elementos pares (analice la posición de esos valores en las 5 dimensiones)\n",
    "    * estudiando el caso anterior muestre los elementos impares sin usar ningun tipo de condicional, igualdad o desigualdad\n",
    "    \n",
    "    4.2) Redimensiona el array para que tenga:\n",
    "    - Tamaño de la primera dimensión: 6 elementos.\n",
    "    - Tamaño de la segunda dimensión: 5 elementos.\n",
    "    - Tamaño de la tercera dimensión: 4 elementos.\n",
    "    - Tamaño de la cuarta dimensión: 3 elementos.\n",
    "    - Tamaño de la quinta dimensión: 2 elementos.\n",
    "5) Supongamos que tenemos un grafo no dirigido con 6 nodos etiquetados del 1 al 6, y las siguientes aristas:\n",
    "    * Arista 1: (1, 2)\n",
    "    * Arista 2: (1, 3)\n",
    "    * Arista 3: (2, 4)\n",
    "    * Arista 4: (2, 5)\n",
    "    * Arista 5: (3, 6)\n",
    "    * Arista 6: (4, 5)\n",
    "    \n",
    "    Crea una matriz de adyacencia \"matriz_adyacencia\" en R para representar este grafo. En una matriz de adyacencia, las filas y columnas representan los nodos, y un valor 1 indica que existe una arista entre los nodos correspondientes, mientras que un valor 0 indica la ausencia de una arista.\n",
    "    * Calcula el grado del nodo 4 en el grafo. El grado de un nodo es la cantidad de aristas que inciden en él\n",
    "    * Encuentra todos los nodos adyacentes del nodo 2\n",
    "    * Cuenta la cantidad de nodos que tiene una arista hacia si mismos (self-loop)"
   ]
  },
  {
   "cell_type": "markdown",
   "id": "bfa1c74f",
   "metadata": {},
   "source": [
    "# Factores (variables nominales)\n",
    "Los factores son vectores para valores categóricos\n",
    "* Levels: refers to the input values\n",
    "* Labels: refers to the output values of the new factor"
   ]
  },
  {
   "cell_type": "code",
   "execution_count": null,
   "id": "407b307f",
   "metadata": {
    "scrolled": true,
    "vscode": {
     "languageId": "r"
    }
   },
   "outputs": [
    {
     "data": {
      "text/html": [
       "<style>\n",
       ".list-inline {list-style: none; margin:0; padding: 0}\n",
       ".list-inline>li {display: inline-block}\n",
       ".list-inline>li:not(:last-child)::after {content: \"\\00b7\"; padding: 0 .5ex}\n",
       "</style>\n",
       "<ol class=list-inline><li>0</li><li>3</li><li>2</li><li>2</li><li>1</li></ol>\n"
      ],
      "text/latex": [
       "\\begin{enumerate*}\n",
       "\\item 0\n",
       "\\item 3\n",
       "\\item 2\n",
       "\\item 2\n",
       "\\item 1\n",
       "\\end{enumerate*}\n"
      ],
      "text/markdown": [
       "1. 0\n",
       "2. 3\n",
       "3. 2\n",
       "4. 2\n",
       "5. 1\n",
       "\n",
       "\n"
      ],
      "text/plain": [
       "[1] 0 3 2 2 1"
      ]
     },
     "metadata": {},
     "output_type": "display_data"
    }
   ],
   "source": [
    "Pain <- c(0,3,2,2,1)\n",
    "Pain"
   ]
  },
  {
   "cell_type": "code",
   "execution_count": null,
   "id": "3d123fe7",
   "metadata": {
    "scrolled": true,
    "vscode": {
     "languageId": "r"
    }
   },
   "outputs": [
    {
     "data": {
      "text/html": [
       "'factor'"
      ],
      "text/latex": [
       "'factor'"
      ],
      "text/markdown": [
       "'factor'"
      ],
      "text/plain": [
       "[1] \"factor\""
      ]
     },
     "metadata": {},
     "output_type": "display_data"
    }
   ],
   "source": [
    "SevPain <- factor(c(0,3,2,2,1), levels=c(0,1,2,3), labels=c(\"none\",\"mild\",\"medium\",\"severe\"))\n",
    "class(SevPain)"
   ]
  },
  {
   "cell_type": "code",
   "execution_count": null,
   "id": "2a5d7770-38a3-4aa4-9aff-487bbe191a6c",
   "metadata": {
    "vscode": {
     "languageId": "r"
    }
   },
   "outputs": [
    {
     "data": {
      "text/html": [
       "<style>\n",
       ".list-inline {list-style: none; margin:0; padding: 0}\n",
       ".list-inline>li {display: inline-block}\n",
       ".list-inline>li:not(:last-child)::after {content: \"\\00b7\"; padding: 0 .5ex}\n",
       "</style>\n",
       "<ol class=list-inline><li>none</li><li>severe</li><li>medium</li><li>medium</li><li>mild</li></ol>\n",
       "\n",
       "<details>\n",
       "\t<summary style=display:list-item;cursor:pointer>\n",
       "\t\t<strong>Levels</strong>:\n",
       "\t</summary>\n",
       "\t<style>\n",
       "\t.list-inline {list-style: none; margin:0; padding: 0}\n",
       "\t.list-inline>li {display: inline-block}\n",
       "\t.list-inline>li:not(:last-child)::after {content: \"\\00b7\"; padding: 0 .5ex}\n",
       "\t</style>\n",
       "\t<ol class=list-inline><li>'none'</li><li>'mild'</li><li>'medium'</li><li>'severe'</li></ol>\n",
       "</details>"
      ],
      "text/latex": [
       "\\begin{enumerate*}\n",
       "\\item none\n",
       "\\item severe\n",
       "\\item medium\n",
       "\\item medium\n",
       "\\item mild\n",
       "\\end{enumerate*}\n",
       "\n",
       "\\emph{Levels}: \\begin{enumerate*}\n",
       "\\item 'none'\n",
       "\\item 'mild'\n",
       "\\item 'medium'\n",
       "\\item 'severe'\n",
       "\\end{enumerate*}\n"
      ],
      "text/markdown": [
       "1. none\n",
       "2. severe\n",
       "3. medium\n",
       "4. medium\n",
       "5. mild\n",
       "\n",
       "\n",
       "\n",
       "**Levels**: 1. 'none'\n",
       "2. 'mild'\n",
       "3. 'medium'\n",
       "4. 'severe'\n",
       "\n",
       "\n"
      ],
      "text/plain": [
       "[1] none   severe medium medium mild  \n",
       "Levels: none mild medium severe"
      ]
     },
     "metadata": {},
     "output_type": "display_data"
    }
   ],
   "source": [
    "SevPain"
   ]
  },
  {
   "cell_type": "code",
   "execution_count": null,
   "id": "ab2bd774",
   "metadata": {
    "vscode": {
     "languageId": "r"
    }
   },
   "outputs": [
    {
     "data": {
      "text/html": [
       "<style>\n",
       ".list-inline {list-style: none; margin:0; padding: 0}\n",
       ".list-inline>li {display: inline-block}\n",
       ".list-inline>li:not(:last-child)::after {content: \"\\00b7\"; padding: 0 .5ex}\n",
       "</style>\n",
       "<ol class=list-inline><li>North</li><li>East</li><li>South</li><li>South</li></ol>\n",
       "\n",
       "<details>\n",
       "\t<summary style=display:list-item;cursor:pointer>\n",
       "\t\t<strong>Levels</strong>:\n",
       "\t</summary>\n",
       "\t<style>\n",
       "\t.list-inline {list-style: none; margin:0; padding: 0}\n",
       "\t.list-inline>li {display: inline-block}\n",
       "\t.list-inline>li:not(:last-child)::after {content: \"\\00b7\"; padding: 0 .5ex}\n",
       "\t</style>\n",
       "\t<ol class=list-inline><li>'East'</li><li>'North'</li><li>'South'</li></ol>\n",
       "</details>"
      ],
      "text/latex": [
       "\\begin{enumerate*}\n",
       "\\item North\n",
       "\\item East\n",
       "\\item South\n",
       "\\item South\n",
       "\\end{enumerate*}\n",
       "\n",
       "\\emph{Levels}: \\begin{enumerate*}\n",
       "\\item 'East'\n",
       "\\item 'North'\n",
       "\\item 'South'\n",
       "\\end{enumerate*}\n"
      ],
      "text/markdown": [
       "1. North\n",
       "2. East\n",
       "3. South\n",
       "4. South\n",
       "\n",
       "\n",
       "\n",
       "**Levels**: 1. 'East'\n",
       "2. 'North'\n",
       "3. 'South'\n",
       "\n",
       "\n"
      ],
      "text/plain": [
       "[1] North East  South South\n",
       "Levels: East North South"
      ]
     },
     "metadata": {},
     "output_type": "display_data"
    }
   ],
   "source": [
    "directions <- c(\"North\", \"East\", \"South\", \"South\")\n",
    "factor(directions)"
   ]
  },
  {
   "cell_type": "code",
   "execution_count": null,
   "id": "bcc289be",
   "metadata": {
    "vscode": {
     "languageId": "r"
    }
   },
   "outputs": [
    {
     "data": {
      "text/html": [
       "<style>\n",
       ".list-inline {list-style: none; margin:0; padding: 0}\n",
       ".list-inline>li {display: inline-block}\n",
       ".list-inline>li:not(:last-child)::after {content: \"\\00b7\"; padding: 0 .5ex}\n",
       "</style>\n",
       "<ol class=list-inline><li>N</li><li>E</li><li>S</li><li>S</li></ol>\n",
       "\n",
       "<details>\n",
       "\t<summary style=display:list-item;cursor:pointer>\n",
       "\t\t<strong>Levels</strong>:\n",
       "\t</summary>\n",
       "\t<style>\n",
       "\t.list-inline {list-style: none; margin:0; padding: 0}\n",
       "\t.list-inline>li {display: inline-block}\n",
       "\t.list-inline>li:not(:last-child)::after {content: \"\\00b7\"; padding: 0 .5ex}\n",
       "\t</style>\n",
       "\t<ol class=list-inline><li>'N'</li><li>'E'</li><li>'S'</li><li>'W'</li></ol>\n",
       "</details>"
      ],
      "text/latex": [
       "\\begin{enumerate*}\n",
       "\\item N\n",
       "\\item E\n",
       "\\item S\n",
       "\\item S\n",
       "\\end{enumerate*}\n",
       "\n",
       "\\emph{Levels}: \\begin{enumerate*}\n",
       "\\item 'N'\n",
       "\\item 'E'\n",
       "\\item 'S'\n",
       "\\item 'W'\n",
       "\\end{enumerate*}\n"
      ],
      "text/markdown": [
       "1. N\n",
       "2. E\n",
       "3. S\n",
       "4. S\n",
       "\n",
       "\n",
       "\n",
       "**Levels**: 1. 'N'\n",
       "2. 'E'\n",
       "3. 'S'\n",
       "4. 'W'\n",
       "\n",
       "\n"
      ],
      "text/plain": [
       "[1] N E S S\n",
       "Levels: N E S W"
      ]
     },
     "metadata": {},
     "output_type": "display_data"
    }
   ],
   "source": [
    "factor(directions, levels=c(\"North\", \"East\", \"South\", \"West\"), labels=c(\"N\",\"E\",\"S\",\"W\"))"
   ]
  },
  {
   "cell_type": "code",
   "execution_count": null,
   "id": "909a6021",
   "metadata": {
    "vscode": {
     "languageId": "r"
    }
   },
   "outputs": [
    {
     "data": {
      "text/plain": [
       "fdir\n",
       "N E S W \n",
       "1 1 2 0 "
      ]
     },
     "metadata": {},
     "output_type": "display_data"
    }
   ],
   "source": [
    "fdir <- factor(directions, levels=c(\"North\", \"East\", \"South\", \"West\"), labels=c(\"N\",\"E\",\"S\",\"W\"))\n",
    "table(fdir)"
   ]
  },
  {
   "cell_type": "code",
   "execution_count": null,
   "id": "e3d24d78",
   "metadata": {
    "vscode": {
     "languageId": "r"
    }
   },
   "outputs": [
    {
     "data": {
      "text/plain": [
       "\n",
       " East North South \n",
       "    1     1     2 "
      ]
     },
     "metadata": {},
     "output_type": "display_data"
    }
   ],
   "source": [
    "table(factor(directions))"
   ]
  },
  {
   "cell_type": "code",
   "execution_count": null,
   "id": "24f168a8",
   "metadata": {
    "vscode": {
     "languageId": "r"
    }
   },
   "outputs": [
    {
     "name": "stdout",
     "output_type": "stream",
     "text": [
      "[1] E E S S\n",
      "Levels: N E S W\n",
      "[1] E E S S\n",
      "Levels: N E S W\n"
     ]
    },
    {
     "name": "stderr",
     "output_type": "stream",
     "text": [
      "Warning message in `[<-.factor`(`*tmp*`, 1, value = \"pepe\"):\n",
      "“invalid factor level, NA generated”\n"
     ]
    },
    {
     "name": "stdout",
     "output_type": "stream",
     "text": [
      "[1] <NA> E    S    S   \n",
      "Levels: N E S W\n"
     ]
    }
   ],
   "source": [
    "print(fdir)\n",
    "fdir[1] <- \"E\"\n",
    "print(fdir)\n",
    "fdir[1] <- \"pepe\"\n",
    "print(fdir)"
   ]
  },
  {
   "cell_type": "code",
   "execution_count": null,
   "id": "93eab3ec",
   "metadata": {
    "vscode": {
     "languageId": "r"
    }
   },
   "outputs": [
    {
     "name": "stdout",
     "output_type": "stream",
     "text": [
      "[1] pepe E    S    S   \n",
      "Levels: N E S W pepe\n"
     ]
    }
   ],
   "source": [
    "levels(fdir) <- c(levels(fdir), \"pepe\")\n",
    "fdir[1] <- \"pepe\"\n",
    "print(fdir)"
   ]
  },
  {
   "cell_type": "markdown",
   "id": "08380dc3",
   "metadata": {},
   "source": [
    "# Factores ordenados (variables ordinales)"
   ]
  },
  {
   "cell_type": "code",
   "execution_count": null,
   "id": "15401aa2",
   "metadata": {
    "vscode": {
     "languageId": "r"
    }
   },
   "outputs": [
    {
     "name": "stdout",
     "output_type": "stream",
     "text": [
      "[1] Lo  Hi  Med Med Hi \n",
      "Levels: Lo < Med < Hi\n"
     ]
    }
   ],
   "source": [
    "status <- c(\"Lo\", \"Hi\", \"Med\", \"Med\", \"Hi\")\n",
    "ordered.status <- factor(status, levels=c(\"Lo\", \"Med\", \"Hi\"), ordered=TRUE)\n",
    "print(ordered.status)"
   ]
  },
  {
   "cell_type": "code",
   "execution_count": null,
   "id": "df8aa7bb",
   "metadata": {
    "vscode": {
     "languageId": "r"
    }
   },
   "outputs": [
    {
     "data": {
      "text/plain": [
       "status\n",
       " Hi  Lo Med \n",
       "  2   1   2 "
      ]
     },
     "metadata": {},
     "output_type": "display_data"
    }
   ],
   "source": [
    "table(status)"
   ]
  },
  {
   "cell_type": "code",
   "execution_count": null,
   "id": "236dbc01",
   "metadata": {
    "vscode": {
     "languageId": "r"
    }
   },
   "outputs": [
    {
     "data": {
      "text/plain": [
       "ordered.status\n",
       " Lo Med  Hi \n",
       "  1   2   2 "
      ]
     },
     "metadata": {},
     "output_type": "display_data"
    }
   ],
   "source": [
    "table(ordered.status)"
   ]
  },
  {
   "cell_type": "markdown",
   "id": "7fca595b",
   "metadata": {},
   "source": [
    " ### WTF?"
   ]
  },
  {
   "cell_type": "code",
   "execution_count": null,
   "id": "b3c4264c",
   "metadata": {
    "vscode": {
     "languageId": "r"
    }
   },
   "outputs": [
    {
     "name": "stdout",
     "output_type": "stream",
     "text": [
      "[1] 101 6   8   9   6   103\n",
      "Levels: 6 8 9 101 103\n"
     ]
    },
    {
     "data": {
      "text/html": [
       "FALSE"
      ],
      "text/latex": [
       "FALSE"
      ],
      "text/markdown": [
       "FALSE"
      ],
      "text/plain": [
       "[1] FALSE"
      ]
     },
     "metadata": {},
     "output_type": "display_data"
    }
   ],
   "source": [
    "f <- factor(c(101,6,8,9,6,103))\n",
    "print(f)\n",
    "is.numeric(f)"
   ]
  },
  {
   "cell_type": "code",
   "execution_count": null,
   "id": "b86f9cbb",
   "metadata": {
    "vscode": {
     "languageId": "r"
    }
   },
   "outputs": [
    {
     "data": {
      "text/html": [
       "<style>\n",
       ".list-inline {list-style: none; margin:0; padding: 0}\n",
       ".list-inline>li {display: inline-block}\n",
       ".list-inline>li:not(:last-child)::after {content: \"\\00b7\"; padding: 0 .5ex}\n",
       "</style>\n",
       "<ol class=list-inline><li>4</li><li>1</li><li>2</li><li>3</li><li>1</li><li>5</li></ol>\n"
      ],
      "text/latex": [
       "\\begin{enumerate*}\n",
       "\\item 4\n",
       "\\item 1\n",
       "\\item 2\n",
       "\\item 3\n",
       "\\item 1\n",
       "\\item 5\n",
       "\\end{enumerate*}\n"
      ],
      "text/markdown": [
       "1. 4\n",
       "2. 1\n",
       "3. 2\n",
       "4. 3\n",
       "5. 1\n",
       "6. 5\n",
       "\n",
       "\n"
      ],
      "text/plain": [
       "[1] 4 1 2 3 1 5"
      ]
     },
     "metadata": {},
     "output_type": "display_data"
    }
   ],
   "source": [
    "as.numeric(f)"
   ]
  },
  {
   "cell_type": "code",
   "execution_count": null,
   "id": "66dcce0f",
   "metadata": {
    "vscode": {
     "languageId": "r"
    }
   },
   "outputs": [
    {
     "data": {
      "text/html": [
       "<style>\n",
       ".list-inline {list-style: none; margin:0; padding: 0}\n",
       ".list-inline>li {display: inline-block}\n",
       ".list-inline>li:not(:last-child)::after {content: \"\\00b7\"; padding: 0 .5ex}\n",
       "</style>\n",
       "<ol class=list-inline><li>6</li><li>8</li><li>9</li><li>101</li><li>103</li></ol>\n"
      ],
      "text/latex": [
       "\\begin{enumerate*}\n",
       "\\item 6\n",
       "\\item 8\n",
       "\\item 9\n",
       "\\item 101\n",
       "\\item 103\n",
       "\\end{enumerate*}\n"
      ],
      "text/markdown": [
       "1. 6\n",
       "2. 8\n",
       "3. 9\n",
       "4. 101\n",
       "5. 103\n",
       "\n",
       "\n"
      ],
      "text/plain": [
       "[1]   6   8   9 101 103"
      ]
     },
     "metadata": {},
     "output_type": "display_data"
    }
   ],
   "source": [
    "as.numeric(levels(f))"
   ]
  },
  {
   "cell_type": "code",
   "execution_count": null,
   "id": "1c891773",
   "metadata": {
    "vscode": {
     "languageId": "r"
    }
   },
   "outputs": [
    {
     "data": {
      "text/html": [
       "<style>\n",
       ".list-inline {list-style: none; margin:0; padding: 0}\n",
       ".list-inline>li {display: inline-block}\n",
       ".list-inline>li:not(:last-child)::after {content: \"\\00b7\"; padding: 0 .5ex}\n",
       "</style>\n",
       "<ol class=list-inline><li>101</li><li>6</li><li>8</li><li>9</li><li>6</li><li>103</li></ol>\n"
      ],
      "text/latex": [
       "\\begin{enumerate*}\n",
       "\\item 101\n",
       "\\item 6\n",
       "\\item 8\n",
       "\\item 9\n",
       "\\item 6\n",
       "\\item 103\n",
       "\\end{enumerate*}\n"
      ],
      "text/markdown": [
       "1. 101\n",
       "2. 6\n",
       "3. 8\n",
       "4. 9\n",
       "5. 6\n",
       "6. 103\n",
       "\n",
       "\n"
      ],
      "text/plain": [
       "[1] 101   6   8   9   6 103"
      ]
     },
     "metadata": {},
     "output_type": "display_data"
    }
   ],
   "source": [
    "as.numeric(levels(f))[as.numeric(f)]"
   ]
  },
  {
   "cell_type": "code",
   "execution_count": null,
   "id": "cccfbbc8",
   "metadata": {
    "vscode": {
     "languageId": "r"
    }
   },
   "outputs": [
    {
     "name": "stdout",
     "output_type": "stream",
     "text": [
      "[1] \"101\" \"6\"   \"8\"   \"9\"   \"6\"   \"103\"\n"
     ]
    },
    {
     "data": {
      "text/html": [
       "<style>\n",
       ".list-inline {list-style: none; margin:0; padding: 0}\n",
       ".list-inline>li {display: inline-block}\n",
       ".list-inline>li:not(:last-child)::after {content: \"\\00b7\"; padding: 0 .5ex}\n",
       "</style>\n",
       "<ol class=list-inline><li>101</li><li>6</li><li>8</li><li>9</li><li>6</li><li>103</li></ol>\n"
      ],
      "text/latex": [
       "\\begin{enumerate*}\n",
       "\\item 101\n",
       "\\item 6\n",
       "\\item 8\n",
       "\\item 9\n",
       "\\item 6\n",
       "\\item 103\n",
       "\\end{enumerate*}\n"
      ],
      "text/markdown": [
       "1. 101\n",
       "2. 6\n",
       "3. 8\n",
       "4. 9\n",
       "5. 6\n",
       "6. 103\n",
       "\n",
       "\n"
      ],
      "text/plain": [
       "[1] 101   6   8   9   6 103"
      ]
     },
     "metadata": {},
     "output_type": "display_data"
    }
   ],
   "source": [
    "print(as.character(f))\n",
    "as.numeric(as.character(f))"
   ]
  },
  {
   "cell_type": "code",
   "execution_count": null,
   "id": "51c458af",
   "metadata": {
    "vscode": {
     "languageId": "r"
    }
   },
   "outputs": [
    {
     "name": "stdout",
     "output_type": "stream",
     "text": [
      "[1] AA BA CA\n",
      "Levels: AA BA CA\n"
     ]
    },
    {
     "data": {
      "text/html": [
       "<style>\n",
       ".list-inline {list-style: none; margin:0; padding: 0}\n",
       ".list-inline>li {display: inline-block}\n",
       ".list-inline>li:not(:last-child)::after {content: \"\\00b7\"; padding: 0 .5ex}\n",
       "</style>\n",
       "<ol class=list-inline><li>AA</li><li>BA</li></ol>\n",
       "\n",
       "<details>\n",
       "\t<summary style=display:list-item;cursor:pointer>\n",
       "\t\t<strong>Levels</strong>:\n",
       "\t</summary>\n",
       "\t<style>\n",
       "\t.list-inline {list-style: none; margin:0; padding: 0}\n",
       "\t.list-inline>li {display: inline-block}\n",
       "\t.list-inline>li:not(:last-child)::after {content: \"\\00b7\"; padding: 0 .5ex}\n",
       "\t</style>\n",
       "\t<ol class=list-inline><li>'AA'</li><li>'BA'</li><li>'CA'</li></ol>\n",
       "</details>"
      ],
      "text/latex": [
       "\\begin{enumerate*}\n",
       "\\item AA\n",
       "\\item BA\n",
       "\\end{enumerate*}\n",
       "\n",
       "\\emph{Levels}: \\begin{enumerate*}\n",
       "\\item 'AA'\n",
       "\\item 'BA'\n",
       "\\item 'CA'\n",
       "\\end{enumerate*}\n"
      ],
      "text/markdown": [
       "1. AA\n",
       "2. BA\n",
       "\n",
       "\n",
       "\n",
       "**Levels**: 1. 'AA'\n",
       "2. 'BA'\n",
       "3. 'CA'\n",
       "\n",
       "\n"
      ],
      "text/plain": [
       "[1] AA BA\n",
       "Levels: AA BA CA"
      ]
     },
     "metadata": {},
     "output_type": "display_data"
    }
   ],
   "source": [
    "ff <- factor(c(\"AA\", \"BA\", \"CA\"))\n",
    "print(ff)\n",
    "ff[1:2]"
   ]
  },
  {
   "cell_type": "code",
   "execution_count": null,
   "id": "10b674f8",
   "metadata": {
    "vscode": {
     "languageId": "r"
    }
   },
   "outputs": [
    {
     "data": {
      "text/html": [
       "<style>\n",
       ".list-inline {list-style: none; margin:0; padding: 0}\n",
       ".list-inline>li {display: inline-block}\n",
       ".list-inline>li:not(:last-child)::after {content: \"\\00b7\"; padding: 0 .5ex}\n",
       "</style>\n",
       "<ol class=list-inline><li>AA</li><li>BA</li></ol>\n",
       "\n",
       "<details>\n",
       "\t<summary style=display:list-item;cursor:pointer>\n",
       "\t\t<strong>Levels</strong>:\n",
       "\t</summary>\n",
       "\t<style>\n",
       "\t.list-inline {list-style: none; margin:0; padding: 0}\n",
       "\t.list-inline>li {display: inline-block}\n",
       "\t.list-inline>li:not(:last-child)::after {content: \"\\00b7\"; padding: 0 .5ex}\n",
       "\t</style>\n",
       "\t<ol class=list-inline><li>'AA'</li><li>'BA'</li></ol>\n",
       "</details>"
      ],
      "text/latex": [
       "\\begin{enumerate*}\n",
       "\\item AA\n",
       "\\item BA\n",
       "\\end{enumerate*}\n",
       "\n",
       "\\emph{Levels}: \\begin{enumerate*}\n",
       "\\item 'AA'\n",
       "\\item 'BA'\n",
       "\\end{enumerate*}\n"
      ],
      "text/markdown": [
       "1. AA\n",
       "2. BA\n",
       "\n",
       "\n",
       "\n",
       "**Levels**: 1. 'AA'\n",
       "2. 'BA'\n",
       "\n",
       "\n"
      ],
      "text/plain": [
       "[1] AA BA\n",
       "Levels: AA BA"
      ]
     },
     "metadata": {},
     "output_type": "display_data"
    }
   ],
   "source": [
    "ff[1:2, drop=TRUE] # Borrar opcion 1"
   ]
  },
  {
   "cell_type": "code",
   "execution_count": null,
   "id": "20b43a0a",
   "metadata": {
    "vscode": {
     "languageId": "r"
    }
   },
   "outputs": [
    {
     "data": {
      "text/html": [
       "<style>\n",
       ".list-inline {list-style: none; margin:0; padding: 0}\n",
       ".list-inline>li {display: inline-block}\n",
       ".list-inline>li:not(:last-child)::after {content: \"\\00b7\"; padding: 0 .5ex}\n",
       "</style>\n",
       "<ol class=list-inline><li>AA</li><li>BA</li></ol>\n",
       "\n",
       "<details>\n",
       "\t<summary style=display:list-item;cursor:pointer>\n",
       "\t\t<strong>Levels</strong>:\n",
       "\t</summary>\n",
       "\t<style>\n",
       "\t.list-inline {list-style: none; margin:0; padding: 0}\n",
       "\t.list-inline>li {display: inline-block}\n",
       "\t.list-inline>li:not(:last-child)::after {content: \"\\00b7\"; padding: 0 .5ex}\n",
       "\t</style>\n",
       "\t<ol class=list-inline><li>'AA'</li><li>'BA'</li></ol>\n",
       "</details>"
      ],
      "text/latex": [
       "\\begin{enumerate*}\n",
       "\\item AA\n",
       "\\item BA\n",
       "\\end{enumerate*}\n",
       "\n",
       "\\emph{Levels}: \\begin{enumerate*}\n",
       "\\item 'AA'\n",
       "\\item 'BA'\n",
       "\\end{enumerate*}\n"
      ],
      "text/markdown": [
       "1. AA\n",
       "2. BA\n",
       "\n",
       "\n",
       "\n",
       "**Levels**: 1. 'AA'\n",
       "2. 'BA'\n",
       "\n",
       "\n"
      ],
      "text/plain": [
       "[1] AA BA\n",
       "Levels: AA BA"
      ]
     },
     "metadata": {},
     "output_type": "display_data"
    }
   ],
   "source": [
    "factor(ff[1:2]) # \"Borrar\" opcion 2"
   ]
  },
  {
   "cell_type": "code",
   "execution_count": null,
   "id": "82f80baf",
   "metadata": {
    "vscode": {
     "languageId": "r"
    }
   },
   "outputs": [],
   "source": [
    "f1 <- factor(c(\"AA\", \"BA\", NA, \"NA\"))\n",
    "f1"
   ]
  },
  {
   "cell_type": "code",
   "execution_count": null,
   "id": "dd691181",
   "metadata": {
    "vscode": {
     "languageId": "r"
    }
   },
   "outputs": [],
   "source": [
    "f1 <- factor(c(\"AA\", \"BA\", NA, \"NA\"), exclude=NULL)\n",
    "f1"
   ]
  },
  {
   "cell_type": "markdown",
   "id": "e325be1d",
   "metadata": {},
   "source": [
    "### Ejercicios factores\n",
    "1) Crea un factor llamado \"fact_puntuacion\" que contenga puntuaciones de 1 al 5 para 1000 productos. Utiliza la función `summary()` para obtener un resumen de la distribución de puntuaciones. ¿Qué puedes deducir del tipo de aleatoriedad usada en `sample`? ¿Es normal, uniforme, ...?\n",
    "2) Crea un factor ordenado para edades entre 0 y 100 de 100 personas. Utiliza la función `cut` para generar 3 nieveles separados. Ahora reetiqueta el factor como \"joven\", \"adulto\" o \"anciano\". Muestra la frecuencia de cada nivel.\n",
    "3) Crea un factor para el siguiente vector teniendo en cuenta que los niveles posibles son todas las letras de la \"A\" a la \"Z\":\n",
    "<pre>v <- c(\"A\",\"I\", \"I\", \"J\", \"A\", \"Z\", \"X\")</pre>\n",
    "    * Modifica una de las \"I\" por una \"F\"\n",
    "    * Agrega una nueva \"A\" en última posición\n",
    "    * Indica las letras que aparecen en el factor ordenadas por su frecuencia, empezando con la menos frecuente"
   ]
  },
  {
   "cell_type": "markdown",
   "id": "681b13b8",
   "metadata": {},
   "source": [
    "# Data Frames\n",
    "\n",
    "Un marco de datos o data frame es una matriz generalizada, donde las diferentes columnas pueden tener diferentes tipos de datos (numérico, carácter, factor, etc.).\n",
    "\n",
    "Por ejemplo, vectores y/o factores de la misma longitud que están relacionados \"transversalmente\", de forma que los datos en la misma posición proceden de la misma unidad experimental (sujeto, animal, etc.)."
   ]
  },
  {
   "cell_type": "code",
   "execution_count": null,
   "id": "9c37f911",
   "metadata": {
    "vscode": {
     "languageId": "r"
    }
   },
   "outputs": [
    {
     "data": {
      "text/html": [
       "<table class=\"dataframe\">\n",
       "<caption>A data.frame: 4 × 2</caption>\n",
       "<thead>\n",
       "\t<tr><th scope=col>age</th><th scope=col>sex</th></tr>\n",
       "\t<tr><th scope=col>&lt;dbl&gt;</th><th scope=col>&lt;fct&gt;</th></tr>\n",
       "</thead>\n",
       "<tbody>\n",
       "\t<tr><td>31</td><td>F</td></tr>\n",
       "\t<tr><td>32</td><td>M</td></tr>\n",
       "\t<tr><td>40</td><td>M</td></tr>\n",
       "\t<tr><td>50</td><td>F</td></tr>\n",
       "</tbody>\n",
       "</table>\n"
      ],
      "text/latex": [
       "A data.frame: 4 × 2\n",
       "\\begin{tabular}{ll}\n",
       " age & sex\\\\\n",
       " <dbl> & <fct>\\\\\n",
       "\\hline\n",
       "\t 31 & F\\\\\n",
       "\t 32 & M\\\\\n",
       "\t 40 & M\\\\\n",
       "\t 50 & F\\\\\n",
       "\\end{tabular}\n"
      ],
      "text/markdown": [
       "\n",
       "A data.frame: 4 × 2\n",
       "\n",
       "| age &lt;dbl&gt; | sex &lt;fct&gt; |\n",
       "|---|---|\n",
       "| 31 | F |\n",
       "| 32 | M |\n",
       "| 40 | M |\n",
       "| 50 | F |\n",
       "\n"
      ],
      "text/plain": [
       "  age sex\n",
       "1 31  F  \n",
       "2 32  M  \n",
       "3 40  M  \n",
       "4 50  F  "
      ]
     },
     "metadata": {},
     "output_type": "display_data"
    }
   ],
   "source": [
    "S <- as.factor(c(\"F\",\"M\",\"M\",\"F\"))\n",
    "Patients <- data.frame(age=c(31,32,40,50), sex=S)\n",
    "Patients"
   ]
  },
  {
   "cell_type": "code",
   "execution_count": null,
   "id": "225eeb70",
   "metadata": {
    "vscode": {
     "languageId": "r"
    }
   },
   "outputs": [
    {
     "data": {
      "text/html": [
       "<table class=\"dataframe\">\n",
       "<caption>A data.frame: 3 × 3</caption>\n",
       "<thead>\n",
       "\t<tr><th scope=col>employee</th><th scope=col>salary</th><th scope=col>startdate</th></tr>\n",
       "\t<tr><th scope=col>&lt;chr&gt;</th><th scope=col>&lt;dbl&gt;</th><th scope=col>&lt;date&gt;</th></tr>\n",
       "</thead>\n",
       "<tbody>\n",
       "\t<tr><td>John Doe  </td><td>21000</td><td>2010-11-01</td></tr>\n",
       "\t<tr><td>Peter Gynn</td><td>23400</td><td>2008-03-25</td></tr>\n",
       "\t<tr><td>Jolie Hope</td><td>26800</td><td>2007-03-14</td></tr>\n",
       "</tbody>\n",
       "</table>\n"
      ],
      "text/latex": [
       "A data.frame: 3 × 3\n",
       "\\begin{tabular}{lll}\n",
       " employee & salary & startdate\\\\\n",
       " <chr> & <dbl> & <date>\\\\\n",
       "\\hline\n",
       "\t John Doe   & 21000 & 2010-11-01\\\\\n",
       "\t Peter Gynn & 23400 & 2008-03-25\\\\\n",
       "\t Jolie Hope & 26800 & 2007-03-14\\\\\n",
       "\\end{tabular}\n"
      ],
      "text/markdown": [
       "\n",
       "A data.frame: 3 × 3\n",
       "\n",
       "| employee &lt;chr&gt; | salary &lt;dbl&gt; | startdate &lt;date&gt; |\n",
       "|---|---|---|\n",
       "| John Doe   | 21000 | 2010-11-01 |\n",
       "| Peter Gynn | 23400 | 2008-03-25 |\n",
       "| Jolie Hope | 26800 | 2007-03-14 |\n",
       "\n"
      ],
      "text/plain": [
       "  employee   salary startdate \n",
       "1 John Doe   21000  2010-11-01\n",
       "2 Peter Gynn 23400  2008-03-25\n",
       "3 Jolie Hope 26800  2007-03-14"
      ]
     },
     "metadata": {},
     "output_type": "display_data"
    }
   ],
   "source": [
    "employee <- c(\"John Doe\",\"Peter Gynn\",\"Jolie Hope\")\n",
    "salary <- c(21000, 23400, 26800)\n",
    "startdate <- as.Date(c(\"2010-11-1\",\"2008-3-25\",\"2007-3-14\"))\n",
    "\n",
    "employ.data <- data.frame(employee, salary, startdate)\n",
    "employ.data"
   ]
  },
  {
   "cell_type": "code",
   "execution_count": null,
   "id": "42326b93",
   "metadata": {
    "vscode": {
     "languageId": "r"
    }
   },
   "outputs": [
    {
     "name": "stdout",
     "output_type": "stream",
     "text": [
      "'data.frame':\t3 obs. of  3 variables:\n",
      " $ employee : chr  \"John Doe\" \"Peter Gynn\" \"Jolie Hope\"\n",
      " $ salary   : num  21000 23400 26800\n",
      " $ startdate: Date, format: \"2010-11-01\" \"2008-03-25\" ...\n"
     ]
    }
   ],
   "source": [
    "str(employ.data)"
   ]
  },
  {
   "cell_type": "code",
   "execution_count": null,
   "id": "710ecca3",
   "metadata": {
    "vscode": {
     "languageId": "r"
    }
   },
   "outputs": [
    {
     "data": {
      "text/html": [
       "<table class=\"dataframe\">\n",
       "<caption>A data.frame: 3 × 3</caption>\n",
       "<thead>\n",
       "\t<tr><th scope=col>employee</th><th scope=col>salary</th><th scope=col>startdate</th></tr>\n",
       "\t<tr><th scope=col>&lt;fct&gt;</th><th scope=col>&lt;dbl&gt;</th><th scope=col>&lt;date&gt;</th></tr>\n",
       "</thead>\n",
       "<tbody>\n",
       "\t<tr><td>John Doe  </td><td>21000</td><td>2010-11-01</td></tr>\n",
       "\t<tr><td>Peter Gynn</td><td>23400</td><td>2008-03-25</td></tr>\n",
       "\t<tr><td>Jolie Hope</td><td>26800</td><td>2007-03-14</td></tr>\n",
       "</tbody>\n",
       "</table>\n"
      ],
      "text/latex": [
       "A data.frame: 3 × 3\n",
       "\\begin{tabular}{lll}\n",
       " employee & salary & startdate\\\\\n",
       " <fct> & <dbl> & <date>\\\\\n",
       "\\hline\n",
       "\t John Doe   & 21000 & 2010-11-01\\\\\n",
       "\t Peter Gynn & 23400 & 2008-03-25\\\\\n",
       "\t Jolie Hope & 26800 & 2007-03-14\\\\\n",
       "\\end{tabular}\n"
      ],
      "text/markdown": [
       "\n",
       "A data.frame: 3 × 3\n",
       "\n",
       "| employee &lt;fct&gt; | salary &lt;dbl&gt; | startdate &lt;date&gt; |\n",
       "|---|---|---|\n",
       "| John Doe   | 21000 | 2010-11-01 |\n",
       "| Peter Gynn | 23400 | 2008-03-25 |\n",
       "| Jolie Hope | 26800 | 2007-03-14 |\n",
       "\n"
      ],
      "text/plain": [
       "  employee   salary startdate \n",
       "1 John Doe   21000  2010-11-01\n",
       "2 Peter Gynn 23400  2008-03-25\n",
       "3 Jolie Hope 26800  2007-03-14"
      ]
     },
     "metadata": {},
     "output_type": "display_data"
    }
   ],
   "source": [
    "employ.data <- data.frame(employee, salary, startdate, stringsAsFactors=TRUE)\n",
    "employ.data"
   ]
  },
  {
   "cell_type": "code",
   "execution_count": null,
   "id": "e4295518",
   "metadata": {
    "vscode": {
     "languageId": "r"
    }
   },
   "outputs": [
    {
     "data": {
      "text/html": [
       "3"
      ],
      "text/latex": [
       "3"
      ],
      "text/markdown": [
       "3"
      ],
      "text/plain": [
       "[1] 3"
      ]
     },
     "metadata": {},
     "output_type": "display_data"
    }
   ],
   "source": [
    "ncol(employ.data)"
   ]
  },
  {
   "cell_type": "code",
   "execution_count": null,
   "id": "22efd69f",
   "metadata": {
    "vscode": {
     "languageId": "r"
    }
   },
   "outputs": [
    {
     "data": {
      "text/html": [
       "3"
      ],
      "text/latex": [
       "3"
      ],
      "text/markdown": [
       "3"
      ],
      "text/plain": [
       "[1] 3"
      ]
     },
     "metadata": {},
     "output_type": "display_data"
    }
   ],
   "source": [
    "nrow(employ.data)"
   ]
  },
  {
   "cell_type": "code",
   "execution_count": null,
   "id": "cdef6ff9",
   "metadata": {
    "vscode": {
     "languageId": "r"
    }
   },
   "outputs": [
    {
     "data": {
      "text/html": [
       "3"
      ],
      "text/latex": [
       "3"
      ],
      "text/markdown": [
       "3"
      ],
      "text/plain": [
       "[1] 3"
      ]
     },
     "metadata": {},
     "output_type": "display_data"
    }
   ],
   "source": [
    "length(employ.data) # ¡Cuidado! -> Nunmero de filas"
   ]
  },
  {
   "cell_type": "code",
   "execution_count": null,
   "id": "22a9f113",
   "metadata": {
    "vscode": {
     "languageId": "r"
    }
   },
   "outputs": [
    {
     "data": {
      "text/plain": [
       "       employee     salary        startdate         \n",
       " John Doe  :1   Min.   :21000   Min.   :2007-03-14  \n",
       " Jolie Hope:1   1st Qu.:22200   1st Qu.:2007-09-18  \n",
       " Peter Gynn:1   Median :23400   Median :2008-03-25  \n",
       "                Mean   :23733   Mean   :2008-10-02  \n",
       "                3rd Qu.:25100   3rd Qu.:2009-07-13  \n",
       "                Max.   :26800   Max.   :2010-11-01  "
      ]
     },
     "metadata": {},
     "output_type": "display_data"
    }
   ],
   "source": [
    "summary(employ.data)"
   ]
  },
  {
   "cell_type": "code",
   "execution_count": null,
   "id": "db23df3b",
   "metadata": {
    "vscode": {
     "languageId": "r"
    }
   },
   "outputs": [
    {
     "name": "stdout",
     "output_type": "stream",
     "text": [
      "[1] John Doe   Peter Gynn Jolie Hope\n",
      "Levels: John Doe Jolie Hope Peter Gynn\n"
     ]
    },
    {
     "data": {
      "text/html": [
       "John Doe\n",
       "<details>\n",
       "\t<summary style=display:list-item;cursor:pointer>\n",
       "\t\t<strong>Levels</strong>:\n",
       "\t</summary>\n",
       "\t<style>\n",
       "\t.list-inline {list-style: none; margin:0; padding: 0}\n",
       "\t.list-inline>li {display: inline-block}\n",
       "\t.list-inline>li:not(:last-child)::after {content: \"\\00b7\"; padding: 0 .5ex}\n",
       "\t</style>\n",
       "\t<ol class=list-inline><li>'John Doe'</li><li>'Jolie Hope'</li><li>'Peter Gynn'</li></ol>\n",
       "</details>"
      ],
      "text/latex": [
       "John Doe\n",
       "\\emph{Levels}: \\begin{enumerate*}\n",
       "\\item 'John Doe'\n",
       "\\item 'Jolie Hope'\n",
       "\\item 'Peter Gynn'\n",
       "\\end{enumerate*}\n"
      ],
      "text/markdown": [
       "John Doe\n",
       "**Levels**: 1. 'John Doe'\n",
       "2. 'Jolie Hope'\n",
       "3. 'Peter Gynn'\n",
       "\n",
       "\n"
      ],
      "text/plain": [
       "[1] John Doe\n",
       "Levels: John Doe Jolie Hope Peter Gynn"
      ]
     },
     "metadata": {},
     "output_type": "display_data"
    }
   ],
   "source": [
    "print(employ.data[,1])\n",
    "employ.data[1,1]"
   ]
  },
  {
   "cell_type": "code",
   "execution_count": null,
   "id": "1b489437",
   "metadata": {
    "vscode": {
     "languageId": "r"
    }
   },
   "outputs": [
    {
     "data": {
      "text/html": [
       "<table class=\"dataframe\">\n",
       "<caption>A data.frame: 1 × 3</caption>\n",
       "<thead>\n",
       "\t<tr><th></th><th scope=col>employee</th><th scope=col>salary</th><th scope=col>startdate</th></tr>\n",
       "\t<tr><th></th><th scope=col>&lt;fct&gt;</th><th scope=col>&lt;dbl&gt;</th><th scope=col>&lt;date&gt;</th></tr>\n",
       "</thead>\n",
       "<tbody>\n",
       "\t<tr><th scope=row>1</th><td>John Doe</td><td>21000</td><td>2010-11-01</td></tr>\n",
       "</tbody>\n",
       "</table>\n"
      ],
      "text/latex": [
       "A data.frame: 1 × 3\n",
       "\\begin{tabular}{r|lll}\n",
       "  & employee & salary & startdate\\\\\n",
       "  & <fct> & <dbl> & <date>\\\\\n",
       "\\hline\n",
       "\t1 & John Doe & 21000 & 2010-11-01\\\\\n",
       "\\end{tabular}\n"
      ],
      "text/markdown": [
       "\n",
       "A data.frame: 1 × 3\n",
       "\n",
       "| <!--/--> | employee &lt;fct&gt; | salary &lt;dbl&gt; | startdate &lt;date&gt; |\n",
       "|---|---|---|---|\n",
       "| 1 | John Doe | 21000 | 2010-11-01 |\n",
       "\n"
      ],
      "text/plain": [
       "  employee salary startdate \n",
       "1 John Doe 21000  2010-11-01"
      ]
     },
     "metadata": {},
     "output_type": "display_data"
    }
   ],
   "source": [
    "employ.data[1,]"
   ]
  },
  {
   "cell_type": "code",
   "execution_count": null,
   "id": "f44820e7",
   "metadata": {
    "vscode": {
     "languageId": "r"
    }
   },
   "outputs": [
    {
     "data": {
      "text/html": [
       "<style>\n",
       ".list-inline {list-style: none; margin:0; padding: 0}\n",
       ".list-inline>li {display: inline-block}\n",
       ".list-inline>li:not(:last-child)::after {content: \"\\00b7\"; padding: 0 .5ex}\n",
       "</style>\n",
       "<ol class=list-inline><li>John Doe</li><li>Peter Gynn</li><li>Jolie Hope</li></ol>\n",
       "\n",
       "<details>\n",
       "\t<summary style=display:list-item;cursor:pointer>\n",
       "\t\t<strong>Levels</strong>:\n",
       "\t</summary>\n",
       "\t<style>\n",
       "\t.list-inline {list-style: none; margin:0; padding: 0}\n",
       "\t.list-inline>li {display: inline-block}\n",
       "\t.list-inline>li:not(:last-child)::after {content: \"\\00b7\"; padding: 0 .5ex}\n",
       "\t</style>\n",
       "\t<ol class=list-inline><li>'John Doe'</li><li>'Jolie Hope'</li><li>'Peter Gynn'</li></ol>\n",
       "</details>"
      ],
      "text/latex": [
       "\\begin{enumerate*}\n",
       "\\item John Doe\n",
       "\\item Peter Gynn\n",
       "\\item Jolie Hope\n",
       "\\end{enumerate*}\n",
       "\n",
       "\\emph{Levels}: \\begin{enumerate*}\n",
       "\\item 'John Doe'\n",
       "\\item 'Jolie Hope'\n",
       "\\item 'Peter Gynn'\n",
       "\\end{enumerate*}\n"
      ],
      "text/markdown": [
       "1. John Doe\n",
       "2. Peter Gynn\n",
       "3. Jolie Hope\n",
       "\n",
       "\n",
       "\n",
       "**Levels**: 1. 'John Doe'\n",
       "2. 'Jolie Hope'\n",
       "3. 'Peter Gynn'\n",
       "\n",
       "\n"
      ],
      "text/plain": [
       "[1] John Doe   Peter Gynn Jolie Hope\n",
       "Levels: John Doe Jolie Hope Peter Gynn"
      ]
     },
     "metadata": {},
     "output_type": "display_data"
    }
   ],
   "source": [
    "employ.data[,1]"
   ]
  },
  {
   "cell_type": "code",
   "execution_count": null,
   "id": "80c9bffc",
   "metadata": {
    "vscode": {
     "languageId": "r"
    }
   },
   "outputs": [
    {
     "data": {
      "text/html": [
       "<style>\n",
       ".list-inline {list-style: none; margin:0; padding: 0}\n",
       ".list-inline>li {display: inline-block}\n",
       ".list-inline>li:not(:last-child)::after {content: \"\\00b7\"; padding: 0 .5ex}\n",
       "</style>\n",
       "<ol class=list-inline><li>John Doe</li><li>Peter Gynn</li><li>Jolie Hope</li></ol>\n",
       "\n",
       "<details>\n",
       "\t<summary style=display:list-item;cursor:pointer>\n",
       "\t\t<strong>Levels</strong>:\n",
       "\t</summary>\n",
       "\t<style>\n",
       "\t.list-inline {list-style: none; margin:0; padding: 0}\n",
       "\t.list-inline>li {display: inline-block}\n",
       "\t.list-inline>li:not(:last-child)::after {content: \"\\00b7\"; padding: 0 .5ex}\n",
       "\t</style>\n",
       "\t<ol class=list-inline><li>'John Doe'</li><li>'Jolie Hope'</li><li>'Peter Gynn'</li></ol>\n",
       "</details>"
      ],
      "text/latex": [
       "\\begin{enumerate*}\n",
       "\\item John Doe\n",
       "\\item Peter Gynn\n",
       "\\item Jolie Hope\n",
       "\\end{enumerate*}\n",
       "\n",
       "\\emph{Levels}: \\begin{enumerate*}\n",
       "\\item 'John Doe'\n",
       "\\item 'Jolie Hope'\n",
       "\\item 'Peter Gynn'\n",
       "\\end{enumerate*}\n"
      ],
      "text/markdown": [
       "1. John Doe\n",
       "2. Peter Gynn\n",
       "3. Jolie Hope\n",
       "\n",
       "\n",
       "\n",
       "**Levels**: 1. 'John Doe'\n",
       "2. 'Jolie Hope'\n",
       "3. 'Peter Gynn'\n",
       "\n",
       "\n"
      ],
      "text/plain": [
       "[1] John Doe   Peter Gynn Jolie Hope\n",
       "Levels: John Doe Jolie Hope Peter Gynn"
      ]
     },
     "metadata": {},
     "output_type": "display_data"
    }
   ],
   "source": [
    "employ.data$employee"
   ]
  },
  {
   "cell_type": "code",
   "execution_count": null,
   "id": "20740e85",
   "metadata": {
    "vscode": {
     "languageId": "r"
    }
   },
   "outputs": [
    {
     "data": {
      "text/html": [
       "'character'"
      ],
      "text/latex": [
       "'character'"
      ],
      "text/markdown": [
       "'character'"
      ],
      "text/plain": [
       "[1] \"character\""
      ]
     },
     "metadata": {},
     "output_type": "display_data"
    }
   ],
   "source": [
    "class(c(\"John Doe\", 50000, \"1990-11-1\"))"
   ]
  },
  {
   "cell_type": "code",
   "execution_count": null,
   "id": "54f0474a",
   "metadata": {
    "vscode": {
     "languageId": "r"
    }
   },
   "outputs": [
    {
     "data": {
      "text/html": [
       "<table class=\"dataframe\">\n",
       "<caption>A data.frame: 4 × 3</caption>\n",
       "<thead>\n",
       "\t<tr><th scope=col>employee</th><th scope=col>salary</th><th scope=col>startdate</th></tr>\n",
       "\t<tr><th scope=col>&lt;fct&gt;</th><th scope=col>&lt;chr&gt;</th><th scope=col>&lt;date&gt;</th></tr>\n",
       "</thead>\n",
       "<tbody>\n",
       "\t<tr><td>John Doe  </td><td>21000</td><td>2010-11-01</td></tr>\n",
       "\t<tr><td>Peter Gynn</td><td>23400</td><td>2008-03-25</td></tr>\n",
       "\t<tr><td>Jolie Hope</td><td>26800</td><td>2007-03-14</td></tr>\n",
       "\t<tr><td>John Doe  </td><td>50000</td><td>1990-11-01</td></tr>\n",
       "</tbody>\n",
       "</table>\n"
      ],
      "text/latex": [
       "A data.frame: 4 × 3\n",
       "\\begin{tabular}{lll}\n",
       " employee & salary & startdate\\\\\n",
       " <fct> & <chr> & <date>\\\\\n",
       "\\hline\n",
       "\t John Doe   & 21000 & 2010-11-01\\\\\n",
       "\t Peter Gynn & 23400 & 2008-03-25\\\\\n",
       "\t Jolie Hope & 26800 & 2007-03-14\\\\\n",
       "\t John Doe   & 50000 & 1990-11-01\\\\\n",
       "\\end{tabular}\n"
      ],
      "text/markdown": [
       "\n",
       "A data.frame: 4 × 3\n",
       "\n",
       "| employee &lt;fct&gt; | salary &lt;chr&gt; | startdate &lt;date&gt; |\n",
       "|---|---|---|\n",
       "| John Doe   | 21000 | 2010-11-01 |\n",
       "| Peter Gynn | 23400 | 2008-03-25 |\n",
       "| Jolie Hope | 26800 | 2007-03-14 |\n",
       "| John Doe   | 50000 | 1990-11-01 |\n",
       "\n"
      ],
      "text/plain": [
       "  employee   salary startdate \n",
       "1 John Doe   21000  2010-11-01\n",
       "2 Peter Gynn 23400  2008-03-25\n",
       "3 Jolie Hope 26800  2007-03-14\n",
       "4 John Doe   50000  1990-11-01"
      ]
     },
     "metadata": {},
     "output_type": "display_data"
    }
   ],
   "source": [
    "rbind(employ.data, c(\"John Doe\", 50000, \"1990-11-1\"))"
   ]
  },
  {
   "cell_type": "code",
   "execution_count": null,
   "id": "fae8c5fa",
   "metadata": {
    "vscode": {
     "languageId": "r"
    }
   },
   "outputs": [
    {
     "name": "stderr",
     "output_type": "stream",
     "text": [
      "Warning message in `[<-.factor`(`*tmp*`, ri, value = \"Rocio Romero\"):\n",
      "“invalid factor level, NA generated”\n"
     ]
    },
    {
     "data": {
      "text/html": [
       "<table class=\"dataframe\">\n",
       "<caption>A data.frame: 4 × 3</caption>\n",
       "<thead>\n",
       "\t<tr><th scope=col>employee</th><th scope=col>salary</th><th scope=col>startdate</th></tr>\n",
       "\t<tr><th scope=col>&lt;fct&gt;</th><th scope=col>&lt;chr&gt;</th><th scope=col>&lt;date&gt;</th></tr>\n",
       "</thead>\n",
       "<tbody>\n",
       "\t<tr><td>John Doe  </td><td>21000</td><td>2010-11-01</td></tr>\n",
       "\t<tr><td>Peter Gynn</td><td>23400</td><td>2008-03-25</td></tr>\n",
       "\t<tr><td>Jolie Hope</td><td>26800</td><td>2007-03-14</td></tr>\n",
       "\t<tr><td>NA        </td><td>50000</td><td>1990-11-01</td></tr>\n",
       "</tbody>\n",
       "</table>\n"
      ],
      "text/latex": [
       "A data.frame: 4 × 3\n",
       "\\begin{tabular}{lll}\n",
       " employee & salary & startdate\\\\\n",
       " <fct> & <chr> & <date>\\\\\n",
       "\\hline\n",
       "\t John Doe   & 21000 & 2010-11-01\\\\\n",
       "\t Peter Gynn & 23400 & 2008-03-25\\\\\n",
       "\t Jolie Hope & 26800 & 2007-03-14\\\\\n",
       "\t NA         & 50000 & 1990-11-01\\\\\n",
       "\\end{tabular}\n"
      ],
      "text/markdown": [
       "\n",
       "A data.frame: 4 × 3\n",
       "\n",
       "| employee &lt;fct&gt; | salary &lt;chr&gt; | startdate &lt;date&gt; |\n",
       "|---|---|---|\n",
       "| John Doe   | 21000 | 2010-11-01 |\n",
       "| Peter Gynn | 23400 | 2008-03-25 |\n",
       "| Jolie Hope | 26800 | 2007-03-14 |\n",
       "| NA         | 50000 | 1990-11-01 |\n",
       "\n"
      ],
      "text/plain": [
       "  employee   salary startdate \n",
       "1 John Doe   21000  2010-11-01\n",
       "2 Peter Gynn 23400  2008-03-25\n",
       "3 Jolie Hope 26800  2007-03-14\n",
       "4 NA         50000  1990-11-01"
      ]
     },
     "metadata": {},
     "output_type": "display_data"
    }
   ],
   "source": [
    "rbind(employ.data, c(\"Rocio Romero\", 50000, \"1990-11-1\")) # Error"
   ]
  },
  {
   "cell_type": "code",
   "execution_count": null,
   "id": "4a075bb0",
   "metadata": {
    "vscode": {
     "languageId": "r"
    }
   },
   "outputs": [
    {
     "name": "stderr",
     "output_type": "stream",
     "text": [
      "Warning message in rbind(deparse.level, ...):\n",
      "“El número de columnas del resultado, 3, no es un múltiplo de la longitud del vector 2 del argumento 2”\n"
     ]
    },
    {
     "ename": "ERROR",
     "evalue": "Error in charToDate(x): la cadena de caracteres no está en un formato estándar inequívoco\n",
     "output_type": "error",
     "traceback": [
      "Error in charToDate(x): la cadena de caracteres no está en un formato estándar inequívoco\nTraceback:\n",
      "1. rbind(deparse.level, ...)",
      "2. `[<-`(`*tmp*`, ri, value = \"John Doe\")",
      "3. `[<-.Date`(`*tmp*`, ri, value = \"John Doe\")",
      "4. as.Date(value)",
      "5. as.Date.character(value)",
      "6. charToDate(x)",
      "7. stop(\"character string is not in a standard unambiguous format\")",
      "8. .handleSimpleError(function (cnd) \n . {\n .     watcher$capture_plot_and_output()\n .     cnd <- sanitize_call(cnd)\n .     watcher$push(cnd)\n .     switch(on_error, continue = invokeRestart(\"eval_continue\"), \n .         stop = invokeRestart(\"eval_stop\"), error = NULL)\n . }, \"la cadena de caracteres no está en un formato estándar inequívoco\", \n .     base::quote(charToDate(x)))"
     ]
    }
   ],
   "source": [
    "rbind(employ.data, c(\"John Doe\", 50000)) # Error"
   ]
  },
  {
   "cell_type": "code",
   "execution_count": null,
   "id": "9d222db5",
   "metadata": {
    "vscode": {
     "languageId": "r"
    }
   },
   "outputs": [
    {
     "data": {
      "text/html": [
       "<table class=\"dataframe\">\n",
       "<caption>A data.frame: 10 × 3</caption>\n",
       "<thead>\n",
       "\t<tr><th scope=col>year</th><th scope=col>country</th><th scope=col>valor1</th></tr>\n",
       "\t<tr><th scope=col>&lt;dbl&gt;</th><th scope=col>&lt;chr&gt;</th><th scope=col>&lt;dbl&gt;</th></tr>\n",
       "</thead>\n",
       "<tbody>\n",
       "\t<tr><td>2000</td><td>Argentina</td><td>100</td></tr>\n",
       "\t<tr><td>2020</td><td>Brasil   </td><td>120</td></tr>\n",
       "\t<tr><td>2021</td><td>Chile    </td><td> 90</td></tr>\n",
       "\t<tr><td>2021</td><td>Colombia </td><td>110</td></tr>\n",
       "\t<tr><td>2022</td><td>Ecuador  </td><td> 80</td></tr>\n",
       "\t<tr><td>2022</td><td>Perú     </td><td>105</td></tr>\n",
       "\t<tr><td>2023</td><td>México   </td><td>115</td></tr>\n",
       "\t<tr><td>2023</td><td>Uruguay  </td><td> 95</td></tr>\n",
       "\t<tr><td>2024</td><td>Paraguay </td><td>125</td></tr>\n",
       "\t<tr><td>2024</td><td>Bolivia  </td><td> 75</td></tr>\n",
       "</tbody>\n",
       "</table>\n"
      ],
      "text/latex": [
       "A data.frame: 10 × 3\n",
       "\\begin{tabular}{lll}\n",
       " year & country & valor1\\\\\n",
       " <dbl> & <chr> & <dbl>\\\\\n",
       "\\hline\n",
       "\t 2000 & Argentina & 100\\\\\n",
       "\t 2020 & Brasil    & 120\\\\\n",
       "\t 2021 & Chile     &  90\\\\\n",
       "\t 2021 & Colombia  & 110\\\\\n",
       "\t 2022 & Ecuador   &  80\\\\\n",
       "\t 2022 & Perú      & 105\\\\\n",
       "\t 2023 & México    & 115\\\\\n",
       "\t 2023 & Uruguay   &  95\\\\\n",
       "\t 2024 & Paraguay  & 125\\\\\n",
       "\t 2024 & Bolivia   &  75\\\\\n",
       "\\end{tabular}\n"
      ],
      "text/markdown": [
       "\n",
       "A data.frame: 10 × 3\n",
       "\n",
       "| year &lt;dbl&gt; | country &lt;chr&gt; | valor1 &lt;dbl&gt; |\n",
       "|---|---|---|\n",
       "| 2000 | Argentina | 100 |\n",
       "| 2020 | Brasil    | 120 |\n",
       "| 2021 | Chile     |  90 |\n",
       "| 2021 | Colombia  | 110 |\n",
       "| 2022 | Ecuador   |  80 |\n",
       "| 2022 | Perú      | 105 |\n",
       "| 2023 | México    | 115 |\n",
       "| 2023 | Uruguay   |  95 |\n",
       "| 2024 | Paraguay  | 125 |\n",
       "| 2024 | Bolivia   |  75 |\n",
       "\n"
      ],
      "text/plain": [
       "   year country   valor1\n",
       "1  2000 Argentina 100   \n",
       "2  2020 Brasil    120   \n",
       "3  2021 Chile      90   \n",
       "4  2021 Colombia  110   \n",
       "5  2022 Ecuador    80   \n",
       "6  2022 Perú      105   \n",
       "7  2023 México    115   \n",
       "8  2023 Uruguay    95   \n",
       "9  2024 Paraguay  125   \n",
       "10 2024 Bolivia    75   "
      ]
     },
     "metadata": {},
     "output_type": "display_data"
    }
   ],
   "source": [
    "# Crear los datos para el dataframe\n",
    "year <- c(2000, 2020, 2021, 2021, 2022, 2022, 2023, 2023, 2024, 2024)\n",
    "country <- c(\"Argentina\", \"Brasil\", \"Chile\", \"Colombia\", \"Ecuador\", \"Perú\", \"México\", \"Uruguay\", \"Paraguay\", \"Bolivia\")\n",
    "valor1 <- c(100, 120, 90, 110, 80, 105, 115, 95, 125, 75)\n",
    "\n",
    "# Crear el dataframe\n",
    "data1 <- data.frame(year, country, valor1)\n",
    "data1"
   ]
  },
  {
   "cell_type": "code",
   "execution_count": null,
   "id": "2ea011c7",
   "metadata": {
    "vscode": {
     "languageId": "r"
    }
   },
   "outputs": [
    {
     "data": {
      "text/html": [
       "<table class=\"dataframe\">\n",
       "<caption>A data.frame: 15 × 3</caption>\n",
       "<thead>\n",
       "\t<tr><th scope=col>country</th><th scope=col>year</th><th scope=col>valor2</th></tr>\n",
       "\t<tr><th scope=col>&lt;chr&gt;</th><th scope=col>&lt;dbl&gt;</th><th scope=col>&lt;dbl&gt;</th></tr>\n",
       "</thead>\n",
       "<tbody>\n",
       "\t<tr><td>Argentina</td><td>2000</td><td>53.864698</td></tr>\n",
       "\t<tr><td>Brasil   </td><td>2000</td><td>21.550738</td></tr>\n",
       "\t<tr><td>Chile    </td><td>2001</td><td>56.500270</td></tr>\n",
       "\t<tr><td>Argentina</td><td>2001</td><td>40.730196</td></tr>\n",
       "\t<tr><td>Brasil   </td><td>2002</td><td>61.115564</td></tr>\n",
       "\t<tr><td>Chile    </td><td>2002</td><td>35.890727</td></tr>\n",
       "\t<tr><td>Argentina</td><td>2003</td><td>70.500922</td></tr>\n",
       "\t<tr><td>Brasil   </td><td>2003</td><td>13.550475</td></tr>\n",
       "\t<tr><td>Chile    </td><td>2004</td><td> 6.381077</td></tr>\n",
       "\t<tr><td>Argentina</td><td>2004</td><td>69.496236</td></tr>\n",
       "\t<tr><td>Brasil   </td><td>2005</td><td>44.924073</td></tr>\n",
       "\t<tr><td>Chile    </td><td>2005</td><td> 9.240742</td></tr>\n",
       "\t<tr><td>Argentina</td><td>2006</td><td>19.194801</td></tr>\n",
       "\t<tr><td>Brasil   </td><td>2006</td><td>34.794244</td></tr>\n",
       "\t<tr><td>Chile    </td><td>2020</td><td>61.079316</td></tr>\n",
       "</tbody>\n",
       "</table>\n"
      ],
      "text/latex": [
       "A data.frame: 15 × 3\n",
       "\\begin{tabular}{lll}\n",
       " country & year & valor2\\\\\n",
       " <chr> & <dbl> & <dbl>\\\\\n",
       "\\hline\n",
       "\t Argentina & 2000 & 53.864698\\\\\n",
       "\t Brasil    & 2000 & 21.550738\\\\\n",
       "\t Chile     & 2001 & 56.500270\\\\\n",
       "\t Argentina & 2001 & 40.730196\\\\\n",
       "\t Brasil    & 2002 & 61.115564\\\\\n",
       "\t Chile     & 2002 & 35.890727\\\\\n",
       "\t Argentina & 2003 & 70.500922\\\\\n",
       "\t Brasil    & 2003 & 13.550475\\\\\n",
       "\t Chile     & 2004 &  6.381077\\\\\n",
       "\t Argentina & 2004 & 69.496236\\\\\n",
       "\t Brasil    & 2005 & 44.924073\\\\\n",
       "\t Chile     & 2005 &  9.240742\\\\\n",
       "\t Argentina & 2006 & 19.194801\\\\\n",
       "\t Brasil    & 2006 & 34.794244\\\\\n",
       "\t Chile     & 2020 & 61.079316\\\\\n",
       "\\end{tabular}\n"
      ],
      "text/markdown": [
       "\n",
       "A data.frame: 15 × 3\n",
       "\n",
       "| country &lt;chr&gt; | year &lt;dbl&gt; | valor2 &lt;dbl&gt; |\n",
       "|---|---|---|\n",
       "| Argentina | 2000 | 53.864698 |\n",
       "| Brasil    | 2000 | 21.550738 |\n",
       "| Chile     | 2001 | 56.500270 |\n",
       "| Argentina | 2001 | 40.730196 |\n",
       "| Brasil    | 2002 | 61.115564 |\n",
       "| Chile     | 2002 | 35.890727 |\n",
       "| Argentina | 2003 | 70.500922 |\n",
       "| Brasil    | 2003 | 13.550475 |\n",
       "| Chile     | 2004 |  6.381077 |\n",
       "| Argentina | 2004 | 69.496236 |\n",
       "| Brasil    | 2005 | 44.924073 |\n",
       "| Chile     | 2005 |  9.240742 |\n",
       "| Argentina | 2006 | 19.194801 |\n",
       "| Brasil    | 2006 | 34.794244 |\n",
       "| Chile     | 2020 | 61.079316 |\n",
       "\n"
      ],
      "text/plain": [
       "   country   year valor2   \n",
       "1  Argentina 2000 53.864698\n",
       "2  Brasil    2000 21.550738\n",
       "3  Chile     2001 56.500270\n",
       "4  Argentina 2001 40.730196\n",
       "5  Brasil    2002 61.115564\n",
       "6  Chile     2002 35.890727\n",
       "7  Argentina 2003 70.500922\n",
       "8  Brasil    2003 13.550475\n",
       "9  Chile     2004  6.381077\n",
       "10 Argentina 2004 69.496236\n",
       "11 Brasil    2005 44.924073\n",
       "12 Chile     2005  9.240742\n",
       "13 Argentina 2006 19.194801\n",
       "14 Brasil    2006 34.794244\n",
       "15 Chile     2020 61.079316"
      ]
     },
     "metadata": {},
     "output_type": "display_data"
    }
   ],
   "source": [
    "# Crear los datos para el dataframe\n",
    "country <- rep(c(\"Argentina\", \"Brasil\", \"Chile\"), each = 1, times = 5)\n",
    "year <- c(rep(seq(2000, 2006, by = 1), each = 2), 2020)\n",
    "valor2 <- runif(15, min = 1, max = 100) # Valores aleatorios entre 1 y 100\n",
    "\n",
    "# Crear el dataframe\n",
    "data2 <- data.frame(country, year, valor2)\n",
    "data2"
   ]
  },
  {
   "cell_type": "code",
   "execution_count": null,
   "id": "bb4933a7",
   "metadata": {
    "vscode": {
     "languageId": "r"
    }
   },
   "outputs": [
    {
     "data": {
      "text/html": [
       "<table class=\"dataframe\">\n",
       "<caption>A data.frame: 10 × 3</caption>\n",
       "<thead>\n",
       "\t<tr><th scope=col>year</th><th scope=col>country</th><th scope=col>valor1</th></tr>\n",
       "\t<tr><th scope=col>&lt;dbl&gt;</th><th scope=col>&lt;fct&gt;</th><th scope=col>&lt;dbl&gt;</th></tr>\n",
       "</thead>\n",
       "<tbody>\n",
       "\t<tr><td>2000</td><td>Argentina</td><td>100</td></tr>\n",
       "\t<tr><td>2020</td><td>Brasil   </td><td>120</td></tr>\n",
       "\t<tr><td>2021</td><td>Chile    </td><td> 90</td></tr>\n",
       "\t<tr><td>2021</td><td>Colombia </td><td>110</td></tr>\n",
       "\t<tr><td>2022</td><td>Ecuador  </td><td> 80</td></tr>\n",
       "\t<tr><td>2022</td><td>Perú     </td><td>105</td></tr>\n",
       "\t<tr><td>2023</td><td>México   </td><td>115</td></tr>\n",
       "\t<tr><td>2023</td><td>Uruguay  </td><td> 95</td></tr>\n",
       "\t<tr><td>2024</td><td>Paraguay </td><td>125</td></tr>\n",
       "\t<tr><td>2024</td><td>Bolivia  </td><td> 75</td></tr>\n",
       "</tbody>\n",
       "</table>\n"
      ],
      "text/latex": [
       "A data.frame: 10 × 3\n",
       "\\begin{tabular}{lll}\n",
       " year & country & valor1\\\\\n",
       " <dbl> & <fct> & <dbl>\\\\\n",
       "\\hline\n",
       "\t 2000 & Argentina & 100\\\\\n",
       "\t 2020 & Brasil    & 120\\\\\n",
       "\t 2021 & Chile     &  90\\\\\n",
       "\t 2021 & Colombia  & 110\\\\\n",
       "\t 2022 & Ecuador   &  80\\\\\n",
       "\t 2022 & Perú      & 105\\\\\n",
       "\t 2023 & México    & 115\\\\\n",
       "\t 2023 & Uruguay   &  95\\\\\n",
       "\t 2024 & Paraguay  & 125\\\\\n",
       "\t 2024 & Bolivia   &  75\\\\\n",
       "\\end{tabular}\n"
      ],
      "text/markdown": [
       "\n",
       "A data.frame: 10 × 3\n",
       "\n",
       "| year &lt;dbl&gt; | country &lt;fct&gt; | valor1 &lt;dbl&gt; |\n",
       "|---|---|---|\n",
       "| 2000 | Argentina | 100 |\n",
       "| 2020 | Brasil    | 120 |\n",
       "| 2021 | Chile     |  90 |\n",
       "| 2021 | Colombia  | 110 |\n",
       "| 2022 | Ecuador   |  80 |\n",
       "| 2022 | Perú      | 105 |\n",
       "| 2023 | México    | 115 |\n",
       "| 2023 | Uruguay   |  95 |\n",
       "| 2024 | Paraguay  | 125 |\n",
       "| 2024 | Bolivia   |  75 |\n",
       "\n"
      ],
      "text/plain": [
       "   year country   valor1\n",
       "1  2000 Argentina 100   \n",
       "2  2020 Brasil    120   \n",
       "3  2021 Chile      90   \n",
       "4  2021 Colombia  110   \n",
       "5  2022 Ecuador    80   \n",
       "6  2022 Perú      105   \n",
       "7  2023 México    115   \n",
       "8  2023 Uruguay    95   \n",
       "9  2024 Paraguay  125   \n",
       "10 2024 Bolivia    75   "
      ]
     },
     "metadata": {},
     "output_type": "display_data"
    }
   ],
   "source": [
    "data1$country <- as.factor(data1$country)\n",
    "data1"
   ]
  },
  {
   "cell_type": "code",
   "execution_count": null,
   "id": "714c9e8a",
   "metadata": {
    "vscode": {
     "languageId": "r"
    }
   },
   "outputs": [
    {
     "data": {
      "text/html": [
       "3"
      ],
      "text/latex": [
       "3"
      ],
      "text/markdown": [
       "3"
      ],
      "text/plain": [
       "[1] 3"
      ]
     },
     "metadata": {},
     "output_type": "display_data"
    }
   ],
   "source": [
    "length(data1)"
   ]
  },
  {
   "cell_type": "code",
   "execution_count": null,
   "id": "f4998beb",
   "metadata": {
    "vscode": {
     "languageId": "r"
    }
   },
   "outputs": [],
   "source": [
    "levels(data[,2]) <- c(levels(data[,2]), \"Corea del Sur\")\n",
    "data[1,2] <- \"Corea del Sur\""
   ]
  },
  {
   "cell_type": "code",
   "execution_count": null,
   "id": "82599612",
   "metadata": {
    "vscode": {
     "languageId": "r"
    }
   },
   "outputs": [],
   "source": [
    "levels(data[,2])[length(levels(data[,2])) + 1] <- \"Corea del Sur\"\n",
    "data[1,2] <- \"Corea del Sur\""
   ]
  },
  {
   "cell_type": "code",
   "execution_count": null,
   "id": "185dac6a",
   "metadata": {
    "vscode": {
     "languageId": "r"
    }
   },
   "outputs": [
    {
     "data": {
      "text/html": [
       "<table class=\"dataframe\">\n",
       "<caption>A data.frame: 10 × 3</caption>\n",
       "<thead>\n",
       "\t<tr><th scope=col>year</th><th scope=col>country</th><th scope=col>valor1</th></tr>\n",
       "\t<tr><th scope=col>&lt;dbl&gt;</th><th scope=col>&lt;int&gt;</th><th scope=col>&lt;dbl&gt;</th></tr>\n",
       "</thead>\n",
       "<tbody>\n",
       "\t<tr><td>2000</td><td> 1</td><td>100</td></tr>\n",
       "\t<tr><td>2020</td><td> 2</td><td>120</td></tr>\n",
       "\t<tr><td>2021</td><td> 3</td><td> 90</td></tr>\n",
       "\t<tr><td>2021</td><td> 4</td><td>110</td></tr>\n",
       "\t<tr><td>2022</td><td> 5</td><td> 80</td></tr>\n",
       "\t<tr><td>2022</td><td> 6</td><td>105</td></tr>\n",
       "\t<tr><td>2023</td><td> 7</td><td>115</td></tr>\n",
       "\t<tr><td>2023</td><td> 8</td><td> 95</td></tr>\n",
       "\t<tr><td>2024</td><td> 9</td><td>125</td></tr>\n",
       "\t<tr><td>2024</td><td>10</td><td> 75</td></tr>\n",
       "</tbody>\n",
       "</table>\n"
      ],
      "text/latex": [
       "A data.frame: 10 × 3\n",
       "\\begin{tabular}{lll}\n",
       " year & country & valor1\\\\\n",
       " <dbl> & <int> & <dbl>\\\\\n",
       "\\hline\n",
       "\t 2000 &  1 & 100\\\\\n",
       "\t 2020 &  2 & 120\\\\\n",
       "\t 2021 &  3 &  90\\\\\n",
       "\t 2021 &  4 & 110\\\\\n",
       "\t 2022 &  5 &  80\\\\\n",
       "\t 2022 &  6 & 105\\\\\n",
       "\t 2023 &  7 & 115\\\\\n",
       "\t 2023 &  8 &  95\\\\\n",
       "\t 2024 &  9 & 125\\\\\n",
       "\t 2024 & 10 &  75\\\\\n",
       "\\end{tabular}\n"
      ],
      "text/markdown": [
       "\n",
       "A data.frame: 10 × 3\n",
       "\n",
       "| year &lt;dbl&gt; | country &lt;int&gt; | valor1 &lt;dbl&gt; |\n",
       "|---|---|---|\n",
       "| 2000 |  1 | 100 |\n",
       "| 2020 |  2 | 120 |\n",
       "| 2021 |  3 |  90 |\n",
       "| 2021 |  4 | 110 |\n",
       "| 2022 |  5 |  80 |\n",
       "| 2022 |  6 | 105 |\n",
       "| 2023 |  7 | 115 |\n",
       "| 2023 |  8 |  95 |\n",
       "| 2024 |  9 | 125 |\n",
       "| 2024 | 10 |  75 |\n",
       "\n"
      ],
      "text/plain": [
       "   year country valor1\n",
       "1  2000  1      100   \n",
       "2  2020  2      120   \n",
       "3  2021  3       90   \n",
       "4  2021  4      110   \n",
       "5  2022  5       80   \n",
       "6  2022  6      105   \n",
       "7  2023  7      115   \n",
       "8  2023  8       95   \n",
       "9  2024  9      125   \n",
       "10 2024 10       75   "
      ]
     },
     "metadata": {},
     "output_type": "display_data"
    }
   ],
   "source": [
    "data1[,2] <- list(1:10)\n",
    "data1"
   ]
  },
  {
   "cell_type": "code",
   "execution_count": null,
   "id": "ede8c554",
   "metadata": {
    "vscode": {
     "languageId": "r"
    }
   },
   "outputs": [
    {
     "data": {
      "text/html": [
       "<table class=\"dataframe\">\n",
       "<caption>A data.frame: 10 × 3</caption>\n",
       "<thead>\n",
       "\t<tr><th scope=col>year</th><th scope=col>country</th><th scope=col>valor1</th></tr>\n",
       "\t<tr><th scope=col>&lt;dbl&gt;</th><th scope=col>&lt;int&gt;</th><th scope=col>&lt;dbl&gt;</th></tr>\n",
       "</thead>\n",
       "<tbody>\n",
       "\t<tr><td>2000</td><td> 1</td><td>100</td></tr>\n",
       "\t<tr><td>   1</td><td> 2</td><td>120</td></tr>\n",
       "\t<tr><td>2021</td><td> 3</td><td> 90</td></tr>\n",
       "\t<tr><td>2021</td><td> 4</td><td>110</td></tr>\n",
       "\t<tr><td>2022</td><td> 5</td><td> 80</td></tr>\n",
       "\t<tr><td>2022</td><td> 6</td><td>105</td></tr>\n",
       "\t<tr><td>2023</td><td> 7</td><td>115</td></tr>\n",
       "\t<tr><td>2023</td><td> 8</td><td> 95</td></tr>\n",
       "\t<tr><td>2024</td><td> 9</td><td>125</td></tr>\n",
       "\t<tr><td>2024</td><td>10</td><td> 75</td></tr>\n",
       "</tbody>\n",
       "</table>\n"
      ],
      "text/latex": [
       "A data.frame: 10 × 3\n",
       "\\begin{tabular}{lll}\n",
       " year & country & valor1\\\\\n",
       " <dbl> & <int> & <dbl>\\\\\n",
       "\\hline\n",
       "\t 2000 &  1 & 100\\\\\n",
       "\t    1 &  2 & 120\\\\\n",
       "\t 2021 &  3 &  90\\\\\n",
       "\t 2021 &  4 & 110\\\\\n",
       "\t 2022 &  5 &  80\\\\\n",
       "\t 2022 &  6 & 105\\\\\n",
       "\t 2023 &  7 & 115\\\\\n",
       "\t 2023 &  8 &  95\\\\\n",
       "\t 2024 &  9 & 125\\\\\n",
       "\t 2024 & 10 &  75\\\\\n",
       "\\end{tabular}\n"
      ],
      "text/markdown": [
       "\n",
       "A data.frame: 10 × 3\n",
       "\n",
       "| year &lt;dbl&gt; | country &lt;int&gt; | valor1 &lt;dbl&gt; |\n",
       "|---|---|---|\n",
       "| 2000 |  1 | 100 |\n",
       "|    1 |  2 | 120 |\n",
       "| 2021 |  3 |  90 |\n",
       "| 2021 |  4 | 110 |\n",
       "| 2022 |  5 |  80 |\n",
       "| 2022 |  6 | 105 |\n",
       "| 2023 |  7 | 115 |\n",
       "| 2023 |  8 |  95 |\n",
       "| 2024 |  9 | 125 |\n",
       "| 2024 | 10 |  75 |\n",
       "\n"
      ],
      "text/plain": [
       "   year country valor1\n",
       "1  2000  1      100   \n",
       "2     1  2      120   \n",
       "3  2021  3       90   \n",
       "4  2021  4      110   \n",
       "5  2022  5       80   \n",
       "6  2022  6      105   \n",
       "7  2023  7      115   \n",
       "8  2023  8       95   \n",
       "9  2024  9      125   \n",
       "10 2024 10       75   "
      ]
     },
     "metadata": {},
     "output_type": "display_data"
    }
   ],
   "source": [
    "as.data.frame(as.list(data1))"
   ]
  },
  {
   "cell_type": "code",
   "execution_count": null,
   "id": "cc4631f1",
   "metadata": {
    "vscode": {
     "languageId": "r"
    }
   },
   "outputs": [
    {
     "name": "stdout",
     "output_type": "stream",
     "text": [
      "merge                   package:base                   R Documentation\n",
      "\n",
      "_\bM_\be_\br_\bg_\be _\bT_\bw_\bo _\bD_\ba_\bt_\ba _\bF_\br_\ba_\bm_\be_\bs\n",
      "\n",
      "_\bD_\be_\bs_\bc_\br_\bi_\bp_\bt_\bi_\bo_\bn:\n",
      "\n",
      "     Merge two data frames by common columns or row names, or do other\n",
      "     versions of database _join_ operations.\n",
      "\n",
      "_\bU_\bs_\ba_\bg_\be:\n",
      "\n",
      "     merge(x, y, ...)\n",
      "     \n",
      "     ## Default S3 method:\n",
      "     merge(x, y, ...)\n",
      "     \n",
      "     ## S3 method for class 'data.frame'\n",
      "     merge(x, y, by = intersect(names(x), names(y)),\n",
      "           by.x = by, by.y = by, all = FALSE, all.x = all, all.y = all,\n",
      "           sort = TRUE, suffixes = c(\".x\",\".y\"), no.dups = TRUE,\n",
      "           incomparables = NULL, ...)\n",
      "     \n",
      "_\bA_\br_\bg_\bu_\bm_\be_\bn_\bt_\bs:\n",
      "\n",
      "    x, y: data frames, or objects to be coerced to one.\n",
      "\n",
      "by, by.x, by.y: specifications of the columns used for merging.  See\n",
      "          ‘Details’.\n",
      "\n",
      "     all: logical; ‘all = L’ is shorthand for ‘all.x = L’ and ‘all.y =\n",
      "          L’, where ‘L’ is either ‘TRUE’ or ‘FALSE’.\n",
      "\n",
      "   all.x: logical; if ‘TRUE’, then extra rows will be added to the\n",
      "          output, one for each row in ‘x’ that has no matching row in\n",
      "          ‘y’.  These rows will have ‘NA’s in those columns that are\n",
      "          usually filled with values from ‘y’.  The default is ‘FALSE’,\n",
      "          so that only rows with data from both ‘x’ and ‘y’ are\n",
      "          included in the output.\n",
      "\n",
      "   all.y: logical; analogous to ‘all.x’.\n",
      "\n",
      "    sort: logical.  Should the result be sorted on the ‘by’ columns?\n",
      "\n",
      "suffixes: a character vector of length 2 specifying the suffixes to be\n",
      "          used for making unique the names of columns in the result\n",
      "          which are not used for merging (appearing in ‘by’ etc).\n",
      "\n",
      " no.dups: logical indicating that ‘suffixes’ are appended in more cases\n",
      "          to avoid duplicated column names in the result.  This was\n",
      "          implicitly false before R version 3.5.0.\n",
      "\n",
      "incomparables: values which cannot be matched.  See ‘match’.  This is\n",
      "          intended to be used for merging on one column, so these are\n",
      "          incomparable values of that column.\n",
      "\n",
      "     ...: arguments to be passed to or from methods.\n",
      "\n",
      "_\bD_\be_\bt_\ba_\bi_\bl_\bs:\n",
      "\n",
      "     ‘merge’ is a generic function whose principal method is for data\n",
      "     frames: the default method coerces its arguments to data frames\n",
      "     and calls the ‘\"data.frame\"’ method.\n",
      "\n",
      "     By default the data frames are merged on the columns with names\n",
      "     they both have, but separate specifications of the columns can be\n",
      "     given by ‘by.x’ and ‘by.y’.  The rows in the two data frames that\n",
      "     match on the specified columns are extracted, and joined together.\n",
      "     If there is more than one match, all possible matches contribute\n",
      "     one row each.  For the precise meaning of ‘match’, see ‘match’.\n",
      "\n",
      "     Columns to merge on can be specified by name, number or by a\n",
      "     logical vector: the name ‘\"row.names\"’ or the number ‘0’ specifies\n",
      "     the row names.  If specified by name it must correspond uniquely\n",
      "     to a named column in the input.\n",
      "\n",
      "     If ‘by’ or both ‘by.x’ and ‘by.y’ are of length 0 (a length zero\n",
      "     vector or ‘NULL’), the result, ‘r’, is the _Cartesian product_ of\n",
      "     ‘x’ and ‘y’, i.e., ‘dim(r) = c(nrow(x)*nrow(y), ncol(x) +\n",
      "     ncol(y))’.\n",
      "\n",
      "     If ‘all.x’ is true, all the non matching cases of ‘x’ are appended\n",
      "     to the result as well, with ‘NA’ filled in the corresponding\n",
      "     columns of ‘y’; analogously for ‘all.y’.\n",
      "\n",
      "     If the columns in the data frames not used in merging have any\n",
      "     common names, these have ‘suffixes’ (‘\".x\"’ and ‘\".y\"’ by default)\n",
      "     appended to try to make the names of the result unique.  If this\n",
      "     is not possible, an error is thrown.\n",
      "\n",
      "     If a ‘by.x’ column name matches one of ‘y’, and if ‘no.dups’ is\n",
      "     true (as by default), the y version gets suffixed as well,\n",
      "     avoiding duplicate column names in the result.\n",
      "\n",
      "     The complexity of the algorithm used is proportional to the length\n",
      "     of the answer.\n",
      "\n",
      "     In SQL database terminology, the default value of ‘all = FALSE’\n",
      "     gives a _natural join_, a special case of an _inner join_.\n",
      "     Specifying ‘all.x = TRUE’ gives a _left (outer) join_, ‘all.y =\n",
      "     TRUE’ a _right (outer) join_, and both (‘all = TRUE’) a _(full)\n",
      "     outer join_.  DBMSes do not match ‘NULL’ records, equivalent to\n",
      "     ‘incomparables = NA’ in R.\n",
      "\n",
      "_\bV_\ba_\bl_\bu_\be:\n",
      "\n",
      "     A data frame.  The rows are by default lexicographically sorted on\n",
      "     the common columns, but for ‘sort = FALSE’ are in an unspecified\n",
      "     order.  The columns are the common columns followed by the\n",
      "     remaining columns in ‘x’ and then those in ‘y’.  If the matching\n",
      "     involved row names, an extra character column called ‘Row.names’\n",
      "     is added at the left, and in all cases the result has ‘automatic’\n",
      "     row names.\n",
      "\n",
      "_\bN_\bo_\bt_\be:\n",
      "\n",
      "     This is intended to work with data frames with vector-like\n",
      "     columns: some aspects work with data frames containing matrices,\n",
      "     but not all.\n",
      "\n",
      "     Currently long vectors are not accepted for inputs, which are thus\n",
      "     restricted to less than 2^31 rows. That restriction also applies\n",
      "     to the result for 32-bit platforms.\n",
      "\n",
      "_\bS_\be_\be _\bA_\bl_\bs_\bo:\n",
      "\n",
      "     ‘data.frame’, ‘by’, ‘cbind’.\n",
      "\n",
      "     ‘dendrogram’ for a class which has a ‘merge’ method.\n",
      "\n",
      "_\bE_\bx_\ba_\bm_\bp_\bl_\be_\bs:\n",
      "\n",
      "     authors <- data.frame(\n",
      "         surname = c(\"Tukey\", \"Venables\", \"Tierney\", \"Ripley\", \"McNeil\"),\n",
      "         nationality = c(\"US\", \"Australia\", \"US\", \"UK\", \"Australia\"),\n",
      "         deceased = c(\"yes\", rep(\"no\", 4)))\n",
      "     authorN <- within(authors, { name <- surname; rm(surname) })\n",
      "     books <- data.frame(\n",
      "         name = c(\"Tukey\", \"Venables\", \"Tierney\",\n",
      "                  \"Ripley\", \"Ripley\", \"McNeil\", \"R Core\"),\n",
      "         title = c(\"Exploratory Data Analysis\",\n",
      "                   \"Modern Applied Statistics ...\",\n",
      "                   \"LISP-STAT\",\n",
      "                   \"Spatial Statistics\", \"Stochastic Simulation\",\n",
      "                   \"Interactive Data Analysis\",\n",
      "                   \"An Introduction to R\"),\n",
      "         other.author = c(NA, \"Ripley\", NA, NA, NA, NA,\n",
      "                          \"Venables & Smith\"))\n",
      "     \n",
      "     (m0 <- merge(authorN, books))\n",
      "     (m1 <- merge(authors, books, by.x = \"surname\", by.y = \"name\"))\n",
      "      m2 <- merge(books, authors, by.x = \"name\", by.y = \"surname\")\n",
      "     stopifnot(exprs = {\n",
      "        identical(m0, m2[, names(m0)])\n",
      "        as.character(m1[, 1]) == as.character(m2[, 1])\n",
      "        all.equal(m1[, -1], m2[, -1][ names(m1)[-1] ])\n",
      "        identical(dim(merge(m1, m2, by = NULL)),\n",
      "                  c(nrow(m1)*nrow(m2), ncol(m1)+ncol(m2)))\n",
      "     })\n",
      "     \n",
      "     ## \"R core\" is missing from authors and appears only here :\n",
      "     merge(authors, books, by.x = \"surname\", by.y = \"name\", all = TRUE)\n",
      "     \n",
      "     \n",
      "     ## example of using 'incomparables'\n",
      "     x <- data.frame(k1 = c(NA,NA,3,4,5), k2 = c(1,NA,NA,4,5), data = 1:5)\n",
      "     y <- data.frame(k1 = c(NA,2,NA,4,5), k2 = c(NA,NA,3,4,5), data = 1:5)\n",
      "     merge(x, y, by = c(\"k1\",\"k2\")) # NA's match\n",
      "     merge(x, y, by = \"k1\") # NA's match, so 6 rows\n",
      "     merge(x, y, by = \"k2\", incomparables = NA) # 2 rows\n",
      "     "
     ]
    }
   ],
   "source": [
    "?merge"
   ]
  },
  {
   "cell_type": "code",
   "execution_count": null,
   "id": "222b6ba9",
   "metadata": {
    "vscode": {
     "languageId": "r"
    }
   },
   "outputs": [
    {
     "data": {
      "text/html": [
       "<table class=\"dataframe\">\n",
       "<caption>A data.frame: 10 × 3</caption>\n",
       "<thead>\n",
       "\t<tr><th scope=col>year</th><th scope=col>country</th><th scope=col>valor1</th></tr>\n",
       "\t<tr><th scope=col>&lt;dbl&gt;</th><th scope=col>&lt;chr&gt;</th><th scope=col>&lt;dbl&gt;</th></tr>\n",
       "</thead>\n",
       "<tbody>\n",
       "\t<tr><td>2000</td><td>Argentina</td><td>100</td></tr>\n",
       "\t<tr><td>2020</td><td>Brasil   </td><td>120</td></tr>\n",
       "\t<tr><td>2021</td><td>Chile    </td><td> 90</td></tr>\n",
       "\t<tr><td>2021</td><td>Colombia </td><td>110</td></tr>\n",
       "\t<tr><td>2022</td><td>Ecuador  </td><td> 80</td></tr>\n",
       "\t<tr><td>2022</td><td>Perú     </td><td>105</td></tr>\n",
       "\t<tr><td>2023</td><td>México   </td><td>115</td></tr>\n",
       "\t<tr><td>2023</td><td>Uruguay  </td><td> 95</td></tr>\n",
       "\t<tr><td>2024</td><td>Paraguay </td><td>125</td></tr>\n",
       "\t<tr><td>2024</td><td>Bolivia  </td><td> 75</td></tr>\n",
       "</tbody>\n",
       "</table>\n"
      ],
      "text/latex": [
       "A data.frame: 10 × 3\n",
       "\\begin{tabular}{lll}\n",
       " year & country & valor1\\\\\n",
       " <dbl> & <chr> & <dbl>\\\\\n",
       "\\hline\n",
       "\t 2000 & Argentina & 100\\\\\n",
       "\t 2020 & Brasil    & 120\\\\\n",
       "\t 2021 & Chile     &  90\\\\\n",
       "\t 2021 & Colombia  & 110\\\\\n",
       "\t 2022 & Ecuador   &  80\\\\\n",
       "\t 2022 & Perú      & 105\\\\\n",
       "\t 2023 & México    & 115\\\\\n",
       "\t 2023 & Uruguay   &  95\\\\\n",
       "\t 2024 & Paraguay  & 125\\\\\n",
       "\t 2024 & Bolivia   &  75\\\\\n",
       "\\end{tabular}\n"
      ],
      "text/markdown": [
       "\n",
       "A data.frame: 10 × 3\n",
       "\n",
       "| year &lt;dbl&gt; | country &lt;chr&gt; | valor1 &lt;dbl&gt; |\n",
       "|---|---|---|\n",
       "| 2000 | Argentina | 100 |\n",
       "| 2020 | Brasil    | 120 |\n",
       "| 2021 | Chile     |  90 |\n",
       "| 2021 | Colombia  | 110 |\n",
       "| 2022 | Ecuador   |  80 |\n",
       "| 2022 | Perú      | 105 |\n",
       "| 2023 | México    | 115 |\n",
       "| 2023 | Uruguay   |  95 |\n",
       "| 2024 | Paraguay  | 125 |\n",
       "| 2024 | Bolivia   |  75 |\n",
       "\n"
      ],
      "text/plain": [
       "   year country   valor1\n",
       "1  2000 Argentina 100   \n",
       "2  2020 Brasil    120   \n",
       "3  2021 Chile      90   \n",
       "4  2021 Colombia  110   \n",
       "5  2022 Ecuador    80   \n",
       "6  2022 Perú      105   \n",
       "7  2023 México    115   \n",
       "8  2023 Uruguay    95   \n",
       "9  2024 Paraguay  125   \n",
       "10 2024 Bolivia    75   "
      ]
     },
     "metadata": {},
     "output_type": "display_data"
    }
   ],
   "source": [
    "data1"
   ]
  },
  {
   "cell_type": "code",
   "execution_count": null,
   "id": "6dd0ddf4",
   "metadata": {
    "vscode": {
     "languageId": "r"
    }
   },
   "outputs": [
    {
     "data": {
      "text/html": [
       "<table class=\"dataframe\">\n",
       "<caption>A data.frame: 15 × 3</caption>\n",
       "<thead>\n",
       "\t<tr><th scope=col>country</th><th scope=col>year</th><th scope=col>valor2</th></tr>\n",
       "\t<tr><th scope=col>&lt;chr&gt;</th><th scope=col>&lt;dbl&gt;</th><th scope=col>&lt;dbl&gt;</th></tr>\n",
       "</thead>\n",
       "<tbody>\n",
       "\t<tr><td>Argentina</td><td>2000</td><td>53.864698</td></tr>\n",
       "\t<tr><td>Brasil   </td><td>2000</td><td>21.550738</td></tr>\n",
       "\t<tr><td>Chile    </td><td>2001</td><td>56.500270</td></tr>\n",
       "\t<tr><td>Argentina</td><td>2001</td><td>40.730196</td></tr>\n",
       "\t<tr><td>Brasil   </td><td>2002</td><td>61.115564</td></tr>\n",
       "\t<tr><td>Chile    </td><td>2002</td><td>35.890727</td></tr>\n",
       "\t<tr><td>Argentina</td><td>2003</td><td>70.500922</td></tr>\n",
       "\t<tr><td>Brasil   </td><td>2003</td><td>13.550475</td></tr>\n",
       "\t<tr><td>Chile    </td><td>2004</td><td> 6.381077</td></tr>\n",
       "\t<tr><td>Argentina</td><td>2004</td><td>69.496236</td></tr>\n",
       "\t<tr><td>Brasil   </td><td>2005</td><td>44.924073</td></tr>\n",
       "\t<tr><td>Chile    </td><td>2005</td><td> 9.240742</td></tr>\n",
       "\t<tr><td>Argentina</td><td>2006</td><td>19.194801</td></tr>\n",
       "\t<tr><td>Brasil   </td><td>2006</td><td>34.794244</td></tr>\n",
       "\t<tr><td>Chile    </td><td>2020</td><td>61.079316</td></tr>\n",
       "</tbody>\n",
       "</table>\n"
      ],
      "text/latex": [
       "A data.frame: 15 × 3\n",
       "\\begin{tabular}{lll}\n",
       " country & year & valor2\\\\\n",
       " <chr> & <dbl> & <dbl>\\\\\n",
       "\\hline\n",
       "\t Argentina & 2000 & 53.864698\\\\\n",
       "\t Brasil    & 2000 & 21.550738\\\\\n",
       "\t Chile     & 2001 & 56.500270\\\\\n",
       "\t Argentina & 2001 & 40.730196\\\\\n",
       "\t Brasil    & 2002 & 61.115564\\\\\n",
       "\t Chile     & 2002 & 35.890727\\\\\n",
       "\t Argentina & 2003 & 70.500922\\\\\n",
       "\t Brasil    & 2003 & 13.550475\\\\\n",
       "\t Chile     & 2004 &  6.381077\\\\\n",
       "\t Argentina & 2004 & 69.496236\\\\\n",
       "\t Brasil    & 2005 & 44.924073\\\\\n",
       "\t Chile     & 2005 &  9.240742\\\\\n",
       "\t Argentina & 2006 & 19.194801\\\\\n",
       "\t Brasil    & 2006 & 34.794244\\\\\n",
       "\t Chile     & 2020 & 61.079316\\\\\n",
       "\\end{tabular}\n"
      ],
      "text/markdown": [
       "\n",
       "A data.frame: 15 × 3\n",
       "\n",
       "| country &lt;chr&gt; | year &lt;dbl&gt; | valor2 &lt;dbl&gt; |\n",
       "|---|---|---|\n",
       "| Argentina | 2000 | 53.864698 |\n",
       "| Brasil    | 2000 | 21.550738 |\n",
       "| Chile     | 2001 | 56.500270 |\n",
       "| Argentina | 2001 | 40.730196 |\n",
       "| Brasil    | 2002 | 61.115564 |\n",
       "| Chile     | 2002 | 35.890727 |\n",
       "| Argentina | 2003 | 70.500922 |\n",
       "| Brasil    | 2003 | 13.550475 |\n",
       "| Chile     | 2004 |  6.381077 |\n",
       "| Argentina | 2004 | 69.496236 |\n",
       "| Brasil    | 2005 | 44.924073 |\n",
       "| Chile     | 2005 |  9.240742 |\n",
       "| Argentina | 2006 | 19.194801 |\n",
       "| Brasil    | 2006 | 34.794244 |\n",
       "| Chile     | 2020 | 61.079316 |\n",
       "\n"
      ],
      "text/plain": [
       "   country   year valor2   \n",
       "1  Argentina 2000 53.864698\n",
       "2  Brasil    2000 21.550738\n",
       "3  Chile     2001 56.500270\n",
       "4  Argentina 2001 40.730196\n",
       "5  Brasil    2002 61.115564\n",
       "6  Chile     2002 35.890727\n",
       "7  Argentina 2003 70.500922\n",
       "8  Brasil    2003 13.550475\n",
       "9  Chile     2004  6.381077\n",
       "10 Argentina 2004 69.496236\n",
       "11 Brasil    2005 44.924073\n",
       "12 Chile     2005  9.240742\n",
       "13 Argentina 2006 19.194801\n",
       "14 Brasil    2006 34.794244\n",
       "15 Chile     2020 61.079316"
      ]
     },
     "metadata": {},
     "output_type": "display_data"
    }
   ],
   "source": [
    "data2"
   ]
  },
  {
   "cell_type": "code",
   "execution_count": null,
   "id": "7eb8e815",
   "metadata": {
    "vscode": {
     "languageId": "r"
    }
   },
   "outputs": [
    {
     "data": {
      "text/html": [
       "<table class=\"dataframe\">\n",
       "<caption>A data.frame: 1 × 4</caption>\n",
       "<thead>\n",
       "\t<tr><th scope=col>country</th><th scope=col>year</th><th scope=col>valor1</th><th scope=col>valor2</th></tr>\n",
       "\t<tr><th scope=col>&lt;chr&gt;</th><th scope=col>&lt;dbl&gt;</th><th scope=col>&lt;dbl&gt;</th><th scope=col>&lt;dbl&gt;</th></tr>\n",
       "</thead>\n",
       "<tbody>\n",
       "\t<tr><td>Argentina</td><td>2000</td><td>100</td><td>53.8647</td></tr>\n",
       "</tbody>\n",
       "</table>\n"
      ],
      "text/latex": [
       "A data.frame: 1 × 4\n",
       "\\begin{tabular}{llll}\n",
       " country & year & valor1 & valor2\\\\\n",
       " <chr> & <dbl> & <dbl> & <dbl>\\\\\n",
       "\\hline\n",
       "\t Argentina & 2000 & 100 & 53.8647\\\\\n",
       "\\end{tabular}\n"
      ],
      "text/markdown": [
       "\n",
       "A data.frame: 1 × 4\n",
       "\n",
       "| country &lt;chr&gt; | year &lt;dbl&gt; | valor1 &lt;dbl&gt; | valor2 &lt;dbl&gt; |\n",
       "|---|---|---|---|\n",
       "| Argentina | 2000 | 100 | 53.8647 |\n",
       "\n"
      ],
      "text/plain": [
       "  country   year valor1 valor2 \n",
       "1 Argentina 2000 100    53.8647"
      ]
     },
     "metadata": {},
     "output_type": "display_data"
    }
   ],
   "source": [
    "merge(data1, data2, by = c(\"country\", \"year\")) # conserva sólo las observaciones coincidentes"
   ]
  },
  {
   "cell_type": "code",
   "execution_count": null,
   "id": "c883aac5",
   "metadata": {
    "vscode": {
     "languageId": "r"
    }
   },
   "outputs": [
    {
     "data": {
      "text/html": [
       "<table class=\"dataframe\">\n",
       "<caption>A data.frame: 10 × 4</caption>\n",
       "<thead>\n",
       "\t<tr><th scope=col>country</th><th scope=col>year</th><th scope=col>valor1</th><th scope=col>valor2</th></tr>\n",
       "\t<tr><th scope=col>&lt;chr&gt;</th><th scope=col>&lt;dbl&gt;</th><th scope=col>&lt;dbl&gt;</th><th scope=col>&lt;dbl&gt;</th></tr>\n",
       "</thead>\n",
       "<tbody>\n",
       "\t<tr><td>Argentina</td><td>2000</td><td>100</td><td>53.8647</td></tr>\n",
       "\t<tr><td>Bolivia  </td><td>2024</td><td> 75</td><td>     NA</td></tr>\n",
       "\t<tr><td>Brasil   </td><td>2020</td><td>120</td><td>     NA</td></tr>\n",
       "\t<tr><td>Chile    </td><td>2021</td><td> 90</td><td>     NA</td></tr>\n",
       "\t<tr><td>Colombia </td><td>2021</td><td>110</td><td>     NA</td></tr>\n",
       "\t<tr><td>Ecuador  </td><td>2022</td><td> 80</td><td>     NA</td></tr>\n",
       "\t<tr><td>México   </td><td>2023</td><td>115</td><td>     NA</td></tr>\n",
       "\t<tr><td>Paraguay </td><td>2024</td><td>125</td><td>     NA</td></tr>\n",
       "\t<tr><td>Perú     </td><td>2022</td><td>105</td><td>     NA</td></tr>\n",
       "\t<tr><td>Uruguay  </td><td>2023</td><td> 95</td><td>     NA</td></tr>\n",
       "</tbody>\n",
       "</table>\n"
      ],
      "text/latex": [
       "A data.frame: 10 × 4\n",
       "\\begin{tabular}{llll}\n",
       " country & year & valor1 & valor2\\\\\n",
       " <chr> & <dbl> & <dbl> & <dbl>\\\\\n",
       "\\hline\n",
       "\t Argentina & 2000 & 100 & 53.8647\\\\\n",
       "\t Bolivia   & 2024 &  75 &      NA\\\\\n",
       "\t Brasil    & 2020 & 120 &      NA\\\\\n",
       "\t Chile     & 2021 &  90 &      NA\\\\\n",
       "\t Colombia  & 2021 & 110 &      NA\\\\\n",
       "\t Ecuador   & 2022 &  80 &      NA\\\\\n",
       "\t México    & 2023 & 115 &      NA\\\\\n",
       "\t Paraguay  & 2024 & 125 &      NA\\\\\n",
       "\t Perú      & 2022 & 105 &      NA\\\\\n",
       "\t Uruguay   & 2023 &  95 &      NA\\\\\n",
       "\\end{tabular}\n"
      ],
      "text/markdown": [
       "\n",
       "A data.frame: 10 × 4\n",
       "\n",
       "| country &lt;chr&gt; | year &lt;dbl&gt; | valor1 &lt;dbl&gt; | valor2 &lt;dbl&gt; |\n",
       "|---|---|---|---|\n",
       "| Argentina | 2000 | 100 | 53.8647 |\n",
       "| Bolivia   | 2024 |  75 |      NA |\n",
       "| Brasil    | 2020 | 120 |      NA |\n",
       "| Chile     | 2021 |  90 |      NA |\n",
       "| Colombia  | 2021 | 110 |      NA |\n",
       "| Ecuador   | 2022 |  80 |      NA |\n",
       "| México    | 2023 | 115 |      NA |\n",
       "| Paraguay  | 2024 | 125 |      NA |\n",
       "| Perú      | 2022 | 105 |      NA |\n",
       "| Uruguay   | 2023 |  95 |      NA |\n",
       "\n"
      ],
      "text/plain": [
       "   country   year valor1 valor2 \n",
       "1  Argentina 2000 100    53.8647\n",
       "2  Bolivia   2024  75         NA\n",
       "3  Brasil    2020 120         NA\n",
       "4  Chile     2021  90         NA\n",
       "5  Colombia  2021 110         NA\n",
       "6  Ecuador   2022  80         NA\n",
       "7  México    2023 115         NA\n",
       "8  Paraguay  2024 125         NA\n",
       "9  Perú      2022 105         NA\n",
       "10 Uruguay   2023  95         NA"
      ]
     },
     "metadata": {},
     "output_type": "display_data"
    }
   ],
   "source": [
    "merge(data1, data2, by = c(\"country\", \"year\"), all.x = TRUE)"
   ]
  },
  {
   "cell_type": "code",
   "execution_count": null,
   "id": "b3a4278e",
   "metadata": {
    "vscode": {
     "languageId": "r"
    }
   },
   "outputs": [
    {
     "data": {
      "text/html": [
       "<table class=\"dataframe\">\n",
       "<caption>A data.frame: 15 × 4</caption>\n",
       "<thead>\n",
       "\t<tr><th scope=col>country</th><th scope=col>year</th><th scope=col>valor1</th><th scope=col>valor2</th></tr>\n",
       "\t<tr><th scope=col>&lt;chr&gt;</th><th scope=col>&lt;dbl&gt;</th><th scope=col>&lt;dbl&gt;</th><th scope=col>&lt;dbl&gt;</th></tr>\n",
       "</thead>\n",
       "<tbody>\n",
       "\t<tr><td>Argentina</td><td>2000</td><td>100</td><td>53.864698</td></tr>\n",
       "\t<tr><td>Argentina</td><td>2001</td><td> NA</td><td>40.730196</td></tr>\n",
       "\t<tr><td>Argentina</td><td>2003</td><td> NA</td><td>70.500922</td></tr>\n",
       "\t<tr><td>Argentina</td><td>2004</td><td> NA</td><td>69.496236</td></tr>\n",
       "\t<tr><td>Argentina</td><td>2006</td><td> NA</td><td>19.194801</td></tr>\n",
       "\t<tr><td>Brasil   </td><td>2000</td><td> NA</td><td>21.550738</td></tr>\n",
       "\t<tr><td>Brasil   </td><td>2002</td><td> NA</td><td>61.115564</td></tr>\n",
       "\t<tr><td>Brasil   </td><td>2003</td><td> NA</td><td>13.550475</td></tr>\n",
       "\t<tr><td>Brasil   </td><td>2005</td><td> NA</td><td>44.924073</td></tr>\n",
       "\t<tr><td>Brasil   </td><td>2006</td><td> NA</td><td>34.794244</td></tr>\n",
       "\t<tr><td>Chile    </td><td>2001</td><td> NA</td><td>56.500270</td></tr>\n",
       "\t<tr><td>Chile    </td><td>2002</td><td> NA</td><td>35.890727</td></tr>\n",
       "\t<tr><td>Chile    </td><td>2004</td><td> NA</td><td> 6.381077</td></tr>\n",
       "\t<tr><td>Chile    </td><td>2005</td><td> NA</td><td> 9.240742</td></tr>\n",
       "\t<tr><td>Chile    </td><td>2020</td><td> NA</td><td>61.079316</td></tr>\n",
       "</tbody>\n",
       "</table>\n"
      ],
      "text/latex": [
       "A data.frame: 15 × 4\n",
       "\\begin{tabular}{llll}\n",
       " country & year & valor1 & valor2\\\\\n",
       " <chr> & <dbl> & <dbl> & <dbl>\\\\\n",
       "\\hline\n",
       "\t Argentina & 2000 & 100 & 53.864698\\\\\n",
       "\t Argentina & 2001 &  NA & 40.730196\\\\\n",
       "\t Argentina & 2003 &  NA & 70.500922\\\\\n",
       "\t Argentina & 2004 &  NA & 69.496236\\\\\n",
       "\t Argentina & 2006 &  NA & 19.194801\\\\\n",
       "\t Brasil    & 2000 &  NA & 21.550738\\\\\n",
       "\t Brasil    & 2002 &  NA & 61.115564\\\\\n",
       "\t Brasil    & 2003 &  NA & 13.550475\\\\\n",
       "\t Brasil    & 2005 &  NA & 44.924073\\\\\n",
       "\t Brasil    & 2006 &  NA & 34.794244\\\\\n",
       "\t Chile     & 2001 &  NA & 56.500270\\\\\n",
       "\t Chile     & 2002 &  NA & 35.890727\\\\\n",
       "\t Chile     & 2004 &  NA &  6.381077\\\\\n",
       "\t Chile     & 2005 &  NA &  9.240742\\\\\n",
       "\t Chile     & 2020 &  NA & 61.079316\\\\\n",
       "\\end{tabular}\n"
      ],
      "text/markdown": [
       "\n",
       "A data.frame: 15 × 4\n",
       "\n",
       "| country &lt;chr&gt; | year &lt;dbl&gt; | valor1 &lt;dbl&gt; | valor2 &lt;dbl&gt; |\n",
       "|---|---|---|---|\n",
       "| Argentina | 2000 | 100 | 53.864698 |\n",
       "| Argentina | 2001 |  NA | 40.730196 |\n",
       "| Argentina | 2003 |  NA | 70.500922 |\n",
       "| Argentina | 2004 |  NA | 69.496236 |\n",
       "| Argentina | 2006 |  NA | 19.194801 |\n",
       "| Brasil    | 2000 |  NA | 21.550738 |\n",
       "| Brasil    | 2002 |  NA | 61.115564 |\n",
       "| Brasil    | 2003 |  NA | 13.550475 |\n",
       "| Brasil    | 2005 |  NA | 44.924073 |\n",
       "| Brasil    | 2006 |  NA | 34.794244 |\n",
       "| Chile     | 2001 |  NA | 56.500270 |\n",
       "| Chile     | 2002 |  NA | 35.890727 |\n",
       "| Chile     | 2004 |  NA |  6.381077 |\n",
       "| Chile     | 2005 |  NA |  9.240742 |\n",
       "| Chile     | 2020 |  NA | 61.079316 |\n",
       "\n"
      ],
      "text/plain": [
       "   country   year valor1 valor2   \n",
       "1  Argentina 2000 100    53.864698\n",
       "2  Argentina 2001  NA    40.730196\n",
       "3  Argentina 2003  NA    70.500922\n",
       "4  Argentina 2004  NA    69.496236\n",
       "5  Argentina 2006  NA    19.194801\n",
       "6  Brasil    2000  NA    21.550738\n",
       "7  Brasil    2002  NA    61.115564\n",
       "8  Brasil    2003  NA    13.550475\n",
       "9  Brasil    2005  NA    44.924073\n",
       "10 Brasil    2006  NA    34.794244\n",
       "11 Chile     2001  NA    56.500270\n",
       "12 Chile     2002  NA    35.890727\n",
       "13 Chile     2004  NA     6.381077\n",
       "14 Chile     2005  NA     9.240742\n",
       "15 Chile     2020  NA    61.079316"
      ]
     },
     "metadata": {},
     "output_type": "display_data"
    }
   ],
   "source": [
    "merge(data1, data2, by = c(\"country\", \"year\"), all.y = TRUE)"
   ]
  },
  {
   "cell_type": "code",
   "execution_count": null,
   "id": "bc84eaf8",
   "metadata": {
    "vscode": {
     "languageId": "r"
    }
   },
   "outputs": [
    {
     "data": {
      "text/html": [
       "<table class=\"dataframe\">\n",
       "<caption>A data.frame: 24 × 4</caption>\n",
       "<thead>\n",
       "\t<tr><th scope=col>country</th><th scope=col>year</th><th scope=col>valor1</th><th scope=col>valor2</th></tr>\n",
       "\t<tr><th scope=col>&lt;chr&gt;</th><th scope=col>&lt;dbl&gt;</th><th scope=col>&lt;dbl&gt;</th><th scope=col>&lt;dbl&gt;</th></tr>\n",
       "</thead>\n",
       "<tbody>\n",
       "\t<tr><td>Argentina</td><td>2000</td><td>100</td><td>53.864698</td></tr>\n",
       "\t<tr><td>Argentina</td><td>2001</td><td> NA</td><td>40.730196</td></tr>\n",
       "\t<tr><td>Argentina</td><td>2003</td><td> NA</td><td>70.500922</td></tr>\n",
       "\t<tr><td>Argentina</td><td>2004</td><td> NA</td><td>69.496236</td></tr>\n",
       "\t<tr><td>Argentina</td><td>2006</td><td> NA</td><td>19.194801</td></tr>\n",
       "\t<tr><td>Bolivia  </td><td>2024</td><td> 75</td><td>       NA</td></tr>\n",
       "\t<tr><td>Brasil   </td><td>2000</td><td> NA</td><td>21.550738</td></tr>\n",
       "\t<tr><td>Brasil   </td><td>2002</td><td> NA</td><td>61.115564</td></tr>\n",
       "\t<tr><td>Brasil   </td><td>2003</td><td> NA</td><td>13.550475</td></tr>\n",
       "\t<tr><td>Brasil   </td><td>2005</td><td> NA</td><td>44.924073</td></tr>\n",
       "\t<tr><td>Brasil   </td><td>2006</td><td> NA</td><td>34.794244</td></tr>\n",
       "\t<tr><td>Brasil   </td><td>2020</td><td>120</td><td>       NA</td></tr>\n",
       "\t<tr><td>Chile    </td><td>2001</td><td> NA</td><td>56.500270</td></tr>\n",
       "\t<tr><td>Chile    </td><td>2002</td><td> NA</td><td>35.890727</td></tr>\n",
       "\t<tr><td>Chile    </td><td>2004</td><td> NA</td><td> 6.381077</td></tr>\n",
       "\t<tr><td>Chile    </td><td>2005</td><td> NA</td><td> 9.240742</td></tr>\n",
       "\t<tr><td>Chile    </td><td>2020</td><td> NA</td><td>61.079316</td></tr>\n",
       "\t<tr><td>Chile    </td><td>2021</td><td> 90</td><td>       NA</td></tr>\n",
       "\t<tr><td>Colombia </td><td>2021</td><td>110</td><td>       NA</td></tr>\n",
       "\t<tr><td>Ecuador  </td><td>2022</td><td> 80</td><td>       NA</td></tr>\n",
       "\t<tr><td>México   </td><td>2023</td><td>115</td><td>       NA</td></tr>\n",
       "\t<tr><td>Paraguay </td><td>2024</td><td>125</td><td>       NA</td></tr>\n",
       "\t<tr><td>Perú     </td><td>2022</td><td>105</td><td>       NA</td></tr>\n",
       "\t<tr><td>Uruguay  </td><td>2023</td><td> 95</td><td>       NA</td></tr>\n",
       "</tbody>\n",
       "</table>\n"
      ],
      "text/latex": [
       "A data.frame: 24 × 4\n",
       "\\begin{tabular}{llll}\n",
       " country & year & valor1 & valor2\\\\\n",
       " <chr> & <dbl> & <dbl> & <dbl>\\\\\n",
       "\\hline\n",
       "\t Argentina & 2000 & 100 & 53.864698\\\\\n",
       "\t Argentina & 2001 &  NA & 40.730196\\\\\n",
       "\t Argentina & 2003 &  NA & 70.500922\\\\\n",
       "\t Argentina & 2004 &  NA & 69.496236\\\\\n",
       "\t Argentina & 2006 &  NA & 19.194801\\\\\n",
       "\t Bolivia   & 2024 &  75 &        NA\\\\\n",
       "\t Brasil    & 2000 &  NA & 21.550738\\\\\n",
       "\t Brasil    & 2002 &  NA & 61.115564\\\\\n",
       "\t Brasil    & 2003 &  NA & 13.550475\\\\\n",
       "\t Brasil    & 2005 &  NA & 44.924073\\\\\n",
       "\t Brasil    & 2006 &  NA & 34.794244\\\\\n",
       "\t Brasil    & 2020 & 120 &        NA\\\\\n",
       "\t Chile     & 2001 &  NA & 56.500270\\\\\n",
       "\t Chile     & 2002 &  NA & 35.890727\\\\\n",
       "\t Chile     & 2004 &  NA &  6.381077\\\\\n",
       "\t Chile     & 2005 &  NA &  9.240742\\\\\n",
       "\t Chile     & 2020 &  NA & 61.079316\\\\\n",
       "\t Chile     & 2021 &  90 &        NA\\\\\n",
       "\t Colombia  & 2021 & 110 &        NA\\\\\n",
       "\t Ecuador   & 2022 &  80 &        NA\\\\\n",
       "\t México    & 2023 & 115 &        NA\\\\\n",
       "\t Paraguay  & 2024 & 125 &        NA\\\\\n",
       "\t Perú      & 2022 & 105 &        NA\\\\\n",
       "\t Uruguay   & 2023 &  95 &        NA\\\\\n",
       "\\end{tabular}\n"
      ],
      "text/markdown": [
       "\n",
       "A data.frame: 24 × 4\n",
       "\n",
       "| country &lt;chr&gt; | year &lt;dbl&gt; | valor1 &lt;dbl&gt; | valor2 &lt;dbl&gt; |\n",
       "|---|---|---|---|\n",
       "| Argentina | 2000 | 100 | 53.864698 |\n",
       "| Argentina | 2001 |  NA | 40.730196 |\n",
       "| Argentina | 2003 |  NA | 70.500922 |\n",
       "| Argentina | 2004 |  NA | 69.496236 |\n",
       "| Argentina | 2006 |  NA | 19.194801 |\n",
       "| Bolivia   | 2024 |  75 |        NA |\n",
       "| Brasil    | 2000 |  NA | 21.550738 |\n",
       "| Brasil    | 2002 |  NA | 61.115564 |\n",
       "| Brasil    | 2003 |  NA | 13.550475 |\n",
       "| Brasil    | 2005 |  NA | 44.924073 |\n",
       "| Brasil    | 2006 |  NA | 34.794244 |\n",
       "| Brasil    | 2020 | 120 |        NA |\n",
       "| Chile     | 2001 |  NA | 56.500270 |\n",
       "| Chile     | 2002 |  NA | 35.890727 |\n",
       "| Chile     | 2004 |  NA |  6.381077 |\n",
       "| Chile     | 2005 |  NA |  9.240742 |\n",
       "| Chile     | 2020 |  NA | 61.079316 |\n",
       "| Chile     | 2021 |  90 |        NA |\n",
       "| Colombia  | 2021 | 110 |        NA |\n",
       "| Ecuador   | 2022 |  80 |        NA |\n",
       "| México    | 2023 | 115 |        NA |\n",
       "| Paraguay  | 2024 | 125 |        NA |\n",
       "| Perú      | 2022 | 105 |        NA |\n",
       "| Uruguay   | 2023 |  95 |        NA |\n",
       "\n"
      ],
      "text/plain": [
       "   country   year valor1 valor2   \n",
       "1  Argentina 2000 100    53.864698\n",
       "2  Argentina 2001  NA    40.730196\n",
       "3  Argentina 2003  NA    70.500922\n",
       "4  Argentina 2004  NA    69.496236\n",
       "5  Argentina 2006  NA    19.194801\n",
       "6  Bolivia   2024  75           NA\n",
       "7  Brasil    2000  NA    21.550738\n",
       "8  Brasil    2002  NA    61.115564\n",
       "9  Brasil    2003  NA    13.550475\n",
       "10 Brasil    2005  NA    44.924073\n",
       "11 Brasil    2006  NA    34.794244\n",
       "12 Brasil    2020 120           NA\n",
       "13 Chile     2001  NA    56.500270\n",
       "14 Chile     2002  NA    35.890727\n",
       "15 Chile     2004  NA     6.381077\n",
       "16 Chile     2005  NA     9.240742\n",
       "17 Chile     2020  NA    61.079316\n",
       "18 Chile     2021  90           NA\n",
       "19 Colombia  2021 110           NA\n",
       "20 Ecuador   2022  80           NA\n",
       "21 México    2023 115           NA\n",
       "22 Paraguay  2024 125           NA\n",
       "23 Perú      2022 105           NA\n",
       "24 Uruguay   2023  95           NA"
      ]
     },
     "metadata": {},
     "output_type": "display_data"
    }
   ],
   "source": [
    "merge(data1, data2, by = c(\"country\", \"year\"), all = TRUE)"
   ]
  },
  {
   "cell_type": "markdown",
   "id": "57f67e5c",
   "metadata": {},
   "source": [
    "### Ejercicios data frames\n",
    "1) Usando el dataset `mtcars`:\n",
    "    * Muestra las 5 primeras filas\n",
    "    * Presenta un resumen del datasest\n",
    "    * Haz una copia del dataset y:\n",
    "        * Convierte la variables \"cyl\", \"gear\" y \"carb\" en factores\n",
    "        * Convierte las variables \"vs\" y \"am\" en lógicas\n",
    "        * Muestra solo los coches con una potencia (\"hp\") mayor a 100\n",
    "        * Crea un nuevo data frame llamado coches_seleccionados que incluya solo las columnas \"mpg\", \"cyl\", \"hp\" y \"qsec\" del dataset\n",
    "        * Calcula el resumen estadístico (media, mediana, desviación estándar, etc.) de la columna \"mpg\" (millas por galón) para todos los coches en el dataset\n",
    "        * Idem para \"cyl\" (número de cilindros)\n",
    "        * Calcula la cantidad total de coches para cada valor único en la columna \"cyl\" (número de cilindros)\n",
    "        * Encuentra el modelo de coche con la mayor potencia (\"hp\") y muestra su información completa\n",
    "        * Calcula el promedio de potencia de los coches con 8 cilindros\n",
    "2) Usando el dataset `Cars93` del paquete `MASS` y el dataset `mtcars`:\n",
    "    * Agrega una columna al dataset de `mtcars` que contenga la marca y modelo de cada coche\n",
    "    * Combina los dos dataset por modelo y marca del coche solo para aquellos modelos presentes en ambos datasets. ¿Coinciden los demás valores?\n",
    "3) Supongamos que tienes dos dataframes con información sobre estudiantes de dos cursos diferentes. Cada data frame contiene tres columnas: \"Nombre\", \"Edad\" y \"Promedio\".\n",
    "<pre>\n",
    "curso_a <- data.frame(\n",
    "    Nombre = c(\"Juan\", \"María\", \"Carlos\"),\n",
    "    Edad = c(20, 22, 21),\n",
    "    Promedio = c(85, 92, 78))\n",
    "</pre><pre>\n",
    "curso_b <- data.frame(\n",
    "       Nombre = c(\"Ana\", \"Luis\", \"Sofía\", \"Lourdes\"),\n",
    "       Edad = c(19, 23, 20, 21),\n",
    "       Promedio = c(88, 90, 85, 80))\n",
    "</pre>\n",
    "* Combina los dos dataframes en uno solo llamado todos_los_estudiantes\n",
    "* Agrega una nueva columna llamada \"Curso\" al dataframe todos_los_estudiantes que indicar a qué curso pertenece cada estudiante (\"A\" o \"B\")"
   ]
  },
  {
   "cell_type": "code",
   "execution_count": null,
   "id": "b3be1633",
   "metadata": {
    "vscode": {
     "languageId": "r"
    }
   },
   "outputs": [
    {
     "name": "stdout",
     "output_type": "stream",
     "text": [
      "mtcars                package:datasets                 R Documentation\n",
      "\n",
      "_\bM_\bo_\bt_\bo_\br _\bT_\br_\be_\bn_\bd _\bC_\ba_\br _\bR_\bo_\ba_\bd _\bT_\be_\bs_\bt_\bs\n",
      "\n",
      "_\bD_\be_\bs_\bc_\br_\bi_\bp_\bt_\bi_\bo_\bn:\n",
      "\n",
      "     The data was extracted from the 1974 _Motor Trend_ US magazine,\n",
      "     and comprises fuel consumption and 10 aspects of automobile design\n",
      "     and performance for 32 automobiles (1973-74 models).\n",
      "\n",
      "_\bU_\bs_\ba_\bg_\be:\n",
      "\n",
      "     mtcars\n",
      "     \n",
      "_\bF_\bo_\br_\bm_\ba_\bt:\n",
      "\n",
      "     A data frame with 32 observations on 11 (numeric) variables.\n",
      "\n",
      "       [, 1]  ‘mpg’   Miles/(US) gallon                        \n",
      "       [, 2]  ‘cyl’   Number of cylinders                      \n",
      "       [, 3]  ‘disp’  Displacement (cu.in.)                    \n",
      "       [, 4]  ‘hp’    Gross horsepower                         \n",
      "       [, 5]  ‘drat’  Rear axle ratio                          \n",
      "       [, 6]  ‘wt’    Weight (1000 lbs)                        \n",
      "       [, 7]  ‘qsec’  1/4 mile time                            \n",
      "       [, 8]  ‘vs’    Engine (0 = V-shaped, 1 = straight)      \n",
      "       [, 9]  ‘am’    Transmission (0 = automatic, 1 = manual) \n",
      "       [,10]  ‘gear’  Number of forward gears                  \n",
      "       [,11]  ‘carb’  Number of carburetors                    \n",
      "      \n",
      "_\bN_\bo_\bt_\be:\n",
      "\n",
      "     Henderson and Velleman (1981) comment in a footnote to Table 1:\n",
      "     ‘Hocking [original transcriber]'s noncrucial coding of the Mazda's\n",
      "     rotary engine as a straight six-cylinder engine and the Porsche's\n",
      "     flat engine as a V engine, as well as the inclusion of the diesel\n",
      "     Mercedes 240D, have been retained to enable direct comparisons to\n",
      "     be made with previous analyses.’\n",
      "\n",
      "_\bS_\bo_\bu_\br_\bc_\be:\n",
      "\n",
      "     Henderson and Velleman (1981), Building multiple regression models\n",
      "     interactively.  _Biometrics_, *37*, 391-411.\n",
      "\n",
      "_\bE_\bx_\ba_\bm_\bp_\bl_\be_\bs:\n",
      "\n",
      "     require(graphics)\n",
      "     pairs(mtcars, main = \"mtcars data\", gap = 1/4)\n",
      "     coplot(mpg ~ disp | as.factor(cyl), data = mtcars,\n",
      "            panel = panel.smooth, rows = 1)\n",
      "     ## possibly more meaningful, e.g., for summary() or bivariate plots:\n",
      "     mtcars2 <- within(mtcars, {\n",
      "        vs <- factor(vs, labels = c(\"V\", \"S\"))\n",
      "        am <- factor(am, labels = c(\"automatic\", \"manual\"))\n",
      "        cyl  <- ordered(cyl)\n",
      "        gear <- ordered(gear)\n",
      "        carb <- ordered(carb)\n",
      "     })\n",
      "     summary(mtcars2)\n",
      "     "
     ]
    }
   ],
   "source": [
    "?mtcars"
   ]
  },
  {
   "cell_type": "code",
   "execution_count": null,
   "id": "42aaf83d",
   "metadata": {
    "vscode": {
     "languageId": "r"
    }
   },
   "outputs": [
    {
     "name": "stdout",
     "output_type": "stream",
     "text": [
      "Cars93                  package:MASS                   R Documentation\n",
      "\n",
      "_\bD_\ba_\bt_\ba _\bf_\br_\bo_\bm _\b9_\b3 _\bC_\ba_\br_\bs _\bo_\bn _\bS_\ba_\bl_\be _\bi_\bn _\bt_\bh_\be _\bU_\bS_\bA _\bi_\bn _\b1_\b9_\b9_\b3\n",
      "\n",
      "_\bD_\be_\bs_\bc_\br_\bi_\bp_\bt_\bi_\bo_\bn:\n",
      "\n",
      "     The ‘Cars93’ data frame has 93 rows and 27 columns.\n",
      "\n",
      "_\bU_\bs_\ba_\bg_\be:\n",
      "\n",
      "     Cars93\n",
      "     \n",
      "_\bF_\bo_\br_\bm_\ba_\bt:\n",
      "\n",
      "     This data frame contains the following columns:\n",
      "\n",
      "     ‘Manufacturer’ Manufacturer.\n",
      "\n",
      "     ‘Model’ Model.\n",
      "\n",
      "     ‘Type’ Type: a factor with levels ‘\"Small\"’, ‘\"Sporty\"’,\n",
      "          ‘\"Compact\"’, ‘\"Midsize\"’, ‘\"Large\"’ and ‘\"Van\"’.\n",
      "\n",
      "     ‘Min.Price’ Minimum Price (in $1,000): price for a basic version.\n",
      "\n",
      "     ‘Price’ Midrange Price (in $1,000): average of ‘Min.Price’ and\n",
      "          ‘Max.Price’.\n",
      "\n",
      "     ‘Max.Price’ Maximum Price (in $1,000): price for “a premium\n",
      "          version”.\n",
      "\n",
      "     ‘MPG.city’ City MPG (miles per US gallon by EPA rating).\n",
      "\n",
      "     ‘MPG.highway’ Highway MPG.\n",
      "\n",
      "     ‘AirBags’ Air Bags standard. Factor: none, driver only, or driver\n",
      "          & passenger.\n",
      "\n",
      "     ‘DriveTrain’ Drive train type: rear wheel, front wheel or 4WD;\n",
      "          (factor).\n",
      "\n",
      "     ‘Cylinders’ Number of cylinders (missing for Mazda RX-7, which has\n",
      "          a rotary engine).\n",
      "\n",
      "     ‘EngineSize’ Engine size (litres).\n",
      "\n",
      "     ‘Horsepower’ Horsepower (maximum).\n",
      "\n",
      "     ‘RPM’ RPM (revs per minute at maximum horsepower).\n",
      "\n",
      "     ‘Rev.per.mile’ Engine revolutions per mile (in highest gear).\n",
      "\n",
      "     ‘Man.trans.avail’ Is a manual transmission version available? (yes\n",
      "          or no, Factor).\n",
      "\n",
      "     ‘Fuel.tank.capacity’ Fuel tank capacity (US gallons).\n",
      "\n",
      "     ‘Passengers’ Passenger capacity (persons)\n",
      "\n",
      "     ‘Length’ Length (inches).\n",
      "\n",
      "     ‘Wheelbase’ Wheelbase (inches).\n",
      "\n",
      "     ‘Width’ Width (inches).\n",
      "\n",
      "     ‘Turn.circle’ U-turn space (feet).\n",
      "\n",
      "     ‘Rear.seat.room’ Rear seat room (inches) (missing for 2-seater\n",
      "          vehicles).\n",
      "\n",
      "     ‘Luggage.room’ Luggage capacity (cubic feet) (missing for vans).\n",
      "\n",
      "     ‘Weight’ Weight (pounds).\n",
      "\n",
      "     ‘Origin’ Of non-USA or USA company origins? (factor).\n",
      "\n",
      "     ‘Make’ Combination of Manufacturer and Model (character).\n",
      "\n",
      "_\bD_\be_\bt_\ba_\bi_\bl_\bs:\n",
      "\n",
      "     Cars were selected at random from among 1993 passenger car models\n",
      "     that were listed in both the _Consumer Reports_ issue and the\n",
      "     _PACE Buying Guide_.  Pickup trucks and Sport/Utility vehicles\n",
      "     were eliminated due to incomplete information in the _Consumer\n",
      "     Reports_ source.  Duplicate models (e.g., Dodge Shadow and\n",
      "     Plymouth Sundance) were listed at most once.\n",
      "\n",
      "     Further description can be found in Lock (1993).\n",
      "\n",
      "_\bS_\bo_\bu_\br_\bc_\be:\n",
      "\n",
      "     Lock, R. H. (1993) 1993 New Car Data.  _Journal of Statistics\n",
      "     Education_ *1*(1).  doi:10.1080/10691898.1993.11910459\n",
      "     <https://doi.org/10.1080/10691898.1993.11910459>\n",
      "\n",
      "_\bR_\be_\bf_\be_\br_\be_\bn_\bc_\be_\bs:\n",
      "\n",
      "     Venables, W. N. and Ripley, B. D. (2002) _Modern Applied\n",
      "     Statistics with S-PLUS._ Fourth Edition. Springer.\n"
     ]
    }
   ],
   "source": [
    "?Cars93"
   ]
  },
  {
   "cell_type": "code",
   "execution_count": null,
   "id": "c4bb9a84",
   "metadata": {
    "vscode": {
     "languageId": "r"
    }
   },
   "outputs": [
    {
     "data": {
      "text/html": [
       "<table class=\"dataframe\">\n",
       "<caption>A data.frame: 32 × 11</caption>\n",
       "<thead>\n",
       "\t<tr><th></th><th scope=col>mpg</th><th scope=col>cyl</th><th scope=col>disp</th><th scope=col>hp</th><th scope=col>drat</th><th scope=col>wt</th><th scope=col>qsec</th><th scope=col>vs</th><th scope=col>am</th><th scope=col>gear</th><th scope=col>carb</th></tr>\n",
       "\t<tr><th></th><th scope=col>&lt;dbl&gt;</th><th scope=col>&lt;dbl&gt;</th><th scope=col>&lt;dbl&gt;</th><th scope=col>&lt;dbl&gt;</th><th scope=col>&lt;dbl&gt;</th><th scope=col>&lt;dbl&gt;</th><th scope=col>&lt;dbl&gt;</th><th scope=col>&lt;dbl&gt;</th><th scope=col>&lt;dbl&gt;</th><th scope=col>&lt;dbl&gt;</th><th scope=col>&lt;dbl&gt;</th></tr>\n",
       "</thead>\n",
       "<tbody>\n",
       "\t<tr><th scope=row>Mazda RX4</th><td>21.0</td><td>6</td><td>160.0</td><td>110</td><td>3.90</td><td>2.620</td><td>16.46</td><td>0</td><td>1</td><td>4</td><td>4</td></tr>\n",
       "\t<tr><th scope=row>Mazda RX4 Wag</th><td>21.0</td><td>6</td><td>160.0</td><td>110</td><td>3.90</td><td>2.875</td><td>17.02</td><td>0</td><td>1</td><td>4</td><td>4</td></tr>\n",
       "\t<tr><th scope=row>Datsun 710</th><td>22.8</td><td>4</td><td>108.0</td><td> 93</td><td>3.85</td><td>2.320</td><td>18.61</td><td>1</td><td>1</td><td>4</td><td>1</td></tr>\n",
       "\t<tr><th scope=row>Hornet 4 Drive</th><td>21.4</td><td>6</td><td>258.0</td><td>110</td><td>3.08</td><td>3.215</td><td>19.44</td><td>1</td><td>0</td><td>3</td><td>1</td></tr>\n",
       "\t<tr><th scope=row>Hornet Sportabout</th><td>18.7</td><td>8</td><td>360.0</td><td>175</td><td>3.15</td><td>3.440</td><td>17.02</td><td>0</td><td>0</td><td>3</td><td>2</td></tr>\n",
       "\t<tr><th scope=row>Valiant</th><td>18.1</td><td>6</td><td>225.0</td><td>105</td><td>2.76</td><td>3.460</td><td>20.22</td><td>1</td><td>0</td><td>3</td><td>1</td></tr>\n",
       "\t<tr><th scope=row>Duster 360</th><td>14.3</td><td>8</td><td>360.0</td><td>245</td><td>3.21</td><td>3.570</td><td>15.84</td><td>0</td><td>0</td><td>3</td><td>4</td></tr>\n",
       "\t<tr><th scope=row>Merc 240D</th><td>24.4</td><td>4</td><td>146.7</td><td> 62</td><td>3.69</td><td>3.190</td><td>20.00</td><td>1</td><td>0</td><td>4</td><td>2</td></tr>\n",
       "\t<tr><th scope=row>Merc 230</th><td>22.8</td><td>4</td><td>140.8</td><td> 95</td><td>3.92</td><td>3.150</td><td>22.90</td><td>1</td><td>0</td><td>4</td><td>2</td></tr>\n",
       "\t<tr><th scope=row>Merc 280</th><td>19.2</td><td>6</td><td>167.6</td><td>123</td><td>3.92</td><td>3.440</td><td>18.30</td><td>1</td><td>0</td><td>4</td><td>4</td></tr>\n",
       "\t<tr><th scope=row>Merc 280C</th><td>17.8</td><td>6</td><td>167.6</td><td>123</td><td>3.92</td><td>3.440</td><td>18.90</td><td>1</td><td>0</td><td>4</td><td>4</td></tr>\n",
       "\t<tr><th scope=row>Merc 450SE</th><td>16.4</td><td>8</td><td>275.8</td><td>180</td><td>3.07</td><td>4.070</td><td>17.40</td><td>0</td><td>0</td><td>3</td><td>3</td></tr>\n",
       "\t<tr><th scope=row>Merc 450SL</th><td>17.3</td><td>8</td><td>275.8</td><td>180</td><td>3.07</td><td>3.730</td><td>17.60</td><td>0</td><td>0</td><td>3</td><td>3</td></tr>\n",
       "\t<tr><th scope=row>Merc 450SLC</th><td>15.2</td><td>8</td><td>275.8</td><td>180</td><td>3.07</td><td>3.780</td><td>18.00</td><td>0</td><td>0</td><td>3</td><td>3</td></tr>\n",
       "\t<tr><th scope=row>Cadillac Fleetwood</th><td>10.4</td><td>8</td><td>472.0</td><td>205</td><td>2.93</td><td>5.250</td><td>17.98</td><td>0</td><td>0</td><td>3</td><td>4</td></tr>\n",
       "\t<tr><th scope=row>Lincoln Continental</th><td>10.4</td><td>8</td><td>460.0</td><td>215</td><td>3.00</td><td>5.424</td><td>17.82</td><td>0</td><td>0</td><td>3</td><td>4</td></tr>\n",
       "\t<tr><th scope=row>Chrysler Imperial</th><td>14.7</td><td>8</td><td>440.0</td><td>230</td><td>3.23</td><td>5.345</td><td>17.42</td><td>0</td><td>0</td><td>3</td><td>4</td></tr>\n",
       "\t<tr><th scope=row>Fiat 128</th><td>32.4</td><td>4</td><td> 78.7</td><td> 66</td><td>4.08</td><td>2.200</td><td>19.47</td><td>1</td><td>1</td><td>4</td><td>1</td></tr>\n",
       "\t<tr><th scope=row>Honda Civic</th><td>30.4</td><td>4</td><td> 75.7</td><td> 52</td><td>4.93</td><td>1.615</td><td>18.52</td><td>1</td><td>1</td><td>4</td><td>2</td></tr>\n",
       "\t<tr><th scope=row>Toyota Corolla</th><td>33.9</td><td>4</td><td> 71.1</td><td> 65</td><td>4.22</td><td>1.835</td><td>19.90</td><td>1</td><td>1</td><td>4</td><td>1</td></tr>\n",
       "\t<tr><th scope=row>Toyota Corona</th><td>21.5</td><td>4</td><td>120.1</td><td> 97</td><td>3.70</td><td>2.465</td><td>20.01</td><td>1</td><td>0</td><td>3</td><td>1</td></tr>\n",
       "\t<tr><th scope=row>Dodge Challenger</th><td>15.5</td><td>8</td><td>318.0</td><td>150</td><td>2.76</td><td>3.520</td><td>16.87</td><td>0</td><td>0</td><td>3</td><td>2</td></tr>\n",
       "\t<tr><th scope=row>AMC Javelin</th><td>15.2</td><td>8</td><td>304.0</td><td>150</td><td>3.15</td><td>3.435</td><td>17.30</td><td>0</td><td>0</td><td>3</td><td>2</td></tr>\n",
       "\t<tr><th scope=row>Camaro Z28</th><td>13.3</td><td>8</td><td>350.0</td><td>245</td><td>3.73</td><td>3.840</td><td>15.41</td><td>0</td><td>0</td><td>3</td><td>4</td></tr>\n",
       "\t<tr><th scope=row>Pontiac Firebird</th><td>19.2</td><td>8</td><td>400.0</td><td>175</td><td>3.08</td><td>3.845</td><td>17.05</td><td>0</td><td>0</td><td>3</td><td>2</td></tr>\n",
       "\t<tr><th scope=row>Fiat X1-9</th><td>27.3</td><td>4</td><td> 79.0</td><td> 66</td><td>4.08</td><td>1.935</td><td>18.90</td><td>1</td><td>1</td><td>4</td><td>1</td></tr>\n",
       "\t<tr><th scope=row>Porsche 914-2</th><td>26.0</td><td>4</td><td>120.3</td><td> 91</td><td>4.43</td><td>2.140</td><td>16.70</td><td>0</td><td>1</td><td>5</td><td>2</td></tr>\n",
       "\t<tr><th scope=row>Lotus Europa</th><td>30.4</td><td>4</td><td> 95.1</td><td>113</td><td>3.77</td><td>1.513</td><td>16.90</td><td>1</td><td>1</td><td>5</td><td>2</td></tr>\n",
       "\t<tr><th scope=row>Ford Pantera L</th><td>15.8</td><td>8</td><td>351.0</td><td>264</td><td>4.22</td><td>3.170</td><td>14.50</td><td>0</td><td>1</td><td>5</td><td>4</td></tr>\n",
       "\t<tr><th scope=row>Ferrari Dino</th><td>19.7</td><td>6</td><td>145.0</td><td>175</td><td>3.62</td><td>2.770</td><td>15.50</td><td>0</td><td>1</td><td>5</td><td>6</td></tr>\n",
       "\t<tr><th scope=row>Maserati Bora</th><td>15.0</td><td>8</td><td>301.0</td><td>335</td><td>3.54</td><td>3.570</td><td>14.60</td><td>0</td><td>1</td><td>5</td><td>8</td></tr>\n",
       "\t<tr><th scope=row>Volvo 142E</th><td>21.4</td><td>4</td><td>121.0</td><td>109</td><td>4.11</td><td>2.780</td><td>18.60</td><td>1</td><td>1</td><td>4</td><td>2</td></tr>\n",
       "</tbody>\n",
       "</table>\n"
      ],
      "text/latex": [
       "A data.frame: 32 × 11\n",
       "\\begin{tabular}{r|lllllllllll}\n",
       "  & mpg & cyl & disp & hp & drat & wt & qsec & vs & am & gear & carb\\\\\n",
       "  & <dbl> & <dbl> & <dbl> & <dbl> & <dbl> & <dbl> & <dbl> & <dbl> & <dbl> & <dbl> & <dbl>\\\\\n",
       "\\hline\n",
       "\tMazda RX4 & 21.0 & 6 & 160.0 & 110 & 3.90 & 2.620 & 16.46 & 0 & 1 & 4 & 4\\\\\n",
       "\tMazda RX4 Wag & 21.0 & 6 & 160.0 & 110 & 3.90 & 2.875 & 17.02 & 0 & 1 & 4 & 4\\\\\n",
       "\tDatsun 710 & 22.8 & 4 & 108.0 &  93 & 3.85 & 2.320 & 18.61 & 1 & 1 & 4 & 1\\\\\n",
       "\tHornet 4 Drive & 21.4 & 6 & 258.0 & 110 & 3.08 & 3.215 & 19.44 & 1 & 0 & 3 & 1\\\\\n",
       "\tHornet Sportabout & 18.7 & 8 & 360.0 & 175 & 3.15 & 3.440 & 17.02 & 0 & 0 & 3 & 2\\\\\n",
       "\tValiant & 18.1 & 6 & 225.0 & 105 & 2.76 & 3.460 & 20.22 & 1 & 0 & 3 & 1\\\\\n",
       "\tDuster 360 & 14.3 & 8 & 360.0 & 245 & 3.21 & 3.570 & 15.84 & 0 & 0 & 3 & 4\\\\\n",
       "\tMerc 240D & 24.4 & 4 & 146.7 &  62 & 3.69 & 3.190 & 20.00 & 1 & 0 & 4 & 2\\\\\n",
       "\tMerc 230 & 22.8 & 4 & 140.8 &  95 & 3.92 & 3.150 & 22.90 & 1 & 0 & 4 & 2\\\\\n",
       "\tMerc 280 & 19.2 & 6 & 167.6 & 123 & 3.92 & 3.440 & 18.30 & 1 & 0 & 4 & 4\\\\\n",
       "\tMerc 280C & 17.8 & 6 & 167.6 & 123 & 3.92 & 3.440 & 18.90 & 1 & 0 & 4 & 4\\\\\n",
       "\tMerc 450SE & 16.4 & 8 & 275.8 & 180 & 3.07 & 4.070 & 17.40 & 0 & 0 & 3 & 3\\\\\n",
       "\tMerc 450SL & 17.3 & 8 & 275.8 & 180 & 3.07 & 3.730 & 17.60 & 0 & 0 & 3 & 3\\\\\n",
       "\tMerc 450SLC & 15.2 & 8 & 275.8 & 180 & 3.07 & 3.780 & 18.00 & 0 & 0 & 3 & 3\\\\\n",
       "\tCadillac Fleetwood & 10.4 & 8 & 472.0 & 205 & 2.93 & 5.250 & 17.98 & 0 & 0 & 3 & 4\\\\\n",
       "\tLincoln Continental & 10.4 & 8 & 460.0 & 215 & 3.00 & 5.424 & 17.82 & 0 & 0 & 3 & 4\\\\\n",
       "\tChrysler Imperial & 14.7 & 8 & 440.0 & 230 & 3.23 & 5.345 & 17.42 & 0 & 0 & 3 & 4\\\\\n",
       "\tFiat 128 & 32.4 & 4 &  78.7 &  66 & 4.08 & 2.200 & 19.47 & 1 & 1 & 4 & 1\\\\\n",
       "\tHonda Civic & 30.4 & 4 &  75.7 &  52 & 4.93 & 1.615 & 18.52 & 1 & 1 & 4 & 2\\\\\n",
       "\tToyota Corolla & 33.9 & 4 &  71.1 &  65 & 4.22 & 1.835 & 19.90 & 1 & 1 & 4 & 1\\\\\n",
       "\tToyota Corona & 21.5 & 4 & 120.1 &  97 & 3.70 & 2.465 & 20.01 & 1 & 0 & 3 & 1\\\\\n",
       "\tDodge Challenger & 15.5 & 8 & 318.0 & 150 & 2.76 & 3.520 & 16.87 & 0 & 0 & 3 & 2\\\\\n",
       "\tAMC Javelin & 15.2 & 8 & 304.0 & 150 & 3.15 & 3.435 & 17.30 & 0 & 0 & 3 & 2\\\\\n",
       "\tCamaro Z28 & 13.3 & 8 & 350.0 & 245 & 3.73 & 3.840 & 15.41 & 0 & 0 & 3 & 4\\\\\n",
       "\tPontiac Firebird & 19.2 & 8 & 400.0 & 175 & 3.08 & 3.845 & 17.05 & 0 & 0 & 3 & 2\\\\\n",
       "\tFiat X1-9 & 27.3 & 4 &  79.0 &  66 & 4.08 & 1.935 & 18.90 & 1 & 1 & 4 & 1\\\\\n",
       "\tPorsche 914-2 & 26.0 & 4 & 120.3 &  91 & 4.43 & 2.140 & 16.70 & 0 & 1 & 5 & 2\\\\\n",
       "\tLotus Europa & 30.4 & 4 &  95.1 & 113 & 3.77 & 1.513 & 16.90 & 1 & 1 & 5 & 2\\\\\n",
       "\tFord Pantera L & 15.8 & 8 & 351.0 & 264 & 4.22 & 3.170 & 14.50 & 0 & 1 & 5 & 4\\\\\n",
       "\tFerrari Dino & 19.7 & 6 & 145.0 & 175 & 3.62 & 2.770 & 15.50 & 0 & 1 & 5 & 6\\\\\n",
       "\tMaserati Bora & 15.0 & 8 & 301.0 & 335 & 3.54 & 3.570 & 14.60 & 0 & 1 & 5 & 8\\\\\n",
       "\tVolvo 142E & 21.4 & 4 & 121.0 & 109 & 4.11 & 2.780 & 18.60 & 1 & 1 & 4 & 2\\\\\n",
       "\\end{tabular}\n"
      ],
      "text/markdown": [
       "\n",
       "A data.frame: 32 × 11\n",
       "\n",
       "| <!--/--> | mpg &lt;dbl&gt; | cyl &lt;dbl&gt; | disp &lt;dbl&gt; | hp &lt;dbl&gt; | drat &lt;dbl&gt; | wt &lt;dbl&gt; | qsec &lt;dbl&gt; | vs &lt;dbl&gt; | am &lt;dbl&gt; | gear &lt;dbl&gt; | carb &lt;dbl&gt; |\n",
       "|---|---|---|---|---|---|---|---|---|---|---|---|\n",
       "| Mazda RX4 | 21.0 | 6 | 160.0 | 110 | 3.90 | 2.620 | 16.46 | 0 | 1 | 4 | 4 |\n",
       "| Mazda RX4 Wag | 21.0 | 6 | 160.0 | 110 | 3.90 | 2.875 | 17.02 | 0 | 1 | 4 | 4 |\n",
       "| Datsun 710 | 22.8 | 4 | 108.0 |  93 | 3.85 | 2.320 | 18.61 | 1 | 1 | 4 | 1 |\n",
       "| Hornet 4 Drive | 21.4 | 6 | 258.0 | 110 | 3.08 | 3.215 | 19.44 | 1 | 0 | 3 | 1 |\n",
       "| Hornet Sportabout | 18.7 | 8 | 360.0 | 175 | 3.15 | 3.440 | 17.02 | 0 | 0 | 3 | 2 |\n",
       "| Valiant | 18.1 | 6 | 225.0 | 105 | 2.76 | 3.460 | 20.22 | 1 | 0 | 3 | 1 |\n",
       "| Duster 360 | 14.3 | 8 | 360.0 | 245 | 3.21 | 3.570 | 15.84 | 0 | 0 | 3 | 4 |\n",
       "| Merc 240D | 24.4 | 4 | 146.7 |  62 | 3.69 | 3.190 | 20.00 | 1 | 0 | 4 | 2 |\n",
       "| Merc 230 | 22.8 | 4 | 140.8 |  95 | 3.92 | 3.150 | 22.90 | 1 | 0 | 4 | 2 |\n",
       "| Merc 280 | 19.2 | 6 | 167.6 | 123 | 3.92 | 3.440 | 18.30 | 1 | 0 | 4 | 4 |\n",
       "| Merc 280C | 17.8 | 6 | 167.6 | 123 | 3.92 | 3.440 | 18.90 | 1 | 0 | 4 | 4 |\n",
       "| Merc 450SE | 16.4 | 8 | 275.8 | 180 | 3.07 | 4.070 | 17.40 | 0 | 0 | 3 | 3 |\n",
       "| Merc 450SL | 17.3 | 8 | 275.8 | 180 | 3.07 | 3.730 | 17.60 | 0 | 0 | 3 | 3 |\n",
       "| Merc 450SLC | 15.2 | 8 | 275.8 | 180 | 3.07 | 3.780 | 18.00 | 0 | 0 | 3 | 3 |\n",
       "| Cadillac Fleetwood | 10.4 | 8 | 472.0 | 205 | 2.93 | 5.250 | 17.98 | 0 | 0 | 3 | 4 |\n",
       "| Lincoln Continental | 10.4 | 8 | 460.0 | 215 | 3.00 | 5.424 | 17.82 | 0 | 0 | 3 | 4 |\n",
       "| Chrysler Imperial | 14.7 | 8 | 440.0 | 230 | 3.23 | 5.345 | 17.42 | 0 | 0 | 3 | 4 |\n",
       "| Fiat 128 | 32.4 | 4 |  78.7 |  66 | 4.08 | 2.200 | 19.47 | 1 | 1 | 4 | 1 |\n",
       "| Honda Civic | 30.4 | 4 |  75.7 |  52 | 4.93 | 1.615 | 18.52 | 1 | 1 | 4 | 2 |\n",
       "| Toyota Corolla | 33.9 | 4 |  71.1 |  65 | 4.22 | 1.835 | 19.90 | 1 | 1 | 4 | 1 |\n",
       "| Toyota Corona | 21.5 | 4 | 120.1 |  97 | 3.70 | 2.465 | 20.01 | 1 | 0 | 3 | 1 |\n",
       "| Dodge Challenger | 15.5 | 8 | 318.0 | 150 | 2.76 | 3.520 | 16.87 | 0 | 0 | 3 | 2 |\n",
       "| AMC Javelin | 15.2 | 8 | 304.0 | 150 | 3.15 | 3.435 | 17.30 | 0 | 0 | 3 | 2 |\n",
       "| Camaro Z28 | 13.3 | 8 | 350.0 | 245 | 3.73 | 3.840 | 15.41 | 0 | 0 | 3 | 4 |\n",
       "| Pontiac Firebird | 19.2 | 8 | 400.0 | 175 | 3.08 | 3.845 | 17.05 | 0 | 0 | 3 | 2 |\n",
       "| Fiat X1-9 | 27.3 | 4 |  79.0 |  66 | 4.08 | 1.935 | 18.90 | 1 | 1 | 4 | 1 |\n",
       "| Porsche 914-2 | 26.0 | 4 | 120.3 |  91 | 4.43 | 2.140 | 16.70 | 0 | 1 | 5 | 2 |\n",
       "| Lotus Europa | 30.4 | 4 |  95.1 | 113 | 3.77 | 1.513 | 16.90 | 1 | 1 | 5 | 2 |\n",
       "| Ford Pantera L | 15.8 | 8 | 351.0 | 264 | 4.22 | 3.170 | 14.50 | 0 | 1 | 5 | 4 |\n",
       "| Ferrari Dino | 19.7 | 6 | 145.0 | 175 | 3.62 | 2.770 | 15.50 | 0 | 1 | 5 | 6 |\n",
       "| Maserati Bora | 15.0 | 8 | 301.0 | 335 | 3.54 | 3.570 | 14.60 | 0 | 1 | 5 | 8 |\n",
       "| Volvo 142E | 21.4 | 4 | 121.0 | 109 | 4.11 | 2.780 | 18.60 | 1 | 1 | 4 | 2 |\n",
       "\n"
      ],
      "text/plain": [
       "                    mpg  cyl disp  hp  drat wt    qsec  vs am gear carb\n",
       "Mazda RX4           21.0 6   160.0 110 3.90 2.620 16.46 0  1  4    4   \n",
       "Mazda RX4 Wag       21.0 6   160.0 110 3.90 2.875 17.02 0  1  4    4   \n",
       "Datsun 710          22.8 4   108.0  93 3.85 2.320 18.61 1  1  4    1   \n",
       "Hornet 4 Drive      21.4 6   258.0 110 3.08 3.215 19.44 1  0  3    1   \n",
       "Hornet Sportabout   18.7 8   360.0 175 3.15 3.440 17.02 0  0  3    2   \n",
       "Valiant             18.1 6   225.0 105 2.76 3.460 20.22 1  0  3    1   \n",
       "Duster 360          14.3 8   360.0 245 3.21 3.570 15.84 0  0  3    4   \n",
       "Merc 240D           24.4 4   146.7  62 3.69 3.190 20.00 1  0  4    2   \n",
       "Merc 230            22.8 4   140.8  95 3.92 3.150 22.90 1  0  4    2   \n",
       "Merc 280            19.2 6   167.6 123 3.92 3.440 18.30 1  0  4    4   \n",
       "Merc 280C           17.8 6   167.6 123 3.92 3.440 18.90 1  0  4    4   \n",
       "Merc 450SE          16.4 8   275.8 180 3.07 4.070 17.40 0  0  3    3   \n",
       "Merc 450SL          17.3 8   275.8 180 3.07 3.730 17.60 0  0  3    3   \n",
       "Merc 450SLC         15.2 8   275.8 180 3.07 3.780 18.00 0  0  3    3   \n",
       "Cadillac Fleetwood  10.4 8   472.0 205 2.93 5.250 17.98 0  0  3    4   \n",
       "Lincoln Continental 10.4 8   460.0 215 3.00 5.424 17.82 0  0  3    4   \n",
       "Chrysler Imperial   14.7 8   440.0 230 3.23 5.345 17.42 0  0  3    4   \n",
       "Fiat 128            32.4 4    78.7  66 4.08 2.200 19.47 1  1  4    1   \n",
       "Honda Civic         30.4 4    75.7  52 4.93 1.615 18.52 1  1  4    2   \n",
       "Toyota Corolla      33.9 4    71.1  65 4.22 1.835 19.90 1  1  4    1   \n",
       "Toyota Corona       21.5 4   120.1  97 3.70 2.465 20.01 1  0  3    1   \n",
       "Dodge Challenger    15.5 8   318.0 150 2.76 3.520 16.87 0  0  3    2   \n",
       "AMC Javelin         15.2 8   304.0 150 3.15 3.435 17.30 0  0  3    2   \n",
       "Camaro Z28          13.3 8   350.0 245 3.73 3.840 15.41 0  0  3    4   \n",
       "Pontiac Firebird    19.2 8   400.0 175 3.08 3.845 17.05 0  0  3    2   \n",
       "Fiat X1-9           27.3 4    79.0  66 4.08 1.935 18.90 1  1  4    1   \n",
       "Porsche 914-2       26.0 4   120.3  91 4.43 2.140 16.70 0  1  5    2   \n",
       "Lotus Europa        30.4 4    95.1 113 3.77 1.513 16.90 1  1  5    2   \n",
       "Ford Pantera L      15.8 8   351.0 264 4.22 3.170 14.50 0  1  5    4   \n",
       "Ferrari Dino        19.7 6   145.0 175 3.62 2.770 15.50 0  1  5    6   \n",
       "Maserati Bora       15.0 8   301.0 335 3.54 3.570 14.60 0  1  5    8   \n",
       "Volvo 142E          21.4 4   121.0 109 4.11 2.780 18.60 1  1  4    2   "
      ]
     },
     "metadata": {},
     "output_type": "display_data"
    }
   ],
   "source": [
    "mtcars"
   ]
  },
  {
   "cell_type": "code",
   "execution_count": null,
   "id": "98df2aff",
   "metadata": {
    "vscode": {
     "languageId": "r"
    }
   },
   "outputs": [
    {
     "data": {
      "text/html": [
       "<table class=\"dataframe\">\n",
       "<caption>A data.frame: 93 × 27</caption>\n",
       "<thead>\n",
       "\t<tr><th></th><th scope=col>Manufacturer</th><th scope=col>Model</th><th scope=col>Type</th><th scope=col>Min.Price</th><th scope=col>Price</th><th scope=col>Max.Price</th><th scope=col>MPG.city</th><th scope=col>MPG.highway</th><th scope=col>AirBags</th><th scope=col>DriveTrain</th><th scope=col>⋯</th><th scope=col>Passengers</th><th scope=col>Length</th><th scope=col>Wheelbase</th><th scope=col>Width</th><th scope=col>Turn.circle</th><th scope=col>Rear.seat.room</th><th scope=col>Luggage.room</th><th scope=col>Weight</th><th scope=col>Origin</th><th scope=col>Make</th></tr>\n",
       "\t<tr><th></th><th scope=col>&lt;fct&gt;</th><th scope=col>&lt;fct&gt;</th><th scope=col>&lt;fct&gt;</th><th scope=col>&lt;dbl&gt;</th><th scope=col>&lt;dbl&gt;</th><th scope=col>&lt;dbl&gt;</th><th scope=col>&lt;int&gt;</th><th scope=col>&lt;int&gt;</th><th scope=col>&lt;fct&gt;</th><th scope=col>&lt;fct&gt;</th><th scope=col>⋯</th><th scope=col>&lt;int&gt;</th><th scope=col>&lt;int&gt;</th><th scope=col>&lt;int&gt;</th><th scope=col>&lt;int&gt;</th><th scope=col>&lt;int&gt;</th><th scope=col>&lt;dbl&gt;</th><th scope=col>&lt;int&gt;</th><th scope=col>&lt;int&gt;</th><th scope=col>&lt;fct&gt;</th><th scope=col>&lt;fct&gt;</th></tr>\n",
       "</thead>\n",
       "<tbody>\n",
       "\t<tr><th scope=row>1</th><td>Acura    </td><td>Integra   </td><td>Small  </td><td>12.9</td><td>15.9</td><td>18.8</td><td>25</td><td>31</td><td>None              </td><td>Front</td><td>⋯</td><td>5</td><td>177</td><td>102</td><td>68</td><td>37</td><td>26.5</td><td>11</td><td>2705</td><td>non-USA</td><td>Acura Integra       </td></tr>\n",
       "\t<tr><th scope=row>2</th><td><span style=white-space:pre-wrap>Acura    </span></td><td><span style=white-space:pre-wrap>Legend    </span></td><td>Midsize</td><td>29.2</td><td>33.9</td><td>38.7</td><td>18</td><td>25</td><td>Driver &amp; Passenger</td><td>Front</td><td>⋯</td><td>5</td><td>195</td><td>115</td><td>71</td><td>38</td><td>30.0</td><td>15</td><td>3560</td><td>non-USA</td><td><span style=white-space:pre-wrap>Acura Legend        </span></td></tr>\n",
       "\t<tr><th scope=row>3</th><td>Audi     </td><td>90        </td><td>Compact</td><td>25.9</td><td>29.1</td><td>32.3</td><td>20</td><td>26</td><td>Driver only       </td><td>Front</td><td>⋯</td><td>5</td><td>180</td><td>102</td><td>67</td><td>37</td><td>28.0</td><td>14</td><td>3375</td><td>non-USA</td><td>Audi 90             </td></tr>\n",
       "\t<tr><th scope=row>4</th><td><span style=white-space:pre-wrap>Audi     </span></td><td><span style=white-space:pre-wrap>100       </span></td><td>Midsize</td><td>30.8</td><td>37.7</td><td>44.6</td><td>19</td><td>26</td><td>Driver &amp; Passenger</td><td>Front</td><td>⋯</td><td>6</td><td>193</td><td>106</td><td>70</td><td>37</td><td>31.0</td><td>17</td><td>3405</td><td>non-USA</td><td><span style=white-space:pre-wrap>Audi 100            </span></td></tr>\n",
       "\t<tr><th scope=row>5</th><td>BMW      </td><td>535i      </td><td>Midsize</td><td>23.7</td><td>30.0</td><td>36.2</td><td>22</td><td>30</td><td>Driver only       </td><td>Rear </td><td>⋯</td><td>4</td><td>186</td><td>109</td><td>69</td><td>39</td><td>27.0</td><td>13</td><td>3640</td><td>non-USA</td><td>BMW 535i            </td></tr>\n",
       "\t<tr><th scope=row>6</th><td>Buick    </td><td>Century   </td><td>Midsize</td><td>14.2</td><td>15.7</td><td>17.3</td><td>22</td><td>31</td><td>Driver only       </td><td>Front</td><td>⋯</td><td>6</td><td>189</td><td>105</td><td>69</td><td>41</td><td>28.0</td><td>16</td><td>2880</td><td>USA    </td><td>Buick Century       </td></tr>\n",
       "\t<tr><th scope=row>7</th><td>Buick    </td><td>LeSabre   </td><td>Large  </td><td>19.9</td><td>20.8</td><td>21.7</td><td>19</td><td>28</td><td>Driver only       </td><td>Front</td><td>⋯</td><td>6</td><td>200</td><td>111</td><td>74</td><td>42</td><td>30.5</td><td>17</td><td>3470</td><td>USA    </td><td>Buick LeSabre       </td></tr>\n",
       "\t<tr><th scope=row>8</th><td>Buick    </td><td>Roadmaster</td><td>Large  </td><td>22.6</td><td>23.7</td><td>24.9</td><td>16</td><td>25</td><td>Driver only       </td><td>Rear </td><td>⋯</td><td>6</td><td>216</td><td>116</td><td>78</td><td>45</td><td>30.5</td><td>21</td><td>4105</td><td>USA    </td><td>Buick Roadmaster    </td></tr>\n",
       "\t<tr><th scope=row>9</th><td>Buick    </td><td>Riviera   </td><td>Midsize</td><td>26.3</td><td>26.3</td><td>26.3</td><td>19</td><td>27</td><td>Driver only       </td><td>Front</td><td>⋯</td><td>5</td><td>198</td><td>108</td><td>73</td><td>41</td><td>26.5</td><td>14</td><td>3495</td><td>USA    </td><td>Buick Riviera       </td></tr>\n",
       "\t<tr><th scope=row>10</th><td>Cadillac </td><td>DeVille   </td><td>Large  </td><td>33.0</td><td>34.7</td><td>36.3</td><td>16</td><td>25</td><td>Driver only       </td><td>Front</td><td>⋯</td><td>6</td><td>206</td><td>114</td><td>73</td><td>43</td><td>35.0</td><td>18</td><td>3620</td><td>USA    </td><td>Cadillac DeVille    </td></tr>\n",
       "\t<tr><th scope=row>11</th><td>Cadillac </td><td><span style=white-space:pre-wrap>Seville   </span></td><td>Midsize</td><td>37.5</td><td>40.1</td><td>42.7</td><td>16</td><td>25</td><td>Driver &amp; Passenger</td><td>Front</td><td>⋯</td><td>5</td><td>204</td><td>111</td><td>74</td><td>44</td><td>31.0</td><td>14</td><td>3935</td><td><span style=white-space:pre-wrap>USA    </span></td><td><span style=white-space:pre-wrap>Cadillac Seville    </span></td></tr>\n",
       "\t<tr><th scope=row>12</th><td>Chevrolet</td><td>Cavalier  </td><td>Compact</td><td> 8.5</td><td>13.4</td><td>18.3</td><td>25</td><td>36</td><td>None              </td><td>Front</td><td>⋯</td><td>5</td><td>182</td><td>101</td><td>66</td><td>38</td><td>25.0</td><td>13</td><td>2490</td><td>USA    </td><td>Chevrolet Cavalier  </td></tr>\n",
       "\t<tr><th scope=row>13</th><td>Chevrolet</td><td>Corsica   </td><td>Compact</td><td>11.4</td><td>11.4</td><td>11.4</td><td>25</td><td>34</td><td>Driver only       </td><td>Front</td><td>⋯</td><td>5</td><td>184</td><td>103</td><td>68</td><td>39</td><td>26.0</td><td>14</td><td>2785</td><td>USA    </td><td>Chevrolet Corsica   </td></tr>\n",
       "\t<tr><th scope=row>14</th><td>Chevrolet</td><td><span style=white-space:pre-wrap>Camaro    </span></td><td>Sporty </td><td>13.4</td><td>15.1</td><td>16.8</td><td>19</td><td>28</td><td>Driver &amp; Passenger</td><td>Rear </td><td>⋯</td><td>4</td><td>193</td><td>101</td><td>74</td><td>43</td><td>25.0</td><td>13</td><td>3240</td><td><span style=white-space:pre-wrap>USA    </span></td><td><span style=white-space:pre-wrap>Chevrolet Camaro    </span></td></tr>\n",
       "\t<tr><th scope=row>15</th><td>Chevrolet</td><td>Lumina    </td><td>Midsize</td><td>13.4</td><td>15.9</td><td>18.4</td><td>21</td><td>29</td><td>None              </td><td>Front</td><td>⋯</td><td>6</td><td>198</td><td>108</td><td>71</td><td>40</td><td>28.5</td><td>16</td><td>3195</td><td>USA    </td><td>Chevrolet Lumina    </td></tr>\n",
       "\t<tr><th scope=row>16</th><td>Chevrolet</td><td>Lumina_APV</td><td>Van    </td><td>14.7</td><td>16.3</td><td>18.0</td><td>18</td><td>23</td><td>None              </td><td>Front</td><td>⋯</td><td>7</td><td>178</td><td>110</td><td>74</td><td>44</td><td>30.5</td><td>NA</td><td>3715</td><td>USA    </td><td>Chevrolet Lumina_APV</td></tr>\n",
       "\t<tr><th scope=row>17</th><td>Chevrolet</td><td>Astro     </td><td>Van    </td><td>14.7</td><td>16.6</td><td>18.6</td><td>15</td><td>20</td><td>None              </td><td>4WD  </td><td>⋯</td><td>8</td><td>194</td><td>111</td><td>78</td><td>42</td><td>33.5</td><td>NA</td><td>4025</td><td>USA    </td><td>Chevrolet Astro     </td></tr>\n",
       "\t<tr><th scope=row>18</th><td>Chevrolet</td><td>Caprice   </td><td>Large  </td><td>18.0</td><td>18.8</td><td>19.6</td><td>17</td><td>26</td><td>Driver only       </td><td>Rear </td><td>⋯</td><td>6</td><td>214</td><td>116</td><td>77</td><td>42</td><td>29.5</td><td>20</td><td>3910</td><td>USA    </td><td>Chevrolet Caprice   </td></tr>\n",
       "\t<tr><th scope=row>19</th><td>Chevrolet</td><td>Corvette  </td><td>Sporty </td><td>34.6</td><td>38.0</td><td>41.5</td><td>17</td><td>25</td><td>Driver only       </td><td>Rear </td><td>⋯</td><td>2</td><td>179</td><td> 96</td><td>74</td><td>43</td><td>  NA</td><td>NA</td><td>3380</td><td>USA    </td><td>Chevrolet Corvette  </td></tr>\n",
       "\t<tr><th scope=row>20</th><td>Chrylser </td><td><span style=white-space:pre-wrap>Concorde  </span></td><td><span style=white-space:pre-wrap>Large  </span></td><td>18.4</td><td>18.4</td><td>18.4</td><td>20</td><td>28</td><td>Driver &amp; Passenger</td><td>Front</td><td>⋯</td><td>6</td><td>203</td><td>113</td><td>74</td><td>40</td><td>31.0</td><td>15</td><td>3515</td><td><span style=white-space:pre-wrap>USA    </span></td><td><span style=white-space:pre-wrap>Chrylser Concorde   </span></td></tr>\n",
       "\t<tr><th scope=row>21</th><td>Chrysler </td><td><span style=white-space:pre-wrap>LeBaron   </span></td><td>Compact</td><td>14.5</td><td>15.8</td><td>17.1</td><td>23</td><td>28</td><td>Driver &amp; Passenger</td><td>Front</td><td>⋯</td><td>6</td><td>183</td><td>104</td><td>68</td><td>41</td><td>30.5</td><td>14</td><td>3085</td><td><span style=white-space:pre-wrap>USA    </span></td><td><span style=white-space:pre-wrap>Chrysler LeBaron    </span></td></tr>\n",
       "\t<tr><th scope=row>22</th><td>Chrysler </td><td>Imperial  </td><td>Large  </td><td>29.5</td><td>29.5</td><td>29.5</td><td>20</td><td>26</td><td>Driver only       </td><td>Front</td><td>⋯</td><td>6</td><td>203</td><td>110</td><td>69</td><td>44</td><td>36.0</td><td>17</td><td>3570</td><td>USA    </td><td>Chrysler Imperial   </td></tr>\n",
       "\t<tr><th scope=row>23</th><td>Dodge    </td><td>Colt      </td><td>Small  </td><td> 7.9</td><td> 9.2</td><td>10.6</td><td>29</td><td>33</td><td>None              </td><td>Front</td><td>⋯</td><td>5</td><td>174</td><td> 98</td><td>66</td><td>32</td><td>26.5</td><td>11</td><td>2270</td><td>USA    </td><td>Dodge Colt          </td></tr>\n",
       "\t<tr><th scope=row>24</th><td>Dodge    </td><td>Shadow    </td><td>Small  </td><td> 8.4</td><td>11.3</td><td>14.2</td><td>23</td><td>29</td><td>Driver only       </td><td>Front</td><td>⋯</td><td>5</td><td>172</td><td> 97</td><td>67</td><td>38</td><td>26.5</td><td>13</td><td>2670</td><td>USA    </td><td>Dodge Shadow        </td></tr>\n",
       "\t<tr><th scope=row>25</th><td>Dodge    </td><td>Spirit    </td><td>Compact</td><td>11.9</td><td>13.3</td><td>14.7</td><td>22</td><td>27</td><td>Driver only       </td><td>Front</td><td>⋯</td><td>6</td><td>181</td><td>104</td><td>68</td><td>39</td><td>30.5</td><td>14</td><td>2970</td><td>USA    </td><td>Dodge Spirit        </td></tr>\n",
       "\t<tr><th scope=row>26</th><td>Dodge    </td><td>Caravan   </td><td>Van    </td><td>13.6</td><td>19.0</td><td>24.4</td><td>17</td><td>21</td><td>Driver only       </td><td>4WD  </td><td>⋯</td><td>7</td><td>175</td><td>112</td><td>72</td><td>42</td><td>26.5</td><td>NA</td><td>3705</td><td>USA    </td><td>Dodge Caravan       </td></tr>\n",
       "\t<tr><th scope=row>27</th><td>Dodge    </td><td>Dynasty   </td><td>Midsize</td><td>14.8</td><td>15.6</td><td>16.4</td><td>21</td><td>27</td><td>Driver only       </td><td>Front</td><td>⋯</td><td>6</td><td>192</td><td>105</td><td>69</td><td>42</td><td>30.5</td><td>16</td><td>3080</td><td>USA    </td><td>Dodge Dynasty       </td></tr>\n",
       "\t<tr><th scope=row>28</th><td>Dodge    </td><td>Stealth   </td><td>Sporty </td><td>18.5</td><td>25.8</td><td>33.1</td><td>18</td><td>24</td><td>Driver only       </td><td>4WD  </td><td>⋯</td><td>4</td><td>180</td><td> 97</td><td>72</td><td>40</td><td>20.0</td><td>11</td><td>3805</td><td>USA    </td><td>Dodge Stealth       </td></tr>\n",
       "\t<tr><th scope=row>29</th><td>Eagle    </td><td>Summit    </td><td>Small  </td><td> 7.9</td><td>12.2</td><td>16.5</td><td>29</td><td>33</td><td>None              </td><td>Front</td><td>⋯</td><td>5</td><td>174</td><td> 98</td><td>66</td><td>36</td><td>26.5</td><td>11</td><td>2295</td><td>USA    </td><td>Eagle Summit        </td></tr>\n",
       "\t<tr><th scope=row>30</th><td><span style=white-space:pre-wrap>Eagle    </span></td><td><span style=white-space:pre-wrap>Vision    </span></td><td><span style=white-space:pre-wrap>Large  </span></td><td>17.5</td><td>19.3</td><td>21.2</td><td>20</td><td>28</td><td>Driver &amp; Passenger</td><td>Front</td><td>⋯</td><td>6</td><td>202</td><td>113</td><td>74</td><td>40</td><td>30.0</td><td>15</td><td>3490</td><td><span style=white-space:pre-wrap>USA    </span></td><td><span style=white-space:pre-wrap>Eagle Vision        </span></td></tr>\n",
       "\t<tr><th scope=row>⋮</th><td>⋮</td><td>⋮</td><td>⋮</td><td>⋮</td><td>⋮</td><td>⋮</td><td>⋮</td><td>⋮</td><td>⋮</td><td>⋮</td><td>⋱</td><td>⋮</td><td>⋮</td><td>⋮</td><td>⋮</td><td>⋮</td><td>⋮</td><td>⋮</td><td>⋮</td><td>⋮</td><td>⋮</td></tr>\n",
       "\t<tr><th scope=row>64</th><td>Nissan    </td><td>Sentra       </td><td>Small  </td><td> 8.7</td><td>11.8</td><td>14.9</td><td>29</td><td>33</td><td>Driver only       </td><td>Front</td><td>⋯</td><td>5</td><td>170</td><td> 96</td><td>66</td><td>33</td><td>26.0</td><td>12</td><td>2545</td><td>non-USA</td><td>Nissan Sentra           </td></tr>\n",
       "\t<tr><th scope=row>65</th><td>Nissan    </td><td>Altima       </td><td>Compact</td><td>13.0</td><td>15.7</td><td>18.3</td><td>24</td><td>30</td><td>Driver only       </td><td>Front</td><td>⋯</td><td>5</td><td>181</td><td>103</td><td>67</td><td>40</td><td>28.5</td><td>14</td><td>3050</td><td>non-USA</td><td>Nissan Altima           </td></tr>\n",
       "\t<tr><th scope=row>66</th><td>Nissan    </td><td>Quest        </td><td>Van    </td><td>16.7</td><td>19.1</td><td>21.5</td><td>17</td><td>23</td><td>None              </td><td>Front</td><td>⋯</td><td>7</td><td>190</td><td>112</td><td>74</td><td>41</td><td>27.0</td><td>NA</td><td>4100</td><td>non-USA</td><td>Nissan Quest            </td></tr>\n",
       "\t<tr><th scope=row>67</th><td>Nissan    </td><td>Maxima       </td><td>Midsize</td><td>21.0</td><td>21.5</td><td>22.0</td><td>21</td><td>26</td><td>Driver only       </td><td>Front</td><td>⋯</td><td>5</td><td>188</td><td>104</td><td>69</td><td>41</td><td>28.5</td><td>14</td><td>3200</td><td>non-USA</td><td>Nissan Maxima           </td></tr>\n",
       "\t<tr><th scope=row>68</th><td>Oldsmobile</td><td>Achieva      </td><td>Compact</td><td>13.0</td><td>13.5</td><td>14.0</td><td>24</td><td>31</td><td>None              </td><td>Front</td><td>⋯</td><td>5</td><td>188</td><td>103</td><td>67</td><td>39</td><td>28.0</td><td>14</td><td>2910</td><td>USA    </td><td>Oldsmobile Achieva      </td></tr>\n",
       "\t<tr><th scope=row>69</th><td>Oldsmobile</td><td>Cutlass_Ciera</td><td>Midsize</td><td>14.2</td><td>16.3</td><td>18.4</td><td>23</td><td>31</td><td>Driver only       </td><td>Front</td><td>⋯</td><td>5</td><td>190</td><td>105</td><td>70</td><td>42</td><td>28.0</td><td>16</td><td>2890</td><td>USA    </td><td>Oldsmobile Cutlass_Ciera</td></tr>\n",
       "\t<tr><th scope=row>70</th><td>Oldsmobile</td><td>Silhouette   </td><td>Van    </td><td>19.5</td><td>19.5</td><td>19.5</td><td>18</td><td>23</td><td>None              </td><td>Front</td><td>⋯</td><td>7</td><td>194</td><td>110</td><td>74</td><td>44</td><td>30.5</td><td>NA</td><td>3715</td><td>USA    </td><td>Oldsmobile Silhouette   </td></tr>\n",
       "\t<tr><th scope=row>71</th><td>Oldsmobile</td><td>Eighty-Eight </td><td>Large  </td><td>19.5</td><td>20.7</td><td>21.9</td><td>19</td><td>28</td><td>Driver only       </td><td>Front</td><td>⋯</td><td>6</td><td>201</td><td>111</td><td>74</td><td>42</td><td>31.5</td><td>17</td><td>3470</td><td>USA    </td><td>Oldsmobile Eighty-Eight </td></tr>\n",
       "\t<tr><th scope=row>72</th><td>Plymouth  </td><td>Laser        </td><td>Sporty </td><td>11.4</td><td>14.4</td><td>17.4</td><td>23</td><td>30</td><td>None              </td><td>4WD  </td><td>⋯</td><td>4</td><td>173</td><td> 97</td><td>67</td><td>39</td><td>24.5</td><td> 8</td><td>2640</td><td>USA    </td><td>Plymouth Laser          </td></tr>\n",
       "\t<tr><th scope=row>73</th><td>Pontiac   </td><td>LeMans       </td><td>Small  </td><td> 8.2</td><td> 9.0</td><td> 9.9</td><td>31</td><td>41</td><td>None              </td><td>Front</td><td>⋯</td><td>4</td><td>177</td><td> 99</td><td>66</td><td>35</td><td>25.5</td><td>17</td><td>2350</td><td>USA    </td><td>Pontiac LeMans          </td></tr>\n",
       "\t<tr><th scope=row>74</th><td>Pontiac   </td><td>Sunbird      </td><td>Compact</td><td> 9.4</td><td>11.1</td><td>12.8</td><td>23</td><td>31</td><td>None              </td><td>Front</td><td>⋯</td><td>5</td><td>181</td><td>101</td><td>66</td><td>39</td><td>25.0</td><td>13</td><td>2575</td><td>USA    </td><td>Pontiac Sunbird         </td></tr>\n",
       "\t<tr><th scope=row>75</th><td><span style=white-space:pre-wrap>Pontiac   </span></td><td><span style=white-space:pre-wrap>Firebird     </span></td><td>Sporty </td><td>14.0</td><td>17.7</td><td>21.4</td><td>19</td><td>28</td><td>Driver &amp; Passenger</td><td>Rear </td><td>⋯</td><td>4</td><td>196</td><td>101</td><td>75</td><td>43</td><td>25.0</td><td>13</td><td>3240</td><td><span style=white-space:pre-wrap>USA    </span></td><td><span style=white-space:pre-wrap>Pontiac Firebird        </span></td></tr>\n",
       "\t<tr><th scope=row>76</th><td>Pontiac   </td><td>Grand_Prix   </td><td>Midsize</td><td>15.4</td><td>18.5</td><td>21.6</td><td>19</td><td>27</td><td>None              </td><td>Front</td><td>⋯</td><td>5</td><td>195</td><td>108</td><td>72</td><td>41</td><td>28.5</td><td>16</td><td>3450</td><td>USA    </td><td>Pontiac Grand_Prix      </td></tr>\n",
       "\t<tr><th scope=row>77</th><td><span style=white-space:pre-wrap>Pontiac   </span></td><td><span style=white-space:pre-wrap>Bonneville   </span></td><td><span style=white-space:pre-wrap>Large  </span></td><td>19.4</td><td>24.4</td><td>29.4</td><td>19</td><td>28</td><td>Driver &amp; Passenger</td><td>Front</td><td>⋯</td><td>6</td><td>177</td><td>111</td><td>74</td><td>43</td><td>30.5</td><td>18</td><td>3495</td><td><span style=white-space:pre-wrap>USA    </span></td><td><span style=white-space:pre-wrap>Pontiac Bonneville      </span></td></tr>\n",
       "\t<tr><th scope=row>78</th><td>Saab      </td><td>900          </td><td>Compact</td><td>20.3</td><td>28.7</td><td>37.1</td><td>20</td><td>26</td><td>Driver only       </td><td>Front</td><td>⋯</td><td>5</td><td>184</td><td> 99</td><td>67</td><td>37</td><td>26.5</td><td>14</td><td>2775</td><td>non-USA</td><td>Saab 900                </td></tr>\n",
       "\t<tr><th scope=row>79</th><td>Saturn    </td><td>SL           </td><td>Small  </td><td> 9.2</td><td>11.1</td><td>12.9</td><td>28</td><td>38</td><td>Driver only       </td><td>Front</td><td>⋯</td><td>5</td><td>176</td><td>102</td><td>68</td><td>40</td><td>26.5</td><td>12</td><td>2495</td><td>USA    </td><td>Saturn SL               </td></tr>\n",
       "\t<tr><th scope=row>80</th><td>Subaru    </td><td>Justy        </td><td>Small  </td><td> 7.3</td><td> 8.4</td><td> 9.5</td><td>33</td><td>37</td><td>None              </td><td>4WD  </td><td>⋯</td><td>4</td><td>146</td><td> 90</td><td>60</td><td>32</td><td>23.5</td><td>10</td><td>2045</td><td>non-USA</td><td>Subaru Justy            </td></tr>\n",
       "\t<tr><th scope=row>81</th><td>Subaru    </td><td>Loyale       </td><td>Small  </td><td>10.5</td><td>10.9</td><td>11.3</td><td>25</td><td>30</td><td>None              </td><td>4WD  </td><td>⋯</td><td>5</td><td>175</td><td> 97</td><td>65</td><td>35</td><td>27.5</td><td>15</td><td>2490</td><td>non-USA</td><td>Subaru Loyale           </td></tr>\n",
       "\t<tr><th scope=row>82</th><td>Subaru    </td><td>Legacy       </td><td>Compact</td><td>16.3</td><td>19.5</td><td>22.7</td><td>23</td><td>30</td><td>Driver only       </td><td>4WD  </td><td>⋯</td><td>5</td><td>179</td><td>102</td><td>67</td><td>37</td><td>27.0</td><td>14</td><td>3085</td><td>non-USA</td><td>Subaru Legacy           </td></tr>\n",
       "\t<tr><th scope=row>83</th><td>Suzuki    </td><td>Swift        </td><td>Small  </td><td> 7.3</td><td> 8.6</td><td>10.0</td><td>39</td><td>43</td><td>None              </td><td>Front</td><td>⋯</td><td>4</td><td>161</td><td> 93</td><td>63</td><td>34</td><td>27.5</td><td>10</td><td>1965</td><td>non-USA</td><td>Suzuki Swift            </td></tr>\n",
       "\t<tr><th scope=row>84</th><td>Toyota    </td><td>Tercel       </td><td>Small  </td><td> 7.8</td><td> 9.8</td><td>11.8</td><td>32</td><td>37</td><td>Driver only       </td><td>Front</td><td>⋯</td><td>5</td><td>162</td><td> 94</td><td>65</td><td>36</td><td>24.0</td><td>11</td><td>2055</td><td>non-USA</td><td>Toyota Tercel           </td></tr>\n",
       "\t<tr><th scope=row>85</th><td>Toyota    </td><td>Celica       </td><td>Sporty </td><td>14.2</td><td>18.4</td><td>22.6</td><td>25</td><td>32</td><td>Driver only       </td><td>Front</td><td>⋯</td><td>4</td><td>174</td><td> 99</td><td>69</td><td>39</td><td>23.0</td><td>13</td><td>2950</td><td>non-USA</td><td>Toyota Celica           </td></tr>\n",
       "\t<tr><th scope=row>86</th><td>Toyota    </td><td>Camry        </td><td>Midsize</td><td>15.2</td><td>18.2</td><td>21.2</td><td>22</td><td>29</td><td>Driver only       </td><td>Front</td><td>⋯</td><td>5</td><td>188</td><td>103</td><td>70</td><td>38</td><td>28.5</td><td>15</td><td>3030</td><td>non-USA</td><td>Toyota Camry            </td></tr>\n",
       "\t<tr><th scope=row>87</th><td>Toyota    </td><td>Previa       </td><td>Van    </td><td>18.9</td><td>22.7</td><td>26.6</td><td>18</td><td>22</td><td>Driver only       </td><td>4WD  </td><td>⋯</td><td>7</td><td>187</td><td>113</td><td>71</td><td>41</td><td>35.0</td><td>NA</td><td>3785</td><td>non-USA</td><td>Toyota Previa           </td></tr>\n",
       "\t<tr><th scope=row>88</th><td>Volkswagen</td><td>Fox          </td><td>Small  </td><td> 8.7</td><td> 9.1</td><td> 9.5</td><td>25</td><td>33</td><td>None              </td><td>Front</td><td>⋯</td><td>4</td><td>163</td><td> 93</td><td>63</td><td>34</td><td>26.0</td><td>10</td><td>2240</td><td>non-USA</td><td>Volkswagen Fox          </td></tr>\n",
       "\t<tr><th scope=row>89</th><td>Volkswagen</td><td>Eurovan      </td><td>Van    </td><td>16.6</td><td>19.7</td><td>22.7</td><td>17</td><td>21</td><td>None              </td><td>Front</td><td>⋯</td><td>7</td><td>187</td><td>115</td><td>72</td><td>38</td><td>34.0</td><td>NA</td><td>3960</td><td>non-USA</td><td>Volkswagen Eurovan      </td></tr>\n",
       "\t<tr><th scope=row>90</th><td>Volkswagen</td><td>Passat       </td><td>Compact</td><td>17.6</td><td>20.0</td><td>22.4</td><td>21</td><td>30</td><td>None              </td><td>Front</td><td>⋯</td><td>5</td><td>180</td><td>103</td><td>67</td><td>35</td><td>31.5</td><td>14</td><td>2985</td><td>non-USA</td><td>Volkswagen Passat       </td></tr>\n",
       "\t<tr><th scope=row>91</th><td>Volkswagen</td><td>Corrado      </td><td>Sporty </td><td>22.9</td><td>23.3</td><td>23.7</td><td>18</td><td>25</td><td>None              </td><td>Front</td><td>⋯</td><td>4</td><td>159</td><td> 97</td><td>66</td><td>36</td><td>26.0</td><td>15</td><td>2810</td><td>non-USA</td><td>Volkswagen Corrado      </td></tr>\n",
       "\t<tr><th scope=row>92</th><td>Volvo     </td><td>240          </td><td>Compact</td><td>21.8</td><td>22.7</td><td>23.5</td><td>21</td><td>28</td><td>Driver only       </td><td>Rear </td><td>⋯</td><td>5</td><td>190</td><td>104</td><td>67</td><td>37</td><td>29.5</td><td>14</td><td>2985</td><td>non-USA</td><td>Volvo 240               </td></tr>\n",
       "\t<tr><th scope=row>93</th><td><span style=white-space:pre-wrap>Volvo     </span></td><td><span style=white-space:pre-wrap>850          </span></td><td>Midsize</td><td>24.8</td><td>26.7</td><td>28.5</td><td>20</td><td>28</td><td>Driver &amp; Passenger</td><td>Front</td><td>⋯</td><td>5</td><td>184</td><td>105</td><td>69</td><td>38</td><td>30.0</td><td>15</td><td>3245</td><td>non-USA</td><td><span style=white-space:pre-wrap>Volvo 850               </span></td></tr>\n",
       "</tbody>\n",
       "</table>\n"
      ],
      "text/latex": [
       "A data.frame: 93 × 27\n",
       "\\begin{tabular}{r|lllllllllllllllllllll}\n",
       "  & Manufacturer & Model & Type & Min.Price & Price & Max.Price & MPG.city & MPG.highway & AirBags & DriveTrain & ⋯ & Passengers & Length & Wheelbase & Width & Turn.circle & Rear.seat.room & Luggage.room & Weight & Origin & Make\\\\\n",
       "  & <fct> & <fct> & <fct> & <dbl> & <dbl> & <dbl> & <int> & <int> & <fct> & <fct> & ⋯ & <int> & <int> & <int> & <int> & <int> & <dbl> & <int> & <int> & <fct> & <fct>\\\\\n",
       "\\hline\n",
       "\t1 & Acura     & Integra    & Small   & 12.9 & 15.9 & 18.8 & 25 & 31 & None               & Front & ⋯ & 5 & 177 & 102 & 68 & 37 & 26.5 & 11 & 2705 & non-USA & Acura Integra       \\\\\n",
       "\t2 & Acura     & Legend     & Midsize & 29.2 & 33.9 & 38.7 & 18 & 25 & Driver \\& Passenger & Front & ⋯ & 5 & 195 & 115 & 71 & 38 & 30.0 & 15 & 3560 & non-USA & Acura Legend        \\\\\n",
       "\t3 & Audi      & 90         & Compact & 25.9 & 29.1 & 32.3 & 20 & 26 & Driver only        & Front & ⋯ & 5 & 180 & 102 & 67 & 37 & 28.0 & 14 & 3375 & non-USA & Audi 90             \\\\\n",
       "\t4 & Audi      & 100        & Midsize & 30.8 & 37.7 & 44.6 & 19 & 26 & Driver \\& Passenger & Front & ⋯ & 6 & 193 & 106 & 70 & 37 & 31.0 & 17 & 3405 & non-USA & Audi 100            \\\\\n",
       "\t5 & BMW       & 535i       & Midsize & 23.7 & 30.0 & 36.2 & 22 & 30 & Driver only        & Rear  & ⋯ & 4 & 186 & 109 & 69 & 39 & 27.0 & 13 & 3640 & non-USA & BMW 535i            \\\\\n",
       "\t6 & Buick     & Century    & Midsize & 14.2 & 15.7 & 17.3 & 22 & 31 & Driver only        & Front & ⋯ & 6 & 189 & 105 & 69 & 41 & 28.0 & 16 & 2880 & USA     & Buick Century       \\\\\n",
       "\t7 & Buick     & LeSabre    & Large   & 19.9 & 20.8 & 21.7 & 19 & 28 & Driver only        & Front & ⋯ & 6 & 200 & 111 & 74 & 42 & 30.5 & 17 & 3470 & USA     & Buick LeSabre       \\\\\n",
       "\t8 & Buick     & Roadmaster & Large   & 22.6 & 23.7 & 24.9 & 16 & 25 & Driver only        & Rear  & ⋯ & 6 & 216 & 116 & 78 & 45 & 30.5 & 21 & 4105 & USA     & Buick Roadmaster    \\\\\n",
       "\t9 & Buick     & Riviera    & Midsize & 26.3 & 26.3 & 26.3 & 19 & 27 & Driver only        & Front & ⋯ & 5 & 198 & 108 & 73 & 41 & 26.5 & 14 & 3495 & USA     & Buick Riviera       \\\\\n",
       "\t10 & Cadillac  & DeVille    & Large   & 33.0 & 34.7 & 36.3 & 16 & 25 & Driver only        & Front & ⋯ & 6 & 206 & 114 & 73 & 43 & 35.0 & 18 & 3620 & USA     & Cadillac DeVille    \\\\\n",
       "\t11 & Cadillac  & Seville    & Midsize & 37.5 & 40.1 & 42.7 & 16 & 25 & Driver \\& Passenger & Front & ⋯ & 5 & 204 & 111 & 74 & 44 & 31.0 & 14 & 3935 & USA     & Cadillac Seville    \\\\\n",
       "\t12 & Chevrolet & Cavalier   & Compact &  8.5 & 13.4 & 18.3 & 25 & 36 & None               & Front & ⋯ & 5 & 182 & 101 & 66 & 38 & 25.0 & 13 & 2490 & USA     & Chevrolet Cavalier  \\\\\n",
       "\t13 & Chevrolet & Corsica    & Compact & 11.4 & 11.4 & 11.4 & 25 & 34 & Driver only        & Front & ⋯ & 5 & 184 & 103 & 68 & 39 & 26.0 & 14 & 2785 & USA     & Chevrolet Corsica   \\\\\n",
       "\t14 & Chevrolet & Camaro     & Sporty  & 13.4 & 15.1 & 16.8 & 19 & 28 & Driver \\& Passenger & Rear  & ⋯ & 4 & 193 & 101 & 74 & 43 & 25.0 & 13 & 3240 & USA     & Chevrolet Camaro    \\\\\n",
       "\t15 & Chevrolet & Lumina     & Midsize & 13.4 & 15.9 & 18.4 & 21 & 29 & None               & Front & ⋯ & 6 & 198 & 108 & 71 & 40 & 28.5 & 16 & 3195 & USA     & Chevrolet Lumina    \\\\\n",
       "\t16 & Chevrolet & Lumina\\_APV & Van     & 14.7 & 16.3 & 18.0 & 18 & 23 & None               & Front & ⋯ & 7 & 178 & 110 & 74 & 44 & 30.5 & NA & 3715 & USA     & Chevrolet Lumina\\_APV\\\\\n",
       "\t17 & Chevrolet & Astro      & Van     & 14.7 & 16.6 & 18.6 & 15 & 20 & None               & 4WD   & ⋯ & 8 & 194 & 111 & 78 & 42 & 33.5 & NA & 4025 & USA     & Chevrolet Astro     \\\\\n",
       "\t18 & Chevrolet & Caprice    & Large   & 18.0 & 18.8 & 19.6 & 17 & 26 & Driver only        & Rear  & ⋯ & 6 & 214 & 116 & 77 & 42 & 29.5 & 20 & 3910 & USA     & Chevrolet Caprice   \\\\\n",
       "\t19 & Chevrolet & Corvette   & Sporty  & 34.6 & 38.0 & 41.5 & 17 & 25 & Driver only        & Rear  & ⋯ & 2 & 179 &  96 & 74 & 43 &   NA & NA & 3380 & USA     & Chevrolet Corvette  \\\\\n",
       "\t20 & Chrylser  & Concorde   & Large   & 18.4 & 18.4 & 18.4 & 20 & 28 & Driver \\& Passenger & Front & ⋯ & 6 & 203 & 113 & 74 & 40 & 31.0 & 15 & 3515 & USA     & Chrylser Concorde   \\\\\n",
       "\t21 & Chrysler  & LeBaron    & Compact & 14.5 & 15.8 & 17.1 & 23 & 28 & Driver \\& Passenger & Front & ⋯ & 6 & 183 & 104 & 68 & 41 & 30.5 & 14 & 3085 & USA     & Chrysler LeBaron    \\\\\n",
       "\t22 & Chrysler  & Imperial   & Large   & 29.5 & 29.5 & 29.5 & 20 & 26 & Driver only        & Front & ⋯ & 6 & 203 & 110 & 69 & 44 & 36.0 & 17 & 3570 & USA     & Chrysler Imperial   \\\\\n",
       "\t23 & Dodge     & Colt       & Small   &  7.9 &  9.2 & 10.6 & 29 & 33 & None               & Front & ⋯ & 5 & 174 &  98 & 66 & 32 & 26.5 & 11 & 2270 & USA     & Dodge Colt          \\\\\n",
       "\t24 & Dodge     & Shadow     & Small   &  8.4 & 11.3 & 14.2 & 23 & 29 & Driver only        & Front & ⋯ & 5 & 172 &  97 & 67 & 38 & 26.5 & 13 & 2670 & USA     & Dodge Shadow        \\\\\n",
       "\t25 & Dodge     & Spirit     & Compact & 11.9 & 13.3 & 14.7 & 22 & 27 & Driver only        & Front & ⋯ & 6 & 181 & 104 & 68 & 39 & 30.5 & 14 & 2970 & USA     & Dodge Spirit        \\\\\n",
       "\t26 & Dodge     & Caravan    & Van     & 13.6 & 19.0 & 24.4 & 17 & 21 & Driver only        & 4WD   & ⋯ & 7 & 175 & 112 & 72 & 42 & 26.5 & NA & 3705 & USA     & Dodge Caravan       \\\\\n",
       "\t27 & Dodge     & Dynasty    & Midsize & 14.8 & 15.6 & 16.4 & 21 & 27 & Driver only        & Front & ⋯ & 6 & 192 & 105 & 69 & 42 & 30.5 & 16 & 3080 & USA     & Dodge Dynasty       \\\\\n",
       "\t28 & Dodge     & Stealth    & Sporty  & 18.5 & 25.8 & 33.1 & 18 & 24 & Driver only        & 4WD   & ⋯ & 4 & 180 &  97 & 72 & 40 & 20.0 & 11 & 3805 & USA     & Dodge Stealth       \\\\\n",
       "\t29 & Eagle     & Summit     & Small   &  7.9 & 12.2 & 16.5 & 29 & 33 & None               & Front & ⋯ & 5 & 174 &  98 & 66 & 36 & 26.5 & 11 & 2295 & USA     & Eagle Summit        \\\\\n",
       "\t30 & Eagle     & Vision     & Large   & 17.5 & 19.3 & 21.2 & 20 & 28 & Driver \\& Passenger & Front & ⋯ & 6 & 202 & 113 & 74 & 40 & 30.0 & 15 & 3490 & USA     & Eagle Vision        \\\\\n",
       "\t⋮ & ⋮ & ⋮ & ⋮ & ⋮ & ⋮ & ⋮ & ⋮ & ⋮ & ⋮ & ⋮ & ⋱ & ⋮ & ⋮ & ⋮ & ⋮ & ⋮ & ⋮ & ⋮ & ⋮ & ⋮ & ⋮\\\\\n",
       "\t64 & Nissan     & Sentra        & Small   &  8.7 & 11.8 & 14.9 & 29 & 33 & Driver only        & Front & ⋯ & 5 & 170 &  96 & 66 & 33 & 26.0 & 12 & 2545 & non-USA & Nissan Sentra           \\\\\n",
       "\t65 & Nissan     & Altima        & Compact & 13.0 & 15.7 & 18.3 & 24 & 30 & Driver only        & Front & ⋯ & 5 & 181 & 103 & 67 & 40 & 28.5 & 14 & 3050 & non-USA & Nissan Altima           \\\\\n",
       "\t66 & Nissan     & Quest         & Van     & 16.7 & 19.1 & 21.5 & 17 & 23 & None               & Front & ⋯ & 7 & 190 & 112 & 74 & 41 & 27.0 & NA & 4100 & non-USA & Nissan Quest            \\\\\n",
       "\t67 & Nissan     & Maxima        & Midsize & 21.0 & 21.5 & 22.0 & 21 & 26 & Driver only        & Front & ⋯ & 5 & 188 & 104 & 69 & 41 & 28.5 & 14 & 3200 & non-USA & Nissan Maxima           \\\\\n",
       "\t68 & Oldsmobile & Achieva       & Compact & 13.0 & 13.5 & 14.0 & 24 & 31 & None               & Front & ⋯ & 5 & 188 & 103 & 67 & 39 & 28.0 & 14 & 2910 & USA     & Oldsmobile Achieva      \\\\\n",
       "\t69 & Oldsmobile & Cutlass\\_Ciera & Midsize & 14.2 & 16.3 & 18.4 & 23 & 31 & Driver only        & Front & ⋯ & 5 & 190 & 105 & 70 & 42 & 28.0 & 16 & 2890 & USA     & Oldsmobile Cutlass\\_Ciera\\\\\n",
       "\t70 & Oldsmobile & Silhouette    & Van     & 19.5 & 19.5 & 19.5 & 18 & 23 & None               & Front & ⋯ & 7 & 194 & 110 & 74 & 44 & 30.5 & NA & 3715 & USA     & Oldsmobile Silhouette   \\\\\n",
       "\t71 & Oldsmobile & Eighty-Eight  & Large   & 19.5 & 20.7 & 21.9 & 19 & 28 & Driver only        & Front & ⋯ & 6 & 201 & 111 & 74 & 42 & 31.5 & 17 & 3470 & USA     & Oldsmobile Eighty-Eight \\\\\n",
       "\t72 & Plymouth   & Laser         & Sporty  & 11.4 & 14.4 & 17.4 & 23 & 30 & None               & 4WD   & ⋯ & 4 & 173 &  97 & 67 & 39 & 24.5 &  8 & 2640 & USA     & Plymouth Laser          \\\\\n",
       "\t73 & Pontiac    & LeMans        & Small   &  8.2 &  9.0 &  9.9 & 31 & 41 & None               & Front & ⋯ & 4 & 177 &  99 & 66 & 35 & 25.5 & 17 & 2350 & USA     & Pontiac LeMans          \\\\\n",
       "\t74 & Pontiac    & Sunbird       & Compact &  9.4 & 11.1 & 12.8 & 23 & 31 & None               & Front & ⋯ & 5 & 181 & 101 & 66 & 39 & 25.0 & 13 & 2575 & USA     & Pontiac Sunbird         \\\\\n",
       "\t75 & Pontiac    & Firebird      & Sporty  & 14.0 & 17.7 & 21.4 & 19 & 28 & Driver \\& Passenger & Rear  & ⋯ & 4 & 196 & 101 & 75 & 43 & 25.0 & 13 & 3240 & USA     & Pontiac Firebird        \\\\\n",
       "\t76 & Pontiac    & Grand\\_Prix    & Midsize & 15.4 & 18.5 & 21.6 & 19 & 27 & None               & Front & ⋯ & 5 & 195 & 108 & 72 & 41 & 28.5 & 16 & 3450 & USA     & Pontiac Grand\\_Prix      \\\\\n",
       "\t77 & Pontiac    & Bonneville    & Large   & 19.4 & 24.4 & 29.4 & 19 & 28 & Driver \\& Passenger & Front & ⋯ & 6 & 177 & 111 & 74 & 43 & 30.5 & 18 & 3495 & USA     & Pontiac Bonneville      \\\\\n",
       "\t78 & Saab       & 900           & Compact & 20.3 & 28.7 & 37.1 & 20 & 26 & Driver only        & Front & ⋯ & 5 & 184 &  99 & 67 & 37 & 26.5 & 14 & 2775 & non-USA & Saab 900                \\\\\n",
       "\t79 & Saturn     & SL            & Small   &  9.2 & 11.1 & 12.9 & 28 & 38 & Driver only        & Front & ⋯ & 5 & 176 & 102 & 68 & 40 & 26.5 & 12 & 2495 & USA     & Saturn SL               \\\\\n",
       "\t80 & Subaru     & Justy         & Small   &  7.3 &  8.4 &  9.5 & 33 & 37 & None               & 4WD   & ⋯ & 4 & 146 &  90 & 60 & 32 & 23.5 & 10 & 2045 & non-USA & Subaru Justy            \\\\\n",
       "\t81 & Subaru     & Loyale        & Small   & 10.5 & 10.9 & 11.3 & 25 & 30 & None               & 4WD   & ⋯ & 5 & 175 &  97 & 65 & 35 & 27.5 & 15 & 2490 & non-USA & Subaru Loyale           \\\\\n",
       "\t82 & Subaru     & Legacy        & Compact & 16.3 & 19.5 & 22.7 & 23 & 30 & Driver only        & 4WD   & ⋯ & 5 & 179 & 102 & 67 & 37 & 27.0 & 14 & 3085 & non-USA & Subaru Legacy           \\\\\n",
       "\t83 & Suzuki     & Swift         & Small   &  7.3 &  8.6 & 10.0 & 39 & 43 & None               & Front & ⋯ & 4 & 161 &  93 & 63 & 34 & 27.5 & 10 & 1965 & non-USA & Suzuki Swift            \\\\\n",
       "\t84 & Toyota     & Tercel        & Small   &  7.8 &  9.8 & 11.8 & 32 & 37 & Driver only        & Front & ⋯ & 5 & 162 &  94 & 65 & 36 & 24.0 & 11 & 2055 & non-USA & Toyota Tercel           \\\\\n",
       "\t85 & Toyota     & Celica        & Sporty  & 14.2 & 18.4 & 22.6 & 25 & 32 & Driver only        & Front & ⋯ & 4 & 174 &  99 & 69 & 39 & 23.0 & 13 & 2950 & non-USA & Toyota Celica           \\\\\n",
       "\t86 & Toyota     & Camry         & Midsize & 15.2 & 18.2 & 21.2 & 22 & 29 & Driver only        & Front & ⋯ & 5 & 188 & 103 & 70 & 38 & 28.5 & 15 & 3030 & non-USA & Toyota Camry            \\\\\n",
       "\t87 & Toyota     & Previa        & Van     & 18.9 & 22.7 & 26.6 & 18 & 22 & Driver only        & 4WD   & ⋯ & 7 & 187 & 113 & 71 & 41 & 35.0 & NA & 3785 & non-USA & Toyota Previa           \\\\\n",
       "\t88 & Volkswagen & Fox           & Small   &  8.7 &  9.1 &  9.5 & 25 & 33 & None               & Front & ⋯ & 4 & 163 &  93 & 63 & 34 & 26.0 & 10 & 2240 & non-USA & Volkswagen Fox          \\\\\n",
       "\t89 & Volkswagen & Eurovan       & Van     & 16.6 & 19.7 & 22.7 & 17 & 21 & None               & Front & ⋯ & 7 & 187 & 115 & 72 & 38 & 34.0 & NA & 3960 & non-USA & Volkswagen Eurovan      \\\\\n",
       "\t90 & Volkswagen & Passat        & Compact & 17.6 & 20.0 & 22.4 & 21 & 30 & None               & Front & ⋯ & 5 & 180 & 103 & 67 & 35 & 31.5 & 14 & 2985 & non-USA & Volkswagen Passat       \\\\\n",
       "\t91 & Volkswagen & Corrado       & Sporty  & 22.9 & 23.3 & 23.7 & 18 & 25 & None               & Front & ⋯ & 4 & 159 &  97 & 66 & 36 & 26.0 & 15 & 2810 & non-USA & Volkswagen Corrado      \\\\\n",
       "\t92 & Volvo      & 240           & Compact & 21.8 & 22.7 & 23.5 & 21 & 28 & Driver only        & Rear  & ⋯ & 5 & 190 & 104 & 67 & 37 & 29.5 & 14 & 2985 & non-USA & Volvo 240               \\\\\n",
       "\t93 & Volvo      & 850           & Midsize & 24.8 & 26.7 & 28.5 & 20 & 28 & Driver \\& Passenger & Front & ⋯ & 5 & 184 & 105 & 69 & 38 & 30.0 & 15 & 3245 & non-USA & Volvo 850               \\\\\n",
       "\\end{tabular}\n"
      ],
      "text/markdown": [
       "\n",
       "A data.frame: 93 × 27\n",
       "\n",
       "| <!--/--> | Manufacturer &lt;fct&gt; | Model &lt;fct&gt; | Type &lt;fct&gt; | Min.Price &lt;dbl&gt; | Price &lt;dbl&gt; | Max.Price &lt;dbl&gt; | MPG.city &lt;int&gt; | MPG.highway &lt;int&gt; | AirBags &lt;fct&gt; | DriveTrain &lt;fct&gt; | ⋯ ⋯ | Passengers &lt;int&gt; | Length &lt;int&gt; | Wheelbase &lt;int&gt; | Width &lt;int&gt; | Turn.circle &lt;int&gt; | Rear.seat.room &lt;dbl&gt; | Luggage.room &lt;int&gt; | Weight &lt;int&gt; | Origin &lt;fct&gt; | Make &lt;fct&gt; |\n",
       "|---|---|---|---|---|---|---|---|---|---|---|---|---|---|---|---|---|---|---|---|---|---|\n",
       "| 1 | Acura     | Integra    | Small   | 12.9 | 15.9 | 18.8 | 25 | 31 | None               | Front | ⋯ | 5 | 177 | 102 | 68 | 37 | 26.5 | 11 | 2705 | non-USA | Acura Integra        |\n",
       "| 2 | Acura     | Legend     | Midsize | 29.2 | 33.9 | 38.7 | 18 | 25 | Driver &amp; Passenger | Front | ⋯ | 5 | 195 | 115 | 71 | 38 | 30.0 | 15 | 3560 | non-USA | Acura Legend         |\n",
       "| 3 | Audi      | 90         | Compact | 25.9 | 29.1 | 32.3 | 20 | 26 | Driver only        | Front | ⋯ | 5 | 180 | 102 | 67 | 37 | 28.0 | 14 | 3375 | non-USA | Audi 90              |\n",
       "| 4 | Audi      | 100        | Midsize | 30.8 | 37.7 | 44.6 | 19 | 26 | Driver &amp; Passenger | Front | ⋯ | 6 | 193 | 106 | 70 | 37 | 31.0 | 17 | 3405 | non-USA | Audi 100             |\n",
       "| 5 | BMW       | 535i       | Midsize | 23.7 | 30.0 | 36.2 | 22 | 30 | Driver only        | Rear  | ⋯ | 4 | 186 | 109 | 69 | 39 | 27.0 | 13 | 3640 | non-USA | BMW 535i             |\n",
       "| 6 | Buick     | Century    | Midsize | 14.2 | 15.7 | 17.3 | 22 | 31 | Driver only        | Front | ⋯ | 6 | 189 | 105 | 69 | 41 | 28.0 | 16 | 2880 | USA     | Buick Century        |\n",
       "| 7 | Buick     | LeSabre    | Large   | 19.9 | 20.8 | 21.7 | 19 | 28 | Driver only        | Front | ⋯ | 6 | 200 | 111 | 74 | 42 | 30.5 | 17 | 3470 | USA     | Buick LeSabre        |\n",
       "| 8 | Buick     | Roadmaster | Large   | 22.6 | 23.7 | 24.9 | 16 | 25 | Driver only        | Rear  | ⋯ | 6 | 216 | 116 | 78 | 45 | 30.5 | 21 | 4105 | USA     | Buick Roadmaster     |\n",
       "| 9 | Buick     | Riviera    | Midsize | 26.3 | 26.3 | 26.3 | 19 | 27 | Driver only        | Front | ⋯ | 5 | 198 | 108 | 73 | 41 | 26.5 | 14 | 3495 | USA     | Buick Riviera        |\n",
       "| 10 | Cadillac  | DeVille    | Large   | 33.0 | 34.7 | 36.3 | 16 | 25 | Driver only        | Front | ⋯ | 6 | 206 | 114 | 73 | 43 | 35.0 | 18 | 3620 | USA     | Cadillac DeVille     |\n",
       "| 11 | Cadillac  | Seville    | Midsize | 37.5 | 40.1 | 42.7 | 16 | 25 | Driver &amp; Passenger | Front | ⋯ | 5 | 204 | 111 | 74 | 44 | 31.0 | 14 | 3935 | USA     | Cadillac Seville     |\n",
       "| 12 | Chevrolet | Cavalier   | Compact |  8.5 | 13.4 | 18.3 | 25 | 36 | None               | Front | ⋯ | 5 | 182 | 101 | 66 | 38 | 25.0 | 13 | 2490 | USA     | Chevrolet Cavalier   |\n",
       "| 13 | Chevrolet | Corsica    | Compact | 11.4 | 11.4 | 11.4 | 25 | 34 | Driver only        | Front | ⋯ | 5 | 184 | 103 | 68 | 39 | 26.0 | 14 | 2785 | USA     | Chevrolet Corsica    |\n",
       "| 14 | Chevrolet | Camaro     | Sporty  | 13.4 | 15.1 | 16.8 | 19 | 28 | Driver &amp; Passenger | Rear  | ⋯ | 4 | 193 | 101 | 74 | 43 | 25.0 | 13 | 3240 | USA     | Chevrolet Camaro     |\n",
       "| 15 | Chevrolet | Lumina     | Midsize | 13.4 | 15.9 | 18.4 | 21 | 29 | None               | Front | ⋯ | 6 | 198 | 108 | 71 | 40 | 28.5 | 16 | 3195 | USA     | Chevrolet Lumina     |\n",
       "| 16 | Chevrolet | Lumina_APV | Van     | 14.7 | 16.3 | 18.0 | 18 | 23 | None               | Front | ⋯ | 7 | 178 | 110 | 74 | 44 | 30.5 | NA | 3715 | USA     | Chevrolet Lumina_APV |\n",
       "| 17 | Chevrolet | Astro      | Van     | 14.7 | 16.6 | 18.6 | 15 | 20 | None               | 4WD   | ⋯ | 8 | 194 | 111 | 78 | 42 | 33.5 | NA | 4025 | USA     | Chevrolet Astro      |\n",
       "| 18 | Chevrolet | Caprice    | Large   | 18.0 | 18.8 | 19.6 | 17 | 26 | Driver only        | Rear  | ⋯ | 6 | 214 | 116 | 77 | 42 | 29.5 | 20 | 3910 | USA     | Chevrolet Caprice    |\n",
       "| 19 | Chevrolet | Corvette   | Sporty  | 34.6 | 38.0 | 41.5 | 17 | 25 | Driver only        | Rear  | ⋯ | 2 | 179 |  96 | 74 | 43 |   NA | NA | 3380 | USA     | Chevrolet Corvette   |\n",
       "| 20 | Chrylser  | Concorde   | Large   | 18.4 | 18.4 | 18.4 | 20 | 28 | Driver &amp; Passenger | Front | ⋯ | 6 | 203 | 113 | 74 | 40 | 31.0 | 15 | 3515 | USA     | Chrylser Concorde    |\n",
       "| 21 | Chrysler  | LeBaron    | Compact | 14.5 | 15.8 | 17.1 | 23 | 28 | Driver &amp; Passenger | Front | ⋯ | 6 | 183 | 104 | 68 | 41 | 30.5 | 14 | 3085 | USA     | Chrysler LeBaron     |\n",
       "| 22 | Chrysler  | Imperial   | Large   | 29.5 | 29.5 | 29.5 | 20 | 26 | Driver only        | Front | ⋯ | 6 | 203 | 110 | 69 | 44 | 36.0 | 17 | 3570 | USA     | Chrysler Imperial    |\n",
       "| 23 | Dodge     | Colt       | Small   |  7.9 |  9.2 | 10.6 | 29 | 33 | None               | Front | ⋯ | 5 | 174 |  98 | 66 | 32 | 26.5 | 11 | 2270 | USA     | Dodge Colt           |\n",
       "| 24 | Dodge     | Shadow     | Small   |  8.4 | 11.3 | 14.2 | 23 | 29 | Driver only        | Front | ⋯ | 5 | 172 |  97 | 67 | 38 | 26.5 | 13 | 2670 | USA     | Dodge Shadow         |\n",
       "| 25 | Dodge     | Spirit     | Compact | 11.9 | 13.3 | 14.7 | 22 | 27 | Driver only        | Front | ⋯ | 6 | 181 | 104 | 68 | 39 | 30.5 | 14 | 2970 | USA     | Dodge Spirit         |\n",
       "| 26 | Dodge     | Caravan    | Van     | 13.6 | 19.0 | 24.4 | 17 | 21 | Driver only        | 4WD   | ⋯ | 7 | 175 | 112 | 72 | 42 | 26.5 | NA | 3705 | USA     | Dodge Caravan        |\n",
       "| 27 | Dodge     | Dynasty    | Midsize | 14.8 | 15.6 | 16.4 | 21 | 27 | Driver only        | Front | ⋯ | 6 | 192 | 105 | 69 | 42 | 30.5 | 16 | 3080 | USA     | Dodge Dynasty        |\n",
       "| 28 | Dodge     | Stealth    | Sporty  | 18.5 | 25.8 | 33.1 | 18 | 24 | Driver only        | 4WD   | ⋯ | 4 | 180 |  97 | 72 | 40 | 20.0 | 11 | 3805 | USA     | Dodge Stealth        |\n",
       "| 29 | Eagle     | Summit     | Small   |  7.9 | 12.2 | 16.5 | 29 | 33 | None               | Front | ⋯ | 5 | 174 |  98 | 66 | 36 | 26.5 | 11 | 2295 | USA     | Eagle Summit         |\n",
       "| 30 | Eagle     | Vision     | Large   | 17.5 | 19.3 | 21.2 | 20 | 28 | Driver &amp; Passenger | Front | ⋯ | 6 | 202 | 113 | 74 | 40 | 30.0 | 15 | 3490 | USA     | Eagle Vision         |\n",
       "| ⋮ | ⋮ | ⋮ | ⋮ | ⋮ | ⋮ | ⋮ | ⋮ | ⋮ | ⋮ | ⋮ | ⋱ | ⋮ | ⋮ | ⋮ | ⋮ | ⋮ | ⋮ | ⋮ | ⋮ | ⋮ | ⋮ |\n",
       "| 64 | Nissan     | Sentra        | Small   |  8.7 | 11.8 | 14.9 | 29 | 33 | Driver only        | Front | ⋯ | 5 | 170 |  96 | 66 | 33 | 26.0 | 12 | 2545 | non-USA | Nissan Sentra            |\n",
       "| 65 | Nissan     | Altima        | Compact | 13.0 | 15.7 | 18.3 | 24 | 30 | Driver only        | Front | ⋯ | 5 | 181 | 103 | 67 | 40 | 28.5 | 14 | 3050 | non-USA | Nissan Altima            |\n",
       "| 66 | Nissan     | Quest         | Van     | 16.7 | 19.1 | 21.5 | 17 | 23 | None               | Front | ⋯ | 7 | 190 | 112 | 74 | 41 | 27.0 | NA | 4100 | non-USA | Nissan Quest             |\n",
       "| 67 | Nissan     | Maxima        | Midsize | 21.0 | 21.5 | 22.0 | 21 | 26 | Driver only        | Front | ⋯ | 5 | 188 | 104 | 69 | 41 | 28.5 | 14 | 3200 | non-USA | Nissan Maxima            |\n",
       "| 68 | Oldsmobile | Achieva       | Compact | 13.0 | 13.5 | 14.0 | 24 | 31 | None               | Front | ⋯ | 5 | 188 | 103 | 67 | 39 | 28.0 | 14 | 2910 | USA     | Oldsmobile Achieva       |\n",
       "| 69 | Oldsmobile | Cutlass_Ciera | Midsize | 14.2 | 16.3 | 18.4 | 23 | 31 | Driver only        | Front | ⋯ | 5 | 190 | 105 | 70 | 42 | 28.0 | 16 | 2890 | USA     | Oldsmobile Cutlass_Ciera |\n",
       "| 70 | Oldsmobile | Silhouette    | Van     | 19.5 | 19.5 | 19.5 | 18 | 23 | None               | Front | ⋯ | 7 | 194 | 110 | 74 | 44 | 30.5 | NA | 3715 | USA     | Oldsmobile Silhouette    |\n",
       "| 71 | Oldsmobile | Eighty-Eight  | Large   | 19.5 | 20.7 | 21.9 | 19 | 28 | Driver only        | Front | ⋯ | 6 | 201 | 111 | 74 | 42 | 31.5 | 17 | 3470 | USA     | Oldsmobile Eighty-Eight  |\n",
       "| 72 | Plymouth   | Laser         | Sporty  | 11.4 | 14.4 | 17.4 | 23 | 30 | None               | 4WD   | ⋯ | 4 | 173 |  97 | 67 | 39 | 24.5 |  8 | 2640 | USA     | Plymouth Laser           |\n",
       "| 73 | Pontiac    | LeMans        | Small   |  8.2 |  9.0 |  9.9 | 31 | 41 | None               | Front | ⋯ | 4 | 177 |  99 | 66 | 35 | 25.5 | 17 | 2350 | USA     | Pontiac LeMans           |\n",
       "| 74 | Pontiac    | Sunbird       | Compact |  9.4 | 11.1 | 12.8 | 23 | 31 | None               | Front | ⋯ | 5 | 181 | 101 | 66 | 39 | 25.0 | 13 | 2575 | USA     | Pontiac Sunbird          |\n",
       "| 75 | Pontiac    | Firebird      | Sporty  | 14.0 | 17.7 | 21.4 | 19 | 28 | Driver &amp; Passenger | Rear  | ⋯ | 4 | 196 | 101 | 75 | 43 | 25.0 | 13 | 3240 | USA     | Pontiac Firebird         |\n",
       "| 76 | Pontiac    | Grand_Prix    | Midsize | 15.4 | 18.5 | 21.6 | 19 | 27 | None               | Front | ⋯ | 5 | 195 | 108 | 72 | 41 | 28.5 | 16 | 3450 | USA     | Pontiac Grand_Prix       |\n",
       "| 77 | Pontiac    | Bonneville    | Large   | 19.4 | 24.4 | 29.4 | 19 | 28 | Driver &amp; Passenger | Front | ⋯ | 6 | 177 | 111 | 74 | 43 | 30.5 | 18 | 3495 | USA     | Pontiac Bonneville       |\n",
       "| 78 | Saab       | 900           | Compact | 20.3 | 28.7 | 37.1 | 20 | 26 | Driver only        | Front | ⋯ | 5 | 184 |  99 | 67 | 37 | 26.5 | 14 | 2775 | non-USA | Saab 900                 |\n",
       "| 79 | Saturn     | SL            | Small   |  9.2 | 11.1 | 12.9 | 28 | 38 | Driver only        | Front | ⋯ | 5 | 176 | 102 | 68 | 40 | 26.5 | 12 | 2495 | USA     | Saturn SL                |\n",
       "| 80 | Subaru     | Justy         | Small   |  7.3 |  8.4 |  9.5 | 33 | 37 | None               | 4WD   | ⋯ | 4 | 146 |  90 | 60 | 32 | 23.5 | 10 | 2045 | non-USA | Subaru Justy             |\n",
       "| 81 | Subaru     | Loyale        | Small   | 10.5 | 10.9 | 11.3 | 25 | 30 | None               | 4WD   | ⋯ | 5 | 175 |  97 | 65 | 35 | 27.5 | 15 | 2490 | non-USA | Subaru Loyale            |\n",
       "| 82 | Subaru     | Legacy        | Compact | 16.3 | 19.5 | 22.7 | 23 | 30 | Driver only        | 4WD   | ⋯ | 5 | 179 | 102 | 67 | 37 | 27.0 | 14 | 3085 | non-USA | Subaru Legacy            |\n",
       "| 83 | Suzuki     | Swift         | Small   |  7.3 |  8.6 | 10.0 | 39 | 43 | None               | Front | ⋯ | 4 | 161 |  93 | 63 | 34 | 27.5 | 10 | 1965 | non-USA | Suzuki Swift             |\n",
       "| 84 | Toyota     | Tercel        | Small   |  7.8 |  9.8 | 11.8 | 32 | 37 | Driver only        | Front | ⋯ | 5 | 162 |  94 | 65 | 36 | 24.0 | 11 | 2055 | non-USA | Toyota Tercel            |\n",
       "| 85 | Toyota     | Celica        | Sporty  | 14.2 | 18.4 | 22.6 | 25 | 32 | Driver only        | Front | ⋯ | 4 | 174 |  99 | 69 | 39 | 23.0 | 13 | 2950 | non-USA | Toyota Celica            |\n",
       "| 86 | Toyota     | Camry         | Midsize | 15.2 | 18.2 | 21.2 | 22 | 29 | Driver only        | Front | ⋯ | 5 | 188 | 103 | 70 | 38 | 28.5 | 15 | 3030 | non-USA | Toyota Camry             |\n",
       "| 87 | Toyota     | Previa        | Van     | 18.9 | 22.7 | 26.6 | 18 | 22 | Driver only        | 4WD   | ⋯ | 7 | 187 | 113 | 71 | 41 | 35.0 | NA | 3785 | non-USA | Toyota Previa            |\n",
       "| 88 | Volkswagen | Fox           | Small   |  8.7 |  9.1 |  9.5 | 25 | 33 | None               | Front | ⋯ | 4 | 163 |  93 | 63 | 34 | 26.0 | 10 | 2240 | non-USA | Volkswagen Fox           |\n",
       "| 89 | Volkswagen | Eurovan       | Van     | 16.6 | 19.7 | 22.7 | 17 | 21 | None               | Front | ⋯ | 7 | 187 | 115 | 72 | 38 | 34.0 | NA | 3960 | non-USA | Volkswagen Eurovan       |\n",
       "| 90 | Volkswagen | Passat        | Compact | 17.6 | 20.0 | 22.4 | 21 | 30 | None               | Front | ⋯ | 5 | 180 | 103 | 67 | 35 | 31.5 | 14 | 2985 | non-USA | Volkswagen Passat        |\n",
       "| 91 | Volkswagen | Corrado       | Sporty  | 22.9 | 23.3 | 23.7 | 18 | 25 | None               | Front | ⋯ | 4 | 159 |  97 | 66 | 36 | 26.0 | 15 | 2810 | non-USA | Volkswagen Corrado       |\n",
       "| 92 | Volvo      | 240           | Compact | 21.8 | 22.7 | 23.5 | 21 | 28 | Driver only        | Rear  | ⋯ | 5 | 190 | 104 | 67 | 37 | 29.5 | 14 | 2985 | non-USA | Volvo 240                |\n",
       "| 93 | Volvo      | 850           | Midsize | 24.8 | 26.7 | 28.5 | 20 | 28 | Driver &amp; Passenger | Front | ⋯ | 5 | 184 | 105 | 69 | 38 | 30.0 | 15 | 3245 | non-USA | Volvo 850                |\n",
       "\n"
      ],
      "text/plain": [
       "   Manufacturer Model         Type    Min.Price Price Max.Price MPG.city\n",
       "1  Acura        Integra       Small   12.9      15.9  18.8      25      \n",
       "2  Acura        Legend        Midsize 29.2      33.9  38.7      18      \n",
       "3  Audi         90            Compact 25.9      29.1  32.3      20      \n",
       "4  Audi         100           Midsize 30.8      37.7  44.6      19      \n",
       "5  BMW          535i          Midsize 23.7      30.0  36.2      22      \n",
       "6  Buick        Century       Midsize 14.2      15.7  17.3      22      \n",
       "7  Buick        LeSabre       Large   19.9      20.8  21.7      19      \n",
       "8  Buick        Roadmaster    Large   22.6      23.7  24.9      16      \n",
       "9  Buick        Riviera       Midsize 26.3      26.3  26.3      19      \n",
       "10 Cadillac     DeVille       Large   33.0      34.7  36.3      16      \n",
       "11 Cadillac     Seville       Midsize 37.5      40.1  42.7      16      \n",
       "12 Chevrolet    Cavalier      Compact  8.5      13.4  18.3      25      \n",
       "13 Chevrolet    Corsica       Compact 11.4      11.4  11.4      25      \n",
       "14 Chevrolet    Camaro        Sporty  13.4      15.1  16.8      19      \n",
       "15 Chevrolet    Lumina        Midsize 13.4      15.9  18.4      21      \n",
       "16 Chevrolet    Lumina_APV    Van     14.7      16.3  18.0      18      \n",
       "17 Chevrolet    Astro         Van     14.7      16.6  18.6      15      \n",
       "18 Chevrolet    Caprice       Large   18.0      18.8  19.6      17      \n",
       "19 Chevrolet    Corvette      Sporty  34.6      38.0  41.5      17      \n",
       "20 Chrylser     Concorde      Large   18.4      18.4  18.4      20      \n",
       "21 Chrysler     LeBaron       Compact 14.5      15.8  17.1      23      \n",
       "22 Chrysler     Imperial      Large   29.5      29.5  29.5      20      \n",
       "23 Dodge        Colt          Small    7.9       9.2  10.6      29      \n",
       "24 Dodge        Shadow        Small    8.4      11.3  14.2      23      \n",
       "25 Dodge        Spirit        Compact 11.9      13.3  14.7      22      \n",
       "26 Dodge        Caravan       Van     13.6      19.0  24.4      17      \n",
       "27 Dodge        Dynasty       Midsize 14.8      15.6  16.4      21      \n",
       "28 Dodge        Stealth       Sporty  18.5      25.8  33.1      18      \n",
       "29 Eagle        Summit        Small    7.9      12.2  16.5      29      \n",
       "30 Eagle        Vision        Large   17.5      19.3  21.2      20      \n",
       "⋮  ⋮            ⋮             ⋮       ⋮         ⋮     ⋮         ⋮       \n",
       "64 Nissan       Sentra        Small    8.7      11.8  14.9      29      \n",
       "65 Nissan       Altima        Compact 13.0      15.7  18.3      24      \n",
       "66 Nissan       Quest         Van     16.7      19.1  21.5      17      \n",
       "67 Nissan       Maxima        Midsize 21.0      21.5  22.0      21      \n",
       "68 Oldsmobile   Achieva       Compact 13.0      13.5  14.0      24      \n",
       "69 Oldsmobile   Cutlass_Ciera Midsize 14.2      16.3  18.4      23      \n",
       "70 Oldsmobile   Silhouette    Van     19.5      19.5  19.5      18      \n",
       "71 Oldsmobile   Eighty-Eight  Large   19.5      20.7  21.9      19      \n",
       "72 Plymouth     Laser         Sporty  11.4      14.4  17.4      23      \n",
       "73 Pontiac      LeMans        Small    8.2       9.0   9.9      31      \n",
       "74 Pontiac      Sunbird       Compact  9.4      11.1  12.8      23      \n",
       "75 Pontiac      Firebird      Sporty  14.0      17.7  21.4      19      \n",
       "76 Pontiac      Grand_Prix    Midsize 15.4      18.5  21.6      19      \n",
       "77 Pontiac      Bonneville    Large   19.4      24.4  29.4      19      \n",
       "78 Saab         900           Compact 20.3      28.7  37.1      20      \n",
       "79 Saturn       SL            Small    9.2      11.1  12.9      28      \n",
       "80 Subaru       Justy         Small    7.3       8.4   9.5      33      \n",
       "81 Subaru       Loyale        Small   10.5      10.9  11.3      25      \n",
       "82 Subaru       Legacy        Compact 16.3      19.5  22.7      23      \n",
       "83 Suzuki       Swift         Small    7.3       8.6  10.0      39      \n",
       "84 Toyota       Tercel        Small    7.8       9.8  11.8      32      \n",
       "85 Toyota       Celica        Sporty  14.2      18.4  22.6      25      \n",
       "86 Toyota       Camry         Midsize 15.2      18.2  21.2      22      \n",
       "87 Toyota       Previa        Van     18.9      22.7  26.6      18      \n",
       "88 Volkswagen   Fox           Small    8.7       9.1   9.5      25      \n",
       "89 Volkswagen   Eurovan       Van     16.6      19.7  22.7      17      \n",
       "90 Volkswagen   Passat        Compact 17.6      20.0  22.4      21      \n",
       "91 Volkswagen   Corrado       Sporty  22.9      23.3  23.7      18      \n",
       "92 Volvo        240           Compact 21.8      22.7  23.5      21      \n",
       "93 Volvo        850           Midsize 24.8      26.7  28.5      20      \n",
       "   MPG.highway AirBags            DriveTrain ⋯ Passengers Length Wheelbase\n",
       "1  31          None               Front      ⋯ 5          177    102      \n",
       "2  25          Driver & Passenger Front      ⋯ 5          195    115      \n",
       "3  26          Driver only        Front      ⋯ 5          180    102      \n",
       "4  26          Driver & Passenger Front      ⋯ 6          193    106      \n",
       "5  30          Driver only        Rear       ⋯ 4          186    109      \n",
       "6  31          Driver only        Front      ⋯ 6          189    105      \n",
       "7  28          Driver only        Front      ⋯ 6          200    111      \n",
       "8  25          Driver only        Rear       ⋯ 6          216    116      \n",
       "9  27          Driver only        Front      ⋯ 5          198    108      \n",
       "10 25          Driver only        Front      ⋯ 6          206    114      \n",
       "11 25          Driver & Passenger Front      ⋯ 5          204    111      \n",
       "12 36          None               Front      ⋯ 5          182    101      \n",
       "13 34          Driver only        Front      ⋯ 5          184    103      \n",
       "14 28          Driver & Passenger Rear       ⋯ 4          193    101      \n",
       "15 29          None               Front      ⋯ 6          198    108      \n",
       "16 23          None               Front      ⋯ 7          178    110      \n",
       "17 20          None               4WD        ⋯ 8          194    111      \n",
       "18 26          Driver only        Rear       ⋯ 6          214    116      \n",
       "19 25          Driver only        Rear       ⋯ 2          179     96      \n",
       "20 28          Driver & Passenger Front      ⋯ 6          203    113      \n",
       "21 28          Driver & Passenger Front      ⋯ 6          183    104      \n",
       "22 26          Driver only        Front      ⋯ 6          203    110      \n",
       "23 33          None               Front      ⋯ 5          174     98      \n",
       "24 29          Driver only        Front      ⋯ 5          172     97      \n",
       "25 27          Driver only        Front      ⋯ 6          181    104      \n",
       "26 21          Driver only        4WD        ⋯ 7          175    112      \n",
       "27 27          Driver only        Front      ⋯ 6          192    105      \n",
       "28 24          Driver only        4WD        ⋯ 4          180     97      \n",
       "29 33          None               Front      ⋯ 5          174     98      \n",
       "30 28          Driver & Passenger Front      ⋯ 6          202    113      \n",
       "⋮  ⋮           ⋮                  ⋮          ⋱ ⋮          ⋮      ⋮        \n",
       "64 33          Driver only        Front      ⋯ 5          170     96      \n",
       "65 30          Driver only        Front      ⋯ 5          181    103      \n",
       "66 23          None               Front      ⋯ 7          190    112      \n",
       "67 26          Driver only        Front      ⋯ 5          188    104      \n",
       "68 31          None               Front      ⋯ 5          188    103      \n",
       "69 31          Driver only        Front      ⋯ 5          190    105      \n",
       "70 23          None               Front      ⋯ 7          194    110      \n",
       "71 28          Driver only        Front      ⋯ 6          201    111      \n",
       "72 30          None               4WD        ⋯ 4          173     97      \n",
       "73 41          None               Front      ⋯ 4          177     99      \n",
       "74 31          None               Front      ⋯ 5          181    101      \n",
       "75 28          Driver & Passenger Rear       ⋯ 4          196    101      \n",
       "76 27          None               Front      ⋯ 5          195    108      \n",
       "77 28          Driver & Passenger Front      ⋯ 6          177    111      \n",
       "78 26          Driver only        Front      ⋯ 5          184     99      \n",
       "79 38          Driver only        Front      ⋯ 5          176    102      \n",
       "80 37          None               4WD        ⋯ 4          146     90      \n",
       "81 30          None               4WD        ⋯ 5          175     97      \n",
       "82 30          Driver only        4WD        ⋯ 5          179    102      \n",
       "83 43          None               Front      ⋯ 4          161     93      \n",
       "84 37          Driver only        Front      ⋯ 5          162     94      \n",
       "85 32          Driver only        Front      ⋯ 4          174     99      \n",
       "86 29          Driver only        Front      ⋯ 5          188    103      \n",
       "87 22          Driver only        4WD        ⋯ 7          187    113      \n",
       "88 33          None               Front      ⋯ 4          163     93      \n",
       "89 21          None               Front      ⋯ 7          187    115      \n",
       "90 30          None               Front      ⋯ 5          180    103      \n",
       "91 25          None               Front      ⋯ 4          159     97      \n",
       "92 28          Driver only        Rear       ⋯ 5          190    104      \n",
       "93 28          Driver & Passenger Front      ⋯ 5          184    105      \n",
       "   Width Turn.circle Rear.seat.room Luggage.room Weight Origin \n",
       "1  68    37          26.5           11           2705   non-USA\n",
       "2  71    38          30.0           15           3560   non-USA\n",
       "3  67    37          28.0           14           3375   non-USA\n",
       "4  70    37          31.0           17           3405   non-USA\n",
       "5  69    39          27.0           13           3640   non-USA\n",
       "6  69    41          28.0           16           2880   USA    \n",
       "7  74    42          30.5           17           3470   USA    \n",
       "8  78    45          30.5           21           4105   USA    \n",
       "9  73    41          26.5           14           3495   USA    \n",
       "10 73    43          35.0           18           3620   USA    \n",
       "11 74    44          31.0           14           3935   USA    \n",
       "12 66    38          25.0           13           2490   USA    \n",
       "13 68    39          26.0           14           2785   USA    \n",
       "14 74    43          25.0           13           3240   USA    \n",
       "15 71    40          28.5           16           3195   USA    \n",
       "16 74    44          30.5           NA           3715   USA    \n",
       "17 78    42          33.5           NA           4025   USA    \n",
       "18 77    42          29.5           20           3910   USA    \n",
       "19 74    43            NA           NA           3380   USA    \n",
       "20 74    40          31.0           15           3515   USA    \n",
       "21 68    41          30.5           14           3085   USA    \n",
       "22 69    44          36.0           17           3570   USA    \n",
       "23 66    32          26.5           11           2270   USA    \n",
       "24 67    38          26.5           13           2670   USA    \n",
       "25 68    39          30.5           14           2970   USA    \n",
       "26 72    42          26.5           NA           3705   USA    \n",
       "27 69    42          30.5           16           3080   USA    \n",
       "28 72    40          20.0           11           3805   USA    \n",
       "29 66    36          26.5           11           2295   USA    \n",
       "30 74    40          30.0           15           3490   USA    \n",
       "⋮  ⋮     ⋮           ⋮              ⋮            ⋮      ⋮      \n",
       "64 66    33          26.0           12           2545   non-USA\n",
       "65 67    40          28.5           14           3050   non-USA\n",
       "66 74    41          27.0           NA           4100   non-USA\n",
       "67 69    41          28.5           14           3200   non-USA\n",
       "68 67    39          28.0           14           2910   USA    \n",
       "69 70    42          28.0           16           2890   USA    \n",
       "70 74    44          30.5           NA           3715   USA    \n",
       "71 74    42          31.5           17           3470   USA    \n",
       "72 67    39          24.5            8           2640   USA    \n",
       "73 66    35          25.5           17           2350   USA    \n",
       "74 66    39          25.0           13           2575   USA    \n",
       "75 75    43          25.0           13           3240   USA    \n",
       "76 72    41          28.5           16           3450   USA    \n",
       "77 74    43          30.5           18           3495   USA    \n",
       "78 67    37          26.5           14           2775   non-USA\n",
       "79 68    40          26.5           12           2495   USA    \n",
       "80 60    32          23.5           10           2045   non-USA\n",
       "81 65    35          27.5           15           2490   non-USA\n",
       "82 67    37          27.0           14           3085   non-USA\n",
       "83 63    34          27.5           10           1965   non-USA\n",
       "84 65    36          24.0           11           2055   non-USA\n",
       "85 69    39          23.0           13           2950   non-USA\n",
       "86 70    38          28.5           15           3030   non-USA\n",
       "87 71    41          35.0           NA           3785   non-USA\n",
       "88 63    34          26.0           10           2240   non-USA\n",
       "89 72    38          34.0           NA           3960   non-USA\n",
       "90 67    35          31.5           14           2985   non-USA\n",
       "91 66    36          26.0           15           2810   non-USA\n",
       "92 67    37          29.5           14           2985   non-USA\n",
       "93 69    38          30.0           15           3245   non-USA\n",
       "   Make                    \n",
       "1  Acura Integra           \n",
       "2  Acura Legend            \n",
       "3  Audi 90                 \n",
       "4  Audi 100                \n",
       "5  BMW 535i                \n",
       "6  Buick Century           \n",
       "7  Buick LeSabre           \n",
       "8  Buick Roadmaster        \n",
       "9  Buick Riviera           \n",
       "10 Cadillac DeVille        \n",
       "11 Cadillac Seville        \n",
       "12 Chevrolet Cavalier      \n",
       "13 Chevrolet Corsica       \n",
       "14 Chevrolet Camaro        \n",
       "15 Chevrolet Lumina        \n",
       "16 Chevrolet Lumina_APV    \n",
       "17 Chevrolet Astro         \n",
       "18 Chevrolet Caprice       \n",
       "19 Chevrolet Corvette      \n",
       "20 Chrylser Concorde       \n",
       "21 Chrysler LeBaron        \n",
       "22 Chrysler Imperial       \n",
       "23 Dodge Colt              \n",
       "24 Dodge Shadow            \n",
       "25 Dodge Spirit            \n",
       "26 Dodge Caravan           \n",
       "27 Dodge Dynasty           \n",
       "28 Dodge Stealth           \n",
       "29 Eagle Summit            \n",
       "30 Eagle Vision            \n",
       "⋮  ⋮                       \n",
       "64 Nissan Sentra           \n",
       "65 Nissan Altima           \n",
       "66 Nissan Quest            \n",
       "67 Nissan Maxima           \n",
       "68 Oldsmobile Achieva      \n",
       "69 Oldsmobile Cutlass_Ciera\n",
       "70 Oldsmobile Silhouette   \n",
       "71 Oldsmobile Eighty-Eight \n",
       "72 Plymouth Laser          \n",
       "73 Pontiac LeMans          \n",
       "74 Pontiac Sunbird         \n",
       "75 Pontiac Firebird        \n",
       "76 Pontiac Grand_Prix      \n",
       "77 Pontiac Bonneville      \n",
       "78 Saab 900                \n",
       "79 Saturn SL               \n",
       "80 Subaru Justy            \n",
       "81 Subaru Loyale           \n",
       "82 Subaru Legacy           \n",
       "83 Suzuki Swift            \n",
       "84 Toyota Tercel           \n",
       "85 Toyota Celica           \n",
       "86 Toyota Camry            \n",
       "87 Toyota Previa           \n",
       "88 Volkswagen Fox          \n",
       "89 Volkswagen Eurovan      \n",
       "90 Volkswagen Passat       \n",
       "91 Volkswagen Corrado      \n",
       "92 Volvo 240               \n",
       "93 Volvo 850               "
      ]
     },
     "metadata": {},
     "output_type": "display_data"
    }
   ],
   "source": [
    "library(MASS)\n",
    "Cars93"
   ]
  }
 ],
 "metadata": {
  "kernelspec": {
   "display_name": "R",
   "language": "R",
   "name": "ir"
  },
  "language_info": {
   "codemirror_mode": "r",
   "file_extension": ".r",
   "mimetype": "text/x-r-source",
   "name": "R",
   "pygments_lexer": "r",
   "version": "4.5.1"
  }
 },
 "nbformat": 4,
 "nbformat_minor": 5
}
