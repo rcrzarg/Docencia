{
 "cells": [
  {
   "cell_type": "markdown",
   "id": "543be99c",
   "metadata": {},
   "source": [
    "# Introducción a la Programación para Ciencia de Datos\n",
    "## Lenguaje de programación R\n",
    "_Rocío Romero Zaliz_ - rocio@decsai.ugr.es"
   ]
  },
  {
   "cell_type": "markdown",
   "id": "038b1d7c",
   "metadata": {},
   "source": [
    "# Tidyverse\n",
    "Una colección de paquetes con una gramática, filosofía y estructura similar (https://tidyverse.tidyverse.org)\n",
    "\n",
    "<i>Wickham H, Averick M, Bryan J, Chang W, McGowan LD, François R, Grolemund G, Hayes A, Henry L, Hester J, Kuhn M, Pedersen TL, Miller E, Bache SM, Müller K, Ooms J, Robinson D, Seidel DP, Spinu V, Takahashi K, Vaughan D, Wilke C, Woo K, Yutani H (2019). “Welcome to the tidyverse.” Journal of Open Source Software, 4(43), 1686. doi:10.21105/joss.01686.</i>"
   ]
  },
  {
   "cell_type": "code",
   "execution_count": 1,
   "id": "3e7c406b",
   "metadata": {
    "vscode": {
     "languageId": "r"
    }
   },
   "outputs": [
    {
     "name": "stderr",
     "output_type": "stream",
     "text": [
      "── \u001b[1mAttaching core tidyverse packages\u001b[22m ──────────────────────── tidyverse 2.0.0 ──\n",
      "\u001b[32m✔\u001b[39m \u001b[34mdplyr    \u001b[39m 1.1.4     \u001b[32m✔\u001b[39m \u001b[34mreadr    \u001b[39m 2.1.5\n",
      "\u001b[32m✔\u001b[39m \u001b[34mforcats  \u001b[39m 1.0.0     \u001b[32m✔\u001b[39m \u001b[34mstringr  \u001b[39m 1.5.1\n",
      "\u001b[32m✔\u001b[39m \u001b[34mggplot2  \u001b[39m 3.5.2     \u001b[32m✔\u001b[39m \u001b[34mtibble   \u001b[39m 3.3.0\n",
      "\u001b[32m✔\u001b[39m \u001b[34mlubridate\u001b[39m 1.9.4     \u001b[32m✔\u001b[39m \u001b[34mtidyr    \u001b[39m 1.3.1\n",
      "\u001b[32m✔\u001b[39m \u001b[34mpurrr    \u001b[39m 1.0.4     \n",
      "── \u001b[1mConflicts\u001b[22m ────────────────────────────────────────── tidyverse_conflicts() ──\n",
      "\u001b[31m✖\u001b[39m \u001b[34mdplyr\u001b[39m::\u001b[32mfilter()\u001b[39m masks \u001b[34mstats\u001b[39m::filter()\n",
      "\u001b[31m✖\u001b[39m \u001b[34mdplyr\u001b[39m::\u001b[32mlag()\u001b[39m    masks \u001b[34mstats\u001b[39m::lag()\n",
      "\u001b[36mℹ\u001b[39m Use the conflicted package (\u001b[3m\u001b[34m<http://conflicted.r-lib.org/>\u001b[39m\u001b[23m) to force all conflicts to become errors\n"
     ]
    }
   ],
   "source": [
    "# Carga del paquete\n",
    "library(tidyverse)"
   ]
  },
  {
   "cell_type": "markdown",
   "id": "bcfbc582",
   "metadata": {},
   "source": [
    "## Cheatsheets\n",
    "https://posit.co/resources/cheatsheets/"
   ]
  },
  {
   "cell_type": "code",
   "execution_count": 2,
   "id": "ee8ac1e4",
   "metadata": {
    "vscode": {
     "languageId": "r"
    }
   },
   "outputs": [
    {
     "data": {
      "text/html": [
       "'data.frame'"
      ],
      "text/latex": [
       "'data.frame'"
      ],
      "text/markdown": [
       "'data.frame'"
      ],
      "text/plain": [
       "[1] \"data.frame\""
      ]
     },
     "metadata": {},
     "output_type": "display_data"
    }
   ],
   "source": [
    "class(mtcars)"
   ]
  },
  {
   "cell_type": "code",
   "execution_count": 3,
   "id": "3c808598",
   "metadata": {
    "vscode": {
     "languageId": "r"
    }
   },
   "outputs": [
    {
     "data": {
      "text/html": [
       "<table class=\"dataframe\">\n",
       "<caption>A data.frame: 32 × 11</caption>\n",
       "<thead>\n",
       "\t<tr><th></th><th scope=col>mpg</th><th scope=col>cyl</th><th scope=col>disp</th><th scope=col>hp</th><th scope=col>drat</th><th scope=col>wt</th><th scope=col>qsec</th><th scope=col>vs</th><th scope=col>am</th><th scope=col>gear</th><th scope=col>carb</th></tr>\n",
       "\t<tr><th></th><th scope=col>&lt;dbl&gt;</th><th scope=col>&lt;dbl&gt;</th><th scope=col>&lt;dbl&gt;</th><th scope=col>&lt;dbl&gt;</th><th scope=col>&lt;dbl&gt;</th><th scope=col>&lt;dbl&gt;</th><th scope=col>&lt;dbl&gt;</th><th scope=col>&lt;dbl&gt;</th><th scope=col>&lt;dbl&gt;</th><th scope=col>&lt;dbl&gt;</th><th scope=col>&lt;dbl&gt;</th></tr>\n",
       "</thead>\n",
       "<tbody>\n",
       "\t<tr><th scope=row>Mazda RX4</th><td>21.0</td><td>6</td><td>160.0</td><td>110</td><td>3.90</td><td>2.620</td><td>16.46</td><td>0</td><td>1</td><td>4</td><td>4</td></tr>\n",
       "\t<tr><th scope=row>Mazda RX4 Wag</th><td>21.0</td><td>6</td><td>160.0</td><td>110</td><td>3.90</td><td>2.875</td><td>17.02</td><td>0</td><td>1</td><td>4</td><td>4</td></tr>\n",
       "\t<tr><th scope=row>Datsun 710</th><td>22.8</td><td>4</td><td>108.0</td><td> 93</td><td>3.85</td><td>2.320</td><td>18.61</td><td>1</td><td>1</td><td>4</td><td>1</td></tr>\n",
       "\t<tr><th scope=row>Hornet 4 Drive</th><td>21.4</td><td>6</td><td>258.0</td><td>110</td><td>3.08</td><td>3.215</td><td>19.44</td><td>1</td><td>0</td><td>3</td><td>1</td></tr>\n",
       "\t<tr><th scope=row>Hornet Sportabout</th><td>18.7</td><td>8</td><td>360.0</td><td>175</td><td>3.15</td><td>3.440</td><td>17.02</td><td>0</td><td>0</td><td>3</td><td>2</td></tr>\n",
       "\t<tr><th scope=row>Valiant</th><td>18.1</td><td>6</td><td>225.0</td><td>105</td><td>2.76</td><td>3.460</td><td>20.22</td><td>1</td><td>0</td><td>3</td><td>1</td></tr>\n",
       "\t<tr><th scope=row>Duster 360</th><td>14.3</td><td>8</td><td>360.0</td><td>245</td><td>3.21</td><td>3.570</td><td>15.84</td><td>0</td><td>0</td><td>3</td><td>4</td></tr>\n",
       "\t<tr><th scope=row>Merc 240D</th><td>24.4</td><td>4</td><td>146.7</td><td> 62</td><td>3.69</td><td>3.190</td><td>20.00</td><td>1</td><td>0</td><td>4</td><td>2</td></tr>\n",
       "\t<tr><th scope=row>Merc 230</th><td>22.8</td><td>4</td><td>140.8</td><td> 95</td><td>3.92</td><td>3.150</td><td>22.90</td><td>1</td><td>0</td><td>4</td><td>2</td></tr>\n",
       "\t<tr><th scope=row>Merc 280</th><td>19.2</td><td>6</td><td>167.6</td><td>123</td><td>3.92</td><td>3.440</td><td>18.30</td><td>1</td><td>0</td><td>4</td><td>4</td></tr>\n",
       "\t<tr><th scope=row>Merc 280C</th><td>17.8</td><td>6</td><td>167.6</td><td>123</td><td>3.92</td><td>3.440</td><td>18.90</td><td>1</td><td>0</td><td>4</td><td>4</td></tr>\n",
       "\t<tr><th scope=row>Merc 450SE</th><td>16.4</td><td>8</td><td>275.8</td><td>180</td><td>3.07</td><td>4.070</td><td>17.40</td><td>0</td><td>0</td><td>3</td><td>3</td></tr>\n",
       "\t<tr><th scope=row>Merc 450SL</th><td>17.3</td><td>8</td><td>275.8</td><td>180</td><td>3.07</td><td>3.730</td><td>17.60</td><td>0</td><td>0</td><td>3</td><td>3</td></tr>\n",
       "\t<tr><th scope=row>Merc 450SLC</th><td>15.2</td><td>8</td><td>275.8</td><td>180</td><td>3.07</td><td>3.780</td><td>18.00</td><td>0</td><td>0</td><td>3</td><td>3</td></tr>\n",
       "\t<tr><th scope=row>Cadillac Fleetwood</th><td>10.4</td><td>8</td><td>472.0</td><td>205</td><td>2.93</td><td>5.250</td><td>17.98</td><td>0</td><td>0</td><td>3</td><td>4</td></tr>\n",
       "\t<tr><th scope=row>Lincoln Continental</th><td>10.4</td><td>8</td><td>460.0</td><td>215</td><td>3.00</td><td>5.424</td><td>17.82</td><td>0</td><td>0</td><td>3</td><td>4</td></tr>\n",
       "\t<tr><th scope=row>Chrysler Imperial</th><td>14.7</td><td>8</td><td>440.0</td><td>230</td><td>3.23</td><td>5.345</td><td>17.42</td><td>0</td><td>0</td><td>3</td><td>4</td></tr>\n",
       "\t<tr><th scope=row>Fiat 128</th><td>32.4</td><td>4</td><td> 78.7</td><td> 66</td><td>4.08</td><td>2.200</td><td>19.47</td><td>1</td><td>1</td><td>4</td><td>1</td></tr>\n",
       "\t<tr><th scope=row>Honda Civic</th><td>30.4</td><td>4</td><td> 75.7</td><td> 52</td><td>4.93</td><td>1.615</td><td>18.52</td><td>1</td><td>1</td><td>4</td><td>2</td></tr>\n",
       "\t<tr><th scope=row>Toyota Corolla</th><td>33.9</td><td>4</td><td> 71.1</td><td> 65</td><td>4.22</td><td>1.835</td><td>19.90</td><td>1</td><td>1</td><td>4</td><td>1</td></tr>\n",
       "\t<tr><th scope=row>Toyota Corona</th><td>21.5</td><td>4</td><td>120.1</td><td> 97</td><td>3.70</td><td>2.465</td><td>20.01</td><td>1</td><td>0</td><td>3</td><td>1</td></tr>\n",
       "\t<tr><th scope=row>Dodge Challenger</th><td>15.5</td><td>8</td><td>318.0</td><td>150</td><td>2.76</td><td>3.520</td><td>16.87</td><td>0</td><td>0</td><td>3</td><td>2</td></tr>\n",
       "\t<tr><th scope=row>AMC Javelin</th><td>15.2</td><td>8</td><td>304.0</td><td>150</td><td>3.15</td><td>3.435</td><td>17.30</td><td>0</td><td>0</td><td>3</td><td>2</td></tr>\n",
       "\t<tr><th scope=row>Camaro Z28</th><td>13.3</td><td>8</td><td>350.0</td><td>245</td><td>3.73</td><td>3.840</td><td>15.41</td><td>0</td><td>0</td><td>3</td><td>4</td></tr>\n",
       "\t<tr><th scope=row>Pontiac Firebird</th><td>19.2</td><td>8</td><td>400.0</td><td>175</td><td>3.08</td><td>3.845</td><td>17.05</td><td>0</td><td>0</td><td>3</td><td>2</td></tr>\n",
       "\t<tr><th scope=row>Fiat X1-9</th><td>27.3</td><td>4</td><td> 79.0</td><td> 66</td><td>4.08</td><td>1.935</td><td>18.90</td><td>1</td><td>1</td><td>4</td><td>1</td></tr>\n",
       "\t<tr><th scope=row>Porsche 914-2</th><td>26.0</td><td>4</td><td>120.3</td><td> 91</td><td>4.43</td><td>2.140</td><td>16.70</td><td>0</td><td>1</td><td>5</td><td>2</td></tr>\n",
       "\t<tr><th scope=row>Lotus Europa</th><td>30.4</td><td>4</td><td> 95.1</td><td>113</td><td>3.77</td><td>1.513</td><td>16.90</td><td>1</td><td>1</td><td>5</td><td>2</td></tr>\n",
       "\t<tr><th scope=row>Ford Pantera L</th><td>15.8</td><td>8</td><td>351.0</td><td>264</td><td>4.22</td><td>3.170</td><td>14.50</td><td>0</td><td>1</td><td>5</td><td>4</td></tr>\n",
       "\t<tr><th scope=row>Ferrari Dino</th><td>19.7</td><td>6</td><td>145.0</td><td>175</td><td>3.62</td><td>2.770</td><td>15.50</td><td>0</td><td>1</td><td>5</td><td>6</td></tr>\n",
       "\t<tr><th scope=row>Maserati Bora</th><td>15.0</td><td>8</td><td>301.0</td><td>335</td><td>3.54</td><td>3.570</td><td>14.60</td><td>0</td><td>1</td><td>5</td><td>8</td></tr>\n",
       "\t<tr><th scope=row>Volvo 142E</th><td>21.4</td><td>4</td><td>121.0</td><td>109</td><td>4.11</td><td>2.780</td><td>18.60</td><td>1</td><td>1</td><td>4</td><td>2</td></tr>\n",
       "</tbody>\n",
       "</table>\n"
      ],
      "text/latex": [
       "A data.frame: 32 × 11\n",
       "\\begin{tabular}{r|lllllllllll}\n",
       "  & mpg & cyl & disp & hp & drat & wt & qsec & vs & am & gear & carb\\\\\n",
       "  & <dbl> & <dbl> & <dbl> & <dbl> & <dbl> & <dbl> & <dbl> & <dbl> & <dbl> & <dbl> & <dbl>\\\\\n",
       "\\hline\n",
       "\tMazda RX4 & 21.0 & 6 & 160.0 & 110 & 3.90 & 2.620 & 16.46 & 0 & 1 & 4 & 4\\\\\n",
       "\tMazda RX4 Wag & 21.0 & 6 & 160.0 & 110 & 3.90 & 2.875 & 17.02 & 0 & 1 & 4 & 4\\\\\n",
       "\tDatsun 710 & 22.8 & 4 & 108.0 &  93 & 3.85 & 2.320 & 18.61 & 1 & 1 & 4 & 1\\\\\n",
       "\tHornet 4 Drive & 21.4 & 6 & 258.0 & 110 & 3.08 & 3.215 & 19.44 & 1 & 0 & 3 & 1\\\\\n",
       "\tHornet Sportabout & 18.7 & 8 & 360.0 & 175 & 3.15 & 3.440 & 17.02 & 0 & 0 & 3 & 2\\\\\n",
       "\tValiant & 18.1 & 6 & 225.0 & 105 & 2.76 & 3.460 & 20.22 & 1 & 0 & 3 & 1\\\\\n",
       "\tDuster 360 & 14.3 & 8 & 360.0 & 245 & 3.21 & 3.570 & 15.84 & 0 & 0 & 3 & 4\\\\\n",
       "\tMerc 240D & 24.4 & 4 & 146.7 &  62 & 3.69 & 3.190 & 20.00 & 1 & 0 & 4 & 2\\\\\n",
       "\tMerc 230 & 22.8 & 4 & 140.8 &  95 & 3.92 & 3.150 & 22.90 & 1 & 0 & 4 & 2\\\\\n",
       "\tMerc 280 & 19.2 & 6 & 167.6 & 123 & 3.92 & 3.440 & 18.30 & 1 & 0 & 4 & 4\\\\\n",
       "\tMerc 280C & 17.8 & 6 & 167.6 & 123 & 3.92 & 3.440 & 18.90 & 1 & 0 & 4 & 4\\\\\n",
       "\tMerc 450SE & 16.4 & 8 & 275.8 & 180 & 3.07 & 4.070 & 17.40 & 0 & 0 & 3 & 3\\\\\n",
       "\tMerc 450SL & 17.3 & 8 & 275.8 & 180 & 3.07 & 3.730 & 17.60 & 0 & 0 & 3 & 3\\\\\n",
       "\tMerc 450SLC & 15.2 & 8 & 275.8 & 180 & 3.07 & 3.780 & 18.00 & 0 & 0 & 3 & 3\\\\\n",
       "\tCadillac Fleetwood & 10.4 & 8 & 472.0 & 205 & 2.93 & 5.250 & 17.98 & 0 & 0 & 3 & 4\\\\\n",
       "\tLincoln Continental & 10.4 & 8 & 460.0 & 215 & 3.00 & 5.424 & 17.82 & 0 & 0 & 3 & 4\\\\\n",
       "\tChrysler Imperial & 14.7 & 8 & 440.0 & 230 & 3.23 & 5.345 & 17.42 & 0 & 0 & 3 & 4\\\\\n",
       "\tFiat 128 & 32.4 & 4 &  78.7 &  66 & 4.08 & 2.200 & 19.47 & 1 & 1 & 4 & 1\\\\\n",
       "\tHonda Civic & 30.4 & 4 &  75.7 &  52 & 4.93 & 1.615 & 18.52 & 1 & 1 & 4 & 2\\\\\n",
       "\tToyota Corolla & 33.9 & 4 &  71.1 &  65 & 4.22 & 1.835 & 19.90 & 1 & 1 & 4 & 1\\\\\n",
       "\tToyota Corona & 21.5 & 4 & 120.1 &  97 & 3.70 & 2.465 & 20.01 & 1 & 0 & 3 & 1\\\\\n",
       "\tDodge Challenger & 15.5 & 8 & 318.0 & 150 & 2.76 & 3.520 & 16.87 & 0 & 0 & 3 & 2\\\\\n",
       "\tAMC Javelin & 15.2 & 8 & 304.0 & 150 & 3.15 & 3.435 & 17.30 & 0 & 0 & 3 & 2\\\\\n",
       "\tCamaro Z28 & 13.3 & 8 & 350.0 & 245 & 3.73 & 3.840 & 15.41 & 0 & 0 & 3 & 4\\\\\n",
       "\tPontiac Firebird & 19.2 & 8 & 400.0 & 175 & 3.08 & 3.845 & 17.05 & 0 & 0 & 3 & 2\\\\\n",
       "\tFiat X1-9 & 27.3 & 4 &  79.0 &  66 & 4.08 & 1.935 & 18.90 & 1 & 1 & 4 & 1\\\\\n",
       "\tPorsche 914-2 & 26.0 & 4 & 120.3 &  91 & 4.43 & 2.140 & 16.70 & 0 & 1 & 5 & 2\\\\\n",
       "\tLotus Europa & 30.4 & 4 &  95.1 & 113 & 3.77 & 1.513 & 16.90 & 1 & 1 & 5 & 2\\\\\n",
       "\tFord Pantera L & 15.8 & 8 & 351.0 & 264 & 4.22 & 3.170 & 14.50 & 0 & 1 & 5 & 4\\\\\n",
       "\tFerrari Dino & 19.7 & 6 & 145.0 & 175 & 3.62 & 2.770 & 15.50 & 0 & 1 & 5 & 6\\\\\n",
       "\tMaserati Bora & 15.0 & 8 & 301.0 & 335 & 3.54 & 3.570 & 14.60 & 0 & 1 & 5 & 8\\\\\n",
       "\tVolvo 142E & 21.4 & 4 & 121.0 & 109 & 4.11 & 2.780 & 18.60 & 1 & 1 & 4 & 2\\\\\n",
       "\\end{tabular}\n"
      ],
      "text/markdown": [
       "\n",
       "A data.frame: 32 × 11\n",
       "\n",
       "| <!--/--> | mpg &lt;dbl&gt; | cyl &lt;dbl&gt; | disp &lt;dbl&gt; | hp &lt;dbl&gt; | drat &lt;dbl&gt; | wt &lt;dbl&gt; | qsec &lt;dbl&gt; | vs &lt;dbl&gt; | am &lt;dbl&gt; | gear &lt;dbl&gt; | carb &lt;dbl&gt; |\n",
       "|---|---|---|---|---|---|---|---|---|---|---|---|\n",
       "| Mazda RX4 | 21.0 | 6 | 160.0 | 110 | 3.90 | 2.620 | 16.46 | 0 | 1 | 4 | 4 |\n",
       "| Mazda RX4 Wag | 21.0 | 6 | 160.0 | 110 | 3.90 | 2.875 | 17.02 | 0 | 1 | 4 | 4 |\n",
       "| Datsun 710 | 22.8 | 4 | 108.0 |  93 | 3.85 | 2.320 | 18.61 | 1 | 1 | 4 | 1 |\n",
       "| Hornet 4 Drive | 21.4 | 6 | 258.0 | 110 | 3.08 | 3.215 | 19.44 | 1 | 0 | 3 | 1 |\n",
       "| Hornet Sportabout | 18.7 | 8 | 360.0 | 175 | 3.15 | 3.440 | 17.02 | 0 | 0 | 3 | 2 |\n",
       "| Valiant | 18.1 | 6 | 225.0 | 105 | 2.76 | 3.460 | 20.22 | 1 | 0 | 3 | 1 |\n",
       "| Duster 360 | 14.3 | 8 | 360.0 | 245 | 3.21 | 3.570 | 15.84 | 0 | 0 | 3 | 4 |\n",
       "| Merc 240D | 24.4 | 4 | 146.7 |  62 | 3.69 | 3.190 | 20.00 | 1 | 0 | 4 | 2 |\n",
       "| Merc 230 | 22.8 | 4 | 140.8 |  95 | 3.92 | 3.150 | 22.90 | 1 | 0 | 4 | 2 |\n",
       "| Merc 280 | 19.2 | 6 | 167.6 | 123 | 3.92 | 3.440 | 18.30 | 1 | 0 | 4 | 4 |\n",
       "| Merc 280C | 17.8 | 6 | 167.6 | 123 | 3.92 | 3.440 | 18.90 | 1 | 0 | 4 | 4 |\n",
       "| Merc 450SE | 16.4 | 8 | 275.8 | 180 | 3.07 | 4.070 | 17.40 | 0 | 0 | 3 | 3 |\n",
       "| Merc 450SL | 17.3 | 8 | 275.8 | 180 | 3.07 | 3.730 | 17.60 | 0 | 0 | 3 | 3 |\n",
       "| Merc 450SLC | 15.2 | 8 | 275.8 | 180 | 3.07 | 3.780 | 18.00 | 0 | 0 | 3 | 3 |\n",
       "| Cadillac Fleetwood | 10.4 | 8 | 472.0 | 205 | 2.93 | 5.250 | 17.98 | 0 | 0 | 3 | 4 |\n",
       "| Lincoln Continental | 10.4 | 8 | 460.0 | 215 | 3.00 | 5.424 | 17.82 | 0 | 0 | 3 | 4 |\n",
       "| Chrysler Imperial | 14.7 | 8 | 440.0 | 230 | 3.23 | 5.345 | 17.42 | 0 | 0 | 3 | 4 |\n",
       "| Fiat 128 | 32.4 | 4 |  78.7 |  66 | 4.08 | 2.200 | 19.47 | 1 | 1 | 4 | 1 |\n",
       "| Honda Civic | 30.4 | 4 |  75.7 |  52 | 4.93 | 1.615 | 18.52 | 1 | 1 | 4 | 2 |\n",
       "| Toyota Corolla | 33.9 | 4 |  71.1 |  65 | 4.22 | 1.835 | 19.90 | 1 | 1 | 4 | 1 |\n",
       "| Toyota Corona | 21.5 | 4 | 120.1 |  97 | 3.70 | 2.465 | 20.01 | 1 | 0 | 3 | 1 |\n",
       "| Dodge Challenger | 15.5 | 8 | 318.0 | 150 | 2.76 | 3.520 | 16.87 | 0 | 0 | 3 | 2 |\n",
       "| AMC Javelin | 15.2 | 8 | 304.0 | 150 | 3.15 | 3.435 | 17.30 | 0 | 0 | 3 | 2 |\n",
       "| Camaro Z28 | 13.3 | 8 | 350.0 | 245 | 3.73 | 3.840 | 15.41 | 0 | 0 | 3 | 4 |\n",
       "| Pontiac Firebird | 19.2 | 8 | 400.0 | 175 | 3.08 | 3.845 | 17.05 | 0 | 0 | 3 | 2 |\n",
       "| Fiat X1-9 | 27.3 | 4 |  79.0 |  66 | 4.08 | 1.935 | 18.90 | 1 | 1 | 4 | 1 |\n",
       "| Porsche 914-2 | 26.0 | 4 | 120.3 |  91 | 4.43 | 2.140 | 16.70 | 0 | 1 | 5 | 2 |\n",
       "| Lotus Europa | 30.4 | 4 |  95.1 | 113 | 3.77 | 1.513 | 16.90 | 1 | 1 | 5 | 2 |\n",
       "| Ford Pantera L | 15.8 | 8 | 351.0 | 264 | 4.22 | 3.170 | 14.50 | 0 | 1 | 5 | 4 |\n",
       "| Ferrari Dino | 19.7 | 6 | 145.0 | 175 | 3.62 | 2.770 | 15.50 | 0 | 1 | 5 | 6 |\n",
       "| Maserati Bora | 15.0 | 8 | 301.0 | 335 | 3.54 | 3.570 | 14.60 | 0 | 1 | 5 | 8 |\n",
       "| Volvo 142E | 21.4 | 4 | 121.0 | 109 | 4.11 | 2.780 | 18.60 | 1 | 1 | 4 | 2 |\n",
       "\n"
      ],
      "text/plain": [
       "                    mpg  cyl disp  hp  drat wt    qsec  vs am gear carb\n",
       "Mazda RX4           21.0 6   160.0 110 3.90 2.620 16.46 0  1  4    4   \n",
       "Mazda RX4 Wag       21.0 6   160.0 110 3.90 2.875 17.02 0  1  4    4   \n",
       "Datsun 710          22.8 4   108.0  93 3.85 2.320 18.61 1  1  4    1   \n",
       "Hornet 4 Drive      21.4 6   258.0 110 3.08 3.215 19.44 1  0  3    1   \n",
       "Hornet Sportabout   18.7 8   360.0 175 3.15 3.440 17.02 0  0  3    2   \n",
       "Valiant             18.1 6   225.0 105 2.76 3.460 20.22 1  0  3    1   \n",
       "Duster 360          14.3 8   360.0 245 3.21 3.570 15.84 0  0  3    4   \n",
       "Merc 240D           24.4 4   146.7  62 3.69 3.190 20.00 1  0  4    2   \n",
       "Merc 230            22.8 4   140.8  95 3.92 3.150 22.90 1  0  4    2   \n",
       "Merc 280            19.2 6   167.6 123 3.92 3.440 18.30 1  0  4    4   \n",
       "Merc 280C           17.8 6   167.6 123 3.92 3.440 18.90 1  0  4    4   \n",
       "Merc 450SE          16.4 8   275.8 180 3.07 4.070 17.40 0  0  3    3   \n",
       "Merc 450SL          17.3 8   275.8 180 3.07 3.730 17.60 0  0  3    3   \n",
       "Merc 450SLC         15.2 8   275.8 180 3.07 3.780 18.00 0  0  3    3   \n",
       "Cadillac Fleetwood  10.4 8   472.0 205 2.93 5.250 17.98 0  0  3    4   \n",
       "Lincoln Continental 10.4 8   460.0 215 3.00 5.424 17.82 0  0  3    4   \n",
       "Chrysler Imperial   14.7 8   440.0 230 3.23 5.345 17.42 0  0  3    4   \n",
       "Fiat 128            32.4 4    78.7  66 4.08 2.200 19.47 1  1  4    1   \n",
       "Honda Civic         30.4 4    75.7  52 4.93 1.615 18.52 1  1  4    2   \n",
       "Toyota Corolla      33.9 4    71.1  65 4.22 1.835 19.90 1  1  4    1   \n",
       "Toyota Corona       21.5 4   120.1  97 3.70 2.465 20.01 1  0  3    1   \n",
       "Dodge Challenger    15.5 8   318.0 150 2.76 3.520 16.87 0  0  3    2   \n",
       "AMC Javelin         15.2 8   304.0 150 3.15 3.435 17.30 0  0  3    2   \n",
       "Camaro Z28          13.3 8   350.0 245 3.73 3.840 15.41 0  0  3    4   \n",
       "Pontiac Firebird    19.2 8   400.0 175 3.08 3.845 17.05 0  0  3    2   \n",
       "Fiat X1-9           27.3 4    79.0  66 4.08 1.935 18.90 1  1  4    1   \n",
       "Porsche 914-2       26.0 4   120.3  91 4.43 2.140 16.70 0  1  5    2   \n",
       "Lotus Europa        30.4 4    95.1 113 3.77 1.513 16.90 1  1  5    2   \n",
       "Ford Pantera L      15.8 8   351.0 264 4.22 3.170 14.50 0  1  5    4   \n",
       "Ferrari Dino        19.7 6   145.0 175 3.62 2.770 15.50 0  1  5    6   \n",
       "Maserati Bora       15.0 8   301.0 335 3.54 3.570 14.60 0  1  5    8   \n",
       "Volvo 142E          21.4 4   121.0 109 4.11 2.780 18.60 1  1  4    2   "
      ]
     },
     "metadata": {},
     "output_type": "display_data"
    }
   ],
   "source": [
    "mtcars"
   ]
  },
  {
   "cell_type": "markdown",
   "id": "e3f8c2dc",
   "metadata": {},
   "source": [
    "## Pipeline (%>%) - paquete magrittr\n",
    "Operador que sirve para realizar varias operaciones de forma secuencial sin recurrir a parentesis anidados o a sobrescribir bases de datos."
   ]
  },
  {
   "cell_type": "code",
   "execution_count": 4,
   "id": "5c21ac4b",
   "metadata": {
    "vscode": {
     "languageId": "r"
    }
   },
   "outputs": [
    {
     "data": {
      "text/html": [
       "0.99"
      ],
      "text/latex": [
       "0.99"
      ],
      "text/markdown": [
       "0.99"
      ],
      "text/plain": [
       "[1] 0.99"
      ]
     },
     "metadata": {},
     "output_type": "display_data"
    }
   ],
   "source": [
    "# Sin magrittr\n",
    "x <- c(1, 4, 6, 8)\n",
    "y <- round(mean(sqrt(log(x))), 2)\n",
    "y"
   ]
  },
  {
   "cell_type": "code",
   "execution_count": 5,
   "id": "ce42b49b",
   "metadata": {
    "vscode": {
     "languageId": "r"
    }
   },
   "outputs": [
    {
     "data": {
      "text/html": [
       "0.99"
      ],
      "text/latex": [
       "0.99"
      ],
      "text/markdown": [
       "0.99"
      ],
      "text/plain": [
       "[1] 0.99"
      ]
     },
     "metadata": {},
     "output_type": "display_data"
    }
   ],
   "source": [
    "# Con magrittr\n",
    "# library(magrittr)\n",
    "x <- c(1, 4, 6, 8)\n",
    "y <- x %>% log() %>% sqrt() %>% mean() %>% round(2)\n",
    "y"
   ]
  },
  {
   "cell_type": "code",
   "execution_count": 6,
   "id": "0af0e64d",
   "metadata": {
    "vscode": {
     "languageId": "r"
    }
   },
   "outputs": [
    {
     "data": {
      "text/html": [
       "0.99"
      ],
      "text/latex": [
       "0.99"
      ],
      "text/markdown": [
       "0.99"
      ],
      "text/plain": [
       "[1] 0.99"
      ]
     },
     "metadata": {},
     "output_type": "display_data"
    }
   ],
   "source": [
    "# Con magrittr\n",
    "x <- c(1, 4, 6, 8)\n",
    "y <- x %>% log %>% sqrt %>% mean %>% round(2)\n",
    "y"
   ]
  },
  {
   "cell_type": "code",
   "execution_count": 7,
   "id": "862b9b8b",
   "metadata": {
    "vscode": {
     "languageId": "r"
    }
   },
   "outputs": [
    {
     "data": {
      "text/html": [
       "2"
      ],
      "text/latex": [
       "2"
      ],
      "text/markdown": [
       "2"
      ],
      "text/plain": [
       "[1] 2"
      ]
     },
     "metadata": {},
     "output_type": "display_data"
    }
   ],
   "source": [
    "log <- 2\n",
    "log"
   ]
  },
  {
   "cell_type": "code",
   "execution_count": 8,
   "id": "f6adb340",
   "metadata": {
    "vscode": {
     "languageId": "r"
    }
   },
   "outputs": [
    {
     "data": {
      "text/html": [
       "0.693147180559945"
      ],
      "text/latex": [
       "0.693147180559945"
      ],
      "text/markdown": [
       "0.693147180559945"
      ],
      "text/plain": [
       "[1] 0.6931472"
      ]
     },
     "metadata": {},
     "output_type": "display_data"
    }
   ],
   "source": [
    "log(2)"
   ]
  },
  {
   "cell_type": "markdown",
   "id": "056e9eb5",
   "metadata": {},
   "source": [
    "## Paquete dplyr\n",
    "dplyr es un paquete de R para manipular, limpiar y resumir datos no estructurados. Facilita y agiliza la exploración y manipulación de datos en R."
   ]
  },
  {
   "cell_type": "code",
   "execution_count": 12,
   "id": "8388e7e3",
   "metadata": {
    "vscode": {
     "languageId": "r"
    }
   },
   "outputs": [
    {
     "name": "stdout",
     "output_type": "stream",
     "text": [
      "\u001b[90m# A tibble: 87 × 14\u001b[39m\n",
      "   name     height  mass hair_color skin_color eye_color birth_year sex   gender\n",
      "   \u001b[3m\u001b[90m<chr>\u001b[39m\u001b[23m     \u001b[3m\u001b[90m<int>\u001b[39m\u001b[23m \u001b[3m\u001b[90m<dbl>\u001b[39m\u001b[23m \u001b[3m\u001b[90m<chr>\u001b[39m\u001b[23m      \u001b[3m\u001b[90m<chr>\u001b[39m\u001b[23m      \u001b[3m\u001b[90m<chr>\u001b[39m\u001b[23m          \u001b[3m\u001b[90m<dbl>\u001b[39m\u001b[23m \u001b[3m\u001b[90m<chr>\u001b[39m\u001b[23m \u001b[3m\u001b[90m<chr>\u001b[39m\u001b[23m \n",
      "\u001b[90m 1\u001b[39m Luke Sk…    172    77 blond      fair       blue            19   male  mascu…\n",
      "\u001b[90m 2\u001b[39m C-3PO       167    75 \u001b[31mNA\u001b[39m         gold       yellow         112   none  mascu…\n",
      "\u001b[90m 3\u001b[39m R2-D2        96    32 \u001b[31mNA\u001b[39m         white, bl… red             33   none  mascu…\n",
      "\u001b[90m 4\u001b[39m Darth V…    202   136 none       white      yellow          41.9 male  mascu…\n",
      "\u001b[90m 5\u001b[39m Leia Or…    150    49 brown      light      brown           19   fema… femin…\n",
      "\u001b[90m 6\u001b[39m Owen La…    178   120 brown, gr… light      blue            52   male  mascu…\n",
      "\u001b[90m 7\u001b[39m Beru Wh…    165    75 brown      light      blue            47   fema… femin…\n",
      "\u001b[90m 8\u001b[39m R5-D4        97    32 \u001b[31mNA\u001b[39m         white, red red             \u001b[31mNA\u001b[39m   none  mascu…\n",
      "\u001b[90m 9\u001b[39m Biggs D…    183    84 black      light      brown           24   male  mascu…\n",
      "\u001b[90m10\u001b[39m Obi-Wan…    182    77 auburn, w… fair       blue-gray       57   male  mascu…\n",
      "\u001b[90m# ℹ 77 more rows\u001b[39m\n",
      "\u001b[90m# ℹ 5 more variables: homeworld <chr>, species <chr>, films <list>,\u001b[39m\n",
      "\u001b[90m#   vehicles <list>, starships <list>\u001b[39m\n"
     ]
    }
   ],
   "source": [
    "# Vamos a trabajar con un conjunto de datos ya creado\n",
    "# library(dplyr)\n",
    "starwars %>% print"
   ]
  },
  {
   "cell_type": "code",
   "execution_count": 19,
   "id": "f733d208",
   "metadata": {
    "vscode": {
     "languageId": "r"
    }
   },
   "outputs": [
    {
     "name": "stdout",
     "output_type": "stream",
     "text": [
      "[1] \"data.frame\"\n"
     ]
    },
    {
     "data": {
      "text/plain": [
       "NULL"
      ]
     },
     "metadata": {},
     "output_type": "display_data"
    }
   ],
   "source": [
    "print(class(mtcars))\n",
    "mtcars$pepe"
   ]
  },
  {
   "cell_type": "code",
   "execution_count": null,
   "id": "ff75a1e5",
   "metadata": {
    "vscode": {
     "languageId": "r"
    }
   },
   "outputs": [
    {
     "name": "stderr",
     "output_type": "stream",
     "text": [
      "Warning message:\n",
      "“Unknown or uninitialised column: `pepe`.”\n"
     ]
    },
    {
     "data": {
      "text/plain": [
       "NULL"
      ]
     },
     "metadata": {},
     "output_type": "display_data"
    }
   ],
   "source": [
    "# Tibble: si accedes a una columna que no existe te avisa...\n",
    "starwars$pepe"
   ]
  },
  {
   "cell_type": "code",
   "execution_count": 21,
   "id": "3f7cb519",
   "metadata": {
    "vscode": {
     "languageId": "r"
    }
   },
   "outputs": [
    {
     "name": "stdout",
     "output_type": "stream",
     "text": [
      "tibble [87 × 14] (S3: tbl_df/tbl/data.frame)\n",
      " $ name      : chr [1:87] \"Luke Skywalker\" \"C-3PO\" \"R2-D2\" \"Darth Vader\" ...\n",
      " $ height    : int [1:87] 172 167 96 202 150 178 165 97 183 182 ...\n",
      " $ mass      : num [1:87] 77 75 32 136 49 120 75 32 84 77 ...\n",
      " $ hair_color: chr [1:87] \"blond\" NA NA \"none\" ...\n",
      " $ skin_color: chr [1:87] \"fair\" \"gold\" \"white, blue\" \"white\" ...\n",
      " $ eye_color : chr [1:87] \"blue\" \"yellow\" \"red\" \"yellow\" ...\n",
      " $ birth_year: num [1:87] 19 112 33 41.9 19 52 47 NA 24 57 ...\n",
      " $ sex       : chr [1:87] \"male\" \"none\" \"none\" \"male\" ...\n",
      " $ gender    : chr [1:87] \"masculine\" \"masculine\" \"masculine\" \"masculine\" ...\n",
      " $ homeworld : chr [1:87] \"Tatooine\" \"Tatooine\" \"Naboo\" \"Tatooine\" ...\n",
      " $ species   : chr [1:87] \"Human\" \"Droid\" \"Droid\" \"Human\" ...\n",
      " $ films     :List of 87\n",
      "  ..$ : chr [1:5] \"A New Hope\" \"The Empire Strikes Back\" \"Return of the Jedi\" \"Revenge of the Sith\" ...\n",
      "  ..$ : chr [1:6] \"A New Hope\" \"The Empire Strikes Back\" \"Return of the Jedi\" \"The Phantom Menace\" ...\n",
      "  ..$ : chr [1:7] \"A New Hope\" \"The Empire Strikes Back\" \"Return of the Jedi\" \"The Phantom Menace\" ...\n",
      "  ..$ : chr [1:4] \"A New Hope\" \"The Empire Strikes Back\" \"Return of the Jedi\" \"Revenge of the Sith\"\n",
      "  ..$ : chr [1:5] \"A New Hope\" \"The Empire Strikes Back\" \"Return of the Jedi\" \"Revenge of the Sith\" ...\n",
      "  ..$ : chr [1:3] \"A New Hope\" \"Attack of the Clones\" \"Revenge of the Sith\"\n",
      "  ..$ : chr [1:3] \"A New Hope\" \"Attack of the Clones\" \"Revenge of the Sith\"\n",
      "  ..$ : chr \"A New Hope\"\n",
      "  ..$ : chr \"A New Hope\"\n",
      "  ..$ : chr [1:6] \"A New Hope\" \"The Empire Strikes Back\" \"Return of the Jedi\" \"The Phantom Menace\" ...\n",
      "  ..$ : chr [1:3] \"The Phantom Menace\" \"Attack of the Clones\" \"Revenge of the Sith\"\n",
      "  ..$ : chr [1:2] \"A New Hope\" \"Revenge of the Sith\"\n",
      "  ..$ : chr [1:5] \"A New Hope\" \"The Empire Strikes Back\" \"Return of the Jedi\" \"Revenge of the Sith\" ...\n",
      "  ..$ : chr [1:4] \"A New Hope\" \"The Empire Strikes Back\" \"Return of the Jedi\" \"The Force Awakens\"\n",
      "  ..$ : chr \"A New Hope\"\n",
      "  ..$ : chr [1:3] \"A New Hope\" \"Return of the Jedi\" \"The Phantom Menace\"\n",
      "  ..$ : chr [1:3] \"A New Hope\" \"The Empire Strikes Back\" \"Return of the Jedi\"\n",
      "  ..$ : chr \"A New Hope\"\n",
      "  ..$ : chr [1:5] \"The Empire Strikes Back\" \"Return of the Jedi\" \"The Phantom Menace\" \"Attack of the Clones\" ...\n",
      "  ..$ : chr [1:5] \"The Empire Strikes Back\" \"Return of the Jedi\" \"The Phantom Menace\" \"Attack of the Clones\" ...\n",
      "  ..$ : chr [1:3] \"The Empire Strikes Back\" \"Return of the Jedi\" \"Attack of the Clones\"\n",
      "  ..$ : chr \"The Empire Strikes Back\"\n",
      "  ..$ : chr \"The Empire Strikes Back\"\n",
      "  ..$ : chr [1:2] \"The Empire Strikes Back\" \"Return of the Jedi\"\n",
      "  ..$ : chr \"The Empire Strikes Back\"\n",
      "  ..$ : chr [1:2] \"Return of the Jedi\" \"The Force Awakens\"\n",
      "  ..$ : chr \"Return of the Jedi\"\n",
      "  ..$ : chr \"Return of the Jedi\"\n",
      "  ..$ : chr \"Return of the Jedi\"\n",
      "  ..$ : chr \"Return of the Jedi\"\n",
      "  ..$ : chr \"The Phantom Menace\"\n",
      "  ..$ : chr [1:3] \"The Phantom Menace\" \"Attack of the Clones\" \"Revenge of the Sith\"\n",
      "  ..$ : chr \"The Phantom Menace\"\n",
      "  ..$ : chr [1:3] \"The Phantom Menace\" \"Attack of the Clones\" \"Revenge of the Sith\"\n",
      "  ..$ : chr [1:2] \"The Phantom Menace\" \"Attack of the Clones\"\n",
      "  ..$ : chr \"The Phantom Menace\"\n",
      "  ..$ : chr \"The Phantom Menace\"\n",
      "  ..$ : chr \"The Phantom Menace\"\n",
      "  ..$ : chr [1:2] \"The Phantom Menace\" \"Attack of the Clones\"\n",
      "  ..$ : chr \"The Phantom Menace\"\n",
      "  ..$ : chr \"The Phantom Menace\"\n",
      "  ..$ : chr [1:2] \"The Phantom Menace\" \"Attack of the Clones\"\n",
      "  ..$ : chr \"The Phantom Menace\"\n",
      "  ..$ : chr \"Return of the Jedi\"\n",
      "  ..$ : chr [1:3] \"The Phantom Menace\" \"Attack of the Clones\" \"Revenge of the Sith\"\n",
      "  ..$ : chr \"The Phantom Menace\"\n",
      "  ..$ : chr \"The Phantom Menace\"\n",
      "  ..$ : chr \"The Phantom Menace\"\n",
      "  ..$ : chr \"The Phantom Menace\"\n",
      "  ..$ : chr [1:3] \"The Phantom Menace\" \"Attack of the Clones\" \"Revenge of the Sith\"\n",
      "  ..$ : chr [1:3] \"The Phantom Menace\" \"Attack of the Clones\" \"Revenge of the Sith\"\n",
      "  ..$ : chr [1:3] \"The Phantom Menace\" \"Attack of the Clones\" \"Revenge of the Sith\"\n",
      "  ..$ : chr [1:2] \"The Phantom Menace\" \"Revenge of the Sith\"\n",
      "  ..$ : chr [1:2] \"The Phantom Menace\" \"Revenge of the Sith\"\n",
      "  ..$ : chr [1:2] \"The Phantom Menace\" \"Revenge of the Sith\"\n",
      "  ..$ : chr \"The Phantom Menace\"\n",
      "  ..$ : chr [1:3] \"The Phantom Menace\" \"Attack of the Clones\" \"Revenge of the Sith\"\n",
      "  ..$ : chr [1:2] \"The Phantom Menace\" \"Attack of the Clones\"\n",
      "  ..$ : chr \"Attack of the Clones\"\n",
      "  ..$ : chr \"Attack of the Clones\"\n",
      "  ..$ : chr \"Attack of the Clones\"\n",
      "  ..$ : chr [1:2] \"Attack of the Clones\" \"Revenge of the Sith\"\n",
      "  ..$ : chr [1:2] \"Attack of the Clones\" \"Revenge of the Sith\"\n",
      "  ..$ : chr \"Attack of the Clones\"\n",
      "  ..$ : chr \"Attack of the Clones\"\n",
      "  ..$ : chr [1:2] \"Attack of the Clones\" \"Revenge of the Sith\"\n",
      "  ..$ : chr [1:2] \"Attack of the Clones\" \"Revenge of the Sith\"\n",
      "  ..$ : chr \"Attack of the Clones\"\n",
      "  ..$ : chr \"Attack of the Clones\"\n",
      "  ..$ : chr \"Attack of the Clones\"\n",
      "  ..$ : chr \"Attack of the Clones\"\n",
      "  ..$ : chr \"Attack of the Clones\"\n",
      "  ..$ : chr \"Attack of the Clones\"\n",
      "  ..$ : chr [1:2] \"Attack of the Clones\" \"Revenge of the Sith\"\n",
      "  ..$ : chr \"Attack of the Clones\"\n",
      "  ..$ : chr \"Attack of the Clones\"\n",
      "  ..$ : chr [1:2] \"Attack of the Clones\" \"Revenge of the Sith\"\n",
      "  ..$ : chr \"Revenge of the Sith\"\n",
      "  ..$ : chr \"Revenge of the Sith\"\n",
      "  ..$ : chr [1:2] \"A New Hope\" \"Revenge of the Sith\"\n",
      "  ..$ : chr [1:2] \"Attack of the Clones\" \"Revenge of the Sith\"\n",
      "  ..$ : chr \"Revenge of the Sith\"\n",
      "  ..$ : chr \"The Force Awakens\"\n",
      "  ..$ : chr \"The Force Awakens\"\n",
      "  ..$ : chr \"The Force Awakens\"\n",
      "  ..$ : chr \"The Force Awakens\"\n",
      "  ..$ : chr \"The Force Awakens\"\n",
      " $ vehicles  :List of 87\n",
      "  ..$ : chr [1:2] \"Snowspeeder\" \"Imperial Speeder Bike\"\n",
      "  ..$ : chr(0) \n",
      "  ..$ : chr(0) \n",
      "  ..$ : chr(0) \n",
      "  ..$ : chr \"Imperial Speeder Bike\"\n",
      "  ..$ : chr(0) \n",
      "  ..$ : chr(0) \n",
      "  ..$ : chr(0) \n",
      "  ..$ : chr(0) \n",
      "  ..$ : chr \"Tribubble bongo\"\n",
      "  ..$ : chr [1:2] \"Zephyr-G swoop bike\" \"XJ-6 airspeeder\"\n",
      "  ..$ : chr(0) \n",
      "  ..$ : chr \"AT-ST\"\n",
      "  ..$ : chr(0) \n",
      "  ..$ : chr(0) \n",
      "  ..$ : chr(0) \n",
      "  ..$ : chr \"Snowspeeder\"\n",
      "  ..$ : chr(0) \n",
      "  ..$ : chr(0) \n",
      "  ..$ : chr(0) \n",
      "  ..$ : chr(0) \n",
      "  ..$ : chr(0) \n",
      "  ..$ : chr(0) \n",
      "  ..$ : chr(0) \n",
      "  ..$ : chr(0) \n",
      "  ..$ : chr(0) \n",
      "  ..$ : chr(0) \n",
      "  ..$ : chr(0) \n",
      "  ..$ : chr(0) \n",
      "  ..$ : chr(0) \n",
      "  ..$ : chr \"Tribubble bongo\"\n",
      "  ..$ : chr(0) \n",
      "  ..$ : chr(0) \n",
      "  ..$ : chr(0) \n",
      "  ..$ : chr(0) \n",
      "  ..$ : chr(0) \n",
      "  ..$ : chr(0) \n",
      "  ..$ : chr(0) \n",
      "  ..$ : chr(0) \n",
      "  ..$ : chr(0) \n",
      "  ..$ : chr(0) \n",
      "  ..$ : chr(0) \n",
      "  ..$ : chr \"Sith speeder\"\n",
      "  ..$ : chr(0) \n",
      "  ..$ : chr(0) \n",
      "  ..$ : chr(0) \n",
      "  ..$ : chr(0) \n",
      "  ..$ : chr(0) \n",
      "  ..$ : chr(0) \n",
      "  ..$ : chr(0) \n",
      "  ..$ : chr(0) \n",
      "  ..$ : chr(0) \n",
      "  ..$ : chr(0) \n",
      "  ..$ : chr(0) \n",
      "  ..$ : chr(0) \n",
      "  ..$ : chr(0) \n",
      "  ..$ : chr(0) \n",
      "  ..$ : chr(0) \n",
      "  ..$ : chr(0) \n",
      "  ..$ : chr(0) \n",
      "  ..$ : chr(0) \n",
      "  ..$ : chr(0) \n",
      "  ..$ : chr(0) \n",
      "  ..$ : chr(0) \n",
      "  ..$ : chr(0) \n",
      "  ..$ : chr \"Flitknot speeder\"\n",
      "  ..$ : chr(0) \n",
      "  ..$ : chr(0) \n",
      "  ..$ : chr \"Koro-2 Exodrive airspeeder\"\n",
      "  ..$ : chr(0) \n",
      "  ..$ : chr(0) \n",
      "  ..$ : chr(0) \n",
      "  ..$ : chr(0) \n",
      "  ..$ : chr(0) \n",
      "  ..$ : chr(0) \n",
      "  ..$ : chr(0) \n",
      "  ..$ : chr(0) \n",
      "  ..$ : chr \"Tsmeu-6 personal wheel bike\"\n",
      "  ..$ : chr(0) \n",
      "  ..$ : chr(0) \n",
      "  ..$ : chr(0) \n",
      "  ..$ : chr(0) \n",
      "  ..$ : chr(0) \n",
      "  ..$ : chr(0) \n",
      "  ..$ : chr(0) \n",
      "  ..$ : chr(0) \n",
      "  ..$ : chr(0) \n",
      " $ starships :List of 87\n",
      "  ..$ : chr [1:2] \"X-wing\" \"Imperial shuttle\"\n",
      "  ..$ : chr(0) \n",
      "  ..$ : chr(0) \n",
      "  ..$ : chr \"TIE Advanced x1\"\n",
      "  ..$ : chr(0) \n",
      "  ..$ : chr(0) \n",
      "  ..$ : chr(0) \n",
      "  ..$ : chr(0) \n",
      "  ..$ : chr \"X-wing\"\n",
      "  ..$ : chr [1:5] \"Jedi starfighter\" \"Trade Federation cruiser\" \"Naboo star skiff\" \"Jedi Interceptor\" ...\n",
      "  ..$ : chr [1:3] \"Naboo fighter\" \"Trade Federation cruiser\" \"Jedi Interceptor\"\n",
      "  ..$ : chr(0) \n",
      "  ..$ : chr [1:2] \"Millennium Falcon\" \"Imperial shuttle\"\n",
      "  ..$ : chr [1:2] \"Millennium Falcon\" \"Imperial shuttle\"\n",
      "  ..$ : chr(0) \n",
      "  ..$ : chr(0) \n",
      "  ..$ : chr \"X-wing\"\n",
      "  ..$ : chr \"X-wing\"\n",
      "  ..$ : chr(0) \n",
      "  ..$ : chr(0) \n",
      "  ..$ : chr \"Slave 1\"\n",
      "  ..$ : chr(0) \n",
      "  ..$ : chr(0) \n",
      "  ..$ : chr \"Millennium Falcon\"\n",
      "  ..$ : chr(0) \n",
      "  ..$ : chr(0) \n",
      "  ..$ : chr(0) \n",
      "  ..$ : chr \"A-wing\"\n",
      "  ..$ : chr(0) \n",
      "  ..$ : chr \"Millennium Falcon\"\n",
      "  ..$ : chr(0) \n",
      "  ..$ : chr(0) \n",
      "  ..$ : chr(0) \n",
      "  ..$ : chr [1:3] \"Naboo fighter\" \"H-type Nubian yacht\" \"Naboo star skiff\"\n",
      "  ..$ : chr(0) \n",
      "  ..$ : chr(0) \n",
      "  ..$ : chr(0) \n",
      "  ..$ : chr \"Naboo Royal Starship\"\n",
      "  ..$ : chr(0) \n",
      "  ..$ : chr(0) \n",
      "  ..$ : chr(0) \n",
      "  ..$ : chr(0) \n",
      "  ..$ : chr \"Scimitar\"\n",
      "  ..$ : chr(0) \n",
      "  ..$ : chr(0) \n",
      "  ..$ : chr(0) \n",
      "  ..$ : chr(0) \n",
      "  ..$ : chr(0) \n",
      "  ..$ : chr(0) \n",
      "  ..$ : chr(0) \n",
      "  ..$ : chr(0) \n",
      "  ..$ : chr(0) \n",
      "  ..$ : chr(0) \n",
      "  ..$ : chr(0) \n",
      "  ..$ : chr(0) \n",
      "  ..$ : chr(0) \n",
      "  ..$ : chr \"Jedi starfighter\"\n",
      "  ..$ : chr(0) \n",
      "  ..$ : chr \"Naboo fighter\"\n",
      "  ..$ : chr(0) \n",
      "  ..$ : chr(0) \n",
      "  ..$ : chr(0) \n",
      "  ..$ : chr(0) \n",
      "  ..$ : chr(0) \n",
      "  ..$ : chr(0) \n",
      "  ..$ : chr(0) \n",
      "  ..$ : chr(0) \n",
      "  ..$ : chr(0) \n",
      "  ..$ : chr(0) \n",
      "  ..$ : chr(0) \n",
      "  ..$ : chr(0) \n",
      "  ..$ : chr(0) \n",
      "  ..$ : chr(0) \n",
      "  ..$ : chr(0) \n",
      "  ..$ : chr(0) \n",
      "  ..$ : chr(0) \n",
      "  ..$ : chr(0) \n",
      "  ..$ : chr \"Belbullab-22 starfighter\"\n",
      "  ..$ : chr(0) \n",
      "  ..$ : chr(0) \n",
      "  ..$ : chr(0) \n",
      "  ..$ : chr(0) \n",
      "  ..$ : chr(0) \n",
      "  ..$ : chr(0) \n",
      "  ..$ : chr \"X-wing\"\n",
      "  ..$ : chr(0) \n",
      "  ..$ : chr(0) \n"
     ]
    }
   ],
   "source": [
    "starwars %>% str"
   ]
  },
  {
   "cell_type": "code",
   "execution_count": 13,
   "id": "f52e3e08",
   "metadata": {
    "vscode": {
     "languageId": "r"
    }
   },
   "outputs": [
    {
     "ename": "ERROR",
     "evalue": "Error in `$<-.data.frame`(`*tmp*`, pepe, value = list(c(\"A New Hope\", : replacement has 87 rows, data has 32\n",
     "output_type": "error",
     "traceback": [
      "Error in `$<-.data.frame`(`*tmp*`, pepe, value = list(c(\"A New Hope\", : replacement has 87 rows, data has 32\nTraceback:\n",
      "1. `$<-.data.frame`(`*tmp*`, pepe, value = list(c(\"A New Hope\", \n . \"The Empire Strikes Back\", \"Return of the Jedi\", \"Revenge of the Sith\", \n . \"The Force Awakens\"), c(\"A New Hope\", \"The Empire Strikes Back\", \n . \"Return of the Jedi\", \"The Phantom Menace\", \"Attack of the Clones\", \n . \"Revenge of the Sith\"), c(\"A New Hope\", \"The Empire Strikes Back\", \n . \"Return of the Jedi\", \"The Phantom Menace\", \"Attack of the Clones\", \n . \"Revenge of the Sith\", \"The Force Awakens\"), c(\"A New Hope\", \n . \"The Empire Strikes Back\", \"Return of the Jedi\", \"Revenge of the Sith\"\n . ), c(\"A New Hope\", \"The Empire Strikes Back\", \"Return of the Jedi\", \n . \"Revenge of the Sith\", \"The Force Awakens\"), c(\"A New Hope\", \n . \"Attack of the Clones\", \"Revenge of the Sith\"), c(\"A New Hope\", \n . \"Attack of the Clones\", \"Revenge of the Sith\"), \"A New Hope\", \n .     \"A New Hope\", c(\"A New Hope\", \"The Empire Strikes Back\", \n .     \"Return of the Jedi\", \"The Phantom Menace\", \"Attack of the Clones\", \n .     \"Revenge of the Sith\"), c(\"The Phantom Menace\", \"Attack of the Clones\", \n .     \"Revenge of the Sith\"), c(\"A New Hope\", \"Revenge of the Sith\"\n .     ), c(\"A New Hope\", \"The Empire Strikes Back\", \"Return of the Jedi\", \n .     \"Revenge of the Sith\", \"The Force Awakens\"), c(\"A New Hope\", \n .     \"The Empire Strikes Back\", \"Return of the Jedi\", \"The Force Awakens\"\n .     ), \"A New Hope\", c(\"A New Hope\", \"Return of the Jedi\", \"The Phantom Menace\"\n .     ), c(\"A New Hope\", \"The Empire Strikes Back\", \"Return of the Jedi\"\n .     ), \"A New Hope\", c(\"The Empire Strikes Back\", \"Return of the Jedi\", \n .     \"The Phantom Menace\", \"Attack of the Clones\", \"Revenge of the Sith\"\n .     ), c(\"The Empire Strikes Back\", \"Return of the Jedi\", \"The Phantom Menace\", \n .     \"Attack of the Clones\", \"Revenge of the Sith\"), c(\"The Empire Strikes Back\", \n .     \"Return of the Jedi\", \"Attack of the Clones\"), \"The Empire Strikes Back\", \n .     \"The Empire Strikes Back\", c(\"The Empire Strikes Back\", \"Return of the Jedi\"\n .     ), \"The Empire Strikes Back\", c(\"Return of the Jedi\", \"The Force Awakens\"\n .     ), \"Return of the Jedi\", \"Return of the Jedi\", \"Return of the Jedi\", \n .     \"Return of the Jedi\", \"The Phantom Menace\", c(\"The Phantom Menace\", \n .     \"Attack of the Clones\", \"Revenge of the Sith\"), \"The Phantom Menace\", \n .     c(\"The Phantom Menace\", \"Attack of the Clones\", \"Revenge of the Sith\"\n .     ), c(\"The Phantom Menace\", \"Attack of the Clones\"), \"The Phantom Menace\", \n .     \"The Phantom Menace\", \"The Phantom Menace\", c(\"The Phantom Menace\", \n .     \"Attack of the Clones\"), \"The Phantom Menace\", \"The Phantom Menace\", \n .     c(\"The Phantom Menace\", \"Attack of the Clones\"), \"The Phantom Menace\", \n .     \"Return of the Jedi\", c(\"The Phantom Menace\", \"Attack of the Clones\", \n .     \"Revenge of the Sith\"), \"The Phantom Menace\", \"The Phantom Menace\", \n .     \"The Phantom Menace\", \"The Phantom Menace\", c(\"The Phantom Menace\", \n .     \"Attack of the Clones\", \"Revenge of the Sith\"), c(\"The Phantom Menace\", \n .     \"Attack of the Clones\", \"Revenge of the Sith\"), c(\"The Phantom Menace\", \n .     \"Attack of the Clones\", \"Revenge of the Sith\"), c(\"The Phantom Menace\", \n .     \"Revenge of the Sith\"), c(\"The Phantom Menace\", \"Revenge of the Sith\"\n .     ), c(\"The Phantom Menace\", \"Revenge of the Sith\"), \"The Phantom Menace\", \n .     c(\"The Phantom Menace\", \"Attack of the Clones\", \"Revenge of the Sith\"\n .     ), c(\"The Phantom Menace\", \"Attack of the Clones\"), \"Attack of the Clones\", \n .     \"Attack of the Clones\", \"Attack of the Clones\", c(\"Attack of the Clones\", \n .     \"Revenge of the Sith\"), c(\"Attack of the Clones\", \"Revenge of the Sith\"\n .     ), \"Attack of the Clones\", \"Attack of the Clones\", c(\"Attack of the Clones\", \n .     \"Revenge of the Sith\"), c(\"Attack of the Clones\", \"Revenge of the Sith\"\n .     ), \"Attack of the Clones\", \"Attack of the Clones\", \"Attack of the Clones\", \n .     \"Attack of the Clones\", \"Attack of the Clones\", \"Attack of the Clones\", \n .     c(\"Attack of the Clones\", \"Revenge of the Sith\"), \"Attack of the Clones\", \n .     \"Attack of the Clones\", c(\"Attack of the Clones\", \"Revenge of the Sith\"\n .     ), \"Revenge of the Sith\", \"Revenge of the Sith\", c(\"A New Hope\", \n .     \"Revenge of the Sith\"), c(\"Attack of the Clones\", \"Revenge of the Sith\"\n .     ), \"Revenge of the Sith\", \"The Force Awakens\", \"The Force Awakens\", \n .     \"The Force Awakens\", \"The Force Awakens\", \"The Force Awakens\"))",
      "2. stop(sprintf(ngettext(N, \"replacement has %d row, data has %d\", \n .     \"replacement has %d rows, data has %d\"), N, nrows), domain = NA)",
      "3. .handleSimpleError(function (cnd) \n . {\n .     watcher$capture_plot_and_output()\n .     cnd <- sanitize_call(cnd)\n .     watcher$push(cnd)\n .     switch(on_error, continue = invokeRestart(\"eval_continue\"), \n .         stop = invokeRestart(\"eval_stop\"), error = NULL)\n . }, \"replacement has 87 rows, data has 32\", base::quote(`$<-.data.frame`(`*tmp*`, \n .     pepe, value = list(c(\"A New Hope\", \"The Empire Strikes Back\", \n .     \"Return of the Jedi\", \"Revenge of the Sith\", \"The Force Awakens\"\n .     ), c(\"A New Hope\", \"The Empire Strikes Back\", \"Return of the Jedi\", \n .     \"The Phantom Menace\", \"Attack of the Clones\", \"Revenge of the Sith\"\n .     ), c(\"A New Hope\", \"The Empire Strikes Back\", \"Return of the Jedi\", \n .     \"The Phantom Menace\", \"Attack of the Clones\", \"Revenge of the Sith\", \n .     \"The Force Awakens\"), c(\"A New Hope\", \"The Empire Strikes Back\", \n .     \"Return of the Jedi\", \"Revenge of the Sith\"), c(\"A New Hope\", \n .     \"The Empire Strikes Back\", \"Return of the Jedi\", \"Revenge of the Sith\", \n .     \"The Force Awakens\"), c(\"A New Hope\", \"Attack of the Clones\", \n .     \"Revenge of the Sith\"), c(\"A New Hope\", \"Attack of the Clones\", \n .     \"Revenge of the Sith\"), \"A New Hope\", \"A New Hope\", c(\"A New Hope\", \n .     \"The Empire Strikes Back\", \"Return of the Jedi\", \"The Phantom Menace\", \n .     \"Attack of the Clones\", \"Revenge of the Sith\"), c(\"The Phantom Menace\", \n .     \"Attack of the Clones\", \"Revenge of the Sith\"), c(\"A New Hope\", \n .     \"Revenge of the Sith\"), c(\"A New Hope\", \"The Empire Strikes Back\", \n .     \"Return of the Jedi\", \"Revenge of the Sith\", \"The Force Awakens\"\n .     ), c(\"A New Hope\", \"The Empire Strikes Back\", \"Return of the Jedi\", \n .     \"The Force Awakens\"), \"A New Hope\", c(\"A New Hope\", \"Return of the Jedi\", \n .     \"The Phantom Menace\"), c(\"A New Hope\", \"The Empire Strikes Back\", \n .     \"Return of the Jedi\"), \"A New Hope\", c(\"The Empire Strikes Back\", \n .     \"Return of the Jedi\", \"The Phantom Menace\", \"Attack of the Clones\", \n .     \"Revenge of the Sith\"), c(\"The Empire Strikes Back\", \"Return of the Jedi\", \n .     \"The Phantom Menace\", \"Attack of the Clones\", \"Revenge of the Sith\"\n .     ), c(\"The Empire Strikes Back\", \"Return of the Jedi\", \"Attack of the Clones\"\n .     ), \"The Empire Strikes Back\", \"The Empire Strikes Back\", \n .         c(\"The Empire Strikes Back\", \"Return of the Jedi\"), \"The Empire Strikes Back\", \n .         c(\"Return of the Jedi\", \"The Force Awakens\"), \"Return of the Jedi\", \n .         \"Return of the Jedi\", \"Return of the Jedi\", \"Return of the Jedi\", \n .         \"The Phantom Menace\", c(\"The Phantom Menace\", \"Attack of the Clones\", \n .         \"Revenge of the Sith\"), \"The Phantom Menace\", c(\"The Phantom Menace\", \n .         \"Attack of the Clones\", \"Revenge of the Sith\"), c(\"The Phantom Menace\", \n .         \"Attack of the Clones\"), \"The Phantom Menace\", \"The Phantom Menace\", \n .         \"The Phantom Menace\", c(\"The Phantom Menace\", \"Attack of the Clones\"\n .         ), \"The Phantom Menace\", \"The Phantom Menace\", c(\"The Phantom Menace\", \n .         \"Attack of the Clones\"), \"The Phantom Menace\", \"Return of the Jedi\", \n .         c(\"The Phantom Menace\", \"Attack of the Clones\", \"Revenge of the Sith\"\n .         ), \"The Phantom Menace\", \"The Phantom Menace\", \"The Phantom Menace\", \n .         \"The Phantom Menace\", c(\"The Phantom Menace\", \"Attack of the Clones\", \n .         \"Revenge of the Sith\"), c(\"The Phantom Menace\", \"Attack of the Clones\", \n .         \"Revenge of the Sith\"), c(\"The Phantom Menace\", \"Attack of the Clones\", \n .         \"Revenge of the Sith\"), c(\"The Phantom Menace\", \"Revenge of the Sith\"\n .         ), c(\"The Phantom Menace\", \"Revenge of the Sith\"), c(\"The Phantom Menace\", \n .         \"Revenge of the Sith\"), \"The Phantom Menace\", c(\"The Phantom Menace\", \n .         \"Attack of the Clones\", \"Revenge of the Sith\"), c(\"The Phantom Menace\", \n .         \"Attack of the Clones\"), \"Attack of the Clones\", \"Attack of the Clones\", \n .         \"Attack of the Clones\", c(\"Attack of the Clones\", \"Revenge of the Sith\"\n .         ), c(\"Attack of the Clones\", \"Revenge of the Sith\"), \n .         \"Attack of the Clones\", \"Attack of the Clones\", c(\"Attack of the Clones\", \n .         \"Revenge of the Sith\"), c(\"Attack of the Clones\", \"Revenge of the Sith\"\n .         ), \"Attack of the Clones\", \"Attack of the Clones\", \"Attack of the Clones\", \n .         \"Attack of the Clones\", \"Attack of the Clones\", \"Attack of the Clones\", \n .         c(\"Attack of the Clones\", \"Revenge of the Sith\"), \"Attack of the Clones\", \n .         \"Attack of the Clones\", c(\"Attack of the Clones\", \"Revenge of the Sith\"\n .         ), \"Revenge of the Sith\", \"Revenge of the Sith\", c(\"A New Hope\", \n .         \"Revenge of the Sith\"), c(\"Attack of the Clones\", \"Revenge of the Sith\"\n .         ), \"Revenge of the Sith\", \"The Force Awakens\", \"The Force Awakens\", \n .         \"The Force Awakens\", \"The Force Awakens\", \"The Force Awakens\"))))"
     ]
    }
   ],
   "source": [
    "mtcars$pepe <- starwars$films"
   ]
  },
  {
   "cell_type": "code",
   "execution_count": 14,
   "id": "e4250a3f",
   "metadata": {
    "vscode": {
     "languageId": "r"
    }
   },
   "outputs": [
    {
     "data": {
      "text/html": [
       "<style>\n",
       ".list-inline {list-style: none; margin:0; padding: 0}\n",
       ".list-inline>li {display: inline-block}\n",
       ".list-inline>li:not(:last-child)::after {content: \"\\00b7\"; padding: 0 .5ex}\n",
       "</style>\n",
       "<ol class=list-inline><li>'tbl_df'</li><li>'tbl'</li><li>'data.frame'</li></ol>\n"
      ],
      "text/latex": [
       "\\begin{enumerate*}\n",
       "\\item 'tbl\\_df'\n",
       "\\item 'tbl'\n",
       "\\item 'data.frame'\n",
       "\\end{enumerate*}\n"
      ],
      "text/markdown": [
       "1. 'tbl_df'\n",
       "2. 'tbl'\n",
       "3. 'data.frame'\n",
       "\n",
       "\n"
      ],
      "text/plain": [
       "[1] \"tbl_df\"     \"tbl\"        \"data.frame\""
      ]
     },
     "metadata": {},
     "output_type": "display_data"
    }
   ],
   "source": [
    "class(starwars)"
   ]
  },
  {
   "cell_type": "markdown",
   "id": "0d92fe19",
   "metadata": {},
   "source": [
    "### filter()\n",
    "Selecciona filas en un data frame"
   ]
  },
  {
   "cell_type": "code",
   "execution_count": 15,
   "id": "efc748ea",
   "metadata": {
    "vscode": {
     "languageId": "r"
    }
   },
   "outputs": [
    {
     "data": {
      "text/html": [
       "<table class=\"dataframe\">\n",
       "<caption>A data.frame: 23 × 11</caption>\n",
       "<thead>\n",
       "\t<tr><th></th><th scope=col>mpg</th><th scope=col>cyl</th><th scope=col>disp</th><th scope=col>hp</th><th scope=col>drat</th><th scope=col>wt</th><th scope=col>qsec</th><th scope=col>vs</th><th scope=col>am</th><th scope=col>gear</th><th scope=col>carb</th></tr>\n",
       "\t<tr><th></th><th scope=col>&lt;dbl&gt;</th><th scope=col>&lt;dbl&gt;</th><th scope=col>&lt;dbl&gt;</th><th scope=col>&lt;dbl&gt;</th><th scope=col>&lt;dbl&gt;</th><th scope=col>&lt;dbl&gt;</th><th scope=col>&lt;dbl&gt;</th><th scope=col>&lt;dbl&gt;</th><th scope=col>&lt;dbl&gt;</th><th scope=col>&lt;dbl&gt;</th><th scope=col>&lt;dbl&gt;</th></tr>\n",
       "</thead>\n",
       "<tbody>\n",
       "\t<tr><th scope=row>Mazda RX4</th><td>21.0</td><td>6</td><td>160.0</td><td>110</td><td>3.90</td><td>2.620</td><td>16.46</td><td>0</td><td>1</td><td>4</td><td>4</td></tr>\n",
       "\t<tr><th scope=row>Mazda RX4 Wag</th><td>21.0</td><td>6</td><td>160.0</td><td>110</td><td>3.90</td><td>2.875</td><td>17.02</td><td>0</td><td>1</td><td>4</td><td>4</td></tr>\n",
       "\t<tr><th scope=row>Hornet 4 Drive</th><td>21.4</td><td>6</td><td>258.0</td><td>110</td><td>3.08</td><td>3.215</td><td>19.44</td><td>1</td><td>0</td><td>3</td><td>1</td></tr>\n",
       "\t<tr><th scope=row>Hornet Sportabout</th><td>18.7</td><td>8</td><td>360.0</td><td>175</td><td>3.15</td><td>3.440</td><td>17.02</td><td>0</td><td>0</td><td>3</td><td>2</td></tr>\n",
       "\t<tr><th scope=row>Valiant</th><td>18.1</td><td>6</td><td>225.0</td><td>105</td><td>2.76</td><td>3.460</td><td>20.22</td><td>1</td><td>0</td><td>3</td><td>1</td></tr>\n",
       "\t<tr><th scope=row>Duster 360</th><td>14.3</td><td>8</td><td>360.0</td><td>245</td><td>3.21</td><td>3.570</td><td>15.84</td><td>0</td><td>0</td><td>3</td><td>4</td></tr>\n",
       "\t<tr><th scope=row>Merc 280</th><td>19.2</td><td>6</td><td>167.6</td><td>123</td><td>3.92</td><td>3.440</td><td>18.30</td><td>1</td><td>0</td><td>4</td><td>4</td></tr>\n",
       "\t<tr><th scope=row>Merc 280C</th><td>17.8</td><td>6</td><td>167.6</td><td>123</td><td>3.92</td><td>3.440</td><td>18.90</td><td>1</td><td>0</td><td>4</td><td>4</td></tr>\n",
       "\t<tr><th scope=row>Merc 450SE</th><td>16.4</td><td>8</td><td>275.8</td><td>180</td><td>3.07</td><td>4.070</td><td>17.40</td><td>0</td><td>0</td><td>3</td><td>3</td></tr>\n",
       "\t<tr><th scope=row>Merc 450SL</th><td>17.3</td><td>8</td><td>275.8</td><td>180</td><td>3.07</td><td>3.730</td><td>17.60</td><td>0</td><td>0</td><td>3</td><td>3</td></tr>\n",
       "\t<tr><th scope=row>Merc 450SLC</th><td>15.2</td><td>8</td><td>275.8</td><td>180</td><td>3.07</td><td>3.780</td><td>18.00</td><td>0</td><td>0</td><td>3</td><td>3</td></tr>\n",
       "\t<tr><th scope=row>Cadillac Fleetwood</th><td>10.4</td><td>8</td><td>472.0</td><td>205</td><td>2.93</td><td>5.250</td><td>17.98</td><td>0</td><td>0</td><td>3</td><td>4</td></tr>\n",
       "\t<tr><th scope=row>Lincoln Continental</th><td>10.4</td><td>8</td><td>460.0</td><td>215</td><td>3.00</td><td>5.424</td><td>17.82</td><td>0</td><td>0</td><td>3</td><td>4</td></tr>\n",
       "\t<tr><th scope=row>Chrysler Imperial</th><td>14.7</td><td>8</td><td>440.0</td><td>230</td><td>3.23</td><td>5.345</td><td>17.42</td><td>0</td><td>0</td><td>3</td><td>4</td></tr>\n",
       "\t<tr><th scope=row>Dodge Challenger</th><td>15.5</td><td>8</td><td>318.0</td><td>150</td><td>2.76</td><td>3.520</td><td>16.87</td><td>0</td><td>0</td><td>3</td><td>2</td></tr>\n",
       "\t<tr><th scope=row>AMC Javelin</th><td>15.2</td><td>8</td><td>304.0</td><td>150</td><td>3.15</td><td>3.435</td><td>17.30</td><td>0</td><td>0</td><td>3</td><td>2</td></tr>\n",
       "\t<tr><th scope=row>Camaro Z28</th><td>13.3</td><td>8</td><td>350.0</td><td>245</td><td>3.73</td><td>3.840</td><td>15.41</td><td>0</td><td>0</td><td>3</td><td>4</td></tr>\n",
       "\t<tr><th scope=row>Pontiac Firebird</th><td>19.2</td><td>8</td><td>400.0</td><td>175</td><td>3.08</td><td>3.845</td><td>17.05</td><td>0</td><td>0</td><td>3</td><td>2</td></tr>\n",
       "\t<tr><th scope=row>Lotus Europa</th><td>30.4</td><td>4</td><td> 95.1</td><td>113</td><td>3.77</td><td>1.513</td><td>16.90</td><td>1</td><td>1</td><td>5</td><td>2</td></tr>\n",
       "\t<tr><th scope=row>Ford Pantera L</th><td>15.8</td><td>8</td><td>351.0</td><td>264</td><td>4.22</td><td>3.170</td><td>14.50</td><td>0</td><td>1</td><td>5</td><td>4</td></tr>\n",
       "\t<tr><th scope=row>Ferrari Dino</th><td>19.7</td><td>6</td><td>145.0</td><td>175</td><td>3.62</td><td>2.770</td><td>15.50</td><td>0</td><td>1</td><td>5</td><td>6</td></tr>\n",
       "\t<tr><th scope=row>Maserati Bora</th><td>15.0</td><td>8</td><td>301.0</td><td>335</td><td>3.54</td><td>3.570</td><td>14.60</td><td>0</td><td>1</td><td>5</td><td>8</td></tr>\n",
       "\t<tr><th scope=row>Volvo 142E</th><td>21.4</td><td>4</td><td>121.0</td><td>109</td><td>4.11</td><td>2.780</td><td>18.60</td><td>1</td><td>1</td><td>4</td><td>2</td></tr>\n",
       "</tbody>\n",
       "</table>\n"
      ],
      "text/latex": [
       "A data.frame: 23 × 11\n",
       "\\begin{tabular}{r|lllllllllll}\n",
       "  & mpg & cyl & disp & hp & drat & wt & qsec & vs & am & gear & carb\\\\\n",
       "  & <dbl> & <dbl> & <dbl> & <dbl> & <dbl> & <dbl> & <dbl> & <dbl> & <dbl> & <dbl> & <dbl>\\\\\n",
       "\\hline\n",
       "\tMazda RX4 & 21.0 & 6 & 160.0 & 110 & 3.90 & 2.620 & 16.46 & 0 & 1 & 4 & 4\\\\\n",
       "\tMazda RX4 Wag & 21.0 & 6 & 160.0 & 110 & 3.90 & 2.875 & 17.02 & 0 & 1 & 4 & 4\\\\\n",
       "\tHornet 4 Drive & 21.4 & 6 & 258.0 & 110 & 3.08 & 3.215 & 19.44 & 1 & 0 & 3 & 1\\\\\n",
       "\tHornet Sportabout & 18.7 & 8 & 360.0 & 175 & 3.15 & 3.440 & 17.02 & 0 & 0 & 3 & 2\\\\\n",
       "\tValiant & 18.1 & 6 & 225.0 & 105 & 2.76 & 3.460 & 20.22 & 1 & 0 & 3 & 1\\\\\n",
       "\tDuster 360 & 14.3 & 8 & 360.0 & 245 & 3.21 & 3.570 & 15.84 & 0 & 0 & 3 & 4\\\\\n",
       "\tMerc 280 & 19.2 & 6 & 167.6 & 123 & 3.92 & 3.440 & 18.30 & 1 & 0 & 4 & 4\\\\\n",
       "\tMerc 280C & 17.8 & 6 & 167.6 & 123 & 3.92 & 3.440 & 18.90 & 1 & 0 & 4 & 4\\\\\n",
       "\tMerc 450SE & 16.4 & 8 & 275.8 & 180 & 3.07 & 4.070 & 17.40 & 0 & 0 & 3 & 3\\\\\n",
       "\tMerc 450SL & 17.3 & 8 & 275.8 & 180 & 3.07 & 3.730 & 17.60 & 0 & 0 & 3 & 3\\\\\n",
       "\tMerc 450SLC & 15.2 & 8 & 275.8 & 180 & 3.07 & 3.780 & 18.00 & 0 & 0 & 3 & 3\\\\\n",
       "\tCadillac Fleetwood & 10.4 & 8 & 472.0 & 205 & 2.93 & 5.250 & 17.98 & 0 & 0 & 3 & 4\\\\\n",
       "\tLincoln Continental & 10.4 & 8 & 460.0 & 215 & 3.00 & 5.424 & 17.82 & 0 & 0 & 3 & 4\\\\\n",
       "\tChrysler Imperial & 14.7 & 8 & 440.0 & 230 & 3.23 & 5.345 & 17.42 & 0 & 0 & 3 & 4\\\\\n",
       "\tDodge Challenger & 15.5 & 8 & 318.0 & 150 & 2.76 & 3.520 & 16.87 & 0 & 0 & 3 & 2\\\\\n",
       "\tAMC Javelin & 15.2 & 8 & 304.0 & 150 & 3.15 & 3.435 & 17.30 & 0 & 0 & 3 & 2\\\\\n",
       "\tCamaro Z28 & 13.3 & 8 & 350.0 & 245 & 3.73 & 3.840 & 15.41 & 0 & 0 & 3 & 4\\\\\n",
       "\tPontiac Firebird & 19.2 & 8 & 400.0 & 175 & 3.08 & 3.845 & 17.05 & 0 & 0 & 3 & 2\\\\\n",
       "\tLotus Europa & 30.4 & 4 &  95.1 & 113 & 3.77 & 1.513 & 16.90 & 1 & 1 & 5 & 2\\\\\n",
       "\tFord Pantera L & 15.8 & 8 & 351.0 & 264 & 4.22 & 3.170 & 14.50 & 0 & 1 & 5 & 4\\\\\n",
       "\tFerrari Dino & 19.7 & 6 & 145.0 & 175 & 3.62 & 2.770 & 15.50 & 0 & 1 & 5 & 6\\\\\n",
       "\tMaserati Bora & 15.0 & 8 & 301.0 & 335 & 3.54 & 3.570 & 14.60 & 0 & 1 & 5 & 8\\\\\n",
       "\tVolvo 142E & 21.4 & 4 & 121.0 & 109 & 4.11 & 2.780 & 18.60 & 1 & 1 & 4 & 2\\\\\n",
       "\\end{tabular}\n"
      ],
      "text/markdown": [
       "\n",
       "A data.frame: 23 × 11\n",
       "\n",
       "| <!--/--> | mpg &lt;dbl&gt; | cyl &lt;dbl&gt; | disp &lt;dbl&gt; | hp &lt;dbl&gt; | drat &lt;dbl&gt; | wt &lt;dbl&gt; | qsec &lt;dbl&gt; | vs &lt;dbl&gt; | am &lt;dbl&gt; | gear &lt;dbl&gt; | carb &lt;dbl&gt; |\n",
       "|---|---|---|---|---|---|---|---|---|---|---|---|\n",
       "| Mazda RX4 | 21.0 | 6 | 160.0 | 110 | 3.90 | 2.620 | 16.46 | 0 | 1 | 4 | 4 |\n",
       "| Mazda RX4 Wag | 21.0 | 6 | 160.0 | 110 | 3.90 | 2.875 | 17.02 | 0 | 1 | 4 | 4 |\n",
       "| Hornet 4 Drive | 21.4 | 6 | 258.0 | 110 | 3.08 | 3.215 | 19.44 | 1 | 0 | 3 | 1 |\n",
       "| Hornet Sportabout | 18.7 | 8 | 360.0 | 175 | 3.15 | 3.440 | 17.02 | 0 | 0 | 3 | 2 |\n",
       "| Valiant | 18.1 | 6 | 225.0 | 105 | 2.76 | 3.460 | 20.22 | 1 | 0 | 3 | 1 |\n",
       "| Duster 360 | 14.3 | 8 | 360.0 | 245 | 3.21 | 3.570 | 15.84 | 0 | 0 | 3 | 4 |\n",
       "| Merc 280 | 19.2 | 6 | 167.6 | 123 | 3.92 | 3.440 | 18.30 | 1 | 0 | 4 | 4 |\n",
       "| Merc 280C | 17.8 | 6 | 167.6 | 123 | 3.92 | 3.440 | 18.90 | 1 | 0 | 4 | 4 |\n",
       "| Merc 450SE | 16.4 | 8 | 275.8 | 180 | 3.07 | 4.070 | 17.40 | 0 | 0 | 3 | 3 |\n",
       "| Merc 450SL | 17.3 | 8 | 275.8 | 180 | 3.07 | 3.730 | 17.60 | 0 | 0 | 3 | 3 |\n",
       "| Merc 450SLC | 15.2 | 8 | 275.8 | 180 | 3.07 | 3.780 | 18.00 | 0 | 0 | 3 | 3 |\n",
       "| Cadillac Fleetwood | 10.4 | 8 | 472.0 | 205 | 2.93 | 5.250 | 17.98 | 0 | 0 | 3 | 4 |\n",
       "| Lincoln Continental | 10.4 | 8 | 460.0 | 215 | 3.00 | 5.424 | 17.82 | 0 | 0 | 3 | 4 |\n",
       "| Chrysler Imperial | 14.7 | 8 | 440.0 | 230 | 3.23 | 5.345 | 17.42 | 0 | 0 | 3 | 4 |\n",
       "| Dodge Challenger | 15.5 | 8 | 318.0 | 150 | 2.76 | 3.520 | 16.87 | 0 | 0 | 3 | 2 |\n",
       "| AMC Javelin | 15.2 | 8 | 304.0 | 150 | 3.15 | 3.435 | 17.30 | 0 | 0 | 3 | 2 |\n",
       "| Camaro Z28 | 13.3 | 8 | 350.0 | 245 | 3.73 | 3.840 | 15.41 | 0 | 0 | 3 | 4 |\n",
       "| Pontiac Firebird | 19.2 | 8 | 400.0 | 175 | 3.08 | 3.845 | 17.05 | 0 | 0 | 3 | 2 |\n",
       "| Lotus Europa | 30.4 | 4 |  95.1 | 113 | 3.77 | 1.513 | 16.90 | 1 | 1 | 5 | 2 |\n",
       "| Ford Pantera L | 15.8 | 8 | 351.0 | 264 | 4.22 | 3.170 | 14.50 | 0 | 1 | 5 | 4 |\n",
       "| Ferrari Dino | 19.7 | 6 | 145.0 | 175 | 3.62 | 2.770 | 15.50 | 0 | 1 | 5 | 6 |\n",
       "| Maserati Bora | 15.0 | 8 | 301.0 | 335 | 3.54 | 3.570 | 14.60 | 0 | 1 | 5 | 8 |\n",
       "| Volvo 142E | 21.4 | 4 | 121.0 | 109 | 4.11 | 2.780 | 18.60 | 1 | 1 | 4 | 2 |\n",
       "\n"
      ],
      "text/plain": [
       "                    mpg  cyl disp  hp  drat wt    qsec  vs am gear carb\n",
       "Mazda RX4           21.0 6   160.0 110 3.90 2.620 16.46 0  1  4    4   \n",
       "Mazda RX4 Wag       21.0 6   160.0 110 3.90 2.875 17.02 0  1  4    4   \n",
       "Hornet 4 Drive      21.4 6   258.0 110 3.08 3.215 19.44 1  0  3    1   \n",
       "Hornet Sportabout   18.7 8   360.0 175 3.15 3.440 17.02 0  0  3    2   \n",
       "Valiant             18.1 6   225.0 105 2.76 3.460 20.22 1  0  3    1   \n",
       "Duster 360          14.3 8   360.0 245 3.21 3.570 15.84 0  0  3    4   \n",
       "Merc 280            19.2 6   167.6 123 3.92 3.440 18.30 1  0  4    4   \n",
       "Merc 280C           17.8 6   167.6 123 3.92 3.440 18.90 1  0  4    4   \n",
       "Merc 450SE          16.4 8   275.8 180 3.07 4.070 17.40 0  0  3    3   \n",
       "Merc 450SL          17.3 8   275.8 180 3.07 3.730 17.60 0  0  3    3   \n",
       "Merc 450SLC         15.2 8   275.8 180 3.07 3.780 18.00 0  0  3    3   \n",
       "Cadillac Fleetwood  10.4 8   472.0 205 2.93 5.250 17.98 0  0  3    4   \n",
       "Lincoln Continental 10.4 8   460.0 215 3.00 5.424 17.82 0  0  3    4   \n",
       "Chrysler Imperial   14.7 8   440.0 230 3.23 5.345 17.42 0  0  3    4   \n",
       "Dodge Challenger    15.5 8   318.0 150 2.76 3.520 16.87 0  0  3    2   \n",
       "AMC Javelin         15.2 8   304.0 150 3.15 3.435 17.30 0  0  3    2   \n",
       "Camaro Z28          13.3 8   350.0 245 3.73 3.840 15.41 0  0  3    4   \n",
       "Pontiac Firebird    19.2 8   400.0 175 3.08 3.845 17.05 0  0  3    2   \n",
       "Lotus Europa        30.4 4    95.1 113 3.77 1.513 16.90 1  1  5    2   \n",
       "Ford Pantera L      15.8 8   351.0 264 4.22 3.170 14.50 0  1  5    4   \n",
       "Ferrari Dino        19.7 6   145.0 175 3.62 2.770 15.50 0  1  5    6   \n",
       "Maserati Bora       15.0 8   301.0 335 3.54 3.570 14.60 0  1  5    8   \n",
       "Volvo 142E          21.4 4   121.0 109 4.11 2.780 18.60 1  1  4    2   "
      ]
     },
     "metadata": {},
     "output_type": "display_data"
    }
   ],
   "source": [
    "mtcars[mtcars$hp > 100,]"
   ]
  },
  {
   "cell_type": "code",
   "execution_count": 16,
   "id": "2cf89f3c",
   "metadata": {
    "scrolled": true,
    "vscode": {
     "languageId": "r"
    }
   },
   "outputs": [
    {
     "name": "stdout",
     "output_type": "stream",
     "text": [
      "\u001b[90m# A tibble: 6 × 14\u001b[39m\n",
      "  name   height  mass hair_color skin_color  eye_color birth_year sex   gender  \n",
      "  \u001b[3m\u001b[90m<chr>\u001b[39m\u001b[23m   \u001b[3m\u001b[90m<int>\u001b[39m\u001b[23m \u001b[3m\u001b[90m<dbl>\u001b[39m\u001b[23m \u001b[3m\u001b[90m<chr>\u001b[39m\u001b[23m      \u001b[3m\u001b[90m<chr>\u001b[39m\u001b[23m       \u001b[3m\u001b[90m<chr>\u001b[39m\u001b[23m          \u001b[3m\u001b[90m<dbl>\u001b[39m\u001b[23m \u001b[3m\u001b[90m<chr>\u001b[39m\u001b[23m \u001b[3m\u001b[90m<chr>\u001b[39m\u001b[23m   \n",
      "\u001b[90m1\u001b[39m C-3PO     167    75 \u001b[31mNA\u001b[39m         gold        yellow           112 none  masculi…\n",
      "\u001b[90m2\u001b[39m R2-D2      96    32 \u001b[31mNA\u001b[39m         white, blue red               33 none  masculi…\n",
      "\u001b[90m3\u001b[39m R5-D4      97    32 \u001b[31mNA\u001b[39m         white, red  red               \u001b[31mNA\u001b[39m none  masculi…\n",
      "\u001b[90m4\u001b[39m IG-88     200   140 none       metal       red               15 none  masculi…\n",
      "\u001b[90m5\u001b[39m R4-P17     96    \u001b[31mNA\u001b[39m none       silver, red red, blue         \u001b[31mNA\u001b[39m none  feminine\n",
      "\u001b[90m6\u001b[39m BB8        \u001b[31mNA\u001b[39m    \u001b[31mNA\u001b[39m none       none        black             \u001b[31mNA\u001b[39m none  masculi…\n",
      "\u001b[90m# ℹ 5 more variables: homeworld <chr>, species <chr>, films <list>,\u001b[39m\n",
      "\u001b[90m#   vehicles <list>, starships <list>\u001b[39m\n"
     ]
    }
   ],
   "source": [
    "# Busco a los andorides...\n",
    "# Fuera del tidyverso\n",
    "print(starwars[!is.na(starwars$species) & starwars$species == \"Droid\",])"
   ]
  },
  {
   "cell_type": "code",
   "execution_count": 17,
   "id": "ea17d051",
   "metadata": {
    "scrolled": true,
    "vscode": {
     "languageId": "r"
    }
   },
   "outputs": [
    {
     "name": "stdout",
     "output_type": "stream",
     "text": [
      "\u001b[90m# A tibble: 6 × 14\u001b[39m\n",
      "  name   height  mass hair_color skin_color  eye_color birth_year sex   gender  \n",
      "  \u001b[3m\u001b[90m<chr>\u001b[39m\u001b[23m   \u001b[3m\u001b[90m<int>\u001b[39m\u001b[23m \u001b[3m\u001b[90m<dbl>\u001b[39m\u001b[23m \u001b[3m\u001b[90m<chr>\u001b[39m\u001b[23m      \u001b[3m\u001b[90m<chr>\u001b[39m\u001b[23m       \u001b[3m\u001b[90m<chr>\u001b[39m\u001b[23m          \u001b[3m\u001b[90m<dbl>\u001b[39m\u001b[23m \u001b[3m\u001b[90m<chr>\u001b[39m\u001b[23m \u001b[3m\u001b[90m<chr>\u001b[39m\u001b[23m   \n",
      "\u001b[90m1\u001b[39m C-3PO     167    75 \u001b[31mNA\u001b[39m         gold        yellow           112 none  masculi…\n",
      "\u001b[90m2\u001b[39m R2-D2      96    32 \u001b[31mNA\u001b[39m         white, blue red               33 none  masculi…\n",
      "\u001b[90m3\u001b[39m R5-D4      97    32 \u001b[31mNA\u001b[39m         white, red  red               \u001b[31mNA\u001b[39m none  masculi…\n",
      "\u001b[90m4\u001b[39m IG-88     200   140 none       metal       red               15 none  masculi…\n",
      "\u001b[90m5\u001b[39m R4-P17     96    \u001b[31mNA\u001b[39m none       silver, red red, blue         \u001b[31mNA\u001b[39m none  feminine\n",
      "\u001b[90m6\u001b[39m BB8        \u001b[31mNA\u001b[39m    \u001b[31mNA\u001b[39m none       none        black             \u001b[31mNA\u001b[39m none  masculi…\n",
      "\u001b[90m# ℹ 5 more variables: homeworld <chr>, species <chr>, films <list>,\u001b[39m\n",
      "\u001b[90m#   vehicles <list>, starships <list>\u001b[39m\n"
     ]
    }
   ],
   "source": [
    "# Dentro del tidyverso\n",
    "starwars %>% filter(species == \"Droid\") %>% print"
   ]
  },
  {
   "cell_type": "code",
   "execution_count": 18,
   "id": "7b1b72c6",
   "metadata": {
    "vscode": {
     "languageId": "r"
    }
   },
   "outputs": [
    {
     "name": "stdout",
     "output_type": "stream",
     "text": [
      "\u001b[90m# A tibble: 6 × 14\u001b[39m\n",
      "  name   height  mass hair_color skin_color  eye_color birth_year sex   gender  \n",
      "  \u001b[3m\u001b[90m<chr>\u001b[39m\u001b[23m   \u001b[3m\u001b[90m<int>\u001b[39m\u001b[23m \u001b[3m\u001b[90m<dbl>\u001b[39m\u001b[23m \u001b[3m\u001b[90m<chr>\u001b[39m\u001b[23m      \u001b[3m\u001b[90m<chr>\u001b[39m\u001b[23m       \u001b[3m\u001b[90m<chr>\u001b[39m\u001b[23m          \u001b[3m\u001b[90m<dbl>\u001b[39m\u001b[23m \u001b[3m\u001b[90m<chr>\u001b[39m\u001b[23m \u001b[3m\u001b[90m<chr>\u001b[39m\u001b[23m   \n",
      "\u001b[90m1\u001b[39m C-3PO     167    75 \u001b[31mNA\u001b[39m         gold        yellow           112 none  masculi…\n",
      "\u001b[90m2\u001b[39m R2-D2      96    32 \u001b[31mNA\u001b[39m         white, blue red               33 none  masculi…\n",
      "\u001b[90m3\u001b[39m R5-D4      97    32 \u001b[31mNA\u001b[39m         white, red  red               \u001b[31mNA\u001b[39m none  masculi…\n",
      "\u001b[90m4\u001b[39m IG-88     200   140 none       metal       red               15 none  masculi…\n",
      "\u001b[90m5\u001b[39m R4-P17     96    \u001b[31mNA\u001b[39m none       silver, red red, blue         \u001b[31mNA\u001b[39m none  feminine\n",
      "\u001b[90m6\u001b[39m BB8        \u001b[31mNA\u001b[39m    \u001b[31mNA\u001b[39m none       none        black             \u001b[31mNA\u001b[39m none  masculi…\n",
      "\u001b[90m# ℹ 5 more variables: homeworld <chr>, species <chr>, films <list>,\u001b[39m\n",
      "\u001b[90m#   vehicles <list>, starships <list>\u001b[39m\n"
     ]
    }
   ],
   "source": [
    "filter(starwars, species == \"Droid\") %>% print"
   ]
  },
  {
   "cell_type": "code",
   "execution_count": 19,
   "id": "18743e90",
   "metadata": {
    "vscode": {
     "languageId": "r"
    }
   },
   "outputs": [
    {
     "name": "stdout",
     "output_type": "stream",
     "text": [
      "\u001b[90m# A tibble: 1 × 14\u001b[39m\n",
      "  name  height  mass hair_color skin_color  eye_color birth_year sex   gender   \n",
      "  \u001b[3m\u001b[90m<chr>\u001b[39m\u001b[23m  \u001b[3m\u001b[90m<int>\u001b[39m\u001b[23m \u001b[3m\u001b[90m<dbl>\u001b[39m\u001b[23m \u001b[3m\u001b[90m<chr>\u001b[39m\u001b[23m      \u001b[3m\u001b[90m<chr>\u001b[39m\u001b[23m       \u001b[3m\u001b[90m<chr>\u001b[39m\u001b[23m          \u001b[3m\u001b[90m<dbl>\u001b[39m\u001b[23m \u001b[3m\u001b[90m<chr>\u001b[39m\u001b[23m \u001b[3m\u001b[90m<chr>\u001b[39m\u001b[23m    \n",
      "\u001b[90m1\u001b[39m R2-D2     96    32 \u001b[31mNA\u001b[39m         white, blue red               33 none  masculine\n",
      "\u001b[90m# ℹ 5 more variables: homeworld <chr>, species <chr>, films <list>,\u001b[39m\n",
      "\u001b[90m#   vehicles <list>, starships <list>\u001b[39m\n"
     ]
    }
   ],
   "source": [
    "starwars %>% filter(species == \"Droid\") %>% filter(homeworld == \"Naboo\") %>% print"
   ]
  },
  {
   "cell_type": "code",
   "execution_count": 20,
   "id": "b3697e55",
   "metadata": {
    "vscode": {
     "languageId": "r"
    }
   },
   "outputs": [
    {
     "name": "stdout",
     "output_type": "stream",
     "text": [
      "\u001b[90m# A tibble: 3 × 14\u001b[39m\n",
      "  name   height  mass hair_color skin_color  eye_color birth_year sex   gender  \n",
      "  \u001b[3m\u001b[90m<chr>\u001b[39m\u001b[23m   \u001b[3m\u001b[90m<int>\u001b[39m\u001b[23m \u001b[3m\u001b[90m<dbl>\u001b[39m\u001b[23m \u001b[3m\u001b[90m<chr>\u001b[39m\u001b[23m      \u001b[3m\u001b[90m<chr>\u001b[39m\u001b[23m       \u001b[3m\u001b[90m<chr>\u001b[39m\u001b[23m          \u001b[3m\u001b[90m<dbl>\u001b[39m\u001b[23m \u001b[3m\u001b[90m<chr>\u001b[39m\u001b[23m \u001b[3m\u001b[90m<chr>\u001b[39m\u001b[23m   \n",
      "\u001b[90m1\u001b[39m R2-D2      96    32 \u001b[31mNA\u001b[39m         white, blue red               33 none  masculi…\n",
      "\u001b[90m2\u001b[39m R5-D4      97    32 \u001b[31mNA\u001b[39m         white, red  red               \u001b[31mNA\u001b[39m none  masculi…\n",
      "\u001b[90m3\u001b[39m R4-P17     96    \u001b[31mNA\u001b[39m none       silver, red red, blue         \u001b[31mNA\u001b[39m none  feminine\n",
      "\u001b[90m# ℹ 5 more variables: homeworld <chr>, species <chr>, films <list>,\u001b[39m\n",
      "\u001b[90m#   vehicles <list>, starships <list>\u001b[39m\n"
     ]
    }
   ],
   "source": [
    "starwars %>% filter(species == \"Droid\") %>% filter(height < 100) %>% print"
   ]
  },
  {
   "cell_type": "code",
   "execution_count": 21,
   "id": "10e7d704",
   "metadata": {
    "vscode": {
     "languageId": "r"
    }
   },
   "outputs": [
    {
     "name": "stdout",
     "output_type": "stream",
     "text": [
      "\u001b[90m# A tibble: 4 × 14\u001b[39m\n",
      "  name   height  mass hair_color skin_color  eye_color birth_year sex   gender  \n",
      "  \u001b[3m\u001b[90m<chr>\u001b[39m\u001b[23m   \u001b[3m\u001b[90m<int>\u001b[39m\u001b[23m \u001b[3m\u001b[90m<dbl>\u001b[39m\u001b[23m \u001b[3m\u001b[90m<chr>\u001b[39m\u001b[23m      \u001b[3m\u001b[90m<chr>\u001b[39m\u001b[23m       \u001b[3m\u001b[90m<chr>\u001b[39m\u001b[23m          \u001b[3m\u001b[90m<dbl>\u001b[39m\u001b[23m \u001b[3m\u001b[90m<chr>\u001b[39m\u001b[23m \u001b[3m\u001b[90m<chr>\u001b[39m\u001b[23m   \n",
      "\u001b[90m1\u001b[39m R2-D2      96    32 \u001b[31mNA\u001b[39m         white, blue red               33 none  masculi…\n",
      "\u001b[90m2\u001b[39m R5-D4      97    32 \u001b[31mNA\u001b[39m         white, red  red               \u001b[31mNA\u001b[39m none  masculi…\n",
      "\u001b[90m3\u001b[39m R4-P17     96    \u001b[31mNA\u001b[39m none       silver, red red, blue         \u001b[31mNA\u001b[39m none  feminine\n",
      "\u001b[90m4\u001b[39m BB8        \u001b[31mNA\u001b[39m    \u001b[31mNA\u001b[39m none       none        black             \u001b[31mNA\u001b[39m none  masculi…\n",
      "\u001b[90m# ℹ 5 more variables: homeworld <chr>, species <chr>, films <list>,\u001b[39m\n",
      "\u001b[90m#   vehicles <list>, starships <list>\u001b[39m\n"
     ]
    }
   ],
   "source": [
    "starwars %>% filter(species == \"Droid\") %>%\n",
    "    filter(height < 100 | is.na(height)) %>% print"
   ]
  },
  {
   "cell_type": "code",
   "execution_count": 22,
   "id": "c67fa296",
   "metadata": {
    "vscode": {
     "languageId": "r"
    }
   },
   "outputs": [
    {
     "name": "stdout",
     "output_type": "stream",
     "text": [
      "\u001b[90m# A tibble: 4 × 14\u001b[39m\n",
      "  name   height  mass hair_color skin_color  eye_color birth_year sex   gender  \n",
      "  \u001b[3m\u001b[90m<chr>\u001b[39m\u001b[23m   \u001b[3m\u001b[90m<int>\u001b[39m\u001b[23m \u001b[3m\u001b[90m<dbl>\u001b[39m\u001b[23m \u001b[3m\u001b[90m<chr>\u001b[39m\u001b[23m      \u001b[3m\u001b[90m<chr>\u001b[39m\u001b[23m       \u001b[3m\u001b[90m<chr>\u001b[39m\u001b[23m          \u001b[3m\u001b[90m<dbl>\u001b[39m\u001b[23m \u001b[3m\u001b[90m<chr>\u001b[39m\u001b[23m \u001b[3m\u001b[90m<chr>\u001b[39m\u001b[23m   \n",
      "\u001b[90m1\u001b[39m C-3PO     167    75 \u001b[31mNA\u001b[39m         gold        yellow           112 none  masculi…\n",
      "\u001b[90m2\u001b[39m R2-D2      96    32 \u001b[31mNA\u001b[39m         white, blue red               33 none  masculi…\n",
      "\u001b[90m3\u001b[39m R5-D4      97    32 \u001b[31mNA\u001b[39m         white, red  red               \u001b[31mNA\u001b[39m none  masculi…\n",
      "\u001b[90m4\u001b[39m R4-P17     96    \u001b[31mNA\u001b[39m none       silver, red red, blue         \u001b[31mNA\u001b[39m none  feminine\n",
      "\u001b[90m# ℹ 5 more variables: homeworld <chr>, species <chr>, films <list>,\u001b[39m\n",
      "\u001b[90m#   vehicles <list>, starships <list>\u001b[39m\n"
     ]
    }
   ],
   "source": [
    "starwars %>% filter(species == \"Droid\") %>%\n",
    "    filter(height >= 96 & height < 200) %>% print"
   ]
  },
  {
   "cell_type": "code",
   "execution_count": 23,
   "id": "3408ef4d",
   "metadata": {
    "vscode": {
     "languageId": "r"
    }
   },
   "outputs": [
    {
     "name": "stdout",
     "output_type": "stream",
     "text": [
      "\u001b[90m# A tibble: 4 × 14\u001b[39m\n",
      "  name   height  mass hair_color skin_color  eye_color birth_year sex   gender  \n",
      "  \u001b[3m\u001b[90m<chr>\u001b[39m\u001b[23m   \u001b[3m\u001b[90m<int>\u001b[39m\u001b[23m \u001b[3m\u001b[90m<dbl>\u001b[39m\u001b[23m \u001b[3m\u001b[90m<chr>\u001b[39m\u001b[23m      \u001b[3m\u001b[90m<chr>\u001b[39m\u001b[23m       \u001b[3m\u001b[90m<chr>\u001b[39m\u001b[23m          \u001b[3m\u001b[90m<dbl>\u001b[39m\u001b[23m \u001b[3m\u001b[90m<chr>\u001b[39m\u001b[23m \u001b[3m\u001b[90m<chr>\u001b[39m\u001b[23m   \n",
      "\u001b[90m1\u001b[39m C-3PO     167    75 \u001b[31mNA\u001b[39m         gold        yellow           112 none  masculi…\n",
      "\u001b[90m2\u001b[39m R2-D2      96    32 \u001b[31mNA\u001b[39m         white, blue red               33 none  masculi…\n",
      "\u001b[90m3\u001b[39m R5-D4      97    32 \u001b[31mNA\u001b[39m         white, red  red               \u001b[31mNA\u001b[39m none  masculi…\n",
      "\u001b[90m4\u001b[39m R4-P17     96    \u001b[31mNA\u001b[39m none       silver, red red, blue         \u001b[31mNA\u001b[39m none  feminine\n",
      "\u001b[90m# ℹ 5 more variables: homeworld <chr>, species <chr>, films <list>,\u001b[39m\n",
      "\u001b[90m#   vehicles <list>, starships <list>\u001b[39m\n"
     ]
    }
   ],
   "source": [
    "starwars %>% filter(species == \"Droid\", height >= 96 & height < 200) %>% print"
   ]
  },
  {
   "cell_type": "code",
   "execution_count": 24,
   "id": "d2fdf711",
   "metadata": {
    "vscode": {
     "languageId": "r"
    }
   },
   "outputs": [
    {
     "name": "stdout",
     "output_type": "stream",
     "text": [
      "\u001b[90m# A tibble: 3 × 14\u001b[39m\n",
      "  name  height  mass hair_color skin_color  eye_color birth_year sex   gender   \n",
      "  \u001b[3m\u001b[90m<chr>\u001b[39m\u001b[23m  \u001b[3m\u001b[90m<int>\u001b[39m\u001b[23m \u001b[3m\u001b[90m<dbl>\u001b[39m\u001b[23m \u001b[3m\u001b[90m<chr>\u001b[39m\u001b[23m      \u001b[3m\u001b[90m<chr>\u001b[39m\u001b[23m       \u001b[3m\u001b[90m<chr>\u001b[39m\u001b[23m          \u001b[3m\u001b[90m<dbl>\u001b[39m\u001b[23m \u001b[3m\u001b[90m<chr>\u001b[39m\u001b[23m \u001b[3m\u001b[90m<chr>\u001b[39m\u001b[23m    \n",
      "\u001b[90m1\u001b[39m C-3PO    167    75 \u001b[31mNA\u001b[39m         gold        yellow           112 none  masculine\n",
      "\u001b[90m2\u001b[39m R2-D2     96    32 \u001b[31mNA\u001b[39m         white, blue red               33 none  masculine\n",
      "\u001b[90m3\u001b[39m R5-D4     97    32 \u001b[31mNA\u001b[39m         white, red  red               \u001b[31mNA\u001b[39m none  masculine\n",
      "\u001b[90m# ℹ 5 more variables: homeworld <chr>, species <chr>, films <list>,\u001b[39m\n",
      "\u001b[90m#   vehicles <list>, starships <list>\u001b[39m\n"
     ]
    }
   ],
   "source": [
    "starwars %>% filter(species == \"Droid\") %>% \n",
    "    filter(height >= 96 & homeworld %in% c(\"Naboo\", \"Tatooine\")) %>% print"
   ]
  },
  {
   "cell_type": "code",
   "execution_count": 27,
   "id": "164ab761",
   "metadata": {
    "vscode": {
     "languageId": "r"
    }
   },
   "outputs": [
    {
     "name": "stdout",
     "output_type": "stream",
     "text": [
      "\u001b[90m# A tibble: 6 × 14\u001b[39m\n",
      "  name      height  mass hair_color skin_color eye_color birth_year sex   gender\n",
      "  \u001b[3m\u001b[90m<chr>\u001b[39m\u001b[23m      \u001b[3m\u001b[90m<int>\u001b[39m\u001b[23m \u001b[3m\u001b[90m<dbl>\u001b[39m\u001b[23m \u001b[3m\u001b[90m<chr>\u001b[39m\u001b[23m      \u001b[3m\u001b[90m<chr>\u001b[39m\u001b[23m      \u001b[3m\u001b[90m<chr>\u001b[39m\u001b[23m          \u001b[3m\u001b[90m<dbl>\u001b[39m\u001b[23m \u001b[3m\u001b[90m<chr>\u001b[39m\u001b[23m \u001b[3m\u001b[90m<chr>\u001b[39m\u001b[23m \n",
      "\u001b[90m1\u001b[39m Obi-Wan …    182    77 auburn, w… fair       blue-gray       57   male  mascu…\n",
      "\u001b[90m2\u001b[39m Anakin S…    188    84 blond      fair       blue            41.9 male  mascu…\n",
      "\u001b[90m3\u001b[39m Wilhuff …    180    \u001b[31mNA\u001b[39m auburn, g… fair       blue            64   male  mascu…\n",
      "\u001b[90m4\u001b[39m Chewbacca    228   112 brown      unknown    blue           200   male  mascu…\n",
      "\u001b[90m5\u001b[39m Han Solo     180    80 brown      fair       brown           29   male  mascu…\n",
      "\u001b[90m6\u001b[39m Greedo       173    74 \u001b[31mNA\u001b[39m         green      black           44   male  mascu…\n",
      "\u001b[90m# ℹ 5 more variables: homeworld <chr>, species <chr>, films <list>,\u001b[39m\n",
      "\u001b[90m#   vehicles <list>, starships <list>\u001b[39m\n"
     ]
    }
   ],
   "source": [
    "print(starwars[10:15,])"
   ]
  },
  {
   "cell_type": "code",
   "execution_count": 25,
   "id": "c6732a38",
   "metadata": {
    "vscode": {
     "languageId": "r"
    }
   },
   "outputs": [
    {
     "name": "stdout",
     "output_type": "stream",
     "text": [
      "\u001b[90m# A tibble: 6 × 14\u001b[39m\n",
      "  name      height  mass hair_color skin_color eye_color birth_year sex   gender\n",
      "  \u001b[3m\u001b[90m<chr>\u001b[39m\u001b[23m      \u001b[3m\u001b[90m<int>\u001b[39m\u001b[23m \u001b[3m\u001b[90m<dbl>\u001b[39m\u001b[23m \u001b[3m\u001b[90m<chr>\u001b[39m\u001b[23m      \u001b[3m\u001b[90m<chr>\u001b[39m\u001b[23m      \u001b[3m\u001b[90m<chr>\u001b[39m\u001b[23m          \u001b[3m\u001b[90m<dbl>\u001b[39m\u001b[23m \u001b[3m\u001b[90m<chr>\u001b[39m\u001b[23m \u001b[3m\u001b[90m<chr>\u001b[39m\u001b[23m \n",
      "\u001b[90m1\u001b[39m Obi-Wan …    182    77 auburn, w… fair       blue-gray       57   male  mascu…\n",
      "\u001b[90m2\u001b[39m Anakin S…    188    84 blond      fair       blue            41.9 male  mascu…\n",
      "\u001b[90m3\u001b[39m Wilhuff …    180    \u001b[31mNA\u001b[39m auburn, g… fair       blue            64   male  mascu…\n",
      "\u001b[90m4\u001b[39m Chewbacca    228   112 brown      unknown    blue           200   male  mascu…\n",
      "\u001b[90m5\u001b[39m Han Solo     180    80 brown      fair       brown           29   male  mascu…\n",
      "\u001b[90m6\u001b[39m Greedo       173    74 \u001b[31mNA\u001b[39m         green      black           44   male  mascu…\n",
      "\u001b[90m# ℹ 5 more variables: homeworld <chr>, species <chr>, films <list>,\u001b[39m\n",
      "\u001b[90m#   vehicles <list>, starships <list>\u001b[39m\n"
     ]
    }
   ],
   "source": [
    "starwars %>% slice(10:15) %>% print"
   ]
  },
  {
   "cell_type": "code",
   "execution_count": 26,
   "id": "fc7e3fbd",
   "metadata": {
    "vscode": {
     "languageId": "r"
    }
   },
   "outputs": [
    {
     "name": "stdout",
     "output_type": "stream",
     "text": [
      "\u001b[90m# A tibble: 5 × 14\u001b[39m\n",
      "  name      height  mass hair_color skin_color eye_color birth_year sex   gender\n",
      "  \u001b[3m\u001b[90m<chr>\u001b[39m\u001b[23m      \u001b[3m\u001b[90m<int>\u001b[39m\u001b[23m \u001b[3m\u001b[90m<dbl>\u001b[39m\u001b[23m \u001b[3m\u001b[90m<chr>\u001b[39m\u001b[23m      \u001b[3m\u001b[90m<chr>\u001b[39m\u001b[23m      \u001b[3m\u001b[90m<chr>\u001b[39m\u001b[23m          \u001b[3m\u001b[90m<dbl>\u001b[39m\u001b[23m \u001b[3m\u001b[90m<chr>\u001b[39m\u001b[23m \u001b[3m\u001b[90m<chr>\u001b[39m\u001b[23m \n",
      "\u001b[90m1\u001b[39m Yarael P…    264    \u001b[31mNA\u001b[39m none       white      yellow            \u001b[31mNA\u001b[39m male  mascu…\n",
      "\u001b[90m2\u001b[39m Tarfful      234   136 brown      brown      blue              \u001b[31mNA\u001b[39m male  mascu…\n",
      "\u001b[90m3\u001b[39m Lama Su      229    88 none       grey       black             \u001b[31mNA\u001b[39m male  mascu…\n",
      "\u001b[90m4\u001b[39m Chewbacca    228   112 brown      unknown    blue             200 male  mascu…\n",
      "\u001b[90m5\u001b[39m Roos Tar…    224    82 none       grey       orange            \u001b[31mNA\u001b[39m male  mascu…\n",
      "\u001b[90m# ℹ 5 more variables: homeworld <chr>, species <chr>, films <list>,\u001b[39m\n",
      "\u001b[90m#   vehicles <list>, starships <list>\u001b[39m\n"
     ]
    }
   ],
   "source": [
    "starwars %>% slice_max(n=5, height) %>% print # slice_max"
   ]
  },
  {
   "cell_type": "code",
   "execution_count": 31,
   "id": "914fbece",
   "metadata": {
    "vscode": {
     "languageId": "r"
    }
   },
   "outputs": [
    {
     "name": "stdout",
     "output_type": "stream",
     "text": [
      "\u001b[90m# A tibble: 6 × 14\u001b[39m\n",
      "  name      height  mass hair_color skin_color eye_color birth_year sex   gender\n",
      "  \u001b[3m\u001b[90m<chr>\u001b[39m\u001b[23m      \u001b[3m\u001b[90m<int>\u001b[39m\u001b[23m \u001b[3m\u001b[90m<dbl>\u001b[39m\u001b[23m \u001b[3m\u001b[90m<chr>\u001b[39m\u001b[23m      \u001b[3m\u001b[90m<chr>\u001b[39m\u001b[23m      \u001b[3m\u001b[90m<chr>\u001b[39m\u001b[23m          \u001b[3m\u001b[90m<dbl>\u001b[39m\u001b[23m \u001b[3m\u001b[90m<chr>\u001b[39m\u001b[23m \u001b[3m\u001b[90m<chr>\u001b[39m\u001b[23m \n",
      "\u001b[90m1\u001b[39m Yoda          66    17 white      green      brown            896 male  mascu…\n",
      "\u001b[90m2\u001b[39m Ratts Ty…     79    15 none       grey, blue unknown           \u001b[31mNA\u001b[39m male  mascu…\n",
      "\u001b[90m3\u001b[39m Wicket S…     88    20 brown      brown      brown              8 male  mascu…\n",
      "\u001b[90m4\u001b[39m Dud Bolt      94    45 none       blue, grey yellow            \u001b[31mNA\u001b[39m male  mascu…\n",
      "\u001b[90m5\u001b[39m R2-D2         96    32 \u001b[31mNA\u001b[39m         white, bl… red               33 none  mascu…\n",
      "\u001b[90m6\u001b[39m R4-P17        96    \u001b[31mNA\u001b[39m none       silver, r… red, blue         \u001b[31mNA\u001b[39m none  femin…\n",
      "\u001b[90m# ℹ 5 more variables: homeworld <chr>, species <chr>, films <list>,\u001b[39m\n",
      "\u001b[90m#   vehicles <list>, starships <list>\u001b[39m\n"
     ]
    }
   ],
   "source": [
    "starwars %>% slice_min(n=5, height) %>% print # slice_min"
   ]
  },
  {
   "cell_type": "markdown",
   "id": "16011347",
   "metadata": {},
   "source": [
    "### select()\n",
    "Permite seleccionar variables (columnas) del data frame"
   ]
  },
  {
   "cell_type": "code",
   "execution_count": 32,
   "id": "6ed6c1cc",
   "metadata": {
    "vscode": {
     "languageId": "r"
    }
   },
   "outputs": [
    {
     "name": "stdout",
     "output_type": "stream",
     "text": [
      "\u001b[90m# A tibble: 87 × 2\u001b[39m\n",
      "   name               homeworld\n",
      "   \u001b[3m\u001b[90m<chr>\u001b[39m\u001b[23m              \u001b[3m\u001b[90m<chr>\u001b[39m\u001b[23m    \n",
      "\u001b[90m 1\u001b[39m Luke Skywalker     Tatooine \n",
      "\u001b[90m 2\u001b[39m C-3PO              Tatooine \n",
      "\u001b[90m 3\u001b[39m R2-D2              Naboo    \n",
      "\u001b[90m 4\u001b[39m Darth Vader        Tatooine \n",
      "\u001b[90m 5\u001b[39m Leia Organa        Alderaan \n",
      "\u001b[90m 6\u001b[39m Owen Lars          Tatooine \n",
      "\u001b[90m 7\u001b[39m Beru Whitesun Lars Tatooine \n",
      "\u001b[90m 8\u001b[39m R5-D4              Tatooine \n",
      "\u001b[90m 9\u001b[39m Biggs Darklighter  Tatooine \n",
      "\u001b[90m10\u001b[39m Obi-Wan Kenobi     Stewjon  \n",
      "\u001b[90m# ℹ 77 more rows\u001b[39m\n"
     ]
    }
   ],
   "source": [
    "print(starwars[,c(\"name\",\"homeworld\")])"
   ]
  },
  {
   "cell_type": "code",
   "execution_count": 33,
   "id": "d2890181",
   "metadata": {
    "scrolled": true,
    "vscode": {
     "languageId": "r"
    }
   },
   "outputs": [
    {
     "name": "stdout",
     "output_type": "stream",
     "text": [
      "\u001b[90m# A tibble: 87 × 2\u001b[39m\n",
      "   name               homeworld\n",
      "   \u001b[3m\u001b[90m<chr>\u001b[39m\u001b[23m              \u001b[3m\u001b[90m<chr>\u001b[39m\u001b[23m    \n",
      "\u001b[90m 1\u001b[39m Luke Skywalker     Tatooine \n",
      "\u001b[90m 2\u001b[39m C-3PO              Tatooine \n",
      "\u001b[90m 3\u001b[39m R2-D2              Naboo    \n",
      "\u001b[90m 4\u001b[39m Darth Vader        Tatooine \n",
      "\u001b[90m 5\u001b[39m Leia Organa        Alderaan \n",
      "\u001b[90m 6\u001b[39m Owen Lars          Tatooine \n",
      "\u001b[90m 7\u001b[39m Beru Whitesun Lars Tatooine \n",
      "\u001b[90m 8\u001b[39m R5-D4              Tatooine \n",
      "\u001b[90m 9\u001b[39m Biggs Darklighter  Tatooine \n",
      "\u001b[90m10\u001b[39m Obi-Wan Kenobi     Stewjon  \n",
      "\u001b[90m# ℹ 77 more rows\u001b[39m\n"
     ]
    }
   ],
   "source": [
    "starwars %>% select(name, homeworld) %>% print"
   ]
  },
  {
   "cell_type": "code",
   "execution_count": 34,
   "id": "2190176f",
   "metadata": {
    "vscode": {
     "languageId": "r"
    }
   },
   "outputs": [
    {
     "name": "stdout",
     "output_type": "stream",
     "text": [
      "\u001b[90m# A tibble: 87 × 12\u001b[39m\n",
      "   height  mass hair_color  skin_color eye_color birth_year sex   gender species\n",
      "    \u001b[3m\u001b[90m<int>\u001b[39m\u001b[23m \u001b[3m\u001b[90m<dbl>\u001b[39m\u001b[23m \u001b[3m\u001b[90m<chr>\u001b[39m\u001b[23m       \u001b[3m\u001b[90m<chr>\u001b[39m\u001b[23m      \u001b[3m\u001b[90m<chr>\u001b[39m\u001b[23m          \u001b[3m\u001b[90m<dbl>\u001b[39m\u001b[23m \u001b[3m\u001b[90m<chr>\u001b[39m\u001b[23m \u001b[3m\u001b[90m<chr>\u001b[39m\u001b[23m  \u001b[3m\u001b[90m<chr>\u001b[39m\u001b[23m  \n",
      "\u001b[90m 1\u001b[39m    172    77 blond       fair       blue            19   male  mascu… Human  \n",
      "\u001b[90m 2\u001b[39m    167    75 \u001b[31mNA\u001b[39m          gold       yellow         112   none  mascu… Droid  \n",
      "\u001b[90m 3\u001b[39m     96    32 \u001b[31mNA\u001b[39m          white, bl… red             33   none  mascu… Droid  \n",
      "\u001b[90m 4\u001b[39m    202   136 none        white      yellow          41.9 male  mascu… Human  \n",
      "\u001b[90m 5\u001b[39m    150    49 brown       light      brown           19   fema… femin… Human  \n",
      "\u001b[90m 6\u001b[39m    178   120 brown, grey light      blue            52   male  mascu… Human  \n",
      "\u001b[90m 7\u001b[39m    165    75 brown       light      blue            47   fema… femin… Human  \n",
      "\u001b[90m 8\u001b[39m     97    32 \u001b[31mNA\u001b[39m          white, red red             \u001b[31mNA\u001b[39m   none  mascu… Droid  \n",
      "\u001b[90m 9\u001b[39m    183    84 black       light      brown           24   male  mascu… Human  \n",
      "\u001b[90m10\u001b[39m    182    77 auburn, wh… fair       blue-gray       57   male  mascu… Human  \n",
      "\u001b[90m# ℹ 77 more rows\u001b[39m\n",
      "\u001b[90m# ℹ 3 more variables: films <list>, vehicles <list>, starships <list>\u001b[39m\n"
     ]
    }
   ],
   "source": [
    "starwars %>% select(-name, -homeworld) %>% print"
   ]
  },
  {
   "cell_type": "code",
   "execution_count": 35,
   "id": "643d6509",
   "metadata": {
    "vscode": {
     "languageId": "r"
    }
   },
   "outputs": [
    {
     "name": "stdout",
     "output_type": "stream",
     "text": [
      "\u001b[90m# A tibble: 5 × 4\u001b[39m\n",
      "  skin_color  sex    species starships\n",
      "  \u001b[3m\u001b[90m<chr>\u001b[39m\u001b[23m       \u001b[3m\u001b[90m<chr>\u001b[39m\u001b[23m  \u001b[3m\u001b[90m<chr>\u001b[39m\u001b[23m   \u001b[3m\u001b[90m<list>\u001b[39m\u001b[23m   \n",
      "\u001b[90m1\u001b[39m fair        male   Human   \u001b[90m<chr [2]>\u001b[39m\n",
      "\u001b[90m2\u001b[39m gold        none   Droid   \u001b[90m<chr [0]>\u001b[39m\n",
      "\u001b[90m3\u001b[39m white, blue none   Droid   \u001b[90m<chr [0]>\u001b[39m\n",
      "\u001b[90m4\u001b[39m white       male   Human   \u001b[90m<chr [1]>\u001b[39m\n",
      "\u001b[90m5\u001b[39m light       female Human   \u001b[90m<chr [0]>\u001b[39m\n"
     ]
    }
   ],
   "source": [
    "starwars %>% select(starts_with(\"s\")) %>% head(5) %>% print"
   ]
  },
  {
   "cell_type": "code",
   "execution_count": 36,
   "id": "b4a1721a",
   "metadata": {
    "vscode": {
     "languageId": "r"
    }
   },
   "outputs": [
    {
     "name": "stdout",
     "output_type": "stream",
     "text": [
      "\u001b[90m# A tibble: 5 × 2\u001b[39m\n",
      "  species vehicles \n",
      "  \u001b[3m\u001b[90m<chr>\u001b[39m\u001b[23m   \u001b[3m\u001b[90m<list>\u001b[39m\u001b[23m   \n",
      "\u001b[90m1\u001b[39m Human   \u001b[90m<chr [2]>\u001b[39m\n",
      "\u001b[90m2\u001b[39m Droid   \u001b[90m<chr [0]>\u001b[39m\n",
      "\u001b[90m3\u001b[39m Droid   \u001b[90m<chr [0]>\u001b[39m\n",
      "\u001b[90m4\u001b[39m Human   \u001b[90m<chr [0]>\u001b[39m\n",
      "\u001b[90m5\u001b[39m Human   \u001b[90m<chr [1]>\u001b[39m\n"
     ]
    }
   ],
   "source": [
    "starwars %>% select(ends_with(\"es\")) %>% head(5) %>% print"
   ]
  },
  {
   "cell_type": "code",
   "execution_count": 42,
   "id": "4a2d357e",
   "metadata": {
    "vscode": {
     "languageId": "r"
    }
   },
   "outputs": [
    {
     "name": "stdout",
     "output_type": "stream",
     "text": [
      "\u001b[90m# A tibble: 5 × 5\u001b[39m\n",
      "  name            mass hair_color birth_year starships\n",
      "  \u001b[3m\u001b[90m<chr>\u001b[39m\u001b[23m          \u001b[3m\u001b[90m<dbl>\u001b[39m\u001b[23m \u001b[3m\u001b[90m<chr>\u001b[39m\u001b[23m           \u001b[3m\u001b[90m<dbl>\u001b[39m\u001b[23m \u001b[3m\u001b[90m<list>\u001b[39m\u001b[23m   \n",
      "\u001b[90m1\u001b[39m Luke Skywalker    77 blond            19   \u001b[90m<chr [2]>\u001b[39m\n",
      "\u001b[90m2\u001b[39m C-3PO             75 \u001b[31mNA\u001b[39m              112   \u001b[90m<chr [0]>\u001b[39m\n",
      "\u001b[90m3\u001b[39m R2-D2             32 \u001b[31mNA\u001b[39m               33   \u001b[90m<chr [0]>\u001b[39m\n",
      "\u001b[90m4\u001b[39m Darth Vader      136 none             41.9 \u001b[90m<chr [1]>\u001b[39m\n",
      "\u001b[90m5\u001b[39m Leia Organa       49 brown            19   \u001b[90m<chr [0]>\u001b[39m\n"
     ]
    }
   ],
   "source": [
    "starwars %>% select(contains(\"a\")) %>% head(5) %>% print"
   ]
  },
  {
   "cell_type": "code",
   "execution_count": 40,
   "id": "f6f01eba",
   "metadata": {
    "scrolled": true,
    "vscode": {
     "languageId": "r"
    }
   },
   "outputs": [
    {
     "data": {
      "text/html": [
       "<table class=\"dataframe\">\n",
       "<caption>A tibble: 87 × 1</caption>\n",
       "<thead>\n",
       "\t<tr><th scope=col>name</th></tr>\n",
       "\t<tr><th scope=col>&lt;chr&gt;</th></tr>\n",
       "</thead>\n",
       "<tbody>\n",
       "\t<tr><td>Luke Skywalker       </td></tr>\n",
       "\t<tr><td>C-3PO                </td></tr>\n",
       "\t<tr><td>R2-D2                </td></tr>\n",
       "\t<tr><td>Darth Vader          </td></tr>\n",
       "\t<tr><td>Leia Organa          </td></tr>\n",
       "\t<tr><td>Owen Lars            </td></tr>\n",
       "\t<tr><td>Beru Whitesun Lars   </td></tr>\n",
       "\t<tr><td>R5-D4                </td></tr>\n",
       "\t<tr><td>Biggs Darklighter    </td></tr>\n",
       "\t<tr><td>Obi-Wan Kenobi       </td></tr>\n",
       "\t<tr><td>Anakin Skywalker     </td></tr>\n",
       "\t<tr><td>Wilhuff Tarkin       </td></tr>\n",
       "\t<tr><td>Chewbacca            </td></tr>\n",
       "\t<tr><td>Han Solo             </td></tr>\n",
       "\t<tr><td>Greedo               </td></tr>\n",
       "\t<tr><td>Jabba Desilijic Tiure</td></tr>\n",
       "\t<tr><td>Wedge Antilles       </td></tr>\n",
       "\t<tr><td>Jek Tono Porkins     </td></tr>\n",
       "\t<tr><td>Yoda                 </td></tr>\n",
       "\t<tr><td>Palpatine            </td></tr>\n",
       "\t<tr><td>Boba Fett            </td></tr>\n",
       "\t<tr><td>IG-88                </td></tr>\n",
       "\t<tr><td>Bossk                </td></tr>\n",
       "\t<tr><td>Lando Calrissian     </td></tr>\n",
       "\t<tr><td>Lobot                </td></tr>\n",
       "\t<tr><td>Ackbar               </td></tr>\n",
       "\t<tr><td>Mon Mothma           </td></tr>\n",
       "\t<tr><td>Arvel Crynyd         </td></tr>\n",
       "\t<tr><td>Wicket Systri Warrick</td></tr>\n",
       "\t<tr><td>Nien Nunb            </td></tr>\n",
       "\t<tr><td>⋮</td></tr>\n",
       "\t<tr><td>Mas Amedda         </td></tr>\n",
       "\t<tr><td>Gregar Typho       </td></tr>\n",
       "\t<tr><td>Cordé              </td></tr>\n",
       "\t<tr><td>Cliegg Lars        </td></tr>\n",
       "\t<tr><td>Poggle the Lesser  </td></tr>\n",
       "\t<tr><td>Luminara Unduli    </td></tr>\n",
       "\t<tr><td>Barriss Offee      </td></tr>\n",
       "\t<tr><td>Dormé              </td></tr>\n",
       "\t<tr><td>Dooku              </td></tr>\n",
       "\t<tr><td>Bail Prestor Organa</td></tr>\n",
       "\t<tr><td>Jango Fett         </td></tr>\n",
       "\t<tr><td>Zam Wesell         </td></tr>\n",
       "\t<tr><td>Dexter Jettster    </td></tr>\n",
       "\t<tr><td>Lama Su            </td></tr>\n",
       "\t<tr><td>Taun We            </td></tr>\n",
       "\t<tr><td>Jocasta Nu         </td></tr>\n",
       "\t<tr><td>R4-P17             </td></tr>\n",
       "\t<tr><td>Wat Tambor         </td></tr>\n",
       "\t<tr><td>San Hill           </td></tr>\n",
       "\t<tr><td>Shaak Ti           </td></tr>\n",
       "\t<tr><td>Grievous           </td></tr>\n",
       "\t<tr><td>Tarfful            </td></tr>\n",
       "\t<tr><td>Raymus Antilles    </td></tr>\n",
       "\t<tr><td>Sly Moore          </td></tr>\n",
       "\t<tr><td>Tion Medon         </td></tr>\n",
       "\t<tr><td>Finn               </td></tr>\n",
       "\t<tr><td>Rey                </td></tr>\n",
       "\t<tr><td>Poe Dameron        </td></tr>\n",
       "\t<tr><td>BB8                </td></tr>\n",
       "\t<tr><td>Captain Phasma     </td></tr>\n",
       "</tbody>\n",
       "</table>\n"
      ],
      "text/latex": [
       "A tibble: 87 × 1\n",
       "\\begin{tabular}{l}\n",
       " name\\\\\n",
       " <chr>\\\\\n",
       "\\hline\n",
       "\t Luke Skywalker       \\\\\n",
       "\t C-3PO                \\\\\n",
       "\t R2-D2                \\\\\n",
       "\t Darth Vader          \\\\\n",
       "\t Leia Organa          \\\\\n",
       "\t Owen Lars            \\\\\n",
       "\t Beru Whitesun Lars   \\\\\n",
       "\t R5-D4                \\\\\n",
       "\t Biggs Darklighter    \\\\\n",
       "\t Obi-Wan Kenobi       \\\\\n",
       "\t Anakin Skywalker     \\\\\n",
       "\t Wilhuff Tarkin       \\\\\n",
       "\t Chewbacca            \\\\\n",
       "\t Han Solo             \\\\\n",
       "\t Greedo               \\\\\n",
       "\t Jabba Desilijic Tiure\\\\\n",
       "\t Wedge Antilles       \\\\\n",
       "\t Jek Tono Porkins     \\\\\n",
       "\t Yoda                 \\\\\n",
       "\t Palpatine            \\\\\n",
       "\t Boba Fett            \\\\\n",
       "\t IG-88                \\\\\n",
       "\t Bossk                \\\\\n",
       "\t Lando Calrissian     \\\\\n",
       "\t Lobot                \\\\\n",
       "\t Ackbar               \\\\\n",
       "\t Mon Mothma           \\\\\n",
       "\t Arvel Crynyd         \\\\\n",
       "\t Wicket Systri Warrick\\\\\n",
       "\t Nien Nunb            \\\\\n",
       "\t ⋮\\\\\n",
       "\t Mas Amedda         \\\\\n",
       "\t Gregar Typho       \\\\\n",
       "\t Cordé              \\\\\n",
       "\t Cliegg Lars        \\\\\n",
       "\t Poggle the Lesser  \\\\\n",
       "\t Luminara Unduli    \\\\\n",
       "\t Barriss Offee      \\\\\n",
       "\t Dormé              \\\\\n",
       "\t Dooku              \\\\\n",
       "\t Bail Prestor Organa\\\\\n",
       "\t Jango Fett         \\\\\n",
       "\t Zam Wesell         \\\\\n",
       "\t Dexter Jettster    \\\\\n",
       "\t Lama Su            \\\\\n",
       "\t Taun We            \\\\\n",
       "\t Jocasta Nu         \\\\\n",
       "\t R4-P17             \\\\\n",
       "\t Wat Tambor         \\\\\n",
       "\t San Hill           \\\\\n",
       "\t Shaak Ti           \\\\\n",
       "\t Grievous           \\\\\n",
       "\t Tarfful            \\\\\n",
       "\t Raymus Antilles    \\\\\n",
       "\t Sly Moore          \\\\\n",
       "\t Tion Medon         \\\\\n",
       "\t Finn               \\\\\n",
       "\t Rey                \\\\\n",
       "\t Poe Dameron        \\\\\n",
       "\t BB8                \\\\\n",
       "\t Captain Phasma     \\\\\n",
       "\\end{tabular}\n"
      ],
      "text/markdown": [
       "\n",
       "A tibble: 87 × 1\n",
       "\n",
       "| name &lt;chr&gt; |\n",
       "|---|\n",
       "| Luke Skywalker        |\n",
       "| C-3PO                 |\n",
       "| R2-D2                 |\n",
       "| Darth Vader           |\n",
       "| Leia Organa           |\n",
       "| Owen Lars             |\n",
       "| Beru Whitesun Lars    |\n",
       "| R5-D4                 |\n",
       "| Biggs Darklighter     |\n",
       "| Obi-Wan Kenobi        |\n",
       "| Anakin Skywalker      |\n",
       "| Wilhuff Tarkin        |\n",
       "| Chewbacca             |\n",
       "| Han Solo              |\n",
       "| Greedo                |\n",
       "| Jabba Desilijic Tiure |\n",
       "| Wedge Antilles        |\n",
       "| Jek Tono Porkins      |\n",
       "| Yoda                  |\n",
       "| Palpatine             |\n",
       "| Boba Fett             |\n",
       "| IG-88                 |\n",
       "| Bossk                 |\n",
       "| Lando Calrissian      |\n",
       "| Lobot                 |\n",
       "| Ackbar                |\n",
       "| Mon Mothma            |\n",
       "| Arvel Crynyd          |\n",
       "| Wicket Systri Warrick |\n",
       "| Nien Nunb             |\n",
       "| ⋮ |\n",
       "| Mas Amedda          |\n",
       "| Gregar Typho        |\n",
       "| Cordé               |\n",
       "| Cliegg Lars         |\n",
       "| Poggle the Lesser   |\n",
       "| Luminara Unduli     |\n",
       "| Barriss Offee       |\n",
       "| Dormé               |\n",
       "| Dooku               |\n",
       "| Bail Prestor Organa |\n",
       "| Jango Fett          |\n",
       "| Zam Wesell          |\n",
       "| Dexter Jettster     |\n",
       "| Lama Su             |\n",
       "| Taun We             |\n",
       "| Jocasta Nu          |\n",
       "| R4-P17              |\n",
       "| Wat Tambor          |\n",
       "| San Hill            |\n",
       "| Shaak Ti            |\n",
       "| Grievous            |\n",
       "| Tarfful             |\n",
       "| Raymus Antilles     |\n",
       "| Sly Moore           |\n",
       "| Tion Medon          |\n",
       "| Finn                |\n",
       "| Rey                 |\n",
       "| Poe Dameron         |\n",
       "| BB8                 |\n",
       "| Captain Phasma      |\n",
       "\n"
      ],
      "text/plain": [
       "   name                 \n",
       "1  Luke Skywalker       \n",
       "2  C-3PO                \n",
       "3  R2-D2                \n",
       "4  Darth Vader          \n",
       "5  Leia Organa          \n",
       "6  Owen Lars            \n",
       "7  Beru Whitesun Lars   \n",
       "8  R5-D4                \n",
       "9  Biggs Darklighter    \n",
       "10 Obi-Wan Kenobi       \n",
       "11 Anakin Skywalker     \n",
       "12 Wilhuff Tarkin       \n",
       "13 Chewbacca            \n",
       "14 Han Solo             \n",
       "15 Greedo               \n",
       "16 Jabba Desilijic Tiure\n",
       "17 Wedge Antilles       \n",
       "18 Jek Tono Porkins     \n",
       "19 Yoda                 \n",
       "20 Palpatine            \n",
       "21 Boba Fett            \n",
       "22 IG-88                \n",
       "23 Bossk                \n",
       "24 Lando Calrissian     \n",
       "25 Lobot                \n",
       "26 Ackbar               \n",
       "27 Mon Mothma           \n",
       "28 Arvel Crynyd         \n",
       "29 Wicket Systri Warrick\n",
       "30 Nien Nunb            \n",
       "⋮  ⋮                    \n",
       "58 Mas Amedda           \n",
       "59 Gregar Typho         \n",
       "60 Cordé                \n",
       "61 Cliegg Lars          \n",
       "62 Poggle the Lesser    \n",
       "63 Luminara Unduli      \n",
       "64 Barriss Offee        \n",
       "65 Dormé                \n",
       "66 Dooku                \n",
       "67 Bail Prestor Organa  \n",
       "68 Jango Fett           \n",
       "69 Zam Wesell           \n",
       "70 Dexter Jettster      \n",
       "71 Lama Su              \n",
       "72 Taun We              \n",
       "73 Jocasta Nu           \n",
       "74 R4-P17               \n",
       "75 Wat Tambor           \n",
       "76 San Hill             \n",
       "77 Shaak Ti             \n",
       "78 Grievous             \n",
       "79 Tarfful              \n",
       "80 Raymus Antilles      \n",
       "81 Sly Moore            \n",
       "82 Tion Medon           \n",
       "83 Finn                 \n",
       "84 Rey                  \n",
       "85 Poe Dameron          \n",
       "86 BB8                  \n",
       "87 Captain Phasma       "
      ]
     },
     "metadata": {},
     "output_type": "display_data"
    }
   ],
   "source": [
    "starwars %>% select(name)"
   ]
  },
  {
   "cell_type": "code",
   "execution_count": 39,
   "id": "e19a4262",
   "metadata": {
    "vscode": {
     "languageId": "r"
    }
   },
   "outputs": [
    {
     "data": {
      "text/html": [
       "<style>\n",
       ".list-inline {list-style: none; margin:0; padding: 0}\n",
       ".list-inline>li {display: inline-block}\n",
       ".list-inline>li:not(:last-child)::after {content: \"\\00b7\"; padding: 0 .5ex}\n",
       "</style>\n",
       "<ol class=list-inline><li>'Luke Skywalker'</li><li>'C-3PO'</li><li>'R2-D2'</li><li>'Darth Vader'</li><li>'Leia Organa'</li><li>'Owen Lars'</li><li>'Beru Whitesun Lars'</li><li>'R5-D4'</li><li>'Biggs Darklighter'</li><li>'Obi-Wan Kenobi'</li><li>'Anakin Skywalker'</li><li>'Wilhuff Tarkin'</li><li>'Chewbacca'</li><li>'Han Solo'</li><li>'Greedo'</li><li>'Jabba Desilijic Tiure'</li><li>'Wedge Antilles'</li><li>'Jek Tono Porkins'</li><li>'Yoda'</li><li>'Palpatine'</li><li>'Boba Fett'</li><li>'IG-88'</li><li>'Bossk'</li><li>'Lando Calrissian'</li><li>'Lobot'</li><li>'Ackbar'</li><li>'Mon Mothma'</li><li>'Arvel Crynyd'</li><li>'Wicket Systri Warrick'</li><li>'Nien Nunb'</li><li>'Qui-Gon Jinn'</li><li>'Nute Gunray'</li><li>'Finis Valorum'</li><li>'Padmé Amidala'</li><li>'Jar Jar Binks'</li><li>'Roos Tarpals'</li><li>'Rugor Nass'</li><li>'Ric Olié'</li><li>'Watto'</li><li>'Sebulba'</li><li>'Quarsh Panaka'</li><li>'Shmi Skywalker'</li><li>'Darth Maul'</li><li>'Bib Fortuna'</li><li>'Ayla Secura'</li><li>'Ratts Tyerel'</li><li>'Dud Bolt'</li><li>'Gasgano'</li><li>'Ben Quadinaros'</li><li>'Mace Windu'</li><li>'Ki-Adi-Mundi'</li><li>'Kit Fisto'</li><li>'Eeth Koth'</li><li>'Adi Gallia'</li><li>'Saesee Tiin'</li><li>'Yarael Poof'</li><li>'Plo Koon'</li><li>'Mas Amedda'</li><li>'Gregar Typho'</li><li>'Cordé'</li><li>'Cliegg Lars'</li><li>'Poggle the Lesser'</li><li>'Luminara Unduli'</li><li>'Barriss Offee'</li><li>'Dormé'</li><li>'Dooku'</li><li>'Bail Prestor Organa'</li><li>'Jango Fett'</li><li>'Zam Wesell'</li><li>'Dexter Jettster'</li><li>'Lama Su'</li><li>'Taun We'</li><li>'Jocasta Nu'</li><li>'R4-P17'</li><li>'Wat Tambor'</li><li>'San Hill'</li><li>'Shaak Ti'</li><li>'Grievous'</li><li>'Tarfful'</li><li>'Raymus Antilles'</li><li>'Sly Moore'</li><li>'Tion Medon'</li><li>'Finn'</li><li>'Rey'</li><li>'Poe Dameron'</li><li>'BB8'</li><li>'Captain Phasma'</li></ol>\n"
      ],
      "text/latex": [
       "\\begin{enumerate*}\n",
       "\\item 'Luke Skywalker'\n",
       "\\item 'C-3PO'\n",
       "\\item 'R2-D2'\n",
       "\\item 'Darth Vader'\n",
       "\\item 'Leia Organa'\n",
       "\\item 'Owen Lars'\n",
       "\\item 'Beru Whitesun Lars'\n",
       "\\item 'R5-D4'\n",
       "\\item 'Biggs Darklighter'\n",
       "\\item 'Obi-Wan Kenobi'\n",
       "\\item 'Anakin Skywalker'\n",
       "\\item 'Wilhuff Tarkin'\n",
       "\\item 'Chewbacca'\n",
       "\\item 'Han Solo'\n",
       "\\item 'Greedo'\n",
       "\\item 'Jabba Desilijic Tiure'\n",
       "\\item 'Wedge Antilles'\n",
       "\\item 'Jek Tono Porkins'\n",
       "\\item 'Yoda'\n",
       "\\item 'Palpatine'\n",
       "\\item 'Boba Fett'\n",
       "\\item 'IG-88'\n",
       "\\item 'Bossk'\n",
       "\\item 'Lando Calrissian'\n",
       "\\item 'Lobot'\n",
       "\\item 'Ackbar'\n",
       "\\item 'Mon Mothma'\n",
       "\\item 'Arvel Crynyd'\n",
       "\\item 'Wicket Systri Warrick'\n",
       "\\item 'Nien Nunb'\n",
       "\\item 'Qui-Gon Jinn'\n",
       "\\item 'Nute Gunray'\n",
       "\\item 'Finis Valorum'\n",
       "\\item 'Padmé Amidala'\n",
       "\\item 'Jar Jar Binks'\n",
       "\\item 'Roos Tarpals'\n",
       "\\item 'Rugor Nass'\n",
       "\\item 'Ric Olié'\n",
       "\\item 'Watto'\n",
       "\\item 'Sebulba'\n",
       "\\item 'Quarsh Panaka'\n",
       "\\item 'Shmi Skywalker'\n",
       "\\item 'Darth Maul'\n",
       "\\item 'Bib Fortuna'\n",
       "\\item 'Ayla Secura'\n",
       "\\item 'Ratts Tyerel'\n",
       "\\item 'Dud Bolt'\n",
       "\\item 'Gasgano'\n",
       "\\item 'Ben Quadinaros'\n",
       "\\item 'Mace Windu'\n",
       "\\item 'Ki-Adi-Mundi'\n",
       "\\item 'Kit Fisto'\n",
       "\\item 'Eeth Koth'\n",
       "\\item 'Adi Gallia'\n",
       "\\item 'Saesee Tiin'\n",
       "\\item 'Yarael Poof'\n",
       "\\item 'Plo Koon'\n",
       "\\item 'Mas Amedda'\n",
       "\\item 'Gregar Typho'\n",
       "\\item 'Cordé'\n",
       "\\item 'Cliegg Lars'\n",
       "\\item 'Poggle the Lesser'\n",
       "\\item 'Luminara Unduli'\n",
       "\\item 'Barriss Offee'\n",
       "\\item 'Dormé'\n",
       "\\item 'Dooku'\n",
       "\\item 'Bail Prestor Organa'\n",
       "\\item 'Jango Fett'\n",
       "\\item 'Zam Wesell'\n",
       "\\item 'Dexter Jettster'\n",
       "\\item 'Lama Su'\n",
       "\\item 'Taun We'\n",
       "\\item 'Jocasta Nu'\n",
       "\\item 'R4-P17'\n",
       "\\item 'Wat Tambor'\n",
       "\\item 'San Hill'\n",
       "\\item 'Shaak Ti'\n",
       "\\item 'Grievous'\n",
       "\\item 'Tarfful'\n",
       "\\item 'Raymus Antilles'\n",
       "\\item 'Sly Moore'\n",
       "\\item 'Tion Medon'\n",
       "\\item 'Finn'\n",
       "\\item 'Rey'\n",
       "\\item 'Poe Dameron'\n",
       "\\item 'BB8'\n",
       "\\item 'Captain Phasma'\n",
       "\\end{enumerate*}\n"
      ],
      "text/markdown": [
       "1. 'Luke Skywalker'\n",
       "2. 'C-3PO'\n",
       "3. 'R2-D2'\n",
       "4. 'Darth Vader'\n",
       "5. 'Leia Organa'\n",
       "6. 'Owen Lars'\n",
       "7. 'Beru Whitesun Lars'\n",
       "8. 'R5-D4'\n",
       "9. 'Biggs Darklighter'\n",
       "10. 'Obi-Wan Kenobi'\n",
       "11. 'Anakin Skywalker'\n",
       "12. 'Wilhuff Tarkin'\n",
       "13. 'Chewbacca'\n",
       "14. 'Han Solo'\n",
       "15. 'Greedo'\n",
       "16. 'Jabba Desilijic Tiure'\n",
       "17. 'Wedge Antilles'\n",
       "18. 'Jek Tono Porkins'\n",
       "19. 'Yoda'\n",
       "20. 'Palpatine'\n",
       "21. 'Boba Fett'\n",
       "22. 'IG-88'\n",
       "23. 'Bossk'\n",
       "24. 'Lando Calrissian'\n",
       "25. 'Lobot'\n",
       "26. 'Ackbar'\n",
       "27. 'Mon Mothma'\n",
       "28. 'Arvel Crynyd'\n",
       "29. 'Wicket Systri Warrick'\n",
       "30. 'Nien Nunb'\n",
       "31. 'Qui-Gon Jinn'\n",
       "32. 'Nute Gunray'\n",
       "33. 'Finis Valorum'\n",
       "34. 'Padmé Amidala'\n",
       "35. 'Jar Jar Binks'\n",
       "36. 'Roos Tarpals'\n",
       "37. 'Rugor Nass'\n",
       "38. 'Ric Olié'\n",
       "39. 'Watto'\n",
       "40. 'Sebulba'\n",
       "41. 'Quarsh Panaka'\n",
       "42. 'Shmi Skywalker'\n",
       "43. 'Darth Maul'\n",
       "44. 'Bib Fortuna'\n",
       "45. 'Ayla Secura'\n",
       "46. 'Ratts Tyerel'\n",
       "47. 'Dud Bolt'\n",
       "48. 'Gasgano'\n",
       "49. 'Ben Quadinaros'\n",
       "50. 'Mace Windu'\n",
       "51. 'Ki-Adi-Mundi'\n",
       "52. 'Kit Fisto'\n",
       "53. 'Eeth Koth'\n",
       "54. 'Adi Gallia'\n",
       "55. 'Saesee Tiin'\n",
       "56. 'Yarael Poof'\n",
       "57. 'Plo Koon'\n",
       "58. 'Mas Amedda'\n",
       "59. 'Gregar Typho'\n",
       "60. 'Cordé'\n",
       "61. 'Cliegg Lars'\n",
       "62. 'Poggle the Lesser'\n",
       "63. 'Luminara Unduli'\n",
       "64. 'Barriss Offee'\n",
       "65. 'Dormé'\n",
       "66. 'Dooku'\n",
       "67. 'Bail Prestor Organa'\n",
       "68. 'Jango Fett'\n",
       "69. 'Zam Wesell'\n",
       "70. 'Dexter Jettster'\n",
       "71. 'Lama Su'\n",
       "72. 'Taun We'\n",
       "73. 'Jocasta Nu'\n",
       "74. 'R4-P17'\n",
       "75. 'Wat Tambor'\n",
       "76. 'San Hill'\n",
       "77. 'Shaak Ti'\n",
       "78. 'Grievous'\n",
       "79. 'Tarfful'\n",
       "80. 'Raymus Antilles'\n",
       "81. 'Sly Moore'\n",
       "82. 'Tion Medon'\n",
       "83. 'Finn'\n",
       "84. 'Rey'\n",
       "85. 'Poe Dameron'\n",
       "86. 'BB8'\n",
       "87. 'Captain Phasma'\n",
       "\n",
       "\n"
      ],
      "text/plain": [
       " [1] \"Luke Skywalker\"        \"C-3PO\"                 \"R2-D2\"                \n",
       " [4] \"Darth Vader\"           \"Leia Organa\"           \"Owen Lars\"            \n",
       " [7] \"Beru Whitesun Lars\"    \"R5-D4\"                 \"Biggs Darklighter\"    \n",
       "[10] \"Obi-Wan Kenobi\"        \"Anakin Skywalker\"      \"Wilhuff Tarkin\"       \n",
       "[13] \"Chewbacca\"             \"Han Solo\"              \"Greedo\"               \n",
       "[16] \"Jabba Desilijic Tiure\" \"Wedge Antilles\"        \"Jek Tono Porkins\"     \n",
       "[19] \"Yoda\"                  \"Palpatine\"             \"Boba Fett\"            \n",
       "[22] \"IG-88\"                 \"Bossk\"                 \"Lando Calrissian\"     \n",
       "[25] \"Lobot\"                 \"Ackbar\"                \"Mon Mothma\"           \n",
       "[28] \"Arvel Crynyd\"          \"Wicket Systri Warrick\" \"Nien Nunb\"            \n",
       "[31] \"Qui-Gon Jinn\"          \"Nute Gunray\"           \"Finis Valorum\"        \n",
       "[34] \"Padmé Amidala\"         \"Jar Jar Binks\"         \"Roos Tarpals\"         \n",
       "[37] \"Rugor Nass\"            \"Ric Olié\"              \"Watto\"                \n",
       "[40] \"Sebulba\"               \"Quarsh Panaka\"         \"Shmi Skywalker\"       \n",
       "[43] \"Darth Maul\"            \"Bib Fortuna\"           \"Ayla Secura\"          \n",
       "[46] \"Ratts Tyerel\"          \"Dud Bolt\"              \"Gasgano\"              \n",
       "[49] \"Ben Quadinaros\"        \"Mace Windu\"            \"Ki-Adi-Mundi\"         \n",
       "[52] \"Kit Fisto\"             \"Eeth Koth\"             \"Adi Gallia\"           \n",
       "[55] \"Saesee Tiin\"           \"Yarael Poof\"           \"Plo Koon\"             \n",
       "[58] \"Mas Amedda\"            \"Gregar Typho\"          \"Cordé\"                \n",
       "[61] \"Cliegg Lars\"           \"Poggle the Lesser\"     \"Luminara Unduli\"      \n",
       "[64] \"Barriss Offee\"         \"Dormé\"                 \"Dooku\"                \n",
       "[67] \"Bail Prestor Organa\"   \"Jango Fett\"            \"Zam Wesell\"           \n",
       "[70] \"Dexter Jettster\"       \"Lama Su\"               \"Taun We\"              \n",
       "[73] \"Jocasta Nu\"            \"R4-P17\"                \"Wat Tambor\"           \n",
       "[76] \"San Hill\"              \"Shaak Ti\"              \"Grievous\"             \n",
       "[79] \"Tarfful\"               \"Raymus Antilles\"       \"Sly Moore\"            \n",
       "[82] \"Tion Medon\"            \"Finn\"                  \"Rey\"                  \n",
       "[85] \"Poe Dameron\"           \"BB8\"                   \"Captain Phasma\"       "
      ]
     },
     "metadata": {},
     "output_type": "display_data"
    }
   ],
   "source": [
    "starwars %>% pull(name)"
   ]
  },
  {
   "cell_type": "code",
   "execution_count": 43,
   "id": "4a0d2045",
   "metadata": {
    "vscode": {
     "languageId": "r"
    }
   },
   "outputs": [
    {
     "data": {
      "text/html": [
       "'character'"
      ],
      "text/latex": [
       "'character'"
      ],
      "text/markdown": [
       "'character'"
      ],
      "text/plain": [
       "[1] \"character\""
      ]
     },
     "metadata": {},
     "output_type": "display_data"
    }
   ],
   "source": [
    "class(starwars %>% pull(name))"
   ]
  },
  {
   "cell_type": "markdown",
   "id": "7e3c4e42",
   "metadata": {},
   "source": [
    "### arrange()\n",
    "Reordena filas en un data frame"
   ]
  },
  {
   "cell_type": "code",
   "execution_count": 46,
   "id": "84ddfd45",
   "metadata": {
    "vscode": {
     "languageId": "r"
    }
   },
   "outputs": [
    {
     "name": "stdout",
     "output_type": "stream",
     "text": [
      "\u001b[90m# A tibble: 87 × 14\u001b[39m\n",
      "   name     height  mass hair_color skin_color eye_color birth_year sex   gender\n",
      "   \u001b[3m\u001b[90m<chr>\u001b[39m\u001b[23m     \u001b[3m\u001b[90m<int>\u001b[39m\u001b[23m \u001b[3m\u001b[90m<dbl>\u001b[39m\u001b[23m \u001b[3m\u001b[90m<chr>\u001b[39m\u001b[23m      \u001b[3m\u001b[90m<chr>\u001b[39m\u001b[23m      \u001b[3m\u001b[90m<chr>\u001b[39m\u001b[23m          \u001b[3m\u001b[90m<dbl>\u001b[39m\u001b[23m \u001b[3m\u001b[90m<chr>\u001b[39m\u001b[23m \u001b[3m\u001b[90m<chr>\u001b[39m\u001b[23m \n",
      "\u001b[90m 1\u001b[39m Yoda         66    17 white      green      brown            896 male  mascu…\n",
      "\u001b[90m 2\u001b[39m Ratts T…     79    15 none       grey, blue unknown           \u001b[31mNA\u001b[39m male  mascu…\n",
      "\u001b[90m 3\u001b[39m Wicket …     88    20 brown      brown      brown              8 male  mascu…\n",
      "\u001b[90m 4\u001b[39m Dud Bolt     94    45 none       blue, grey yellow            \u001b[31mNA\u001b[39m male  mascu…\n",
      "\u001b[90m 5\u001b[39m R2-D2        96    32 \u001b[31mNA\u001b[39m         white, bl… red               33 none  mascu…\n",
      "\u001b[90m 6\u001b[39m R4-P17       96    \u001b[31mNA\u001b[39m none       silver, r… red, blue         \u001b[31mNA\u001b[39m none  femin…\n",
      "\u001b[90m 7\u001b[39m R5-D4        97    32 \u001b[31mNA\u001b[39m         white, red red               \u001b[31mNA\u001b[39m none  mascu…\n",
      "\u001b[90m 8\u001b[39m Sebulba     112    40 none       grey, red  orange            \u001b[31mNA\u001b[39m male  mascu…\n",
      "\u001b[90m 9\u001b[39m Gasgano     122    \u001b[31mNA\u001b[39m none       white, bl… black             \u001b[31mNA\u001b[39m male  mascu…\n",
      "\u001b[90m10\u001b[39m Watto       137    \u001b[31mNA\u001b[39m black      blue, grey yellow            \u001b[31mNA\u001b[39m male  mascu…\n",
      "\u001b[90m# ℹ 77 more rows\u001b[39m\n",
      "\u001b[90m# ℹ 5 more variables: homeworld <chr>, species <chr>, films <list>,\u001b[39m\n",
      "\u001b[90m#   vehicles <list>, starships <list>\u001b[39m\n"
     ]
    }
   ],
   "source": [
    "starwars %>% arrange(height) %>% print"
   ]
  },
  {
   "cell_type": "code",
   "execution_count": 47,
   "id": "3c985ccd",
   "metadata": {
    "vscode": {
     "languageId": "r"
    }
   },
   "outputs": [
    {
     "name": "stdout",
     "output_type": "stream",
     "text": [
      "\u001b[90m# A tibble: 87 × 14\u001b[39m\n",
      "   name     height  mass hair_color skin_color eye_color birth_year sex   gender\n",
      "   \u001b[3m\u001b[90m<chr>\u001b[39m\u001b[23m     \u001b[3m\u001b[90m<int>\u001b[39m\u001b[23m \u001b[3m\u001b[90m<dbl>\u001b[39m\u001b[23m \u001b[3m\u001b[90m<chr>\u001b[39m\u001b[23m      \u001b[3m\u001b[90m<chr>\u001b[39m\u001b[23m      \u001b[3m\u001b[90m<chr>\u001b[39m\u001b[23m          \u001b[3m\u001b[90m<dbl>\u001b[39m\u001b[23m \u001b[3m\u001b[90m<chr>\u001b[39m\u001b[23m \u001b[3m\u001b[90m<chr>\u001b[39m\u001b[23m \n",
      "\u001b[90m 1\u001b[39m Yarael …    264    \u001b[31mNA\u001b[39m none       white      yellow          \u001b[31mNA\u001b[39m   male  mascu…\n",
      "\u001b[90m 2\u001b[39m Tarfful     234   136 brown      brown      blue            \u001b[31mNA\u001b[39m   male  mascu…\n",
      "\u001b[90m 3\u001b[39m Lama Su     229    88 none       grey       black           \u001b[31mNA\u001b[39m   male  mascu…\n",
      "\u001b[90m 4\u001b[39m Chewbac…    228   112 brown      unknown    blue           200   male  mascu…\n",
      "\u001b[90m 5\u001b[39m Roos Ta…    224    82 none       grey       orange          \u001b[31mNA\u001b[39m   male  mascu…\n",
      "\u001b[90m 6\u001b[39m Grievous    216   159 none       brown, wh… green, y…       \u001b[31mNA\u001b[39m   male  mascu…\n",
      "\u001b[90m 7\u001b[39m Taun We     213    \u001b[31mNA\u001b[39m none       grey       black           \u001b[31mNA\u001b[39m   fema… femin…\n",
      "\u001b[90m 8\u001b[39m Rugor N…    206    \u001b[31mNA\u001b[39m none       green      orange          \u001b[31mNA\u001b[39m   male  mascu…\n",
      "\u001b[90m 9\u001b[39m Tion Me…    206    80 none       grey       black           \u001b[31mNA\u001b[39m   male  mascu…\n",
      "\u001b[90m10\u001b[39m Darth V…    202   136 none       white      yellow          41.9 male  mascu…\n",
      "\u001b[90m# ℹ 77 more rows\u001b[39m\n",
      "\u001b[90m# ℹ 5 more variables: homeworld <chr>, species <chr>, films <list>,\u001b[39m\n",
      "\u001b[90m#   vehicles <list>, starships <list>\u001b[39m\n"
     ]
    }
   ],
   "source": [
    "starwars %>% arrange(desc(height)) %>% print"
   ]
  },
  {
   "cell_type": "code",
   "execution_count": 48,
   "id": "ec7ef918",
   "metadata": {
    "vscode": {
     "languageId": "r"
    }
   },
   "outputs": [
    {
     "name": "stdout",
     "output_type": "stream",
     "text": [
      "\u001b[90m# A tibble: 87 × 14\u001b[39m\n",
      "   name     height  mass hair_color skin_color eye_color birth_year sex   gender\n",
      "   \u001b[3m\u001b[90m<chr>\u001b[39m\u001b[23m     \u001b[3m\u001b[90m<int>\u001b[39m\u001b[23m \u001b[3m\u001b[90m<dbl>\u001b[39m\u001b[23m \u001b[3m\u001b[90m<chr>\u001b[39m\u001b[23m      \u001b[3m\u001b[90m<chr>\u001b[39m\u001b[23m      \u001b[3m\u001b[90m<chr>\u001b[39m\u001b[23m          \u001b[3m\u001b[90m<dbl>\u001b[39m\u001b[23m \u001b[3m\u001b[90m<chr>\u001b[39m\u001b[23m \u001b[3m\u001b[90m<chr>\u001b[39m\u001b[23m \n",
      "\u001b[90m 1\u001b[39m Yoda         66    17 white      green      brown            896 male  mascu…\n",
      "\u001b[90m 2\u001b[39m Ratts T…     79    15 none       grey, blue unknown           \u001b[31mNA\u001b[39m male  mascu…\n",
      "\u001b[90m 3\u001b[39m Wicket …     88    20 brown      brown      brown              8 male  mascu…\n",
      "\u001b[90m 4\u001b[39m Dud Bolt     94    45 none       blue, grey yellow            \u001b[31mNA\u001b[39m male  mascu…\n",
      "\u001b[90m 5\u001b[39m R2-D2        96    32 \u001b[31mNA\u001b[39m         white, bl… red               33 none  mascu…\n",
      "\u001b[90m 6\u001b[39m R4-P17       96    \u001b[31mNA\u001b[39m none       silver, r… red, blue         \u001b[31mNA\u001b[39m none  femin…\n",
      "\u001b[90m 7\u001b[39m R5-D4        97    32 \u001b[31mNA\u001b[39m         white, red red               \u001b[31mNA\u001b[39m none  mascu…\n",
      "\u001b[90m 8\u001b[39m Sebulba     112    40 none       grey, red  orange            \u001b[31mNA\u001b[39m male  mascu…\n",
      "\u001b[90m 9\u001b[39m Gasgano     122    \u001b[31mNA\u001b[39m none       white, bl… black             \u001b[31mNA\u001b[39m male  mascu…\n",
      "\u001b[90m10\u001b[39m Watto       137    \u001b[31mNA\u001b[39m black      blue, grey yellow            \u001b[31mNA\u001b[39m male  mascu…\n",
      "\u001b[90m# ℹ 77 more rows\u001b[39m\n",
      "\u001b[90m# ℹ 5 more variables: homeworld <chr>, species <chr>, films <list>,\u001b[39m\n",
      "\u001b[90m#   vehicles <list>, starships <list>\u001b[39m\n"
     ]
    }
   ],
   "source": [
    "starwars %>% arrange(height, desc(birth_year)) %>% print"
   ]
  },
  {
   "cell_type": "markdown",
   "id": "0f813537",
   "metadata": {},
   "source": [
    "### rename()\n",
    "Renombra columnas en un data frame"
   ]
  },
  {
   "cell_type": "code",
   "execution_count": 49,
   "id": "0a43eea6",
   "metadata": {
    "vscode": {
     "languageId": "r"
    }
   },
   "outputs": [
    {
     "name": "stdout",
     "output_type": "stream",
     "text": [
      "\u001b[90m# A tibble: 87 × 14\u001b[39m\n",
      "   name          height  mass hair  skin_color eye_color birth_year sex   gender\n",
      "   \u001b[3m\u001b[90m<chr>\u001b[39m\u001b[23m          \u001b[3m\u001b[90m<int>\u001b[39m\u001b[23m \u001b[3m\u001b[90m<dbl>\u001b[39m\u001b[23m \u001b[3m\u001b[90m<chr>\u001b[39m\u001b[23m \u001b[3m\u001b[90m<chr>\u001b[39m\u001b[23m      \u001b[3m\u001b[90m<chr>\u001b[39m\u001b[23m          \u001b[3m\u001b[90m<dbl>\u001b[39m\u001b[23m \u001b[3m\u001b[90m<chr>\u001b[39m\u001b[23m \u001b[3m\u001b[90m<chr>\u001b[39m\u001b[23m \n",
      "\u001b[90m 1\u001b[39m Luke Skywalk…    172    77 blond fair       blue            19   male  mascu…\n",
      "\u001b[90m 2\u001b[39m C-3PO            167    75 \u001b[31mNA\u001b[39m    gold       yellow         112   none  mascu…\n",
      "\u001b[90m 3\u001b[39m R2-D2             96    32 \u001b[31mNA\u001b[39m    white, bl… red             33   none  mascu…\n",
      "\u001b[90m 4\u001b[39m Darth Vader      202   136 none  white      yellow          41.9 male  mascu…\n",
      "\u001b[90m 5\u001b[39m Leia Organa      150    49 brown light      brown           19   fema… femin…\n",
      "\u001b[90m 6\u001b[39m Owen Lars        178   120 brow… light      blue            52   male  mascu…\n",
      "\u001b[90m 7\u001b[39m Beru Whitesu…    165    75 brown light      blue            47   fema… femin…\n",
      "\u001b[90m 8\u001b[39m R5-D4             97    32 \u001b[31mNA\u001b[39m    white, red red             \u001b[31mNA\u001b[39m   none  mascu…\n",
      "\u001b[90m 9\u001b[39m Biggs Darkli…    183    84 black light      brown           24   male  mascu…\n",
      "\u001b[90m10\u001b[39m Obi-Wan Keno…    182    77 aubu… fair       blue-gray       57   male  mascu…\n",
      "\u001b[90m# ℹ 77 more rows\u001b[39m\n",
      "\u001b[90m# ℹ 5 more variables: homeworld <chr>, species <chr>, films <list>,\u001b[39m\n",
      "\u001b[90m#   vehicles <list>, starships <list>\u001b[39m\n"
     ]
    }
   ],
   "source": [
    "starwars %>% rename(hair = hair_color) %>% print"
   ]
  },
  {
   "cell_type": "markdown",
   "id": "e3b661ea",
   "metadata": {},
   "source": [
    "###  mutate()\n",
    "Crea nueva columnas en un data frame o actualiza las ya existentes"
   ]
  },
  {
   "cell_type": "code",
   "execution_count": null,
   "id": "54588f43",
   "metadata": {
    "vscode": {
     "languageId": "r"
    }
   },
   "outputs": [
    {
     "data": {
      "text/html": [
       "<table class=\"dataframe\">\n",
       "<caption>A tibble: 5 × 2</caption>\n",
       "<thead>\n",
       "\t<tr><th scope=col>height</th><th scope=col>height_in</th></tr>\n",
       "\t<tr><th scope=col>&lt;int&gt;</th><th scope=col>&lt;dbl&gt;</th></tr>\n",
       "</thead>\n",
       "<tbody>\n",
       "\t<tr><td>172</td><td>67.71657</td></tr>\n",
       "\t<tr><td>167</td><td>65.74807</td></tr>\n",
       "\t<tr><td> 96</td><td>37.79530</td></tr>\n",
       "\t<tr><td>202</td><td>79.52760</td></tr>\n",
       "\t<tr><td>150</td><td>59.05515</td></tr>\n",
       "</tbody>\n",
       "</table>\n"
      ],
      "text/latex": [
       "A tibble: 5 × 2\n",
       "\\begin{tabular}{ll}\n",
       " height & height\\_in\\\\\n",
       " <int> & <dbl>\\\\\n",
       "\\hline\n",
       "\t 172 & 67.71657\\\\\n",
       "\t 167 & 65.74807\\\\\n",
       "\t  96 & 37.79530\\\\\n",
       "\t 202 & 79.52760\\\\\n",
       "\t 150 & 59.05515\\\\\n",
       "\\end{tabular}\n"
      ],
      "text/markdown": [
       "\n",
       "A tibble: 5 × 2\n",
       "\n",
       "| height &lt;int&gt; | height_in &lt;dbl&gt; |\n",
       "|---|---|\n",
       "| 172 | 67.71657 |\n",
       "| 167 | 65.74807 |\n",
       "|  96 | 37.79530 |\n",
       "| 202 | 79.52760 |\n",
       "| 150 | 59.05515 |\n",
       "\n"
      ],
      "text/plain": [
       "  height height_in\n",
       "1 172    67.71657 \n",
       "2 167    65.74807 \n",
       "3  96    37.79530 \n",
       "4 202    79.52760 \n",
       "5 150    59.05515 "
      ]
     },
     "metadata": {},
     "output_type": "display_data"
    }
   ],
   "source": [
    "starwars %>% \n",
    "    mutate(height_in = height * 0.393701) %>% \n",
    "    select(starts_with(\"he\")) %>% head(5)"
   ]
  },
  {
   "cell_type": "code",
   "execution_count": 56,
   "id": "f81c79b8",
   "metadata": {
    "vscode": {
     "languageId": "r"
    }
   },
   "outputs": [
    {
     "data": {
      "text/html": [
       "<table class=\"dataframe\">\n",
       "<caption>A tibble: 5 × 1</caption>\n",
       "<thead>\n",
       "\t<tr><th scope=col>sex</th></tr>\n",
       "\t<tr><th scope=col>&lt;chr&gt;</th></tr>\n",
       "</thead>\n",
       "<tbody>\n",
       "\t<tr><td>male  </td></tr>\n",
       "\t<tr><td>none  </td></tr>\n",
       "\t<tr><td>none  </td></tr>\n",
       "\t<tr><td>male  </td></tr>\n",
       "\t<tr><td>female</td></tr>\n",
       "</tbody>\n",
       "</table>\n"
      ],
      "text/latex": [
       "A tibble: 5 × 1\n",
       "\\begin{tabular}{l}\n",
       " sex\\\\\n",
       " <chr>\\\\\n",
       "\\hline\n",
       "\t male  \\\\\n",
       "\t none  \\\\\n",
       "\t none  \\\\\n",
       "\t male  \\\\\n",
       "\t female\\\\\n",
       "\\end{tabular}\n"
      ],
      "text/markdown": [
       "\n",
       "A tibble: 5 × 1\n",
       "\n",
       "| sex &lt;chr&gt; |\n",
       "|---|\n",
       "| male   |\n",
       "| none   |\n",
       "| none   |\n",
       "| male   |\n",
       "| female |\n",
       "\n"
      ],
      "text/plain": [
       "  sex   \n",
       "1 male  \n",
       "2 none  \n",
       "3 none  \n",
       "4 male  \n",
       "5 female"
      ]
     },
     "metadata": {},
     "output_type": "display_data"
    }
   ],
   "source": [
    "starwars %>% select(sex) %>% head(5)"
   ]
  },
  {
   "cell_type": "code",
   "execution_count": 58,
   "id": "da068290",
   "metadata": {
    "vscode": {
     "languageId": "r"
    }
   },
   "outputs": [
    {
     "name": "stdout",
     "output_type": "stream",
     "text": [
      "\u001b[90m# A tibble: 87 × 14\u001b[39m\n",
      "   name     height  mass hair_color skin_color eye_color birth_year sex   gender\n",
      "   \u001b[3m\u001b[90m<chr>\u001b[39m\u001b[23m     \u001b[3m\u001b[90m<dbl>\u001b[39m\u001b[23m \u001b[3m\u001b[90m<dbl>\u001b[39m\u001b[23m \u001b[3m\u001b[90m<chr>\u001b[39m\u001b[23m      \u001b[3m\u001b[90m<chr>\u001b[39m\u001b[23m      \u001b[3m\u001b[90m<chr>\u001b[39m\u001b[23m          \u001b[3m\u001b[90m<dbl>\u001b[39m\u001b[23m \u001b[3m\u001b[90m<fct>\u001b[39m\u001b[23m \u001b[3m\u001b[90m<chr>\u001b[39m\u001b[23m \n",
      "\u001b[90m 1\u001b[39m Luke Sk…      1    77 blond      fair       blue            19   male  mascu…\n",
      "\u001b[90m 2\u001b[39m C-3PO         1    75 \u001b[31mNA\u001b[39m         gold       yellow         112   none  mascu…\n",
      "\u001b[90m 3\u001b[39m R2-D2         1    32 \u001b[31mNA\u001b[39m         white, bl… red             33   none  mascu…\n",
      "\u001b[90m 4\u001b[39m Darth V…      1   136 none       white      yellow          41.9 male  mascu…\n",
      "\u001b[90m 5\u001b[39m Leia Or…      1    49 brown      light      brown           19   fema… femin…\n",
      "\u001b[90m 6\u001b[39m Owen La…      1   120 brown, gr… light      blue            52   male  mascu…\n",
      "\u001b[90m 7\u001b[39m Beru Wh…      1    75 brown      light      blue            47   fema… femin…\n",
      "\u001b[90m 8\u001b[39m R5-D4         1    32 \u001b[31mNA\u001b[39m         white, red red             \u001b[31mNA\u001b[39m   none  mascu…\n",
      "\u001b[90m 9\u001b[39m Biggs D…      1    84 black      light      brown           24   male  mascu…\n",
      "\u001b[90m10\u001b[39m Obi-Wan…      1    77 auburn, w… fair       blue-gray       57   male  mascu…\n",
      "\u001b[90m# ℹ 77 more rows\u001b[39m\n",
      "\u001b[90m# ℹ 5 more variables: homeworld <chr>, species <chr>, films <list>,\u001b[39m\n",
      "\u001b[90m#   vehicles <list>, starships <list>\u001b[39m\n"
     ]
    }
   ],
   "source": [
    "starwars %>% \n",
    "    mutate(sex = as.factor(sex), height = 1) %>% print"
   ]
  },
  {
   "cell_type": "markdown",
   "id": "fd9e510d",
   "metadata": {},
   "source": [
    "También existen funciones `mutate_if` y `mutate_at`."
   ]
  },
  {
   "cell_type": "code",
   "execution_count": 59,
   "id": "aa462733",
   "metadata": {
    "vscode": {
     "languageId": "r"
    }
   },
   "outputs": [
    {
     "name": "stdout",
     "output_type": "stream",
     "text": [
      "\u001b[90m# A tibble: 87 × 14\u001b[39m\n",
      "   name     height  mass hair_color skin_color eye_color birth_year sex   gender\n",
      "   \u001b[3m\u001b[90m<fct>\u001b[39m\u001b[23m     \u001b[3m\u001b[90m<int>\u001b[39m\u001b[23m \u001b[3m\u001b[90m<dbl>\u001b[39m\u001b[23m \u001b[3m\u001b[90m<fct>\u001b[39m\u001b[23m      \u001b[3m\u001b[90m<fct>\u001b[39m\u001b[23m      \u001b[3m\u001b[90m<fct>\u001b[39m\u001b[23m          \u001b[3m\u001b[90m<dbl>\u001b[39m\u001b[23m \u001b[3m\u001b[90m<fct>\u001b[39m\u001b[23m \u001b[3m\u001b[90m<fct>\u001b[39m\u001b[23m \n",
      "\u001b[90m 1\u001b[39m Luke Sk…    172    77 blond      fair       blue            19   male  mascu…\n",
      "\u001b[90m 2\u001b[39m C-3PO       167    75 \u001b[31mNA\u001b[39m         gold       yellow         112   none  mascu…\n",
      "\u001b[90m 3\u001b[39m R2-D2        96    32 \u001b[31mNA\u001b[39m         white, bl… red             33   none  mascu…\n",
      "\u001b[90m 4\u001b[39m Darth V…    202   136 none       white      yellow          41.9 male  mascu…\n",
      "\u001b[90m 5\u001b[39m Leia Or…    150    49 brown      light      brown           19   fema… femin…\n",
      "\u001b[90m 6\u001b[39m Owen La…    178   120 brown, gr… light      blue            52   male  mascu…\n",
      "\u001b[90m 7\u001b[39m Beru Wh…    165    75 brown      light      blue            47   fema… femin…\n",
      "\u001b[90m 8\u001b[39m R5-D4        97    32 \u001b[31mNA\u001b[39m         white, red red             \u001b[31mNA\u001b[39m   none  mascu…\n",
      "\u001b[90m 9\u001b[39m Biggs D…    183    84 black      light      brown           24   male  mascu…\n",
      "\u001b[90m10\u001b[39m Obi-Wan…    182    77 auburn, w… fair       blue-gray       57   male  mascu…\n",
      "\u001b[90m# ℹ 77 more rows\u001b[39m\n",
      "\u001b[90m# ℹ 5 more variables: homeworld <fct>, species <fct>, films <list>,\u001b[39m\n",
      "\u001b[90m#   vehicles <list>, starships <list>\u001b[39m\n"
     ]
    }
   ],
   "source": [
    "starwars %>% mutate_if(is.character, as.factor) %>% print"
   ]
  },
  {
   "cell_type": "code",
   "execution_count": 60,
   "id": "49cbe166",
   "metadata": {
    "vscode": {
     "languageId": "r"
    }
   },
   "outputs": [
    {
     "name": "stdout",
     "output_type": "stream",
     "text": [
      "\u001b[90m# A tibble: 87 × 14\u001b[39m\n",
      "   name     height  mass hair_color skin_color eye_color birth_year sex   gender\n",
      "   \u001b[3m\u001b[90m<fct>\u001b[39m\u001b[23m     \u001b[3m\u001b[90m<int>\u001b[39m\u001b[23m \u001b[3m\u001b[90m<dbl>\u001b[39m\u001b[23m \u001b[3m\u001b[90m<chr>\u001b[39m\u001b[23m      \u001b[3m\u001b[90m<chr>\u001b[39m\u001b[23m      \u001b[3m\u001b[90m<chr>\u001b[39m\u001b[23m          \u001b[3m\u001b[90m<dbl>\u001b[39m\u001b[23m \u001b[3m\u001b[90m<fct>\u001b[39m\u001b[23m \u001b[3m\u001b[90m<chr>\u001b[39m\u001b[23m \n",
      "\u001b[90m 1\u001b[39m Luke Sk…    172    77 blond      fair       blue            19   male  mascu…\n",
      "\u001b[90m 2\u001b[39m C-3PO       167    75 \u001b[31mNA\u001b[39m         gold       yellow         112   none  mascu…\n",
      "\u001b[90m 3\u001b[39m R2-D2        96    32 \u001b[31mNA\u001b[39m         white, bl… red             33   none  mascu…\n",
      "\u001b[90m 4\u001b[39m Darth V…    202   136 none       white      yellow          41.9 male  mascu…\n",
      "\u001b[90m 5\u001b[39m Leia Or…    150    49 brown      light      brown           19   fema… femin…\n",
      "\u001b[90m 6\u001b[39m Owen La…    178   120 brown, gr… light      blue            52   male  mascu…\n",
      "\u001b[90m 7\u001b[39m Beru Wh…    165    75 brown      light      blue            47   fema… femin…\n",
      "\u001b[90m 8\u001b[39m R5-D4        97    32 \u001b[31mNA\u001b[39m         white, red red             \u001b[31mNA\u001b[39m   none  mascu…\n",
      "\u001b[90m 9\u001b[39m Biggs D…    183    84 black      light      brown           24   male  mascu…\n",
      "\u001b[90m10\u001b[39m Obi-Wan…    182    77 auburn, w… fair       blue-gray       57   male  mascu…\n",
      "\u001b[90m# ℹ 77 more rows\u001b[39m\n",
      "\u001b[90m# ℹ 5 more variables: homeworld <chr>, species <chr>, films <list>,\u001b[39m\n",
      "\u001b[90m#   vehicles <list>, starships <list>\u001b[39m\n"
     ]
    }
   ],
   "source": [
    "starwars %>% mutate_at(c(\"name\",\"sex\"), as.factor) %>% print"
   ]
  },
  {
   "cell_type": "markdown",
   "id": "a14686c5",
   "metadata": {},
   "source": [
    "### summarise()/summarize()\n",
    "Permite colapsar/resumir filas en un data frame"
   ]
  },
  {
   "cell_type": "code",
   "execution_count": 61,
   "id": "9ea70bc8",
   "metadata": {
    "vscode": {
     "languageId": "r"
    }
   },
   "outputs": [
    {
     "data": {
      "text/plain": [
       "     name               height           mass          hair_color       \n",
       " Length:87          Min.   : 66.0   Min.   :  15.00   Length:87         \n",
       " Class :character   1st Qu.:167.0   1st Qu.:  55.60   Class :character  \n",
       " Mode  :character   Median :180.0   Median :  79.00   Mode  :character  \n",
       "                    Mean   :174.6   Mean   :  97.31                     \n",
       "                    3rd Qu.:191.0   3rd Qu.:  84.50                     \n",
       "                    Max.   :264.0   Max.   :1358.00                     \n",
       "                    NA's   :6       NA's   :28                          \n",
       "                                                                        \n",
       "                                                                        \n",
       "                                                                        \n",
       "                                                                        \n",
       "                                                                        \n",
       "                                                                        \n",
       "                                                                        \n",
       "                                                                        \n",
       "                                                                        \n",
       "                                                                        \n",
       "                                                                        \n",
       "                                                                        \n",
       "                                                                        \n",
       "                                                                        \n",
       "                                                                        \n",
       "                                                                        \n",
       "                                                                        \n",
       "                                                                        \n",
       "                                                                        \n",
       "                                                                        \n",
       "                                                                        \n",
       "                                                                        \n",
       "                                                                        \n",
       "                                                                        \n",
       "                                                                        \n",
       "                                                                        \n",
       "                                                                        \n",
       "                                                                        \n",
       "                                                                        \n",
       "                                                                        \n",
       "                                                                        \n",
       "                                                                        \n",
       "                                                                        \n",
       "                                                                        \n",
       "                                                                        \n",
       "                                                                        \n",
       "                                                                        \n",
       "                                                                        \n",
       "                                                                        \n",
       "                                                                        \n",
       "                                                                        \n",
       "                                                                        \n",
       "                                                                        \n",
       "                                                                        \n",
       "                                                                        \n",
       "                                                                        \n",
       "                                                                        \n",
       "                                                                        \n",
       "                                                                        \n",
       "                                                                        \n",
       "                                                                        \n",
       "                                                                        \n",
       "                                                                        \n",
       "                                                                        \n",
       "                                                                        \n",
       "                                                                        \n",
       "                                                                        \n",
       "                                                                        \n",
       "                                                                        \n",
       "                                                                        \n",
       "                                                                        \n",
       "                                                                        \n",
       "                                                                        \n",
       "                                                                        \n",
       "                                                                        \n",
       "                                                                        \n",
       "                                                                        \n",
       "                                                                        \n",
       "                                                                        \n",
       "                                                                        \n",
       "                                                                        \n",
       "                                                                        \n",
       "                                                                        \n",
       "                                                                        \n",
       "                                                                        \n",
       "                                                                        \n",
       "                                                                        \n",
       "                                                                        \n",
       "                                                                        \n",
       "                                                                        \n",
       "  skin_color         eye_color           birth_year         sex           \n",
       " Length:87          Length:87          Min.   :  8.00   Length:87         \n",
       " Class :character   Class :character   1st Qu.: 35.00   Class :character  \n",
       " Mode  :character   Mode  :character   Median : 52.00   Mode  :character  \n",
       "                                       Mean   : 87.57                     \n",
       "                                       3rd Qu.: 72.00                     \n",
       "                                       Max.   :896.00                     \n",
       "                                       NA's   :44                         \n",
       "                                                                          \n",
       "                                                                          \n",
       "                                                                          \n",
       "                                                                          \n",
       "                                                                          \n",
       "                                                                          \n",
       "                                                                          \n",
       "                                                                          \n",
       "                                                                          \n",
       "                                                                          \n",
       "                                                                          \n",
       "                                                                          \n",
       "                                                                          \n",
       "                                                                          \n",
       "                                                                          \n",
       "                                                                          \n",
       "                                                                          \n",
       "                                                                          \n",
       "                                                                          \n",
       "                                                                          \n",
       "                                                                          \n",
       "                                                                          \n",
       "                                                                          \n",
       "                                                                          \n",
       "                                                                          \n",
       "                                                                          \n",
       "                                                                          \n",
       "                                                                          \n",
       "                                                                          \n",
       "                                                                          \n",
       "                                                                          \n",
       "                                                                          \n",
       "                                                                          \n",
       "                                                                          \n",
       "                                                                          \n",
       "                                                                          \n",
       "                                                                          \n",
       "                                                                          \n",
       "                                                                          \n",
       "                                                                          \n",
       "                                                                          \n",
       "                                                                          \n",
       "                                                                          \n",
       "                                                                          \n",
       "                                                                          \n",
       "                                                                          \n",
       "                                                                          \n",
       "                                                                          \n",
       "                                                                          \n",
       "                                                                          \n",
       "                                                                          \n",
       "                                                                          \n",
       "                                                                          \n",
       "                                                                          \n",
       "                                                                          \n",
       "                                                                          \n",
       "                                                                          \n",
       "                                                                          \n",
       "                                                                          \n",
       "                                                                          \n",
       "                                                                          \n",
       "                                                                          \n",
       "                                                                          \n",
       "                                                                          \n",
       "                                                                          \n",
       "                                                                          \n",
       "                                                                          \n",
       "                                                                          \n",
       "                                                                          \n",
       "                                                                          \n",
       "                                                                          \n",
       "                                                                          \n",
       "                                                                          \n",
       "                                                                          \n",
       "                                                                          \n",
       "                                                                          \n",
       "                                                                          \n",
       "                                                                          \n",
       "                                                                          \n",
       "                                                                          \n",
       "    gender           homeworld           species         \n",
       " Length:87          Length:87          Length:87         \n",
       " Class :character   Class :character   Class :character  \n",
       " Mode  :character   Mode  :character   Mode  :character  \n",
       "                                                         \n",
       "                                                         \n",
       "                                                         \n",
       "                                                         \n",
       "                                                         \n",
       "                                                         \n",
       "                                                         \n",
       "                                                         \n",
       "                                                         \n",
       "                                                         \n",
       "                                                         \n",
       "                                                         \n",
       "                                                         \n",
       "                                                         \n",
       "                                                         \n",
       "                                                         \n",
       "                                                         \n",
       "                                                         \n",
       "                                                         \n",
       "                                                         \n",
       "                                                         \n",
       "                                                         \n",
       "                                                         \n",
       "                                                         \n",
       "                                                         \n",
       "                                                         \n",
       "                                                         \n",
       "                                                         \n",
       "                                                         \n",
       "                                                         \n",
       "                                                         \n",
       "                                                         \n",
       "                                                         \n",
       "                                                         \n",
       "                                                         \n",
       "                                                         \n",
       "                                                         \n",
       "                                                         \n",
       "                                                         \n",
       "                                                         \n",
       "                                                         \n",
       "                                                         \n",
       "                                                         \n",
       "                                                         \n",
       "                                                         \n",
       "                                                         \n",
       "                                                         \n",
       "                                                         \n",
       "                                                         \n",
       "                                                         \n",
       "                                                         \n",
       "                                                         \n",
       "                                                         \n",
       "                                                         \n",
       "                                                         \n",
       "                                                         \n",
       "                                                         \n",
       "                                                         \n",
       "                                                         \n",
       "                                                         \n",
       "                                                         \n",
       "                                                         \n",
       "                                                         \n",
       "                                                         \n",
       "                                                         \n",
       "                                                         \n",
       "                                                         \n",
       "                                                         \n",
       "                                                         \n",
       "                                                         \n",
       "                                                         \n",
       "                                                         \n",
       "                                                         \n",
       "                                                         \n",
       "                                                         \n",
       "                                                         \n",
       "                                                         \n",
       "                                                         \n",
       "                                                         \n",
       "                                                         \n",
       "                                                         \n",
       "                                                         \n",
       "                                                         \n",
       "                                                         \n",
       " films.Length  films.Class  films.Mode\n",
       " 5          -none-     character      \n",
       " 6          -none-     character      \n",
       " 7          -none-     character      \n",
       " 4          -none-     character      \n",
       " 5          -none-     character      \n",
       " 3          -none-     character      \n",
       " 3          -none-     character      \n",
       " 1          -none-     character      \n",
       " 1          -none-     character      \n",
       " 6          -none-     character      \n",
       " 3          -none-     character      \n",
       " 2          -none-     character      \n",
       " 5          -none-     character      \n",
       " 4          -none-     character      \n",
       " 1          -none-     character      \n",
       " 3          -none-     character      \n",
       " 3          -none-     character      \n",
       " 1          -none-     character      \n",
       " 5          -none-     character      \n",
       " 5          -none-     character      \n",
       " 3          -none-     character      \n",
       " 1          -none-     character      \n",
       " 1          -none-     character      \n",
       " 2          -none-     character      \n",
       " 1          -none-     character      \n",
       " 2          -none-     character      \n",
       " 1          -none-     character      \n",
       " 1          -none-     character      \n",
       " 1          -none-     character      \n",
       " 1          -none-     character      \n",
       " 1          -none-     character      \n",
       " 3          -none-     character      \n",
       " 1          -none-     character      \n",
       " 3          -none-     character      \n",
       " 2          -none-     character      \n",
       " 1          -none-     character      \n",
       " 1          -none-     character      \n",
       " 1          -none-     character      \n",
       " 2          -none-     character      \n",
       " 1          -none-     character      \n",
       " 1          -none-     character      \n",
       " 2          -none-     character      \n",
       " 1          -none-     character      \n",
       " 1          -none-     character      \n",
       " 3          -none-     character      \n",
       " 1          -none-     character      \n",
       " 1          -none-     character      \n",
       " 1          -none-     character      \n",
       " 1          -none-     character      \n",
       " 3          -none-     character      \n",
       " 3          -none-     character      \n",
       " 3          -none-     character      \n",
       " 2          -none-     character      \n",
       " 2          -none-     character      \n",
       " 2          -none-     character      \n",
       " 1          -none-     character      \n",
       " 3          -none-     character      \n",
       " 2          -none-     character      \n",
       " 1          -none-     character      \n",
       " 1          -none-     character      \n",
       " 1          -none-     character      \n",
       " 2          -none-     character      \n",
       " 2          -none-     character      \n",
       " 1          -none-     character      \n",
       " 1          -none-     character      \n",
       " 2          -none-     character      \n",
       " 2          -none-     character      \n",
       " 1          -none-     character      \n",
       " 1          -none-     character      \n",
       " 1          -none-     character      \n",
       " 1          -none-     character      \n",
       " 1          -none-     character      \n",
       " 1          -none-     character      \n",
       " 2          -none-     character      \n",
       " 1          -none-     character      \n",
       " 1          -none-     character      \n",
       " 2          -none-     character      \n",
       " 1          -none-     character      \n",
       " 1          -none-     character      \n",
       " 2          -none-     character      \n",
       " 2          -none-     character      \n",
       " 1          -none-     character      \n",
       " 1          -none-     character      \n",
       " 1          -none-     character      \n",
       " 1          -none-     character      \n",
       " 1          -none-     character      \n",
       " 1          -none-     character      \n",
       " vehicles.Length  vehicles.Class  vehicles.Mode\n",
       " 2          -none-     character               \n",
       " 0          -none-     character               \n",
       " 0          -none-     character               \n",
       " 0          -none-     character               \n",
       " 1          -none-     character               \n",
       " 0          -none-     character               \n",
       " 0          -none-     character               \n",
       " 0          -none-     character               \n",
       " 0          -none-     character               \n",
       " 1          -none-     character               \n",
       " 2          -none-     character               \n",
       " 0          -none-     character               \n",
       " 1          -none-     character               \n",
       " 0          -none-     character               \n",
       " 0          -none-     character               \n",
       " 0          -none-     character               \n",
       " 1          -none-     character               \n",
       " 0          -none-     character               \n",
       " 0          -none-     character               \n",
       " 0          -none-     character               \n",
       " 0          -none-     character               \n",
       " 0          -none-     character               \n",
       " 0          -none-     character               \n",
       " 0          -none-     character               \n",
       " 0          -none-     character               \n",
       " 0          -none-     character               \n",
       " 0          -none-     character               \n",
       " 0          -none-     character               \n",
       " 0          -none-     character               \n",
       " 0          -none-     character               \n",
       " 1          -none-     character               \n",
       " 0          -none-     character               \n",
       " 0          -none-     character               \n",
       " 0          -none-     character               \n",
       " 0          -none-     character               \n",
       " 0          -none-     character               \n",
       " 0          -none-     character               \n",
       " 0          -none-     character               \n",
       " 0          -none-     character               \n",
       " 0          -none-     character               \n",
       " 0          -none-     character               \n",
       " 0          -none-     character               \n",
       " 1          -none-     character               \n",
       " 0          -none-     character               \n",
       " 0          -none-     character               \n",
       " 0          -none-     character               \n",
       " 0          -none-     character               \n",
       " 0          -none-     character               \n",
       " 0          -none-     character               \n",
       " 0          -none-     character               \n",
       " 0          -none-     character               \n",
       " 0          -none-     character               \n",
       " 0          -none-     character               \n",
       " 0          -none-     character               \n",
       " 0          -none-     character               \n",
       " 0          -none-     character               \n",
       " 0          -none-     character               \n",
       " 0          -none-     character               \n",
       " 0          -none-     character               \n",
       " 0          -none-     character               \n",
       " 0          -none-     character               \n",
       " 0          -none-     character               \n",
       " 0          -none-     character               \n",
       " 0          -none-     character               \n",
       " 0          -none-     character               \n",
       " 1          -none-     character               \n",
       " 0          -none-     character               \n",
       " 0          -none-     character               \n",
       " 1          -none-     character               \n",
       " 0          -none-     character               \n",
       " 0          -none-     character               \n",
       " 0          -none-     character               \n",
       " 0          -none-     character               \n",
       " 0          -none-     character               \n",
       " 0          -none-     character               \n",
       " 0          -none-     character               \n",
       " 0          -none-     character               \n",
       " 1          -none-     character               \n",
       " 0          -none-     character               \n",
       " 0          -none-     character               \n",
       " 0          -none-     character               \n",
       " 0          -none-     character               \n",
       " 0          -none-     character               \n",
       " 0          -none-     character               \n",
       " 0          -none-     character               \n",
       " 0          -none-     character               \n",
       " 0          -none-     character               \n",
       " starships.Length  starships.Class  starships.Mode\n",
       " 2          -none-     character                  \n",
       " 0          -none-     character                  \n",
       " 0          -none-     character                  \n",
       " 1          -none-     character                  \n",
       " 0          -none-     character                  \n",
       " 0          -none-     character                  \n",
       " 0          -none-     character                  \n",
       " 0          -none-     character                  \n",
       " 1          -none-     character                  \n",
       " 5          -none-     character                  \n",
       " 3          -none-     character                  \n",
       " 0          -none-     character                  \n",
       " 2          -none-     character                  \n",
       " 2          -none-     character                  \n",
       " 0          -none-     character                  \n",
       " 0          -none-     character                  \n",
       " 1          -none-     character                  \n",
       " 1          -none-     character                  \n",
       " 0          -none-     character                  \n",
       " 0          -none-     character                  \n",
       " 1          -none-     character                  \n",
       " 0          -none-     character                  \n",
       " 0          -none-     character                  \n",
       " 1          -none-     character                  \n",
       " 0          -none-     character                  \n",
       " 0          -none-     character                  \n",
       " 0          -none-     character                  \n",
       " 1          -none-     character                  \n",
       " 0          -none-     character                  \n",
       " 1          -none-     character                  \n",
       " 0          -none-     character                  \n",
       " 0          -none-     character                  \n",
       " 0          -none-     character                  \n",
       " 3          -none-     character                  \n",
       " 0          -none-     character                  \n",
       " 0          -none-     character                  \n",
       " 0          -none-     character                  \n",
       " 1          -none-     character                  \n",
       " 0          -none-     character                  \n",
       " 0          -none-     character                  \n",
       " 0          -none-     character                  \n",
       " 0          -none-     character                  \n",
       " 1          -none-     character                  \n",
       " 0          -none-     character                  \n",
       " 0          -none-     character                  \n",
       " 0          -none-     character                  \n",
       " 0          -none-     character                  \n",
       " 0          -none-     character                  \n",
       " 0          -none-     character                  \n",
       " 0          -none-     character                  \n",
       " 0          -none-     character                  \n",
       " 0          -none-     character                  \n",
       " 0          -none-     character                  \n",
       " 0          -none-     character                  \n",
       " 0          -none-     character                  \n",
       " 0          -none-     character                  \n",
       " 1          -none-     character                  \n",
       " 0          -none-     character                  \n",
       " 1          -none-     character                  \n",
       " 0          -none-     character                  \n",
       " 0          -none-     character                  \n",
       " 0          -none-     character                  \n",
       " 0          -none-     character                  \n",
       " 0          -none-     character                  \n",
       " 0          -none-     character                  \n",
       " 0          -none-     character                  \n",
       " 0          -none-     character                  \n",
       " 0          -none-     character                  \n",
       " 0          -none-     character                  \n",
       " 0          -none-     character                  \n",
       " 0          -none-     character                  \n",
       " 0          -none-     character                  \n",
       " 0          -none-     character                  \n",
       " 0          -none-     character                  \n",
       " 0          -none-     character                  \n",
       " 0          -none-     character                  \n",
       " 0          -none-     character                  \n",
       " 1          -none-     character                  \n",
       " 0          -none-     character                  \n",
       " 0          -none-     character                  \n",
       " 0          -none-     character                  \n",
       " 0          -none-     character                  \n",
       " 0          -none-     character                  \n",
       " 0          -none-     character                  \n",
       " 1          -none-     character                  \n",
       " 0          -none-     character                  \n",
       " 0          -none-     character                  "
      ]
     },
     "metadata": {},
     "output_type": "display_data"
    }
   ],
   "source": [
    "summary(starwars)"
   ]
  },
  {
   "cell_type": "code",
   "execution_count": 62,
   "id": "7bbff6d8",
   "metadata": {
    "vscode": {
     "languageId": "r"
    }
   },
   "outputs": [
    {
     "data": {
      "text/html": [
       "<style>\n",
       ".list-inline {list-style: none; margin:0; padding: 0}\n",
       ".list-inline>li {display: inline-block}\n",
       ".list-inline>li:not(:last-child)::after {content: \"\\00b7\"; padding: 0 .5ex}\n",
       "</style>\n",
       "<ol class=list-inline><li>172</li><li>167</li><li>96</li><li>202</li><li>150</li><li>178</li><li>165</li><li>97</li><li>183</li><li>182</li><li>188</li><li>180</li><li>228</li><li>180</li><li>173</li><li>175</li><li>170</li><li>180</li><li>66</li><li>170</li><li>183</li><li>200</li><li>190</li><li>177</li><li>175</li><li>180</li><li>150</li><li>&lt;NA&gt;</li><li>88</li><li>160</li><li>193</li><li>191</li><li>170</li><li>185</li><li>196</li><li>224</li><li>206</li><li>183</li><li>137</li><li>112</li><li>183</li><li>163</li><li>175</li><li>180</li><li>178</li><li>79</li><li>94</li><li>122</li><li>163</li><li>188</li><li>198</li><li>196</li><li>171</li><li>184</li><li>188</li><li>264</li><li>188</li><li>196</li><li>185</li><li>157</li><li>183</li><li>183</li><li>170</li><li>166</li><li>165</li><li>193</li><li>191</li><li>183</li><li>168</li><li>198</li><li>229</li><li>213</li><li>167</li><li>96</li><li>193</li><li>191</li><li>178</li><li>216</li><li>234</li><li>188</li><li>178</li><li>206</li><li>&lt;NA&gt;</li><li>&lt;NA&gt;</li><li>&lt;NA&gt;</li><li>&lt;NA&gt;</li><li>&lt;NA&gt;</li></ol>\n"
      ],
      "text/latex": [
       "\\begin{enumerate*}\n",
       "\\item 172\n",
       "\\item 167\n",
       "\\item 96\n",
       "\\item 202\n",
       "\\item 150\n",
       "\\item 178\n",
       "\\item 165\n",
       "\\item 97\n",
       "\\item 183\n",
       "\\item 182\n",
       "\\item 188\n",
       "\\item 180\n",
       "\\item 228\n",
       "\\item 180\n",
       "\\item 173\n",
       "\\item 175\n",
       "\\item 170\n",
       "\\item 180\n",
       "\\item 66\n",
       "\\item 170\n",
       "\\item 183\n",
       "\\item 200\n",
       "\\item 190\n",
       "\\item 177\n",
       "\\item 175\n",
       "\\item 180\n",
       "\\item 150\n",
       "\\item <NA>\n",
       "\\item 88\n",
       "\\item 160\n",
       "\\item 193\n",
       "\\item 191\n",
       "\\item 170\n",
       "\\item 185\n",
       "\\item 196\n",
       "\\item 224\n",
       "\\item 206\n",
       "\\item 183\n",
       "\\item 137\n",
       "\\item 112\n",
       "\\item 183\n",
       "\\item 163\n",
       "\\item 175\n",
       "\\item 180\n",
       "\\item 178\n",
       "\\item 79\n",
       "\\item 94\n",
       "\\item 122\n",
       "\\item 163\n",
       "\\item 188\n",
       "\\item 198\n",
       "\\item 196\n",
       "\\item 171\n",
       "\\item 184\n",
       "\\item 188\n",
       "\\item 264\n",
       "\\item 188\n",
       "\\item 196\n",
       "\\item 185\n",
       "\\item 157\n",
       "\\item 183\n",
       "\\item 183\n",
       "\\item 170\n",
       "\\item 166\n",
       "\\item 165\n",
       "\\item 193\n",
       "\\item 191\n",
       "\\item 183\n",
       "\\item 168\n",
       "\\item 198\n",
       "\\item 229\n",
       "\\item 213\n",
       "\\item 167\n",
       "\\item 96\n",
       "\\item 193\n",
       "\\item 191\n",
       "\\item 178\n",
       "\\item 216\n",
       "\\item 234\n",
       "\\item 188\n",
       "\\item 178\n",
       "\\item 206\n",
       "\\item <NA>\n",
       "\\item <NA>\n",
       "\\item <NA>\n",
       "\\item <NA>\n",
       "\\item <NA>\n",
       "\\end{enumerate*}\n"
      ],
      "text/markdown": [
       "1. 172\n",
       "2. 167\n",
       "3. 96\n",
       "4. 202\n",
       "5. 150\n",
       "6. 178\n",
       "7. 165\n",
       "8. 97\n",
       "9. 183\n",
       "10. 182\n",
       "11. 188\n",
       "12. 180\n",
       "13. 228\n",
       "14. 180\n",
       "15. 173\n",
       "16. 175\n",
       "17. 170\n",
       "18. 180\n",
       "19. 66\n",
       "20. 170\n",
       "21. 183\n",
       "22. 200\n",
       "23. 190\n",
       "24. 177\n",
       "25. 175\n",
       "26. 180\n",
       "27. 150\n",
       "28. &lt;NA&gt;\n",
       "29. 88\n",
       "30. 160\n",
       "31. 193\n",
       "32. 191\n",
       "33. 170\n",
       "34. 185\n",
       "35. 196\n",
       "36. 224\n",
       "37. 206\n",
       "38. 183\n",
       "39. 137\n",
       "40. 112\n",
       "41. 183\n",
       "42. 163\n",
       "43. 175\n",
       "44. 180\n",
       "45. 178\n",
       "46. 79\n",
       "47. 94\n",
       "48. 122\n",
       "49. 163\n",
       "50. 188\n",
       "51. 198\n",
       "52. 196\n",
       "53. 171\n",
       "54. 184\n",
       "55. 188\n",
       "56. 264\n",
       "57. 188\n",
       "58. 196\n",
       "59. 185\n",
       "60. 157\n",
       "61. 183\n",
       "62. 183\n",
       "63. 170\n",
       "64. 166\n",
       "65. 165\n",
       "66. 193\n",
       "67. 191\n",
       "68. 183\n",
       "69. 168\n",
       "70. 198\n",
       "71. 229\n",
       "72. 213\n",
       "73. 167\n",
       "74. 96\n",
       "75. 193\n",
       "76. 191\n",
       "77. 178\n",
       "78. 216\n",
       "79. 234\n",
       "80. 188\n",
       "81. 178\n",
       "82. 206\n",
       "83. &lt;NA&gt;\n",
       "84. &lt;NA&gt;\n",
       "85. &lt;NA&gt;\n",
       "86. &lt;NA&gt;\n",
       "87. &lt;NA&gt;\n",
       "\n",
       "\n"
      ],
      "text/plain": [
       " [1] 172 167  96 202 150 178 165  97 183 182 188 180 228 180 173 175 170 180  66\n",
       "[20] 170 183 200 190 177 175 180 150  NA  88 160 193 191 170 185 196 224 206 183\n",
       "[39] 137 112 183 163 175 180 178  79  94 122 163 188 198 196 171 184 188 264 188\n",
       "[58] 196 185 157 183 183 170 166 165 193 191 183 168 198 229 213 167  96 193 191\n",
       "[77] 178 216 234 188 178 206  NA  NA  NA  NA  NA"
      ]
     },
     "metadata": {},
     "output_type": "display_data"
    }
   ],
   "source": [
    "starwars$height"
   ]
  },
  {
   "cell_type": "code",
   "execution_count": 63,
   "id": "d1a669b0",
   "metadata": {
    "vscode": {
     "languageId": "r"
    }
   },
   "outputs": [
    {
     "data": {
      "text/html": [
       "174.604938271605"
      ],
      "text/latex": [
       "174.604938271605"
      ],
      "text/markdown": [
       "174.604938271605"
      ],
      "text/plain": [
       "[1] 174.6049"
      ]
     },
     "metadata": {},
     "output_type": "display_data"
    }
   ],
   "source": [
    "starwars$height %>% mean(na.rm=TRUE)"
   ]
  },
  {
   "cell_type": "code",
   "execution_count": 64,
   "id": "7bc03ab5",
   "metadata": {
    "vscode": {
     "languageId": "r"
    }
   },
   "outputs": [
    {
     "data": {
      "text/html": [
       "<table class=\"dataframe\">\n",
       "<caption>A tibble: 1 × 3</caption>\n",
       "<thead>\n",
       "\t<tr><th scope=col>promedio</th><th scope=col>NN</th><th scope=col>desv</th></tr>\n",
       "\t<tr><th scope=col>&lt;dbl&gt;</th><th scope=col>&lt;int&gt;</th><th scope=col>&lt;dbl&gt;</th></tr>\n",
       "</thead>\n",
       "<tbody>\n",
       "\t<tr><td>174.6049</td><td>87</td><td>NA</td></tr>\n",
       "</tbody>\n",
       "</table>\n"
      ],
      "text/latex": [
       "A tibble: 1 × 3\n",
       "\\begin{tabular}{lll}\n",
       " promedio & NN & desv\\\\\n",
       " <dbl> & <int> & <dbl>\\\\\n",
       "\\hline\n",
       "\t 174.6049 & 87 & NA\\\\\n",
       "\\end{tabular}\n"
      ],
      "text/markdown": [
       "\n",
       "A tibble: 1 × 3\n",
       "\n",
       "| promedio &lt;dbl&gt; | NN &lt;int&gt; | desv &lt;dbl&gt; |\n",
       "|---|---|---|\n",
       "| 174.6049 | 87 | NA |\n",
       "\n"
      ],
      "text/plain": [
       "  promedio NN desv\n",
       "1 174.6049 87 NA  "
      ]
     },
     "metadata": {},
     "output_type": "display_data"
    }
   ],
   "source": [
    "starwars %>% summarise(promedio = mean(height, na.rm=TRUE), NN = n(), desv=sd(mass))"
   ]
  },
  {
   "cell_type": "code",
   "execution_count": null,
   "id": "b608cb95",
   "metadata": {
    "vscode": {
     "languageId": "r"
    }
   },
   "outputs": [
    {
     "data": {
      "text/html": [
       "<table class=\"dataframe\">\n",
       "<caption>A tibble: 1 × 1</caption>\n",
       "<thead>\n",
       "\t<tr><th scope=col>NN</th></tr>\n",
       "\t<tr><th scope=col>&lt;int&gt;</th></tr>\n",
       "</thead>\n",
       "<tbody>\n",
       "\t<tr><td>6</td></tr>\n",
       "</tbody>\n",
       "</table>\n"
      ],
      "text/latex": [
       "A tibble: 1 × 1\n",
       "\\begin{tabular}{l}\n",
       " NN\\\\\n",
       " <int>\\\\\n",
       "\\hline\n",
       "\t 6\\\\\n",
       "\\end{tabular}\n"
      ],
      "text/markdown": [
       "\n",
       "A tibble: 1 × 1\n",
       "\n",
       "| NN &lt;int&gt; |\n",
       "|---|\n",
       "| 6 |\n",
       "\n"
      ],
      "text/plain": [
       "  NN\n",
       "1 6 "
      ]
     },
     "metadata": {},
     "output_type": "display_data"
    }
   ],
   "source": [
    "starwars %>% filter(species == \"Droid\") %>% summarise(NN = n()) # SELECT COUNT(*) FROM starwars WHERE species='Droid'"
   ]
  },
  {
   "cell_type": "code",
   "execution_count": 69,
   "id": "4d477eba",
   "metadata": {
    "vscode": {
     "languageId": "r"
    }
   },
   "outputs": [
    {
     "data": {
      "text/html": [
       "<table class=\"dataframe\">\n",
       "<caption>A tibble: 1 × 1</caption>\n",
       "<thead>\n",
       "\t<tr><th scope=col>n</th></tr>\n",
       "\t<tr><th scope=col>&lt;int&gt;</th></tr>\n",
       "</thead>\n",
       "<tbody>\n",
       "\t<tr><td>6</td></tr>\n",
       "</tbody>\n",
       "</table>\n"
      ],
      "text/latex": [
       "A tibble: 1 × 1\n",
       "\\begin{tabular}{l}\n",
       " n\\\\\n",
       " <int>\\\\\n",
       "\\hline\n",
       "\t 6\\\\\n",
       "\\end{tabular}\n"
      ],
      "text/markdown": [
       "\n",
       "A tibble: 1 × 1\n",
       "\n",
       "| n &lt;int&gt; |\n",
       "|---|\n",
       "| 6 |\n",
       "\n"
      ],
      "text/plain": [
       "  n\n",
       "1 6"
      ]
     },
     "metadata": {},
     "output_type": "display_data"
    }
   ],
   "source": [
    "starwars %>% filter(species == \"Droid\") %>% count"
   ]
  },
  {
   "cell_type": "code",
   "execution_count": 70,
   "id": "8a89e7a5",
   "metadata": {
    "vscode": {
     "languageId": "r"
    }
   },
   "outputs": [
    {
     "data": {
      "text/html": [
       "<table class=\"dataframe\">\n",
       "<caption>A tibble: 1 × 1</caption>\n",
       "<thead>\n",
       "\t<tr><th scope=col>desviacion_tipica</th></tr>\n",
       "\t<tr><th scope=col>&lt;dbl&gt;</th></tr>\n",
       "</thead>\n",
       "<tbody>\n",
       "\t<tr><td>34.77416</td></tr>\n",
       "</tbody>\n",
       "</table>\n"
      ],
      "text/latex": [
       "A tibble: 1 × 1\n",
       "\\begin{tabular}{l}\n",
       " desviacion\\_tipica\\\\\n",
       " <dbl>\\\\\n",
       "\\hline\n",
       "\t 34.77416\\\\\n",
       "\\end{tabular}\n"
      ],
      "text/markdown": [
       "\n",
       "A tibble: 1 × 1\n",
       "\n",
       "| desviacion_tipica &lt;dbl&gt; |\n",
       "|---|\n",
       "| 34.77416 |\n",
       "\n"
      ],
      "text/plain": [
       "  desviacion_tipica\n",
       "1 34.77416         "
      ]
     },
     "metadata": {},
     "output_type": "display_data"
    }
   ],
   "source": [
    "starwars %>% summarise(desviacion_tipica = sd(height, na.rm=TRUE))"
   ]
  },
  {
   "cell_type": "code",
   "execution_count": 71,
   "id": "37cc5865",
   "metadata": {
    "vscode": {
     "languageId": "r"
    }
   },
   "outputs": [
    {
     "data": {
      "text/html": [
       "<table class=\"dataframe\">\n",
       "<caption>A tibble: 1 × 1</caption>\n",
       "<thead>\n",
       "\t<tr><th scope=col>max(mass, na.rm = TRUE)</th></tr>\n",
       "\t<tr><th scope=col>&lt;dbl&gt;</th></tr>\n",
       "</thead>\n",
       "<tbody>\n",
       "\t<tr><td>1358</td></tr>\n",
       "</tbody>\n",
       "</table>\n"
      ],
      "text/latex": [
       "A tibble: 1 × 1\n",
       "\\begin{tabular}{l}\n",
       " max(mass, na.rm = TRUE)\\\\\n",
       " <dbl>\\\\\n",
       "\\hline\n",
       "\t 1358\\\\\n",
       "\\end{tabular}\n"
      ],
      "text/markdown": [
       "\n",
       "A tibble: 1 × 1\n",
       "\n",
       "| max(mass, na.rm = TRUE) &lt;dbl&gt; |\n",
       "|---|\n",
       "| 1358 |\n",
       "\n"
      ],
      "text/plain": [
       "  max(mass, na.rm = TRUE)\n",
       "1 1358                   "
      ]
     },
     "metadata": {},
     "output_type": "display_data"
    }
   ],
   "source": [
    "starwars %>% summarise(max(mass, na.rm=TRUE))"
   ]
  },
  {
   "cell_type": "code",
   "execution_count": 72,
   "id": "c194b94f",
   "metadata": {
    "vscode": {
     "languageId": "r"
    }
   },
   "outputs": [
    {
     "data": {
      "text/html": [
       "<table class=\"dataframe\">\n",
       "<caption>A tibble: 1 × 2</caption>\n",
       "<thead>\n",
       "\t<tr><th scope=col>mean</th><th scope=col>sd</th></tr>\n",
       "\t<tr><th scope=col>&lt;dbl&gt;</th><th scope=col>&lt;dbl&gt;</th></tr>\n",
       "</thead>\n",
       "<tbody>\n",
       "\t<tr><td>174.6049</td><td>34.77416</td></tr>\n",
       "</tbody>\n",
       "</table>\n"
      ],
      "text/latex": [
       "A tibble: 1 × 2\n",
       "\\begin{tabular}{ll}\n",
       " mean & sd\\\\\n",
       " <dbl> & <dbl>\\\\\n",
       "\\hline\n",
       "\t 174.6049 & 34.77416\\\\\n",
       "\\end{tabular}\n"
      ],
      "text/markdown": [
       "\n",
       "A tibble: 1 × 2\n",
       "\n",
       "| mean &lt;dbl&gt; | sd &lt;dbl&gt; |\n",
       "|---|---|\n",
       "| 174.6049 | 34.77416 |\n",
       "\n"
      ],
      "text/plain": [
       "  mean     sd      \n",
       "1 174.6049 34.77416"
      ]
     },
     "metadata": {},
     "output_type": "display_data"
    }
   ],
   "source": [
    "starwars %>% summarise(mean = mean(height, na.rm=TRUE), sd = sd(height, na.rm=TRUE))"
   ]
  },
  {
   "cell_type": "code",
   "execution_count": 74,
   "id": "0ee83fa7",
   "metadata": {
    "vscode": {
     "languageId": "r"
    }
   },
   "outputs": [
    {
     "data": {
      "text/html": [
       "38"
      ],
      "text/latex": [
       "38"
      ],
      "text/markdown": [
       "38"
      ],
      "text/plain": [
       "[1] 38"
      ]
     },
     "metadata": {},
     "output_type": "display_data"
    }
   ],
   "source": [
    "starwars$species %>% unique %>% length"
   ]
  },
  {
   "cell_type": "code",
   "execution_count": 75,
   "id": "54c42d2a",
   "metadata": {
    "vscode": {
     "languageId": "r"
    }
   },
   "outputs": [
    {
     "data": {
      "text/html": [
       "<table class=\"dataframe\">\n",
       "<caption>A tibble: 1 × 2</caption>\n",
       "<thead>\n",
       "\t<tr><th scope=col>n()</th><th scope=col>mean(mass, na.rm = TRUE)</th></tr>\n",
       "\t<tr><th scope=col>&lt;int&gt;</th><th scope=col>&lt;dbl&gt;</th></tr>\n",
       "</thead>\n",
       "<tbody>\n",
       "\t<tr><td>87</td><td>97.31186</td></tr>\n",
       "</tbody>\n",
       "</table>\n"
      ],
      "text/latex": [
       "A tibble: 1 × 2\n",
       "\\begin{tabular}{ll}\n",
       " n() & mean(mass, na.rm = TRUE)\\\\\n",
       " <int> & <dbl>\\\\\n",
       "\\hline\n",
       "\t 87 & 97.31186\\\\\n",
       "\\end{tabular}\n"
      ],
      "text/markdown": [
       "\n",
       "A tibble: 1 × 2\n",
       "\n",
       "| n() &lt;int&gt; | mean(mass, na.rm = TRUE) &lt;dbl&gt; |\n",
       "|---|---|\n",
       "| 87 | 97.31186 |\n",
       "\n"
      ],
      "text/plain": [
       "  n() mean(mass, na.rm = TRUE)\n",
       "1 87  97.31186                "
      ]
     },
     "metadata": {},
     "output_type": "display_data"
    }
   ],
   "source": [
    "starwars %>% summarise(n(), mean(mass, na.rm = TRUE))"
   ]
  },
  {
   "cell_type": "code",
   "execution_count": 76,
   "id": "f629d6b3",
   "metadata": {
    "scrolled": true,
    "vscode": {
     "languageId": "r"
    }
   },
   "outputs": [
    {
     "data": {
      "text/html": [
       "<table class=\"dataframe\">\n",
       "<caption>A tibble: 38 × 3</caption>\n",
       "<thead>\n",
       "\t<tr><th scope=col>species</th><th scope=col>n</th><th scope=col>mass</th></tr>\n",
       "\t<tr><th scope=col>&lt;chr&gt;</th><th scope=col>&lt;int&gt;</th><th scope=col>&lt;dbl&gt;</th></tr>\n",
       "</thead>\n",
       "<tbody>\n",
       "\t<tr><td>Aleena        </td><td> 1</td><td>  15.00</td></tr>\n",
       "\t<tr><td>Besalisk      </td><td> 1</td><td> 102.00</td></tr>\n",
       "\t<tr><td>Cerean        </td><td> 1</td><td>  82.00</td></tr>\n",
       "\t<tr><td>Chagrian      </td><td> 1</td><td>    NaN</td></tr>\n",
       "\t<tr><td>Clawdite      </td><td> 1</td><td>  55.00</td></tr>\n",
       "\t<tr><td>Droid         </td><td> 6</td><td>  69.75</td></tr>\n",
       "\t<tr><td>Dug           </td><td> 1</td><td>  40.00</td></tr>\n",
       "\t<tr><td>Ewok          </td><td> 1</td><td>  20.00</td></tr>\n",
       "\t<tr><td>Geonosian     </td><td> 1</td><td>  80.00</td></tr>\n",
       "\t<tr><td>Gungan        </td><td> 3</td><td>  74.00</td></tr>\n",
       "\t<tr><td>Human         </td><td>35</td><td>  81.31</td></tr>\n",
       "\t<tr><td>Hutt          </td><td> 1</td><td>1358.00</td></tr>\n",
       "\t<tr><td>Iktotchi      </td><td> 1</td><td>    NaN</td></tr>\n",
       "\t<tr><td>Kaleesh       </td><td> 1</td><td> 159.00</td></tr>\n",
       "\t<tr><td>Kaminoan      </td><td> 2</td><td>  88.00</td></tr>\n",
       "\t<tr><td>Kel Dor       </td><td> 1</td><td>  80.00</td></tr>\n",
       "\t<tr><td>Mirialan      </td><td> 2</td><td>  53.10</td></tr>\n",
       "\t<tr><td>Mon Calamari  </td><td> 1</td><td>  83.00</td></tr>\n",
       "\t<tr><td>Muun          </td><td> 1</td><td>    NaN</td></tr>\n",
       "\t<tr><td>Nautolan      </td><td> 1</td><td>  87.00</td></tr>\n",
       "\t<tr><td>Neimodian     </td><td> 1</td><td>  90.00</td></tr>\n",
       "\t<tr><td>Pau'an        </td><td> 1</td><td>  80.00</td></tr>\n",
       "\t<tr><td>Quermian      </td><td> 1</td><td>    NaN</td></tr>\n",
       "\t<tr><td>Rodian        </td><td> 1</td><td>  74.00</td></tr>\n",
       "\t<tr><td>Skakoan       </td><td> 1</td><td>  48.00</td></tr>\n",
       "\t<tr><td>Sullustan     </td><td> 1</td><td>  68.00</td></tr>\n",
       "\t<tr><td>Tholothian    </td><td> 1</td><td>  50.00</td></tr>\n",
       "\t<tr><td>Togruta       </td><td> 1</td><td>  57.00</td></tr>\n",
       "\t<tr><td>Toong         </td><td> 1</td><td>  65.00</td></tr>\n",
       "\t<tr><td>Toydarian     </td><td> 1</td><td>    NaN</td></tr>\n",
       "\t<tr><td>Trandoshan    </td><td> 1</td><td> 113.00</td></tr>\n",
       "\t<tr><td>Twi'lek       </td><td> 2</td><td>  55.00</td></tr>\n",
       "\t<tr><td>Vulptereen    </td><td> 1</td><td>  45.00</td></tr>\n",
       "\t<tr><td>Wookiee       </td><td> 2</td><td> 124.00</td></tr>\n",
       "\t<tr><td>Xexto         </td><td> 1</td><td>    NaN</td></tr>\n",
       "\t<tr><td>Yoda's species</td><td> 1</td><td>  17.00</td></tr>\n",
       "\t<tr><td>Zabrak        </td><td> 2</td><td>  80.00</td></tr>\n",
       "\t<tr><td>NA            </td><td> 4</td><td>  81.00</td></tr>\n",
       "</tbody>\n",
       "</table>\n"
      ],
      "text/latex": [
       "A tibble: 38 × 3\n",
       "\\begin{tabular}{lll}\n",
       " species & n & mass\\\\\n",
       " <chr> & <int> & <dbl>\\\\\n",
       "\\hline\n",
       "\t Aleena         &  1 &   15.00\\\\\n",
       "\t Besalisk       &  1 &  102.00\\\\\n",
       "\t Cerean         &  1 &   82.00\\\\\n",
       "\t Chagrian       &  1 &     NaN\\\\\n",
       "\t Clawdite       &  1 &   55.00\\\\\n",
       "\t Droid          &  6 &   69.75\\\\\n",
       "\t Dug            &  1 &   40.00\\\\\n",
       "\t Ewok           &  1 &   20.00\\\\\n",
       "\t Geonosian      &  1 &   80.00\\\\\n",
       "\t Gungan         &  3 &   74.00\\\\\n",
       "\t Human          & 35 &   81.31\\\\\n",
       "\t Hutt           &  1 & 1358.00\\\\\n",
       "\t Iktotchi       &  1 &     NaN\\\\\n",
       "\t Kaleesh        &  1 &  159.00\\\\\n",
       "\t Kaminoan       &  2 &   88.00\\\\\n",
       "\t Kel Dor        &  1 &   80.00\\\\\n",
       "\t Mirialan       &  2 &   53.10\\\\\n",
       "\t Mon Calamari   &  1 &   83.00\\\\\n",
       "\t Muun           &  1 &     NaN\\\\\n",
       "\t Nautolan       &  1 &   87.00\\\\\n",
       "\t Neimodian      &  1 &   90.00\\\\\n",
       "\t Pau'an         &  1 &   80.00\\\\\n",
       "\t Quermian       &  1 &     NaN\\\\\n",
       "\t Rodian         &  1 &   74.00\\\\\n",
       "\t Skakoan        &  1 &   48.00\\\\\n",
       "\t Sullustan      &  1 &   68.00\\\\\n",
       "\t Tholothian     &  1 &   50.00\\\\\n",
       "\t Togruta        &  1 &   57.00\\\\\n",
       "\t Toong          &  1 &   65.00\\\\\n",
       "\t Toydarian      &  1 &     NaN\\\\\n",
       "\t Trandoshan     &  1 &  113.00\\\\\n",
       "\t Twi'lek        &  2 &   55.00\\\\\n",
       "\t Vulptereen     &  1 &   45.00\\\\\n",
       "\t Wookiee        &  2 &  124.00\\\\\n",
       "\t Xexto          &  1 &     NaN\\\\\n",
       "\t Yoda's species &  1 &   17.00\\\\\n",
       "\t Zabrak         &  2 &   80.00\\\\\n",
       "\t NA             &  4 &   81.00\\\\\n",
       "\\end{tabular}\n"
      ],
      "text/markdown": [
       "\n",
       "A tibble: 38 × 3\n",
       "\n",
       "| species &lt;chr&gt; | n &lt;int&gt; | mass &lt;dbl&gt; |\n",
       "|---|---|---|\n",
       "| Aleena         |  1 |   15.00 |\n",
       "| Besalisk       |  1 |  102.00 |\n",
       "| Cerean         |  1 |   82.00 |\n",
       "| Chagrian       |  1 |     NaN |\n",
       "| Clawdite       |  1 |   55.00 |\n",
       "| Droid          |  6 |   69.75 |\n",
       "| Dug            |  1 |   40.00 |\n",
       "| Ewok           |  1 |   20.00 |\n",
       "| Geonosian      |  1 |   80.00 |\n",
       "| Gungan         |  3 |   74.00 |\n",
       "| Human          | 35 |   81.31 |\n",
       "| Hutt           |  1 | 1358.00 |\n",
       "| Iktotchi       |  1 |     NaN |\n",
       "| Kaleesh        |  1 |  159.00 |\n",
       "| Kaminoan       |  2 |   88.00 |\n",
       "| Kel Dor        |  1 |   80.00 |\n",
       "| Mirialan       |  2 |   53.10 |\n",
       "| Mon Calamari   |  1 |   83.00 |\n",
       "| Muun           |  1 |     NaN |\n",
       "| Nautolan       |  1 |   87.00 |\n",
       "| Neimodian      |  1 |   90.00 |\n",
       "| Pau'an         |  1 |   80.00 |\n",
       "| Quermian       |  1 |     NaN |\n",
       "| Rodian         |  1 |   74.00 |\n",
       "| Skakoan        |  1 |   48.00 |\n",
       "| Sullustan      |  1 |   68.00 |\n",
       "| Tholothian     |  1 |   50.00 |\n",
       "| Togruta        |  1 |   57.00 |\n",
       "| Toong          |  1 |   65.00 |\n",
       "| Toydarian      |  1 |     NaN |\n",
       "| Trandoshan     |  1 |  113.00 |\n",
       "| Twi'lek        |  2 |   55.00 |\n",
       "| Vulptereen     |  1 |   45.00 |\n",
       "| Wookiee        |  2 |  124.00 |\n",
       "| Xexto          |  1 |     NaN |\n",
       "| Yoda's species |  1 |   17.00 |\n",
       "| Zabrak         |  2 |   80.00 |\n",
       "| NA             |  4 |   81.00 |\n",
       "\n"
      ],
      "text/plain": [
       "   species        n  mass   \n",
       "1  Aleena          1   15.00\n",
       "2  Besalisk        1  102.00\n",
       "3  Cerean          1   82.00\n",
       "4  Chagrian        1     NaN\n",
       "5  Clawdite        1   55.00\n",
       "6  Droid           6   69.75\n",
       "7  Dug             1   40.00\n",
       "8  Ewok            1   20.00\n",
       "9  Geonosian       1   80.00\n",
       "10 Gungan          3   74.00\n",
       "11 Human          35   81.31\n",
       "12 Hutt            1 1358.00\n",
       "13 Iktotchi        1     NaN\n",
       "14 Kaleesh         1  159.00\n",
       "15 Kaminoan        2   88.00\n",
       "16 Kel Dor         1   80.00\n",
       "17 Mirialan        2   53.10\n",
       "18 Mon Calamari    1   83.00\n",
       "19 Muun            1     NaN\n",
       "20 Nautolan        1   87.00\n",
       "21 Neimodian       1   90.00\n",
       "22 Pau'an          1   80.00\n",
       "23 Quermian        1     NaN\n",
       "24 Rodian          1   74.00\n",
       "25 Skakoan         1   48.00\n",
       "26 Sullustan       1   68.00\n",
       "27 Tholothian      1   50.00\n",
       "28 Togruta         1   57.00\n",
       "29 Toong           1   65.00\n",
       "30 Toydarian       1     NaN\n",
       "31 Trandoshan      1  113.00\n",
       "32 Twi'lek         2   55.00\n",
       "33 Vulptereen      1   45.00\n",
       "34 Wookiee         2  124.00\n",
       "35 Xexto           1     NaN\n",
       "36 Yoda's species  1   17.00\n",
       "37 Zabrak          2   80.00\n",
       "38 NA              4   81.00"
      ]
     },
     "metadata": {},
     "output_type": "display_data"
    }
   ],
   "source": [
    "# Atención que se vienen curvas...\n",
    "starwars %>%\n",
    "        group_by(species) %>%\n",
    "        summarise(n = n(), mass = mean(mass, na.rm = TRUE))"
   ]
  },
  {
   "cell_type": "code",
   "execution_count": 78,
   "id": "86b85a59",
   "metadata": {
    "vscode": {
     "languageId": "r"
    }
   },
   "outputs": [
    {
     "data": {
      "text/html": [
       "<table class=\"dataframe\">\n",
       "<caption>A tibble: 4 × 3</caption>\n",
       "<thead>\n",
       "\t<tr><th scope=col>species</th><th scope=col>n</th><th scope=col>mass</th></tr>\n",
       "\t<tr><th scope=col>&lt;chr&gt;</th><th scope=col>&lt;int&gt;</th><th scope=col>&lt;dbl&gt;</th></tr>\n",
       "</thead>\n",
       "<tbody>\n",
       "\t<tr><td>Droid </td><td> 6</td><td>69.75</td></tr>\n",
       "\t<tr><td>Gungan</td><td> 3</td><td>74.00</td></tr>\n",
       "\t<tr><td>Human </td><td>35</td><td>81.31</td></tr>\n",
       "\t<tr><td>NA    </td><td> 4</td><td>81.00</td></tr>\n",
       "</tbody>\n",
       "</table>\n"
      ],
      "text/latex": [
       "A tibble: 4 × 3\n",
       "\\begin{tabular}{lll}\n",
       " species & n & mass\\\\\n",
       " <chr> & <int> & <dbl>\\\\\n",
       "\\hline\n",
       "\t Droid  &  6 & 69.75\\\\\n",
       "\t Gungan &  3 & 74.00\\\\\n",
       "\t Human  & 35 & 81.31\\\\\n",
       "\t NA     &  4 & 81.00\\\\\n",
       "\\end{tabular}\n"
      ],
      "text/markdown": [
       "\n",
       "A tibble: 4 × 3\n",
       "\n",
       "| species &lt;chr&gt; | n &lt;int&gt; | mass &lt;dbl&gt; |\n",
       "|---|---|---|\n",
       "| Droid  |  6 | 69.75 |\n",
       "| Gungan |  3 | 74.00 |\n",
       "| Human  | 35 | 81.31 |\n",
       "| NA     |  4 | 81.00 |\n",
       "\n"
      ],
      "text/plain": [
       "  species n  mass \n",
       "1 Droid    6 69.75\n",
       "2 Gungan   3 74.00\n",
       "3 Human   35 81.31\n",
       "4 NA       4 81.00"
      ]
     },
     "metadata": {},
     "output_type": "display_data"
    }
   ],
   "source": [
    "starwars %>% \n",
    "    group_by(species) %>% \n",
    "    summarise(n = n(), mass = mean(mass, na.rm = TRUE)) %>% \n",
    "    filter(n > 2, mass > 50)"
   ]
  },
  {
   "cell_type": "markdown",
   "id": "e8f88aa9",
   "metadata": {},
   "source": [
    "Más funciones útiles para usar con sumarise():\n",
    "* Center: mean(), median()\n",
    "* Spread: sd(), IQR(), mad()\n",
    "* Range: min(), max(), quantile()\n",
    "* Position: first(), last(), nth()\n",
    "* Count: n(), n_distinct()\n",
    "* Logical: any(), all()"
   ]
  },
  {
   "cell_type": "code",
   "execution_count": 93,
   "id": "50c05d19",
   "metadata": {
    "vscode": {
     "languageId": "r"
    }
   },
   "outputs": [
    {
     "data": {
      "text/html": [
       "<table class=\"dataframe\">\n",
       "<caption>A tibble: 1 × 3</caption>\n",
       "<thead>\n",
       "\t<tr><th scope=col>height</th><th scope=col>mass</th><th scope=col>birth_year</th></tr>\n",
       "\t<tr><th scope=col>&lt;dbl&gt;</th><th scope=col>&lt;dbl&gt;</th><th scope=col>&lt;dbl&gt;</th></tr>\n",
       "</thead>\n",
       "<tbody>\n",
       "\t<tr><td>174.6049</td><td>97.31186</td><td>87.56512</td></tr>\n",
       "</tbody>\n",
       "</table>\n"
      ],
      "text/latex": [
       "A tibble: 1 × 3\n",
       "\\begin{tabular}{lll}\n",
       " height & mass & birth\\_year\\\\\n",
       " <dbl> & <dbl> & <dbl>\\\\\n",
       "\\hline\n",
       "\t 174.6049 & 97.31186 & 87.56512\\\\\n",
       "\\end{tabular}\n"
      ],
      "text/markdown": [
       "\n",
       "A tibble: 1 × 3\n",
       "\n",
       "| height &lt;dbl&gt; | mass &lt;dbl&gt; | birth_year &lt;dbl&gt; |\n",
       "|---|---|---|\n",
       "| 174.6049 | 97.31186 | 87.56512 |\n",
       "\n"
      ],
      "text/plain": [
       "  height   mass     birth_year\n",
       "1 174.6049 97.31186 87.56512  "
      ]
     },
     "metadata": {},
     "output_type": "display_data"
    }
   ],
   "source": [
    "starwars %>% summarise_if(is.numeric, mean, na.rm = TRUE)"
   ]
  },
  {
   "cell_type": "code",
   "execution_count": 94,
   "id": "b07a66f9",
   "metadata": {
    "vscode": {
     "languageId": "r"
    }
   },
   "outputs": [
    {
     "data": {
      "text/html": [
       "<table class=\"dataframe\">\n",
       "<caption>A tibble: 1 × 6</caption>\n",
       "<thead>\n",
       "\t<tr><th scope=col>height_prom</th><th scope=col>mass_prom</th><th scope=col>birth_year_prom</th><th scope=col>height_sd</th><th scope=col>mass_sd</th><th scope=col>birth_year_sd</th></tr>\n",
       "\t<tr><th scope=col>&lt;dbl&gt;</th><th scope=col>&lt;dbl&gt;</th><th scope=col>&lt;dbl&gt;</th><th scope=col>&lt;dbl&gt;</th><th scope=col>&lt;dbl&gt;</th><th scope=col>&lt;dbl&gt;</th></tr>\n",
       "</thead>\n",
       "<tbody>\n",
       "\t<tr><td>174.6049</td><td>97.31186</td><td>87.56512</td><td>34.77416</td><td>169.4572</td><td>154.6914</td></tr>\n",
       "</tbody>\n",
       "</table>\n"
      ],
      "text/latex": [
       "A tibble: 1 × 6\n",
       "\\begin{tabular}{llllll}\n",
       " height\\_prom & mass\\_prom & birth\\_year\\_prom & height\\_sd & mass\\_sd & birth\\_year\\_sd\\\\\n",
       " <dbl> & <dbl> & <dbl> & <dbl> & <dbl> & <dbl>\\\\\n",
       "\\hline\n",
       "\t 174.6049 & 97.31186 & 87.56512 & 34.77416 & 169.4572 & 154.6914\\\\\n",
       "\\end{tabular}\n"
      ],
      "text/markdown": [
       "\n",
       "A tibble: 1 × 6\n",
       "\n",
       "| height_prom &lt;dbl&gt; | mass_prom &lt;dbl&gt; | birth_year_prom &lt;dbl&gt; | height_sd &lt;dbl&gt; | mass_sd &lt;dbl&gt; | birth_year_sd &lt;dbl&gt; |\n",
       "|---|---|---|---|---|---|\n",
       "| 174.6049 | 97.31186 | 87.56512 | 34.77416 | 169.4572 | 154.6914 |\n",
       "\n"
      ],
      "text/plain": [
       "  height_prom mass_prom birth_year_prom height_sd mass_sd  birth_year_sd\n",
       "1 174.6049    97.31186  87.56512        34.77416  169.4572 154.6914     "
      ]
     },
     "metadata": {},
     "output_type": "display_data"
    }
   ],
   "source": [
    "starwars %>% summarise_if(is.numeric, list(prom=mean,sd=sd), na.rm = TRUE)"
   ]
  },
  {
   "cell_type": "code",
   "execution_count": 96,
   "id": "0a616b18",
   "metadata": {
    "vscode": {
     "languageId": "r"
    }
   },
   "outputs": [
    {
     "data": {
      "text/html": [
       "<table class=\"dataframe\">\n",
       "<caption>A tibble: 1 × 2</caption>\n",
       "<thead>\n",
       "\t<tr><th scope=col>height</th><th scope=col>mass</th></tr>\n",
       "\t<tr><th scope=col>&lt;dbl&gt;</th><th scope=col>&lt;dbl&gt;</th></tr>\n",
       "</thead>\n",
       "<tbody>\n",
       "\t<tr><td>174.6049</td><td>97.31186</td></tr>\n",
       "</tbody>\n",
       "</table>\n"
      ],
      "text/latex": [
       "A tibble: 1 × 2\n",
       "\\begin{tabular}{ll}\n",
       " height & mass\\\\\n",
       " <dbl> & <dbl>\\\\\n",
       "\\hline\n",
       "\t 174.6049 & 97.31186\\\\\n",
       "\\end{tabular}\n"
      ],
      "text/markdown": [
       "\n",
       "A tibble: 1 × 2\n",
       "\n",
       "| height &lt;dbl&gt; | mass &lt;dbl&gt; |\n",
       "|---|---|\n",
       "| 174.6049 | 97.31186 |\n",
       "\n"
      ],
      "text/plain": [
       "  height   mass    \n",
       "1 174.6049 97.31186"
      ]
     },
     "metadata": {},
     "output_type": "display_data"
    }
   ],
   "source": [
    "starwars %>% \n",
    "    summarise_at(vars(height,mass), mean, na.rm = TRUE)"
   ]
  },
  {
   "cell_type": "code",
   "execution_count": 99,
   "id": "c48cb24d",
   "metadata": {
    "vscode": {
     "languageId": "r"
    }
   },
   "outputs": [
    {
     "data": {
      "text/html": [
       "<table class=\"dataframe\">\n",
       "<caption>A tibble: 1 × 4</caption>\n",
       "<thead>\n",
       "\t<tr><th scope=col>height_fn1</th><th scope=col>mass_fn1</th><th scope=col>height_fn2</th><th scope=col>mass_fn2</th></tr>\n",
       "\t<tr><th scope=col>&lt;dbl&gt;</th><th scope=col>&lt;dbl&gt;</th><th scope=col>&lt;dbl&gt;</th><th scope=col>&lt;dbl&gt;</th></tr>\n",
       "</thead>\n",
       "<tbody>\n",
       "\t<tr><td>174.6049</td><td>97.31186</td><td>34.77416</td><td>169.4572</td></tr>\n",
       "</tbody>\n",
       "</table>\n"
      ],
      "text/latex": [
       "A tibble: 1 × 4\n",
       "\\begin{tabular}{llll}\n",
       " height\\_fn1 & mass\\_fn1 & height\\_fn2 & mass\\_fn2\\\\\n",
       " <dbl> & <dbl> & <dbl> & <dbl>\\\\\n",
       "\\hline\n",
       "\t 174.6049 & 97.31186 & 34.77416 & 169.4572\\\\\n",
       "\\end{tabular}\n"
      ],
      "text/markdown": [
       "\n",
       "A tibble: 1 × 4\n",
       "\n",
       "| height_fn1 &lt;dbl&gt; | mass_fn1 &lt;dbl&gt; | height_fn2 &lt;dbl&gt; | mass_fn2 &lt;dbl&gt; |\n",
       "|---|---|---|---|\n",
       "| 174.6049 | 97.31186 | 34.77416 | 169.4572 |\n",
       "\n"
      ],
      "text/plain": [
       "  height_fn1 mass_fn1 height_fn2 mass_fn2\n",
       "1 174.6049   97.31186 34.77416   169.4572"
      ]
     },
     "metadata": {},
     "output_type": "display_data"
    }
   ],
   "source": [
    "starwars %>% \n",
    "    summarise_at(vars(height,mass), list(mean,sd), na.rm = TRUE)"
   ]
  },
  {
   "cell_type": "code",
   "execution_count": 83,
   "id": "126b78c3",
   "metadata": {
    "vscode": {
     "languageId": "r"
    }
   },
   "outputs": [
    {
     "data": {
      "text/html": [
       "<table class=\"dataframe\">\n",
       "<caption>A tibble: 1 × 6</caption>\n",
       "<thead>\n",
       "\t<tr><th scope=col>height_minimo</th><th scope=col>mass_minimo</th><th scope=col>birth_year_minimo</th><th scope=col>height_maximo</th><th scope=col>mass_maximo</th><th scope=col>birth_year_maximo</th></tr>\n",
       "\t<tr><th scope=col>&lt;int&gt;</th><th scope=col>&lt;dbl&gt;</th><th scope=col>&lt;dbl&gt;</th><th scope=col>&lt;int&gt;</th><th scope=col>&lt;dbl&gt;</th><th scope=col>&lt;dbl&gt;</th></tr>\n",
       "</thead>\n",
       "<tbody>\n",
       "\t<tr><td>66</td><td>15</td><td>8</td><td>264</td><td>1358</td><td>896</td></tr>\n",
       "</tbody>\n",
       "</table>\n"
      ],
      "text/latex": [
       "A tibble: 1 × 6\n",
       "\\begin{tabular}{llllll}\n",
       " height\\_minimo & mass\\_minimo & birth\\_year\\_minimo & height\\_maximo & mass\\_maximo & birth\\_year\\_maximo\\\\\n",
       " <int> & <dbl> & <dbl> & <int> & <dbl> & <dbl>\\\\\n",
       "\\hline\n",
       "\t 66 & 15 & 8 & 264 & 1358 & 896\\\\\n",
       "\\end{tabular}\n"
      ],
      "text/markdown": [
       "\n",
       "A tibble: 1 × 6\n",
       "\n",
       "| height_minimo &lt;int&gt; | mass_minimo &lt;dbl&gt; | birth_year_minimo &lt;dbl&gt; | height_maximo &lt;int&gt; | mass_maximo &lt;dbl&gt; | birth_year_maximo &lt;dbl&gt; |\n",
       "|---|---|---|---|---|---|\n",
       "| 66 | 15 | 8 | 264 | 1358 | 896 |\n",
       "\n"
      ],
      "text/plain": [
       "  height_minimo mass_minimo birth_year_minimo height_maximo mass_maximo\n",
       "1 66            15          8                 264           1358       \n",
       "  birth_year_maximo\n",
       "1 896              "
      ]
     },
     "metadata": {},
     "output_type": "display_data"
    }
   ],
   "source": [
    "starwars %>% select(height, mass, birth_year) %>%\n",
    "    summarise_all(list(minimo = min, maximo = max), na.rm = TRUE)"
   ]
  },
  {
   "cell_type": "markdown",
   "id": "fd840a55",
   "metadata": {},
   "source": [
    "### across()\n",
    "Se utiliza para aplicar una operación a varias columnas de un data frame de manera simultánea. Esta es una versión más moderna y más legible."
   ]
  },
  {
   "cell_type": "code",
   "execution_count": 122,
   "id": "ba6d7362",
   "metadata": {
    "scrolled": true,
    "vscode": {
     "languageId": "r"
    }
   },
   "outputs": [
    {
     "data": {
      "text/html": [
       "<table class=\"dataframe\">\n",
       "<caption>A tibble: 9 × 4</caption>\n",
       "<thead>\n",
       "\t<tr><th scope=col>species</th><th scope=col>sex</th><th scope=col>gender</th><th scope=col>homeworld</th></tr>\n",
       "\t<tr><th scope=col>&lt;chr&gt;</th><th scope=col>&lt;int&gt;</th><th scope=col>&lt;int&gt;</th><th scope=col>&lt;int&gt;</th></tr>\n",
       "</thead>\n",
       "<tbody>\n",
       "\t<tr><td>Droid   </td><td>1</td><td>2</td><td> 3</td></tr>\n",
       "\t<tr><td>Gungan  </td><td>1</td><td>1</td><td> 1</td></tr>\n",
       "\t<tr><td>Human   </td><td>2</td><td>2</td><td>15</td></tr>\n",
       "\t<tr><td>Kaminoan</td><td>2</td><td>2</td><td> 1</td></tr>\n",
       "\t<tr><td>Mirialan</td><td>1</td><td>1</td><td> 1</td></tr>\n",
       "\t<tr><td>Twi'lek </td><td>2</td><td>2</td><td> 1</td></tr>\n",
       "\t<tr><td>Wookiee </td><td>1</td><td>1</td><td> 1</td></tr>\n",
       "\t<tr><td>Zabrak  </td><td>1</td><td>1</td><td> 2</td></tr>\n",
       "\t<tr><td>NA      </td><td>1</td><td>1</td><td> 3</td></tr>\n",
       "</tbody>\n",
       "</table>\n"
      ],
      "text/latex": [
       "A tibble: 9 × 4\n",
       "\\begin{tabular}{llll}\n",
       " species & sex & gender & homeworld\\\\\n",
       " <chr> & <int> & <int> & <int>\\\\\n",
       "\\hline\n",
       "\t Droid    & 1 & 2 &  3\\\\\n",
       "\t Gungan   & 1 & 1 &  1\\\\\n",
       "\t Human    & 2 & 2 & 15\\\\\n",
       "\t Kaminoan & 2 & 2 &  1\\\\\n",
       "\t Mirialan & 1 & 1 &  1\\\\\n",
       "\t Twi'lek  & 2 & 2 &  1\\\\\n",
       "\t Wookiee  & 1 & 1 &  1\\\\\n",
       "\t Zabrak   & 1 & 1 &  2\\\\\n",
       "\t NA       & 1 & 1 &  3\\\\\n",
       "\\end{tabular}\n"
      ],
      "text/markdown": [
       "\n",
       "A tibble: 9 × 4\n",
       "\n",
       "| species &lt;chr&gt; | sex &lt;int&gt; | gender &lt;int&gt; | homeworld &lt;int&gt; |\n",
       "|---|---|---|---|\n",
       "| Droid    | 1 | 2 |  3 |\n",
       "| Gungan   | 1 | 1 |  1 |\n",
       "| Human    | 2 | 2 | 15 |\n",
       "| Kaminoan | 2 | 2 |  1 |\n",
       "| Mirialan | 1 | 1 |  1 |\n",
       "| Twi'lek  | 2 | 2 |  1 |\n",
       "| Wookiee  | 1 | 1 |  1 |\n",
       "| Zabrak   | 1 | 1 |  2 |\n",
       "| NA       | 1 | 1 |  3 |\n",
       "\n"
      ],
      "text/plain": [
       "  species  sex gender homeworld\n",
       "1 Droid    1   2       3       \n",
       "2 Gungan   1   1       1       \n",
       "3 Human    2   2      15       \n",
       "4 Kaminoan 2   2       1       \n",
       "5 Mirialan 1   1       1       \n",
       "6 Twi'lek  2   2       1       \n",
       "7 Wookiee  1   1       1       \n",
       "8 Zabrak   1   1       2       \n",
       "9 NA       1   1       3       "
      ]
     },
     "metadata": {},
     "output_type": "display_data"
    }
   ],
   "source": [
    "starwars %>% \n",
    "  group_by(species) %>% \n",
    "  filter(n() > 1) %>% # ¡Ojo! usad parentesis si no os lía con la función n()\n",
    "  summarise(across(c(sex, gender, homeworld), n_distinct))"
   ]
  },
  {
   "cell_type": "code",
   "execution_count": null,
   "id": "4a526662",
   "metadata": {
    "vscode": {
     "languageId": "r"
    }
   },
   "outputs": [
    {
     "data": {
      "text/html": [
       "<table class=\"dataframe\">\n",
       "<caption>A tibble: 9 × 7</caption>\n",
       "<thead>\n",
       "\t<tr><th scope=col>species</th><th scope=col>sex_1</th><th scope=col>sex_2</th><th scope=col>gender_1</th><th scope=col>gender_2</th><th scope=col>homeworld_1</th><th scope=col>homeworld_2</th></tr>\n",
       "\t<tr><th scope=col>&lt;chr&gt;</th><th scope=col>&lt;int&gt;</th><th scope=col>&lt;int&gt;</th><th scope=col>&lt;int&gt;</th><th scope=col>&lt;int&gt;</th><th scope=col>&lt;int&gt;</th><th scope=col>&lt;int&gt;</th></tr>\n",
       "</thead>\n",
       "<tbody>\n",
       "\t<tr><td>Droid   </td><td>1</td><td> 6</td><td>2</td><td> 6</td><td> 3</td><td> 6</td></tr>\n",
       "\t<tr><td>Gungan  </td><td>1</td><td> 3</td><td>1</td><td> 3</td><td> 1</td><td> 3</td></tr>\n",
       "\t<tr><td>Human   </td><td>2</td><td>35</td><td>2</td><td>35</td><td>15</td><td>35</td></tr>\n",
       "\t<tr><td>Kaminoan</td><td>2</td><td> 2</td><td>2</td><td> 2</td><td> 1</td><td> 2</td></tr>\n",
       "\t<tr><td>Mirialan</td><td>1</td><td> 2</td><td>1</td><td> 2</td><td> 1</td><td> 2</td></tr>\n",
       "\t<tr><td>Twi'lek </td><td>2</td><td> 2</td><td>2</td><td> 2</td><td> 1</td><td> 2</td></tr>\n",
       "\t<tr><td>Wookiee </td><td>1</td><td> 2</td><td>1</td><td> 2</td><td> 1</td><td> 2</td></tr>\n",
       "\t<tr><td>Zabrak  </td><td>1</td><td> 2</td><td>1</td><td> 2</td><td> 2</td><td> 2</td></tr>\n",
       "\t<tr><td>NA      </td><td>1</td><td> 4</td><td>1</td><td> 4</td><td> 3</td><td> 4</td></tr>\n",
       "</tbody>\n",
       "</table>\n"
      ],
      "text/latex": [
       "A tibble: 9 × 7\n",
       "\\begin{tabular}{lllllll}\n",
       " species & sex\\_1 & sex\\_2 & gender\\_1 & gender\\_2 & homeworld\\_1 & homeworld\\_2\\\\\n",
       " <chr> & <int> & <int> & <int> & <int> & <int> & <int>\\\\\n",
       "\\hline\n",
       "\t Droid    & 1 &  6 & 2 &  6 &  3 &  6\\\\\n",
       "\t Gungan   & 1 &  3 & 1 &  3 &  1 &  3\\\\\n",
       "\t Human    & 2 & 35 & 2 & 35 & 15 & 35\\\\\n",
       "\t Kaminoan & 2 &  2 & 2 &  2 &  1 &  2\\\\\n",
       "\t Mirialan & 1 &  2 & 1 &  2 &  1 &  2\\\\\n",
       "\t Twi'lek  & 2 &  2 & 2 &  2 &  1 &  2\\\\\n",
       "\t Wookiee  & 1 &  2 & 1 &  2 &  1 &  2\\\\\n",
       "\t Zabrak   & 1 &  2 & 1 &  2 &  2 &  2\\\\\n",
       "\t NA       & 1 &  4 & 1 &  4 &  3 &  4\\\\\n",
       "\\end{tabular}\n"
      ],
      "text/markdown": [
       "\n",
       "A tibble: 9 × 7\n",
       "\n",
       "| species &lt;chr&gt; | sex_1 &lt;int&gt; | sex_2 &lt;int&gt; | gender_1 &lt;int&gt; | gender_2 &lt;int&gt; | homeworld_1 &lt;int&gt; | homeworld_2 &lt;int&gt; |\n",
       "|---|---|---|---|---|---|---|\n",
       "| Droid    | 1 |  6 | 2 |  6 |  3 |  6 |\n",
       "| Gungan   | 1 |  3 | 1 |  3 |  1 |  3 |\n",
       "| Human    | 2 | 35 | 2 | 35 | 15 | 35 |\n",
       "| Kaminoan | 2 |  2 | 2 |  2 |  1 |  2 |\n",
       "| Mirialan | 1 |  2 | 1 |  2 |  1 |  2 |\n",
       "| Twi'lek  | 2 |  2 | 2 |  2 |  1 |  2 |\n",
       "| Wookiee  | 1 |  2 | 1 |  2 |  1 |  2 |\n",
       "| Zabrak   | 1 |  2 | 1 |  2 |  2 |  2 |\n",
       "| NA       | 1 |  4 | 1 |  4 |  3 |  4 |\n",
       "\n"
      ],
      "text/plain": [
       "  species  sex_1 sex_2 gender_1 gender_2 homeworld_1 homeworld_2\n",
       "1 Droid    1      6    2         6        3           6         \n",
       "2 Gungan   1      3    1         3        1           3         \n",
       "3 Human    2     35    2        35       15          35         \n",
       "4 Kaminoan 2      2    2         2        1           2         \n",
       "5 Mirialan 1      2    1         2        1           2         \n",
       "6 Twi'lek  2      2    2         2        1           2         \n",
       "7 Wookiee  1      2    1         2        1           2         \n",
       "8 Zabrak   1      2    1         2        2           2         \n",
       "9 NA       1      4    1         4        3           4         "
      ]
     },
     "metadata": {},
     "output_type": "display_data"
    }
   ],
   "source": [
    "starwars %>% \n",
    "  group_by(species) %>% \n",
    "  filter(n() > 1) %>% \n",
    "  summarise(across(c(sex, gender, homeworld), list(n_distinct,length))) # WTF? length vs. n"
   ]
  },
  {
   "cell_type": "code",
   "execution_count": 127,
   "id": "537e09aa",
   "metadata": {
    "vscode": {
     "languageId": "r"
    }
   },
   "outputs": [
    {
     "data": {
      "text/html": [
       "87"
      ],
      "text/latex": [
       "87"
      ],
      "text/markdown": [
       "87"
      ],
      "text/plain": [
       "[1] 87"
      ]
     },
     "metadata": {},
     "output_type": "display_data"
    }
   ],
   "source": [
    "starwars %>% n_distinct"
   ]
  },
  {
   "cell_type": "code",
   "execution_count": 128,
   "id": "ba5ca8fa",
   "metadata": {
    "vscode": {
     "languageId": "r"
    }
   },
   "outputs": [
    {
     "ename": "ERROR",
     "evalue": "Error in n(.): el argumento no fue usado (.)\n",
     "output_type": "error",
     "traceback": [
      "Error in n(.): el argumento no fue usado (.)\nTraceback:\n",
      "1. .handleSimpleError(function (cnd) \n . {\n .     watcher$capture_plot_and_output()\n .     cnd <- sanitize_call(cnd)\n .     watcher$push(cnd)\n .     switch(on_error, continue = invokeRestart(\"eval_continue\"), \n .         stop = invokeRestart(\"eval_stop\"), error = NULL)\n . }, \"el argumento no fue usado (.)\", base::quote(n(.)))"
     ]
    }
   ],
   "source": [
    "starwars %>% n"
   ]
  },
  {
   "cell_type": "code",
   "execution_count": 129,
   "id": "e1d4594b",
   "metadata": {
    "vscode": {
     "languageId": "r"
    }
   },
   "outputs": [
    {
     "data": {
      "text/html": [
       "14"
      ],
      "text/latex": [
       "14"
      ],
      "text/markdown": [
       "14"
      ],
      "text/plain": [
       "[1] 14"
      ]
     },
     "metadata": {},
     "output_type": "display_data"
    }
   ],
   "source": [
    "starwars %>% length"
   ]
  },
  {
   "cell_type": "code",
   "execution_count": 130,
   "id": "49db19b9",
   "metadata": {
    "vscode": {
     "languageId": "r"
    }
   },
   "outputs": [
    {
     "data": {
      "text/html": [
       "<style>\n",
       ".list-inline {list-style: none; margin:0; padding: 0}\n",
       ".list-inline>li {display: inline-block}\n",
       ".list-inline>li:not(:last-child)::after {content: \"\\00b7\"; padding: 0 .5ex}\n",
       "</style>\n",
       "<ol class=list-inline><li>87</li><li>14</li></ol>\n"
      ],
      "text/latex": [
       "\\begin{enumerate*}\n",
       "\\item 87\n",
       "\\item 14\n",
       "\\end{enumerate*}\n"
      ],
      "text/markdown": [
       "1. 87\n",
       "2. 14\n",
       "\n",
       "\n"
      ],
      "text/plain": [
       "[1] 87 14"
      ]
     },
     "metadata": {},
     "output_type": "display_data"
    }
   ],
   "source": [
    "dim(starwars)"
   ]
  },
  {
   "cell_type": "markdown",
   "id": "da50da2e",
   "metadata": {},
   "source": [
    "## Extra"
   ]
  },
  {
   "cell_type": "code",
   "execution_count": 131,
   "id": "84cdba10",
   "metadata": {
    "vscode": {
     "languageId": "r"
    }
   },
   "outputs": [
    {
     "data": {
      "text/html": [
       "<table class=\"dataframe\">\n",
       "<caption>A data.frame: 4 × 2</caption>\n",
       "<thead>\n",
       "\t<tr><th scope=col>period</th><th scope=col>revenue</th></tr>\n",
       "\t<tr><th scope=col>&lt;chr&gt;</th><th scope=col>&lt;dbl&gt;</th></tr>\n",
       "</thead>\n",
       "<tbody>\n",
       "\t<tr><td>Q1_y2019</td><td>23</td></tr>\n",
       "\t<tr><td>Q2_y2019</td><td>24</td></tr>\n",
       "\t<tr><td>Q3_y2019</td><td>27</td></tr>\n",
       "\t<tr><td>Q4_y2019</td><td>29</td></tr>\n",
       "</tbody>\n",
       "</table>\n"
      ],
      "text/latex": [
       "A data.frame: 4 × 2\n",
       "\\begin{tabular}{ll}\n",
       " period & revenue\\\\\n",
       " <chr> & <dbl>\\\\\n",
       "\\hline\n",
       "\t Q1\\_y2019 & 23\\\\\n",
       "\t Q2\\_y2019 & 24\\\\\n",
       "\t Q3\\_y2019 & 27\\\\\n",
       "\t Q4\\_y2019 & 29\\\\\n",
       "\\end{tabular}\n"
      ],
      "text/markdown": [
       "\n",
       "A data.frame: 4 × 2\n",
       "\n",
       "| period &lt;chr&gt; | revenue &lt;dbl&gt; |\n",
       "|---|---|\n",
       "| Q1_y2019 | 23 |\n",
       "| Q2_y2019 | 24 |\n",
       "| Q3_y2019 | 27 |\n",
       "| Q4_y2019 | 29 |\n",
       "\n"
      ],
      "text/plain": [
       "  period   revenue\n",
       "1 Q1_y2019 23     \n",
       "2 Q2_y2019 24     \n",
       "3 Q3_y2019 27     \n",
       "4 Q4_y2019 29     "
      ]
     },
     "metadata": {},
     "output_type": "display_data"
    }
   ],
   "source": [
    "df <- data.frame(period=c(\"Q1_y2019\",\"Q2_y2019\", \"Q3_y2019\",\"Q4_y2019\"), revenue=c(23,24,27,29))\n",
    "df"
   ]
  },
  {
   "cell_type": "code",
   "execution_count": null,
   "id": "9fa75548",
   "metadata": {
    "vscode": {
     "languageId": "r"
    }
   },
   "outputs": [
    {
     "data": {
      "text/html": [
       "<table class=\"dataframe\">\n",
       "<caption>A data.frame: 4 × 3</caption>\n",
       "<thead>\n",
       "\t<tr><th scope=col>Quarter</th><th scope=col>Year</th><th scope=col>revenue</th></tr>\n",
       "\t<tr><th scope=col>&lt;chr&gt;</th><th scope=col>&lt;chr&gt;</th><th scope=col>&lt;dbl&gt;</th></tr>\n",
       "</thead>\n",
       "<tbody>\n",
       "\t<tr><td>Q1</td><td>2019</td><td>23</td></tr>\n",
       "\t<tr><td>Q2</td><td>2019</td><td>24</td></tr>\n",
       "\t<tr><td>Q3</td><td>2019</td><td>27</td></tr>\n",
       "\t<tr><td>Q4</td><td>2019</td><td>29</td></tr>\n",
       "</tbody>\n",
       "</table>\n"
      ],
      "text/latex": [
       "A data.frame: 4 × 3\n",
       "\\begin{tabular}{lll}\n",
       " Quarter & Year & revenue\\\\\n",
       " <chr> & <chr> & <dbl>\\\\\n",
       "\\hline\n",
       "\t Q1 & 2019 & 23\\\\\n",
       "\t Q2 & 2019 & 24\\\\\n",
       "\t Q3 & 2019 & 27\\\\\n",
       "\t Q4 & 2019 & 29\\\\\n",
       "\\end{tabular}\n"
      ],
      "text/markdown": [
       "\n",
       "A data.frame: 4 × 3\n",
       "\n",
       "| Quarter &lt;chr&gt; | Year &lt;chr&gt; | revenue &lt;dbl&gt; |\n",
       "|---|---|---|\n",
       "| Q1 | 2019 | 23 |\n",
       "| Q2 | 2019 | 24 |\n",
       "| Q3 | 2019 | 27 |\n",
       "| Q4 | 2019 | 29 |\n",
       "\n"
      ],
      "text/plain": [
       "  Quarter Year revenue\n",
       "1 Q1      2019 23     \n",
       "2 Q2      2019 24     \n",
       "3 Q3      2019 27     \n",
       "4 Q4      2019 29     "
      ]
     },
     "metadata": {},
     "output_type": "display_data"
    }
   ],
   "source": [
    "df %>% separate(period, c(\"Quarter\",\"Year\"), sep=\"_y\") # El contario de separate es unite"
   ]
  },
  {
   "cell_type": "code",
   "execution_count": 139,
   "id": "868dba6d",
   "metadata": {
    "vscode": {
     "languageId": "r"
    }
   },
   "outputs": [
    {
     "data": {
      "text/html": [
       "<table class=\"dataframe\">\n",
       "<caption>A data.frame: 4 × 3</caption>\n",
       "<thead>\n",
       "\t<tr><th scope=col>Quarter</th><th scope=col>Year</th><th scope=col>revenue</th></tr>\n",
       "\t<tr><th scope=col>&lt;chr&gt;</th><th scope=col>&lt;chr&gt;</th><th scope=col>&lt;dbl&gt;</th></tr>\n",
       "</thead>\n",
       "<tbody>\n",
       "\t<tr><td>1</td><td>2019</td><td>23</td></tr>\n",
       "\t<tr><td>2</td><td>2019</td><td>24</td></tr>\n",
       "\t<tr><td>3</td><td>2019</td><td>27</td></tr>\n",
       "\t<tr><td>4</td><td>2019</td><td>29</td></tr>\n",
       "</tbody>\n",
       "</table>\n"
      ],
      "text/latex": [
       "A data.frame: 4 × 3\n",
       "\\begin{tabular}{lll}\n",
       " Quarter & Year & revenue\\\\\n",
       " <chr> & <chr> & <dbl>\\\\\n",
       "\\hline\n",
       "\t 1 & 2019 & 23\\\\\n",
       "\t 2 & 2019 & 24\\\\\n",
       "\t 3 & 2019 & 27\\\\\n",
       "\t 4 & 2019 & 29\\\\\n",
       "\\end{tabular}\n"
      ],
      "text/markdown": [
       "\n",
       "A data.frame: 4 × 3\n",
       "\n",
       "| Quarter &lt;chr&gt; | Year &lt;chr&gt; | revenue &lt;dbl&gt; |\n",
       "|---|---|---|\n",
       "| 1 | 2019 | 23 |\n",
       "| 2 | 2019 | 24 |\n",
       "| 3 | 2019 | 27 |\n",
       "| 4 | 2019 | 29 |\n",
       "\n"
      ],
      "text/plain": [
       "  Quarter Year revenue\n",
       "1 1       2019 23     \n",
       "2 2       2019 24     \n",
       "3 3       2019 27     \n",
       "4 4       2019 29     "
      ]
     },
     "metadata": {},
     "output_type": "display_data"
    }
   ],
   "source": [
    "ndf <- df %>% extract(period, c(\"Quarter\",\"Year\"), \"Q(.*)_y(.*)\") # Expresiones regulares... más adelante veremos esto\n",
    "ndf"
   ]
  },
  {
   "cell_type": "code",
   "execution_count": 152,
   "id": "90d1a729",
   "metadata": {
    "vscode": {
     "languageId": "r"
    }
   },
   "outputs": [
    {
     "data": {
      "text/html": [
       "<table class=\"dataframe\">\n",
       "<caption>A tibble: 3 × 4</caption>\n",
       "<thead>\n",
       "\t<tr><th scope=col>a</th><th scope=col>b</th><th scope=col>c</th><th scope=col>max_val</th></tr>\n",
       "\t<tr><th scope=col>&lt;dbl&gt;</th><th scope=col>&lt;dbl&gt;</th><th scope=col>&lt;dbl&gt;</th><th scope=col>&lt;dbl&gt;</th></tr>\n",
       "</thead>\n",
       "<tbody>\n",
       "\t<tr><td>1</td><td>4</td><td>7</td><td>7</td></tr>\n",
       "\t<tr><td>5</td><td>2</td><td>3</td><td>7</td></tr>\n",
       "\t<tr><td>3</td><td>6</td><td>1</td><td>7</td></tr>\n",
       "</tbody>\n",
       "</table>\n"
      ],
      "text/latex": [
       "A tibble: 3 × 4\n",
       "\\begin{tabular}{llll}\n",
       " a & b & c & max\\_val\\\\\n",
       " <dbl> & <dbl> & <dbl> & <dbl>\\\\\n",
       "\\hline\n",
       "\t 1 & 4 & 7 & 7\\\\\n",
       "\t 5 & 2 & 3 & 7\\\\\n",
       "\t 3 & 6 & 1 & 7\\\\\n",
       "\\end{tabular}\n"
      ],
      "text/markdown": [
       "\n",
       "A tibble: 3 × 4\n",
       "\n",
       "| a &lt;dbl&gt; | b &lt;dbl&gt; | c &lt;dbl&gt; | max_val &lt;dbl&gt; |\n",
       "|---|---|---|---|\n",
       "| 1 | 4 | 7 | 7 |\n",
       "| 5 | 2 | 3 | 7 |\n",
       "| 3 | 6 | 1 | 7 |\n",
       "\n"
      ],
      "text/plain": [
       "  a b c max_val\n",
       "1 1 4 7 7      \n",
       "2 5 2 3 7      \n",
       "3 3 6 1 7      "
      ]
     },
     "metadata": {},
     "output_type": "display_data"
    }
   ],
   "source": [
    "df <- tibble(\n",
    "  a = c(1, 5, 3),\n",
    "  b = c(4, 2, 6),\n",
    "  c = c(7, 3, 1)\n",
    ")\n",
    "\n",
    "# Sin rowwise... \n",
    "df %>% \n",
    "    mutate(max_val = max(a, b, c))  # Devuelve el mismo valor para todas las filas\n"
   ]
  },
  {
   "cell_type": "code",
   "execution_count": 151,
   "id": "9bb9bf12",
   "metadata": {
    "vscode": {
     "languageId": "r"
    }
   },
   "outputs": [
    {
     "data": {
      "text/html": [
       "<table class=\"dataframe\">\n",
       "<caption>A rowwise_df: 3 × 4</caption>\n",
       "<thead>\n",
       "\t<tr><th scope=col>a</th><th scope=col>b</th><th scope=col>c</th><th scope=col>max_val</th></tr>\n",
       "\t<tr><th scope=col>&lt;dbl&gt;</th><th scope=col>&lt;dbl&gt;</th><th scope=col>&lt;dbl&gt;</th><th scope=col>&lt;dbl&gt;</th></tr>\n",
       "</thead>\n",
       "<tbody>\n",
       "\t<tr><td>1</td><td>4</td><td>7</td><td>7</td></tr>\n",
       "\t<tr><td>5</td><td>2</td><td>3</td><td>5</td></tr>\n",
       "\t<tr><td>3</td><td>6</td><td>1</td><td>6</td></tr>\n",
       "</tbody>\n",
       "</table>\n"
      ],
      "text/latex": [
       "A rowwise\\_df: 3 × 4\n",
       "\\begin{tabular}{llll}\n",
       " a & b & c & max\\_val\\\\\n",
       " <dbl> & <dbl> & <dbl> & <dbl>\\\\\n",
       "\\hline\n",
       "\t 1 & 4 & 7 & 7\\\\\n",
       "\t 5 & 2 & 3 & 5\\\\\n",
       "\t 3 & 6 & 1 & 6\\\\\n",
       "\\end{tabular}\n"
      ],
      "text/markdown": [
       "\n",
       "A rowwise_df: 3 × 4\n",
       "\n",
       "| a &lt;dbl&gt; | b &lt;dbl&gt; | c &lt;dbl&gt; | max_val &lt;dbl&gt; |\n",
       "|---|---|---|---|\n",
       "| 1 | 4 | 7 | 7 |\n",
       "| 5 | 2 | 3 | 5 |\n",
       "| 3 | 6 | 1 | 6 |\n",
       "\n"
      ],
      "text/plain": [
       "  a b c max_val\n",
       "1 1 4 7 7      \n",
       "2 5 2 3 5      \n",
       "3 3 6 1 6      "
      ]
     },
     "metadata": {},
     "output_type": "display_data"
    }
   ],
   "source": [
    "# Con rowwise: calcula el máximo por fila\n",
    "df %>%\n",
    "  rowwise() %>%\n",
    "  mutate(max_val = max(a, b, c))\n"
   ]
  },
  {
   "cell_type": "markdown",
   "id": "030440f9",
   "metadata": {},
   "source": [
    "### Ejercicios Tidyverse\n",
    "1) Utiliza el dataset de `mtcars` y el paquete `tidyverse` para:\n",
    "    * Mostrar las 5 primeras filas del dataset\n",
    "    * Convertir la variables \"cyl\", \"gear\" y \"carb\" en factores y las variables \"vs\" y \"am\" en lógicas, y mostrar la estructura del dataset (usar este dataset transformado de aqui en adelante)\n",
    "    * Mostrar solo los coches con una potencia (\"hp\") mayor a 100\n",
    "    * Seleccionar solo las columnas \"mpg\", \"cyl\", \"hp\" y \"qsec\" del dataset\n",
    "    * Calcular la cantidad total de coches para cada valor único en la columna \"cyl\" (número de cilindros)\n",
    "    * Encontrar el modelo de coche con la mayor potencia (\"hp\") y mostrar su información completa\n",
    "    * Calcular el promedio de potencia de los coches con 8 cilindros\n",
    "2) Supongamos que tienes un data frame llamado `lego_sets` que contiene información sobre diferentes conjuntos de Lego, incluyendo el nombre del conjunto, el número de piezas, el tema y el año de lanzamiento:\n",
    "    * Filtra y muestra solo los conjuntos de Lego lanzados en el año 2020\n",
    "    * Encuentra y muestra el nombre y el número de piezas del conjunto de Lego más grande\n",
    "    * Calcula la cantidad total de piezas para cada tema y muéstralos en orden descendente por número de piezas\n",
    "    * Calcula cuántos conjuntos de Lego se lanzaron en cada año y muéstralo ordenado por año de forma ascendente\n",
    "    * Encuentra los 3 temas más populares (con más conjuntos) y muestra el número de conjuntos y el número total de piezas para cada uno de ellos\n",
    "\n",
    "<pre>\n",
    "# Generar datos ficticios\n",
    "nombres <- paste(\"Conjunto\", 1:80)\n",
    "piezas <- sample(50:1000, 80, replace = TRUE)\n",
    "temas <- sample(c(\"Ciudad\", \"Espacio\", \"Arquitectura\", \"Granja\", \"Dinosaurios\", \"Aventuras\", \"Piratas\"), 80, replace = TRUE)\n",
    "años <- sample(2000:2023, 80, replace = TRUE)\n",
    "\n",
    "# Crear el data frame\n",
    "lego_sets <- data.frame(\n",
    "  Set_Name = nombres,\n",
    "  Piece_Count = piezas,\n",
    "  Theme = temas,\n",
    "  Year = años\n",
    ")\n",
    "</pre>\n",
    "3) Dado un data frame llamado `bebidas` que contiene información sobre la edad, género, tipo de bebida y cantidad de copas consumidas por un grupo de personas, filtra y muestra únicamente a las mujeres mayores de 20 años. Para este suconjunto calcula la media, el máximo, la cantidad de copas totales y la desviación estándar de la edad para cada combinación de tipo de bebida. Finalemnte, agrega una nueva columna que indique cuántas personas se encuentran en cada grupo de tipo de bebida.\n",
    "\n",
    "<pre>\n",
    "# Generar datos ficticios\n",
    "num_elementos <- 100\n",
    "edades <- sample(18:70, num_elementos, replace = TRUE)\n",
    "sexos <- sample(c(\"Hombre\", \"Mujer\"), num_elementos, replace = TRUE)\n",
    "tipos_bebida <- sample(c(\"Cerveza\", \"Vino\", \"Refresco\", \"Cóctel\", \"Agua\"), num_elementos, replace = TRUE)\n",
    "cantidad_copas <- sample(1:5, num_elementos, replace = TRUE)\n",
    "\n",
    "# Crear el data frame de bebidas\n",
    "bebidas <- data.frame(\n",
    "  Edad = edades,\n",
    "  Sexo = sexos,\n",
    "  Bebida = tipos_bebida,\n",
    "  Copas = cantidad_copas\n",
    ")\n",
    "</pre>\n",
    "4) Dado un data frame llamado `peliculas`, indique los 2 géneros con mayor puntuación media por país pero solo de peliculas para mayores de 13 o superiores, que incluya el número de películas en ese género, su beneficio medio (ganancia-presupuesto), la desviación estándar de la puntuación y la puntuación media. Ordenar los resultados por puntuación media por país de forma descendente.\n",
    "\n",
    "<pre>\n",
    "# Crear un data frame con 150 filas\n",
    "num_filas <- 150\n",
    "\n",
    "# Generar datos ficticios\n",
    "set.seed(123)  # Para reproducibilidad\n",
    "paises <- sample(c(\"EE. UU.\", \"Reino Unido\", \"Francia\", \"España\", \"Italia\"), num_filas, replace = TRUE)\n",
    "nombres <- paste(\"Película\", 1:num_filas)\n",
    "años <- sample(1980:2023, num_filas, replace = TRUE)\n",
    "puntuaciones <- round(runif(num_filas, 1, 10), 1)\n",
    "tematicas <- sample(c(\"Acción\", \"Drama\", \"Comedia\", \"Ciencia Ficción\", \"Animación\"), num_filas, replace = TRUE)\n",
    "directores <- paste(\"Director\", 1:num_filas)\n",
    "companias <- sample(c(\"Warner Bros.\", \"Universal Pictures\", \"Disney\", \"Sony Pictures\", \"Paramount Pictures\"), num_filas, replace = TRUE)\n",
    "presupuestos <- round(runif(num_filas, 1000000, 50000000), 2)\n",
    "ganancias <- round(presupuestos * runif(num_filas, 0.5, 2.5), 2)\n",
    "ratings <- sample(c(\"G\", \"PG\", \"PG-13\", \"R\", \"NC-17\"), num_filas, replace = TRUE)  # Columna de rating ficticio\n",
    "\n",
    "# Crear el data frame\n",
    "peliculas <- data.frame(\n",
    "  País = paises,\n",
    "  Nombre = nombres,\n",
    "  Año = años,\n",
    "  Puntuación = puntuaciones,\n",
    "  Temática = tematicas,\n",
    "  Director = directores,\n",
    "  Compañía = companias,\n",
    "  Presupuesto = presupuestos,\n",
    "  Ganancia = ganancias,\n",
    "  Rating = ratings\n",
    ")\n",
    "</pre>\n",
    "5) Dado un conjunto de datos llamado notas que contiene información sobre las notas de los estudiantes en varias asignaturas, agrega una columna con la nota promedio de cada estudiante. Previamente reemplaza los valores faltantes con 0 (HINT: usa replace_na).\n",
    "\n",
    "<pre>\n",
    "# Generar datos ficticios\n",
    "estudiantes <- paste(\"Estudiante\", 1:50)\n",
    "notas_matematicas <- sample(c(NA, 5, 6, 7, 8, 9, 10), 50, replace = TRUE)\n",
    "notas_historia <- sample(c(NA, 4, 5, 6, 7, 8), 50, replace = TRUE)\n",
    "notas_ciencias <- sample(c(NA, 6, 7, 8, 9, 10), 50, replace = TRUE)\n",
    "\n",
    "# Crear el data frame\n",
    "notas <- data.frame(\n",
    "  Estudiante = estudiantes,\n",
    "  Nota_Matemáticas = notas_matematicas,\n",
    "  Nota_Historia = notas_historia,\n",
    "  Nota_Ciencias = notas_ciencias\n",
    ")\n",
    "</pre>"
   ]
  }
 ],
 "metadata": {
  "kernelspec": {
   "display_name": "R",
   "language": "R",
   "name": "ir"
  },
  "language_info": {
   "codemirror_mode": "r",
   "file_extension": ".r",
   "mimetype": "text/x-r-source",
   "name": "R",
   "pygments_lexer": "r",
   "version": "4.5.1"
  }
 },
 "nbformat": 4,
 "nbformat_minor": 5
}
