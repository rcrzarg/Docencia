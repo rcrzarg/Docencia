{
 "cells": [
  {
   "cell_type": "markdown",
   "id": "543be99c",
   "metadata": {},
   "source": [
    "# Introducción a la Programación para Ciencia de Datos\n",
    "## Lenguaje de programación R\n",
    "_Rocío Romero Zaliz_ - rocio@decsai.ugr.es"
   ]
  },
  {
   "cell_type": "markdown",
   "id": "038b1d7c",
   "metadata": {},
   "source": [
    "# Tidyverse\n",
    "Una colección de paquetes con una gramática, filosofía y estructura similar (https://tidyverse.tidyverse.org)\n",
    "\n",
    "<i>Wickham H, Averick M, Bryan J, Chang W, McGowan LD, François R, Grolemund G, Hayes A, Henry L, Hester J, Kuhn M, Pedersen TL, Miller E, Bache SM, Müller K, Ooms J, Robinson D, Seidel DP, Spinu V, Takahashi K, Vaughan D, Wilke C, Woo K, Yutani H (2019). “Welcome to the tidyverse.” Journal of Open Source Software, 4(43), 1686. doi:10.21105/joss.01686.</i>"
   ]
  },
  {
   "cell_type": "code",
   "execution_count": null,
   "id": "3e7c406b",
   "metadata": {
    "vscode": {
     "languageId": "r"
    }
   },
   "outputs": [],
   "source": [
    "# Carga del paquete\n",
    "library(tidyverse)"
   ]
  },
  {
   "cell_type": "markdown",
   "id": "bcfbc582",
   "metadata": {},
   "source": [
    "## Cheatsheets\n",
    "https://posit.co/resources/cheatsheets/"
   ]
  },
  {
   "cell_type": "code",
   "execution_count": null,
   "id": "ee8ac1e4",
   "metadata": {
    "vscode": {
     "languageId": "r"
    }
   },
   "outputs": [],
   "source": [
    "class(mtcars)"
   ]
  },
  {
   "cell_type": "code",
   "execution_count": null,
   "id": "3c808598",
   "metadata": {
    "vscode": {
     "languageId": "r"
    }
   },
   "outputs": [],
   "source": [
    "mtcars"
   ]
  },
  {
   "cell_type": "markdown",
   "id": "e3f8c2dc",
   "metadata": {},
   "source": [
    "## Pipeline (%>%) - paquete magrittr\n",
    "Operador que sirve para realizar varias operaciones de forma secuencial sin recurrir a parentesis anidados o a sobrescribir bases de datos."
   ]
  },
  {
   "cell_type": "code",
   "execution_count": null,
   "id": "5c21ac4b",
   "metadata": {
    "vscode": {
     "languageId": "r"
    }
   },
   "outputs": [],
   "source": [
    "# Sin magrittr\n",
    "x <- c(1, 4, 6, 8)\n",
    "y <- round(mean(sqrt(log(x))), 2)\n",
    "y"
   ]
  },
  {
   "cell_type": "code",
   "execution_count": null,
   "id": "ce42b49b",
   "metadata": {
    "vscode": {
     "languageId": "r"
    }
   },
   "outputs": [],
   "source": [
    "# Con magrittr\n",
    "# library(magrittr)\n",
    "x <- c(1, 4, 6, 8)\n",
    "y <- x %>% log() %>% sqrt() %>% mean() %>% round(2)\n",
    "y"
   ]
  },
  {
   "cell_type": "code",
   "execution_count": null,
   "id": "0af0e64d",
   "metadata": {
    "vscode": {
     "languageId": "r"
    }
   },
   "outputs": [],
   "source": [
    "# Con magrittr\n",
    "x <- c(1, 4, 6, 8)\n",
    "y <- x %>% log %>% sqrt %>% mean %>% round(2)\n",
    "y"
   ]
  },
  {
   "cell_type": "markdown",
   "id": "056e9eb5",
   "metadata": {},
   "source": [
    "## Paquete dplyr\n",
    "dplyr es un paquete de R para manipular, limpiar y resumir datos no estructurados. Facilita y agiliza la exploración y manipulación de datos en R."
   ]
  },
  {
   "cell_type": "code",
   "execution_count": null,
   "id": "8388e7e3",
   "metadata": {
    "vscode": {
     "languageId": "r"
    }
   },
   "outputs": [],
   "source": [
    "# Vamos a trabajar con un conjunto de datos ya creado\n",
    "# library(dplyr)\n",
    "starwars %>% print"
   ]
  },
  {
   "cell_type": "code",
   "execution_count": null,
   "id": "f733d208",
   "metadata": {
    "vscode": {
     "languageId": "r"
    }
   },
   "outputs": [],
   "source": [
    "class(starwars)"
   ]
  },
  {
   "cell_type": "code",
   "execution_count": null,
   "id": "a604037f",
   "metadata": {
    "vscode": {
     "languageId": "r"
    }
   },
   "outputs": [],
   "source": [
    "mtcars$pepe"
   ]
  },
  {
   "cell_type": "code",
   "execution_count": null,
   "id": "ff75a1e5",
   "metadata": {
    "vscode": {
     "languageId": "r"
    }
   },
   "outputs": [],
   "source": [
    "# Tibble: si accedes a una columna que no existe te avisa...\n",
    "starwars$pepe"
   ]
  },
  {
   "cell_type": "code",
   "execution_count": null,
   "id": "3f7cb519",
   "metadata": {
    "vscode": {
     "languageId": "r"
    }
   },
   "outputs": [],
   "source": [
    "starwars %>% str"
   ]
  },
  {
   "cell_type": "code",
   "execution_count": null,
   "id": "f52e3e08",
   "metadata": {
    "vscode": {
     "languageId": "r"
    }
   },
   "outputs": [],
   "source": [
    "mtcars$pepe <- starwars$films"
   ]
  },
  {
   "cell_type": "markdown",
   "id": "0d92fe19",
   "metadata": {},
   "source": [
    "### filter()\n",
    "Selecciona filas en un data frame"
   ]
  },
  {
   "cell_type": "code",
   "execution_count": null,
   "id": "efc748ea",
   "metadata": {
    "vscode": {
     "languageId": "r"
    }
   },
   "outputs": [],
   "source": [
    "mtcars[mtcars$hp > 100,]"
   ]
  },
  {
   "cell_type": "code",
   "execution_count": null,
   "id": "2cf89f3c",
   "metadata": {
    "scrolled": true,
    "vscode": {
     "languageId": "r"
    }
   },
   "outputs": [],
   "source": [
    "# Busco a los andorides...\n",
    "# Fuera del tidyverso\n",
    "print(starwars[!is.na(starwars$species) & starwars$species == \"Droid\",])"
   ]
  },
  {
   "cell_type": "code",
   "execution_count": null,
   "id": "ea17d051",
   "metadata": {
    "scrolled": true,
    "vscode": {
     "languageId": "r"
    }
   },
   "outputs": [],
   "source": [
    "# Dentro del tidyverso\n",
    "starwars %>% filter(species == \"Droid\") %>% print"
   ]
  },
  {
   "cell_type": "code",
   "execution_count": null,
   "id": "7b1b72c6",
   "metadata": {
    "vscode": {
     "languageId": "r"
    }
   },
   "outputs": [],
   "source": [
    "filter(starwars, species == \"Droid\") %>% print"
   ]
  },
  {
   "cell_type": "code",
   "execution_count": null,
   "id": "18743e90",
   "metadata": {
    "vscode": {
     "languageId": "r"
    }
   },
   "outputs": [],
   "source": [
    "starwars %>% filter(species == \"Droid\") %>% filter(homeworld == \"Naboo\") %>% print"
   ]
  },
  {
   "cell_type": "code",
   "execution_count": null,
   "id": "b3697e55",
   "metadata": {
    "vscode": {
     "languageId": "r"
    }
   },
   "outputs": [],
   "source": [
    "starwars %>% filter(species == \"Droid\") %>% filter(height < 100) %>% print"
   ]
  },
  {
   "cell_type": "code",
   "execution_count": null,
   "id": "10e7d704",
   "metadata": {
    "vscode": {
     "languageId": "r"
    }
   },
   "outputs": [],
   "source": [
    "starwars %>% filter(species == \"Droid\") %>%\n",
    "    filter(height < 100 | is.na(height)) %>% print"
   ]
  },
  {
   "cell_type": "code",
   "execution_count": null,
   "id": "c67fa296",
   "metadata": {
    "vscode": {
     "languageId": "r"
    }
   },
   "outputs": [],
   "source": [
    "starwars %>% filter(species == \"Droid\") %>%\n",
    "    filter(height >= 96 & height < 200) %>% print"
   ]
  },
  {
   "cell_type": "code",
   "execution_count": null,
   "id": "3408ef4d",
   "metadata": {
    "vscode": {
     "languageId": "r"
    }
   },
   "outputs": [],
   "source": [
    "starwars %>% filter(species == \"Droid\", height >= 96 & height < 200) %>% print"
   ]
  },
  {
   "cell_type": "code",
   "execution_count": null,
   "id": "d2fdf711",
   "metadata": {
    "vscode": {
     "languageId": "r"
    }
   },
   "outputs": [],
   "source": [
    "starwars %>% filter(species == \"Droid\") %>% \n",
    "    filter(height >= 96 & homeworld %in% c(\"Naboo\", \"Tatooine\")) %>% print"
   ]
  },
  {
   "cell_type": "code",
   "execution_count": null,
   "id": "164ab761",
   "metadata": {
    "vscode": {
     "languageId": "r"
    }
   },
   "outputs": [],
   "source": [
    "print(starwars[10:15,])"
   ]
  },
  {
   "cell_type": "code",
   "execution_count": null,
   "id": "c6732a38",
   "metadata": {
    "vscode": {
     "languageId": "r"
    }
   },
   "outputs": [],
   "source": [
    "starwars %>% slice(10:15) %>% print"
   ]
  },
  {
   "cell_type": "code",
   "execution_count": null,
   "id": "fc7e3fbd",
   "metadata": {
    "vscode": {
     "languageId": "r"
    }
   },
   "outputs": [],
   "source": [
    "starwars %>% slice_max(n=5, height) %>% print # slice_max"
   ]
  },
  {
   "cell_type": "code",
   "execution_count": null,
   "id": "914fbece",
   "metadata": {
    "vscode": {
     "languageId": "r"
    }
   },
   "outputs": [],
   "source": [
    "starwars %>% slice_min(n=5, height) %>% print # slice_min, antiguamente top_n"
   ]
  },
  {
   "cell_type": "markdown",
   "id": "16011347",
   "metadata": {},
   "source": [
    "### select()\n",
    "Permite seleccionar variables (columnas) del data frame"
   ]
  },
  {
   "cell_type": "code",
   "execution_count": null,
   "id": "6ed6c1cc",
   "metadata": {
    "vscode": {
     "languageId": "r"
    }
   },
   "outputs": [],
   "source": [
    "print(starwars[,c(\"name\",\"homeworld\")])"
   ]
  },
  {
   "cell_type": "code",
   "execution_count": null,
   "id": "d2890181",
   "metadata": {
    "scrolled": true,
    "vscode": {
     "languageId": "r"
    }
   },
   "outputs": [],
   "source": [
    "starwars %>% select(name, homeworld)"
   ]
  },
  {
   "cell_type": "code",
   "execution_count": null,
   "id": "2190176f",
   "metadata": {
    "vscode": {
     "languageId": "r"
    }
   },
   "outputs": [],
   "source": [
    "starwars %>% select(-name, -homeworld) %>% print"
   ]
  },
  {
   "cell_type": "code",
   "execution_count": null,
   "id": "643d6509",
   "metadata": {
    "vscode": {
     "languageId": "r"
    }
   },
   "outputs": [],
   "source": [
    "starwars %>% select(starts_with(\"s\")) %>% head(5) %>% print"
   ]
  },
  {
   "cell_type": "code",
   "execution_count": null,
   "id": "b4a1721a",
   "metadata": {
    "vscode": {
     "languageId": "r"
    }
   },
   "outputs": [],
   "source": [
    "starwars %>% select(ends_with(\"es\")) %>% head(5) %>% print"
   ]
  },
  {
   "cell_type": "code",
   "execution_count": null,
   "id": "4a2d357e",
   "metadata": {
    "vscode": {
     "languageId": "r"
    }
   },
   "outputs": [],
   "source": [
    "starwars %>% select(contains(\"a\")) %>% head(5) %>% print"
   ]
  },
  {
   "cell_type": "code",
   "execution_count": null,
   "id": "f6f01eba",
   "metadata": {
    "scrolled": true,
    "vscode": {
     "languageId": "r"
    }
   },
   "outputs": [],
   "source": [
    "starwars %>% select(name)"
   ]
  },
  {
   "cell_type": "code",
   "execution_count": null,
   "id": "e19a4262",
   "metadata": {
    "vscode": {
     "languageId": "r"
    }
   },
   "outputs": [],
   "source": [
    "starwars %>% pull(name)"
   ]
  },
  {
   "cell_type": "code",
   "execution_count": null,
   "id": "4a0d2045",
   "metadata": {
    "vscode": {
     "languageId": "r"
    }
   },
   "outputs": [],
   "source": [
    "class(starwars %>% pull(name))"
   ]
  },
  {
   "cell_type": "markdown",
   "id": "7e3c4e42",
   "metadata": {},
   "source": [
    "### arrange()\n",
    "Reordena filas en un data frame"
   ]
  },
  {
   "cell_type": "code",
   "execution_count": null,
   "id": "84ddfd45",
   "metadata": {
    "vscode": {
     "languageId": "r"
    }
   },
   "outputs": [],
   "source": [
    "starwars %>% arrange(height) %>% print"
   ]
  },
  {
   "cell_type": "code",
   "execution_count": null,
   "id": "3c985ccd",
   "metadata": {
    "vscode": {
     "languageId": "r"
    }
   },
   "outputs": [],
   "source": [
    "starwars %>% arrange(desc(height)) %>% print"
   ]
  },
  {
   "cell_type": "code",
   "execution_count": null,
   "id": "ec7ef918",
   "metadata": {
    "vscode": {
     "languageId": "r"
    }
   },
   "outputs": [],
   "source": [
    "starwars %>% arrange(height, desc(birth_year)) %>% print"
   ]
  },
  {
   "cell_type": "markdown",
   "id": "0f813537",
   "metadata": {},
   "source": [
    "### rename()\n",
    "Renombra columnas en un data frame"
   ]
  },
  {
   "cell_type": "code",
   "execution_count": null,
   "id": "0a43eea6",
   "metadata": {
    "vscode": {
     "languageId": "r"
    }
   },
   "outputs": [],
   "source": [
    "starwars %>% rename(hair = hair_color) %>% print"
   ]
  },
  {
   "cell_type": "markdown",
   "id": "e3b661ea",
   "metadata": {},
   "source": [
    "###  mutate()\n",
    "Crea nueva columnas en un data frame o actualiza las ya existentes"
   ]
  },
  {
   "cell_type": "code",
   "execution_count": null,
   "id": "54588f43",
   "metadata": {
    "vscode": {
     "languageId": "r"
    }
   },
   "outputs": [],
   "source": [
    "starwars %>%\n",
    "    mutate(height_in = height * 0.393701) %>% \n",
    "    select(starts_with(\"he\")) %>% head(5)"
   ]
  },
  {
   "cell_type": "code",
   "execution_count": null,
   "id": "f81c79b8",
   "metadata": {
    "vscode": {
     "languageId": "r"
    }
   },
   "outputs": [],
   "source": [
    "starwars %>% select(sex) %>% head(5)"
   ]
  },
  {
   "cell_type": "code",
   "execution_count": null,
   "id": "da068290",
   "metadata": {
    "vscode": {
     "languageId": "r"
    }
   },
   "outputs": [],
   "source": [
    "starwars %>% \n",
    "    mutate(sex = as.factor(sex), height = 1) %>% print"
   ]
  },
  {
   "cell_type": "markdown",
   "id": "fd9e510d",
   "metadata": {},
   "source": [
    "También existen funciones `mutate_if` y `mutate_at`."
   ]
  },
  {
   "cell_type": "code",
   "execution_count": null,
   "id": "aa462733",
   "metadata": {
    "vscode": {
     "languageId": "r"
    }
   },
   "outputs": [],
   "source": [
    "starwars %>% mutate_if(is.character, as.factor) %>% print"
   ]
  },
  {
   "cell_type": "code",
   "execution_count": null,
   "id": "49cbe166",
   "metadata": {
    "vscode": {
     "languageId": "r"
    }
   },
   "outputs": [],
   "source": [
    "starwars %>% mutate_at(c(\"name\",\"sex\"), as.factor) %>% print"
   ]
  },
  {
   "cell_type": "markdown",
   "id": "a14686c5",
   "metadata": {},
   "source": [
    "### summarise()/summarize()\n",
    "Permite colapsar/resumir filas en un data frame"
   ]
  },
  {
   "cell_type": "code",
   "execution_count": null,
   "id": "9ea70bc8",
   "metadata": {
    "vscode": {
     "languageId": "r"
    }
   },
   "outputs": [],
   "source": [
    "summary(starwars)"
   ]
  },
  {
   "cell_type": "code",
   "execution_count": null,
   "id": "7bbff6d8",
   "metadata": {
    "vscode": {
     "languageId": "r"
    }
   },
   "outputs": [],
   "source": [
    "starwars$height"
   ]
  },
  {
   "cell_type": "code",
   "execution_count": null,
   "id": "d1a669b0",
   "metadata": {
    "vscode": {
     "languageId": "r"
    }
   },
   "outputs": [],
   "source": [
    "starwars$height %>% mean(na.rm=TRUE)"
   ]
  },
  {
   "cell_type": "code",
   "execution_count": null,
   "id": "7bc03ab5",
   "metadata": {
    "vscode": {
     "languageId": "r"
    }
   },
   "outputs": [],
   "source": [
    "starwars %>% summarise(promedio = mean(height, na.rm=TRUE), NN = n(), desv = sd(mass))\n",
    "# SELECT AVG(height) AS promedio, COUNT(*) AS NN, SD(mass) AS desv FROM starwars"
   ]
  },
  {
   "cell_type": "code",
   "execution_count": null,
   "id": "b608cb95",
   "metadata": {
    "vscode": {
     "languageId": "r"
    }
   },
   "outputs": [],
   "source": [
    "starwars %>% filter(species == \"Droid\") %>% summarise(NN = n())\n",
    "# SELECT COUNT(*) FROM starwars WHERE species='Droid'"
   ]
  },
  {
   "cell_type": "code",
   "execution_count": null,
   "id": "4d477eba",
   "metadata": {
    "vscode": {
     "languageId": "r"
    }
   },
   "outputs": [],
   "source": [
    "starwars %>% filter(species == \"Droid\") %>% count"
   ]
  },
  {
   "cell_type": "code",
   "execution_count": null,
   "id": "8a89e7a5",
   "metadata": {
    "vscode": {
     "languageId": "r"
    }
   },
   "outputs": [],
   "source": [
    "starwars %>% summarise(desviacion_tipica = sd(height, na.rm=TRUE))"
   ]
  },
  {
   "cell_type": "code",
   "execution_count": null,
   "id": "37cc5865",
   "metadata": {
    "vscode": {
     "languageId": "r"
    }
   },
   "outputs": [],
   "source": [
    "starwars %>% summarise(max(mass, na.rm=TRUE))"
   ]
  },
  {
   "cell_type": "code",
   "execution_count": null,
   "id": "c194b94f",
   "metadata": {
    "vscode": {
     "languageId": "r"
    }
   },
   "outputs": [],
   "source": [
    "starwars %>% summarise(mean = mean(height, na.rm=TRUE), sd = sd(height, na.rm=TRUE))"
   ]
  },
  {
   "cell_type": "code",
   "execution_count": null,
   "id": "0ee83fa7",
   "metadata": {
    "vscode": {
     "languageId": "r"
    }
   },
   "outputs": [],
   "source": [
    "starwars$species %>% unique %>% length"
   ]
  },
  {
   "cell_type": "code",
   "execution_count": null,
   "id": "54c42d2a",
   "metadata": {
    "vscode": {
     "languageId": "r"
    }
   },
   "outputs": [],
   "source": [
    "starwars %>% summarise(n(), mean(mass, na.rm = TRUE)) # Que feo escribir n() y mean() sin alias"
   ]
  },
  {
   "cell_type": "code",
   "execution_count": null,
   "id": "f629d6b3",
   "metadata": {
    "scrolled": true,
    "vscode": {
     "languageId": "r"
    }
   },
   "outputs": [],
   "source": [
    "# Atención que se vienen curvas...\n",
    "starwars %>%\n",
    "        group_by(species) %>%\n",
    "        summarise(n = n(), mass = mean(mass, na.rm = TRUE))"
   ]
  },
  {
   "cell_type": "code",
   "execution_count": null,
   "id": "86b85a59",
   "metadata": {
    "vscode": {
     "languageId": "r"
    }
   },
   "outputs": [],
   "source": [
    "starwars %>% \n",
    "    group_by(species) %>% \n",
    "    summarise(n = n(), mass = mean(mass, na.rm = TRUE)) %>% \n",
    "    filter(n > 2, mass > 50)"
   ]
  },
  {
   "cell_type": "markdown",
   "id": "e8f88aa9",
   "metadata": {},
   "source": [
    "Más funciones útiles para usar con sumarise():\n",
    "* Center: mean(), median()\n",
    "* Spread: sd(), IQR(), mad()\n",
    "* Range: min(), max(), quantile()\n",
    "* Position: first(), last(), nth()\n",
    "* Count: n(), n_distinct()\n",
    "* Logical: any(), all()"
   ]
  },
  {
   "cell_type": "code",
   "execution_count": null,
   "id": "50c05d19",
   "metadata": {
    "vscode": {
     "languageId": "r"
    }
   },
   "outputs": [],
   "source": [
    "starwars %>% summarise_if(is.numeric, mean, na.rm = TRUE)"
   ]
  },
  {
   "cell_type": "code",
   "execution_count": null,
   "id": "b07a66f9",
   "metadata": {
    "vscode": {
     "languageId": "r"
    }
   },
   "outputs": [],
   "source": [
    "starwars %>% summarise_if(is.numeric, list(prom=mean,sd=sd), na.rm = TRUE)"
   ]
  },
  {
   "cell_type": "code",
   "execution_count": null,
   "id": "0a616b18",
   "metadata": {
    "vscode": {
     "languageId": "r"
    }
   },
   "outputs": [],
   "source": [
    "starwars %>% \n",
    "    summarise_at(c(\"height\",\"mass\"), mean, na.rm = TRUE)"
   ]
  },
  {
   "cell_type": "code",
   "execution_count": null,
   "id": "bfe912fa",
   "metadata": {
    "vscode": {
     "languageId": "r"
    }
   },
   "outputs": [],
   "source": [
    "starwars %>% \n",
    "    summarise_at(vars(height,mass), mean, na.rm = TRUE)"
   ]
  },
  {
   "cell_type": "code",
   "execution_count": null,
   "id": "c48cb24d",
   "metadata": {
    "vscode": {
     "languageId": "r"
    }
   },
   "outputs": [],
   "source": [
    "starwars %>% \n",
    "    summarise_at(vars(height,mass), list(mean,sd), na.rm = TRUE)"
   ]
  },
  {
   "cell_type": "code",
   "execution_count": null,
   "id": "126b78c3",
   "metadata": {
    "vscode": {
     "languageId": "r"
    }
   },
   "outputs": [],
   "source": [
    "starwars %>% select(height, mass, birth_year) %>%\n",
    "    summarise_all(list(minimo = min, maximo = max), na.rm = TRUE)"
   ]
  },
  {
   "cell_type": "markdown",
   "id": "fd840a55",
   "metadata": {},
   "source": [
    "### across()\n",
    "Se utiliza para aplicar una operación a varias columnas de un data frame de manera simultánea. Esta es una versión más moderna y más legible."
   ]
  },
  {
   "cell_type": "code",
   "execution_count": null,
   "id": "ffa2d7dc",
   "metadata": {
    "vscode": {
     "languageId": "r"
    }
   },
   "outputs": [],
   "source": [
    "starwars %>% select(height) %>% unique"
   ]
  },
  {
   "cell_type": "code",
   "execution_count": null,
   "id": "ba6d7362",
   "metadata": {
    "scrolled": true,
    "vscode": {
     "languageId": "r"
    }
   },
   "outputs": [],
   "source": [
    "starwars %>% \n",
    "  group_by(species) %>% \n",
    "  filter(n() > 1) %>% # ¡Ojo! usad parentesis si no os lía con la función n()\n",
    "  summarise(across(c(sex, gender, homeworld), n_distinct))"
   ]
  },
  {
   "cell_type": "code",
   "execution_count": null,
   "id": "4a526662",
   "metadata": {
    "vscode": {
     "languageId": "r"
    }
   },
   "outputs": [],
   "source": [
    "starwars %>% \n",
    "  group_by(species) %>% \n",
    "  filter(n() > 1) %>% \n",
    "  summarise(across(c(sex, gender, homeworld), list(n_distinct,length))) # WTF? length vs. n"
   ]
  },
  {
   "cell_type": "code",
   "execution_count": null,
   "id": "537e09aa",
   "metadata": {
    "vscode": {
     "languageId": "r"
    }
   },
   "outputs": [],
   "source": [
    "starwars %>% n_distinct"
   ]
  },
  {
   "cell_type": "code",
   "execution_count": null,
   "id": "ba5ca8fa",
   "metadata": {
    "vscode": {
     "languageId": "r"
    }
   },
   "outputs": [],
   "source": [
    "starwars %>% n"
   ]
  },
  {
   "cell_type": "code",
   "execution_count": null,
   "id": "e1d4594b",
   "metadata": {
    "vscode": {
     "languageId": "r"
    }
   },
   "outputs": [],
   "source": [
    "starwars %>% length"
   ]
  },
  {
   "cell_type": "code",
   "execution_count": null,
   "id": "49db19b9",
   "metadata": {
    "vscode": {
     "languageId": "r"
    }
   },
   "outputs": [],
   "source": [
    "dim(starwars)"
   ]
  },
  {
   "cell_type": "markdown",
   "id": "da50da2e",
   "metadata": {},
   "source": [
    "## Extra"
   ]
  },
  {
   "cell_type": "code",
   "execution_count": null,
   "id": "84cdba10",
   "metadata": {
    "vscode": {
     "languageId": "r"
    }
   },
   "outputs": [],
   "source": [
    "df <- data.frame(period=c(\"Q1_y2019\",\"Q2_y2019\", \"Q3_y2019\",\"Q4_y2019\"), revenue=c(23,24,27,29))\n",
    "df"
   ]
  },
  {
   "cell_type": "code",
   "execution_count": null,
   "id": "9fa75548",
   "metadata": {
    "vscode": {
     "languageId": "r"
    }
   },
   "outputs": [],
   "source": [
    "df %>% separate(period, c(\"Quarter\",\"Year\"), sep=\"_y\") # El contario de separate es unite"
   ]
  },
  {
   "cell_type": "code",
   "execution_count": null,
   "id": "868dba6d",
   "metadata": {
    "vscode": {
     "languageId": "r"
    }
   },
   "outputs": [],
   "source": [
    "# Expresiones regulares... más adelante veremos esto\n",
    "ndf <- df %>% extract(period, c(\"Quarter\",\"Year\"), \"Q(.*)_y(.*)\") %>%\n",
    "    mutate_if(is.character, as.numeric)\n",
    "ndf"
   ]
  },
  {
   "cell_type": "code",
   "execution_count": null,
   "id": "90d1a729",
   "metadata": {
    "vscode": {
     "languageId": "r"
    }
   },
   "outputs": [],
   "source": [
    "df <- tibble(\n",
    "  a = c(1, 5, 3),\n",
    "  b = c(4, 2, 6),\n",
    "  c = c(7, 3, 1)\n",
    ")\n",
    "\n",
    "# Sin rowwise... \n",
    "df %>% \n",
    "    mutate(max_val = max(a, b, c))  # Devuelve el mismo valor para todas las filas\n"
   ]
  },
  {
   "cell_type": "code",
   "execution_count": null,
   "id": "9bb9bf12",
   "metadata": {
    "vscode": {
     "languageId": "r"
    }
   },
   "outputs": [],
   "source": [
    "# Con rowwise: calcula el máximo por fila\n",
    "df %>%\n",
    "  filter(a > 1) %>%\n",
    "  rowwise() %>%\n",
    "  mutate(max_val = max(a, b, c))\n"
   ]
  },
  {
   "cell_type": "markdown",
   "id": "030440f9",
   "metadata": {},
   "source": [
    "### Ejercicios Tidyverse\n",
    "1) Utiliza el dataset de `mtcars` y el paquete `tidyverse` para:\n",
    "    * Mostrar las 5 primeras filas del dataset\n",
    "    * Convertir la variables \"cyl\", \"gear\" y \"carb\" en factores y las variables \"vs\" y \"am\" en lógicas, y mostrar la estructura del dataset (usar este dataset transformado de aqui en adelante)\n",
    "    * Mostrar solo los coches con una potencia (\"hp\") mayor a 100\n",
    "    * Seleccionar solo las columnas \"mpg\", \"cyl\", \"hp\" y \"qsec\" del dataset\n",
    "    * Calcular la cantidad total de coches para cada valor único en la columna \"cyl\" (número de cilindros)\n",
    "    * Encontrar el modelo de coche con la mayor potencia (\"hp\") y mostrar su información completa\n",
    "    * Calcular el promedio de potencia de los coches con 8 cilindros\n",
    "2) Supongamos que tienes un data frame llamado `lego_sets` que contiene información sobre diferentes conjuntos de Lego, incluyendo el nombre del conjunto, el número de piezas, el tema y el año de lanzamiento:\n",
    "    * Filtra y muestra solo los conjuntos de Lego lanzados en el año 2020\n",
    "    * Encuentra y muestra el nombre y el número de piezas del conjunto de Lego más grande\n",
    "    * Calcula la cantidad total de piezas para cada tema y muéstralos en orden descendente por número de piezas\n",
    "    * Calcula cuántos conjuntos de Lego se lanzaron en cada año y muéstralo ordenado por año de forma ascendente\n",
    "    * Encuentra los 3 temas más populares (con más conjuntos) y muestra el número de conjuntos y el número total de piezas para cada uno de ellos\n",
    "\n",
    "<pre>\n",
    "# Generar datos ficticios\n",
    "nombres <- paste(\"Conjunto\", 1:80)\n",
    "piezas <- sample(50:1000, 80, replace = TRUE)\n",
    "temas <- sample(c(\"Ciudad\", \"Espacio\", \"Arquitectura\", \"Granja\", \"Dinosaurios\", \"Aventuras\", \"Piratas\"), 80, replace = TRUE)\n",
    "años <- sample(2000:2023, 80, replace = TRUE)\n",
    "\n",
    "# Crear el data frame\n",
    "lego_sets <- data.frame(\n",
    "  Set_Name = nombres,\n",
    "  Piece_Count = piezas,\n",
    "  Theme = temas,\n",
    "  Year = años\n",
    ")\n",
    "</pre>\n",
    "3) Dado un data frame llamado `bebidas` que contiene información sobre la edad, género, tipo de bebida y cantidad de copas consumidas por un grupo de personas, filtra y muestra únicamente a las mujeres mayores de 20 años. Para este suconjunto calcula la media, el máximo, la cantidad de copas totales y la desviación estándar de la edad para cada combinación de tipo de bebida. Finalemnte, agrega una nueva columna que indique cuántas personas se encuentran en cada grupo de tipo de bebida.\n",
    "\n",
    "<pre>\n",
    "# Generar datos ficticios\n",
    "num_elementos <- 100\n",
    "edades <- sample(18:70, num_elementos, replace = TRUE)\n",
    "sexos <- sample(c(\"Hombre\", \"Mujer\"), num_elementos, replace = TRUE)\n",
    "tipos_bebida <- sample(c(\"Cerveza\", \"Vino\", \"Refresco\", \"Cóctel\", \"Agua\"), num_elementos, replace = TRUE)\n",
    "cantidad_copas <- sample(1:5, num_elementos, replace = TRUE)\n",
    "\n",
    "# Crear el data frame de bebidas\n",
    "bebidas <- data.frame(\n",
    "  Edad = edades,\n",
    "  Sexo = sexos,\n",
    "  Bebida = tipos_bebida,\n",
    "  Copas = cantidad_copas\n",
    ")\n",
    "</pre>\n",
    "4) Dado un data frame llamado `peliculas`, indique los 2 géneros con mayor puntuación media por país pero solo de peliculas para mayores de 13 o superiores, que incluya el número de películas en ese género, su beneficio medio (ganancia-presupuesto), la desviación estándar de la puntuación y la puntuación media. Ordenar los resultados por puntuación media por país de forma descendente.\n",
    "\n",
    "<pre>\n",
    "# Crear un data frame con 150 filas\n",
    "num_filas <- 150\n",
    "\n",
    "# Generar datos ficticios\n",
    "set.seed(123)  # Para reproducibilidad\n",
    "paises <- sample(c(\"EE. UU.\", \"Reino Unido\", \"Francia\", \"España\", \"Italia\"), num_filas, replace = TRUE)\n",
    "nombres <- paste(\"Película\", 1:num_filas)\n",
    "años <- sample(1980:2023, num_filas, replace = TRUE)\n",
    "puntuaciones <- round(runif(num_filas, 1, 10), 1)\n",
    "tematicas <- sample(c(\"Acción\", \"Drama\", \"Comedia\", \"Ciencia Ficción\", \"Animación\"), num_filas, replace = TRUE)\n",
    "directores <- paste(\"Director\", 1:num_filas)\n",
    "companias <- sample(c(\"Warner Bros.\", \"Universal Pictures\", \"Disney\", \"Sony Pictures\", \"Paramount Pictures\"), num_filas, replace = TRUE)\n",
    "presupuestos <- round(runif(num_filas, 1000000, 50000000), 2)\n",
    "ganancias <- round(presupuestos * runif(num_filas, 0.5, 2.5), 2)\n",
    "ratings <- sample(c(\"G\", \"PG\", \"PG-13\", \"R\", \"NC-17\"), num_filas, replace = TRUE)  # Columna de rating ficticio\n",
    "\n",
    "# Crear el data frame\n",
    "peliculas <- data.frame(\n",
    "  País = paises,\n",
    "  Nombre = nombres,\n",
    "  Año = años,\n",
    "  Puntuación = puntuaciones,\n",
    "  Temática = tematicas,\n",
    "  Director = directores,\n",
    "  Compañía = companias,\n",
    "  Presupuesto = presupuestos,\n",
    "  Ganancia = ganancias,\n",
    "  Rating = ratings\n",
    ")\n",
    "</pre>\n",
    "5) Dado un conjunto de datos llamado notas que contiene información sobre las notas de los estudiantes en varias asignaturas, agrega una columna con la nota promedio de cada estudiante. Previamente reemplaza los valores faltantes con 0 (HINT: usa replace_na).\n",
    "\n",
    "<pre>\n",
    "# Generar datos ficticios\n",
    "estudiantes <- paste(\"Estudiante\", 1:50)\n",
    "notas_matematicas <- sample(c(NA, 5, 6, 7, 8, 9, 10), 50, replace = TRUE)\n",
    "notas_historia <- sample(c(NA, 4, 5, 6, 7, 8), 50, replace = TRUE)\n",
    "notas_ciencias <- sample(c(NA, 6, 7, 8, 9, 10), 50, replace = TRUE)\n",
    "\n",
    "# Crear el data frame\n",
    "notas <- data.frame(\n",
    "  Estudiante = estudiantes,\n",
    "  Nota_Matemáticas = notas_matematicas,\n",
    "  Nota_Historia = notas_historia,\n",
    "  Nota_Ciencias = notas_ciencias\n",
    ")\n",
    "</pre>"
   ]
  },
  {
   "cell_type": "markdown",
   "id": "7b477d11",
   "metadata": {},
   "source": [
    "## Practicando..."
   ]
  },
  {
   "cell_type": "code",
   "execution_count": null,
   "id": "60e16d87",
   "metadata": {
    "vscode": {
     "languageId": "r"
    }
   },
   "outputs": [],
   "source": [
    "starwars %>% print"
   ]
  },
  {
   "cell_type": "code",
   "execution_count": null,
   "id": "39d14996",
   "metadata": {
    "vscode": {
     "languageId": "r"
    }
   },
   "outputs": [],
   "source": [
    "# Selecciona solo las columnas name, height y mass."
   ]
  },
  {
   "cell_type": "code",
   "execution_count": null,
   "id": "db21dc3c",
   "metadata": {
    "vscode": {
     "languageId": "r"
    }
   },
   "outputs": [],
   "source": [
    "starwars %>% select(name, height, mass) %>% arrange(mass) %>% head(10)"
   ]
  },
  {
   "cell_type": "code",
   "execution_count": null,
   "id": "49b980c5",
   "metadata": {
    "vscode": {
     "languageId": "r"
    }
   },
   "outputs": [],
   "source": [
    "starwars %>% select(name, height, mass) %>% slice_min(n = 10, mass)"
   ]
  },
  {
   "cell_type": "code",
   "execution_count": null,
   "id": "fb226015",
   "metadata": {
    "vscode": {
     "languageId": "r"
    }
   },
   "outputs": [],
   "source": [
    "# Agrupa los personajes por especie y calcula la masa promedio por grupo."
   ]
  },
  {
   "cell_type": "code",
   "execution_count": null,
   "id": "58abff56",
   "metadata": {
    "vscode": {
     "languageId": "r"
    }
   },
   "outputs": [],
   "source": [
    "starwars %>% group_by(species) %>% summarize(masa_promedio = mean(mass, na.rm = TRUE)) %>% \n",
    "    filter(!is.nan(masa_promedio))"
   ]
  },
  {
   "cell_type": "code",
   "execution_count": null,
   "id": "c8771be6",
   "metadata": {
    "vscode": {
     "languageId": "r"
    }
   },
   "outputs": [],
   "source": [
    "starwars %>% filter(species == \"Xexto\") %>% print"
   ]
  },
  {
   "cell_type": "code",
   "execution_count": null,
   "id": "2ab7a1d0",
   "metadata": {
    "vscode": {
     "languageId": "r"
    }
   },
   "outputs": [],
   "source": [
    "starwars %>% filter(species == \"Droid\") %>% select(name, species, height) %>% arrange(desc(height))"
   ]
  },
  {
   "cell_type": "code",
   "execution_count": null,
   "id": "01ed0ea3",
   "metadata": {
    "vscode": {
     "languageId": "r"
    }
   },
   "outputs": [],
   "source": [
    "# Encuentra el personaje más alto de cada especie.\n",
    "los_mas_altos <- starwars %>% group_by(species) %>% summarise(height = max(height, na.rm=TRUE))\n",
    "print(los_mas_altos)\n",
    "merge(starwars, los_mas_altos) %>% filter(species == \"Droid\") %>% print"
   ]
  },
  {
   "cell_type": "code",
   "execution_count": null,
   "id": "ac9d3c3c",
   "metadata": {
    "vscode": {
     "languageId": "r"
    }
   },
   "outputs": [],
   "source": [
    "starwars %>% group_by(species) %>% summarise(el_mas_alto = max(height, na.rm=TRUE))\n"
   ]
  },
  {
   "cell_type": "code",
   "execution_count": null,
   "id": "2a997b16",
   "metadata": {
    "vscode": {
     "languageId": "r"
    }
   },
   "outputs": [],
   "source": [
    "# Calcula el IMC (Índice de Masa Corporal) de cada personaje usando la fórmula...\n",
    "# Luego, ordena los personajes por IMC y filtra los que tienen valores extremos (IMC > 40 o < 15)."
   ]
  },
  {
   "cell_type": "code",
   "execution_count": null,
   "id": "84dab58f",
   "metadata": {
    "vscode": {
     "languageId": "r"
    }
   },
   "outputs": [],
   "source": [
    "starwars %>% select(name, height, mass) %>% mutate(imc = mass / ((height/100)^2)) %>% \n",
    "    arrange(imc) %>% filter(imc >= 15 & imc <= 40)"
   ]
  },
  {
   "cell_type": "code",
   "execution_count": null,
   "id": "a84ecc79",
   "metadata": {
    "vscode": {
     "languageId": "r"
    }
   },
   "outputs": [],
   "source": [
    "# Identifica los planetas (homeworld) con más diversidad de especies.\n",
    "starwars %>% \n",
    "    filter(!is.na(homeworld)) %>% \n",
    "    group_by(homeworld) %>% \n",
    "    summarize(diversidad = n_distinct(species)) %>%\n",
    "    arrange(desc(diversidad))"
   ]
  },
  {
   "cell_type": "code",
   "execution_count": null,
   "id": "983a21c7",
   "metadata": {
    "vscode": {
     "languageId": "r"
    }
   },
   "outputs": [],
   "source": [
    "summary(starwars)"
   ]
  },
  {
   "cell_type": "code",
   "execution_count": null,
   "id": "ca16c2e5",
   "metadata": {
    "vscode": {
     "languageId": "r"
    }
   },
   "outputs": [],
   "source": [
    "?quantile"
   ]
  },
  {
   "cell_type": "code",
   "execution_count": null,
   "id": "4d0a9d4f",
   "metadata": {
    "vscode": {
     "languageId": "r"
    }
   },
   "outputs": [],
   "source": [
    "qq0 <- starwars %>% summarize_if(is.numeric, quantile, probs = 0, na.rm = TRUE)\n",
    "qq1 <- starwars %>% summarize_if(is.numeric, quantile, probs = 0.25, na.rm = TRUE)\n",
    "print(qq0)\n",
    "print(qq1)"
   ]
  },
  {
   "cell_type": "code",
   "execution_count": null,
   "id": "47eea9e9",
   "metadata": {
    "vscode": {
     "languageId": "r"
    }
   },
   "outputs": [],
   "source": [
    "starwars %>% summarise_if(is.numeric, list(min, mean, max), na.rm = TRUE)"
   ]
  },
  {
   "cell_type": "code",
   "execution_count": null,
   "id": "e7bf4bc7",
   "metadata": {
    "vscode": {
     "languageId": "r"
    }
   },
   "outputs": [],
   "source": [
    "starwars %>% summarise_if(is.numeric, is.na) %>% summarise_all(sum)"
   ]
  },
  {
   "cell_type": "code",
   "execution_count": null,
   "id": "0653c345",
   "metadata": {
    "vscode": {
     "languageId": "r"
    }
   },
   "outputs": [],
   "source": [
    "starwars %>% mutate_if(is.numeric, is.na) %>% summarise_if(is.logical, sum)"
   ]
  }
 ],
 "metadata": {
  "kernelspec": {
   "display_name": "R",
   "language": "R",
   "name": "ir"
  },
  "language_info": {
   "codemirror_mode": "r",
   "file_extension": ".r",
   "mimetype": "text/x-r-source",
   "name": "R",
   "pygments_lexer": "r",
   "version": "4.5.1"
  }
 },
 "nbformat": 4,
 "nbformat_minor": 5
}
